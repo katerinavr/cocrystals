{
  "cells": [
    {
      "cell_type": "markdown",
      "metadata": {
        "id": "YQGFO76-4Ow5"
      },
      "source": [
        "Using a pretrained GNN based model as fingerprint for our molecular pairs"
      ]
    },
    {
      "cell_type": "code",
      "execution_count": null,
      "metadata": {
        "id": "yD4UiWRunAvM",
        "vscode": {
          "languageId": "python"
        }
      },
      "outputs": [],
      "source": [
        "#!pip install umap-learn"
      ]
    },
    {
      "cell_type": "code",
      "execution_count": null,
      "metadata": {
        "colab": {
          "base_uri": "https://localhost:8080/"
        },
        "id": "Xsy4y6gFOa4q",
        "outputId": "e13c27ad-98b8-4596-c5bc-6b307363de75",
        "vscode": {
          "languageId": "python"
        }
      },
      "outputs": [
        {
          "name": "stdout",
          "output_type": "stream",
          "text": [
            "Collecting rdkit-pypi\n",
            "  Downloading rdkit_pypi-2022.3.2.1-cp37-cp37m-manylinux_2_17_x86_64.manylinux2014_x86_64.whl (22.7 MB)\n",
            "\u001b[K     |████████████████████████████████| 22.7 MB 1.5 MB/s \n",
            "\u001b[?25hRequirement already satisfied: numpy in /usr/local/lib/python3.7/dist-packages (from rdkit-pypi) (1.21.6)\n",
            "Requirement already satisfied: Pillow in /usr/local/lib/python3.7/dist-packages (from rdkit-pypi) (7.1.2)\n",
            "Installing collected packages: rdkit-pypi\n",
            "Successfully installed rdkit-pypi-2022.3.2.1\n",
            "Collecting dgl\n",
            "  Downloading dgl-0.6.1-cp37-cp37m-manylinux1_x86_64.whl (4.4 MB)\n",
            "\u001b[K     |████████████████████████████████| 4.4 MB 4.7 MB/s \n",
            "\u001b[?25hRequirement already satisfied: requests>=2.19.0 in /usr/local/lib/python3.7/dist-packages (from dgl) (2.23.0)\n",
            "Requirement already satisfied: networkx>=2.1 in /usr/local/lib/python3.7/dist-packages (from dgl) (2.6.3)\n",
            "Requirement already satisfied: numpy>=1.14.0 in /usr/local/lib/python3.7/dist-packages (from dgl) (1.21.6)\n",
            "Requirement already satisfied: scipy>=1.1.0 in /usr/local/lib/python3.7/dist-packages (from dgl) (1.4.1)\n",
            "Requirement already satisfied: idna<3,>=2.5 in /usr/local/lib/python3.7/dist-packages (from requests>=2.19.0->dgl) (2.10)\n",
            "Requirement already satisfied: chardet<4,>=3.0.2 in /usr/local/lib/python3.7/dist-packages (from requests>=2.19.0->dgl) (3.0.4)\n",
            "Requirement already satisfied: certifi>=2017.4.17 in /usr/local/lib/python3.7/dist-packages (from requests>=2.19.0->dgl) (2021.10.8)\n",
            "Requirement already satisfied: urllib3!=1.25.0,!=1.25.1,<1.26,>=1.21.1 in /usr/local/lib/python3.7/dist-packages (from requests>=2.19.0->dgl) (1.24.3)\n",
            "Installing collected packages: dgl\n",
            "Successfully installed dgl-0.6.1\n"
          ]
        }
      ],
      "source": [
        "!pip install rdkit-pypi\n",
        "!pip install dgl"
      ]
    },
    {
      "cell_type": "code",
      "execution_count": null,
      "metadata": {
        "colab": {
          "base_uri": "https://localhost:8080/"
        },
        "id": "Jny916QX2GEa",
        "outputId": "c99636e8-2eef-41e5-d5ab-811241756a16",
        "vscode": {
          "languageId": "python"
        }
      },
      "outputs": [
        {
          "name": "stdout",
          "output_type": "stream",
          "text": [
            "Collecting dgl-cu101\n",
            "  Downloading dgl_cu101-0.6.1-cp37-cp37m-manylinux1_x86_64.whl (36.2 MB)\n",
            "\u001b[K     |████████████████████████████████| 36.2 MB 310 kB/s \n",
            "\u001b[?25hRequirement already satisfied: numpy>=1.14.0 in /usr/local/lib/python3.7/dist-packages (from dgl-cu101) (1.21.6)\n",
            "Requirement already satisfied: requests>=2.19.0 in /usr/local/lib/python3.7/dist-packages (from dgl-cu101) (2.23.0)\n",
            "Requirement already satisfied: scipy>=1.1.0 in /usr/local/lib/python3.7/dist-packages (from dgl-cu101) (1.4.1)\n",
            "Requirement already satisfied: networkx>=2.1 in /usr/local/lib/python3.7/dist-packages (from dgl-cu101) (2.6.3)\n",
            "Requirement already satisfied: idna<3,>=2.5 in /usr/local/lib/python3.7/dist-packages (from requests>=2.19.0->dgl-cu101) (2.10)\n",
            "Requirement already satisfied: certifi>=2017.4.17 in /usr/local/lib/python3.7/dist-packages (from requests>=2.19.0->dgl-cu101) (2021.10.8)\n",
            "Requirement already satisfied: urllib3!=1.25.0,!=1.25.1,<1.26,>=1.21.1 in /usr/local/lib/python3.7/dist-packages (from requests>=2.19.0->dgl-cu101) (1.24.3)\n",
            "Requirement already satisfied: chardet<4,>=3.0.2 in /usr/local/lib/python3.7/dist-packages (from requests>=2.19.0->dgl-cu101) (3.0.4)\n",
            "Installing collected packages: dgl-cu101\n",
            "Successfully installed dgl-cu101-0.6.1\n"
          ]
        }
      ],
      "source": [
        "!pip install dgl-cu101"
      ]
    },
    {
      "cell_type": "code",
      "execution_count": null,
      "metadata": {
        "id": "a6vx_0d12h4e",
        "vscode": {
          "languageId": "python"
        }
      },
      "outputs": [],
      "source": [
        "# Import the main libraries\n",
        "import pandas as pd\n",
        "import numpy as np\n",
        "import matplotlib.pyplot as plt\n",
        "from scipy.spatial.distance import pdist, squareform\n",
        "import subprocess\n",
        "import os\n",
        "import  sys\n",
        "# Evalute on the RC data\n",
        "# Import evaluation libraries\n",
        "from sklearn.metrics import confusion_matrix\n",
        "from sklearn.metrics import ConfusionMatrixDisplay\n",
        "from sklearn.metrics import roc_curve\n",
        "from sklearn.metrics import RocCurveDisplay\n",
        "from sklearn.metrics import roc_auc_score\n",
        "from sklearn.metrics import recall_score\n",
        "from sklearn.metrics import f1_score\n",
        "from sklearn.metrics import matthews_corrcoef\n",
        "from sklearn.preprocessing import MinMaxScaler\n",
        "from sklearn.metrics import f1_score\n",
        "from sklearn.metrics import matthews_corrcoef\n",
        "from rdkit import Chem\n",
        "from rdkit.Chem import AllChem"
      ]
    },
    {
      "cell_type": "code",
      "execution_count": null,
      "metadata": {
        "colab": {
          "base_uri": "https://localhost:8080/"
        },
        "id": "MH_LtI-Q2y9C",
        "outputId": "03ed401c-4af4-441a-8669-2c7b07c103b9",
        "vscode": {
          "languageId": "python"
        }
      },
      "outputs": [
        {
          "name": "stdout",
          "output_type": "stream",
          "text": [
            "Mounted at /content/drive\n"
          ]
        }
      ],
      "source": [
        "from google.colab import drive\n",
        "drive.mount('/content/drive')"
      ]
    },
    {
      "cell_type": "code",
      "execution_count": 167,
      "metadata": {
        "colab": {
          "base_uri": "https://localhost:8080/"
        },
        "id": "5bgWsIcdZUdA",
        "outputId": "9c60ffe7-8b64-4956-ffc6-7686aa209ddb",
        "vscode": {
          "languageId": "python"
        }
      },
      "outputs": [
        {
          "name": "stdout",
          "output_type": "stream",
          "text": [
            "4343\n",
            "744\n"
          ]
        }
      ],
      "source": [
        "# Training co-crystal data\n",
        "\n",
        "cocrystals= pd.read_csv('/content/drive/MyDrive/cocrystal_design-master/ccdc_ml_cocrystals/data_complete/csd_training_set.csv', encoding='latin1') \n",
        "train_cocrystal_smiles = set(np.concatenate([cocrystals.smiles1.values, cocrystals.smiles2.values]))\n",
        "print(len(train_cocrystal_smiles))\n",
        "\n",
        "# Validation co-crystal data\n",
        "validation_data = pd.read_csv('/content/drive/MyDrive/cocrystal_design-master/ccdc_ml_cocrystals/data_complete/cocrystal_screening_validation_database.csv', encoding='latin1')\n",
        "validation_data_smiles = set(np.concatenate([validation_data.smiles1.values, validation_data.smiles2.values]))\n",
        "print(len(validation_data_smiles))"
      ]
    },
    {
      "cell_type": "markdown",
      "metadata": {
        "id": "O97-sRE_wlKo"
      },
      "source": [
        "# Molecular graph embeddings"
      ]
    },
    {
      "cell_type": "code",
      "execution_count": 173,
      "metadata": {
        "id": "K5LuJ-_Tv4IF",
        "vscode": {
          "languageId": "python"
        }
      },
      "outputs": [],
      "source": [
        "def get_representation(dataset):\n",
        "    \"\"\" Given the smiles of a validation dataset convert it to fingerprint\n",
        "     representation \"\"\"  \n",
        "    wrong_smiles = [] \n",
        "    for i in dataset['smiles1'].values:\n",
        "        if Chem.MolFromSmiles(i) == None:\n",
        "            print('Wrong smiles1', i)\n",
        "            wrong_smiles.append(i)\n",
        "    for i in dataset['smiles2'].values:\n",
        "        if Chem.MolFromSmiles(i) == None:\n",
        "            print('Wrong smiles2', i)\n",
        "            wrong_smiles.append(i)\n",
        "    pd.DataFrame(wrong_smiles, columns=['wrong smiles']).to_csv('wrong_smiles.csv')\n",
        "    dataset = dataset[~dataset.Smiles1.isin(wrong_smiles)]\n",
        "    dataset = dataset[~dataset.Smiles2.isin(wrong_smiles)]\n",
        "    df = pd.concat([pd.DataFrame(dataset.Cocrystal.values,columns=['Cocrystal']) , \n",
        "    pd.DataFrame(dataset['smiles1'].values, columns=['smiles1'] ),\n",
        "    pd.DataFrame(dataset['smiles2'].values, columns=['smiles2'])], axis=1)\n",
        "    return df, wrong_smiles\n",
        "\n",
        "def smiles2txt(dataset, smiles1_file, smiles2_file):  \n",
        "    ''' reading the smiles from the csv file and saves them in txt file in order to get the \n",
        "    graph embendings from each smile'''\n",
        "\n",
        "    with open(os.path.join(\"/content/drive/MyDrive/cocrystal_design-master/ccdc_ml_cocrystals/gnn\", smiles1_file), 'w') as f:\n",
        "        for item in dataset['smiles1'].values:\n",
        "            f.write(\"%s\\n\" % item)\n",
        "\n",
        "    with open(os.path.join(\"/content/drive/MyDrive/cocrystal_design-master/ccdc_ml_cocrystals/gnn\", smiles2_file), 'w') as f:\n",
        "        for item in dataset['smiles2'].values:\n",
        "            f.write(\"%s\\n\" % item)"
      ]
    },
    {
      "cell_type": "code",
      "execution_count": 174,
      "metadata": {
        "id": "Zol6TgzOx3-l",
        "vscode": {
          "languageId": "python"
        }
      },
      "outputs": [],
      "source": [
        "!cp '/content/drive/MyDrive/cocrystal_design-master/ccdc_ml_cocrystals/dgl-lifesci/python/main.py' '/content/drive/MyDrive/cocrystal_design-master/ccdc_ml_cocrystals/gnn'"
      ]
    },
    {
      "cell_type": "code",
      "execution_count": 175,
      "metadata": {
        "id": "-AsVCc3mv-dO",
        "vscode": {
          "languageId": "python"
        }
      },
      "outputs": [],
      "source": [
        "smiles2txt(validation_data, 'smiles1.txt','smiles2.txt')"
      ]
    },
    {
      "cell_type": "code",
      "execution_count": 176,
      "metadata": {
        "colab": {
          "base_uri": "https://localhost:8080/"
        },
        "id": "t2zMG4d3MSIS",
        "outputId": "7606c91a-c286-46d7-cf04-bcf5acbbca37",
        "vscode": {
          "languageId": "python"
        }
      },
      "outputs": [
        {
          "name": "stdout",
          "output_type": "stream",
          "text": [
            "2427 /content/drive/MyDrive/cocrystal_design-master/ccdc_ml_cocrystals/gnn/smiles2.txt\n"
          ]
        }
      ],
      "source": [
        "!wc -l /content/drive/MyDrive/cocrystal_design-master/ccdc_ml_cocrystals/gnn/smiles2.txt"
      ]
    },
    {
      "cell_type": "code",
      "execution_count": 177,
      "metadata": {
        "colab": {
          "base_uri": "https://localhost:8080/"
        },
        "id": "jWndBKjTz-KH",
        "outputId": "d348f4ee-3707-4d6a-fcc5-d2fab508eebb",
        "vscode": {
          "languageId": "python"
        }
      },
      "outputs": [
        {
          "name": "stdout",
          "output_type": "stream",
          "text": [
            "Overwriting /tmp/dgl_lifesci.sh\n"
          ]
        }
      ],
      "source": [
        "%%writefile /tmp/dgl_lifesci.sh\n",
        "#!/usr/bin/env bash\n",
        "\n",
        "# This bash script is simply a useful utility for running dgl-lifesci main script\n",
        "# without having to have long path names and so on\n",
        "\n",
        "export COCRYSTAL_PATH=\"/content/drive/MyDrive/cocrystal_design-master/ccdc_ml_cocrystals\"\n",
        "export DGLLIFESCI=$COCRYSTAL_PATH/dgl-lifesci/python\n",
        "\n",
        "PYTHONPATH=$DGLLIFESCI python3 $DGLLIFESCI/main.py \"$@\""
      ]
    },
    {
      "cell_type": "code",
      "execution_count": 178,
      "metadata": {
        "id": "R9JbccA70JIL",
        "vscode": {
          "languageId": "python"
        }
      },
      "outputs": [],
      "source": [
        "!chmod +x /tmp/dgl_lifesci.sh"
      ]
    },
    {
      "cell_type": "code",
      "execution_count": 179,
      "metadata": {
        "id": "wqv-SF8PSXns",
        "vscode": {
          "languageId": "python"
        }
      },
      "outputs": [],
      "source": [
        "GNN_DIR = \"/content/drive/MyDrive/cocrystal_design-master/ccdc_ml_cocrystals/gnn/\""
      ]
    },
    {
      "cell_type": "code",
      "execution_count": 180,
      "metadata": {
        "colab": {
          "base_uri": "https://localhost:8080/"
        },
        "id": "g3Ufb7Dl0Lf1",
        "outputId": "d7a667a7-6236-41c3-f9d4-36e308e68afb",
        "vscode": {
          "languageId": "python"
        }
      },
      "outputs": [
        {
          "name": "stdout",
          "output_type": "stream",
          "text": [
            "Using backend: pytorch\n",
            "Directory /content/drive/MyDrive/cocrystal_design-master/ccdc_ml_cocrystals/gnn//results1 already exists.\n",
            "Downloading gin_supervised_masking_pre_trained.pth from https://data.dgl.ai/dgllife/pre_trained/gin_supervised_masking.pth...\n",
            "Pretrained model loaded\n",
            "Processing batch 1/10\n",
            "Processing batch 2/10\n",
            "Processing batch 3/10\n",
            "Processing batch 4/10\n",
            "Processing batch 5/10\n",
            "Processing batch 6/10\n",
            "Processing batch 7/10\n",
            "Processing batch 8/10\n",
            "Processing batch 9/10\n",
            "Processing batch 10/10\n",
            "Using backend: pytorch\n",
            "Directory /content/drive/MyDrive/cocrystal_design-master/ccdc_ml_cocrystals/gnn//results2 already exists.\n",
            "Downloading gin_supervised_masking_pre_trained.pth from https://data.dgl.ai/dgllife/pre_trained/gin_supervised_masking.pth...\n",
            "Pretrained model loaded\n",
            "Processing batch 1/10\n",
            "Processing batch 2/10\n",
            "Processing batch 3/10\n",
            "Processing batch 4/10\n",
            "Processing batch 5/10\n",
            "Processing batch 6/10\n",
            "Processing batch 7/10\n",
            "Processing batch 8/10\n",
            "Processing batch 9/10\n",
            "Processing batch 10/10\n"
          ]
        }
      ],
      "source": [
        "!/tmp/dgl_lifesci.sh -fi {GNN_DIR}/smiles1.txt -m gin_supervised_masking -o {GNN_DIR}/results1\n",
        "!/tmp/dgl_lifesci.sh -fi {GNN_DIR}/smiles2.txt -m gin_supervised_masking -o {GNN_DIR}/results2"
      ]
    },
    {
      "cell_type": "code",
      "execution_count": 181,
      "metadata": {
        "colab": {
          "base_uri": "https://localhost:8080/"
        },
        "id": "nU_YLHAYyOGX",
        "outputId": "1aa4ef51-44bc-4bb2-f79d-34bc0f37b442",
        "vscode": {
          "languageId": "python"
        }
      },
      "outputs": [
        {
          "name": "stdout",
          "output_type": "stream",
          "text": [
            "(2427, 300)\n",
            "(2427, 300)\n"
          ]
        }
      ],
      "source": [
        "valid1 = np.load(f'{GNN_DIR}/results1/mol_emb.npy')\n",
        "valid2 = np.load(f'{GNN_DIR}/results2/mol_emb.npy')\n",
        "print(valid1.shape)\n",
        "print(valid2.shape)\n",
        "validation_set = pd.concat([pd.DataFrame(valid1), pd.DataFrame(valid2)],axis=1)"
      ]
    },
    {
      "cell_type": "code",
      "execution_count": 365,
      "metadata": {
        "id": "w-qoG_dxdeUt",
        "vscode": {
          "languageId": "python"
        }
      },
      "outputs": [],
      "source": [
        "val_label = validation_data['Co-crystal']\n",
        "val_data = validation_set\n",
        "val_data_label=val_label"
      ]
    },
    {
      "cell_type": "code",
      "execution_count": 78,
      "metadata": {
        "colab": {
          "base_uri": "https://localhost:8080/"
        },
        "id": "gWxuVMFK45mx",
        "outputId": "428270f1-9f5e-4b84-9007-ff1b99c53c5a",
        "vscode": {
          "languageId": "python"
        }
      },
      "outputs": [
        {
          "name": "stdout",
          "output_type": "stream",
          "text": [
            "Using backend: pytorch\n",
            "Directory /content/drive/MyDrive/cocrystal_design-master/ccdc_ml_cocrystals/gnn//csd_results1 already exists.\n",
            "Downloading gin_supervised_masking_pre_trained.pth from https://data.dgl.ai/dgllife/pre_trained/gin_supervised_masking.pth...\n",
            "Pretrained model loaded\n",
            "Processing batch 1/28\n",
            "Processing batch 2/28\n",
            "Processing batch 3/28\n",
            "Processing batch 4/28\n",
            "Processing batch 5/28\n",
            "Processing batch 6/28\n",
            "Processing batch 7/28\n",
            "Processing batch 8/28\n",
            "Processing batch 9/28\n",
            "Processing batch 10/28\n",
            "Processing batch 11/28\n",
            "Processing batch 12/28\n",
            "Processing batch 13/28\n",
            "Processing batch 14/28\n",
            "Processing batch 15/28\n",
            "Processing batch 16/28\n",
            "Processing batch 17/28\n",
            "Processing batch 18/28\n",
            "Processing batch 19/28\n",
            "Processing batch 20/28\n",
            "Processing batch 21/28\n",
            "Processing batch 22/28\n",
            "Processing batch 23/28\n",
            "Processing batch 24/28\n",
            "Processing batch 25/28\n",
            "Processing batch 26/28\n",
            "Processing batch 27/28\n",
            "Processing batch 28/28\n",
            "Using backend: pytorch\n",
            "Directory /content/drive/MyDrive/cocrystal_design-master/ccdc_ml_cocrystals/gnn//csd_results2 already exists.\n",
            "Downloading gin_supervised_masking_pre_trained.pth from https://data.dgl.ai/dgllife/pre_trained/gin_supervised_masking.pth...\n",
            "Pretrained model loaded\n",
            "Processing batch 1/28\n",
            "Processing batch 2/28\n",
            "Processing batch 3/28\n",
            "Processing batch 4/28\n",
            "Processing batch 5/28\n",
            "Processing batch 6/28\n",
            "Processing batch 7/28\n",
            "Processing batch 8/28\n",
            "Processing batch 9/28\n",
            "Processing batch 10/28\n",
            "Processing batch 11/28\n",
            "Processing batch 12/28\n",
            "Processing batch 13/28\n",
            "Processing batch 14/28\n",
            "Processing batch 15/28\n",
            "Processing batch 16/28\n",
            "Processing batch 17/28\n",
            "Processing batch 18/28\n",
            "Processing batch 19/28\n",
            "Processing batch 20/28\n",
            "Processing batch 21/28\n",
            "Processing batch 22/28\n",
            "Processing batch 23/28\n",
            "Processing batch 24/28\n",
            "Processing batch 25/28\n",
            "Processing batch 26/28\n",
            "Processing batch 27/28\n",
            "Processing batch 28/28\n"
          ]
        }
      ],
      "source": [
        "smiles2txt(cocrystals, 'csd_smiles1.txt','csd_smiles2.txt')\n",
        "\n",
        "!/tmp/dgl_lifesci.sh -fi {GNN_DIR}/csd_smiles1.txt -m gin_supervised_masking -o {GNN_DIR}/csd_results1\n",
        "!/tmp/dgl_lifesci.sh -fi {GNN_DIR}/csd_smiles2.txt -m gin_supervised_masking -o {GNN_DIR}/csd_results2"
      ]
    },
    {
      "cell_type": "code",
      "execution_count": 79,
      "metadata": {
        "colab": {
          "base_uri": "https://localhost:8080/"
        },
        "id": "7VqU9GIxI4fN",
        "outputId": "42c67f7e-561c-42f0-94e3-a761c106e625",
        "vscode": {
          "languageId": "python"
        }
      },
      "outputs": [
        {
          "name": "stdout",
          "output_type": "stream",
          "text": [
            "Using backend: pytorch\n",
            "Directory /content/drive/MyDrive/cocrystal_design-master/ccdc_ml_cocrystals/gnn//csd_results1 already exists.\n",
            "Downloading gin_supervised_masking_pre_trained.pth from https://data.dgl.ai/dgllife/pre_trained/gin_supervised_masking.pth...\n",
            "Pretrained model loaded\n",
            "Processing batch 1/28\n",
            "Processing batch 2/28\n",
            "Processing batch 3/28\n",
            "Processing batch 4/28\n",
            "Processing batch 5/28\n",
            "Processing batch 6/28\n",
            "Processing batch 7/28\n",
            "Processing batch 8/28\n",
            "Processing batch 9/28\n",
            "Processing batch 10/28\n",
            "Processing batch 11/28\n",
            "Processing batch 12/28\n",
            "Processing batch 13/28\n",
            "Processing batch 14/28\n",
            "Processing batch 15/28\n",
            "Processing batch 16/28\n",
            "Processing batch 17/28\n",
            "Processing batch 18/28\n",
            "Processing batch 19/28\n",
            "Processing batch 20/28\n",
            "Processing batch 21/28\n",
            "Processing batch 22/28\n",
            "Processing batch 23/28\n",
            "Processing batch 24/28\n",
            "Processing batch 25/28\n",
            "Processing batch 26/28\n",
            "Processing batch 27/28\n",
            "Processing batch 28/28\n",
            "Using backend: pytorch\n",
            "Directory /content/drive/MyDrive/cocrystal_design-master/ccdc_ml_cocrystals/gnn//csd_results2 already exists.\n",
            "Downloading gin_supervised_masking_pre_trained.pth from https://data.dgl.ai/dgllife/pre_trained/gin_supervised_masking.pth...\n",
            "Pretrained model loaded\n",
            "Processing batch 1/28\n",
            "Processing batch 2/28\n",
            "Processing batch 3/28\n",
            "Processing batch 4/28\n",
            "Processing batch 5/28\n",
            "Processing batch 6/28\n",
            "Processing batch 7/28\n",
            "Processing batch 8/28\n",
            "Processing batch 9/28\n",
            "Processing batch 10/28\n",
            "Processing batch 11/28\n",
            "Processing batch 12/28\n",
            "Processing batch 13/28\n",
            "Processing batch 14/28\n",
            "Processing batch 15/28\n",
            "Processing batch 16/28\n",
            "Processing batch 17/28\n",
            "Processing batch 18/28\n",
            "Processing batch 19/28\n",
            "Processing batch 20/28\n",
            "Processing batch 21/28\n",
            "Processing batch 22/28\n",
            "Processing batch 23/28\n",
            "Processing batch 24/28\n",
            "Processing batch 25/28\n",
            "Processing batch 26/28\n",
            "Processing batch 27/28\n",
            "Processing batch 28/28\n"
          ]
        }
      ],
      "source": [
        "#smiles2txt(cocrystals1, 'csd_smiles1.txt','csd_smiles2.txt')\n",
        "\n",
        "!/tmp/dgl_lifesci.sh -fi {GNN_DIR}/csd_smiles1.txt -m gin_supervised_masking -o {GNN_DIR}/csd_results1\n",
        "!/tmp/dgl_lifesci.sh -fi {GNN_DIR}/csd_smiles2.txt -m gin_supervised_masking -o {GNN_DIR}/csd_results2"
      ]
    },
    {
      "cell_type": "code",
      "execution_count": 80,
      "metadata": {
        "id": "1ek9rAY0vsgp",
        "vscode": {
          "languageId": "python"
        }
      },
      "outputs": [],
      "source": [
        "cocrystal1= np.load(f'{GNN_DIR}/csd_results1/mol_emb.npy')\n",
        "cocrystal2=np.load(f'{GNN_DIR}/csd_results2/mol_emb.npy')\n",
        "df_train = pd.concat([pd.DataFrame(cocrystal1), pd.DataFrame(cocrystal2)],axis=1)"
      ]
    },
    {
      "cell_type": "markdown",
      "metadata": {
        "id": "P4eeDdaji9VM"
      },
      "source": [
        "# Deep one class"
      ]
    },
    {
      "cell_type": "code",
      "execution_count": 185,
      "metadata": {
        "colab": {
          "base_uri": "https://localhost:8080/"
        },
        "id": "F5wtHpR8UQLi",
        "outputId": "5647dea8-f6ed-42f6-d024-07d92238625a",
        "vscode": {
          "languageId": "python"
        }
      },
      "outputs": [
        {
          "name": "stdout",
          "output_type": "stream",
          "text": [
            "/content/drive/.shortcut-targets-by-id/1OfY2PW77dTgP9czKrwWu5DOIAtVGbYk4/cocrystal_design-master/models/deep_one_class\n",
            "/content/drive/.shortcut-targets-by-id/1OfY2PW77dTgP9czKrwWu5DOIAtVGbYk4/cocrystal_design-master/models/deep_one_class/src/set_transformer\n"
          ]
        }
      ],
      "source": [
        "# Import the neural network architectures and libraries\n",
        "%cd /content/drive/My Drive/cocrystal_design-master/models/deep_one_class\n",
        "%cd src/set_transformer\n",
        "import torch\n",
        "import torch.nn as nn\n",
        "from torch.utils.data import DataLoader, Dataset, Subset\n",
        "import torch.nn.functional as F\n",
        "from modules import SAB, PMA, ISAB\n",
        "import tqdm\n",
        "import logging\n",
        "import random"
      ]
    },
    {
      "cell_type": "code",
      "execution_count": 186,
      "metadata": {
        "colab": {
          "base_uri": "https://localhost:8080/"
        },
        "id": "6ZupTEMBaV8Y",
        "outputId": "8c1c0e5c-a9f0-47a1-de17-ce04765c8766",
        "vscode": {
          "languageId": "python"
        }
      },
      "outputs": [
        {
          "name": "stdout",
          "output_type": "stream",
          "text": [
            "/content/drive/.shortcut-targets-by-id/1OfY2PW77dTgP9czKrwWu5DOIAtVGbYk4/cocrystal_design-master/models/deep_one_class/src\n"
          ]
        }
      ],
      "source": [
        "\n",
        "#torch.cuda.empty_cache() \n",
        "% cd ..\n",
        "from base.torchvision_dataset import TorchvisionDataset\n",
        "\n",
        "from utils.config import Config\n",
        "import deepSVDD\n",
        "from base.base_net import BaseNet"
      ]
    },
    {
      "cell_type": "code",
      "execution_count": 187,
      "metadata": {
        "id": "myDfBPMG4EoB",
        "vscode": {
          "languageId": "python"
        }
      },
      "outputs": [],
      "source": [
        "class Pairs_Dataset(TorchvisionDataset):\n",
        "\n",
        "    def __init__(self, root: str, train_idx=None, test_idx=None, data=None):\n",
        "        super().__init__(root)\n",
        "        ## Loading the train set\n",
        "        self.train_set = Pairs(root=self.root, train=True, data=data)\n",
        "        if train_idx is not None:\n",
        "          self.train_set = Subset(self.train_set, train_idx)\n",
        "        ## Loading the test set\n",
        "        self.test_set = Pairs(root=self.root, train=False, data=data)\n",
        "        if test_idx is not None:\n",
        "            self.test_set = Subset(self.test_set, test_idx)\n",
        "\n",
        "class Pairs(Dataset):\n",
        "\n",
        "    def __init__(self, root, train, data=None):\n",
        "        super(Pairs, self).__init__()\n",
        "\n",
        "        self.train = train\n",
        "\n",
        "        if train:\n",
        "          # Setup the train dataset\n",
        "          self.data=data.values.astype('f')\n",
        "          self.labels=np.zeros(self.data.shape[0])\n",
        "\n",
        "        else:\n",
        "          # Setup the test dataset\n",
        "          self.data = pd.DataFrame(val_data.values).values.astype('f')\n",
        "          self.labels = np.abs(pd.DataFrame(val_data_label.values).values - 1)\n",
        "\n",
        "\n",
        "    # This is used to return a single datapoint\n",
        "    def __getitem__(self, index):\n",
        "        return self.data[index], self.labels[index], index\n",
        "\n",
        "    # For Pytorch to know how many datapoints are in the dataset\n",
        "    def __len__(self):\n",
        "        return len(self.data)\n",
        "        return self.decoder(self.encoder(x))"
      ]
    },
    {
      "cell_type": "code",
      "execution_count": 188,
      "metadata": {
        "id": "FeMjR-XM-BQg",
        "vscode": {
          "languageId": "python"
        }
      },
      "outputs": [],
      "source": [
        "def init_weights(m):\n",
        "    if type(m) == nn.Linear:\n",
        "        torch.nn.init.xavier_uniform(m.weight)\n",
        "        m.bias.data.fill_(0.01)\n"
      ]
    },
    {
      "cell_type": "code",
      "execution_count": 193,
      "metadata": {
        "id": "sdiIVNIZnedN",
        "vscode": {
          "languageId": "python"
        }
      },
      "outputs": [],
      "source": [
        "class PairsEncoder(nn.Module):\n",
        "\n",
        "    def __init__(self,proba=0.1):\n",
        "        super().__init__()\n",
        "        self.rep_dim = 50\n",
        "        self.seq = nn.Sequential(SAB(dim_in=300, dim_out=150, num_heads=5),\n",
        "                                 nn.Dropout(p=proba),\n",
        "            SAB(dim_in=150, dim_out=50, num_heads=5),\n",
        "        PMA(dim=50, num_heads=2, num_seeds=1))\n",
        "\n",
        "    def forward(self, inp):\n",
        "      x = torch.split(inp, 300, dim=1)     \n",
        "      x= torch.stack(x).transpose(0,1)\n",
        "      x = self.seq(x).squeeze()\n",
        "      return x.view(inp.size(0), -1)\n",
        "\n",
        "\n",
        "class PairsAutoEncoder(nn.Module):\n",
        "    def __init__(self, proba=0.1):\n",
        "        super().__init__()\n",
        "        self.encoder = PairsEncoder(proba)\n",
        "        self.encoder.apply(init_weights)\n",
        "        self.decoder = nn.Sequential( nn.Linear(in_features=50, out_features=300), nn.LeakyReLU(),\n",
        "        nn.Linear(in_features=300, out_features=600))\n",
        "        self.decoder.apply(init_weights)\n",
        "    def forward(self, x):\n",
        "        return self.decoder(self.encoder(x)).squeeze()"
      ]
    },
    {
      "cell_type": "code",
      "execution_count": 194,
      "metadata": {
        "id": "XWDBf19N4PhB",
        "vscode": {
          "languageId": "python"
        }
      },
      "outputs": [],
      "source": [
        "def build_autoencoder(net_name):\n",
        "    return PairsAutoEncoder()\n",
        "\n",
        "def build_network(net_name):  \n",
        "  return PairsEncoder()\n",
        "\n",
        "torch.manual_seed(0)#\n",
        "deepSVDD.build_network = build_network\n",
        "deepSVDD.build_autoencoder = build_autoencoder"
      ]
    },
    {
      "cell_type": "code",
      "execution_count": 195,
      "metadata": {
        "id": "zUO1X-bG3LNk",
        "vscode": {
          "languageId": "python"
        }
      },
      "outputs": [],
      "source": [
        "logging.basicConfig(level=logging.INFO)\n",
        "logger = logging.getLogger()\n",
        "logger.setLevel(logging.INFO)\n",
        "formatter = logging.Formatter('%(asctime)s - %(name)s - %(levelname)s - %(message)s')\n",
        "log_file = './log.txt'\n",
        "file_handler = logging.FileHandler(log_file)\n",
        "file_handler.setLevel(logging.INFO)\n",
        "file_handler.setFormatter(formatter)\n",
        "logger.addHandler(file_handler)"
      ]
    },
    {
      "cell_type": "code",
      "execution_count": 196,
      "metadata": {
        "id": "kLvLyxsF3LNw",
        "vscode": {
          "languageId": "python"
        }
      },
      "outputs": [],
      "source": [
        "cfg = Config({'normal_class': 1, \n",
        "              'n_jobs_dataloader': 0, \n",
        "              'ae_weight_decay': 0.0005, \n",
        "              'ae_batch_size': 200, \n",
        "              'ae_lr_milestone': (50,), \n",
        "              'ae_n_epochs': 5, \n",
        "              'ae_lr': 0.0001,\n",
        "              'ae_optimizer_name': 'adam', \n",
        "              'pretrain': True, \n",
        "              'weight_decay': 5e-07,\n",
        "              'batch_size': 200, \n",
        "              'lr_milestone': (50,),\n",
        "              'n_epochs': 5, \n",
        "              'lr': 0.0001, \n",
        "              'optimizer_name': 'adam', \n",
        "              'seed': 0, \n",
        "              'device': 'cuda', \n",
        "              'nu': 0.05, \n",
        "              'objective':  'one-class', \n",
        "              'load_model': None, \n",
        "              'load_config': None,'dataset_name': 'cocry', 'net_name': 'CocryNet'} )"
      ]
    },
    {
      "cell_type": "code",
      "execution_count": 197,
      "metadata": {
        "id": "rir4Ak7F3LN2",
        "vscode": {
          "languageId": "python"
        }
      },
      "outputs": [],
      "source": [
        "dataset_name = cfg.settings['dataset_name']\n",
        "normal_class = cfg.settings['normal_class']\n",
        "net_name = cfg.settings['net_name']\n",
        "n_jobs_dataloader = 0\n",
        "\n",
        "dataset = Pairs_Dataset('', data= df_train.iloc[:, :] )#df.iloc[:1600, 1:])  #load_dataset(dataset_name, data_path, normal_class) KatPair(df1_scaled, df2_scaled) #"
      ]
    },
    {
      "cell_type": "code",
      "execution_count": 198,
      "metadata": {
        "id": "30iV5FI00Iuk",
        "vscode": {
          "languageId": "python"
        }
      },
      "outputs": [],
      "source": [
        "def set_seed():\n",
        "  seed = cfg.settings.get('seed', 0)\n",
        "  random.seed(seed)\n",
        "  np.random.seed(seed)\n",
        "  torch.manual_seed(seed)"
      ]
    },
    {
      "cell_type": "code",
      "execution_count": 199,
      "metadata": {
        "id": "aaf7r5HU3LOS",
        "vscode": {
          "languageId": "python"
        }
      },
      "outputs": [],
      "source": [
        "set_seed()\n",
        "deep_SVDD = deepSVDD.DeepSVDD(cfg.settings['objective'], cfg.settings['nu'])\n",
        "deep_SVDD.set_network(net_name)\n",
        "device = 'cuda' if torch.cuda.is_available() else 'cpu'"
      ]
    },
    {
      "cell_type": "code",
      "execution_count": 200,
      "metadata": {
        "id": "f2VxhN2XlCKw",
        "vscode": {
          "languageId": "python"
        }
      },
      "outputs": [],
      "source": [
        "torch.backends.cudnn.deterministic = True\n",
        "torch.backends.cudnn.benchmark = False"
      ]
    },
    {
      "cell_type": "code",
      "execution_count": 203,
      "metadata": {
        "colab": {
          "base_uri": "https://localhost:8080/"
        },
        "id": "MTOi6vV54pDQ",
        "outputId": "97120a69-0ad5-4b3f-da84-aa794b26166d",
        "vscode": {
          "languageId": "python"
        }
      },
      "outputs": [
        {
          "name": "stderr",
          "output_type": "stream",
          "text": [
            "/usr/local/lib/python3.7/dist-packages/ipykernel_launcher.py:3: UserWarning: nn.init.xavier_uniform is now deprecated in favor of nn.init.xavier_uniform_.\n",
            "  This is separate from the ipykernel package so we can avoid doing imports until\n",
            "INFO:root:Starting pretraining...\n",
            "/usr/local/lib/python3.7/dist-packages/torch/optim/lr_scheduler.py:136: UserWarning: Detected call of `lr_scheduler.step()` before `optimizer.step()`. In PyTorch 1.1.0 and later, you should call them in the opposite order: `optimizer.step()` before `lr_scheduler.step()`.  Failure to do this will result in PyTorch skipping the first value of the learning rate schedule. See more details at https://pytorch.org/docs/stable/optim.html#how-to-adjust-learning-rate\n",
            "  \"https://pytorch.org/docs/stable/optim.html#how-to-adjust-learning-rate\", UserWarning)\n",
            "INFO:root:  Epoch 1/100\t Time: 2.432\t Loss: 17.52518116\n",
            "INFO:root:  Epoch 2/100\t Time: 2.451\t Loss: 10.83926573\n",
            "INFO:root:  Epoch 3/100\t Time: 2.408\t Loss: 9.19766824\n",
            "INFO:root:  Epoch 4/100\t Time: 2.419\t Loss: 8.43789124\n",
            "INFO:root:  Epoch 5/100\t Time: 2.376\t Loss: 7.74381229\n",
            "INFO:root:  Epoch 6/100\t Time: 2.784\t Loss: 7.27178870\n",
            "INFO:root:  Epoch 7/100\t Time: 5.860\t Loss: 6.93630435\n",
            "INFO:root:  Epoch 8/100\t Time: 3.553\t Loss: 6.52162311\n",
            "INFO:root:  Epoch 9/100\t Time: 2.410\t Loss: 6.26933663\n",
            "INFO:root:  Epoch 10/100\t Time: 2.413\t Loss: 6.33120132\n",
            "INFO:root:  Epoch 11/100\t Time: 2.445\t Loss: 6.11092996\n",
            "INFO:root:  Epoch 12/100\t Time: 2.419\t Loss: 5.87572362\n",
            "INFO:root:  Epoch 13/100\t Time: 2.472\t Loss: 5.60770941\n",
            "INFO:root:  Epoch 14/100\t Time: 2.415\t Loss: 5.92113725\n",
            "INFO:root:  Epoch 15/100\t Time: 2.405\t Loss: 5.40430366\n",
            "INFO:root:  Epoch 16/100\t Time: 2.384\t Loss: 5.32770634\n",
            "INFO:root:  Epoch 17/100\t Time: 2.396\t Loss: 5.22341491\n",
            "INFO:root:  Epoch 18/100\t Time: 2.405\t Loss: 5.03000463\n",
            "INFO:root:  Epoch 19/100\t Time: 2.386\t Loss: 5.02759374\n",
            "INFO:root:  Epoch 20/100\t Time: 2.373\t Loss: 5.59656512\n",
            "INFO:root:  Epoch 21/100\t Time: 2.368\t Loss: 5.01706580\n",
            "INFO:root:  Epoch 22/100\t Time: 2.378\t Loss: 4.85651270\n",
            "INFO:root:  Epoch 23/100\t Time: 2.321\t Loss: 4.85250920\n",
            "INFO:root:  Epoch 24/100\t Time: 2.340\t Loss: 4.76921635\n",
            "INFO:root:  Epoch 25/100\t Time: 2.350\t Loss: 4.63465904\n",
            "INFO:root:  Epoch 26/100\t Time: 2.346\t Loss: 4.66856644\n",
            "INFO:root:  Epoch 27/100\t Time: 2.392\t Loss: 4.50078575\n",
            "INFO:root:  Epoch 28/100\t Time: 2.419\t Loss: 4.53037047\n",
            "INFO:root:  Epoch 29/100\t Time: 2.368\t Loss: 4.58156022\n",
            "INFO:root:  Epoch 30/100\t Time: 2.374\t Loss: 4.63127216\n",
            "INFO:root:  Epoch 31/100\t Time: 2.405\t Loss: 4.49614033\n",
            "INFO:root:  Epoch 32/100\t Time: 2.381\t Loss: 4.32290987\n",
            "INFO:root:  Epoch 33/100\t Time: 2.331\t Loss: 4.31367600\n",
            "INFO:root:  Epoch 34/100\t Time: 2.348\t Loss: 5.10520317\n",
            "INFO:root:  Epoch 35/100\t Time: 2.358\t Loss: 4.47902000\n",
            "INFO:root:  Epoch 36/100\t Time: 2.361\t Loss: 4.31769457\n",
            "INFO:root:  Epoch 37/100\t Time: 2.396\t Loss: 4.25933372\n",
            "INFO:root:  Epoch 38/100\t Time: 2.366\t Loss: 4.23539531\n",
            "INFO:root:  Epoch 39/100\t Time: 2.388\t Loss: 4.13744764\n",
            "INFO:root:  Epoch 40/100\t Time: 2.339\t Loss: 4.12890033\n",
            "INFO:root:  Epoch 41/100\t Time: 2.479\t Loss: 4.08516625\n",
            "INFO:root:  Epoch 42/100\t Time: 2.507\t Loss: 4.20595780\n",
            "INFO:root:  Epoch 43/100\t Time: 2.374\t Loss: 4.18578455\n",
            "INFO:root:  Epoch 44/100\t Time: 2.368\t Loss: 4.17367875\n",
            "INFO:root:  Epoch 45/100\t Time: 2.373\t Loss: 4.20770832\n",
            "INFO:root:  Epoch 46/100\t Time: 2.355\t Loss: 4.18418675\n",
            "INFO:root:  Epoch 47/100\t Time: 2.368\t Loss: 4.22624502\n",
            "INFO:root:  Epoch 48/100\t Time: 2.391\t Loss: 4.11659511\n",
            "INFO:root:  Epoch 49/100\t Time: 2.384\t Loss: 4.16190339\n",
            "INFO:root:  Epoch 50/100\t Time: 2.344\t Loss: 4.02047225\n",
            "INFO:root:  Epoch 51/100\t Time: 2.376\t Loss: 4.08218318\n",
            "INFO:root:  Epoch 52/100\t Time: 2.371\t Loss: 3.95934702\n",
            "INFO:root:  Epoch 53/100\t Time: 2.378\t Loss: 3.98477080\n",
            "INFO:root:  Epoch 54/100\t Time: 2.420\t Loss: 3.89546803\n",
            "INFO:root:  Epoch 55/100\t Time: 2.355\t Loss: 3.76766947\n",
            "INFO:root:  Epoch 56/100\t Time: 2.386\t Loss: 3.85031276\n",
            "INFO:root:  Epoch 57/100\t Time: 2.407\t Loss: 3.88400352\n",
            "INFO:root:  Epoch 58/100\t Time: 2.393\t Loss: 3.93235894\n",
            "INFO:root:  Epoch 59/100\t Time: 2.363\t Loss: 4.11657495\n",
            "INFO:root:  Epoch 60/100\t Time: 2.352\t Loss: 3.84475340\n",
            "INFO:root:  Epoch 61/100\t Time: 2.365\t Loss: 4.00171417\n",
            "INFO:root:  Epoch 62/100\t Time: 2.352\t Loss: 4.55034116\n",
            "INFO:root:  Epoch 63/100\t Time: 2.391\t Loss: 3.94116431\n",
            "INFO:root:  Epoch 64/100\t Time: 2.366\t Loss: 4.00407301\n",
            "INFO:root:  Epoch 65/100\t Time: 2.318\t Loss: 3.97176331\n",
            "INFO:root:  Epoch 66/100\t Time: 2.384\t Loss: 3.99230152\n",
            "INFO:root:  Epoch 67/100\t Time: 2.377\t Loss: 3.89356239\n",
            "INFO:root:  Epoch 68/100\t Time: 2.392\t Loss: 3.76730309\n",
            "INFO:root:  Epoch 69/100\t Time: 2.363\t Loss: 3.83129374\n",
            "INFO:root:  Epoch 70/100\t Time: 2.442\t Loss: 3.74897984\n",
            "INFO:root:  Epoch 71/100\t Time: 2.399\t Loss: 3.62517799\n",
            "INFO:root:  Epoch 72/100\t Time: 2.350\t Loss: 3.72452024\n",
            "INFO:root:  Epoch 73/100\t Time: 2.354\t Loss: 3.73159909\n",
            "INFO:root:  Epoch 74/100\t Time: 2.381\t Loss: 3.81549654\n",
            "INFO:root:  Epoch 75/100\t Time: 2.355\t Loss: 3.74699303\n",
            "INFO:root:  Epoch 76/100\t Time: 2.391\t Loss: 3.63447033\n",
            "INFO:root:  Epoch 77/100\t Time: 2.390\t Loss: 3.57697610\n",
            "INFO:root:  Epoch 78/100\t Time: 2.362\t Loss: 3.61613226\n",
            "INFO:root:  Epoch 79/100\t Time: 2.372\t Loss: 3.72105907\n",
            "INFO:root:  Epoch 80/100\t Time: 2.371\t Loss: 3.54700991\n",
            "INFO:root:  Epoch 81/100\t Time: 2.388\t Loss: 3.63919476\n",
            "INFO:root:  Epoch 82/100\t Time: 2.379\t Loss: 3.57738063\n",
            "INFO:root:  Epoch 83/100\t Time: 2.425\t Loss: 3.60695125\n",
            "INFO:root:  Epoch 84/100\t Time: 2.381\t Loss: 3.60428336\n",
            "INFO:root:  Epoch 85/100\t Time: 2.347\t Loss: 3.52421003\n",
            "INFO:root:  Epoch 86/100\t Time: 2.351\t Loss: 3.58153578\n",
            "INFO:root:  Epoch 87/100\t Time: 2.357\t Loss: 3.63014372\n",
            "INFO:root:  Epoch 88/100\t Time: 2.357\t Loss: 3.64232179\n",
            "INFO:root:  Epoch 89/100\t Time: 2.339\t Loss: 3.63452543\n",
            "INFO:root:  Epoch 90/100\t Time: 2.365\t Loss: 3.66695778\n",
            "INFO:root:  Epoch 91/100\t Time: 2.357\t Loss: 3.58616585\n",
            "INFO:root:  Epoch 92/100\t Time: 2.340\t Loss: 3.49848250\n",
            "INFO:root:  Epoch 93/100\t Time: 2.363\t Loss: 3.47392616\n",
            "INFO:root:  Epoch 94/100\t Time: 2.367\t Loss: 3.41140113\n",
            "INFO:root:  Epoch 95/100\t Time: 2.362\t Loss: 3.46760245\n",
            "INFO:root:  Epoch 96/100\t Time: 2.370\t Loss: 3.51090098\n",
            "INFO:root:  Epoch 97/100\t Time: 2.405\t Loss: 3.50006761\n",
            "INFO:root:  Epoch 98/100\t Time: 2.344\t Loss: 3.48014138\n",
            "INFO:root:  Epoch 99/100\t Time: 2.372\t Loss: 3.62417531\n",
            "INFO:root:  Epoch 100/100\t Time: 2.360\t Loss: 3.19533459\n",
            "INFO:root:Pretraining time: 243.534\n",
            "INFO:root:Finished pretraining.\n",
            "INFO:root:Testing autoencoder...\n",
            "INFO:root:Test set Loss: 3.77087421\n",
            "INFO:root:Test set AUC: 76.36%\n",
            "INFO:root:Autoencoder testing time: 0.248\n",
            "INFO:root:Finished testing autoencoder.\n"
          ]
        }
      ],
      "source": [
        "deep_SVDD.pretrain(dataset,\n",
        "                   optimizer_name=cfg.settings['ae_optimizer_name'],\n",
        "                   lr=1e-3,\n",
        "                   n_epochs = 100 , \n",
        "                   lr_milestones=(100,),\n",
        "                   batch_size= 32,\n",
        "                   weight_decay= 0.00001,\n",
        "                   device=device,\n",
        "                   n_jobs_dataloader=0)"
      ]
    },
    {
      "cell_type": "code",
      "execution_count": 108,
      "metadata": {
        "id": "jbPqj8ejyu_w",
        "vscode": {
          "languageId": "python"
        }
      },
      "outputs": [],
      "source": [
        "#!mkdir '/content/drive/MyDrive/checkpoints/'"
      ]
    },
    {
      "cell_type": "code",
      "execution_count": null,
      "metadata": {
        "id": "r42hb7xpdwOH",
        "vscode": {
          "languageId": "python"
        }
      },
      "outputs": [],
      "source": [
        "# Save the deepSVDD model\n",
        "pth_path = ('/content/drive/MyDrive/checkpoints/model_100_1e-3_32_1e-05_gnn.pth') \n",
        "deep_SVDD.save_model(pth_path)\n",
        "deep_SVDD.ae_net"
      ]
    },
    {
      "cell_type": "markdown",
      "metadata": {
        "id": "2b9sO3klq513"
      },
      "source": [
        "AUC per dataset"
      ]
    },
    {
      "cell_type": "code",
      "execution_count": 368,
      "metadata": {
        "id": "XkBG5tvsrwro",
        "vscode": {
          "languageId": "python"
        }
      },
      "outputs": [],
      "source": [
        "from optim.ae_trainer import bidirectional_score"
      ]
    },
    {
      "cell_type": "code",
      "execution_count": 370,
      "metadata": {
        "id": "N61qHLsXrwrp",
        "vscode": {
          "languageId": "python"
        }
      },
      "outputs": [],
      "source": [
        "def ae_score(deep_SVDD, X):\n",
        "    with torch.no_grad():\n",
        "        net = deep_SVDD.ae_net.to(device)\n",
        "        X = torch.FloatTensor(X).to(device)\n",
        "        y = net(X)\n",
        "        scores = bidirectional_score(X, y)\n",
        "    return scores"
      ]
    },
    {
      "cell_type": "code",
      "execution_count": 371,
      "metadata": {
        "colab": {
          "base_uri": "https://localhost:8080/"
        },
        "id": "RPeEBQpTrwrp",
        "outputId": "eac368ed-00a3-4cbb-e235-9d472bf6cc94",
        "vscode": {
          "languageId": "python"
        }
      },
      "outputs": [
        {
          "data": {
            "text/plain": [
              "{'(des)loratadine',\n",
              " 'Dicarboxylic acids',\n",
              " 'H-bond synthons dataset',\n",
              " 'Linezolid',\n",
              " 'MOP',\n",
              " 'Phenolic acids',\n",
              " 'Propyphenazone',\n",
              " 'artemisin',\n",
              " 'ibuprofen',\n",
              " 'meps',\n",
              " 'pahs',\n",
              " 'praziquantel'}"
            ]
          },
          "execution_count": 371,
          "metadata": {},
          "output_type": "execute_result"
        }
      ],
      "source": [
        "valid=pd.concat([validation_data.Dataset[validation_set.index], validation_set], axis=1)\n",
        "set(valid.Dataset)"
      ]
    },
    {
      "cell_type": "code",
      "execution_count": 372,
      "metadata": {
        "id": "DfXL-O7SNR3o",
        "vscode": {
          "languageId": "python"
        }
      },
      "outputs": [],
      "source": [
        "# Evaluate on datasets\n",
        "def evaluate(name):\n",
        "  df = valid[valid.Dataset == name]\n",
        "  val_label = validation_data['Co-crystal']\n",
        "  df_label = val_label.loc[df.index]\n",
        "  roc_auc = roc_auc_score(df_label.values, -1*ae_score(deep_SVDD, df.iloc[:,1:].values).cpu().detach().numpy())\n",
        "  print(name, round(roc_auc,2))"
      ]
    },
    {
      "cell_type": "code",
      "execution_count": 373,
      "metadata": {
        "colab": {
          "base_uri": "https://localhost:8080/"
        },
        "id": "Ehc4Dy8hNgQN",
        "outputId": "975f4d20-601e-4152-f4de-c2a54885030c",
        "vscode": {
          "languageId": "python"
        }
      },
      "outputs": [
        {
          "name": "stdout",
          "output_type": "stream",
          "text": [
            "meps 0.75\n",
            "H-bond synthons dataset 0.74\n",
            "pahs 0.12\n",
            "praziquantel 0.56\n",
            "Propyphenazone 0.87\n",
            "artemisin 0.91\n",
            "(des)loratadine 0.71\n",
            "Linezolid 0.79\n",
            "Phenolic acids 0.6\n",
            "ibuprofen 0.68\n",
            "Dicarboxylic acids 0.76\n",
            "MOP 0.81\n"
          ]
        }
      ],
      "source": [
        "dataset_names=['MOP', 'ibuprofen', 'Linezolid', 'meps', 'Propyphenazone', '(des)loratadine']\n",
        "\n",
        "for name in set(valid.Dataset):\n",
        "  evaluate(name)"
      ]
    },
    {
      "cell_type": "markdown",
      "metadata": {
        "id": "g6GVcELmq88x"
      },
      "source": [
        "AUC per API"
      ]
    },
    {
      "cell_type": "code",
      "execution_count": 374,
      "metadata": {
        "colab": {
          "base_uri": "https://localhost:8080/"
        },
        "id": "UzqyfNLKrPIr",
        "outputId": "e14d5c2c-880a-413a-bbfb-e35634e10678",
        "vscode": {
          "languageId": "python"
        }
      },
      "outputs": [
        {
          "name": "stdout",
          "output_type": "stream",
          "text": [
            "piracetam 0.93\n",
            "nalidixicacid 0.75\n",
            "itraconazole 0.44\n",
            "benzamide 0.8\n",
            "nicotinamide 1.0\n",
            "pyrazinecarboxamide 0.8\n",
            "bicalutamide 0.94\n",
            "4-cyanopyridine 1.0\n",
            "indomethacin 0.62\n",
            "3-cyanophenol 0.93\n",
            "meloxicam 0.93\n",
            "acetazolamide 0.57\n",
            "furosemide 0.82\n",
            "paracetamol 0.66\n",
            "drugcandidate 0.73\n",
            "diclofenac 0.9\n",
            "4-cyanophenol 1.0\n",
            "3-cyanopyridine 0.94\n"
          ]
        }
      ],
      "source": [
        "# Evaluate per API\n",
        "api_list= list(set(validation_data[validation_data.Dataset=='meps'][['name1']].values.ravel()))\n",
        "meps_df = pd.concat([validation_data[validation_data.Dataset=='meps']['name1'], valid[valid.Dataset == 'meps']],axis=1)\n",
        "for i in api_list[:]:\n",
        "  mc_df = meps_df[meps_df.name1 == i] \n",
        "  score_mc = -1*ae_score(deep_SVDD, mc_df.iloc[:,2:].values).cpu().detach().numpy()\n",
        "  true_label = val_label.loc[mc_df.index]\n",
        "  roc_auc_mc = roc_auc_score(true_label, score_mc)\n",
        "  print(i, round(roc_auc_mc, 2))"
      ]
    },
    {
      "cell_type": "markdown",
      "metadata": {
        "id": "OEp3mWGwNQhY"
      },
      "source": [
        "# GNN evaluation plots"
      ]
    },
    {
      "cell_type": "code",
      "execution_count": 375,
      "metadata": {
        "id": "e7Tqb6sTR1rE",
        "vscode": {
          "languageId": "python"
        }
      },
      "outputs": [],
      "source": [
        "from optim.ae_trainer import bidirectional_score"
      ]
    },
    {
      "cell_type": "code",
      "execution_count": 376,
      "metadata": {
        "id": "I3siXz8VR1rH",
        "vscode": {
          "languageId": "python"
        }
      },
      "outputs": [],
      "source": [
        "def ae_score(deep_SVDD, X):\n",
        "    with torch.no_grad():\n",
        "        net = deep_SVDD.ae_net.to(device)\n",
        "        X = torch.FloatTensor(X).to(device)\n",
        "        y = net(X)\n",
        "        scores = bidirectional_score(X, y)\n",
        "    return scores"
      ]
    },
    {
      "cell_type": "code",
      "execution_count": 378,
      "metadata": {
        "colab": {
          "base_uri": "https://localhost:8080/",
          "height": 301
        },
        "id": "E7F4HAGcR1rH",
        "outputId": "f70e2873-051f-4708-d262-e3c3c19740bb",
        "vscode": {
          "languageId": "python"
        }
      },
      "outputs": [
        {
          "data": {
            "text/html": [
              "\n",
              "  <div id=\"df-cc67ee9f-0d6c-49b0-b1fb-28a1e3280b3a\">\n",
              "    <div class=\"colab-df-container\">\n",
              "      <div>\n",
              "<style scoped>\n",
              "    .dataframe tbody tr th:only-of-type {\n",
              "        vertical-align: middle;\n",
              "    }\n",
              "\n",
              "    .dataframe tbody tr th {\n",
              "        vertical-align: top;\n",
              "    }\n",
              "\n",
              "    .dataframe thead th {\n",
              "        text-align: right;\n",
              "    }\n",
              "</style>\n",
              "<table border=\"1\" class=\"dataframe\">\n",
              "  <thead>\n",
              "    <tr style=\"text-align: right;\">\n",
              "      <th></th>\n",
              "      <th>0</th>\n",
              "    </tr>\n",
              "  </thead>\n",
              "  <tbody>\n",
              "    <tr>\n",
              "      <th>count</th>\n",
              "      <td>7074.000000</td>\n",
              "    </tr>\n",
              "    <tr>\n",
              "      <th>mean</th>\n",
              "      <td>0.902617</td>\n",
              "    </tr>\n",
              "    <tr>\n",
              "      <th>std</th>\n",
              "      <td>0.087207</td>\n",
              "    </tr>\n",
              "    <tr>\n",
              "      <th>min</th>\n",
              "      <td>0.000000</td>\n",
              "    </tr>\n",
              "    <tr>\n",
              "      <th>25%</th>\n",
              "      <td>0.878137</td>\n",
              "    </tr>\n",
              "    <tr>\n",
              "      <th>50%</th>\n",
              "      <td>0.927587</td>\n",
              "    </tr>\n",
              "    <tr>\n",
              "      <th>75%</th>\n",
              "      <td>0.957781</td>\n",
              "    </tr>\n",
              "    <tr>\n",
              "      <th>max</th>\n",
              "      <td>1.000000</td>\n",
              "    </tr>\n",
              "  </tbody>\n",
              "</table>\n",
              "</div>\n",
              "      <button class=\"colab-df-convert\" onclick=\"convertToInteractive('df-cc67ee9f-0d6c-49b0-b1fb-28a1e3280b3a')\"\n",
              "              title=\"Convert this dataframe to an interactive table.\"\n",
              "              style=\"display:none;\">\n",
              "        \n",
              "  <svg xmlns=\"http://www.w3.org/2000/svg\" height=\"24px\"viewBox=\"0 0 24 24\"\n",
              "       width=\"24px\">\n",
              "    <path d=\"M0 0h24v24H0V0z\" fill=\"none\"/>\n",
              "    <path d=\"M18.56 5.44l.94 2.06.94-2.06 2.06-.94-2.06-.94-.94-2.06-.94 2.06-2.06.94zm-11 1L8.5 8.5l.94-2.06 2.06-.94-2.06-.94L8.5 2.5l-.94 2.06-2.06.94zm10 10l.94 2.06.94-2.06 2.06-.94-2.06-.94-.94-2.06-.94 2.06-2.06.94z\"/><path d=\"M17.41 7.96l-1.37-1.37c-.4-.4-.92-.59-1.43-.59-.52 0-1.04.2-1.43.59L10.3 9.45l-7.72 7.72c-.78.78-.78 2.05 0 2.83L4 21.41c.39.39.9.59 1.41.59.51 0 1.02-.2 1.41-.59l7.78-7.78 2.81-2.81c.8-.78.8-2.07 0-2.86zM5.41 20L4 18.59l7.72-7.72 1.47 1.35L5.41 20z\"/>\n",
              "  </svg>\n",
              "      </button>\n",
              "      \n",
              "  <style>\n",
              "    .colab-df-container {\n",
              "      display:flex;\n",
              "      flex-wrap:wrap;\n",
              "      gap: 12px;\n",
              "    }\n",
              "\n",
              "    .colab-df-convert {\n",
              "      background-color: #E8F0FE;\n",
              "      border: none;\n",
              "      border-radius: 50%;\n",
              "      cursor: pointer;\n",
              "      display: none;\n",
              "      fill: #1967D2;\n",
              "      height: 32px;\n",
              "      padding: 0 0 0 0;\n",
              "      width: 32px;\n",
              "    }\n",
              "\n",
              "    .colab-df-convert:hover {\n",
              "      background-color: #E2EBFA;\n",
              "      box-shadow: 0px 1px 2px rgba(60, 64, 67, 0.3), 0px 1px 3px 1px rgba(60, 64, 67, 0.15);\n",
              "      fill: #174EA6;\n",
              "    }\n",
              "\n",
              "    [theme=dark] .colab-df-convert {\n",
              "      background-color: #3B4455;\n",
              "      fill: #D2E3FC;\n",
              "    }\n",
              "\n",
              "    [theme=dark] .colab-df-convert:hover {\n",
              "      background-color: #434B5C;\n",
              "      box-shadow: 0px 1px 3px 1px rgba(0, 0, 0, 0.15);\n",
              "      filter: drop-shadow(0px 1px 2px rgba(0, 0, 0, 0.3));\n",
              "      fill: #FFFFFF;\n",
              "    }\n",
              "  </style>\n",
              "\n",
              "      <script>\n",
              "        const buttonEl =\n",
              "          document.querySelector('#df-cc67ee9f-0d6c-49b0-b1fb-28a1e3280b3a button.colab-df-convert');\n",
              "        buttonEl.style.display =\n",
              "          google.colab.kernel.accessAllowed ? 'block' : 'none';\n",
              "\n",
              "        async function convertToInteractive(key) {\n",
              "          const element = document.querySelector('#df-cc67ee9f-0d6c-49b0-b1fb-28a1e3280b3a');\n",
              "          const dataTable =\n",
              "            await google.colab.kernel.invokeFunction('convertToInteractive',\n",
              "                                                     [key], {});\n",
              "          if (!dataTable) return;\n",
              "\n",
              "          const docLinkHtml = 'Like what you see? Visit the ' +\n",
              "            '<a target=\"_blank\" href=https://colab.research.google.com/notebooks/data_table.ipynb>data table notebook</a>'\n",
              "            + ' to learn more about interactive tables.';\n",
              "          element.innerHTML = '';\n",
              "          dataTable['output_type'] = 'display_data';\n",
              "          await google.colab.output.renderOutput(dataTable, element);\n",
              "          const docLink = document.createElement('div');\n",
              "          docLink.innerHTML = docLinkHtml;\n",
              "          element.appendChild(docLink);\n",
              "        }\n",
              "      </script>\n",
              "    </div>\n",
              "  </div>\n",
              "  "
            ],
            "text/plain": [
              "                 0\n",
              "count  7074.000000\n",
              "mean      0.902617\n",
              "std       0.087207\n",
              "min       0.000000\n",
              "25%       0.878137\n",
              "50%       0.927587\n",
              "75%       0.957781\n",
              "max       1.000000"
            ]
          },
          "execution_count": 378,
          "metadata": {},
          "output_type": "execute_result"
        }
      ],
      "source": [
        "X_scaler = MinMaxScaler()\n",
        "lab = -1*ae_score(deep_SVDD, df_train.iloc[:,:].values).cpu().detach().numpy()\n",
        "lab = lab.clip(-30,0)\n",
        "lab1 = X_scaler.fit_transform(lab.reshape(-1,1))\n",
        "pd.DataFrame(lab1).describe()"
      ]
    },
    {
      "cell_type": "code",
      "execution_count": 379,
      "metadata": {
        "id": "k-2ohJniR1rH",
        "vscode": {
          "languageId": "python"
        }
      },
      "outputs": [],
      "source": [
        "# Public data validation\n",
        "\n",
        "pub = -1*ae_score(deep_SVDD, val_data.iloc[:,:].values).cpu().detach().numpy()\n",
        "pub1 = X_scaler.transform(pub.reshape(-1,1))\n",
        "pub_validation=pd.concat([pd.DataFrame(pub1, columns=['score']), pd.DataFrame(val_data_label.values[:], columns=['color'])], axis=1)\n",
        "pub_val_sort = pub_validation.sort_values(by='score', ascending=False)"
      ]
    },
    {
      "cell_type": "code",
      "execution_count": 380,
      "metadata": {
        "colab": {
          "base_uri": "https://localhost:8080/",
          "height": 330
        },
        "id": "WOx_lwl38Ap_",
        "outputId": "fae0e614-8835-4968-a580-e3101e535ebb",
        "vscode": {
          "languageId": "python"
        }
      },
      "outputs": [
        {
          "data": {
            "text/plain": [
              "<matplotlib.legend.Legend at 0x7f5fd173c850>"
            ]
          },
          "execution_count": 380,
          "metadata": {},
          "output_type": "execute_result"
        },
        {
          "data": {
            "image/png": "[encoded data removed]",
            "text/plain": [
              "<Figure size 432x288 with 1 Axes>"
            ]
          },
          "metadata": {
            "needs_background": "light"
          },
          "output_type": "display_data"
        }
      ],
      "source": [
        "import matplotlib.font_manager\n",
        "from matplotlib import rcParams\n",
        "import matplotlib.pyplot as plt\n",
        "\n",
        "\n",
        "fig, axes = plt.subplots(figsize=(6, 4), nrows=1, ncols=1,\n",
        "                         constrained_layout=True, gridspec_kw={'wspace': 0.05, 'hspace': 0.1})\n",
        "\n",
        "rcParams[\"font.weight\"] = \"normal\"\n",
        "rcParams[\"axes.labelweight\"] = \"normal\"\n",
        "rcParams['font.family'] = 'sans-serif'\n",
        "rcParams[\"font.sans-serif\"] = \"Helvetica\"\n",
        "rcParams[\"axes.labelsize\"] = \"xx-large\"\n",
        "rcParams[\"axes.labelweight\"] = \"bold\"\n",
        "rcParams[\"xtick.labelsize\"] = \"medium\"\n",
        "rcParams[\"ytick.labelsize\"] = \"medium\"\n",
        "\n",
        "\n",
        "major_ticks_x = np.arange(0, 1.01, 0.2)\n",
        "minor_ticks_x = np.arange(0, 1.01, 0.1)\n",
        "major_ticks_y = np.arange(0, 1.01, 0.2)\n",
        "minor_ticks_y = np.arange(0, 1.01, 0.1)\n",
        "\n",
        "n_bins = 30\n",
        "\n",
        "\n",
        "def set_ticks(ax):\n",
        "    ax.tick_params(axis='both', which='both', direction=\"in\", width=2)\n",
        "    ax.tick_params(axis='both', which='major', direction=\"in\",  length=6)\n",
        "    ax.tick_params(axis='both', which='minor', length=6,\n",
        "                   direction=\"in\",  color='black')\n",
        "    ax.tick_params(axis='both', which='both', bottom=True,\n",
        "                  top=True, left=True, right=True, direction=\"in\")\n",
        "    ax.set_xticks(major_ticks_x)\n",
        "    ax.set_xticks(minor_ticks_x, minor=True)\n",
        "    ax.set_yticks(major_ticks_y)\n",
        "    ax.set_yticks(minor_ticks_y, minor=True)\n",
        "\n",
        "def set_spines(ax):\n",
        "    ax.spines['bottom'].set_color('black')\n",
        "    ax.spines['top'].set_color('black')\n",
        "    ax.spines['right'].set_color('black')\n",
        "    ax.spines['left'].set_color('black')\n",
        "\n",
        "\n",
        "def set_prop(ax):\n",
        "    ax.axis(aspect='equal')\n",
        "    ax.set(adjustable='box')  # , aspect='equal')\n",
        "    ax.set_xlim(0, 1)\n",
        "    ax.set_ylim(0, 1.14)\n",
        "    ax.grid(False)\n",
        "    set_spines(ax)\n",
        "    ax.set_facecolor('xkcd:white')\n",
        "    ax.axis('on')\n",
        "    set_ticks(ax)\n",
        "\n",
        "def norm_plot(ax, x, y, alpha=1, **kwargs):\n",
        "    hist, bins = np.histogram(x, **kwargs)\n",
        "    hist1, _ = np.histogram(y, **kwargs)\n",
        "    n_max = np.max([hist, hist1])\n",
        "    width = 0.7 * (bins[1] - bins[0])\n",
        "    center = (bins[:-1] + bins[1:]) / 2\n",
        "    ax.bar(center, hist / n_max, align='center', width = width, alpha=alpha)\n",
        "    set_ticks(ax)\n",
        "    return hist, n_max\n",
        "\n",
        "\n",
        "def lab_unlab_plot(ax, lab_d, unlab_d, n_bins):\n",
        "    hist_lab, bins_lab = np.histogram(lab_d, bins=n_bins, density=True, range=(0,1))\n",
        "    hist_unlab, bins_unlab = np.histogram(unlab_d, bins=n_bins, density=True, range=(0,1))\n",
        "    n_max = np.max([hist_lab, hist_unlab])\n",
        "    width_lab = 0.8 * (bins_lab[1] - bins_lab[0])\n",
        "    width_unlab = 0.8 * (bins_unlab[1] - bins_unlab[0])\n",
        "    center_lab = (bins_lab[:-1] + bins_lab[1:]) / 2\n",
        "    center_unlab = (bins_unlab[:-1] + bins_unlab[1:]) / 2\n",
        "    ax.bar(center_lab, hist_lab / n_max, align='center', width=width_lab, alpha=1, color='#feb308', label = 'True positives')\n",
        "    ax.bar(center_unlab, hist_unlab / n_max, align='center', width=width_unlab, alpha=0.5, color='#0165fc', label = 'True negatives')\n",
        "    #ax.axvline(0.9, linewidth=3, color='#980002', label = 'Threshold')\n",
        "    ax.tick_params(axis='both', which='both', direction=\"in\", width=2)\n",
        "    ax.tick_params(axis='both', which='major', direction=\"in\",  length=7)\n",
        "    ax.tick_params(axis='both', which='minor', length=4,\n",
        "                   direction=\"in\",  color='black')\n",
        "    ax.tick_params(axis='both', which='both', bottom=True,\n",
        "                  top=True, left=True, right=True, direction=\"in\")\n",
        "    ax.set_xticks(major_ticks_x)\n",
        "    ax.set_xticks(minor_ticks_x, minor=True)\n",
        "    ax.set_yticks(major_ticks_y)\n",
        "    ax.set_yticks(minor_ticks_y, minor=True)   \n",
        "\n",
        "\n",
        "\n",
        "\n",
        "lab_unlab_plot(axes, pub1[val_data_label.values.ravel()==1], pub1[val_data_label.values.ravel()==0], n_bins)\n",
        "axes.legend(prop={'size': 16}, loc=(0.06, 0.55), facecolor='white', edgecolor='black', framealpha=1)#,  borderpad=1 ) #shadow=True, fancybox=True, loc=(0.75, -0.15),\n",
        "#plt.savefig('/content/gnn_scores.svg')"
      ]
    },
    {
      "cell_type": "code",
      "execution_count": 381,
      "metadata": {
        "colab": {
          "base_uri": "https://localhost:8080/",
          "height": 358
        },
        "id": "RXwjM0QTGgac",
        "outputId": "084aaeb3-339c-4fd5-86d6-4ed86f2dce81",
        "vscode": {
          "languageId": "python"
        }
      },
      "outputs": [
        {
          "data": {
            "image/png": "[encoded data removed]",
            "text/plain": [
              "<Figure size 432x360 with 1 Axes>"
            ]
          },
          "metadata": {
            "needs_background": "light"
          },
          "output_type": "display_data"
        }
      ],
      "source": [
        "import matplotlib.pyplot as plt\n",
        "from matplotlib import rc\n",
        "from matplotlib import rcParams\n",
        "from matplotlib.lines import Line2D\n",
        "fig, ax = plt.subplots(figsize=(6,5))\n",
        "rcParams['font.family'] = 'sans-serif'\n",
        "rcParams['font.sans-serif'] = ['Tahoma']\n",
        "plt.rcParams[\"font.weight\"] = \"light\"\n",
        "plt.rcParams[\"axes.labelweight\"] = \"normal\"\n",
        "plt.rcParams['font.family'] = 'sans-serif'\n",
        "ax.set(adjustable='box')\n",
        "ax.spines['bottom'].set_color('black')\n",
        "ax.spines['top'].set_color('black')\n",
        "ax.spines['right'].set_color('black')\n",
        "ax.spines['left'].set_color('black')\n",
        "ax.tick_params(axis = 'both', which='both', width=3)\n",
        "ax.tick_params(axis='x', colors='black')\n",
        "ax.tick_params(axis = 'both', which='major', length=8)\n",
        "#ax.tick_params(axis = 'both', which='minor', length=8, color='black')\n",
        "ax.tick_params(axis = 'both', which='both' , bottom=True, top=True, left=True, right=True, direction='in')\n",
        "ax.axis('on')\n",
        "ax.grid(False)\n",
        "ax.set_facecolor('xkcd:white')\n",
        "ax.axhline(0.9, linewidth=3, color='#980002', label = 'Threshold')\n",
        "plt.xticks(fontsize=16)\n",
        "plt.yticks(fontsize=16)\n",
        "plt.ylabel('score', fontsize=16)\n",
        "plt.xlabel('rank', fontsize=16)\n",
        "\n",
        "\n",
        "x=np.arange(len(pub))\n",
        "scatter=plt.scatter(x ,pub_val_sort.score, c=pub_val_sort.color,cmap='viridis', s=30, alpha=0.8)\n",
        "plt.ylim(-0.01, 1.05)\n",
        "plt.title('Public data validation datasets', fontsize=16)\n",
        "legend=plt.legend(handles=scatter.legend_elements()[0], labels=['real negatives', 'real positives'], loc='lower left', fontsize=16, bbox_to_anchor=(0.05, 0.1, 0.6, 1.8))\n",
        "legend.get_frame().set_edgecolor('black')\n",
        "\n",
        "#plt.savefig('/content/gnn_colorplot.svg', bbox_inches='tight' ,dpi=600)"
      ]
    },
    {
      "cell_type": "code",
      "execution_count": 232,
      "metadata": {
        "id": "46bXgpXRpSd-",
        "vscode": {
          "languageId": "python"
        }
      },
      "outputs": [],
      "source": [
        "# save the scaler in pickle file\n",
        "import pickle\n",
        "pickle.dump(X_scaler, open('/content/gnn_scaler.pkl','wb'))"
      ]
    },
    {
      "cell_type": "code",
      "execution_count": 240,
      "metadata": {
        "id": "FEsE8EBjuWIH",
        "vscode": {
          "languageId": "python"
        }
      },
      "outputs": [],
      "source": [
        "def enable_dropout(m):\n",
        "  for each_module in m.modules():\n",
        "    if each_module.__class__.__name__.startswith('Dropout'):\n",
        "      each_module.train()"
      ]
    },
    {
      "cell_type": "code",
      "execution_count": 241,
      "metadata": {
        "id": "dSC6Z6s-uc7Q",
        "vscode": {
          "languageId": "python"
        }
      },
      "outputs": [],
      "source": [
        "deep_SVDD.ae_net.eval()\n",
        "enable_dropout(deep_SVDD.ae_net)"
      ]
    },
    {
      "cell_type": "code",
      "execution_count": 242,
      "metadata": {
        "id": "K8ugdI2rvA8_",
        "vscode": {
          "languageId": "python"
        }
      },
      "outputs": [],
      "source": [
        "def ae_score_dropout(deep_SVDD, X, labels ):\n",
        "  deep_SVDD.ae_net.eval()\n",
        "  enable_dropout(deep_SVDD.ae_net)\n",
        "  with torch.no_grad():\n",
        "    result = []\n",
        "    auc=[]\n",
        "    f1 = []\n",
        "    mcc=[]\n",
        "    for i in range(10):\n",
        "      net = deep_SVDD.ae_net.to('cpu')\n",
        "      X = torch.FloatTensor(X).to('cpu')\n",
        "      y = net(X)\n",
        "      scores = -1*nakius_score(X, y)\n",
        "      result.append(scores.numpy())\n",
        "      auc.append(roc_auc_score(labels, scores.numpy()))\n",
        "      spearman = np.corrcoef(np.mean(result, axis=0), np.std(result, axis=0))[0][1]\n",
        "      y_pred  =[1 if i>=-10 else 0 for i in scores.numpy()]\n",
        "      f1.append(f1_score( labels, y_pred))\n",
        "      mcc.append(matthews_corrcoef(labels, y_pred))\n",
        "  return np.mean(auc, axis=0), np.std(auc, axis=0), spearman, np.mean(f1, axis=0), np.mean(mcc, axis=0)# np.mean(result, axis=0), np.std(result, axis=0)"
      ]
    },
    {
      "cell_type": "code",
      "execution_count": 243,
      "metadata": {
        "id": "IHMfaltiZkWu",
        "vscode": {
          "languageId": "python"
        }
      },
      "outputs": [],
      "source": [
        "from sklearn.metrics import roc_curve\n",
        "def get_threshold(labels, scores):\n",
        "  fpr, tpr, thresholds = roc_curve(labels, scores)\n",
        "  gmeans = np.sqrt(tpr * (1 - fpr))\n",
        "  ix = np.argmax(gmeans)\n",
        "  thresh = thresholds[ix]\n",
        "  return thresh"
      ]
    },
    {
      "cell_type": "code",
      "execution_count": 244,
      "metadata": {
        "id": "nT9rDaUqt1sx",
        "vscode": {
          "languageId": "python"
        }
      },
      "outputs": [],
      "source": [
        "def nakius_score(y_pred, y_true):\n",
        "  split_idx = y_true.shape[1]//2\n",
        "  flip = y_true[:, list(range(split_idx, split_idx * 2)) + list(range(split_idx))]\n",
        "  scores_1 = torch.sum((y_pred - y_true) ** 2, dim=tuple(range(1, y_pred.dim())))\n",
        "  scores_2 = torch.sum((y_pred - flip) ** 2, dim=tuple(range(1, y_pred.dim())))#\n",
        "  scores = torch.min(scores_1, scores_2)\n",
        "  return scores"
      ]
    },
    {
      "cell_type": "code",
      "execution_count": 363,
      "metadata": {
        "id": "LdBHDuKlA_v5",
        "vscode": {
          "languageId": "python"
        }
      },
      "outputs": [],
      "source": [
        "from sklearn.metrics import f1_score\n",
        "from sklearn.metrics import matthews_corrcoef\n",
        "from sklearn.preprocessing import MinMaxScaler\n",
        "\n",
        "scaler = MinMaxScaler()\n",
        "set_seed()\n",
        "def ae_score_dropout(deep_SVDD, X, labels ):\n",
        "  deep_SVDD.ae_net.eval()\n",
        "  enable_dropout(deep_SVDD.ae_net)\n",
        "  with torch.no_grad():\n",
        "    result = []\n",
        "    auc=[]\n",
        "    f1 = []\n",
        "    mcc=[]\n",
        "    thres=[]\n",
        "    for i in range(10):\n",
        "      \n",
        "      if i>10:\n",
        "        pass\n",
        "      else:\n",
        "        net = deep_SVDD.ae_net.to('cpu')\n",
        "        X = torch.FloatTensor(X).to('cpu')\n",
        "        y = net(X)\n",
        "        scores = -1*bidirectional_score(X, y)\n",
        "        X_scaler = MinMaxScaler()\n",
        "        lab = -1*ae_score(deep_SVDD, df_train.iloc[:,:].values).cpu().detach().numpy() #\n",
        "        lab = lab.clip(-32,0)\n",
        "        lab1 = X_scaler.fit_transform(lab.reshape(-1,1))\n",
        "        scores=X_scaler.transform(scores.reshape(-1, 1)).ravel()\n",
        "        result.append(scores)\n",
        "      \n",
        "        auc.append(roc_auc_score(labels, scores))\n",
        "        spearman = np.corrcoef(np.mean(result, axis=0), np.std(result, axis=0))[0][1]\n",
        "        threshold = 0.90# get_threshold(labels, scores)\n",
        "        y_pred  =[1 if i>=threshold else 0 for i in scores]\n",
        "        f1.append(f1_score( labels, y_pred))\n",
        "        mcc.append(matthews_corrcoef(labels, y_pred))\n",
        "        thres.append(threshold)\n",
        "  print(np.mean(thres))\n",
        "  return np.mean(result, axis=0), np.std(result, axis=0) , np.mean(auc, axis=0), np.std(auc, axis=0), np.mean(f1, axis=0),np.std(f1, axis=0)"
      ]
    },
    {
      "cell_type": "code",
      "execution_count": 364,
      "metadata": {
        "colab": {
          "base_uri": "https://localhost:8080/"
        },
        "id": "eO3peViuBC2J",
        "outputId": "b858edf9-8738-4c6f-ef26-6435a51b9727",
        "vscode": {
          "languageId": "python"
        }
      },
      "outputs": [
        {
          "name": "stderr",
          "output_type": "stream",
          "text": [
            "/usr/local/lib/python3.7/dist-packages/numpy/lib/function_base.py:2691: RuntimeWarning: invalid value encountered in true_divide\n",
            "  c /= stddev[:, None]\n",
            "/usr/local/lib/python3.7/dist-packages/numpy/lib/function_base.py:2692: RuntimeWarning: invalid value encountered in true_divide\n",
            "  c /= stddev[None, :]\n"
          ]
        },
        {
          "name": "stdout",
          "output_type": "stream",
          "text": [
            "0.9\n"
          ]
        },
        {
          "data": {
            "text/plain": [
              "0.7567341403423237"
            ]
          },
          "execution_count": 364,
          "metadata": {},
          "output_type": "execute_result"
        }
      ],
      "source": [
        "scores, std, auc_mean, auc_std , f1, f1_std = ae_score_dropout(deep_SVDD, validation_set.values, val_label)#.cpu().detach().numpy()\n",
        "auc_mean"
      ]
    },
    {
      "cell_type": "code",
      "execution_count": 333,
      "metadata": {
        "colab": {
          "base_uri": "https://localhost:8080/"
        },
        "id": "9TFtG1_1G47P",
        "outputId": "45dcc2db-ebc9-4bde-cea4-8d2888de24d4",
        "vscode": {
          "languageId": "python"
        }
      },
      "outputs": [
        {
          "name": "stdout",
          "output_type": "stream",
          "text": [
            "f1 0.73\n",
            "f1_std 0.003\n",
            "auc 0.76\n",
            "auc_std 0.0003\n"
          ]
        }
      ],
      "source": [
        "print('f1', round(f1, 2))\n",
        "print('f1_std', round(f1_std, 3))\n",
        "\n",
        "print('auc', round(auc_mean, 2))\n",
        "print('auc_std', round(auc_std, 4))"
      ]
    },
    {
      "cell_type": "code",
      "execution_count": 385,
      "metadata": {
        "id": "pHIYdztGojUI",
        "vscode": {
          "languageId": "python"
        }
      },
      "outputs": [],
      "source": [
        "threshold = 0.91\n",
        "ind1=(val_label.values.ravel()==1) & (scores< threshold) #FN\n",
        "ind2=(val_label.values.ravel()==1) & (scores> threshold) #TP\n",
        "ind3=(val_label.values.ravel()==0) & (scores> threshold) #FP\n",
        "ind4=(val_label.values.ravel()==0) & (scores< threshold) #TN"
      ]
    },
    {
      "cell_type": "code",
      "execution_count": 386,
      "metadata": {
        "colab": {
          "base_uri": "https://localhost:8080/"
        },
        "id": "3dGPC9t6Up8L",
        "outputId": "18c579af-be1f-477e-d2d2-47fffa12e6a7",
        "vscode": {
          "languageId": "python"
        }
      },
      "outputs": [
        {
          "name": "stdout",
          "output_type": "stream",
          "text": [
            "0.008144238347782821\n"
          ]
        },
        {
          "data": {
            "text/plain": [
              "0.010147394622108728"
            ]
          },
          "execution_count": 386,
          "metadata": {},
          "output_type": "execute_result"
        }
      ],
      "source": [
        "print(np.mean(std[ind1])) #FP\n",
        "np.std(std[ind1])"
      ]
    },
    {
      "cell_type": "code",
      "execution_count": 387,
      "metadata": {
        "colab": {
          "base_uri": "https://localhost:8080/"
        },
        "id": "T-yDHTNkUqK3",
        "outputId": "f58ed463-c26f-43c4-f0cc-2a5a79afa335",
        "vscode": {
          "languageId": "python"
        }
      },
      "outputs": [
        {
          "name": "stdout",
          "output_type": "stream",
          "text": [
            "0.003365808519696087\n"
          ]
        },
        {
          "data": {
            "text/plain": [
              "0.002481049192105235"
            ]
          },
          "execution_count": 387,
          "metadata": {},
          "output_type": "execute_result"
        }
      ],
      "source": [
        "print(np.mean(std[ind2])) #TP\n",
        "np.std(std[ind2])"
      ]
    },
    {
      "cell_type": "code",
      "execution_count": 388,
      "metadata": {
        "colab": {
          "base_uri": "https://localhost:8080/"
        },
        "id": "3BBdhhSb68Ul",
        "outputId": "1b8d5525-029b-4405-b7ef-5ba6886b7675",
        "vscode": {
          "languageId": "python"
        }
      },
      "outputs": [
        {
          "name": "stdout",
          "output_type": "stream",
          "text": [
            "0.003599453141145604\n"
          ]
        },
        {
          "data": {
            "text/plain": [
              "0.0022859718897900896"
            ]
          },
          "execution_count": 388,
          "metadata": {},
          "output_type": "execute_result"
        }
      ],
      "source": [
        "print(np.mean(std[ind3])) #FN\n",
        "np.std(std[ind3])"
      ]
    },
    {
      "cell_type": "code",
      "execution_count": 389,
      "metadata": {
        "colab": {
          "base_uri": "https://localhost:8080/"
        },
        "id": "nISFeqX069W-",
        "outputId": "a9ed85db-98a0-4321-e65b-745e16c39d3c",
        "vscode": {
          "languageId": "python"
        }
      },
      "outputs": [
        {
          "name": "stdout",
          "output_type": "stream",
          "text": [
            "0.009588469479667688\n"
          ]
        },
        {
          "data": {
            "text/plain": [
              "0.00749996564986197"
            ]
          },
          "execution_count": 389,
          "metadata": {},
          "output_type": "execute_result"
        }
      ],
      "source": [
        "print(np.mean(std[ind4])) #TN\n",
        "np.std(std[ind4])"
      ]
    },
    {
      "cell_type": "code",
      "execution_count": 408,
      "metadata": {
        "colab": {
          "base_uri": "https://localhost:8080/",
          "height": 488
        },
        "id": "ZcK3DelGU6g_",
        "outputId": "fc7ee0ae-b3cb-4208-e9cc-3f1f2059c2b9",
        "vscode": {
          "languageId": "python"
        }
      },
      "outputs": [
        {
          "data": {
            "image/png": "[encoded data removed]",
            "text/plain": [
              "<Figure size 648x576 with 1 Axes>"
            ]
          },
          "metadata": {
            "needs_background": "light"
          },
          "output_type": "display_data"
        }
      ],
      "source": [
        "import matplotlib.pyplot as plt\n",
        "np.random.seed(123)\n",
        "\n",
        "w = 0.6   # bar width\n",
        "x = [1, 2, 3, 4] # x-coordinates of your bars\n",
        "colors = ['#10a674', '#1e488f', 'yellow', 'orange']\n",
        "colors1 = ['#001146', 'black','#001146','#001146']\n",
        "y = [std[ind2],    \n",
        "    std[ind1],std[ind3], std[ind4]]\n",
        "\n",
        "fig, ax = plt.subplots(figsize=(9, 8))\n",
        "ax.bar(x,\n",
        "       height=[np.mean(yi) for yi in y],\n",
        "       yerr=[np.std(yi) for yi in y],    # error bars\n",
        "       capsize=12, # error bar cap width in points\n",
        "       width=w,    # bar width\n",
        "       tick_label=[\"True Positive\", \"False Negative\", \"False Positive\", 'True Negative'],\n",
        "       color=(0,0,0,0),  # face color transparent\n",
        "       #edgecolor='black',\n",
        "       linewidth=3,\n",
        "       edgecolor=colors1,    # error bar colors; setting this raises an error for whatever reason.\n",
        "      error_kw=dict(lw=5, capsize=5, capthick=3))\n",
        "\n",
        "for i in range(len(x)):\n",
        "    # distribute scatter randomly across whole width of bar\n",
        "    ax.scatter(x[i] + np.random.random(y[i].size) * w - w / 2, y[i], color=colors[i], edgecolor='black', alpha=0.5)\n",
        "plt.ylim(0,0.128)\n",
        "plt.ylabel('Uncertainty', fontsize=15)\n",
        "#plt.savefig('/content/fig1.svg')\n",
        "plt.show()"
      ]
    },
    {
      "cell_type": "code",
      "execution_count": 406,
      "metadata": {
        "colab": {
          "base_uri": "https://localhost:8080/",
          "height": 271
        },
        "id": "_50c5R5RzCOt",
        "outputId": "5043f6a8-8b4c-47f8-bcdd-f5260886a17b",
        "vscode": {
          "languageId": "python"
        }
      },
      "outputs": [
        {
          "data": {
            "image/png": "[encoded data removed]",
            "text/plain": [
              "<Figure size 432x288 with 1 Axes>"
            ]
          },
          "metadata": {
            "needs_background": "light"
          },
          "output_type": "display_data"
        }
      ],
      "source": [
        "import matplotlib.pyplot as plt\n",
        "np.random.seed(123)\n",
        "\n",
        "w = 0.6   # bar width\n",
        "x = [1, 2] # x-coordinates of your bars\n",
        "colors = ['#10a674', '#1e488f']#[(0, 0, 1, 1), (1, 0, 0, 1)]    # corresponding colors\n",
        "colors1 = ['black', 'black']#\n",
        "y = [std[ind4],       # data series\n",
        "    std[ind3]]\n",
        "\n",
        "fig, ax = plt.subplots()\n",
        "ax.bar(x,\n",
        "       height=[np.mean(yi) for yi in y],\n",
        "       yerr=[np.std(yi) for yi in y],    # error bars\n",
        "       capsize=12, # error bar cap width in points\n",
        "       width=w,    # bar width\n",
        "       tick_label=[\"True negative\", \"False positive\"],\n",
        "       color=(0,0,0,0),  # face color transparent\n",
        "       #edgecolor='black',\n",
        "       linewidth=3,\n",
        "       edgecolor=colors1,    # error bar colors; setting this raises an error for whatever reason.\n",
        "      error_kw=dict(lw=5, capsize=5, capthick=3))\n",
        "\n",
        "for i in range(len(x)):\n",
        "    # distribute scatter randomly across whole width of bar\n",
        "    ax.scatter(x[i] + np.random.random(y[i].size) * w - w / 2, y[i], color=colors[i], edgecolor='black', alpha=0.5)\n",
        "plt.ylim(0,0.128)\n",
        "plt.ylabel('Uncertainty', fontsize=15)\n",
        "#plt.savefig('/content/panel1.svg')\n",
        "plt.show()"
      ]
    },
    {
      "cell_type": "code",
      "execution_count": 412,
      "metadata": {
        "colab": {
          "base_uri": "https://localhost:8080/",
          "height": 271
        },
        "id": "4yVjUqeOsu6D",
        "outputId": "34968ad8-beb2-4d7a-e841-7a8384d2c345",
        "vscode": {
          "languageId": "python"
        }
      },
      "outputs": [
        {
          "data": {
            "image/png": "[encoded data removed]",
            "text/plain": [
              "<Figure size 432x288 with 1 Axes>"
            ]
          },
          "metadata": {
            "needs_background": "light"
          },
          "output_type": "display_data"
        }
      ],
      "source": [
        "import matplotlib.pyplot as plt\n",
        "np.random.seed(123)\n",
        "\n",
        "w = 0.6   # bar width\n",
        "x = [1, 2] # x-coordinates of your bars\n",
        "colors = ['#004577', '#fffe40']#[(0, 0, 1, 1), (1, 0, 0, 1)]    # corresponding colors\n",
        "colors1 = ['#001146', '#001146']#\n",
        "y = [std[ind1],       # data series\n",
        "    std[ind2]]\n",
        "\n",
        "fig, ax = plt.subplots()\n",
        "ax.bar(x,\n",
        "       height=[np.mean(yi) for yi in y],\n",
        "       yerr=[np.std(yi) for yi in y],    # error bars\n",
        "       capsize=12, # error bar cap width in points\n",
        "       width=w,    # bar width\n",
        "       tick_label=[\"False negative\", \"True positive\"],\n",
        "       color=(0,0,0,0),  # face color transparent\n",
        "       #edgecolor='black',\n",
        "       linewidth=3,\n",
        "       edgecolor=colors1,    # error bar colors; setting this raises an error for whatever reason.\n",
        "      error_kw=dict(lw=5, capsize=5, capthick=3))\n",
        "\n",
        "for i in range(len(x)):\n",
        "    # distribute scatter randomly across whole width of bar\n",
        "    ax.scatter(x[i] + np.random.random(y[i].size) * w - w / 2, y[i], color=colors[i], edgecolor='black', alpha=0.5)\n",
        "plt.ylim(0,0.128)\n",
        "plt.ylabel('Uncertainty', fontsize=15)\n",
        "#plt.savefig('/content/panel2.svg')\n",
        "plt.show()"
      ]
    },
    {
      "cell_type": "code",
      "execution_count": 393,
      "metadata": {
        "colab": {
          "base_uri": "https://localhost:8080/",
          "height": 649
        },
        "id": "A0INoti4y-It",
        "outputId": "8dcb9b56-8eb2-44aa-e9b4-63a93fd07df0",
        "vscode": {
          "languageId": "python"
        }
      },
      "outputs": [
        {
          "data": {
            "text/html": [
              "\n",
              "  <div id=\"df-0e5d7d8a-2218-492e-a85b-fc92e1fa164c\">\n",
              "    <div class=\"colab-df-container\">\n",
              "      <div>\n",
              "<style scoped>\n",
              "    .dataframe tbody tr th:only-of-type {\n",
              "        vertical-align: middle;\n",
              "    }\n",
              "\n",
              "    .dataframe tbody tr th {\n",
              "        vertical-align: top;\n",
              "    }\n",
              "\n",
              "    .dataframe thead th {\n",
              "        text-align: right;\n",
              "    }\n",
              "</style>\n",
              "<table border=\"1\" class=\"dataframe\">\n",
              "  <thead>\n",
              "    <tr style=\"text-align: right;\">\n",
              "      <th></th>\n",
              "      <th>Co-crystal</th>\n",
              "      <th>Dataset</th>\n",
              "      <th>year</th>\n",
              "      <th>name1</th>\n",
              "      <th>smiles1</th>\n",
              "      <th>name2</th>\n",
              "      <th>smiles2</th>\n",
              "      <th>scores</th>\n",
              "      <th>std</th>\n",
              "    </tr>\n",
              "  </thead>\n",
              "  <tbody>\n",
              "    <tr>\n",
              "      <th>7</th>\n",
              "      <td>0</td>\n",
              "      <td>artemisin</td>\n",
              "      <td>2014</td>\n",
              "      <td>QNGHSU02</td>\n",
              "      <td>CC1CCC2C(C)C(=O)OC3OC4(C)CCC1C23OO4</td>\n",
              "      <td>3,5-Diaminobenzoic Acid</td>\n",
              "      <td>NC1=CC(=CC(=C1)N)C(O)=O</td>\n",
              "      <td>0.055536</td>\n",
              "      <td>0.055536</td>\n",
              "    </tr>\n",
              "    <tr>\n",
              "      <th>25</th>\n",
              "      <td>0</td>\n",
              "      <td>artemisin</td>\n",
              "      <td>2014</td>\n",
              "      <td>QNGHSU02</td>\n",
              "      <td>CC1CCC2C(C)C(=O)OC3OC4(C)CCC1C23OO4</td>\n",
              "      <td>methylglucosamine</td>\n",
              "      <td>CNCC(O)C(O)C(O)C(O)CO</td>\n",
              "      <td>0.044072</td>\n",
              "      <td>0.044072</td>\n",
              "    </tr>\n",
              "    <tr>\n",
              "      <th>36</th>\n",
              "      <td>0</td>\n",
              "      <td>artemisin</td>\n",
              "      <td>2014</td>\n",
              "      <td>QNGHSU02</td>\n",
              "      <td>CC1CCC2C(C)C(=O)OC3OC4(C)CCC1C23OO4</td>\n",
              "      <td>sorbitol</td>\n",
              "      <td>OCC(O)C(O)C(O)C(O)CO</td>\n",
              "      <td>0.056668</td>\n",
              "      <td>0.056668</td>\n",
              "    </tr>\n",
              "    <tr>\n",
              "      <th>1124</th>\n",
              "      <td>0</td>\n",
              "      <td>H-bond synthons dataset</td>\n",
              "      <td>2017</td>\n",
              "      <td>L-Ascorbic Acid</td>\n",
              "      <td>OCC(O)C1OC(=O)C(=C1O)O</td>\n",
              "      <td>4-Hydroxybenzoic Acid</td>\n",
              "      <td>c1cc(ccc1C(=O)O)O</td>\n",
              "      <td>0.040940</td>\n",
              "      <td>0.040940</td>\n",
              "    </tr>\n",
              "    <tr>\n",
              "      <th>1425</th>\n",
              "      <td>1</td>\n",
              "      <td>Phenolic acids</td>\n",
              "      <td>2018</td>\n",
              "      <td>maleimide</td>\n",
              "      <td>O=C1NC(=O)C=C1</td>\n",
              "      <td>3,4,5-trihydroxybenzoic acid</td>\n",
              "      <td>OC(=O)C1=CC(=C(O)C(=C1)O)O</td>\n",
              "      <td>0.091545</td>\n",
              "      <td>0.091545</td>\n",
              "    </tr>\n",
              "    <tr>\n",
              "      <th>1427</th>\n",
              "      <td>1</td>\n",
              "      <td>Phenolic acids</td>\n",
              "      <td>2018</td>\n",
              "      <td>maleimide</td>\n",
              "      <td>O=C1NC(=O)C=C1</td>\n",
              "      <td>3,5-dihydroxybenzoic acid</td>\n",
              "      <td>OC(=O)C1=CC(=CC(=C1)O)O</td>\n",
              "      <td>0.116198</td>\n",
              "      <td>0.116198</td>\n",
              "    </tr>\n",
              "    <tr>\n",
              "      <th>1521</th>\n",
              "      <td>0</td>\n",
              "      <td>Dicarboxylic acids</td>\n",
              "      <td>2019</td>\n",
              "      <td>adipicacid</td>\n",
              "      <td>OC(=O)CCCCC(O)=O</td>\n",
              "      <td>heptanedioicacid</td>\n",
              "      <td>OC(=O)CCCCCC(O)=O</td>\n",
              "      <td>0.040180</td>\n",
              "      <td>0.040180</td>\n",
              "    </tr>\n",
              "    <tr>\n",
              "      <th>1664</th>\n",
              "      <td>1</td>\n",
              "      <td>Dicarboxylic acids</td>\n",
              "      <td>2019</td>\n",
              "      <td>2,2'-biimidazole</td>\n",
              "      <td>c1c[nH]c(n1)c1ncc[nH]1</td>\n",
              "      <td>succinicacid</td>\n",
              "      <td>OC(=O)CCC(O)=O</td>\n",
              "      <td>0.062442</td>\n",
              "      <td>0.062442</td>\n",
              "    </tr>\n",
              "    <tr>\n",
              "      <th>1945</th>\n",
              "      <td>1</td>\n",
              "      <td>Dicarboxylic acids</td>\n",
              "      <td>2019</td>\n",
              "      <td>4-aminobutyricacid</td>\n",
              "      <td>NCCCC(O)=O</td>\n",
              "      <td>ethanedioicacid</td>\n",
              "      <td>OC(=O)C(O)=O</td>\n",
              "      <td>0.043790</td>\n",
              "      <td>0.043790</td>\n",
              "    </tr>\n",
              "    <tr>\n",
              "      <th>2238</th>\n",
              "      <td>1</td>\n",
              "      <td>(des)loratadine</td>\n",
              "      <td>2020</td>\n",
              "      <td>loratadine</td>\n",
              "      <td>CCOC(=O)N1CCC(CC1)=C1C2=C(CCC3=C1N=CC=C3)C=C(C...</td>\n",
              "      <td>Mannitol</td>\n",
              "      <td>OCC(O)C(O)C(O)C(O)CO</td>\n",
              "      <td>0.071227</td>\n",
              "      <td>0.071227</td>\n",
              "    </tr>\n",
              "    <tr>\n",
              "      <th>2278</th>\n",
              "      <td>0</td>\n",
              "      <td>(des)loratadine</td>\n",
              "      <td>2020</td>\n",
              "      <td>desloratadine</td>\n",
              "      <td>ClC1=CC2=C(C=C1)C(=C1CCNCC1)C1=C(CC2)C=CC=N1</td>\n",
              "      <td>Maltitol</td>\n",
              "      <td>OCC(O)C(O)C(OC1OC(CO)C(O)C(O)C1O)C(O)CO</td>\n",
              "      <td>0.045247</td>\n",
              "      <td>0.045247</td>\n",
              "    </tr>\n",
              "  </tbody>\n",
              "</table>\n",
              "</div>\n",
              "      <button class=\"colab-df-convert\" onclick=\"convertToInteractive('df-0e5d7d8a-2218-492e-a85b-fc92e1fa164c')\"\n",
              "              title=\"Convert this dataframe to an interactive table.\"\n",
              "              style=\"display:none;\">\n",
              "        \n",
              "  <svg xmlns=\"http://www.w3.org/2000/svg\" height=\"24px\"viewBox=\"0 0 24 24\"\n",
              "       width=\"24px\">\n",
              "    <path d=\"M0 0h24v24H0V0z\" fill=\"none\"/>\n",
              "    <path d=\"M18.56 5.44l.94 2.06.94-2.06 2.06-.94-2.06-.94-.94-2.06-.94 2.06-2.06.94zm-11 1L8.5 8.5l.94-2.06 2.06-.94-2.06-.94L8.5 2.5l-.94 2.06-2.06.94zm10 10l.94 2.06.94-2.06 2.06-.94-2.06-.94-.94-2.06-.94 2.06-2.06.94z\"/><path d=\"M17.41 7.96l-1.37-1.37c-.4-.4-.92-.59-1.43-.59-.52 0-1.04.2-1.43.59L10.3 9.45l-7.72 7.72c-.78.78-.78 2.05 0 2.83L4 21.41c.39.39.9.59 1.41.59.51 0 1.02-.2 1.41-.59l7.78-7.78 2.81-2.81c.8-.78.8-2.07 0-2.86zM5.41 20L4 18.59l7.72-7.72 1.47 1.35L5.41 20z\"/>\n",
              "  </svg>\n",
              "      </button>\n",
              "      \n",
              "  <style>\n",
              "    .colab-df-container {\n",
              "      display:flex;\n",
              "      flex-wrap:wrap;\n",
              "      gap: 12px;\n",
              "    }\n",
              "\n",
              "    .colab-df-convert {\n",
              "      background-color: #E8F0FE;\n",
              "      border: none;\n",
              "      border-radius: 50%;\n",
              "      cursor: pointer;\n",
              "      display: none;\n",
              "      fill: #1967D2;\n",
              "      height: 32px;\n",
              "      padding: 0 0 0 0;\n",
              "      width: 32px;\n",
              "    }\n",
              "\n",
              "    .colab-df-convert:hover {\n",
              "      background-color: #E2EBFA;\n",
              "      box-shadow: 0px 1px 2px rgba(60, 64, 67, 0.3), 0px 1px 3px 1px rgba(60, 64, 67, 0.15);\n",
              "      fill: #174EA6;\n",
              "    }\n",
              "\n",
              "    [theme=dark] .colab-df-convert {\n",
              "      background-color: #3B4455;\n",
              "      fill: #D2E3FC;\n",
              "    }\n",
              "\n",
              "    [theme=dark] .colab-df-convert:hover {\n",
              "      background-color: #434B5C;\n",
              "      box-shadow: 0px 1px 3px 1px rgba(0, 0, 0, 0.15);\n",
              "      filter: drop-shadow(0px 1px 2px rgba(0, 0, 0, 0.3));\n",
              "      fill: #FFFFFF;\n",
              "    }\n",
              "  </style>\n",
              "\n",
              "      <script>\n",
              "        const buttonEl =\n",
              "          document.querySelector('#df-0e5d7d8a-2218-492e-a85b-fc92e1fa164c button.colab-df-convert');\n",
              "        buttonEl.style.display =\n",
              "          google.colab.kernel.accessAllowed ? 'block' : 'none';\n",
              "\n",
              "        async function convertToInteractive(key) {\n",
              "          const element = document.querySelector('#df-0e5d7d8a-2218-492e-a85b-fc92e1fa164c');\n",
              "          const dataTable =\n",
              "            await google.colab.kernel.invokeFunction('convertToInteractive',\n",
              "                                                     [key], {});\n",
              "          if (!dataTable) return;\n",
              "\n",
              "          const docLinkHtml = 'Like what you see? Visit the ' +\n",
              "            '<a target=\"_blank\" href=https://colab.research.google.com/notebooks/data_table.ipynb>data table notebook</a>'\n",
              "            + ' to learn more about interactive tables.';\n",
              "          element.innerHTML = '';\n",
              "          dataTable['output_type'] = 'display_data';\n",
              "          await google.colab.output.renderOutput(dataTable, element);\n",
              "          const docLink = document.createElement('div');\n",
              "          docLink.innerHTML = docLinkHtml;\n",
              "          element.appendChild(docLink);\n",
              "        }\n",
              "      </script>\n",
              "    </div>\n",
              "  </div>\n",
              "  "
            ],
            "text/plain": [
              "      Co-crystal                  Dataset  year               name1  \\\n",
              "7              0                artemisin  2014            QNGHSU02   \n",
              "25             0                artemisin  2014            QNGHSU02   \n",
              "36             0                artemisin  2014            QNGHSU02   \n",
              "1124           0  H-bond synthons dataset  2017     L-Ascorbic Acid   \n",
              "1425           1           Phenolic acids  2018           maleimide   \n",
              "1427           1           Phenolic acids  2018           maleimide   \n",
              "1521           0       Dicarboxylic acids  2019          adipicacid   \n",
              "1664           1       Dicarboxylic acids  2019    2,2'-biimidazole   \n",
              "1945           1       Dicarboxylic acids  2019  4-aminobutyricacid   \n",
              "2238           1          (des)loratadine  2020          loratadine   \n",
              "2278           0          (des)loratadine  2020       desloratadine   \n",
              "\n",
              "                                                smiles1  \\\n",
              "7                   CC1CCC2C(C)C(=O)OC3OC4(C)CCC1C23OO4   \n",
              "25                  CC1CCC2C(C)C(=O)OC3OC4(C)CCC1C23OO4   \n",
              "36                  CC1CCC2C(C)C(=O)OC3OC4(C)CCC1C23OO4   \n",
              "1124                             OCC(O)C1OC(=O)C(=C1O)O   \n",
              "1425                                     O=C1NC(=O)C=C1   \n",
              "1427                                     O=C1NC(=O)C=C1   \n",
              "1521                                   OC(=O)CCCCC(O)=O   \n",
              "1664                             c1c[nH]c(n1)c1ncc[nH]1   \n",
              "1945                                         NCCCC(O)=O   \n",
              "2238  CCOC(=O)N1CCC(CC1)=C1C2=C(CCC3=C1N=CC=C3)C=C(C...   \n",
              "2278       ClC1=CC2=C(C=C1)C(=C1CCNCC1)C1=C(CC2)C=CC=N1   \n",
              "\n",
              "                             name2                                  smiles2  \\\n",
              "7          3,5-Diaminobenzoic Acid                  NC1=CC(=CC(=C1)N)C(O)=O   \n",
              "25               methylglucosamine                    CNCC(O)C(O)C(O)C(O)CO   \n",
              "36                        sorbitol                     OCC(O)C(O)C(O)C(O)CO   \n",
              "1124         4-Hydroxybenzoic Acid                        c1cc(ccc1C(=O)O)O   \n",
              "1425  3,4,5-trihydroxybenzoic acid               OC(=O)C1=CC(=C(O)C(=C1)O)O   \n",
              "1427     3,5-dihydroxybenzoic acid                  OC(=O)C1=CC(=CC(=C1)O)O   \n",
              "1521              heptanedioicacid                        OC(=O)CCCCCC(O)=O   \n",
              "1664                  succinicacid                           OC(=O)CCC(O)=O   \n",
              "1945               ethanedioicacid                             OC(=O)C(O)=O   \n",
              "2238                      Mannitol                     OCC(O)C(O)C(O)C(O)CO   \n",
              "2278                      Maltitol  OCC(O)C(O)C(OC1OC(CO)C(O)C(O)C1O)C(O)CO   \n",
              "\n",
              "        scores       std  \n",
              "7     0.055536  0.055536  \n",
              "25    0.044072  0.044072  \n",
              "36    0.056668  0.056668  \n",
              "1124  0.040940  0.040940  \n",
              "1425  0.091545  0.091545  \n",
              "1427  0.116198  0.116198  \n",
              "1521  0.040180  0.040180  \n",
              "1664  0.062442  0.062442  \n",
              "1945  0.043790  0.043790  \n",
              "2238  0.071227  0.071227  \n",
              "2278  0.045247  0.045247  "
            ]
          },
          "execution_count": 393,
          "metadata": {},
          "output_type": "execute_result"
        }
      ],
      "source": [
        "#pd.DataFrame(scores, columns=['scores'])\n",
        "\n",
        "dataki=pd.concat([validation_data, pd.DataFrame(std, columns=['scores']), pd.DataFrame(std, columns=['std'])], axis=1)\n",
        "#dataki[dataki.smiles1 == 'CCC(C)N1N=CN(C1=O)C1=CC=C(C=C1)N1CCN(CC1)C1=CC=C(OCC2COC(CN3C=NC=N3)(O2)C2=C(Cl)C=C(Cl)C=C2)C=C1']\n",
        "da=dataki[dataki.scores >= 0.04]\n",
        "da#[da['Co-crystal'] == 0]#.shape"
      ]
    },
    {
      "cell_type": "markdown",
      "metadata": {
        "id": "FpF93S6mx1u0"
      },
      "source": [
        "# Wandbi"
      ]
    },
    {
      "cell_type": "code",
      "execution_count": 413,
      "metadata": {
        "id": "5MTAyIPIHe1h",
        "vscode": {
          "languageId": "python"
        }
      },
      "outputs": [],
      "source": [
        "# WandB – Install the W&B library\n",
        "%pip install wandb -q\n",
        "import wandb\n",
        "from wandb.keras import WandbCallback"
      ]
    },
    {
      "cell_type": "code",
      "execution_count": 414,
      "metadata": {
        "id": "zo3qpmRMHre_",
        "vscode": {
          "languageId": "python"
        }
      },
      "outputs": [],
      "source": [
        "sweep_config = {\n",
        "    'method': 'bayes',\n",
        "    'metric': {\n",
        "      'name': 'loss',\n",
        "      'goal': 'minimize'   \n",
        "    },\n",
        "    'parameters': {\n",
        "        'n_epochs': {\n",
        "            'values': [10, 50, 100]\n",
        "        },\n",
        "        'batch_size': {\n",
        "            'values': [256, 128, 64, 32]\n",
        "\n",
        "        },\n",
        "        'weight_decay': { \n",
        "            'values': [1e-3, 1e-4, 1e-5, 1e-6]\n",
        "        },\n",
        "        'lr': {\n",
        "            'values': [1e-2, 1e-3, 1e-4, 3e-4, 1e-5]\n",
        "        },\n",
        "        'optimizer_name': {\n",
        "            'values': ['adam']\n",
        "        }\n",
        "\n",
        "        }\n",
        "    }"
      ]
    },
    {
      "cell_type": "code",
      "execution_count": 415,
      "metadata": {
        "colab": {
          "base_uri": "https://localhost:8080/"
        },
        "id": "t4fr1Yjlx7Cu",
        "outputId": "8d7e9869-8975-48b2-a02a-dea5f7b52012",
        "vscode": {
          "languageId": "python"
        }
      },
      "outputs": [
        {
          "name": "stdout",
          "output_type": "stream",
          "text": [
            "Create sweep with ID: rifcvn9e\n",
            "Sweep URL: https://wandb.ai/kvriza/gnn_optimize/sweeps/rifcvn9e\n"
          ]
        }
      ],
      "source": [
        "# Initialize a new sweep\n",
        "# Arguments:\n",
        "#     – sweep_config: the sweep config dictionary defined above\n",
        "#     – entity: Set the username for the sweep\n",
        "#     – project: Set the project name for the sweep\n",
        "sweep_id = wandb.sweep(sweep_config, entity=\"kvriza\", project=\"gnn_optimize\")"
      ]
    },
    {
      "cell_type": "code",
      "execution_count": 416,
      "metadata": {
        "id": "S-lUys4LLlpF",
        "vscode": {
          "languageId": "python"
        }
      },
      "outputs": [],
      "source": [
        "def train():\n",
        "      # Random starting values for hyper-parameters we're going to sweep over\n",
        "  config_defaults = {\n",
        "        'n_epochs': 50,\n",
        "        'batch_size': 32,\n",
        "        'weight_decay': 1e-04,\n",
        "        'lr': 1e-4,\n",
        "        'optimizer_name': 'adam',\n",
        "    }\n",
        "  wandb.init(config=config_defaults)\n",
        "  config = wandb.config\n",
        "  deep_SVDD.pretrain(dataset,\n",
        "                   optimizer_name=cfg.settings['ae_optimizer_name'],\n",
        "                   lr=config.lr,\n",
        "                   n_epochs = config.n_epochs ,\n",
        "                   lr_milestones=(100,),\n",
        "                   batch_size= config.batch_size , \n",
        "                   weight_decay= config.weight_decay ,\n",
        "                   device=device,\n",
        "                   n_jobs_dataloader=0, use_wandb=True)\n",
        "  wandb.log({\"auc\": deep_SVDD.ae_trainer.test(dataset, deep_SVDD.ae_net)}) "
      ]
    },
    {
      "cell_type": "code",
      "execution_count": null,
      "metadata": {
        "colab": {
          "base_uri": "https://localhost:8080/",
          "height": 1000
        },
        "id": "3J_tUqJRZukU",
        "outputId": "3386fd02-d3a7-4f0e-93c1-4e63b1138f12",
        "vscode": {
          "languageId": "python"
        }
      },
      "outputs": [
        {
          "name": "stderr",
          "output_type": "stream",
          "text": [
            "INFO:wandb.agents.pyagent:Starting sweep agent: entity=None, project=None, count=None\n",
            "\u001b[34m\u001b[1mwandb\u001b[0m: Agent Starting Run: 9r6nt6rp with config:\n",
            "\u001b[34m\u001b[1mwandb\u001b[0m: \tbatch_size: 32\n",
            "\u001b[34m\u001b[1mwandb\u001b[0m: \tlr: 0.0003\n",
            "\u001b[34m\u001b[1mwandb\u001b[0m: \tn_epochs: 50\n",
            "\u001b[34m\u001b[1mwandb\u001b[0m: \toptimizer_name: adam\n",
            "\u001b[34m\u001b[1mwandb\u001b[0m: \tweight_decay: 1e-06\n",
            "\u001b[34m\u001b[1mwandb\u001b[0m: Currently logged in as: \u001b[33mkvriza\u001b[0m. Use \u001b[1m`wandb login --relogin`\u001b[0m to force relogin\n"
          ]
        },
        {
          "data": {
            "text/html": [
              "Tracking run with wandb version 0.12.16"
            ],
            "text/plain": [
              "<IPython.core.display.HTML object>"
            ]
          },
          "metadata": {},
          "output_type": "display_data"
        },
        {
          "data": {
            "text/html": [
              "Run data is saved locally in <code>/content/drive/.shortcut-targets-by-id/1OfY2PW77dTgP9czKrwWu5DOIAtVGbYk4/cocrystal_design-master/models/deep_one_class/src/wandb/run-20220520_214856-9r6nt6rp</code>"
            ],
            "text/plain": [
              "<IPython.core.display.HTML object>"
            ]
          },
          "metadata": {},
          "output_type": "display_data"
        },
        {
          "data": {
            "text/html": [
              "Syncing run <strong><a href=\"https://wandb.ai/kvriza/gnn_optimize/runs/9r6nt6rp\" target=\"_blank\">dulcet-sweep-1</a></strong> to <a href=\"https://wandb.ai/kvriza/gnn_optimize\" target=\"_blank\">Weights & Biases</a> (<a href=\"https://wandb.me/run\" target=\"_blank\">docs</a>)<br/>Sweep page:  <a href=\"https://wandb.ai/kvriza/gnn_optimize/sweeps/rifcvn9e\" target=\"_blank\">https://wandb.ai/kvriza/gnn_optimize/sweeps/rifcvn9e</a>"
            ],
            "text/plain": [
              "<IPython.core.display.HTML object>"
            ]
          },
          "metadata": {},
          "output_type": "display_data"
        },
        {
          "name": "stderr",
          "output_type": "stream",
          "text": [
            "/usr/local/lib/python3.7/dist-packages/ipykernel_launcher.py:3: UserWarning: nn.init.xavier_uniform is now deprecated in favor of nn.init.xavier_uniform_.\n",
            "  This is separate from the ipykernel package so we can avoid doing imports until\n",
            "INFO:root:Starting pretraining...\n",
            "/usr/local/lib/python3.7/dist-packages/torch/optim/lr_scheduler.py:136: UserWarning: Detected call of `lr_scheduler.step()` before `optimizer.step()`. In PyTorch 1.1.0 and later, you should call them in the opposite order: `optimizer.step()` before `lr_scheduler.step()`.  Failure to do this will result in PyTorch skipping the first value of the learning rate schedule. See more details at https://pytorch.org/docs/stable/optim.html#how-to-adjust-learning-rate\n",
            "  \"https://pytorch.org/docs/stable/optim.html#how-to-adjust-learning-rate\", UserWarning)\n",
            "INFO:root:  Epoch 1/50\t Time: 6.114\t Loss: 23.08130542\n",
            "INFO:root:  Epoch 2/50\t Time: 5.306\t Loss: 15.45420914\n",
            "INFO:root:  Epoch 3/50\t Time: 5.297\t Loss: 12.84314116\n",
            "INFO:root:  Epoch 4/50\t Time: 5.133\t Loss: 11.44615832\n",
            "INFO:root:  Epoch 5/50\t Time: 5.028\t Loss: 10.59471178\n",
            "INFO:root:  Epoch 6/50\t Time: 3.013\t Loss: 9.98536347\n",
            "INFO:root:  Epoch 7/50\t Time: 4.794\t Loss: 9.54477169\n",
            "INFO:root:  Epoch 8/50\t Time: 4.779\t Loss: 9.09786103\n",
            "INFO:root:  Epoch 9/50\t Time: 4.999\t Loss: 8.78757405\n",
            "INFO:root:  Epoch 10/50\t Time: 4.562\t Loss: 8.46408605\n",
            "INFO:root:  Epoch 11/50\t Time: 3.570\t Loss: 8.21365022\n",
            "INFO:root:  Epoch 12/50\t Time: 2.456\t Loss: 7.96225188\n",
            "INFO:root:  Epoch 13/50\t Time: 2.597\t Loss: 7.74828839\n",
            "INFO:root:  Epoch 14/50\t Time: 4.047\t Loss: 7.61098379\n",
            "INFO:root:  Epoch 15/50\t Time: 4.287\t Loss: 7.68963475\n",
            "INFO:root:  Epoch 16/50\t Time: 4.254\t Loss: 7.32213090\n",
            "INFO:root:  Epoch 17/50\t Time: 4.660\t Loss: 7.23367600\n",
            "INFO:root:  Epoch 18/50\t Time: 3.999\t Loss: 7.15634947\n",
            "INFO:root:  Epoch 19/50\t Time: 3.528\t Loss: 6.94362078\n",
            "INFO:root:  Epoch 20/50\t Time: 4.409\t Loss: 6.76515714\n",
            "INFO:root:  Epoch 21/50\t Time: 4.466\t Loss: 6.66627997\n",
            "INFO:root:  Epoch 22/50\t Time: 4.288\t Loss: 6.60113104\n",
            "INFO:root:  Epoch 23/50\t Time: 4.431\t Loss: 6.53371435\n",
            "INFO:root:  Epoch 24/50\t Time: 6.486\t Loss: 6.45104358\n",
            "INFO:root:  Epoch 25/50\t Time: 5.293\t Loss: 6.34658080\n",
            "INFO:root:  Epoch 26/50\t Time: 6.606\t Loss: 6.29682944\n",
            "INFO:root:  Epoch 27/50\t Time: 5.701\t Loss: 6.18010905\n",
            "INFO:root:  Epoch 28/50\t Time: 4.667\t Loss: 6.11125135\n",
            "INFO:root:  Epoch 29/50\t Time: 4.637\t Loss: 6.03708680\n",
            "INFO:root:  Epoch 30/50\t Time: 2.436\t Loss: 5.98548846\n",
            "INFO:root:  Epoch 31/50\t Time: 4.595\t Loss: 5.91837899\n",
            "INFO:root:  Epoch 32/50\t Time: 4.173\t Loss: 5.86972461\n",
            "INFO:root:  Epoch 33/50\t Time: 4.581\t Loss: 5.82296788\n",
            "INFO:root:  Epoch 34/50\t Time: 4.928\t Loss: 5.77628762\n",
            "INFO:root:  Epoch 35/50\t Time: 4.371\t Loss: 5.70544716\n",
            "INFO:root:  Epoch 36/50\t Time: 4.237\t Loss: 5.66933631\n",
            "INFO:root:  Epoch 37/50\t Time: 3.885\t Loss: 5.62254167\n",
            "INFO:root:  Epoch 38/50\t Time: 4.517\t Loss: 5.54512726\n",
            "INFO:root:  Epoch 39/50\t Time: 3.482\t Loss: 5.51164355\n",
            "INFO:root:  Epoch 40/50\t Time: 4.566\t Loss: 5.48353118\n",
            "INFO:root:  Epoch 41/50\t Time: 3.838\t Loss: 5.43820303\n",
            "INFO:root:  Epoch 42/50\t Time: 2.428\t Loss: 5.40014115\n",
            "INFO:root:  Epoch 43/50\t Time: 2.455\t Loss: 5.38117060\n",
            "INFO:root:  Epoch 44/50\t Time: 2.515\t Loss: 5.31868912\n",
            "INFO:root:  Epoch 45/50\t Time: 2.457\t Loss: 5.30854447\n"
          ]
        }
      ],
      "source": [
        "wandb.agent(sweep_id, train)"
      ]
    }
  ],
  "metadata": {
    "accelerator": "GPU",
    "colab": {
      "collapsed_sections": [],
      "name": "Αντίγραφο GNN_fingerprint.ipynb",
      "provenance": []
    },
    "kernelspec": {
      "display_name": "Python 3",
      "name": "python3"
    }
  },
  "nbformat": 4,
  "nbformat_minor": 0
}
