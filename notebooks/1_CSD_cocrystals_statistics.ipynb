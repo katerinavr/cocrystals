{
  "nbformat": 4,
  "nbformat_minor": 0,
  "metadata": {
    "colab": {
      "name": "1_CSD_cocrystals_statistics.ipynb",
      "provenance": [],
      "collapsed_sections": []
    },
    "kernelspec": {
      "display_name": "Python 3",
      "name": "python3"
    },
    "language_info": {
      "name": "python"
    }
  },
  "cells": [
    {
      "cell_type": "code",
      "source": [
        "!pip install rdkit-pypi"
      ],
      "metadata": {
        "colab": {
          "base_uri": "https://localhost:8080/"
        },
        "id": "l_2FC-xHe1Qb",
        "outputId": "40d3b24f-6697-4414-b1da-731c63a114d8"
      },
      "execution_count": 7,
      "outputs": [
        {
          "output_type": "stream",
          "name": "stdout",
          "text": [
            "Collecting rdkit-pypi\n",
            "  Downloading rdkit_pypi-2021.9.3-cp37-cp37m-manylinux_2_17_x86_64.manylinux2014_x86_64.whl (20.6 MB)\n",
            "\u001b[K     |████████████████████████████████| 20.6 MB 65.1 MB/s \n",
            "\u001b[?25hRequirement already satisfied: numpy>=1.19 in /usr/local/lib/python3.7/dist-packages (from rdkit-pypi) (1.19.5)\n",
            "Installing collected packages: rdkit-pypi\n",
            "Successfully installed rdkit-pypi-2021.9.3\n"
          ]
        }
      ]
    },
    {
      "cell_type": "code",
      "metadata": {
        "id": "oOHqtC7GcC03"
      },
      "source": [
        "# Import the main libraries\n",
        "import pandas as pd\n",
        "import numpy as np\n",
        "import matplotlib.pyplot as plt\n",
        "from rdkit import Chem\n",
        "from rdkit.Chem import AllChem, Descriptors\n",
        "from rdkit.Chem import Draw, MolFromSmiles, MolToSmiles\n",
        "#from scipy.spatial.distance import pdist, squareform"
      ],
      "execution_count": 67,
      "outputs": []
    },
    {
      "cell_type": "markdown",
      "source": [
        "# count co-formers frequency"
      ],
      "metadata": {
        "id": "c1Rb8rzLZ8Mw"
      }
    },
    {
      "cell_type": "code",
      "source": [
        "# Import the co-crystals dataset\n",
        "cocrystals = pd.read_csv('/content/csd_cocrystals2020.csv', encoding='latin1')"
      ],
      "metadata": {
        "id": "SscedXU5Z6t9"
      },
      "execution_count": 5,
      "outputs": []
    },
    {
      "cell_type": "code",
      "source": [
        "# Sort the co-formers based on molecular weight\n",
        "\n",
        "def feature_first(a, b, w_a, w_b):\n",
        "    ''' Sorting the smiles strings by having the heavier first '''\n",
        "    f, s = (a, b) if w_a > w_b else (b,a)\n",
        "    return f,s\n",
        "\n",
        "def feature_apply(smi):\n",
        "    return feature_first(smi[0], smi[1], Chem.Descriptors.MolWt(Chem.MolFromSmiles(smi[0])), \n",
        "    Chem.Descriptors.MolWt(Chem.MolFromSmiles(smi[1])))\n"
      ],
      "metadata": {
        "id": "ewAKTN3kekSF"
      },
      "execution_count": 9,
      "outputs": []
    },
    {
      "cell_type": "code",
      "source": [
        "cocrystals"
      ],
      "metadata": {
        "colab": {
          "base_uri": "https://localhost:8080/",
          "height": 423
        },
        "id": "Vo6OY3xtfYfm",
        "outputId": "c2c2f471-28ac-4390-a92c-57682d799ad1"
      },
      "execution_count": 10,
      "outputs": [
        {
          "output_type": "execute_result",
          "data": {
            "text/html": [
              "\n",
              "  <div id=\"df-622747d9-650e-467b-b15b-c57b7b777e80\">\n",
              "    <div class=\"colab-df-container\">\n",
              "      <div>\n",
              "<style scoped>\n",
              "    .dataframe tbody tr th:only-of-type {\n",
              "        vertical-align: middle;\n",
              "    }\n",
              "\n",
              "    .dataframe tbody tr th {\n",
              "        vertical-align: top;\n",
              "    }\n",
              "\n",
              "    .dataframe thead th {\n",
              "        text-align: right;\n",
              "    }\n",
              "</style>\n",
              "<table border=\"1\" class=\"dataframe\">\n",
              "  <thead>\n",
              "    <tr style=\"text-align: right;\">\n",
              "      <th></th>\n",
              "      <th>csd_id</th>\n",
              "      <th>name</th>\n",
              "      <th>smiles1</th>\n",
              "      <th>smiles2</th>\n",
              "      <th>year</th>\n",
              "      <th>functionality</th>\n",
              "      <th>group</th>\n",
              "    </tr>\n",
              "  </thead>\n",
              "  <tbody>\n",
              "    <tr>\n",
              "      <th>0</th>\n",
              "      <td>IANNOB</td>\n",
              "      <td>p-Iodoaniline-S-trinitrobenzene complex</td>\n",
              "      <td>Nc1ccc(I)cc1</td>\n",
              "      <td>O=N(=O)c1cc(cc(c1)N(=O)=O)N(=O)=O</td>\n",
              "      <td>1943</td>\n",
              "      <td>weak_bond</td>\n",
              "      <td>1</td>\n",
              "    </tr>\n",
              "    <tr>\n",
              "      <th>1</th>\n",
              "      <td>CLAHMB</td>\n",
              "      <td>Chloranil-hexamethylbenzene complex</td>\n",
              "      <td>ClC1=C(Cl)C(=O)C(=C(Cl)C1=O)Cl</td>\n",
              "      <td>Cc1c(C)c(C)c(C)c(C)c1C</td>\n",
              "      <td>1962</td>\n",
              "      <td>weak_bond</td>\n",
              "      <td>1</td>\n",
              "    </tr>\n",
              "    <tr>\n",
              "      <th>2</th>\n",
              "      <td>MTHMAD</td>\n",
              "      <td>9-Methyladenine-1-methylthymine complex</td>\n",
              "      <td>CN1C=Nc2c(N)ncnc12</td>\n",
              "      <td>CN1C=C(C)C(=O)NC1=O</td>\n",
              "      <td>1963</td>\n",
              "      <td>h-bond</td>\n",
              "      <td>2</td>\n",
              "    </tr>\n",
              "    <tr>\n",
              "      <th>3</th>\n",
              "      <td>PERFAN</td>\n",
              "      <td>Perylene-fluoranil complex</td>\n",
              "      <td>c1cc2cccc3c4cccc5cccc(c(c1)c23)c45</td>\n",
              "      <td>FC1=C(F)C(=O)C(=C(F)C1=O)F</td>\n",
              "      <td>1963</td>\n",
              "      <td>weak_bond</td>\n",
              "      <td>1</td>\n",
              "    </tr>\n",
              "    <tr>\n",
              "      <th>4</th>\n",
              "      <td>ANCTNB</td>\n",
              "      <td>Anthracene trinitrobenzene</td>\n",
              "      <td>c1ccc2cc3ccccc3cc2c1</td>\n",
              "      <td>O=N(=O)c1cc(cc(c1)N(=O)=O)N(=O)=O</td>\n",
              "      <td>1964</td>\n",
              "      <td>weak_bond</td>\n",
              "      <td>1</td>\n",
              "    </tr>\n",
              "    <tr>\n",
              "      <th>...</th>\n",
              "      <td>...</td>\n",
              "      <td>...</td>\n",
              "      <td>...</td>\n",
              "      <td>...</td>\n",
              "      <td>...</td>\n",
              "      <td>...</td>\n",
              "      <td>...</td>\n",
              "    </tr>\n",
              "    <tr>\n",
              "      <th>7474</th>\n",
              "      <td>UKITEQ</td>\n",
              "      <td>3-(3,4,5-trimethoxyphenyl)prop-2-enoic acid se...</td>\n",
              "      <td>Cc1cccc2SC(=Nc12)N</td>\n",
              "      <td>COc1cc(C=CC(O)=O)cc(OC)c1OC</td>\n",
              "      <td>2021</td>\n",
              "      <td>h-bond</td>\n",
              "      <td>2</td>\n",
              "    </tr>\n",
              "    <tr>\n",
              "      <th>7475</th>\n",
              "      <td>UKITUG</td>\n",
              "      <td>hemikis(decanedioic acid) 4-methyl-1,3-benzoth...</td>\n",
              "      <td>Cc1cccc2SC(=Nc12)N</td>\n",
              "      <td>OC(=O)CCCCCCCCC(O)=O</td>\n",
              "      <td>2021</td>\n",
              "      <td>h-bond</td>\n",
              "      <td>2</td>\n",
              "    </tr>\n",
              "    <tr>\n",
              "      <th>7476</th>\n",
              "      <td>UKIVIW</td>\n",
              "      <td>4-methyl-1,3-benzothiazol-2-amine hemikis(buta...</td>\n",
              "      <td>Cc1cccc2SC(=Nc12)N</td>\n",
              "      <td>OC(=O)CC(C(CC(O)=O)C(O)=O)C(O)=O</td>\n",
              "      <td>2021</td>\n",
              "      <td>h-bond</td>\n",
              "      <td>2</td>\n",
              "    </tr>\n",
              "    <tr>\n",
              "      <th>7477</th>\n",
              "      <td>ULECEW</td>\n",
              "      <td>4-phenyl-4H-4Ì?åÈ5-phospholo[3,2-b:4,5-b']bist...</td>\n",
              "      <td>O=P1(c2ccccc2)C2=C(SC=C2)C2=C1C=CS2</td>\n",
              "      <td>Oc1c(O)c(Cl)c(Cl)c(Cl)c1Cl</td>\n",
              "      <td>2021</td>\n",
              "      <td>h-bond</td>\n",
              "      <td>2</td>\n",
              "    </tr>\n",
              "    <tr>\n",
              "      <th>7478</th>\n",
              "      <td>ULOLIT</td>\n",
              "      <td>5-[(3,4,5-trimethoxyphenyl)methyl]pyrimidine-2...</td>\n",
              "      <td>COc1cc(Cc2cnc(N)nc2N)cc(OC)c1OC</td>\n",
              "      <td>c1cc(ccn1)N=Nc1ccncc1</td>\n",
              "      <td>2021</td>\n",
              "      <td>h-bond</td>\n",
              "      <td>2</td>\n",
              "    </tr>\n",
              "  </tbody>\n",
              "</table>\n",
              "<p>7479 rows × 7 columns</p>\n",
              "</div>\n",
              "      <button class=\"colab-df-convert\" onclick=\"convertToInteractive('df-622747d9-650e-467b-b15b-c57b7b777e80')\"\n",
              "              title=\"Convert this dataframe to an interactive table.\"\n",
              "              style=\"display:none;\">\n",
              "        \n",
              "  <svg xmlns=\"http://www.w3.org/2000/svg\" height=\"24px\"viewBox=\"0 0 24 24\"\n",
              "       width=\"24px\">\n",
              "    <path d=\"M0 0h24v24H0V0z\" fill=\"none\"/>\n",
              "    <path d=\"M18.56 5.44l.94 2.06.94-2.06 2.06-.94-2.06-.94-.94-2.06-.94 2.06-2.06.94zm-11 1L8.5 8.5l.94-2.06 2.06-.94-2.06-.94L8.5 2.5l-.94 2.06-2.06.94zm10 10l.94 2.06.94-2.06 2.06-.94-2.06-.94-.94-2.06-.94 2.06-2.06.94z\"/><path d=\"M17.41 7.96l-1.37-1.37c-.4-.4-.92-.59-1.43-.59-.52 0-1.04.2-1.43.59L10.3 9.45l-7.72 7.72c-.78.78-.78 2.05 0 2.83L4 21.41c.39.39.9.59 1.41.59.51 0 1.02-.2 1.41-.59l7.78-7.78 2.81-2.81c.8-.78.8-2.07 0-2.86zM5.41 20L4 18.59l7.72-7.72 1.47 1.35L5.41 20z\"/>\n",
              "  </svg>\n",
              "      </button>\n",
              "      \n",
              "  <style>\n",
              "    .colab-df-container {\n",
              "      display:flex;\n",
              "      flex-wrap:wrap;\n",
              "      gap: 12px;\n",
              "    }\n",
              "\n",
              "    .colab-df-convert {\n",
              "      background-color: #E8F0FE;\n",
              "      border: none;\n",
              "      border-radius: 50%;\n",
              "      cursor: pointer;\n",
              "      display: none;\n",
              "      fill: #1967D2;\n",
              "      height: 32px;\n",
              "      padding: 0 0 0 0;\n",
              "      width: 32px;\n",
              "    }\n",
              "\n",
              "    .colab-df-convert:hover {\n",
              "      background-color: #E2EBFA;\n",
              "      box-shadow: 0px 1px 2px rgba(60, 64, 67, 0.3), 0px 1px 3px 1px rgba(60, 64, 67, 0.15);\n",
              "      fill: #174EA6;\n",
              "    }\n",
              "\n",
              "    [theme=dark] .colab-df-convert {\n",
              "      background-color: #3B4455;\n",
              "      fill: #D2E3FC;\n",
              "    }\n",
              "\n",
              "    [theme=dark] .colab-df-convert:hover {\n",
              "      background-color: #434B5C;\n",
              "      box-shadow: 0px 1px 3px 1px rgba(0, 0, 0, 0.15);\n",
              "      filter: drop-shadow(0px 1px 2px rgba(0, 0, 0, 0.3));\n",
              "      fill: #FFFFFF;\n",
              "    }\n",
              "  </style>\n",
              "\n",
              "      <script>\n",
              "        const buttonEl =\n",
              "          document.querySelector('#df-622747d9-650e-467b-b15b-c57b7b777e80 button.colab-df-convert');\n",
              "        buttonEl.style.display =\n",
              "          google.colab.kernel.accessAllowed ? 'block' : 'none';\n",
              "\n",
              "        async function convertToInteractive(key) {\n",
              "          const element = document.querySelector('#df-622747d9-650e-467b-b15b-c57b7b777e80');\n",
              "          const dataTable =\n",
              "            await google.colab.kernel.invokeFunction('convertToInteractive',\n",
              "                                                     [key], {});\n",
              "          if (!dataTable) return;\n",
              "\n",
              "          const docLinkHtml = 'Like what you see? Visit the ' +\n",
              "            '<a target=\"_blank\" href=https://colab.research.google.com/notebooks/data_table.ipynb>data table notebook</a>'\n",
              "            + ' to learn more about interactive tables.';\n",
              "          element.innerHTML = '';\n",
              "          dataTable['output_type'] = 'display_data';\n",
              "          await google.colab.output.renderOutput(dataTable, element);\n",
              "          const docLink = document.createElement('div');\n",
              "          docLink.innerHTML = docLinkHtml;\n",
              "          element.appendChild(docLink);\n",
              "        }\n",
              "      </script>\n",
              "    </div>\n",
              "  </div>\n",
              "  "
            ],
            "text/plain": [
              "      csd_id  ... group\n",
              "0     IANNOB  ...     1\n",
              "1     CLAHMB  ...     1\n",
              "2     MTHMAD  ...     2\n",
              "3     PERFAN  ...     1\n",
              "4     ANCTNB  ...     1\n",
              "...      ...  ...   ...\n",
              "7474  UKITEQ  ...     2\n",
              "7475  UKITUG  ...     2\n",
              "7476  UKIVIW  ...     2\n",
              "7477  ULECEW  ...     2\n",
              "7478  ULOLIT  ...     2\n",
              "\n",
              "[7479 rows x 7 columns]"
            ]
          },
          "metadata": {},
          "execution_count": 10
        }
      ]
    },
    {
      "cell_type": "code",
      "source": [
        "smiles=[]\n",
        "for i,j in enumerate(cocrystals.csd_id.values[:]):\n",
        "  smi1 = cocrystals.smiles1.values[i]\n",
        "  smi2 = cocrystals.smiles2.values[i]\n",
        "  smi = [smi1, smi2]\n",
        "  #print(smi)\n",
        "  smiles.append(feature_apply(smi))"
      ],
      "metadata": {
        "id": "iLxmJVDMcOPX"
      },
      "execution_count": 31,
      "outputs": []
    },
    {
      "cell_type": "code",
      "source": [
        "from collections import Counter\n",
        "from itertools import chain\n",
        "\n",
        "coformers1_count = Counter(chain(pd.DataFrame(smiles).iloc[:, 0].values))\n",
        "print(coformers1_count)"
      ],
      "metadata": {
        "id": "1up4apdvcOgV",
        "colab": {
          "base_uri": "https://localhost:8080/"
        },
        "outputId": "5812732b-4df2-4452-8c2a-5002acc6a05e"
      },
      "execution_count": 55,
      "outputs": [
        {
          "output_type": "stream",
          "name": "stdout",
          "text": [
            "Counter({'Fc1c(F)c(I)c(F)c(F)c1I': 246, 'c1cc(ccn1)C=Cc1ccncc1': 83, 'c1cc(ccn1)c1ccncc1': 66, 'O=P(c1ccccc1)(c1ccccc1)c1ccccc1': 62, 'CN1C=NC2=C1C(=O)N(C)C(=O)N2C': 58, 'C(Cc1ccncc1)c1ccncc1': 56, 'C1COCCOCCOCCOCCOCCO1': 55, 'CN1C(=O)N(C)C2=C(NC=N2)C1=O': 54, 'Fc1c(I)c(F)c(I)c(F)c1I': 52, 'OC(=O)c1cc(cc(c1)N(=O)=O)N(=O)=O': 50, 'Fc1c(F)c(F)c(I)c(I)c1F': 41, 'Fc1c(F)c(I)c(F)c(I)c1F': 37, 'NC(=O)N1c2ccccc2C=Cc2ccccc12': 35, 'O=N(=O)c1cc(cc(c1)N(=O)=O)N(=O)=O': 34, 'Fc1c(F)c(F)c2c(F)c(F)c(F)c(F)c2c1F': 33, 'c1ccc2nc3ccccc3nc2c1': 33, 'c1ccc2nc3ccccc3cc2c1': 32, 'Oc1c(cc(cc1N(=O)=O)N(=O)=O)N(=O)=O': 31, 'Oc1ccc2ccccc2c1c1c(O)ccc2ccccc12': 30, 'Fc1c(F)c(Br)c(F)c(F)c1Br': 28, 'Cc1cc(C)nc(NS(=O)(=O)c2ccc(N)cc2)n1': 27, 'FC(F)(I)C(F)(F)C(F)(F)C(F)(F)I': 26, 'OC(=O)c1ccc(O)cc1': 24, 'OC1=C(Cl)C(=O)C(=C(Cl)C1=O)O': 23, 'N#CC(C#N)=C1C=CC(C=C1)=C(C#N)C#N': 22, 'C1N2CN3CN1CN(C2)C3': 22, 'OC(=O)CCC(O)=O': 22, 'OC(=O)c1ccc(cc1)N(=O)=O': 22, 'CCOc1ccc(c(OCC)c1)C12CC3(CC(C1)(CC(C2)(C3)c1ccc(OCC)cc1OCC)c1ccc(OCC)cc1OCC)c1ccc(OCC)cc1OCC': 22, 'Cc1c(cc(cc1N(=O)=O)N(=O)=O)N(=O)=O': 21, 'OC(=O)c1ccc(cc1Cl)N(=O)=O': 21, 'OC(=O)CCCCCCCCC(O)=O': 21, 'Fc1c(F)c(F)c(I)c(F)c1F': 20, 'N#Cc1cc(C#N)c(cc1C#N)C#N': 19, 'OC(=O)c1ccccc1O': 19, 'OC(=O)CCCCC(O)=O': 19, 'c1cnc2c(c1)ccc1cccnc21': 19, 'C(Cc1ccncc1)Cc1ccncc1': 19, 'ClC1=C(Cl)C(=O)C(=C(Cl)C1=O)Cl': 18, 'IC(I)=C(I)I': 18, 'Nc1ccc(cc1)C(O)=O': 18, 'OC(C#CC#CC(O)(c1ccccc1)c1ccccc1)(c1ccccc1)c1ccccc1': 18, 'CC(=O)NC1=NN=C(S1)S(N)(=O)=O': 18, 'O=N(=O)N1C2C3N(C1C1N(C(C(N3N(=O)=O)N1N(=O)=O)N2N(=O)=O)N(=O)=O)N(=O)=O': 18, 'OC(=O)c1ccccc1SSc1ccccc1C(O)=O': 17, 'CCC1(CC)C(=O)NC(=O)NC1=O': 16, 'OC(=O)CCCC(O)=O': 16, 'CCCCCCCCOc1ccc(cc1)C=Cc1ccncc1': 16, 'FC(F)(I)C(F)(F)C(F)(F)C(F)(F)C(F)(F)C(F)(F)C(F)(F)C(F)(F)I': 16, 'NC(=O)c1ccncc1': 16, 'c1cc(ccn1)N=Nc1ccncc1': 16, 'CCOc1ccccc1C(N)=O': 16, 'c1cc2cccc3c4cccc5cccc(c(c1)c23)c45': 15, 'C12=C3C4=C5C6=C7C3=C3C8=C1C1=C9C%10=C2C4=C2C4=C%10C%10=C%11C%12=C4C4=C%13C%14=C(C5=C24)C6=C2C4=C7C3=C3C5=C8C1=C1C(=C9%10)C6=C%11C7=C8C9=C6C1=C5C1=C9C5=C(C4=C31)C2=C%14C(=C85)C%13=C%127': 15, 'Ic1ccc(I)cc1': 15, 'OC(=O)c1cc(cc(c1)C(O)=O)C(O)=O': 15, 'FC(F)(I)C(F)(F)C(F)(F)C(F)(F)C(F)(F)C(F)(F)I': 15, 'Nc1nc(N)nc(n1)c1ccccc1': 15, 'OC(=O)c1cccc(c1)N(=O)=O': 15, 'OC(=O)CCCCCC(O)=O': 15, 'O1C(=NN=C1c1ccncc1)c1ccncc1': 15, 'NS(=O)(=O)c1cc2c(NCNS2(=O)=O)cc1Cl': 14, 'Fc1c(F)c(N=Nc2c(F)c(F)c(I)c(F)c2F)c(F)c(F)c1I': 14, 'O=C1OC(=O)c2cc3C(=O)OC(=O)c3cc12': 13, 'OC(=O)C=CC(O)=O': 13, 'FC(F)(I)C(F)(F)I': 13, 'NS(=O)(=O)c1cc(C(O)=O)c(NCC2=CC=CO2)cc1Cl': 13, 'Oc1ccc(O)cc1': 12, 'CC(=O)C1CCC2C3CCC4=CC(=O)CCC4(C)C3CCC12C': 12, 'BrC1=C(Br)C(=O)C(=C(Br)C1=O)Br': 12, 'Oc1ccc(cc1)c1ccc(O)cc1': 12, 'OC(=O)c1ccccc1C(O)=O': 12, 'FC1=C(F)C(C(=C(F)C1=C(C#N)C#N)F)=C(C#N)C#N': 12, 'OC(=O)c1cc(O)ccc1O': 12, 'Cc1ccc(cc1)C1=CC(=NN1c1ccc(cc1)S(N)(=O)=O)C(F)(F)F': 12, 'CC(=O)NC1=Nc2c(Oc3cc(ncn3)c3ccc(cc3)C(F)(F)F)cccc2S1': 12, 'O=C1CN(N=CC2=CC=C(O2)N(=O)=O)C(=O)N1': 12, 'Oc1cc(O)c(I)cc1I': 12, 'OC(=O)c1cc(O)c(O)c(O)c1': 12, 'NC1=Nc2ccc(OC(F)(F)F)cc2S1': 12, 'Oc1c(Cl)c(Cl)c(Cl)c(Cl)c1Cl': 11, 'c1cc2ccc3cccc4ccc(c1)c2c34': 11, 'CC1(C)OC(C(O1)C(O)(c1ccccc1)c1ccccc1)C(O)(c1ccccc1)c1ccccc1': 11, 'OC(C1OC2(CCCCC2)OC1C(O)(c1ccccc1)c1ccccc1)(c1ccccc1)c1ccccc1': 11, 'COc1ccc2cc(ccc2c1)C(C)C(O)=O': 11, 'O=C1NCc2ccc(CNC(=O)c3cccc(c3)C(=O)NCc3ccc(CNC(=O)c4cccc1c4)cc3)cc2': 11, 'CC(C)Cc1ccc(cc1)C(C)C(O)=O': 11, 'Nc1ccc(cc1)S(=O)(=O)c1ccc(N)cc1': 11, 'CCC(N1CCCC1=O)C(N)=O': 11, 'Oc1ccc(I)cc1': 11, 'Oc1ccc(cc1)C=Cc1cc(O)cc(O)c1': 11, 'CN1C=NC2=C1C(=O)NC(=O)N2C': 10, 'Fc1c(F)c(F)c(F)c(F)c1F': 10, 'Nc1ccc(cc1)S(=O)(=O)N=C1NC=CS1': 10, 'OC(=O)CCCCCCC(O)=O': 10, 'Oc1ccc(cc1)N(=O)=O': 10, 'OC(=O)c1c(F)c(F)c(F)c(F)c1F': 10, 'Cc1cc(O)cc(O)c1': 10, 'c1ccc(cc1)c1ccncc1': 10, 'Oc1cc(O)c2C(=O)C(=C(Oc2c1)c1ccc(O)c(O)c1)O': 10, 'CC1=NN=C2CN=C(c3ccccc3)c3cc(Cl)ccc3N12': 10, 'CN1C(=C(O)c2ccccc2S1(=O)=O)C(=O)NC1=NC=C(C)S1': 10, 'NNC(=O)c1ccncc1': 10, 'O=N(=O)N1C2C3N(C4C1N(C(C(N2N(=O)=O)N3N(=O)=O)N4N(=O)=O)N(=O)=O)N(=O)=O': 10, 'Oc1cc(O)c(Br)cc1Br': 10, 'COc1ccc(c(OC)c1)C12CC3(CC(C1)(CC(C2)(C3)c1ccc(OC)cc1OC)c1ccc(OC)cc1OC)c1ccc(OC)cc1OC': 10, 'Oc1ccc(cc1)C(c1ccc(O)cc1)=C(c1ccc(O)cc1)c1ccc(O)cc1': 10, 'BrN1C(=O)c2ccccc2C1=O': 10, 'CC1=NC=C(N1CCOC(=O)c1ccccc1)N(=O)=O': 10, 'ClC1=C(Cl)C(=O)C(=C(C#N)C1=O)C#N': 9, 'S1C=CSC1=C1SC=CS1': 9, 'COCC1OC2OC3C(COC)OC(OC4C(COC)OC(OC5C(COC)OC(OC6C(COC)OC(OC7C(COC)OC(OC8C(COC)OC(OC1C(OC)C2OC)C(OC)C8OC)C(OC)C7OC)C(OC)C6OC)C(OC)C5OC)C(OC)C4OC)C(OC)C3OC': 9, 'OC(=O)C=Cc1ccccc1': 9, 'O[Si](c1ccccc1)(c1ccccc1)c1ccccc1': 9, 'c1ccc(nc1)c1ccccn1': 9, 'O=C(NCc1ccncc1)C(=O)NCc1ccncc1': 9, 'OC(=O)c1cc(C(O)=O)c(cc1C(O)=O)C(O)=O': 9, 'OC(=O)c1cccc(c1)C(O)=O': 9, 'OC(=O)c1cccc(O)c1': 9, 'c1cc2ccc3ccc4ccc5ccc6ccc1c1c2c3c4c5c61': 9, 'OC(=O)c1c(F)c(F)c(I)c(F)c1F': 9, 'OC(CN1C=NC=N1)(CN1C=NC=N1)c1ccc(F)cc1F': 9, 'OC(=O)c1ccccc1Nc1cccc(c1)C(F)(F)F': 9, 'Nc1ccc(C(O)=O)c(O)c1': 9, 'CN1N=NC2=C(N=CN2C1=O)C(N)=O': 9, 'CN1C(=C(O)c2ccccc2S1(=O)=O)C(=O)Nc1ccccn1': 9, 'OC(=O)c1c(F)c(F)c(C(O)=O)c(F)c1F': 9, 'OC(C(O)C(O)(c1ccccc1)c1ccccc1)C(O)(c1ccccc1)c1ccccc1': 9, 'Fc1c(F)c(c(F)c(F)c1I)c1c(F)c(F)c(I)c(F)c1F': 9, 'O=P(C1CCCCC1)(C1CCCCC1)C1CCCCC1': 9, 'CC1=NNC(S1)=NS(=O)(=O)c1ccc(N)cc1': 9, 'CCCCNc1cc(cc(c1Oc1ccccc1)S(N)(=O)=O)C(O)=O': 9, 'Oc1ccc(cc1)c1nc(nc(n1)c1ccc(O)cc1)c1ccc(O)cc1': 9, 'Cc1ccc2ccc3ccc(C)nc3c2n1': 8, 'Oc1ccc(cc1)S(=O)(=O)c1ccc(O)cc1': 8, 'OC(=O)c1ccccc1N(=O)=O': 8, 'c1ccc2c(c1)ccc1ccc3ccc4ccc5ccccc5c4c3c21': 8, 'OC(=O)c1cccc(Cl)c1N(=O)=O': 8, 'OC(=O)C12CC3CC(C1)CC(C3)(C2)C(O)=O': 8, 'Cc1nc(C)c(C)nc1C': 8, 'OC(=O)Cc1ccccc1Nc1c(Cl)cccc1Cl': 8, 'CC(C)=NNC(=O)c1ccncc1': 8, 'IN1C(=O)CCC1=O': 8, 'CC1=NN(C(=C1)C)c1nnc(nn1)N1N=C(C)C=C1C': 8, 'COc1ccc2cccc(CCNC(C)=O)c2c1': 8, 'COc1cc(ccc1O)C(O)=O': 8, 'CC(=O)N1CCN(CC1)c1ccc(OCC2COC(CN3C=CN=C3)(O2)c2ccc(Cl)cc2Cl)cc1': 8, 'NS(=O)(=O)c1ccc(cc1)C(O)=O': 8, 'Oc1ccc(cc1)C1CC(=O)c2c(O)cc(O)cc2O1': 8, 'Clc1c(Cl)c(I)c(Cl)c(Cl)c1I': 8, 'BrCCOc1cc2Cc3cc(OCCBr)c(Cc4cc(OCCBr)c(Cc5cc(OCCBr)c(Cc6cc(OCCBr)c(Cc7cc(OCCBr)c(Cc1cc2OCCBr)cc7OCCBr)cc6OCCBr)cc5OCCBr)cc4OCCBr)cc3OCCBr': 8, 'FC1=CNC(=O)NC1=O': 7, 'CC12CCC3C(CCc4cc(O)ccc34)C1CCC2O': 7, 'OC(=O)C(O)=O': 7, 'O=C1c2cc(ccc2c2c1cc(cc2N(=O)=O)N(=O)=O)N(=O)=O': 7, 'C1COCCOCCNCCOCCOCCN1': 7, 'CC(CCC(O)=O)C1CCC2C3CCC4CC(O)CCC4(C)C3CC(O)C12C': 7, 'OC(=O)C(OC(=O)c1ccccc1)C(OC(=O)c1ccccc1)C(O)=O': 7, 'NC1=Nc2ccccc2S1': 7, 'Nc1ccccc1C(O)=O': 7, 'OC(C(O)C(O)=O)C(O)=O': 7, 'Oc1ccc(Sc2ccc(O)cc2)cc1': 7, 'OC(=O)c1cc(cc(c1O)N(=O)=O)N(=O)=O': 7, 'Oc1ccccc1c1ccccc1O': 7, 'OC(=O)CCCCCCCC(O)=O': 7, 'OC(=O)c1ccc(cc1)C(O)=O': 7, 'c1ccc(C=Cc2ccccn2)nc1': 7, 'OC1=C(Br)C(=O)C(=C(Br)C1=O)O': 7, 'O=P(CCP(=O)(c1ccccc1)c1ccccc1)(c1ccccc1)c1ccccc1': 7, 'NC(=O)c1ccc(cc1)N(=O)=O': 7, 'C(N1C=CN=C1)c1ccc(CN2C=CN=C2)cc1': 7, 'OC(=O)c1ccccc1Cl': 7, 'Oc1c(F)c(F)c(I)c(F)c1F': 7, 'OC(=O)CC(O)(CC(O)=O)C(O)=O': 7, 'O=S(Cc1ccccc1)Cc1ccccc1': 7, 'Nc1nnc(c(N)n1)c1cccc(Cl)c1Cl': 7, 'CCOC(=O)NC(=S)Nc1ccccc1NC(=S)NC(=O)OCC': 7, 'BrN1C(=O)CCC1=O': 7, 'Oc1cc(Cl)c(Cl)c(Cl)c1': 7, 'Cc1ccnc2N(C3CC3)c3ncccc3C(=O)Nc12': 7, 'CCN1C=C(C(O)=O)C(=O)c2ccc(C)nc12': 7, 'Oc1c(F)c(F)c(Br)c(F)c1F': 7, 'O=C1CN(CC2N1CCc1ccccc21)C(=O)C1CCCCC1': 7, 'OB(O)c1ccc(I)cc1': 7, 'COc1ccc2N(C(=C(CC(=O)OCC(O)=O)c2c1)C)C(=O)c1ccc(Cl)cc1': 7, 'Ic1c(c(I)c(c(I)c1N(=O)=O)N(=O)=O)N(=O)=O': 7, 'OC(=O)c1cc(Cl)cc(Cl)c1O': 7, 'c1ccc2nc3nc4ccccc4nc3nc2c1': 7, 'FC1=C(F)C2=C(F)C(C(=C(F)C2=C(F)C1=C(C#N)C#N)F)=C(C#N)C#N': 7, 'CC1CCC2C(C)C(=O)NC3OC4(C)CCC1C23OO4': 7, 'Cc1nc(C)c(Cl)c(N)n1': 7, 'CCN1C=Nc2c(N)ncnc12': 6, 'Oc1cc(O)cc(O)c1': 6, 'CC1=CNC(=O)NC1=O': 6, 'CN1N(C(=O)C=C1C)c1ccccc1': 6, 'COc1cc(Cc2cnc(N)nc2N)cc(OC)c1OC': 6, 'OC(=O)CC(O)=O': 6, 'Cc1ccc(cc1)C(=O)OC(C(OC(=O)c1ccc(C)cc1)C(O)=O)C(O)=O': 6, 'OC(C(O)c1ccccc1)c1ccccc1': 6, 'OC(=O)Cc1cccc2ccccc12': 6, 'OC(=O)c1ccccc1': 6, 'c1cc(ccn1)C1C(C(C1c1ccncc1)c1ccncc1)c1ccncc1': 6, 'c1cc(ccn1)C#Cc1ccncc1': 6, 'OC(=O)c1cc(ccc1Cl)N(=O)=O': 6, 'OC(=O)C1CC(CC(C1)C(O)=O)C(O)=O': 6, 'CC(C(O)=O)c1ccc(c(F)c1)c1ccccc1': 6, 'Fc1c(F)c(Br)c(F)c(Br)c1F': 6, 'O1C(=NN=C1c1cccnc1)c1cccnc1': 6, 'COc1cc(OC)nc(N)n1': 6, 'c1cc2cccc(c3ccncc3)c2c(c1)c1ccncc1': 6, 'ON=Cc1c(F)c(F)c(I)c(F)c1F': 6, 'NC(=O)c1cccnc1': 6, 'Ic1cc(cc(c1)N(=O)=O)N(=O)=O': 6, 'OC(=O)c1ccc(O)cc1O': 6, 'Cc1cccc(Nc2ccccc2C(O)=O)c1C': 6, 'COc1cc(C=CC(O)=O)ccc1O': 6, 'CC(C)C1=C(C)N(C)N(c2ccccc2)C1=O': 6, 'Oc1ccc(Cl)cc1C(=O)Nc1ccc(cc1Cl)N(=O)=O': 6, 'NC1=NC(=O)NC=C1F': 6, 'Cc1cc(cc(C)c1N)c1cc(C)c(N)c(C)c1': 6, 'OC(=O)c1cc(O)cc(O)c1': 6, 'CC(NC(c1ccccc1)(c1ccccc1)c1ccccc1)C(=O)NC(c1ccccc1)(c1ccccc1)c1ccccc1': 6, 'OC1(C#CC2(O)c3ccccc3c3ccccc23)c2ccccc2c2ccccc12': 6, 'C(N1C=CN=C1C1=NC=CN1Cc1ccncc1)c1ccncc1': 6, 'CC(=O)Oc1cc(ccc1C(O)=O)C(F)(F)F': 6, 'Cc1cc(O)c2C(=O)c3c(O)cc(O)cc3C(=O)c2c1': 6, 'Oc1ccc(Br)cc1C=Nc1cccnc1': 6, 'Oc1ccc(Br)cc1': 5, 'Oc1cccc(O)c1': 5, 'CC(=O)NS(=O)(=O)c1ccc(N)cc1': 5, 'OC(=O)CC1=CNc2ccccc12': 5, 'S1C(Sc2ccccc12)=C1Sc2ccccc2S1': 5, 'COc1cc2[Se]c3cc(OC)c(OC)cc3[Se]c2cc1OC': 5, 'COc1cc2Sc3cc(OC)c(OC)cc3Sc2cc1OC': 5, 'C1CN2CCN1CC2': 5, 'C1CCC2OCCOCCOC3CCCCC3OCCOCCOC2C1': 5, 'O[Si](O[Si](O)(c1ccccc1)c1ccccc1)(c1ccccc1)c1ccccc1': 5, 'C12=C3C4=C5C6=C3C3=C7C8=C9C3=C1C1=C3C9=C9C%10=C3C3=C%11C%12=C%13C3=C1C2=C1C4=C2C(=C%131)C1=C%12C3=C4C%12=C1C1=C%13C%14=C(C5=C21)C1=C2C5=C(C7=C61)C1=C6C5=C5C(=C%142)C(=C%12%13)C2=C4C4=C3C%11=C%10C3=C4C(=C52)C6=C3C9=C81': 5, 'C1COCCOCCOc2ccccc2OCCOCCO1': 5, 'O=N(=O)c1cc(cc(c1)N(=O)=O)C#N': 5, 'O=N(=O)N1CN(CN(CN(C1)N(=O)=O)N(=O)=O)N(=O)=O': 5, 'Oc1cc(O)cc(c1)c1c2ccccc2c(c2cc(O)cc(O)c2)c2ccccc12': 5, 'OC(=O)c1cc(ccc1O)N(=O)=O': 5, 'CC(C)(c1ccc(O)cc1)c1ccc(O)cc1': 5, 'CC(c1ccc(O)cc1)(c1ccc(O)cc1)c1ccc(O)cc1': 5, 'FC1=C(F)C(=O)C(=C(F)C1=O)F': 5, 'COC(=O)NC1=Nc2ccc(cc2N1)C(=O)c1ccccc1': 5, 'O=C(NCc1cccnc1)C(=O)NCc1cccnc1': 5, 'CC1c2cc(C(C)c3cc(C(C)c4cc(C(C)c5cc1c(O)cc5O)c(O)cc4O)c(O)cc3O)c(O)cc2O': 5, 'N(c1ccc(Nc2ccccn2)cc1)c1ccccn1': 5, 'OC(=O)c1cc(Cl)ccc1O': 5, 'OC(=O)c1ccc(Cl)c(c1)N(=O)=O': 5, 'OC(C(O)=O)c1ccccc1': 5, 'OC(=O)c1ccc(Cl)cc1N(=O)=O': 5, 'NC(=O)c1ccc(Cl)cc1': 5, 'N(c1cccc(Nc2ccccn2)c1)c1ccccn1': 5, 'Fc1c(F)c(F)c(Br)c(Br)c1F': 5, 'OC(=O)c1ccccc1c1ccccc1C(O)=O': 5, 'c1ccc2nccnc2c1': 5, 'NC(=O)c1cc(cc(c1)N(=O)=O)N(=O)=O': 5, 'Oc1c(F)c(F)c(F)c(F)c1F': 5, 'CC1=C(C(=NN1)C)C1=C(C)NN=C1C': 5, 'Oc1cccc(O)c1O': 5, 'OC(=O)c1cccc(C(O)=O)c1C(O)=O': 5, 'Oc1ccc(cc1)C1(c2ccc(O)cc2)c2ccccc2c2ccccc12': 5, 'Oc1ccc2ccc(O)cc2c1': 5, 'CC(=O)Nc1ccccn1': 5, 'NC1=NC(=CS1)C1=CSC(=N1)N': 5, 'C1CN2CN3CN1CN(C2)C3': 5, 'CC(=O)C1CCC2C3CC=C4CC(O)CCC4(C)C3CCC12C': 5, 'OC(=O)c1ccc2cc(O)ccc2c1': 5, 'OC(=O)CC(C(O)=O)c1ccccc1': 5, 'c1cc(ccn1)C=NN=Cc1ccncc1': 5, 'OC(=O)C1CC(C(CC1C(O)=O)C(O)=O)C(O)=O': 5, 'OC(=O)c1ccc(Cl)cc1': 5, 'OC(=O)c1c(F)c(F)c(Br)c(F)c1F': 5, 'OC(=O)c1cccnc1Nc1cccc(c1)C(F)(F)F': 5, 'N#Cc1ccc(C=Cc2ccc(cc2)C=Cc2ccc(cc2)C#N)cc1': 5, 'NC(=O)c1cnccn1': 5, 'NC1=Nc2ccc(Br)cc2S1': 5, 'NC(=O)c1ccc(O)cc1': 5, 'CCOc1cc2Cc3cc(OCC)c(Cc4cc(OCC)c(Cc5cc(OCC)c(Cc6cc(OCC)c(Cc1cc2OCC)cc6OCC)cc5OCC)cc4OCC)cc3OCC': 5, 'IC#Cc1ccc(cc1)C#CI': 5, 'CC1(CO)C(O)CCC2(C)C(CC=C3C(O)COC3=O)C(=C)CCC12': 5, 'OC(=O)c1cccc(O)c1O': 5, 'FC1=CN(C2CCCO2)C(=O)NC1=O': 5, 'OC(=O)c1cc(ccc1O)c1ccc(F)cc1F': 5, 'S=C1NC(=S)NC(=S)N1': 5, 'CC1=CC(=NO1)NS(=O)(=O)c1ccc(N)cc1': 5, 'Brc1ccc(cc1)C(c1ccc(Br)cc1)=C(c1ccc(Br)cc1)c1ccc(Br)cc1': 5, 'CN1CC(=Cc2ccncc2)C(=O)C(C1)=Cc1ccncc1': 5, 'COc1cc(C=CC(O)=O)cc(OC)c1O': 5, 'Brc1cc(Br)c2nc3C4Cc5cc6cc(Br)cc(Br)c6nc5C(Cc3cc2c1)S4': 5, 'c1cc2cc3cccc4C#Cc5cc6cc(c5)C#Cc5cccc7cc8cccc(C#Cc9cc(cc(c9)C#Cc9cccc%10cc%11cccc(C#C6)c%11cc9%10)C#Cc(c1)c2cc34)c8cc57': 5, 'CCCCCCOc1ccc(cc1)N=Nc1ccncc1': 5, 'O=C(NN=Cc1cccnc1)c1ccccn1': 5, 'NS(=O)(=O)c1cc2c(NC=NS2(=O)=O)cc1Cl': 5, 'BrC1=C(Br)C(=O)C(=C(C#N)C1=O)C#N': 5, 'Cc1ccc(cc1)N1C(=CC2=C1C=C(N2c1ccc(C)cc1)c1cccnc1)c1cccnc1': 5, 'CCC(c1ccc(O)cc1)=C(CC)c1ccc(O)cc1': 5, 'O=C(NCCON(=O)=O)c1cccnc1': 5, 'O=C1c2ccc(cc2)C(=O)c2ccc(cc2)C(=O)c2ccc3C(=O)c4ccc(cc4c3c2)C(=O)c2ccc1cc2': 5, 'Fc1c(F)c(F)c(N=Cc2ccncc2)c(F)c1F': 5, 'CN1C=C(Br)C(=O)NC1=O': 4, 'Oc1ccc(Cl)cc1': 4, 'c1ccc2c(c1)ccc1c3ccccc3ccc21': 4, 'CC1=C(C)SC(S1)=C1SC(=C(C)S1)C': 4, 'Nc1ncnc2N(C=Nc12)C1OC(CO)C(O)C1O': 4, 'N1c2ccccc2Sc2ccccc12': 4, 'C1CSC2=C(S1)SC(S2)=C1SC2=C(SCCS2)S1': 4, 'O=C1c2cc(cc(c2c2c1cc(cc2N(=O)=O)N(=O)=O)N(=O)=O)N(=O)=O': 4, 'c1ccc2c(c1)cnc1ccccc21': 4, 'Cc1c(cc(cc1N(=O)=O)C(O)=O)N(=O)=O': 4, 'OC(=O)C1=Cc2ccccc2N1': 4, 'Oc1ccc(cc1)C1(CCCCC1)c1ccc(O)cc1': 4, 'O=C(Nc1ccccn1)C12CC3CC(C1)CC(C3)(C2)C(=O)Nc1ccccn1': 4, 'O=N(=O)c1cc(c(C=Cc2c(cc(cc2N(=O)=O)N(=O)=O)N(=O)=O)c(c1)N(=O)=O)N(=O)=O': 4, 'Fc1cc(C=Cc2c(F)c(F)c(F)c(F)c2F)c(F)cc1C=Cc1c(F)c(F)c(F)c(F)c1F': 4, 'OC(CC(O)=O)C(O)=O': 4, 'OC(=O)Cc1ccccc1': 4, 'Clc1c(Cl)c(Cl)c(C#N)c(C#N)c1Cl': 4, 'c1ccc(C=Cc2ccncc2)nc1': 4, 'c1cnc2ccc3ncccc3c2c1': 4, 'COc1cc(C=O)ccc1O': 4, 'CN(C)c1ccc(cc1)N=Nc1ccccc1C(O)=O': 4, 'OC(=O)C1CCC(CC1)C(O)=O': 4, 'C(N1C=Nc2ccccc12)c1ccc(CN2C=Nc3ccccc23)cc1': 4, 'OC(=O)c1cc2ccccc2cc1O': 4, 'NC(=O)c1ccc(CN2C=CC=N2)cc1': 4, 'ClC1=C(Cl)C(=O)C(=O)C(=C1Cl)Cl': 4, 'Oc1ccc(cc1)C12CC3CC(C1)CC(C3)(C2)c1ccc(O)cc1': 4, 'CC(O)(CS(=O)(=O)c1ccc(F)cc1)C(=O)Nc1ccc(C#N)c(c1)C(F)(F)F': 4, 'ON=Cc1c(F)c(F)c(Br)c(F)c1F': 4, 'CC12CCC3C(CC(=C)C4=CC(=O)C=CC34C)C1CCC2=O': 4, 'COc1ccc2N(C(=C(CC(O)=O)c2c1)C)C(=O)c1ccc(Cl)cc1': 4, 'Fc1c(F)c(F)c(Br)c(F)c1F': 4, 'O=C1CC2(CCCCC2)CN1': 4, 'COc1ccc(cc1)C(O)=O': 4, 'OC(=O)c1ccc(I)cc1': 4, 'Fc1cc(F)c(F)c(I)c1F': 4, 'OB(O)c1ccc(cc1)B(O)O': 4, 'OC(=O)c1ccc(cc1)C(c1ccc(cc1)C(O)=O)(c1ccc(cc1)C(O)=O)c1ccc(cc1)C(O)=O': 4, 'CCC(C)=NNC(=O)c1ccncc1': 4, 'CCC(=O)Nc1ccc(Br)cn1': 4, 'O=C(Nc1ccccc1)Nc1cccc2ncccc12': 4, 'CN(C)c1ccncc1': 4, 'COc1cc(OC)cc(C=Cc2ccc(O)cc2)c1': 4, 'CN(c1ccc(cc1)C(O)=O)C(=O)N(C)c1ccc(cc1)C(O)=O': 4, 'OB(O)c1ccc(Br)cc1': 4, 'Cc1cc(C)c(c(C)c1)[Si](O)(O)c1c(C)cc(C)cc1C': 4, 'Oc1cc2OC(=CC(=O)c2c(O)c1O)c1ccccc1': 4, 'COc1ccc(cc1)C1=NN(C(C1)c1c2ccccc2cc2ccccc12)C(C)=O': 4, 'IC1=CSC(S1)=C1SC2=C(SCCS2)S1': 4, 'O=C(Nc1ccccn1)c1ccncc1': 4, 'CN1CC(=O)N2C(CC3=C(Nc4ccccc34)C2c2ccc3OCOc3c2)C1=O': 4, 'Nc1ccc(Cc2ccc(N)cc2)cc1': 4, 'Nc1ncc(Br)nc1Br': 4, 'OCCOCCN1C(=O)c2cc3C(=O)N(CCOCCO)C(=O)c3cc2C1=O': 4, 'Oc1cc(O)c(Cl)cc1Cl': 4, 'CCOC(=O)C1=C(C)NC(=C(C1c1cccc(Cl)c1Cl)C(=O)OC)C': 4, 'NC(=O)c1ccc(Br)cc1': 4, 'Oc1cccc(c1)N(=O)=O': 4, 'Nc1ccc(cc1)S(=O)(=O)Nc1ncccn1': 4, 'Cc1ccnc(NS(=O)(=O)c2ccc(N)cc2)n1': 4, 'Nc1ccc(cc1)c1cc(cc(c1)c1ccc(N)cc1)c1ccc(N)cc1': 4, 'CC(c1ncncc1F)C(O)(CN1C=NC=N1)c1ccc(F)cc1F': 4, 'NC(=O)c1ccccn1': 4, 'Cc1ccc(cn1)c1ncc(Cl)cc1c1ccc(cc1)S(C)(=O)=O': 4, 'IC#Cc1ccccc1C#CI': 4, 'CC(C)CCCC(C)C1CCC2C3CCC4CC(O)CCC4(C)C3CCC12C': 4, 'S1C=CC(=C1)C=Cc1ccncc1': 4, 'CC(=O)Oc1ccccc1C(=O)NC1=NC=C(S1)N(=O)=O': 4, 'Oc1ccc(Cl)c(Cl)c1Cl': 4, 'O=C1C(CCCC1=Cc1ccncc1)=Cc1ccncc1': 4, 'O=N(=O)C1=NNC(=N1)C1=NC(=NN1)N(=O)=O': 4, 'CN1C=NC2=C1C(=O)N(CCCCC(C)=O)C(=O)N2C': 4, 'IC#Cc1cc(cc(c1)N(=O)=O)N(=O)=O': 4, 'CCCOc1ccc(cc1)N=Nc1ccncc1': 4, 'CC1(C)N(I)C(=O)N(I)C1=O': 4, '[Se]1N=C2C=CC=CC2=N1': 4, 'COc1cc(cc(OC)c1O)C(O)=O': 4, 'ON=Cc1ccnc2ccccc12': 4, 'CCc1cc(ccn1)C(N)=S': 4, 'CN(C)c1ccc(C=O)cc1': 4, 'OC(=O)c1cccc(c1C(O)=O)N(=O)=O': 4, 'OC(=O)CCC(=O)c1ccc(cc1)c1ccccc1': 4, 'CC1CN(CC(C)N1)c1c(F)c(N)c2C(=O)C(=CN(C3CC3)c2c1F)C(O)=O': 4, 'OC(=O)C1=NN(Cc2ccc(Cl)cc2Cl)c2ccccc12': 4, 'OC(=O)CNc1ccccc1C(O)=O': 4, 'IC#Cc1cccc2cc3cccc(C#CI)c3cc12': 4, 'O=C1N(CCCN2C=CN=C2)C(=O)c2ccc3C(=O)N(CCCN4C=CN=C4)C(=O)c4ccc1c2c34': 4, 'Brc1cc(Br)c(Br)cc1Br': 4, 'OC(=O)c1cc(O)cc(c1)C(O)=O': 4, 'COc1ccc(Cl)cc1C(=O)NCCc1ccc(cc1)S(=O)(=O)NC(=O)NC1CCCCC1': 4, 'Fc1c(F)c(F)c(C#CI)c(F)c1F': 4, 'Fc1c(F)c(I)c(c(I)c1F)c1c(F)c(F)c(F)c(c1F)c1c(I)c(F)c(F)c(F)c1I': 4, 'COC(=O)c1cc(cc(c1)c1c(c2cc(cc(c2)C(=O)OC)C(=O)OC)c(c2cc(cc(c2)C(=O)OC)C(=O)OC)c(c2cc(cc(c2)C(=O)OC)C(=O)OC)c(c2cc(cc(c2)C(=O)OC)C(=O)OC)c1c1cc(cc(c1)C(=O)OC)C(=O)OC)C(=O)OC': 4, 'CC(C)(Oc1ccc(CCNC(=O)c2ccc(Cl)cc2)cc1)C(O)=O': 4, 'CS(=O)(=O)c1ccc(cc1)C1=CN=C2C=CC(=NN12)c1cccc(c1)S(C)(=O)=O': 4, 'FC(F)(F)c1cc2c(cc1C(F)(F)F)c(c1cc(c(cc1c2C(F)(F)F)C(F)(F)F)C(F)(F)F)C(F)(F)F': 4, 'CC12CCC3C(CCc4cc(O)ccc34)C1CCC2(O)C#C': 4, 'S1N=C2C(=CC=C(C3=Nc4c5ccccc5c5ccccc5c4N3c3ccccc3)C2=N1)c1ccncc1': 4, 'CC1Cc2ccccc2N1NC(=O)c1ccc(Cl)c(c1)S(N)(=O)=O': 4, 'NC1=NC(=O)N(C=C1F)C1CSC(CO)O1': 4, 'c1cc(ccn1)c1ccc2c3ccc(cc3C3(c2c1)c1cc(ccc1c1ccc(cc31)c1ccncc1)c1ccncc1)c1ccncc1': 4, 'IC1=C(I)C(=O)C(=C(C#N)C1=O)C#N': 4, 'CS(=O)(=O)Nc1ccc(cc1Oc1ccccc1)N(=O)=O': 4, 'N1c2ccccc2C2=C1C1=C(N2c2ccccc2)c2ccccc2N1': 4, 'Nc1ccc(cc1)N=Nc1ccccc1': 4, 'Nc1ccc(I)cc1': 3, 'CN1C=Nc2c(N)ncnc12': 3, 'Oc1cc(Cl)c(Cl)cc1Cl': 3, 'BrC(Br)Br': 3, 'O=[As](c1ccccc1)(c1ccccc1)c1ccccc1': 3, 'CN(C)C1=C(C)N(C)N(c2ccccc2)C1=O': 3, 'Cc1c(C)c(C)c(C)c(C)c1C': 3, 'Oc1cccc2c3cccc(O)c3c12': 3, 'COc1cc2N3C4C5C(CC3=O)OCC=C3CN6CCC4(C6CC53)c2cc1OC': 3, 'c1ccc2c(c1)c1ccccc1C2=C1c2ccccc2c2ccccc12': 3, 'OC(=O)c1ccc2ccccc2c1c1c(ccc2ccccc12)C(O)=O': 3, 'C1COCCOc2ccccc2OCCOCCOCCOc2ccccc2OCCO1': 3, 'c1ccc2cc3cc4ccccc4cc3cc2c1': 3, 'Cc1ccccc1O': 3, 'Oc1c2ccccc2c2ccccc2c1c1c(O)c2ccccc2c2ccccc12': 3, 'O=C1NC(=O)NC(=O)N1': 3, 'OC(=O)C=Cc1cc(cc(c1)N(=O)=O)N(=O)=O': 3, 'c1ccc2c(c1)ccc1cc3c(ccc4ccccc34)cc21': 3, 'OC1(c2ccccc2c2ccccc12)c1ccccc1c1ccccc1C1(O)c2ccccc2c2ccccc12': 3, 'Cc1cccc(NC(=O)c2cccc(c2)C(=O)Nc2cccc(C)n2)n1': 3, 'CC(C)(C)Nc1nc(N)nc(NC(C)(C)C)n1': 3, 'Oc1cc(O)c2C(=O)C(=C(Oc2c1)c1cc(O)c(O)c(O)c1)O': 3, 'OC1CCCCC1O': 3, 'OC(C1OC2(CCCC2)OC1C(O)(c1ccccc1)c1ccccc1)(c1ccccc1)c1ccccc1': 3, 'NC1CCCCC1N': 3, 'O=N(=O)c1cccc2ncccc12': 3, 'Nc1nc(N)nc(N)n1': 3, 'Fc1c(F)c(F)c(C#CC#Cc2c(F)c(F)c(F)c(F)c2F)c(F)c1F': 3, 'COc1cccc(OC)c1C1=CC(=O)c2ccccc2O1': 3, 'OC(=O)Cc1ccc(CC(O)=O)cc1': 3, 'CC1=CC(C(=CC1=C(C#N)C#N)C)=C(C#N)C#N': 3, 'CC1(C)C(CCC1(C)C(O)=O)C(O)=O': 3, 'Nc1ccc(cc1N(=O)=O)N(=O)=O': 3, 'OC(=O)c1cc(Cl)c(Cl)cc1C(O)=O': 3, 'OC(=O)c1cc(cc(c1)N(=O)=O)C(O)=O': 3, 'OC(=O)c1cccc2cccc(C(O)=O)c12': 3, 'Cc1nc2ccccc2nc1C': 3, 'Clc1c(Cl)c(C#N)c(Cl)c(Cl)c1C#N': 3, 'OC(=O)c1ccc(C(O)=O)c2ccccc12': 3, 'C1COC2=C(O1)SC(S2)=C1SC2=C(SCCS2)S1': 3, 'IC1=C(I)C(=O)C(=C(I)C1=O)I': 3, 'c1cnccn1': 3, 'CC1=C(C=C(S1)c1c(F)c(F)c(F)c(F)c1F)C1=C(C2=C(C)SC(=C2)c2c(F)c(F)c(F)c(F)c2F)C(F)(F)C(F)(F)C1(F)F': 3, 'OC(=O)c1ccc(F)cc1': 3, 'OC(=O)C1CCCCC1C(O)=O': 3, 'Nc1ccc(Oc2ccc(N)cc2)cc1': 3, 'Oc1ccc(Cl)cc1Sc1cc(Cl)ccc1O': 3, 'NC(=O)CN1CCCC1=O': 3, 'Oc1ccc(Cc2ccc(O)cc2)cc1': 3, 'CC1=Nc2ccccc2N1Cc1ccc(CN2C(=Nc3ccccc23)C)cc1': 3, 'Oc1cccc2c3cccc(O)c3c3c(O)cccc3c3cccc(O)c3c12': 3, 'OC(=O)c1ccc(Oc2nc(Oc3ccc(cc3)C(O)=O)nc(Oc3ccc(cc3)C(O)=O)n2)cc1': 3, 'OCCOCCN1C(=O)c2ccc3C(=O)N(CCOCCO)C(=O)c4ccc(C1=O)c2c34': 3, 'COc1ccc(cn1)c1cc(C)nc(N)n1': 3, 'COc1cncc(c1)C#Cc1cc(C)nc(N)n1': 3, 'FC(F)(Br)C(F)(F)Br': 3, 'O=C1C(=O)c2cccnc2c2ncccc12': 3, 'OC(=O)COc1ccc(OCC(O)=O)cc1': 3, 'CC(=O)Oc1ccccc1C(O)=O': 3, 'OC(=O)c1ccc2ccccc2c1O': 3, 'O=C1CC(=O)NC(=O)N1': 3, 'Cc1cc2N=CN(Cc3ccncc3)c2cc1C': 3, 'C1CN2CN3CCN(CN1C3)C2': 3, 'O=C(C=Cc1ccncc1)C=Cc1ccncc1': 3, 'Cc1ccc(cc1)c1nc(N)nc(N)n1': 3, 'OC(=O)CC(C(CC(O)=O)C(O)=O)C(O)=O': 3, 'OC(=O)c1ccc(cc1C(O)=O)N(=O)=O': 3, 'CC(C)CCCC(C)C1CCC2C3CC=C4CC(O)CCC4(C)C3CCC12C': 3, 'O=C1NS(=O)(=O)c2ccccc12': 3, 'O=C1N(c2ccncc2)C(=O)c2ccc3C(=O)N(c4ccncc4)C(=O)c4ccc1c2c34': 3, 'CC(C)(C)[P](=O)c1ccccc1': 3, 'CC1=NC=C(N1CC(O)CCl)N(=O)=O': 3, 'O=C(NCCCCCCNC(=O)c1ccncc1)c1ccncc1': 3, 'OC(=O)c1cc(F)c(F)c(F)c1F': 3, 'OC(=O)c1cccc(F)c1': 3, 'CC(=O)Nc1ccc(O)cc1': 3, 'Cc1ccc2c(ccc(O)c2c2c(O)ccc3cc(C)ccc23)c1': 3, 'S(Sc1ccncc1)c1ccncc1': 3, 'Nc1cc(cc(c1)C(O)=O)C(O)=O': 3, 'FI(F)c1c(F)c(F)c(F)c(F)c1F': 3, 'c1ccc(cc1)C=Cc1ccncc1': 3, 'c1cncc(c1)C=NN=Cc1cccnc1': 3, 'CC1=C(C)SC(S1)=C1SC=CS1': 3, 'OC(=O)c1ccc(O)c(c1)N(=O)=O': 3, 'Oc1c(F)c(F)c(O)c(F)c1F': 3, 'c1ccc(C=NN=Cc2ccccn2)nc1': 3, 'Brc1c2ccccc2cc2ccccc12': 3, 'CC(=O)SC1CC2=CC(=O)CCC2(C)C2CCC3(C)C(CCC43CCC(=O)O4)C12': 3, 'CC1(O)CCC2C3CCC4CC5=NNC=C5CC4(C)C3CCC12C': 3, 'c1cc(ccn1)c1ccc2cc3cc(ccc3cc2c1)c1ccncc1': 3, 'CCCC1=CC(=O)NC(=S)N1': 3, 'COC(=O)NC(=S)Nc1ccccc1NC(=S)NC(=O)OC': 3, 'Cc1cc(Cl)nc(N)n1': 3, 'Cc1cccc(c1)C(O)=O': 3, 'OC(=O)c1ccccc1F': 3, 'NC(=O)c1cccc(c1)N(=O)=O': 3, 'OP1(=S)OCCCc2ccccc12': 3, 'C1CCOc2ccc(COCc3cccc(n3)c3cccc(COCc4ccc(OC1)cc4)n3)cc2': 3, 'CCCCOc1cc2Cc3cc(OCCCC)c(Cc4cc(OCCCC)c(Cc5cc(OCCCC)c(Cc6cc(OCCCC)c(Cc1cc2OCCCC)cc6OCCCC)cc5OCCCC)cc4OCCCC)cc3OCCCC': 3, 'COC(=O)c1ccc(C=Cc2ccncc2)cc1': 3, 'c1ccc2ncccc2c1': 3, 'O=C(Nc1ccccn1)c1cccnc1': 3, 'OC(=O)c1ccc(cc1N(=O)=O)N(=O)=O': 3, 'OC(=O)CCN1C(=O)c2ccccc2C1=O': 3, 'CN(C)c1ccc(cc1)N=Nc1c(F)c(F)c(I)c(F)c1F': 3, 'CCOC(=O)c1cc(CNc2cc(cc(c2)C(=O)OCC)C(=O)OCC)cc(c1)C(=O)OCC': 3, 'OC(=O)C1=Cc2ccccc2OC1=O': 3, 'FS(F)(F)F': 3, 'OC(=O)C1C(C(C1C(O)=O)C(O)=O)C(O)=O': 3, 'IC#Cc1ccc(I)cc1': 3, 'Fc1c(F)c(NC(=O)c2c(F)c(F)c(I)c(F)c2F)c(F)c(F)c1Br': 3, 'Fc1c(F)c(c(F)c(F)c1Br)c1c(F)c(F)c(I)c(F)c1F': 3, 'Oc1ccc(cc1Cl)C12CC3CC(C1)CC(C3)(C2)c1ccc(O)c(Cl)c1': 3, 'CC(C)COc1ccc(cc1C#N)C1=NC(=C(S1)C(O)=O)C': 3, 'CCc1nc(N)nc(N)c1c1ccc(Cl)cc1': 3, 'IC1=C(I)SC(S1)=C1SC2=C(SCCS2)S1': 3, 'CCCCCCCCCCc1ccc2c(SC3=C2Sc2cc(CCCCCCCCCC)ccc32)c1': 3, 'Oc1ccc2c(Oc3cc(O)ccc3C32OC(=O)c2ccccc32)c1': 3, 'C1=CN(C=N1)c1ccc(cc1)c1cncnc1': 3, 'c1cncc(c1)N=Nc1cccnc1': 3, 'FC(F)(F)C1(OC(=O)Nc2ccc(Cl)cc12)C#CC1CC1': 3, 'Oc1ccc(cc1)C1=COc2cc(O)cc(O)c2C1=O': 3, 'ON1N=NN=C1C1=NN=NN1O': 3, 'Oc1ccc2C(=O)C(=C(Oc2c1)c1ccc(O)c(O)c1)O': 3, 'O=C(NCCCCCCCCNC(=O)c1ccncc1)c1ccncc1': 3, 'O=C(NCCCCCCNC(=O)c1cccnc1)c1cccnc1': 3, 'O1C(=CN=C1c1ccccc1)c1ccccc1': 3, 'Fc1c(F)c(N=Nc2c(F)c(F)c(Br)c(F)c2F)c(F)c(F)c1Br': 3, 'Fc1c(F)c(C#C)c(F)c(F)c1C#C': 3, 'Fc1cc(F)cc(c1)C#CI': 3, 'Oc1c(O)c(Cl)c(Cl)c(Cl)c1Cl': 3, 'Oc1ccc(cc1)N=Cc1ccccc1O': 3, 'c1ccc2c(c1)ccc1c2ccc2c3ccccc3ccc12': 3, 'OC(=O)CCCCCCCCCCC(O)=O': 3, 'CC1(O)CCC2C3CCC4CC5=C(CC4(C)C3CCC12C)C=NN5': 3, 'C12=C3C4=C5C6=C1C1=C7C8=C6C6=C9C%10=C8C8=C%11C%12=C%13C(=C78)C7=C1C2=C1C2=C8C%14=C%15C(=C%13C7=C1%14)C1=C%12C7=C%12C%13=C(C9=C9C(=C56)C5=C4C(=C32)C2=C8C3=C%15C1=C%12C1=C3C2=C5C9=C%131)C%10=C%117': 3, 'Nc1cccc2C(=O)N(Cc12)C1CCC(=O)NC1=O': 3, 'OC(=O)c1ccc(O)c(O)c1': 3, 'OC(=O)C1=CC=C(Cl)S1': 3, 'OC(=O)c1cccc(Cl)c1': 3, 'S1C2=CC=C3SC(=C(C4=CC=C(S4)C=CC4=CC=C(S4)C(=C1C=C2)c1ccccc1)c1ccccc1)C=C3': 3, 'C1CCOc2ccc(CCCc3cccc(n3)c3cccc(CCCc4ccc(OC1)cc4)n3)cc2': 3, 'OC(=O)c1ccc(Br)cc1': 3, 'C(N1C=CN=C1C1=NC=CN1Cc1ccccn1)c1ccccn1': 3, 'CCCCOc1ccc(cc1)C(O)=O': 3, 'OC(=O)c1ccccc1Br': 3, 'OC(=O)c1cccc(Br)c1': 3, 'Fc1cc(F)c(F)c(c1F)c1c(F)c(F)cc(F)c1F': 3, 'CCOc1cc2Cc3cc(OCC)c(Cc4cc(OCC)c(Cc5cc(OCC)c(Cc6cc(OCC)c(Cc7cc(OCC)c(Cc1cc2OCC)cc7OCC)cc6OCC)cc5OCC)cc4OCC)cc3OCC': 3, 'Nc1c(Cl)cc(cc1N(=O)=O)N(=O)=O': 3, 'CCCCc1ccc2c(SC3=C2Sc2cc(CCCC)ccc32)c1': 3, 'O=C(Nc1ncnc2N=CNc12)c1ccccc1': 3, 'O=C(NN=C(c1ccccc1)c1ccccc1)c1ccncc1': 3, 'Cc1ccc(cc1)C(=NNC(=O)c1ccncc1)c1ccccc1': 3, 'c1ccc2N3N=NC=C3C=Cc2c1': 3, 'CC1(C)N(Br)C(=O)N(Br)C1=O': 3, 'Cc1cnccn1': 3, 'COc1cccc(C=Nc2cccnc2)c1O': 3, 'Clc1cccc(N2CCN(CCCCOc3ccc4CCC(=O)Nc4c3)CC2)c1Cl': 3, 'OCC(O)C1OC(=O)C(=C1O)O': 3, 'C1CCCOc2ccc(CCCc3cccc(n3)c3cccc(n3)c3ccc(OCCC1)cc3)cc2': 3, 'CC(=O)c1c2ccccc2cc2ccccc12': 3, 'CC(C)(C)C#Cc1cc(C#CC(C)(C)C)c2ccc3c(cc(C#CC(C)(C)C)c4ccc1c2c34)C#CC(C)(C)C': 3, 'Fc1c(F)c(F)c2c(F)c3c(F)c(F)c(F)c(F)c3c(F)c2c1F': 3, 'Fc1c(F)c(F)c2C(=O)c3c(F)c(F)c(F)c(F)c3C(=O)c2c1F': 3, 'COc1ccc2SC3=C(Sc4ccc(OC)cc34)c2c1': 3, 'Ic1ccc2c(c1)C(=C(C#N)C#N)c1ccc(I)cc1C2=C(C#N)C#N': 3, 'CCCN(CCC)S(=O)(=O)c1ccc(cc1)C(O)=O': 3, 'COc1ccc(cc1O)C1CC(=O)c2c(O)cc(O)cc2O1': 3, 'OC(=O)c1ccc(O)c(c1)C(O)=O': 3, 'Ic1ccc(cc1)C(c1ccc(I)cc1)=C(c1ccc(I)cc1)c1ccc(I)cc1': 3, 'OB(O)c1c2ccccc2c(Br)c2ccccc12': 3, 'O=C1CCc2cc(OCCCCC3=NN=NN3C3CCCCC3)ccc2N1': 3, 'O=C1N(C2CCCCC2)C(=O)c2ccc3c4ccc5C(=O)N(C6CCCCC6)C(=O)c6ccc(c7ccc1c2c37)c4c56': 3, 'C(N1C=CN=C1C1=NC=CN1)c1cccnc1': 3, 'C(N1C=CN=C1C1=NC=CN1)c1ccncc1': 3, 'CC(C)(C)NP1(=[Se])N(C(C)(C)C)P(=[Se])(NC(C)(C)C)N1C(C)(C)C': 3, 'c1cc2ccc3ccc4ccc5cccc6c(c1)c2c3c4c56': 3, 'CC1=NC=CN1c1ccc(cc1)C12CC3CC(C1)CC(C3)(C2)c1ccc(cc1)N1C=CN=C1C': 3, 'OC1(CCC(O)(CC1)C#CI)C#CI': 3, 'NC(=O)c1ccc(N)cc1': 3, 'Fc1c(F)c(C#Cc2cc(cc(c2)N(=O)=O)N(=O)=O)c(F)c(F)c1I': 3, 'CCN(CC)C(=O)C(=Cc1cc(O)c(O)c(c1)N(=O)=O)C#N': 3, 'S1C=CC=C1C1=CC=C(S1)C1=CC=C(S1)C1=CC=CS1': 3, 'O=C1N(Cc2ccccc2)[Se]c2ccccc12': 3, 'Cc1ccc(cc1)S(=O)(=O)C(I)I': 3, 'c1cncc(c1)C=Cc1cccnc1': 3, 'Oc1ccc(cc1)C1=C(O)C(=O)c2c(O)cc(O)cc2O1': 3, 'COc1cc2OC(=O)C=Cc2cc1OC': 3, 'Fc1cc(F)c(F)c(Br)c1F': 3, 'CCN1C(=S)SC(C1=S)=C1SC(=S)N(CC)C1=S': 3, 'CCN1C(=O)SC(C1=S)=C1SC(=O)N(CC)C1=S': 3, 'OC(=O)CSC1=NN=C(Br)N1c1ccc(C2CC2)c2ccccc12': 3, 'CC(C)(C)c1cc2ccc3cc(cc4ccc(c1)c2c34)C(C)(C)C': 3, 'Cc1c(C[Se]C#N)c(C)c(C[Se]C#N)c(C)c1C[Se]C#N': 3, 'S1C(=NC2=C1N=C(S2)c1ccncc1)c1ccncc1': 3, 'OC(=O)Cc1ccc(O)c(Cl)c1': 3, 'CN1CCN(CC1)C1=Nc2ccccc2NC2=C1C=C(C)S2': 3, 'CCCCCCCCCCCCC#CC#CCCCCCCCCC(O)=O': 3, 'Oc1cccc(O)c1N(=O)=O': 3, 'Cc1cccc(C)n1': 2, 'CC(Oc1cccc(Br)c1)C(O)=O': 2, 'OP(O)(O)=O': 2, 'CCN1C=NC2=C1N=C(N)NC2=O': 2, 'CCN1C(=Nc2c(N)ncnc12)Br': 2, 'CN1C=C(I)C(=O)NC1=O': 2, 'CCN1C(=Nc2c(N)nc(N)nc12)Br': 2, 'NC(=O)c1ccccc1': 2, 'CN1c2ccccc2N(C)c2ccccc12': 2, 'Clc1c(Cl)c(Cl)c2C(=O)OC(=O)c2c1Cl': 2, 'Brc1c(cc(cc1N(=O)=O)N(=O)=O)N(=O)=O': 2, 'c1ccc2cc3c(ccc4ccccc34)cc2c1': 2, 'CN1C(=O)c2cc3C(=O)N(C)C(=O)c3cc2C1=O': 2, 'CC1=C(C)[Se]C([Se]1)=C1[Se]C(=C(C)[Se]1)C': 2, 'CCN1c2ccccc2c2ccccc12': 2, 'Fc1c(F)c(F)c(c(F)c1F)c1c(F)c(F)c(F)c(F)c1F': 2, 'ClC1=C(Br)C(=O)C(=C(Br)C1=O)Cl': 2, 'O[Te](O)(O)(O)(O)O': 2, 'ClC1=CC(C=C(Cl)C1=O)=C1C=C(Cl)C(=O)C(=C1)Cl': 2, 'O=C1NC(=O)C(=O)N1': 2, 'OC(=O)C=Cc1ccc(cc1N(=O)=O)N(=O)=O': 2, 'CN1C(=O)C2=C(SC3=C(S2)C(=O)N(C)C3=O)C1=O': 2, 'C1Cc2ccc(CCc3ccc(CCc4ccc1cc4)cc3)cc2': 2, 'CC(C)N(C(C)C)C(=O)C(=O)N(C(C)C)C(C)C': 2, 'CC1=C(C)C(=O)C(=C(C)C1=O)C': 2, 'NC(N)=NS(=O)(=O)c1ccc(N)cc1': 2, 'BrC(Br)(Br)Br': 2, 'Oc1ccccc1': 2, 'Brc1c2ccccc2c(Br)c2ccccc12': 2, 'Fc1c(F)c(F)c(N=Nc2c(F)c(F)c(F)c(F)c2F)c(F)c1F': 2, 'CSC1=Cc2ccc3SC(=Cc4ccc(S1)c2c34)SC': 2, 'c1ccc(cc1)C=Cc1ccccc1': 2, 'Oc1c(I)cc(I)cc1I': 2, 'OC1=C(C#N)C(=O)C(=C(Cl)C1=O)Cl': 2, 'Clc1c(C#N)c(Cl)c(C#N)c(Cl)c1C#N': 2, 'OC(C#C)(c1ccccc1)c1ccccc1Cl': 2, 'COc1cc2Sc3cc(OC)c(OC)cc3[Se]c2cc1OC': 2, 'OC1(c2ccccc2)c2ccccc2C(O)(c2ccccc2)c2ccccc12': 2, 'Nc1nc(Nc2ccccc2)nc(Nc2ccccc2)n1': 2, 'Cc1cccc(NC(=O)c2ccc3cc(ccc3c2)C(=O)Nc2cccc(C)n2)n1': 2, 'CN(C)P(=O)(N(C)C)N(C)C': 2, 'CCCCCCCCCCCC(=O)OC1CCC2(C)C(CCC3C2CCC2(C)C(CCC32)C(C)CCCC(C)C)C1': 2, 'N#CC(C#N)=C1C2=C(C=CS2)C(C2=C1C=CS2)=C(C#N)C#N': 2, 'O=C(C=Cc1ccccc1)C=Cc1ccccc1': 2, 'O=C1OC(=O)c2ccc3C(=O)OC(=O)c4ccc1c2c34': 2, 'COc1cc(OC)c2[Se]c3c(OC)cc(OC)cc3c2c1': 2, 'OC(=O)COc1ccc(Cl)cc1Cl': 2, 'O1c2cccc3ccc4Oc5cccc6ccc1c(c56)c4c23': 2, 'Nc1ccc(cc1)c1ccc(N)cc1': 2, 'O=C1NC(=O)C(C(=O)N1)(c1ccccc1)c1ccccc1': 2, 'Cc1ccccc1C(O)(C1OC(C)(C)OC1C(O)(c1ccccc1C)c1ccccc1C)c1ccccc1C': 2, 'CC12CCC3C(CCC4=CC(=O)C=CC34C)C1CCC2=O': 2, 'Nc1cccc(c1)C(O)=O': 2, 'O=C(NCc1ccncc1)NCc1ccncc1': 2, 'NCCOCCOCCN': 2, 'CN(C)c1ccc(cc1)C(O)C(O)c1ccc(cc1)N(C)C': 2, 'BrC1=CC(C(=CC1=C(C#N)C#N)Br)=C(C#N)C#N': 2, 'O=C1c2cccc(c2C(=O)c2c1cccc2N(=O)=O)N(=O)=O': 2, 'Oc1ccc(cc1)C(=O)c1ccc(O)cc1': 2, 'Nc1ccc(cn1)N(=O)=O': 2, 'Cc1cc(C)c(c(C)c1)C(O)=O': 2, 'O=C1NC(=O)c2cc3C(=O)NC(=O)c3cc12': 2, 'OC(=O)C1c2ccccc2c2ccccc12': 2, 'OC(=O)c1nccnc1C(O)=O': 2, 'OC(=O)CC(=C)C(O)=O': 2, 'O=N(=O)c1cccc2cnccc12': 2, 'Nc1ccc(cc1)N(=O)=O': 2, 'OC(=O)Cc1ccc(cc1)N(=O)=O': 2, 'C1COc2cc3SC(Sc3cc2O1)=C1Sc2cc3OCCOc3cc2S1': 2, 'O(B(O[Si](c1ccccc1)(c1ccccc1)c1ccccc1)O[Si](c1ccccc1)(c1ccccc1)c1ccccc1)[Si](c1ccccc1)(c1ccccc1)c1ccccc1': 2, 'O=S(=O)(NS(=O)(=O)c1ccccc1)c1ccccc1': 2, 'Oc1ccc2cc(O)ccc2c1': 2, 'OCCCCCCO': 2, 'C1COCCOCCOCCO1': 2, 'OC1CC(Br)C(Br)CC1O': 2, 'S1B(Sc2ccccc12)B1Sc2ccccc2S1': 2, 'O1B(Oc2ccccc12)B1Oc2ccccc2O1': 2, 'c1ccc2C#CC#Cc3ccccc3C#CC#Cc2c1': 2, 'COC(=O)c1ccc(cc1)C=NCCN=Cc1ccc(cc1)C(=O)OC': 2, 'Brc1ccc(Oc2nc(Oc3ccc(Br)cc3)nc(Oc3ccc(Br)cc3)n2)cc1': 2, 'OC(=O)COc1cc(Cl)c(Cl)cc1Cl': 2, 'c1cc(ccn1)C=Cc1ccc(C=Cc2ccncc2)cc1': 2, 'C1COC2=C(O1)SC(S2)=C1SC2=C(OCCO2)S1': 2, 'IC#CC#CC#CI': 2, 'O=C1OC(=O)c2c1c1C(=O)OC(=O)c1c1C(=O)OC(=O)c21': 2, 'NC1=Nc2cc(Cl)ccc2O1': 2, 'NC(=O)C=Cc1ccccc1': 2, 'c1ccc(nc1)C1C(C(C1c1ccccn1)c1ccccn1)c1ccccn1': 2, 'CCOC(=O)C12Oc3c(CC1Cc1ccccc1C2O)cc(Cl)cc3NC1=Nc2cc(cc(c2O1)C(C)(C)C)C(C)(C)C': 2, 'O=C(NCc1cccnc1)NCc1cccnc1': 2, 'Oc1ccc2cc(Br)ccc2c1c1c(O)ccc2cc(Br)ccc12': 2, 'Oc1nc(Cl)c(Cl)cc1Cl': 2, 'CN1C(=O)CC(=O)N(C)C1=O': 2, 'Cc1c(C)c(C)c2c(c1C)c1c(C)c(C)c(C)c(C)c21': 2, 'Cc1ccc(O)cc1': 2, 'OC(=O)Cc1ccc(Cl)cc1': 2, 'OC1=CC(=O)C(=CC1=O)O': 2, 'C1Cc2cc3CCCc4cc(C1)cc(CCCc(c2)c3)c4': 2, 'IC(I)=C(I)C(I)=C(I)I': 2, 'CN(C)c1cccc(c1)C(O)=O': 2, 'OC(=O)CCC(=O)CCC(O)=O': 2, 'CC(NC(=O)c1ccccc1Br)c1ccccc1': 2, 'Oc1ccc(cc1)c1cc(cc(c1)c1ccc(O)cc1)c1ccc(O)cc1': 2, 'Clc1c(Cl)c(C#N)c(Cl)c(C#N)c1Cl': 2, 'Cc1cc(C)c(N2[C]N(C=C2)c2c(C)cc(C)cc2C)c(C)c1': 2, 'c1ccc2c(c1)c1ccccc1c1ccccc21': 2, 'OC(=O)c1cc(Cl)ccc1N(=O)=O': 2, 'OC(=O)c1ccccc1COc1ccc(OCc2ccccc2C(O)=O)cc1': 2, 'N#CC(C#N)c1ccc(cc1)c1ccc(cc1)C(C#N)C#N': 2, 'Brc1ccc(cc1)S(=O)(=O)NS(=O)(=O)c1ccc(Br)cc1': 2, 'Brc1cc(cc2c1c1c(cc(cc1N(=O)=O)N(=O)=O)C2=C(C#N)C#N)N(=O)=O': 2, 'Fc1ccc(cc1)S(=O)(=O)NS(=O)(=O)c1ccc(F)cc1': 2, 'CN(C)C=CC(=O)c1cc(cc(c1)C(=O)C=CN(C)C)C(=O)C=CN(C)C': 2, 'CCCCCCC(O)=O': 2, 'CCCCCCCC(O)=O': 2, 'FC(I)=C(F)I': 2, 'OC(=O)COc1c(Cl)cccc1Cl': 2, 'c1ccc(nc1)C#Cc1cc(C#Cc2ccccn2)c(cc1C#Cc1ccccn1)C#Cc1ccccn1': 2, 'OCCN1C(=O)c2ccccc2C1=O': 2, 'OC(=O)C12CC3(CC(C1)(CC(C2)(C3)C(O)=O)C(O)=O)C(O)=O': 2, 'N1C=Nc2ccccc12': 2, 'Fc1c(F)c(F)c(C#Cc2c(F)c(F)c(F)c(F)c2F)c(F)c1F': 2, 'CCOc1ccccc1C1C(C(C1C(O)=O)c1ccccc1OCC)C(O)=O': 2, 'CCOC(=O)C1(Cc2c(C1)c(C(=O)NC(c1ccccc1)(c1ccccc1)c1ccccc1)c1CC(Cc1c2C(=O)NC(c1ccccc1)(c1ccccc1)c1ccccc1)(C(=O)OCC)C(=O)OCC)C(=O)OCC': 2, 'S=C1NCc2ccc(CNC(=S)c3cccc(n3)C(=S)NCc3ccc(CNC(=S)c4cccc1n4)cc3)cc2': 2, 'OC(=O)C1=CC=C(S1)C(O)=O': 2, 'CC1=CC(=NN1)C': 2, 'Fc1c(F)c(OCC(COc2c(F)c(F)c(I)c(F)c2F)(COc2c(F)c(F)c(I)c(F)c2F)COc2c(F)c(F)c(I)c(F)c2F)c(F)c(F)c1I': 2, 'O=P(CCCCP(=O)(c1ccccc1)c1ccccc1)(c1ccccc1)c1ccccc1': 2, 'C(Sc1ccncc1)c1cc2ccccc2cc1CSc1ccncc1': 2, 'O=C1NC=C(C(=O)N1)N(=O)=O': 2, 'Cc1ccc(cc1)C(O)(C1OC(C)(C)OC1C(O)(c1ccc(C)cc1)c1ccc(C)cc1)c1ccc(C)cc1': 2, 'NC1=NC2=NC(=NC3=NC(=NC(=N1)N23)N)N': 2, 'Oc1cc(O)cc(c1)C(c1ccccc1O)c1ccccc1O': 2, 'OC(=O)CCNC(=O)C(=O)NCCC(O)=O': 2, 'OC(=O)CCCCNC(=O)C(=O)NCCCCC(O)=O': 2, 'OC(=O)CCCCCNC(=O)C(=O)NCCCCCC(O)=O': 2, 'Nc1ncnc2NC=Nc12': 2, 'O=C1NC=C(C=C1)P(=O)(C1=CNC(=O)C=C1)C1=CNC(=O)C=C1': 2, 'C1CCC(CC1)NC1CCCCC1': 2, 'IC#CC#CI': 2, 'CC1=NN(Cc2ccc(CN3N=C(C)C=C3C)cc2)C(=C1)C': 2, 'OC(=O)c1ccc(Oc2ccc(cc2)C(O)=O)cc1': 2, 'OC(=O)CN1C(=O)c2ccccc2C1=O': 2, 'O=C1N2c3ccccc3N=C2c2cccc3cccc1c23': 2, 'OC(=O)c1ccc(cc1)c1ccc(cc1)C(O)=O': 2, 'Cc1cc(nc(N)n1)c1cccnc1': 2, 'OC(=O)CC12CC3CC(C1)CC(C3)(CC(O)=O)C2': 2, 'O=C1N(c2ccccc2)C(=O)N(c2ccccc2)C(=O)N1c1ccccc1': 2, 'c1cc2cncc3ccc4cncc1c4c23': 2, 'OC(=O)c1cc(O)c(Br)c(O)c1': 2, 'CCCCCCCCCCCCCC1=CC(=O)NC(=O)N1C': 2, 'OCCCCCCCCO': 2, 'CC(=O)NCc1ccncc1': 2, 'Cc1cc(C)cc(NC(=O)C(=O)Nc2cc(C)cc(C)c2)c1': 2, 'OC(=O)c1ccc(OCCOc2ccc(cc2)C(O)=O)cc1': 2, 'OC(C(F)(F)F)C(F)(F)F': 2, 'Cc1ccc(cc1)C=Cc1ccncc1': 2, 'Cc1cc2N=CN(Cc3cccnc3)c2cc1C': 2, 'Oc1cc2ccccc2cc1O': 2, 'COc1ccc(CCNC(=O)COc2cccc3cccnc23)cc1': 2, 'Ic1ccc(cc1)S(=O)(=O)NS(=O)(=O)c1ccc(I)cc1': 2, 'Cc1ccc(cc1)S(=O)(=O)NS(=O)(=O)c1ccc(C)cc1': 2, 'CC(Oc1ccccc1Br)C(O)=O': 2, 'CCC(C(O)=O)c1ccccc1': 2, 'Cc1cc(C)nc(N)n1': 2, 'OC(=O)c1cccc(F)c1F': 2, 'c1cnc2c(c1)ccc1ncccc21': 2, 'Fc1cc(C=Cc2ccncc2)ccc1C=Cc1ccncc1': 2, 'O=C1N(Cc2ccccn2)C(=O)c2cc3C(=O)N(Cc4ccccn4)C(=O)c3cc12': 2, 'NC1=NC(=O)N(C=C1)C1CSC(CO)O1': 2, 'OC(=O)c1ccc(cc1)C#N': 2, 'OC(=O)c1ccc(cc1)C12CC3CC(C1)(CC(C3)(C2)c1ccc(cc1)C(O)=O)c1ccc(cc1)C(O)=O': 2, 'c1ccc2c(c1)N(c1ccc(cc1)c1ccc(cc1)N1c3ccccc3c3ccccc13)c1ccccc21': 2, 'Oc1ccc(C=O)c(O)c1': 2, 'c1cc(ccn1)C=Cc1ccc2cc(C=Cc3ccncc3)ccc2c1': 2, 'OC(=O)c1cc2ccccc2c(Cc2c(O)c(cc3ccccc23)C(O)=O)c1O': 2, 'NN1C(=NN=C1c1ccncc1)c1ccncc1': 2, 'OC(=O)c1ccc2C(=O)OC(=O)c3ccc(C(O)=O)c1c23': 2, 'C1=CN(C=N1)c1ccc(cc1)N1C=CN=C1': 2, 'Fc1c(F)c(F)c(C2=NSS[N]2)c(F)c1F': 2, 'OC1=C(I)C(=O)C(=C(I)C1=O)O': 2, 'CC(C)OC(=S)Nc1ccccc1': 2, 'CC1(C)CC(C)(c2ccc(O)cc2)c2ccccc2O1': 2, 'N1C=CN=C1C1=NC=CN1': 2, 'c1ccc2c(c1)cc1ccccc1c2c1c2ccccc2cc2ccccc12': 2, 'Cc1ccccc1C(O)=O': 2, 'CC1=NN2C=C(C)N=C2S1': 2, 'COc1ccc(cc1)C1=NN2C=C(C)N=C2S1': 2, 'OC(=O)C(=Cc1ccc(cc1)N(c1ccccc1)c1ccccc1)C#N': 2, 'N#Cc1ccc(C=Cc2ccncc2)cc1': 2, 'Clc1ccc(cc1)C=Cc1ccncc1': 2, 'c1ccc(C=Cc2cccnc2)nc1': 2, 'OC(=O)c1cncc(c1)C(O)=O': 2, 'Nc1ccc(Br)cn1': 2, 'COC(OC)c1cnc2C(=O)NC(=Nc2n1)NC(=O)C(C)(C)C': 2, 'O=S(c1ccccc1)c1ccccc1': 2, 'Oc1ccc(cc1)C(c1ccc(O)cc1)(C(F)(F)F)C(F)(F)F': 2, 'O=C1N2C(=O)c3ccc4C(=O)N(C(=O)c5ccc1c3c45)c1cccc(Oc3ccc(cc3)S(=O)(=O)c3ccc(cc3)c3ccc(cc3)S(=O)(=O)c3ccc(Oc4cccc2c4)cc3)c1': 2, 'Nc1ccc(Cl)cn1': 2, 'Nc1ncc(Br)cc1Br': 2, 'ON=C1C(=O)NC(=O)NC1=O': 2, 'Fc1c(F)c(C=Cc2c(F)c(F)c(I)c(F)c2F)c(F)c(F)c1I': 2, 'O=CC1=CNC(=O)C(=C1Nc1ccccc1)C#N': 2, 'CC1CCC2C(C)C(=O)OC3OC4(C)CCC1C23OO4': 2, 'CN1N(C(=O)C(=C1C)NC(C)=O)c1ccccc1': 2, 'COc1cc(C=CC(O)=CC(=O)C=Cc2ccc(O)c(OC)c2)ccc1O': 2, 'Cc1c(Cl)cccc1Nc1ccccc1C(O)=O': 2, 'OB(O)c1ccc(O)cc1': 2, 'Nc1nc(N)c(Cl)cc1Cl': 2, 'N1c2ccccc2N=C1c1ccncc1': 2, 'CC1=C(SCC(O)=O)C(=O)c2ccccc2C1=O': 2, 'C12=C3C4=C5C6=C1C1=C7C8=C6C6=C9C%10=C8C8=C%11C%12=C%13C(=C78)C7=C1C2=C1C2=C3C3=C8C%14=C2C2=C%15C(=C%13C7=C12)C1=C%12C2=C7C%12=C%13C%16=C(C(=C56)C(=C43)C%16=C8C3=C%13C7=C1C%15=C%143)C9=C%12C%10=C%112': 2, 'NC(=O)N1c2ccccc2CCc2ccccc12': 2, 'CC(C)=NNC(=O)c1cccnc1': 2, 'Cc1ccc(cc1)C(O)=O': 2, 'CCCCCCCCC(O)=O': 2, 'CC1=C(Sc2ccccc2Br)C(=O)CCC1': 2, 'Cc1ccc2ccccc2n1': 2, 'C(CCN1C=Nc2ccccc12)CN1C=Nc2ccccc12': 2, 'c1ccc(nc1)c1nc(nc(n1)c1ccccn1)c1ccccn1': 2, 'COC(=O)C=Cc1ccncc1': 2, 'S=C1NC=NC2=C1NC=N2': 2, 'OC(=O)c1cc(Cl)cc(Cl)c1': 2, 'C[Si](C)(c1ccc2C(=O)N(c3ccc(cc3)C(O)=O)C(=O)c2c1)c1ccc2C(=O)N(c3ccc(cc3)C(O)=O)C(=O)c2c1': 2, 'NC1=NC2=C(N=CN2COCCO)C(=O)N1': 2, 'OC(=O)c1cc(Cl)c(C#N)c(Cl)c1': 2, 'OC(=O)c1ccc(cc1)N=Cc1ccccc1O': 2, 'C12=C3C4=C5C6=C1C1=C7C8=C6C6=C9C%10=C8C8=C%11C%12=C%13C(=C78)C7=C1C2=C1C2=C3C3=C8C%14=C2C2=C%15C(=C%13C7=C12)C1=C%12C2=C7C%12=C(C9=C9C(=C56)C(=C43)C3=C9C%12=C4C(=C83)C%14=C%15C1=C74)C%10=C%112': 2, 'Cc1cc(ccc1O)C(C)(C)c1ccc(O)c(C)c1': 2, 'N#CC1=N[Te]N=C1C#N': 2, 'CC1CCNC2CCCCC2NC(C)CCNC2CCCCC2N1': 2, 'Cc1ccc(Cl)c(Nc2ccccc2C(O)=O)c1Cl': 2, 'O=N(=O)N=C1NN=NN1': 2, 'CCCCOc1ccc(cc1)C=Cc1ccncc1': 2, 'S1C(=CC=C1c1ccccn1)c1ccccn1': 2, 'CN(c1cccc(c1)C(O)=O)C(=O)N(C)c1cccc(c1)C(O)=O': 2, 'O=C(Nc1ccccn1)C12CC3CC(CC(C3)C1)C2': 2, 'Cc1cccc(NC(=O)C(C)(C)C)n1': 2, 'C(N1C=Nc2ccccc12)c1cccnc1': 2, 'CC(=O)N1N=C(CC1c1ccc2ccc3cccc4ccc1c2c34)c1ccccc1': 2, 'Oc1ccc(cc1Br)C12CC3CC(C1)CC(C3)(C2)c1ccc(O)c(Br)c1': 2, 'CC1=C2C=CC(=N2)C(=C2NC(=C(C)C3=NC(=C(C)C4=CC=C1N4)C=C3)C=C2)C': 2, 'O=C1N(C2CCC2)C(=O)C2=C1SC1=C(S2)C(=O)N(C2CCC2)C1=O': 2, 'COc1ccc(C=CC(=O)Nc2ccccc2C(O)=O)cc1OC': 2, 'C[Si](C)(CCCC(O)=O)O[Si](C)(C)CCCC(O)=O': 2, 'O=C1NC(=O)c2nc(C#N)c(nc2N1)C#N': 2, 'OC(=O)c1ccccc1Nc1ccccc1': 2, 'OC(=O)C=Cc1ccc(O)cc1': 2, 'COc1ccc(cc1)C1=NN(C(C1)c1ccc2ccc3cccc4ccc1c2c34)C(C)=O': 2, 'c1cncc(c1)c1ccc(cc1)C(c1ccc(cc1)c1cccnc1)=C(c1ccc(cc1)c1cccnc1)c1ccc(cc1)c1cccnc1': 2, 'OC(=O)COc1ccc2ccccc2c1': 2, 'COc1c(OC)c2cccc3c(OC)c(OC)c4cccc1c4c23': 2, 'FC(F)(F)c1cc(cc(c1)C(F)(F)F)C(=Cc1ccc(cc1)C=C(C#N)c1cc(cc(c1)C(F)(F)F)C(F)(F)F)C#N': 2, 'NC1=NN=C(S1)c1ccc(Br)cc1': 2, 'CCCCCCCCCCOc1ccc(cc1)C=Cc1ccncc1': 2, 'CCCCCCOc1ccc(cc1)C=Cc1ccncc1': 2, 'Brc1c(c(Br)c(c(Br)c1N(=O)=O)N(=O)=O)N(=O)=O': 2, 'Clc1c(c(Cl)c(c(Cl)c1N(=O)=O)N(=O)=O)N(=O)=O': 2, 'OC(=O)C1CCC(CC1)CN1C(=O)c2ccccc2C1=O': 2, 'c1cc(ccn1)c1cncnc1': 2, 'CCCCNC(=O)OCC#CI': 2, 'COCC1OC2OC3C(O)C(OC)C(OC3COC)OC3C(O)C(OC)C(OC3COC)OC3C(O)C(OC)C(OC3COC)OC3C(O)C(OC)C(OC3COC)OC3C(O)C(OC)C(OC3COC)OC3C(O)C(OC)C(OC3COC)OC1C(O)C2OC': 2, 'O=C(N1CCC(CCCC2CCN(CC2)C(=O)c2ccncc2)CC1)c1ccncc1': 2, 'O=C(NCCCCNC(=O)c1ccncc1)c1ccncc1': 2, 'CC1=C(CCN2CCC(CC2)C2=NOc3cc(F)ccc23)C(=O)N2CCCC(O)C2=N1': 2, 'CCOC(=O)C(=O)Nc1cccc(NC(=O)C(=O)OCC)c1': 2, 'OC(=O)Cc1ccccc1C(O)=O': 2, 'OCCOCCNc1cccc2c(NCCOCCO)cccc12': 2, 'CC(C)(c1ccc(O)cc1)c1ccc(cc1)C(C)(C)c1ccc(O)cc1': 2, 'CC1SC2=C(SC1C)SC(S2)=C1SC2=C(SC(C)C(C)S2)S1': 2, 'OC(CCC1C(N(C1=O)c1ccc(F)cc1)c1ccc(O)cc1)c1ccc(F)cc1': 2, 'N#Cc1ccc(C=Cc2ccc(cc2)C=Cc2ccccc2C#N)cc1': 2, 'OC(=O)c1c(Br)c(Br)c(C(O)=O)c(Br)c1Br': 2, 'OC(=O)c1c(O)cccc1O': 2, 'CC(C)c1cccc(C(C)C)c1O': 2, 'CC12CCC(C)(c3cc(O)c(O)cc13)c1cc(O)c(O)cc21': 2, 'C(Nc1ncnc2NC=Nc12)c1ccccc1': 2, 'Brc1ccc2N3CN(Cc2c1)c1ccc(Br)cc1C3': 2, 'IC1=CNC(=O)NC1=O': 2, 'O=C(C=Cc1ccc2ccc3cccc4ccc1c2c34)c1ccccc1': 2, 'OC1=CC(=O)c2ccccc2C1=O': 2, 'Fc1c(F)c(F)c(Cl)c(F)c1F': 2, 'Brc1c(Br)c(Br)c2C(=O)OC(=O)c2c1Br': 2, 'IC#Cc1ccc(cc1)N(=O)=O': 2, 'IC#Cc1cccc(c1)N(=O)=O': 2, 'OC1(C#Cc2c3ccccc3c(C#CC3(O)c4ccccc4c4ccccc34)c3ccccc23)c2ccccc2c2ccccc12': 2, 'OC1(C#Cc2ccc(cc2)C#CC2(O)c3ccccc3c3ccccc23)c2ccccc2c2ccccc12': 2, 'Oc1ccc(cc1)C1(CCC(CC1)(c1ccc(O)cc1)c1ccc(O)cc1)c1ccc(O)cc1': 2, 'NS(=O)(=O)c1ccccc1': 2, 'NS(=O)(=O)c1ccc(Cl)cc1': 2, 'NS(=O)(=O)c1ccc(Br)cc1': 2, 'NS(=O)(=O)c1ccccc1Cl': 2, 'Cc1c(O)cccc1O': 2, 'c1ccc(cc1)N=Nc1ccncc1': 2, 'CCN(CC)c1ccc(C=Cc2ccncc2)cc1': 2, 'CCCCCCCCc1ccc2c(SC3=C2Sc2cc(CCCCCCCC)ccc32)c1': 2, 'COc1ccc2NC=C(CCNC(C)=O)c2c1': 2, 'Cc1ccc(cc1)C(=NNC(=O)c1ccncc1)c1ccc(C)cc1': 2, 'Nc1ccc(cc1)C(=NNC(=O)c1ccncc1)c1ccccc1': 2, 'O=N(=O)C1=NNC2=C1NN=C2N(=O)=O': 2, 'OC1(c2ccccc2c2ccccc2C2(O)c3cc(Br)ccc3c3ccc(Br)cc23)c2cc(Br)ccc2c2ccc(Br)cc12': 2, 'CC(C)(C)c1ccc2c3ccc(cc3C(O)(c3ccc(cc3)C3(O)c4cc(ccc4c4ccc(cc34)C(C)(C)C)C(C)(C)C)c2c1)C(C)(C)C': 2, 'OC(=O)CCSC1=CC(=O)C(=O)c2ccccc12': 2, 'CN1C=CC(=O)C(=C1C)O': 2, 'Oc1ccc(cc1)C1=C2C=CC(=N2)C(=C2NC(=C(c3ccc(O)cc3)C3=NC(=C(C4=CC=C1N4)c1ccc(O)cc1)C=C3)C=C2)c1ccc(O)cc1': 2, 'OC(=O)c1cc(I)cc(I)c1O': 2, 'O=C1C(=C(C#N)C(=O)C(=C1C#N)C#N)C#N': 2, 'Oc1ccc(cc1)C=CC(=O)c1ccc(O)cc1O': 2, 'CC1=C(C)C2=N[Se]N=C2C(=C1C)C': 2, 'Cc1cnc(C)cn1': 2, 'CCC1=CC2=C(C(=O)N1CC(=O)c1ccccc1)C(=C(N2C)C(=O)NC1CCN(CC1)C(=O)CO)OCC(F)(F)F': 2, 'Clc1c(Cl)c(Cl)c(Cl)c(Cl)c1Cl': 2, 'O=C1CC(=O)NC(=S)N1': 2, 'OC1=C(O)C(=O)C1=O': 2, 'S1C=CC2=C1c1cc3SC4=C(SC=C4)c3cc1S2': 2, 'CC(C)C(C)C=CC(C)C1CCC2C(CCCC12C)=CC=C1CC(O)CCC1=C': 2, 'Cc1ccc(cc1)C=CC(O)=O': 2, 'COc1ccc(C=CC(O)=O)cc1': 2, 'OC(=O)CCC1=NC(=C(O1)c1ccccc1)c1ccccc1': 2, 'ON=Cc1c(O)ccc2ccccc12': 2, 'OC1(c2ccc(cc2)C2(O)c3ccccc3c3ccccc23)c2ccccc2c2ccccc12': 2, 'CC(C)(NC(=O)NCc1ccncc1)c1cccc(c1)C(C)(C)NC(=O)NCc1ccncc1': 2, 'OB(O)c1cc(F)c(F)c(F)c1': 2, 'CCCCCCCCOc1ccc(cc1)N=Nc1ccncc1': 2, 'N#C[Se]Cc1cccc(C[Se]C#N)c1': 2, 'N#C[Se]Cc1ccc(C[Se]C#N)cc1': 2, 'Cc1cccc(O)c1': 2, 'S1C=Cc2c1c1C=CSc1c1C=CSc21': 2, 'COC(=O)C1=C(C)NC(=C(C1c1ccccc1N(=O)=O)C(=O)OC)C': 2, 'CCCCOc1ccc2c3ccc4OC5CC(c24)c2c(O5)ccc4c(CNC(=O)c5c(OCCCC)ccc6c5ccc5OC7CC(c8c(O7)ccc7c8ccc(OCCCC)c7C(=O)NCc13)c65)c(OCCCC)ccc24': 2, 'OC(=O)c1ccccn1': 2, 'NC1=C(NN=C1N(=O)=O)N(=O)=O': 2, 'CNC(=S)NN=Cc1ccc(O)cc1O': 2, 'S1c2ccccc2C2=C1c1ccccc1S2': 2, 'OB(O)c1c(Cl)cccc1Cl': 2, 'OB(O)c1c(Br)cccc1Br': 2, 'OB(O)c1c(cccc1C(F)(F)F)C(F)(F)F': 2, 'Nc1ncc(cn1)C#CI': 2, 'CC(NC(=O)c1ccccc1C(F)(F)F)c1ccccc1': 2, 'Cc1ccc(cc1)S(=O)(=O)NC(=O)NN1CC2CCCC2C1': 2, 'Oc1ccccc1O': 2, 'COc1c(C)c2COC(=O)c2c(O)c1CC=C(C)CCC(O)=O': 2, 'FC(Br)(Br)Br': 2, 'NC(=O)C(Br)(Br)Br': 2, 'C(CNC1(c2ccccc2)c2ccccc2Sc2ccccc12)NC1(c2ccccc2)c2ccccc2Sc2ccccc12': 2, 'CC1CCC(c2ccccc2)S(=O)(=O)N1Cc1cc(F)c(cc1F)N1CC2C(C1)C2N1C=NN=C1': 2, 'Fc1c(F)c(C2C(C(C2c2c(F)c(F)c(I)c(F)c2F)c2c(F)c(F)c(I)c(F)c2F)c2c(F)c(F)c(I)c(F)c2F)c(F)c(F)c1I': 2, 'COc1cc2ncnc(Nc3cccc(c3)C#C)c2cc1OC': 2, 'C1=CC=C2C(=C(C=C2c2ccncc2)c2ccncc2)C=C1': 2, 'CCCCCCC1c2cc3C(CCCCCC)c4cc5C(CCCCCC)c6cc7C(CCCCCC)c8cc1c1OCOc2c(C#CBr)c3OCOc4c(C#CBr)c5OCOc6c(C#CBr)c7OCOc8c1C#CBr': 2, 'N1N=NN=C1Nc1nnc(NC2=NN=NN2)nn1': 2, 'CC1=CN=C(NC(=O)c2ccccc2)S1': 2, 'CC1=CNC(=S)NC1=O': 2, 'OC(=O)c1c2ccccc2cc2ccccc12': 2, 'N#CC(=Cc1ccccc1)c1ccc(cc1)C(=Cc1ccccc1)C#N': 2, 'Fc1c(Br)c(F)c(Br)c(F)c1Br': 2, 'Ic1cccc(I)c1': 2, 'OC(=O)c1cccc(c1)C#CI': 2, 'O=N(=O)N1CN(CN(C1)N(=O)=O)N(=O)=O': 2, 'NS(=O)(=O)CC1=NOc2ccccc12': 2, 'FC1(I)S(=O)(=O)c2ccccc2S1(=O)=O': 2, 'CC(N(O)C(N)=O)C1=Cc2ccccc2S1': 2, 'CCOC(=O)Nc1ccc(NCc2ccc(F)cc2)cc1N': 2, 'c1ccc(cc1)C1C(C(C1c1ccncc1)c1ccccc1)c1ccncc1': 2, 'COc1cc(O)c(CC=C(C)C)c(O)c1C(=O)C=Cc1ccc(O)cc1': 2, 'Cc1cccc2c1[Se]c1c(C)cccc21': 2, 'CC(C)(C)c1ccc(cc1)C(O)=O': 2, 'O=C(NN=Cc1ccccn1)c1ccccc1': 2, 'CC(C)c1cccc(C(C)C)c1N1[C]N(C=C1)c1c(cccc1C(C)C)C(C)C': 2, 'NC(N)=NC1=NC(=CS1)CSCCC(N)=NS(N)(=O)=O': 2, 'OC(=O)C(Cc1ccc(O)cc1)NC(=O)C(c1ccccc1)(c1ccccc1)c1ccccc1': 2, 'c1ccc2c(c1)ccc1ccccc21': 2, 'CCCN1C(=S)SC(C1=S)=C1SC(=S)N(CCC)C1=S': 2, 'CCN1C(=O)C(SC1=S)=C1SC(=S)N(CC)C1=O': 2, 'c1ccc2c(c1)nnc1ccccc21': 2, 'CC1(C)c2cc3N4c5ccccc5c5cccc(c45)C(C)(C)c3cc2N2c3ccccc3c3cccc1c23': 2, 'CC1=C(C=NO1)C(=O)Nc1ccc(cc1)C(F)(F)F': 2, 'CC(=NN=C(C)c1cccnc1)c1cccnc1': 2, 'O=C1Nc2cc(OCCCCN3CCN(CC3)c3cccc4SC=Cc34)ccc2C=C1': 2, 'OC(=O)COc1cccc(c1)C(O)=O': 2, 'OC(=O)COc1ccc2ccc(OCC(O)=O)cc2c1': 2, 'CC1=NC=C(N1CCO)N(=O)=O': 2, 'O=N(=O)c1ccc(cc1)c1ccc(cc1)C(c1ccc(cc1)c1ccc(cc1)N(=O)=O)=C(c1ccc(cc1)c1ccc(cc1)N(=O)=O)c1ccc(cc1)c1ccc(cc1)N(=O)=O': 2, 'COc1c2OC=Cc2cc2C=CC(=O)Oc12': 2, 'CC(C)c1ccc(C)c(O)c1': 2, 'O=N(=O)C(C1=NNC(=N1)C1=NC(=NN1)C(N(=O)=O)(N(=O)=O)N(=O)=O)(N(=O)=O)N(=O)=O': 2, 'C1=NN=CN1N=NN1C=NN=C1': 2, 'Oc1ccc(CCC(=O)c2c(O)cc(O)cc2O)cc1': 2, 'COc1ccc(cc1N(=O)=O)N(=O)=O': 2, 'NC1=NC2=C(N=CN2CCC(CO)CO)C(=O)N1': 2, 'C1CCC(NC2(c3ccccc3)c3ccccc3Oc3ccccc23)C(C1)NC1(c2ccccc2)c2ccccc2Oc2ccccc12': 2, 'CCCOc1cc2Cc3cc(OCCC)c(Cc4cc(OCCC)c(Cc5cc(OCCC)c(Cc6cc(OCCC)c(Cc1cc2OCCC)cc6OCCC)cc5OCCC)cc4OCCC)cc3OCCC': 2, 'N#CC(C#N)=C1c2ccccc2C(C2=NSN=C12)=C(C#N)C#N': 2, 'CC(C(O)=O)c1ccc2Sc3ccccc3C(=O)Cc2c1': 2, 'OC(Cc1ccccc1)C(O)=O': 2, 'CC(CCCC(C)(C)O)C1CCC2C(CCCC12C)=CC=C1CC(O)CCC1=C': 2, 'S1c2ccccc2c2ccccc12': 2, 'COc1cc2Cc3cc(OC)c(Cc4cc(OC)c(Cc5cc(OC)c(Cc6cc(OC)c(Cc1cc2OC)cc6OC)cc5OC)cc4OC)cc3OC': 2, 'COc1cc(cc(OC)c1Oc1cc(Cl)ncn1)C12CC3CC(C1)CC(C3)(C2)c1cc(OC)c(Oc2cc(Cl)ncn2)c(OC)c1': 2, 'O=N(=O)C1=C(N=C(N1)C1=NC(=C(N1)N(=O)=O)N(=O)=O)N(=O)=O': 2, 'CCCc1cc(ccn1)C(N)=S': 2, 'CCS(=O)(=O)CCN1C(=NC=C1N(=O)=O)C': 2, 'Cc1c(C)n([O])c(C)c(C)n1[O]': 2, 'CC(=O)NCC1CN(C(=O)O1)c1ccc(N2CCOCC2)c(F)c1': 2, 'OC(=O)c1c2ccccc2c(c2ccccc12)c1c2ccccc2c(C(O)=O)c2ccccc12': 2, 'OC(=O)c1c(O)c(Cl)cc(Cl)c1Cl': 2, 'O=C1NC=NC2=C1C=NN2': 2, 'Fc1c(F)c(c(F)c(F)c1I)C1=Nc2cccnc2[Te]1': 2, 'Fc1c(F)c(F)c(c(I)c1F)c1c(F)c(F)c(c(F)c1F)c1c(F)c(F)c(F)c(F)c1I': 2, 'CCOc1cc(ccc1OC)C(CS(C)(=O)=O)N1C(=O)c2cccc(NC(C)=O)c2C1=O': 2, 'N#CC1=N[Se]N=C1C#N': 2, 'COc1ccc(c(Br)c1)C12CC3(CC(C1)(CC(C2)(C3)c1ccc(OC)cc1Br)c1ccc(OC)cc1Br)c1ccc(OC)cc1Br': 2, 'Cc1ccc(cc1)S(=O)(=O)N1Cc2ccc(COCCCCCCCCCCOCc3ccc(CN(Cc4ccc(COCCCCCCCCCCOCc5ccc(C1)cc5)cc4)S(=O)(=O)c1ccc(C)cc1)cc3)cc2': 2, 'CC12CCC3C(CCC4=CC(=O)CCC34)C1CCC2O': 2, 'Brc1c(Br)c(Br)c(Br)c(Br)c1Br': 1, 'OCC1OC(C(O)C1O)N1C=C(Br)C(=O)NC1=O': 1, 'NC1=NC(=O)N(C=C1Br)C1CC(O)C(CO)O1': 1, 'NC1=NC=CC(=O)N1': 1, 'CN1C(=O)N(C)C2=C(N(C)C(=O)N2C)C1=O': 1, 'COc1c(Cl)cc2c(N(C)C3N4C(=O)C5(C)SSC4(C(O)C23O)C(=O)N5C)c1OC': 1, 'c1ccc2ccccc2c1': 1, 'CCN1C=NC2=C1N=CNC2=O': 1, 'c1ccc2c(c1)cc1ccc3cccc4ccc2c1c34': 1, 'BrC(Br)=C(Br)Br': 1, 'O=C1C=CC(=O)C=C1': 1, 'CCN1C(=NC2=C1N=CNC2=O)Br': 1, 'CCN1C=Nc2cnc(N)nc12': 1, 'CC12CCC3C(CCC4=CC(=O)CCC34C)C1CCC2O': 1, 'CN1C(=O)CN=C(c2ccccc2)c2cc(Br)ccc12': 1, 'OCC1OC(O)C(O)C(O)C1O': 1, 'C1Cc2ccc(CCCc3ccc(C1)cc3)cc2': 1, 'Oc1cccc(Cl)n1': 1, 'c1ccc2cc3ccccc3cc2c1': 1, 'O1N=C2C(=N1)C1=NON=C1C1=NON=C21': 1, 'O=C(c1ccccc1)c1ccccc1': 1, 'CC(C)C1(CC(Br)=C)C(=O)NC(=O)NC1=O': 1, 'OC1C(O)C(C(O)C(O)C1N(=O)=O)N(=O)=O': 1, 'ON=CC1=CC=C(O1)N(=O)=O': 1, 'NC(=O)C1=CC=CO1': 1, 'CC1=CC(=O)N(N1)c1ccccc1': 1, 'NC1=NC(=O)N(C=C1)C1OC(CO)C(O)C1O': 1, 'CCC1(CCC(C)C)C(=O)NC(=O)NC1=O': 1, 'CCC1(C(=O)NC(=O)NC1=O)C1=CCCCC1': 1, 'Oc1ccc(Cl)c(O)c1': 1, 'CN1c2cc(C)c(C)cc2N=C2C(=O)NC(=O)N=C12': 1, 'CCCN1c2ccccc2N=C2C(=O)NC(=O)N=C12': 1, 'O=C1SC(=O)c2cc3C(=O)SC(=O)c3cc12': 1, 'Cc1ccc(cc1)S(=O)(=O)NC(CCC(O)=O)C(O)=O': 1, 'CC(C)(O)C1C2OC(=O)C1C1(O)CC3OC43C(=O)OC2C14C': 1, 'c1ccc(cc1)c1ccc(cc1)c1ccccc1': 1, 'CC(=C)C(C)=C': 1, 'OC(=O)C=C=CC(O)=O': 1, 'c1ccc2c(c1)ccc1ccc3ccccc3c21': 1, 'CCC1=C(CC)SC(S1)=C1SC(=C(CC)S1)CC': 1, 'N1SSSSSSS1': 1, 'OC(=O)Cc1cc(I)c(Oc2ccc(O)c(I)c2)c(I)c1': 1, 'O=C1C=CC(=O)c2ccccc12': 1, 'CCC1(C(=O)NC(=O)NC1=O)c1ccccc1': 1, 'OC(=O)Cc1cc(I)c(Oc2cc(I)c(O)c(I)c2)c(I)c1': 1, 'O=C(N(N=C1C(=O)c2ccccc2C1=O)c1ccccc1)c1ccccc1': 1, 'C1CCN(CC1)C1=CC2=NC3(CCCCC3)N=C2C=C1N1CCCCC1': 1, 'C1CC2=C(C1)SC(S2)=C1SC2=C(CCC2)S1': 1, 'CC1(C)OP(O)(=S)OC1(C)C': 1, 'CSc1nc(NC(=O)c2ccccc2)c2NC=Nc2n1': 1, 'C1CC2=C(C1)SC(S2)=C1SC=CS1': 1, 'Oc1ccc(O)c2ccccc12': 1, 'CN1C(=O)N(C)C2=C(N=CN2)C1=O': 1, 'N#CCCN1CCOCCOCCN(CCOCCOCC1)CCC#N': 1, 'CN1c2ccccc2P(=O)(c2ccccc2)c2ccccc12': 1, 'CN(C)N=NC1=C(N=CN1)C(N)=O': 1, 'CN1CCN(CCCN2c3ccccc3Sc3ccc(Cl)cc23)CC1': 1, 'S=C1SC(=C[Se]1)c1ccccc1': 1, 'CN(C)C1=C(C)N(C)N(c2ccc(Br)cc2)C1=O': 1, 'Oc1cc(Cl)cc(Cl)c1': 1, 'C1CCC2=[S]C([S]=C2C1)=C1[S]=C2CCCCC2=[S]1': 1, 'C1CCC(NC1)C12CC(CC3CCCNC13)C1CCCCN1C2': 1, 'Cc1ccc(cc1)S(=O)(=O)N=C1C=C(Cl)C(=O)C(=C1)Cl': 1, 'C(COCCOc1cccc2cccnc12)OCCOCCOc1cccc2cccnc12': 1, 'CC1=CNc2ccccc12': 1, 'c1cc2c(ccc3sc4ccc5sccc5c4c23)s1': 1, 'BrC1=CC(C=C(Br)C1=O)=C1C=C(Br)C(=O)C(=C1)Br': 1, 'C[As](=S)(c1ccccc1)c1ccccc1': 1, 'O=P(C1C2CC(C=C2)C1P(=O)(c1ccccc1)c1ccccc1)(c1ccccc1)c1ccccc1': 1, 'CCOC1=C(OCC)C(=O)C(C1=O)=C(C#N)C#N': 1, 'C1CCC2=C(C1)SC(S2)=C1SC2=C(CCCC2)S1': 1, 'C1=[S]C([S]=C1)=C1[S]=CC=[S]1': 1, 'O[I](O)(O)(O)(O)=O': 1, 'C1CC2=[Se]C([Se]=C2C1)=C1[Se]=C2CCCC2=[Se]1': 1, 'CN(C)c1ccc(NC(=O)NC(=O)CCc2ccccc2)cc1': 1, 'OC(C#C)(c1ccccc1)c1ccccc1Br': 1, '[Te]1c2ccccc2C(C2c3ccccc3[Te]c3ccccc23)c2ccccc12': 1, 'COc1ccc(OC)c(C=Cc2cc(OC)ccc2OC)c1': 1, 'CN(C)c1ccc(NC(=O)NC(=O)Cc2ccccc2)cc1': 1, 'NC1=NC2=C(N=CN2CCC(O)=O)C(=O)N1': 1, 'CC1=CC=C(O1)C1(O)C(=O)OC2C(O)COC12O': 1, 'O=C1c2ccccc2C(=O)c2c3[Se][Se][Se]c4c5C=CC=Cc5c([Se][Se][Se]c(c5C=CC=Cc35)c12)c1C(=O)c2ccccc2C(=O)c41': 1, 'I[Te]1(I)Cc2nc3ccccc3nc2C1': 1, 'COc1ccccc1OCCOCCOc1ccccc1OC': 1, 'c1ccc(cc1)C#Cc1ccccc1': 1, 'Cc1cc(O)c(C)cc1O': 1, 'COc1c(cc(cc1N(=O)=O)N(=O)=O)N(=O)=O': 1, 'O=N(=O)c1ccc(cc1)c1ccc(cc1)N(=O)=O': 1, 'CC1=CC(=O)C(=CC1=O)C': 1, 'COP(O)(=O)OC': 1, 'CC1=NN(C(=C1)C)c1ccccc1': 1, 'CC(C)C1OC(OCC(O)=O)C(C)(C)C(O1)C(C)C': 1, 'CNCC1CN(C(=O)O1)c1ccc(OCc2cccc(Cl)c2)cc1': 1, 'O=C1CCC2N(CCC12c1ccccc1)Cc1ccccc1': 1, 'NC(=O)CCN1C=NC2=C1N=C(N)NC2=O': 1, 'CC1=CC=CN(C1=O)C(=NO)C(C)=NO': 1, 'OC1CCC(CC1)C(O)(C(F)(F)F)C(F)(F)F': 1, 'CCCC(=O)Nc1cccc(NC(=O)CCC)n1': 1, 'Cc1c(C)c(O)c(C)c(C)c1O': 1, 'c1cc2ccc1C=Cc1ccc(cc1)C=Cc1ccc(C=C2)cc1': 1, 'C1Cc2ccc(CCc3ccc1cc3)cc2': 1, 'Clc1c(Cl)c(Cl)c2OC3=C(Cl)C(=O)C(=O)C(=C3Oc2c1Cl)Cl': 1, 'CC1CCC2C(C)(C)N=CNC2(O)C1': 1, 'Clc1ccc2c(c1)C(=C(C#N)C#N)c1ccccc1C2=C(C#N)C#N': 1, 'N#CC(C#N)=C1C=C(Cc2ccccc2)C(C=C1Cc1ccccc1)=C(C#N)C#N': 1, 'OC(C(OC(=O)c1ccccc1)C(O)=O)C(O)=O': 1, 'CC(C)C1CC(C)(O)OC2=C1C(=O)Oc1ccccc21': 1, 'N#CC(C#N)=C(C#N)C#N': 1, 'CN(C)CCOC(c1ccccc1)c1ccccc1': 1, 'O=C1CCCOc2ccc3ccc(OCCCC(=O)Nc4cccc(N1)n4)cc3c2': 1, 'COc1ccc(cc1OC)C(C)CNC(C)c1ccccc1': 1, 'Cc1cc2C(C=CC(=C(C#N)C#N)c2cc1C)=C(C#N)C#N': 1, 'CCC1CN2CCC1CC2C(O)C1CCNc2ccccc12': 1, 'CN(C)c1ccc(cc1)C(=O)c1ccc(cc1)N(C)C': 1, 'CC(C)(O)c1cc(cc(c1)C(C)(C)O)C(C)(C)O': 1, 'CSC1=C(C#N)C(=S)NC(=N1)N': 1, 'Br[As](Br)Br': 1, 'C(C#CC#CCN1c2ccccc2c2ccccc12)N1c2ccccc2c2ccccc12': 1, 'CC(=O)NC(C)=O': 1, 'CC12CCC(CC1)C(C)(C)O2': 1, 'Oc1ccccc1I': 1, 'CC1(O)c2ccccc2c2ccccc2C1(C)O': 1, 'C1Cc2cccc(CCc3cccc1c3)c2': 1, 'CN(C)c1ccc(cc1)S(=O)(=O)OCC=C': 1, 'CN(C)c1cc(cc(c1)N(C)C)N(C)C': 1, 'c1cnc2ccc3N=CC4=CC=CN4c3c2c1': 1, 'COc1cc2CSCc3ccc(CSCc1cc2OC)cc3': 1, 'C1Cc2ccc3SSc4ccc1c2c34': 1, 'CCCOC(=O)c1cc2cc(C(=O)OCCC)c3OCCCC(=O)Nc4cccc(NC(=O)CCCOc1cc2c3)n4': 1, 'CC(C)(C)C12C3C4C5C3C1(C5C24)C12C3C4C5C3C1C5C24': 1, 'ClC1=C(CC(=C(Cl)C1=CN1CCCC1)C=O)C=O': 1, 'CN(C)NC1=NC(=CS1)CSCCC(N)=NS(N)(=O)=O': 1, 'N#Cc1c(C#N)c(C#N)c(C#N)c(C#N)c1C#N': 1, 'OCC(NC(=O)CC(CC#C)c1ccccc1)c1ccccc1': 1, 'O=C1c2cc(ccc2c2ccc(cc12)N(=O)=O)N(=O)=O': 1, 'CCC(C)C(=O)OC1CC(=CCCC(=CC2OC(=O)C(=C)C12)C)C': 1, 'OC(=O)c1cc(cc2Oc3cc(ccc3c12)N(=O)=O)N(=O)=O': 1, 'CCN(CC)C(=O)c1ccccc1C(=O)N(CC)CC': 1, 'O=C1Nc2c(cc(cc2N(=O)=O)N(=O)=O)c2ccc(cc12)N(=O)=O': 1, 'CC(ON=C1c2cc(cc(c2c2c1cc(cc2N(=O)=O)N(=O)=O)N(=O)=O)N(=O)=O)C(O)=O': 1, 'COc1cc2Sc3cc(OC)c(OC)cc3[Te]c2cc1OC': 1, 'COc1ccccc1OCCNCC(O)c1ccc(C)c(c1)S(N)(=O)=O': 1, 'Brc1ccc2Nc3ccc(Br)cc3c2c1': 1, 'CC1=CC(=NC(=O)N1)C': 1, 'Cc1cccc(NC(=O)c2ccc(cc2)C(=O)Nc2cccc(C)n2)n1': 1, 'COC(=O)C(NC(=O)C1CCCN1C(=O)OC(C)(C)C)C(C)(C)C': 1, 'BrC1=C2SC(=NC#N)C(=C2SC1=NC#N)Br': 1, 'N#CC(C#N)=C1OC(C=C1)=C1OC(C=C1)=C(C#N)C#N': 1, 'CCc1c(CC)c(CC)c(CC)c(CC)c1CC': 1, '[Te]1C=C[Te]C1=C1[Te]C=C[Te]1': 1, 'N1c2ccccc2C2=C1c1ccccc1S2': 1, 'CCN(CC)[P](=S)OC(C(C)NC)c1ccccc1': 1, 'Oc1ccc2c(Br)c(O)ccc2c1Br': 1, 'Oc1ccc2c(Cl)c(O)ccc2c1Cl': 1, 'OC(=O)COc1ccccc1C(O)=O': 1, 'Cc1cccc(NC(=O)c2ccc(cc2)c2ccc(cc2)C(=O)Nc2cccc(C)n2)n1': 1, 'O=C1N(SN2C(=O)c3ccccc3C2=O)C(=O)c2ccccc12': 1, 'CC(C)N1C=C2Sc3ccc(Cl)cc3C2=C1': 1, 'CC(C)Nc1c(c(NC(C)C)c(c(NC(C)C)c1N(=O)=O)N(=O)=O)N(=O)=O': 1, 'NP1(=S)Oc2ccc3ccccc3c2c2c(O1)ccc1ccccc21': 1, 'N#Cc1ccc(cc1)C(N1C=CN=C1)c1ccc(cc1)C#N': 1, 'CC1=C(Oc2ccc(O)cc2C1=O)c1cc(Br)c(O)c(Br)c1': 1, 'C1CC(CCC1CN1C=CN=C1)CN1C=CN=C1': 1, 'CC1(C)COC(=O)C2=CN3C(=CN12)C(=O)OCC3(C)C': 1, 'Cc1ccc2c(ccc3c4ccccc4ccc23)c1': 1, 'Cc1ccc2ccc3c4ccccc4ccc3c2c1': 1, 'Cc1cccc2ccc3c4ccccc4ccc3c12': 1, 'Cc1cc2c3ccccc3ccc2c2ccccc12': 1, 'CC(C)Oc1ccc(cc1)C(=O)NS(=O)(=O)c1ccc(N)cc1': 1, 'C1CCC(OC1)=NN1C=NN=C1': 1, 'Cc1cc2ccccc2c2ccc3ccccc3c12': 1, 'O=N(=O)C1=CNN=C1': 1, 'CN1C(O)C(C(C(O)C1=O)c1ccccc1)c1ccccc1': 1, 'O(c1ccc2ncccc2c1)c1ccc2ncccc2c1': 1, 'S1c2ccccc2c2c1ccc1Sc3ccccc3c21': 1, 'O=C(NC(c1ccccc1)(c1ccccc1)c1ccccc1)NC(c1ccccc1)(c1ccccc1)c1ccccc1': 1, 'CC12CCC(O)CC1CCC1C2CCC2(C)C(CCC12O)C1=CC(=O)OC1': 1, 'COc1ccccc1OC': 1, 'COc1cc2Sc3c(OC)c4Sc5cc(OC)c(OC)cc5Sc4c(OC)c3Sc2cc1OC': 1, 'CCC1=COc2c(C)cc3C(=COc4c(C)cc1c2c34)CC': 1, 'Oc1ccc(SSc2ccc(O)cc2)cc1': 1, 'COc1ccccc1CNC1C2CCN(CC2)C1C(c1ccccc1)c1ccccc1': 1, 'CSC1=CC(=NC#N)C(=CC1=NC#N)SC': 1, 'CC(=O)C(C)=NNc1ccccc1': 1, 'CC(=NO)c1ccccc1': 1, 'ON=Cc1ccccc1': 1, 'OC(=O)COc1c(Cl)c(Cl)c(Cl)c(Cl)c1Cl': 1, 'CN(C)c1ccc(cc1)N=C(C(C)=O)C(=O)Nc1ccccc1': 1, 'COC(=O)C(C)Nc1ccc(cc1N(=O)=O)N(=O)=O': 1, 'CP(C)(C)=Nc1ccccc1': 1, 'CCc1cc(O)c(c(CC)c1)c1c(CBr)ccc2ccccc12': 1, 'C1CC2=C(Nc3c2ccc2cccnc32)c2nc3c(CCC4=C3Nc3c4ccc4cccnc34)cc12': 1, 'C1CSC2=C(S1)SC(S2)=C1SC2=C(SCCSC3=C(SCCS2)SC(S3)=C2SC3=C(SCCS3)S2)S1': 1, 'Cc1ccccc1NN=Nc1ccccc1C': 1, 'COc1ccc(OCCCN(C)CCOc2ccc3OCOc3c2)c(c1)C1Sc2ccccc2N(C)C1=O': 1, 'Nc1ncncc1c1ccccc1': 1, 'c1ccc(cc1)C=Cc1cnc(C=Cc2ccccc2)cn1': 1, 'Nc1ccc2ccc3c(N)ccc4ccc1c2c34': 1, 'C1c2ccccc2CC2(c3ccccc3)C(=C(c3ccccc3)C12c1ccccc1)c1ccccc1': 1, 'c1ccc(cc1)C#CC(C#Cc1ccccc1)=C(C#Cc1ccccc1)C#Cc1ccccc1': 1, 'Cc1c(C)c(C)c2c(c1C)C1(C)OOC2(C)C(=C1C)C': 1, 'COC(=O)C1=C(C)NC2=C(C1c1cccc(Cl)c1)C(=O)NC(=S)N2': 1, 'CCCC1=C2NC(=C1)C1=CC=C(O1)C1=NC(=CC=C3NC(=C4C=C(CCC)C(=N4)C=C2)C=C3CCC)C(=C1)CCC': 1, 'N#CCCCCCC#N': 1, 'N#CCCCC#N': 1, 'O=C(NCCCCCC#N)NCCCCCC#N': 1, 'O=C(Nc1ccc(cc1)C#N)Nc1ccc(cc1)C#N': 1, 'CC1CNC(C)CN1': 1, 'CC1(O)C2CCC3CC1CC(C2)C3(C)O': 1, 'Nc1nc(Nc2ccc(I)cc2)nc(Nc2ccc(cc2)C#N)n1': 1, 'Nc1nc(Cl)nc(Nc2cccc(Br)c2)n1': 1, 'Nc1nc(Nc2ccc(Cl)cc2)nc(Nc2ccc(Cl)cc2)n1': 1, 'Nc1nc(Nc2ccc(Br)cc2)nc(Nc2ccc(Br)cc2)n1': 1, 'Nc1nc(Nc2ccc(I)cc2)nc(Nc2ccc(I)cc2)n1': 1, 'Cc1ccc(Nc2nc(N)nc(Nc3ccc(C)cc3)n2)cc1': 1, 'Cc1cccc(Nc2nc(N)nc(Nc3cccc(C)c3)n2)c1': 1, 'BrC1(Br)C(=O)NC(=O)NC1=O': 1, 'O=C1N=C(NCCSCc2cccnc2)NC=C1Cc1cccnc1': 1, 'OC(=O)COc1ccccc1': 1, 'OC(=O)COc1ccc(Cl)c(Cl)c1': 1, 'CN(C)c1ccc(C=CC(O)=O)cc1': 1, 'CC1OC(C)C23c4ccccc4C(C4c5ccccc5C12c1ccccc41)c1ccccc31': 1, '[Se]([Se]c1cccc2ccccc12)c1cccc2ccccc12': 1, 'CC(C)=Nc1ccc(cc1)N=C(C)C': 1, 'O=C1C=CC2=C(C=C1)C(=O)C1=C(C=CC(=O)C=C1)C2=O': 1, 'Nc1nc(Nc2cccc(F)c2)nc(Nc2cccc(F)c2)n1': 1, 'BrC12CC3(Br)CC(Br)(C1)CC(Br)(C2)C3': 1, 'CCCCCCCCCCCCOc1cc(cc(c1)C(O)=O)C(O)=O': 1, 'CCCCCCCCCCCCCCCCOc1cc(cc(c1)C(O)=O)C(O)=O': 1, 'Nc1nc(Nc2ccc(F)cc2)nc(Nc2ccc(F)cc2)n1': 1, 'Nc1nc(Nc2ccc(cc2)C(F)(F)F)nc(Nc2ccc(cc2)C(F)(F)F)n1': 1, 'CN1c2ccc(Br)cc2c2cc(Br)ccc12': 1, 'Cc1ccc2NC3=C(c2c1)C1=NCCCN1C=C3': 1, 'CC(C)[Si]1(Cc2ccccc2C1)[Si]1(Cc2ccccc2C1)C(C)C': 1, 'OC1(C(Cl)Cl)c2ccccc2C(O)(C(Cl)Cl)c2ccccc12': 1, 'CC(C)C(N)C(=O)N1CCCC1B1OC2CC3CC(C3(C)C)C2(C)O1': 1, 'CSC1=C(SC)SC(S1)=C1SC2=C(S1)SC1=C(SC(S1)=C1SC=CS1)S2': 1, 'C1CCC2OCCOCCOc3ccccc3OCCOCCOC2C1': 1, 'COc1cnc(NS(=O)(=O)c2ccc(N)cc2)nc1': 1, 'OC(=O)C=Cc1c(F)c(F)c(F)c(F)c1F': 1, 'CN(C(=O)c1ccccc1)c1ccccc1N(C)C(=O)c1ccccc1': 1, 'O=C1N2CCCCCC2=Nc2ccccc12': 1, 'CCN1c2ccccc2C(=C1c1ccccc1)N=NC1=C(N(CC)c2ccccc12)c1ccccc1': 1, 'c1ccc(cc1)N1c2ccccc2C(=C1c1ccccc1)N=NC1=C(N(c2ccccc2)c2ccccc12)c1ccccc1': 1, 'COC1OC(C)C2OC(OC2C1OC(=O)NC1CCCCC1)(C(F)(F)F)C(F)(F)F': 1, 'CC(CCC(O)=O)C1CCC2C3C(O)CC4CC(O)CCC4(C)C3CC(O)C12C': 1, 'O=S(=O)(NS(=O)(=O)c1ccc2ccccc2c1)c1ccc2ccccc2c1': 1, 'CN(C)C1=C(N(C)C)C2=NC3=NC(=NC4=C(N(C)C)C(=C(N4)N=C4N=C(N=C1N2)C(=C4N(C)C)N(C)C)N(C)C)C(=C3N(C)C)N(C)C': 1, 'CN(c1ccccc1)C1=NC(=NC1(C)C)C(F)(F)F': 1, 'CCS(=O)(=O)CS(=O)(=O)CC': 1, 'N=C1N2C(=Nc3ccccc23)Sc2ccccc12': 1, 'C[Si]1(C)[Si](C)(C)[Si](C)(O)[Si](C)(C)[Si](C)(C)[Si]1(C)O': 1, 'CCOC(=O)C1=C(C2c3ccccc3C1c1ccccc21)C(O)=O': 1, 'CS(=O)(=O)c1nccnc1C1CN2CCC1CC2': 1, 'C1CSC2=C3SCCCSC4=C5SCCCSC6=C(SCCCSC7=C(SC1)SC(=C(S4)S5)S7)SC(=C(S2)S3)S6': 1, 'CC1(C)C2CCC1(C)C(O)(C2)C#Cc1c2ccccc2c(C#CC2(O)CC3CCC2(C)C3(C)C)c2ccccc12': 1, 'Fc1ccc(cc1)C1([Se]C([Se]1)(c1ccc(F)cc1)c1ccc(F)cc1)c1ccc(F)cc1': 1, 'CC(C)C(N=CC=NC(C(C)C)C(C)C)C(C)C': 1, 'OC(=O)CNC(=O)NCC(O)=O': 1, 'O=C(OCC#CC#CCOC(=O)c1ccncc1)c1ccncc1': 1, 'Oc1c(c(Cl)c(c(Cl)c1N(=O)=O)N(=O)=O)N(=O)=O': 1, 'Cc1cc(CN(Cc2cc(C)c(O)c(C)c2)Cc2cc(C)c(O)c(C)c2)cc(C)c1O': 1, 'O=C(NC(=O)Nc1ccccc1)Nc1ccccc1': 1, 'C(CN=Cc1ccccc1)N=Cc1ccccc1': 1, 'Oc1ccc2ccccc2c1Cc1c(O)ccc2ccccc12': 1, 'O=N(=O)c1cc(cc(c1)C#N)C#N': 1, '[N]1c2ccccc2N(N=C1c1ccccc1)c1ccccc1': 1, 'S1C=Cc2c1c1c3SC=Cc3c3C=CSc3c1c1SC=Cc21': 1, 'CC(C)(C)C[Si]1(CC(C)(C)C)C2c3ccccc3C(c3ccccc23)[Si]1(CC(C)(C)C)CC(C)(C)C': 1, 'O=C1c2ccc(cc2C(=O)c2cc(ccc12)N(=O)=O)N(=O)=O': 1, 'Oc1cc(Br)c(Br)c(Br)c1Oc1ccc(Br)cc1Br': 1, 'COC(=O)c1cc(cc(c1O)N(=O)=O)N(=O)=O': 1, 'Oc1c(C#N)c(C#N)c(O)c(C#N)c1C#N': 1, 'COc1ccc(cc1)C=NCCN=Cc1ccc(OC)cc1': 1, 'OC(=O)C(c1ccccc1)c1ccccc1': 1, 'CC(C(O)=O)(c1ccccc1)c1ccccc1': 1, 'O[As](=S)(c1ccccc1)c1ccccc1': 1, 'S1C=Cc2c1ccc1Sc3ccc4SC=Cc4c3c21': 1, 'S1c2ccccc2c2c1ccc1Sc3ccc4Sc5ccc6Sc7ccccc7c6c5c4c3c21': 1, 'Oc1c(cc(cc1N(=O)=O)c1cc(c(O)c(c1)N(=O)=O)N(=O)=O)N(=O)=O': 1, 'CCCCCCCCCCCCCC1=CC(=O)NC(=O)N1': 1, 'OCC1=CC(=O)NC(=O)N1': 1, 'CCOc1cc2Sc3cc(OCC)c(OCC)cc3Sc2cc1OCC': 1, 'NC(=O)CS(=O)(=O)c1ccccc1': 1, 'OC(=O)C=Cc1ccc(I)cc1': 1, '[Se]1C=C[Se]C1=C1[Se]C=C[Se]1': 1, 'Clc1ccc(cc1)C1CNC(=O)C1': 1, 'CC1C2CCC3(C)C=CC(=O)C(=C3C2OC1=O)C': 1, 'C#C[Si](c1ccccc1)(c1ccccc1)c1ccccc1': 1, 'OCCOCCOc1cccc2c(OCCOCCO)cccc12': 1, 'Ic1cc2Cc3cc(I)cc(Cc4cc(I)cc(Cc5cc(I)cc(Cc(c1)c2OCc1ccccc1)c5OCc1ccccc1)c4OCc1ccccc1)c3OCc1ccccc1': 1, 'CC12C3CC4CC(C3)C(C1C4)C2(O)c1ccc(cc1)C(O)=O': 1, 'COc1c2C3CCC(C3)c2c(OCCCc2c(C)c(C)c(C)c(C)c2C)c2C3CCC(C3)c12': 1, 'O=C1C(CCCC1=Cc1ccccc1)=Cc1ccccc1': 1, 'O=C1C(CCC1=Cc1ccccc1)=Cc1ccccc1': 1, 'OC(C#CC#CC(O)(c1ccccc1)c1ccccc1Br)(c1ccccc1)c1ccccc1Br': 1, 'OC1CSc2ccccc2SCC(O)CS(=O)c2ccccc2SC1': 1, 'OC(=O)CCC1=CNc2ccccc12': 1, 'CCC(C)COc1ccc(cc1)C(O)=O': 1, 'OC(=O)CC1c2ccccc2c2ccccc12': 1, 'CC1=CC=CN2C(=O)N(c3ccccc3)C(=Nc3ccccc3)N=C12': 1, 'OC(=O)c1cccc(n1)C(O)=O': 1, 'CCCCCCc1cc(C(O)=O)c(CCCCCC)cc1C(O)=O': 1, 'Oc1ccc(Oc2ccc(O)cc2)cc1': 1, 'N#CN=C1C=CC(=NC#N)C2=C1CCCC2': 1, 'O=P(Cc1ccc2ccccc2c1c1c(CP(=O)(c2ccccc2)c2ccccc2)ccc2ccccc12)(c1ccccc1)c1ccccc1': 1, 'O=N(=O)c1ccc(Cc2ccncc2)cc1': 1, 'O=C1NC=CC=C1N(=O)=O': 1, 'CCN1C=CC(=C2C=CN(CC)C3=NSN=C23)C2=NSN=C12': 1, 'CC1=CC(=C2C=CC=C2C(=C1)C)C': 1, 'CC(CC(c1cc(c(O)cc1C)C(C)(C)C)c1cc(c(O)cc1C)C(C)(C)C)c1cc(c(O)cc1C)C(C)(C)C': 1, 'c1ccc2cc3c4ccccc4c4ccccc4c3cc2c1': 1, 'NC1=CC(=NN1)c1ccc(Br)cc1': 1, 'N1N=C(N=C1c1ccccn1)c1ccccn1': 1, 'CC1CCC2=C(C1)C=NN2': 1, 'CCOP(=O)(OCC)C(C)=C(C=Cc1ccc(cc1)N(=O)=O)C(F)(F)F': 1, 'BrC1=CN2CC3CC(CN4CCCCC34)C2CC1=O': 1, 'CC1(C)CCN2COC(C3OCN4CCC(C)(C)N=C34)C2=N1': 1, 'C1OC(C2OCN3Cc4ccccc4N=C23)C2=Nc3ccccc3CN12': 1, 'CCOC(=O)CCC1CCCNC1': 1, 'CNC(=S)C1=CSC(S1)=C1SC(=C(SC)S1)SC': 1, 'O=N(=O)c1cc2C(=C(C#N)C#N)c3cc(cc(c3c2c(c1)N(=O)=O)N(=O)=O)N(=O)=O': 1, 'Cc1cnc2cccc(O)c2n1': 1, 'C1COCCN2CCOCCOCCN(CCO1)CCOCCOCC2': 1, 'CN1C=CC=C1C(O)=O': 1, 'OC(=O)C1=CC=CS1': 1, 'CCN(CC)C(=O)c1ccc(cc1)C(=O)N(CC)CC': 1, 'CN(C)C(=O)c1ccc(cc1)C(=O)N(C)C': 1, 'Cc1ccc(cc1)C#Cc1cc(C)cc(C)c1': 1, 'Cc1c(C)c(C)c(C#Cc2ccccc2)c(C)c1C': 1, 'Cc1cc(C)cc(c1)C#Cc1cc(C)cc(C)c1': 1, 'Nc1cccc(n1)C#Cc1cccc(c1)C#Cc1cccc(N)n1': 1, 'CC1(C)C2Cc3ccccc3CC1Cc1ccccc1C2': 1, 'C=C1C2Cc3ccccc3CC1Cc1ccccc1C2': 1, 'CCCCCCCCCCCCCCCCCC(O)=O': 1, 'O=N(=O)c1cccc(c1Nc1cccc(Nc2c(cccc2N(=O)=O)N(=O)=O)c1)N(=O)=O': 1, 'N#CC(C#N)=C1SC(c2nccnc12)=C(C#N)C#N': 1, 'Cc1c(c(C)c(c(O)c1N(=O)=O)N(=O)=O)N(=O)=O': 1, 'CCN1C(=O)c2cc3C(=O)N(CC)C(=O)c3cc2C1=O': 1, 'Nc1ccc(N)cc1': 1, 'Oc1ccc(cc1)c1ccccc1': 1, 'NN1C(=NN=C1c1ccccn1)c1ccccn1': 1, 'COC(=O)C(CC1=CNc2ccccc12)Nc1nc(N)nc(NC(CC2=CNc3ccccc23)C(=O)OC)n1': 1, 'Oc1ccc(CCNC(=O)C(=O)NCCc2ccc(O)cc2)cc1': 1, 'Fc1c(F)c(F)c(C=Cc2c(F)c(F)c(F)c(F)c2F)c(F)c1F': 1, 'Cc1cc(C#Cc2cc(C)cc(c2O)C(C)(C)C)c(O)c(c1)C(C)(C)C': 1, 'OC(=O)CCSCCC(O)=O': 1, 'CSc1cc2[Se]c3cc(SC)c(SC)cc3[Se]c2cc1SC': 1, 'CSc1cc2Sc3cc(SC)c(SC)cc3Sc2cc1SC': 1, 'O=C1N2CCCCCCCCCCN3C(=O)c4ccc5C(=O)N(CCCCCCCCCCN6C(=O)c7ccc1c1c(ccc(C6=O)c71)C2=O)C(=O)c1ccc(C3=O)c4c51': 1, 'c1cc2cccc3ccc(c1)c23': 1, 'CC1=C(Sc2ccccc2N1)C(=O)c1ccccc1': 1, 'Oc1ccc(cc1)C(c1ccccc1)(c1ccccc1)c1ccccc1': 1, 'O=N(=O)c1ccc(cc1)N(=O)=O': 1, 'Fc1c(F)c(F)c2c(c1F)c1c(F)c(F)c(F)c(F)c1c1c(F)c(F)c(F)c(F)c21': 1, 'O=P(c1ccccc1)(c1ccccc1)c1ccc2Oc3ccccc3c2c1c1c2c(Oc3ccccc23)ccc1P(=O)(c1ccccc1)c1ccccc1': 1, 'N#CC(=Cc1cc(cc(c1)C=C(C#N)C#N)C=C(C#N)C#N)C#N': 1, 'CC1(C)CC(=NNc2ccccn2)C(C2C(CC(C)(C)CC2=NNc2ccccn2)=NNc2ccccn2)C(C1)=NNc1ccccn1': 1, 'CCOP(=O)(OCC)N1C(=O)CCC1=O': 1, 'c1cnc2c(c1)C(c1cccnc21)=C1c2cccnc2c2ncccc12': 1, 'CCCOC(=O)C12CCC(NC1=O)(C(=O)N2)C(=O)OCCC': 1, 'CN(C)CCOC1(CC2CCC1(C)C2(C)C)c1ccccc1': 1, 'CSC1=C(SC)SC2=C(S1)c1cccc3cccc2c13': 1, 'Fc1c(F)c(F)c(C#Cc2ccc(cc2)C#Cc2c(F)c(F)c(F)c(F)c2F)c(F)c1F': 1, 'COC1=CC(=O)OC(=C1)C': 1, 'CCN(CC)C(=O)C12CCC(CC1)(CC2)C(=O)N(CC)CC': 1, 'CN(C)C(=O)C12CCC(CC1)(CC2)C(=O)N(C)C': 1, 'CC1(C)CC(=CCC1(C)C(O)=O)Br': 1, 'COC(=O)c1cc2OCCOCCOCCOCCOc3cccc4c(OCCOCCOCCOCCOc1cc2C(=O)OC)cccc34': 1, 'O=C1NCc2ccc(CNC(=O)c3cccc(n3)C(=O)NCc3ccc(CNC(=O)c4cccc1n4)cc3)cc2': 1, 'CC1=C(Br)C(=NN1)c1ccccc1': 1, 'C1CCC2=C(C1)SC(S2)=C1SC2=C(SCCS2)S1': 1, 'CC12CCC3C4(C)CCCC(C)(C4CCC3(CC1=O)C2)C(O)=O': 1, 'O=N(=O)c1ccc(cc1)C=NCCN=Cc1ccc(cc1)N(=O)=O': 1, 'FC(F)(F)c1ccc(cc1)C=NCCN=Cc1ccc(cc1)C(F)(F)F': 1, 'Clc1ccc(cc1)C(OCCN1CCCCC1)c1ccccc1': 1, 'N1C=NC(=N1)c1ccccn1': 1, 'CC(C)(C)c1cc(cc(c1)C(C)(C)C)C1=C2NC(=C(c3cc(cc(c3)C(C)(C)C)C(C)(C)C)C3=NC(=C(C4=CC=C(N4)C(=C4C=CC1=N4)c1cc(cc(c1)C(C)(C)C)C(C)(C)C)c1cc(cc(c1)C(C)(C)C)C(C)(C)C)C=C3)C=C2': 1, 'CC1=C(C)SC(S1)=C1C(=O)c2ccccc2C1=O': 1, 'COc1cc(OC)c2CCCc3cc(CCCc1c2)c(OC)cc3OC': 1, 'OCC(O)c1ccccc1': 1, 'OC(c1ccccc1)(c1ccccc1)C(O)(c1ccccc1)c1ccccc1': 1, 'CCCCN1c2ccccc2c2ccccc12': 1, 'CC(C)CN1c2ccccc2c2ccccc12': 1, 'COc1cc2c(cc1OC)c1cc(OC)c(OC)cc1c1cc(OC)c(OC)cc1c1cc(OC)c(OC)cc21': 1, 'OC1(CCC(O)(CC1)C(F)(F)C(F)C(F)(F)F)C(F)(F)C(F)C(F)(F)F': 1, 'CC1=CC(=Nc2ccccc2NC(=CC(=Nc2ccccc2N1)C)C)C': 1, 'CCCCS(=O)(=O)c1cc2C(=C(C#N)C#N)c3cc(cc(c3c2c(c1)N(=O)=O)N(=O)=O)S(=O)(=O)CCCC': 1, 'N1c2ccccc2Nc2ccccc12': 1, 'O=C1C=Cc2ccccc2C1=CNc1ccccn1': 1, 'OC(=O)c1c(cc(cc1N(=O)=O)N(=O)=O)N(=O)=O': 1, 'CC(C)[Si]1(O)O[Si](O)(O[Si](O)(O[Si](O)(O1)C(C)C)C(C)C)C(C)C': 1, 'C1Cc2c3CCCc4c(C1)c1CCCc2c2CCCc1c1CCCc2c3CCCc41': 1, 'NC(=O)Nc1c(F)c(F)c(F)c(F)c1F': 1, 'O=C(CP(=O)(c1ccccc1)c1ccccc1)Oc1ccc(cc1)N(=O)=O': 1, 'OC(C1CCC(CC1)C(O)(c1ccccc1)c1ccccc1)(c1ccccc1)c1ccccc1': 1, 'OC(=O)C(C1=CC=CS1)C1=CC=CS1': 1, 'CC(C)C(C)C=CC(C)C1CCC2C3=CC=C4CC(O)CCC4(C)C3CCC12C': 1, 'Fc1c(F)c(F)c(C#Cc2cc(cc(c2)C#Cc2c(F)c(F)c(F)c(F)c2F)C#Cc2c(F)c(F)c(F)c(F)c2F)c(F)c1F': 1, 'O[Si](O[Si](O[Si](O)(c1ccccc1)c1ccccc1)(c1ccccc1)c1ccccc1)(c1ccccc1)c1ccccc1': 1, 'CC(C)(C)c1cc(Nc2cc(cc(c2O)C(C)(C)C)C(C)(C)C)c(O)c(c1)C(C)(C)C': 1, 'Cc1ccc(cc1)c1nc(nc(n1)c1ccc(C)cc1)c1ccc(C)cc1': 1, 'Cc1ccc(cc1)c1cc(cc(c1)c1ccc(C)cc1)c1ccc(C)cc1': 1, 'ClC1=CC=C(S1)c1cc(cc(c1)C1=CC=C(Cl)S1)C1=CC=C(Cl)S1': 1, 'S1C=CC=C1c1cc(cc(c1)C1=CC=CS1)C1=CC=CS1': 1, 'c1ccc(cc1)c1cc(cc(c1)c1ccccc1)c1ccccc1': 1, 'CSC1=C(SCC(N)=O)SC(S1)=C1SC2=C(SCCS2)S1': 1, 'S1C=C2Sc3nc4ccccc4nc3SC2=C1': 1, 'Cc1c(C)n([O])c(c(C)n1[O])c1c(C)n([O])c(C)c(C)n1[O]': 1, 'OC(=O)C(Br)C(Br)C(O)=O': 1, 'Oc1c2c(c(F)c3c1C(F)(F)OC3(F)F)C(F)(F)OC2(F)F': 1, 'OC(=O)c1c(Cl)c(Cl)c(Cl)c(Cl)c1C(O)=O': 1, 'Oc1cccc(c1)c1ccc(cc1)C(c1ccc(cc1)c1cccc(O)c1)(c1ccc(cc1)c1cccc(O)c1)c1ccc(cc1)c1cccc(O)c1': 1, 'Clc1ccc(Oc2nc(Oc3ccc(Cl)cc3)nc(Oc3ccc(Cl)cc3)n2)cc1': 1, 'Nc1ccc(cc1)S(=O)(=O)Nc1ccccn1': 1, 'Oc1c(Br)cc2ccccc2c1c1c(O)c(Br)cc2ccccc12': 1, 'CN(C)CCN(N=Nc1ccc(cc1)C#N)N=Nc1ccc(cc1)C#N': 1, 'O=C(CN(CC(=O)OCc1ccccc1)C(=O)C=CC(=O)N(CC(=O)OCc1ccccc1)CC(=O)OCc1ccccc1)OCc1ccccc1': 1, 'CC(Oc1ccc(cc1Cl)N(=O)=O)C(O)=O': 1, 'CSC1=C(SC)SC(S1)=C1SC(=C(I)S1)C': 1, 'CSC1=C(SC)SC(S1)=C1SC=C(I)S1': 1, 'O=N(=O)c1ccc2c(c1)C(=C(C#N)C#N)c1cc(cc(c21)N(=O)=O)N(=O)=O': 1, 'CCCCCCCCNCC(O)C(O)C(O)C(O)CO': 1, 'NC1=NC=C(S1)N(=O)=O': 1, 'CC(C)(C)C1=NC(C=C)C(O1)(c1ccccc1)c1ccccc1': 1, 'Fc1c(F)c(F)c2c3N=S=Nc3c(F)c(F)c2c1F': 1, 'Cc1cccc(C)c1N=S=Nc1c(F)c(F)c2c(F)c(F)c(F)c(F)c2c1F': 1, 'Nc1nccc(n1)c1ccncc1': 1, 'OC(c1c(F)c(F)c(F)c(F)c1F)c1c(F)c(F)c(F)c(F)c1F': 1, 'c1ccc(cc1)C#Cc1cc(cc(c1)C#Cc1ccccc1)C#Cc1ccccc1': 1, 'CCN1C(=O)C2=C(SC3=C(S2)C(=O)N(CC)C3=O)C1=O': 1, 'O=C1NC=CC=C1': 1, 'OC(=O)CC=CCC(O)=O': 1, 'OC(=O)CC=CC(O)=O': 1, 'FC1(F)CSC2=C(SC1)SC(S2)=C1SC=CS1': 1, 'Oc1cc(O)c(O)cc1O': 1, 'CC(C)(C)c1cc(C(O)=O)c2Oc3c(cc(cc3C(C)(C)c2c1)C(C)(C)C)C(O)=O': 1, 'CC1=CC(=CC(=O)O1)OCc1ccccc1': 1, 'CC1=CC(=CC(=O)O1)OCc1ccc(C)cc1': 1, 'CC1=CC(=CC(=O)O1)OCc1ccc(cc1)c1ccccc1': 1, 'CC1=CC(=CC(=O)O1)OCc1cccc2ccccc12': 1, 'Oc1c(O)c(O)c(O)c(O)c1O': 1, 'OC1=C(O)C(=O)C(=C(O)C1=O)O': 1, 'CC(=NO)C1(C)NCC(C)(C)CN1': 1, 'CN1[N]C(=NN(C)C1=O)c1ccccn1': 1, 'CCN1C=NC2=C(N)N=CN=C12': 1, 'C1COCCOc2ccccc2NCc2cccc(CNc3ccccc3OCCOCCO1)n2': 1, 'O=C1NC(=O)c2cc(ccc12)N(=O)=O': 1, 'CSCOC(=O)C1(C)CC2(C)CC(C)(C1)C(=O)NC2=O': 1, 'COC(=O)C1(C)CC2(C)CC(C)(C1)C(=O)NC2=O': 1, 'OC(=O)Cc1ccc2ccccc2c1': 1, 'N(c1ccc(cc1)c1ccc(Nc2ccccn2)cc1)c1ccccn1': 1, 'O=C1CNC(=O)CN1': 1, 'Oc1cc(Cl)c(O)cc1Cl': 1, 'OC(=O)c1cc(Cl)ccc1Cl': 1, 'OC(=O)c1cc(O)c(cc1O)C(O)=O': 1, 'OC(=O)c1cc(Cl)c(cc1Cl)C(O)=O': 1, 'CN1C(SC(=C1C)C)=NN=C1SC(=C(C)N1C)C': 1, 'CN1C(SC(=C1C)C)=NN=C(C)C(C)=NN=C1SC(=C(C)N1C)C': 1, 'COc1cccc(COC2=CC(=O)OC(=C2)C)c1': 1, 'C1Cc2cc3CCCc4cc(C1)cc1CCCc(c2)c3CCCc41': 1, 'C1Cc2cc3CCCc4cc(C1)c1CCCc2c2CCCc1c4CCCc32': 1, 'CC(C)N(C(C)C)P1(=O)C(Br)C(=C(C1Br)c1ccccc1)c1ccccc1': 1, 'Fc1c(F)c(F)c(C=NN=Cc2c(F)c(F)c(F)c(F)c2F)c(F)c1F': 1, 'C1c2cc3ccccc3cc2Cc2cc3ccccc3cc12': 1, 'CCOC(=O)C1=C(C)N(C)C(S1)=NN=C1SC(=C(C)N1C)C(=O)OCC': 1, 'O=C1C=CC(=O)C2C3CCC(C=C3)C12': 1, 'S=P(c1ccccc1)(c1ccccc1)c1ccccc1': 1, 'OC(=O)c1cc(cc(c1)C(F)(F)F)C(F)(F)F': 1, 'OC(=O)CCCCCCCCCCCBr': 1, 'CCOC(=O)C=CC(O)=O': 1, 'OC(=O)CSCC(O)=O': 1, 'CC(Oc1cc(Cl)c(Cl)cc1Cl)C(O)=O': 1, 'Cl[Si](Cl)(Cl)OC(=C(O[Si](Cl)(Cl)Cl)c1ccccc1)c1ccccc1': 1, 'CCCNc1nc(C)nc(NCCC)n1': 1, 'OCc1ccc(CO)cc1': 1, 'O=S1CCS(=O)CC1': 1, 'CCOC(=O)C12CCC3(C1CC(C)(NC2=O)NC3=O)C(=O)OCC': 1, 'BrC(c1ccccc1)=C(Br)c1ccccc1': 1, 'CC1(C)CN2CCN3CC(C)(C)N=C3C2=N1': 1, 'CC1(O)C2CCCC3CC1CC(C2)C3(C)O': 1, 'CC1=CC(=NC(N1)=NC#N)C': 1, 'CC1=CC(=CC(=O)O1)OCc1cccc(C)c1': 1, 'Fc1c(F)c(F)c2C#CC#Cc3c(F)c(F)c(F)c(F)c3C#CC#Cc2c1F': 1, 'COc1cc(c(c(OC)n1)c1c(OC)nc(OC)cc1P(=O)(c1cc(C)cc(C)c1)c1cc(C)cc(C)c1)P(=O)(c1cc(C)cc(C)c1)c1cc(C)cc(C)c1': 1, 'C1COc2ccccc2OCCOCCOc2ccccc2OCCO1': 1, 'FC(F)(F)C(F)(F)C(F)(F)C(F)(F)C(F)(F)C(F)(F)C(F)(F)I': 1, 'c1cncc(c1)C1C(C(C1c1cccnc1)c1ccncc1)c1ccncc1': 1, 'Nc1ccc(SSc2ccc(N)cc2)cc1': 1, 'OC(=O)CC(CC(O)=O)C(O)=O': 1, 'C(OP1(=NP(=NP(=N1)(OCc1ccncc1)OCc1ccncc1)(OCc1ccncc1)OCc1ccncc1)OCc1ccncc1)c1ccncc1': 1, 'C=CCN1C(c2ccccc2C1=C(C#N)C#N)=C(C#N)C#N': 1, 'CCCOc1c2Cc3cc(cc(Cc4cccc(Cc5cc(cc(Cc1ccc2)c5OCCC)C(=O)Nc1cccc(C)n1)c4OCCC)c3OCCC)C(=O)Nc1cccc(C)n1': 1, 'Nc1ncc(cn1)N(=O)=O': 1, 'Oc1cccc2c3ccccc3c3ccccc3c3cccc(O)c3c12': 1, 'CC1=CC(=CC(=O)O1)OCc1cccc(Cl)c1': 1, 'O=C(CCCCCCCCCCCCC(=O)NCC(c1ccccc1)c1ccccc1)NCC(c1ccccc1)c1ccccc1': 1, 'Clc1cc2C(=O)OC(=O)c2cc1Cl': 1, 'Brc1cc2C(=O)OC(=O)c2cc1Br': 1, 'Oc1ccc(cc1)C(c1ccc(O)cc1)c1ccc(O)cc1': 1, 'C(Cc1ccc(CCc2ccncc2)cc1)c1ccncc1': 1, 'OC(=O)CCCCCCCCCC(O)=O': 1, 'COc1c2C=COc2c(OCC=C(C)C)c2OC(=O)C=Cc12': 1, 'Cc1c2ccccc2nc2ccc3ccccc3c12': 1, 'OC(=O)c1cc(ccc1O)S(O)(=O)=O': 1, 'CC(C)(C)c1ccc(O)c(c1)C(C)(C)C': 1, 'COC(=O)C1CC(CN(C1)C(=O)OC(C)(C)C)C(O)=O': 1, 'CN1CC2CONC2(C1=O)c1ccccc1': 1, 'IC1=CSC(S1)=C1SC=CS1': 1, 'N#Cc1nc(nc(n1)c1nc(nc(n1)C#N)C#N)C#N': 1, 'OC(=O)CP(O)(O)=O': 1, 'COC(=O)c1cc2C(=C(C#N)C#N)c3cc(cc(c3c2c(c1)N(=O)=O)N(=O)=O)N(=O)=O': 1, 'CCC(C)N1C=NN(C1=O)c1ccc(cc1)N1CCN(CC1)c1ccc(OCC2COC(CN3C=NC=N3)(O2)c2ccc(Cl)cc2Cl)cc1': 1, 'O=C1C(Cc2ccccc12)=C1CCc2ccccc12': 1, 'Fc1c(F)c(F)c(C=C2C3CCC(C3)C2=Cc2c(F)c(F)c(F)c(F)c2F)c(F)c1F': 1, 'CCCCCCCCN1C=Nc2c(N)ncnc12': 1, 'CCCC(O)=O': 1, 'CCCCC(O)=O': 1, 'CCCCCC(O)=O': 1, 'OC(=O)c1ccc(C(O)=O)c(c1)c1cc(ccc1C(O)=O)C(O)=O': 1, 'CC(C)(C)c1ccc(cc1)C1=C2C(=O)NC(=C2C(=O)N1)c1ccc(cc1)C(C)(C)C': 1, 'O=C1CCCCCN1C(=O)NCCCCCCN(CCCCCCNC(=O)N1CCCCCC1=O)C(=O)C=CC(=O)N(CCCCCCNC(=O)N1CCCCCC1=O)CCCCCCNC(=O)N1CCCCCC1=O': 1, 'CCC1=C(CC)C2=CC3=NC(=CC4=C(CC)C(=C(N4)C=C4N=C(C=C1N2)C(=C4CC)CC)CC)C(=C3CC)CC': 1, 'CCOC(=O)C1=Cc2ccccc2OC1=O': 1, 'OC(=O)COc1cc(Cl)cc(Cl)c1': 1, 'OC(=O)COc1cccc(Cl)c1Cl': 1, 'c1cnc2cccnc2c1': 1, 'Cc1cc2NC(=Nc2cc1C)N=C(N)N': 1, 'Oc1ccc(cc1N(=O)=O)N(=O)=O': 1, 'Oc1cc(ccc1N(=O)=O)N(=O)=O': 1, 'COc1ccc(C#N)c2CC3(Cc12)NC(=O)C1(Cc2c(C1)c(ccc2OC)C#N)NC3=O': 1, 'CC1=C(C)C(=O)C(=C(Br)C1=O)Br': 1, 'OC(=O)c1ccc(OCCCCCC#N)cc1': 1, 'FC(F)(Br)C(F)(F)C(F)(F)C(F)(F)C(F)(F)C(F)(F)C(F)(F)C(F)(F)Br': 1, 'O=C(NCc1ccccc1)C1=Cc2ccccc2OC1=O': 1, 'Fc1c(F)c(OCCCOc2c(F)c(F)c(I)c(F)c2F)c(F)c(F)c1I': 1, 'Cc1c2CCCc3cc4CCCc1c(C)c(CCCc(c3)c4)c2C': 1, 'CC1(C)C(NC1=O)S(=O)(=O)c1ccccc1': 1, 'Fc1c(F)c(F)c(c(F)c1F)C(F)(F)I': 1, 'CC(=O)Oc1ccc(cc1)C1=C(C)SC(S1)=C1SC2=C(S1)[Se]CC[Se]2': 1, 'C[Si](C)(C)C#CC(C#C[Si](C)(C)C)=C1c2ccccc2c2ccccc12': 1, 'CC12CC(C)(CC(C)(C1)C(=O)Nc1cccc3cccnc13)C(=O)NC2=O': 1, 'CC(C)(C)c1cc2N=C(Nc3cc(Cl)cc4CC5Cc6ccccc6C(O)C5(Oc34)C(=O)Nc3ccccn3)Oc2c(c1)C(C)(C)C': 1, 'O=P(c1ccccc1)(c1ccccc1)c1ccccc1OCCOCCOc1ccccc1P(=O)(c1ccccc1)c1ccccc1': 1, 'C(C=Cc1ccncc1)=Cc1ccncc1': 1, 'C(=CC=Cc1ccncc1)C=Cc1ccncc1': 1, 'Fc1c(F)c(F)c(C#Cc2c(F)c(F)c(C#Cc3c(F)c(F)c(F)c(F)c3F)c(F)c2F)c(F)c1F': 1, 'CC(C)(C)c1ccc(Nc2nc(N)nc(Nc3ccc(cc3)C(C)(C)C)n2)cc1': 1, 'CN1C(=O)NC=CC1=O': 1, 'Oc1ccc(Br)c2CC3CCCC4Cc5c(Br)ccc(O)c5C34c12': 1, 'Brc1cnc2c(c1)C(=O)c1cc(Br)cnc21': 1, 'O=C1NC(=O)C2C3CC(C4N=NN(C34)c3ccccc3N(=O)=O)C12': 1, 'C1CCC(C(C1)N1CCCC1)N1CCCC1': 1, 'NC(=O)c1c(F)c(F)c(F)c(F)c1F': 1, 'CC1=CN2C=CSC2=N1': 1, 'c1ccc2c(c1)cc1ccccc1c2c1cccc(n1)c1cc(ncn1)c1cccc(n1)c1c2ccccc2cc2ccccc12': 1, 'Clc1nc(Cl)nc(Nc2nc(Cl)nc(Cl)n2)n1': 1, 'N1C=CN=C1C1=CSC(S1)=C1SC=CS1': 1, 'CCCC(=O)c1c(O)cc(O)cc1O': 1, 'CCCCC(=O)c1c(O)cc(O)cc1O': 1, 'CCCCCC(=O)c1c(O)cc(O)cc1O': 1, 'CCCCCCC(=O)c1c(O)cc(O)cc1O': 1, 'Oc1cc(O)c(c(O)c1)C(=O)c1ccccc1': 1, 'BrC(Br)=C=C=C(Br)Br': 1, 'COc1ccc(cc1)C1C=CC(=C(Br)Br)C(C1O)=C(Br)Br': 1, 'COCOc1ccc(cc1)C(CC(O)=O)c1c(C)c(OC)c2ccccc2c1OC': 1, 'CC(NC(=O)c1ccc(cc1)N(=O)=O)c1ccccc1': 1, 'O=P(CCCP(=O)(c1ccccc1)c1ccccc1)(c1ccccc1)c1ccccc1': 1, 'S=C1Nc2ccccc2C(=S)Nc2ccccc12': 1, 'O1OC23c4ccccc4c4cccc(c24)C1(c1ccccc1)C1=C2c4ccccc4c4cccc(C(=C31)c1ccccc1)c24': 1, 'Cc1cccc(C)c1N1C(=O)Nc2nc3ncccc3cc2C1=O': 1, 'S1N=C2C(=CC=C(c3ccncc3)C2=N1)c1ccncc1': 1, 'Cc1cc(C)c(N[Se]Nc2c(C)cc(C)cc2C)c(C)c1': 1, 'Clc1c(Cl)c2c(Cl)c(Cl)c(Cl)c3c(Cl)c(Cl)c(c1Cl)c23': 1, 'C(SC1=C(SCc2cnccn2)SC(S1)=C1SC(=C(SCc2cnccn2)S1)SCc1cnccn1)c1cnccn1': 1, 'OC(C(O)=O)C(O)=O': 1, 'Cc1ccc(cc1)B(O)O': 1, 'OB(O)c1ccc(cc1)C(O)=O': 1, 'CN(C)c1ccc(NC(=O)C23Oc4c(CC2Cc2ccccc2C3O)cc(Cl)cc4NC2=Nc3cc(cc(c3O2)C(C)(C)C)C(C)(C)C)cc1': 1, 'O=C(CCC(=O)NCc1ccncc1)NCc1ccncc1': 1, 'OC(=O)C1C2CC(C=C2)C1NC(=O)c1ccccc1': 1, 'CC1(C)CC2(CC(C)(C)c3ccc(O)cc3O2)Oc2cc(O)ccc12': 1, 'O=C1c2cc(cc(C#N)c2c2c(cc(cc12)N(=O)=O)C#N)N(=O)=O': 1, 'COC(=O)c1cc(O)cc(O)c1': 1, 'OC(c1ccccc1)(c1ccccc1)c1ccc2ccccc2c1c1c2ccccc2ccc1C(O)(c1ccccc1)c1ccccc1': 1, 'Nc1ccc(Sc2ccc(N)cc2)cc1': 1, 'CCCCCCCCCCCCCCCCC(O)=O': 1, 'Fc1ccc(cc1)C1CNC(=O)C21CCNCC2': 1, 'CC1=C2CCC34CC(CCC3C2(C)CCC1=O)C(C4)C(O)=O': 1, 'Ic1ccncc1': 1, 'Oc1c2C3CC(c4cc5cc6ccccc6cc5cc34)c2c(O)c2C3CC(c4cc5cc6ccccc6cc5cc34)c12': 1, 'CCN(CC)C(=O)c1cc(cc(c1)C(=O)N(CC)CC)C(=O)N(CC)CC': 1, 'CN(C)C(=O)c1cc(cc(c1)C(=O)N(C)C)C(=O)N(C)C': 1, 'Oc1ccc(CC=C)cc1c1cc(CC=C)ccc1O': 1, 'Fc1c(F)c(F)c(N=Cc2ccccc2)c(F)c1F': 1, 'Fc1c(F)c(F)c(C=Nc2c(F)c(F)c(F)c(F)c2F)c(F)c1F': 1, 'O=C1NCc2ccc(OCCCCCCCCCCOc3ccc(CNC(=O)c4cccc1n4)cc3)cc2': 1, 'CC(=O)Nc1cccc(NC(=O)C=C)n1': 1, 'CC1=CC(=NC#N)C(=CC1=NC#N)C': 1, 'CC(C)(C)P1(=O)Cc2ccccc2C1C1c2ccccc2CP1(=O)C(C)(C)C': 1, 'COc1c(Br)c(c(OC)c(Br)c1[Si](C)(C)C)[Si](C)(C)C': 1, 'O=N(=O)c1ccc(cc1)C(c1ccc(cc1)N(=O)=O)(c1ccc(cc1)N(=O)=O)c1ccc(cc1)N(=O)=O': 1, 'CCOP(=O)(CC(N1C(=N)Sc2ccccc12)=C(C)C)OCC': 1, 'Cl[As]1SCc2ccc(CS[As](Cl)SCc3ccc(CS1)cc3)cc2': 1, 'Cc1ccc(cc1)C(O)(C1OC2(CCCCC2)OC1C(O)(c1ccc(C)cc1)c1ccc(C)cc1)c1ccc(C)cc1': 1, 'CC(O)C(O)(c1ccccc1)c1ccccc1': 1, 'CCCCCCC1=C2NC(=C1C)C1=C3N=C(C=C4NC(=C(c5cccc(CSSCCOCCOc6cccc7c(OCCOCCSSCc8cccc1c8)cccc67)c5)C1=NC(=C2)C(=C1C)CCCCCC)C(=C4CCCCCC)C)C(=C3C)CCCCCC': 1, 'O=C(CNC(=O)c1c2ccccc2cc2ccccc12)NCC(=O)OCCCCCCCCCCOC(c1ccccc1)(c1ccccc1)c1ccccc1': 1, 'OCCCCO': 1, 'CN1CCN(C)CC1': 1, 'N(c1ccc(Oc2ccc(Nc3ccccn3)cc2)cc1)c1ccccn1': 1, 'O=S(=O)(c1ccc(Nc2ccccn2)cc1)c1ccc(Nc2ccccn2)cc1': 1, 'Cc1c(Nc2ccccn2)cccc1Nc1ccccn1': 1, 'N(c1ccccc1)c1ccc(Nc2ccccc2)cc1': 1, 'CC12OC3C(O)C(O1)C(OC(=O)c1ccccc1)C(O2)C3OC(=O)c1ccccc1': 1, 'ClCC(=O)NC1=NNC=C1': 1, 'c1cncc(c1)C#CC#Cc1cccnc1': 1, 'c1cc(ccn1)C#CC#Cc1ccncc1': 1, 'SC(c1ccccc1)(c1ccccc1)c1ccccc1': 1, 'CCOC(=O)C(=O)OCC': 1, 'NC(=O)c1cccc(CN2C=Nc3ccccc23)c1': 1, 'CC1=Nc2ccccc2N1Cc1cccc(c1)C(N)=O': 1, 'c1cncc(c1)c1nnc(nn1)c1cccnc1': 1, 'COc1ccc(cc1)[Te](O[Te](OP(=O)(c1ccccc1)c1ccccc1)(c1ccc(OC)cc1)c1ccc(OC)cc1)(OP(=O)(c1ccccc1)c1ccccc1)c1ccc(OC)cc1': 1, 'CC(C)(C)c1cccc(C=O)c1O': 1, 'CC(CN1C(=O)C2(OCCO2)c2ccccc12)=NNC(N)=S': 1, 'C(N1C=Nc2ccccc12)c1cccc(CN2C=Nc3ccccc23)c1': 1, 'OC(=O)C1C2CC(C=C2)C1C(O)=O': 1, 'c1ccc(cc1)C#CC(C#Cc1ccccc1)=C1c2ccccc2c2ccccc12': 1, 'OCC1=C(CO)SC(S1)=C1SC(=C(CO)S1)CO': 1, 'CC1CCc2ccc3ccccc3c2C1NC(=O)c1cc(cc(c1)N(=O)=O)N(=O)=O': 1, 'Oc1ccc(cc1CC=C)c1cc(CC=C)ccc1O': 1, 'Fc1c(F)c(F)c(Nc2c(F)c(F)c(F)c(F)c2F)c(F)c1F': 1, 'CCOC(=O)C1=CN=CNC1=O': 1, 'COC(C)C1S(=O)CCS1=O': 1, 'Oc1ccc(cc1)C(c1ccccc1O)c1ccccc1O': 1, 'Cl[Se](Cl)(c1ccccc1)c1ccccc1': 1, 'Fc1c(F)c(F)c(SSc2c(F)c(F)c(F)c(F)c2F)c(F)c1F': 1, 'CCC1=CC(=NN1)c1ccccc1': 1, 'CC(C)CN1c2ccc(cc2N=C2C(=O)N(Cc3ccc(NC(=O)CCC(=O)NCCN4C(=CC=C4C4=CC=CS4)C4=CC=CS4)cc3)C(=O)N=C12)C(F)(F)F': 1, 'CC(C)N(C(C)C)C(=O)Nc1ccccc1': 1, 'C[Si](C)(C)N=S=N[Se]c1ccccc1': 1, 'O=C1C=CN(C=C1)c1ccc(cc1)N1C=CC(=O)C=C1': 1, 'Cc1ccc(cc1)C(N)=O': 1, 'C(N1C=CC=N1)c1ccc(CN2C=CC=N2)cc1': 1, 'NN1C(=O)NC2(CCCCC2)C1=O': 1, 'CCCCCCCCCCC(O)=O': 1, 'CC1(C)C(C(O)=O)C1(C)C': 1, 'O=C(Nc1cccnc1)Nc1cccnc1': 1, 'CC1=NC=CN1Cc1ccc(CN2C=CN=C2C)cc1': 1, 'CC(C)(c1ccc(O)cc1)c1ccc(cc1)C(C)(c1ccc(O)cc1)c1ccc(O)cc1': 1, 'CCCCCCCCCCCCCCCC(O)=O': 1, 'CC(O)C(=O)NNC(=O)C(C)O': 1, 'OC(=O)CN1C(=O)c2cc3C(=O)N(CC(O)=O)C(=O)c3cc2C1=O': 1, 'O=C1N2c3cccnc3N=C2c2cccc3cccc1c23': 1, 'S1C(=CC=C1C#Cc1ccncc1)C#Cc1ccncc1': 1, 'c1ccc2c(c1)c(C#Cc1ccncc1)c1ccccc1c2C#Cc1ccncc1': 1, 'Oc1cccc2cccnc12': 1, 'Oc1ccccc1C(c1cc(O)c(O)c(O)c1)c1ccccc1O': 1, 'CC(O)=C1CCC23CC[Si](CC2CC(CC(C)=CI)C13)(C(C)(C)C)C(C)(C)C': 1, 'c1cc(ccn1)C(c1ccncc1)=C1C(=C(c2ccncc2)c2ccncc2)C1=C(c1ccncc1)c1ccncc1': 1, 'Fc1c(F)c(F)c(C(=O)OCC#CC#CCOC(=O)c2c(F)c(F)c(F)c(F)c2F)c(F)c1F': 1, 'BrC1C(Br)C2=C(C1Br)C(Br)C(Br)C2Br': 1, 'CSc1ccc(cc1)C(O)C(Br)C(=O)c1ccc(C)cc1': 1, 'OC(=O)c1cc(c2ccccc2)c(C(O)=O)c(c1)c1ccccc1': 1, 'COCC(=O)NCC=Cc1ccc2ncnc(Nc3ccc(Oc4ccc(C)nc4)c(C)c3)c2c1': 1, 'COC(=O)C(=O)OC': 1, 'CC1(C)C2(C)CCC1(OC2=O)C(=O)N1C(=O)C2(CCCC(=O)C2)c2ccccc12': 1, 'Cc1c(C)c(C)c(c(C)c1C)C(O)=O': 1, 'CC1(C)CC(=O)C2=C(C1)NN=C2': 1, 'N1N=C(NN=C1c1cnccn1)c1cnccn1': 1, 'S=C1Nc2ccccc2S1': 1, 'O=C1CCCCCN1': 1, 'CC1(C)OC(C(O1)C(O)(c1cccc2ccccc12)c1cccc2ccccc12)C(O)(c1cccc2ccccc12)c1cccc2ccccc12': 1, 'CC(=O)c1cc(Cl)cc(c1O)N(=O)=O': 1, 'Cc1cc(C)c([SiH](N[SiH](c2c(C)cc(C)cc2C)c2c(C)cc(C)cc2C)c2c(C)cc(C)cc2C)c(C)c1': 1, 'Cc1cc(C)cc(CN(Cc2ccc(COC(=O)c3cc(C)cc(C)c3)cc2)C(=O)c2cccnc2)c1': 1, 'C(CN1c2ccccc2c2ccccc12)CN1c2ccccc2c2ccccc12': 1, 'CN(C)c1cccc(c1)C(=O)NC1=NCCS1': 1, 'OC(C(=O)OCCCCCCCCOC(=O)C(O)C(F)(F)F)C(F)(F)F': 1, 'COC1=CC(=O)C=CC1=O': 1, 'O=C(NNc1ccccc1)NNc1ccccc1': 1, 'O=C1N2C=CNC=C2N=C1c1ccccc1': 1, 'Brc1ccc(cc1)c1nc2ccccc2nc1c1ccc(Br)cc1': 1, 'COC(=O)C1=CC2CC1C1CC3(C(C4CC3(C=C4)C(=O)OC)C21)C(O)=O': 1, 'C(CC1=CC=CS1)N(CCc1ccccc1)CCc1ccccc1': 1, 'OC(=O)CNC(=O)CN1C=C(F)C(=O)NC1=O': 1, 'CCCCN1C=C(C(=O)NC1=O)C1=CSC(S1)=C1SC2=C(SCCS2)S1': 1, 'CCCCCCOc1ccc(cc1)N1C=CC(=O)C=C1': 1, 'CC1(C)CC(=O)C=C(C1)NC1=NNC(=C1)c1ccc(Br)cc1': 1, 'CCCCN1C(=O)NC(=O)C2=C1OC(c1ccc(C)cc1)(c1ccc(C)cc1)c1ccccc21': 1, 'O=C(NNC(=O)c1ccncc1)c1ccncc1': 1, 'CC(=O)Oc1cc(OC(C)=O)c2ccc3c(OC(C)=O)cc(OC(C)=O)c4ccc1c2c34': 1, 'O=C(NNC(=O)c1cccnc1)c1cccnc1': 1, 'CC1(C)CC(=CC(C1)=C(C#N)C#N)C=Cc1ccc(cc1)N1CCCC1': 1, 'CN1C(=O)NC(=O)C=C1CO': 1, 'CN1C(=CC(=O)NC1=O)C': 1, 'O=C1NC(=O)c2ccccc12': 1, 'OC(=O)C=CC1=CC=CS1': 1, 'CCN(CC)c1nc2NCc3cccc(CNc4nc(NCc5cccc(CNc6nc(NCc7cccc(CNc(n2)n1)c7)nc(n6)N(CC)CC)c5)nc(n4)N(CC)CC)c3': 1, 'FC(F)(F)C(=O)C(Cl)[P](c1ccccc1)(c1ccccc1)c1ccccc1': 1, 'COc1cc(O)ccc1O': 1, 'Cc1cc(C)c([Te](I)[Te](c2c(C)cc(C)cc2C)c2c(C)cc(C)cc2C)c(C)c1': 1, 'Clc1ccc2OC(=O)Nc2c1': 1, 'OC(=O)CC(c1ccccc1)(c1ccccc1)c1ccccc1': 1, 'OC(=O)CNS(=O)(=O)c1cccc(c1)C(O)=O': 1, 'CN(C)C(=O)C1=C(c2ccc(C)cc2)c2ccccc2C1=C': 1, 'CN1C(=O)N(C)C2=NNN=C2C1=O': 1, 'N1c2ccccc2c2ccccc12': 1, 'O=C1OCCC21CC2(c1ccccc1)c1ccccc1': 1, 'Cc1cc(CN2C=CN=C2)c(O)c(CN2C=CN=C2)c1': 1, 'Cc1ccc(cc1)S(=O)(=O)NCC(O)=O': 1, 'CSC(SC)=NNC(=O)c1ccccc1O': 1, 'CN1C(=O)N(C)C2=C(N(CC3OCCO3)C=N2)C1=O': 1, 'CC(=O)Nc1cccnc1': 1, 'Cc1nc(C)nc(N)n1': 1, 'CC(C)(C)OC(=O)C12CCCCC1(O)Oc1cc(Cl)c(O)c(Cl)c21': 1, 'CCCCCCCCOc1ccc(cc1)C(O)=O': 1, 'O=C(Nc1ccccc1)C(=O)Nc1ccccc1': 1, 'Cc1cc(C)c(NC(=O)C(=O)Nc2c(C)cc(C)cc2C)c(C)c1': 1, 'Cc1cccc(C)c1NC(=O)C(=O)Nc1c(C)cccc1C': 1, 'O=C(C1=Nc2ccccc2N1)C1=Nc2ccccc2N1': 1, 'CC(C)(C)c1ccnc(c1)c1cc(ccn1)C(C)(C)C': 1, 'CCCC1=NN2C(=N1)CCCC1=C2C(=CO1)C': 1, 'CC(=NNC(=O)CC1=CNc2ccccc12)c1ccc(O)cc1O': 1, 'CCOC(=O)C1=C(C)N=N[Se]1': 1, 'Clc1cccc(c1)N1C(=O)N(C(=O)N(C1=O)c1cccc(Cl)c1)c1cccc(Cl)c1': 1, 'CN(N=CC(C=NN(C)c1ccccc1)=NN(C)c1ccccc1)c1ccccc1': 1, 'O=C(OC(=CC1=Nc2ccccc2S1)c1ccccc1)c1ccccc1': 1, 'ONS(=O)(=O)c1ccccc1': 1, 'C(N1C=CC=N1)c1ccc(CN2C=Nc3ccccc23)cc1': 1, '[O]n1ccn([O])c2ccccc12': 1, 'C(N1C=CN=C1c1ccccc1)c1ccncc1': 1, 'Cc1ccc(cc1)C=CC(O)=C1CCCC(=Cc2ccc(C)cc2)C1=O': 1, 'ON=Cc1c(F)c(F)c(F)c(F)c1F': 1, 'CN1C(=O)N(C)c2nncnc2C1=O': 1, 'FC(F)(F)C1=CC(=O)c2cccc(c2N1)C(F)(F)F': 1, 'COc1ccc(cc1)C(C)(C)C(=O)C(C)(C)c1ccc(O)cc1': 1, 'CC(C)(c1ccc(O)cc1)C(=O)C(C)(C)c1ccc(O)cc1': 1, 'Fc1c(F)c(F)c(C=CC=CC=Cc2c(F)c(F)c(F)c(F)c2F)c(F)c1F': 1, 'OC(=O)c1c(O)cc(O)cc1O': 1, 'CC(C)C[Si](O)(CC(C)C)c1cc(cc(c1)[Si](O)(CC(C)C)CC(C)C)[Si](O)(CC(C)C)CC(C)C': 1, 'CC1(C)C23OC(C=C2)(c2ccccc32)C(C)(C)C23OC(C=C2)(c2ccccc32)C(C)(C)C23OC(C=C2)(c2ccccc32)C(C)(C)C23OC1(C=C2)c1ccccc31': 1, 'Cc1ccc(c(O)c1)C(=O)NNC(=O)c1ccc(C)cc1O': 1, 'Oc1ccc2OC(=C(O)C(=O)c2c1)c1ccccc1': 1, 'COC(=O)c1ccc(COCC(C)(C)CN(Cc2ccc(COC(=O)c3cc(C)cc(C)c3)cc2)C(=O)C(F)(F)F)cc1': 1, 'O([Si](c1ccccc1)(c1ccccc1)c1ccccc1)[Si](c1ccccc1)(c1ccccc1)c1ccccc1': 1, 'NC(=S)C(N)=S': 1, 'C1OCC2(CO1)COCOC2': 1, 'CCOC(=O)c1ccc(O)cc1': 1, 'Cc1cc(C)c(C(O)=O)c(C)c1CCCc1c(C)cc(C)c(C(O)=O)c1C': 1, 'CCOC(=O)C1=Cc2cccc(OC)c2OC1=O': 1, 'O=C1NCCN1': 1, 'CC(=O)OC1(CCC2C3C=C(C)C4=CC(=O)CCC4(C)C3CCC12C)C(C)=O': 1, 'Cc1c(N)ccc(Cl)c1F': 1, 'Cc1cc(C)c(c(C)c1)c1cccc(c1N([O])c1ccccc1)c1c(C)cc(C)cc1C': 1, 'Oc1ccc2cc(Br)ccc2c1': 1, 'OC(=O)CNS(=O)(=O)c1ccc(cc1)C(O)=O': 1, 'OC(=O)c1ccc(C(O)=O)c(Br)c1': 1, 'OC(=O)C1C2CCC(O2)C1C(O)=O': 1, 'Clc1ccc(cc1)S(=O)(=O)NS(=O)(=O)c1ccc(Cl)cc1': 1, 'CCOC(=O)C1=Cc2c(OC1=O)ccc1ccccc21': 1, 'CN1C=CC(=C2C=CN(C)C3=NSN=C23)C2=NSN=C12': 1, 'OC(=O)c1ccc(Br)c2ccccc12': 1, 'OC(=O)c1ccc(cc1)C(=O)c1ccccc1C(O)=O': 1, 'COc1cc(OC)c(OC)c(OC)c1': 1, 'S1C(=CC=C1C=Cc1ccncc1)C=Cc1ccncc1': 1, 'Nc1nc(N)nc(n1)N1CCCCC1': 1, 'CC(C)C(OP(=O)(OC(C(C)C)C(C)C)C(C)(C(NC(=O)OC(C)(C)C)c1ccc(Sc2ccccc2)cc1)N(=O)=O)C(C)C': 1, 'CCCCCCOc1ccc(cc1)C(=O)OCC#CC#CCOC(=O)c1ccc(OCCCCCC)cc1': 1, 'Fc1c(F)c(NCCCN(CCCCN(CCCNc2c(F)c(F)c(I)c(F)c2F)CCCNc2c(F)c(F)c(I)c(F)c2F)CCCNc2c(F)c(F)c(I)c(F)c2F)c(F)c(F)c1I': 1, 'N=C1N(c2ccccc2)C(=N)N(c2ccccc2)C(=N)N1c1ccccc1': 1, 'Fc1c(F)c(F)c(C#CC#CC#CC#Cc2c(F)c(F)c(F)c(F)c2F)c(F)c1F': 1, 'C1CCc2nc3c4cccnc4c4ncccc4c3nc2C1': 1, 'CC(C(O)=O)c1ccccc1': 1, 'BrC12C3=C4C5=C6C7=C3C3=C8C9=C7C7=C%10C%11=C9C9=C%12C%13=C%11C%11(Br)C%10=C%10C(=C67)C6=C5C5=C7C%14=C6C%10(Br)C6=C%10C%15=C%16C%17=C(C%18=C%19C%20=C%17C%17=C%21C%20=C%20C%22=C%23C%21=C(C(=C%15%17)C%14%10Br)C7(Br)C%23=C(C1=C%22C1(Br)C%20=C%19C(Br)(C(=C89)C1=C23)C%12%18Br)C45Br)C%13(Br)C%16=C%116': 1, 'Cc1cc(nc(N)n1)c1ccccc1': 1, 'Nc1nc(cc(n1)c1ccccc1)c1ccccc1': 1, 'CC1=Nc2ccccc2N1CCCCN1C(=Nc2ccccc12)C': 1, 'CC(C)(C)c1cc(cc(c1)C(O)=O)C(O)=O': 1, 'CCCCCCCCCCCCOc1ccc(cc1)C=Cc1ccncc1': 1, 'S1C(=C(c2ccncc2)C(=C1c1ccncc1)c1ccncc1)c1ccncc1': 1, 'S(c1ccncc1)c1ccncc1': 1, 'C(Cc1cc(cc(c1)c1ccccc1)c1ccccc1)c1ccc(CCc2cc(cc(c2)c2ccccc2)c2ccccc2)cc1': 1, 'O=C1C(CCCC1=Cc1cccnc1)=Cc1cccnc1': 1, 'Cc1ccc(c(C)c1)C(O)=O': 1, 'Cc1ccc(C)c(c1)C(O)=O': 1, 'Cc1cc(C)cc(c1)C(O)=O': 1, 'Cc1ccc(cc1C)C(O)=O': 1, 'C1CN(CCN1c1ccncc1)c1ccncc1': 1, 'CCOc1ccc(cc1)C(O)=O': 1, 'CCN1c2ccccc2c2cc(ccc12)c1ccc2N(CC)c3ccccc3c2c1': 1, 'CC(C)N(C)C1CCC(C(C1)NC(C)=O)N1CCC(Nc2ncnc3ccc(cc23)C(F)(F)F)C1=O': 1, 'OC1N2CCCCC2=Nc2ccc(Br)cc12': 1, 'OC1N2CCCC2=Nc2ccccc12': 1, 'N#Cc1nc(C#N)c(nc1C#N)C#N': 1, 'O=C1N(Cc2ccncc2)C(=O)c2cc3C(=O)N(Cc4ccncc4)C(=O)c3cc12': 1, 'CC1=CCC2C(C)(C)C(=O)CCC2(C)C1CCC1C(=C)CCC2C(C)(C)C(=O)CCC12C': 1, 'OC(C(O)=O)c1ccc(Cl)cc1': 1, 'OC(=O)c1cccc(C(O)=O)c1c1c(cccc1C(O)=O)C(O)=O': 1, 'CC1=C(CC2=C(C)NN=C2C)C(=NN1)C': 1, 'Fc1ccccc1I': 1, 'Fc1ccc(I)cc1': 1, 'Fc1ccc(I)c(F)c1': 1, 'Fc1ccc(F)c(I)c1': 1, 'Fc1ccc(I)c(F)c1F': 1, 'Fc1ccc(F)c(I)c1F': 1, 'N1B(Nc2ccccc12)B1Nc2ccccc2N1': 1, 'OC(=O)C1C(C2c3ccccc3C1c1ccccc21)C(O)=O': 1, 'Cc1ccc(cc1)N(c1ccc(cc1)C(=O)Nc1cccc(C)n1)c1ccc(cc1)C(=O)Nc1cccc(C)n1': 1, 'Nc1ncc(cn1)c1cccc2ccccc12': 1, 'Nc1ncc(cn1)c1ccc2ccccc2c1': 1, 'COc1c(O)cc(C)c(O)c1OC': 1, 'CC(=O)c1ccncc1': 1, 'Oc1ccc(Br)c(O)c1': 1, 'NC1=Nc2ccc(cc2S1)N(=O)=O': 1, 'CC(=O)NC1CC(CCC1N1CCC(Nc2ncnc3ccc(cc23)C(F)(F)F)C1=O)NC(C)(C)C': 1, 'CC(C)(C)c1cc2Cc3cc(cc(Cc4cc(cc(Cc5cc(cc(Cc6cc(cc(Cc7cc(cc(Cc8cc(cc(Cc9cc(cc(Cc(c1)c2O)c9O)C(C)(C)C)c8O)C(C)(C)C)c7O)C(C)(C)C)c6O)C(C)(C)C)c5O)C(C)(C)C)c4O)C(C)(C)C)c3O)C(C)(C)C': 1, 'N#CSC1=C(SC#N)SC(S1)=C1SC2=C(OCCO2)S1': 1, 'CCC(=O)NC1=Nc2c(Oc3cc(ncn3)c3ccc(cc3)C(F)(F)F)cccc2S1': 1, 'NC1=Nc2c(Oc3cc(ncn3)c3ccc(cc3)C(F)(F)F)cccc2S1': 1, 'CC(C)(C)C(=O)NC1=NC2=N[Se]N=C2C(=O)N1': 1, 'COc1c(C)cc(cc1C(c1cc(cc(C)c1OC)c1c2ccccc2cc2ccccc12)c1cc(cc(C)c1OC)c1c2ccccc2cc2ccccc12)c1c2ccccc2cc2ccccc12': 1, 'N#Cc1ccccc1C#N': 1, 'ON=C(C#N)c1ccc(Br)cc1': 1, 'CC1=Nc2ccccc2N1Cc1ccc(Br)cc1': 1, 'Brc1ccc(CN2C=Nc3ccccc23)cc1': 1, 'Cc1cc2N=CN(Cc3cccc(c3)C#N)c2cc1C': 1, 'Oc1ccccc1Cl': 1, 'CC(=O)N1CCN(CC1)C(C)=O': 1, 'CC(N1COc2c(C1)cc(cc2C(C)(C)C)C(C)(C)C)c1ccccc1': 1, 'CNC(C)c1cc(cc(c1)C(F)(F)F)C(F)(F)F': 1, 'CC(C)(C)CC(C)(C)NC(=O)NC1=NC2=C(C=CN2CC2CCCCC2)C(=O)N1': 1, 'O=N(=O)N=C1NN=NN1CCN1N=NNC1=NN(=O)=O': 1, 'Fc1c(F)c(C=Cc2c(F)c(F)c(C#N)c(F)c2F)c(F)c(F)c1I': 1, 'CC1(C)C(=O)N(C(=O)C1(C)C)P(=O)(N1C(=O)C(C)(C)C(C)(C)C1=O)N1C(=O)C(C)(C)C(C)(C)C1=O': 1, 'CC1=CN2C(=NC(=C2N=Cc2ccccc2)c2ccccc2)C=C1': 1, 'c1ccc2c(c1)N1c3ccccc3c3cccc2c13': 1, 'O=N(=O)NC1=NN=NN1': 1, 'Fc1c(F)c(F)c(C(=O)OCC#CC#CC#CCOC(=O)c2c(F)c(F)c(F)c(F)c2F)c(F)c1F': 1, 'CN1C([Se]c2ccccc12)=NN=C1[Se]c2ccccc2N1C': 1, 'Nc1ccc(CO)cc1': 1, 'COC(=S)Nc1ccc(cc1)N(=O)=O': 1, 'CCOC(=S)Nc1ccc(cc1)N(=O)=O': 1, 'Brc1ccc(NC(=O)NC(=O)CC2=C(CCCC2)C(C#N)C(=O)Nc2ccc(Br)cc2)cc1': 1, 'Clc1c(cc(cc1N(=O)=O)N(=O)=O)N(=O)=O': 1, 'Clc1ccc(cc1N(=O)=O)N(=O)=O': 1, 'CCC(OC(=O)C12CCC(C)(C(=O)O1)C2(C)C)C1(C)C(Br)C1c1ccccc1': 1, 'CC(C)(C)C1P2P3P4C(P5C(P14)(P2C35C(C)(C)C)C(C)(C)C)C(C)(C)C': 1, 'CC1=CN2CCSC2=N1': 1, 'CC1=CN2C(=N1)Sc1ccccc21': 1, 'COc1ccc(cc1)C1=NN=C(N)S1': 1, 'OCc1ccc(Cl)cc1': 1, 'C1N2CN3CN1CN(C2)c1ccccc31': 1, 'Fc1ccc(cc1)I(C#N)C#N': 1, 'CC(C)(C)c1cccc(c1O)C(C)(C)C': 1, 'Cc1cc(c(O)c(c1)C(C)(C)C)C(C)(C)C': 1, 'Fc1ccc(cc1)C=Cc1ccncc1': 1, 'Brc1ccc(cc1)C=Cc1ccncc1': 1, 'COc1ccc(cc1)C=Cc1ccncc1': 1, 'Clc1ccc(C=Cc2ccncc2)c(Cl)c1': 1, 'CCc1ccc(cc1)C=Cc1ccncc1': 1, 'c1ccc2cc(C=Cc3ccncc3)ccc2c1': 1, 'Oc1c(Cl)c(Cl)c(O)c(Cl)c1Cl': 1, 'CC1=CC(=C(C)O1)C1=CC(=NN1)O': 1, 'CC12CCC(O)CC1CCC1C2CCC2(C)C1CCC2=O': 1, 'NC1=NC(=O)NC=C1': 1, 'CC(C)OC(=O)OCOP(=O)(COC(C)CN1C=Nc2c(N)ncnc12)OCOC(=O)OC(C)C': 1, 'CC(C)(C)OC(=O)c1cccc(C(=O)OC(C)(C)C)c1B1OC(C)(C)C(C)(C)O1': 1, 'CC(=NN=C(C)c1ccncc1)c1ccncc1': 1, 'C(CN=Cc1ccncc1)N=Cc1ccncc1': 1, 'BrC1=NOC(C1)C1CCCN1': 1, 'Nc1c(F)c(F)c2c(F)c(N)c(F)c(F)c2c1F': 1, 'COC(=O)c1cc(O)c(O)c(O)c1': 1, 'Br[Si]1(Br)[Si](Br)(Br)[Si](Br)(Br)[Si](Br)(Br)[Si](Br)(Br)[Si]1(Br)Br': 1, 'NN1C(=NN=C1c1cnccn1)c1cnccn1': 1, 'CN(C)CCN1C(Oc2c(cc(cc2C(C)(C)C)C(C)(C)C)C1c1ccccc1)c1ccccc1': 1, 'CCC(NS(=O)(=O)c1ccc(C=CC(O)=O)cc1)C(O)=O': 1, 'O=P(CC1=CC=CN1)(c1ccccc1)c1ccccc1': 1, 'Cc1cccc(NC(=O)C=Cc2ccccc2)n1': 1, 'NC(C1C(=C(C#N)C2=CCCC2(C#N)C21CCCC2)N)=C(C#N)C#N': 1, 'COc1ccc2ccc(O)c(c2c1)C(=Nc1ccccc1)c1ccc(Cl)cc1': 1, 'Oc1ccccc1N1C(=O)c2ccccc2N=C1Nc1ccccc1': 1, 'Oc1ccc(cc1)N=Nc1ccc(O)cc1': 1, 'CC(=O)Nc1ccc(Br)cn1': 1, 'COc1cc(O)c2C(=O)C3=C(Oc2c1)C(=O)Oc1cc(OC)c(OC)cc31': 1, 'O=C1NS(=O)c2ccccc12': 1, 'NC(O)=C(C#N)C(N)=O': 1, 'CC(NC1CCCCC1NC(C)=C1C(=O)c2ccccc2C1=O)=C1C(=O)c2ccccc2C1=O': 1, 'CC1(C)C2OB3OC2c2cc4c(cc12)C1OB(OC1C4(C)C)c1ccc(cc1)B1OC2C(O1)C(C)(C)c1cc4C5OB(OC5C(C)(C)c4cc21)c1ccc3cc1': 1, 'CC1(C)C2OB3OC2c2cc4c(cc12)C1OB(OC1C4(C)C)c1ccc(cc1)B1OC2C(O1)C(C)(C)c1cc4C5OB(OC5C(C)(C)c4cc21)c1ccc(cc1)B1OC2C(O1)C(C)(C)c1cc4C5OB(OC5C(C)(C)c4cc21)c1ccc3cc1': 1, 'CN1c2cc(ncn2)N(C)c2ncnc(N(C)c3cc(ncn3)N(C)c3ncnc1c3Br)c2Br': 1, 'Cc1cc(O)c2C(=C3C(=O)C4C(O)C5C6C(O)C(C(=C7C(=O)c8c(O)cc(C)c(O)c8C(=O)C467)O)C35C(=O)c2c1O)O': 1, 'ClP1(=NP2(=NP(=N1)(Cl)Cl)NC(CO2)c1ccccc1)Cl': 1, 'CC(=O)Nc1cccc(CCc2cccc(NC(C)=O)n2)n1': 1, 'C#Cc1ccc(cc1)C#C': 1, 'N#Cc1ccc(cc1)C#N': 1, 'Cc1c(C)c(C#C)c(C)c(C)c1C#C': 1, 'C#Cc1cccc(n1)C#C': 1, 'Fc1c(F)c(I)cc(I)c1F': 1, 'CC1=CSC(S1)=C1SC2=C(OCCO2)S1': 1, 'CCN(CC)CC(=O)Nc1c(C)cccc1C': 1, 'CC1(C)C2CC3SC4=C(SC3C1C2)SC(S4)=C1SC2=C(SCCS2)S1': 1, 'CC1(C)C2CC1C1=C(C2)SC2=C(SC(S2)=C2SC3=C(SCCS3)S2)S1': 1, 'CC1CC(C)SC2=C(S1)SC(S2)=C1SC2=C(S1)SC1=C(CC3CC1C3(C)C)S2': 1, 'CCCCCCOc1ccc(cc1)C=Cc1c(F)c(F)c(I)c(F)c1F': 1, 'CCCCCCOc1c(F)c(F)c(I)c(F)c1F': 1, 'N#Cc1ccc2ccccc2n1': 1, 'Cc1cc(C)nc(NCc2cccc(CNc3nc(C)cc(C)n3)c2)n1': 1, 'O=C1SC2=C(S1)SC(=C(S2)c1ccncc1)c1ccncc1': 1, 'CC12CCC(C1)C(C)(C)C2(O)c1cccc(n1)C1(O)C2(C)CCC(C2)C1(C)C': 1, 'FC(F)(c1ccc(Cl)c(Cl)c1)S(=O)(=O)C1=Nc2ccccc2S1': 1, 'CCCCCC(C)N1C(=O)c2ccc3C(=O)N(C(C)CCCCC)C(=O)c4ccc(C1=O)c2c34': 1, 'CC(C)(C)c1cc2cc(c1)C(=O)NCc1c3ccccc3c(CNC(=O)c3cc(cc(c3)C(C)(C)C)C(=O)NCc3c4ccccc4c(CNC2=O)c2ccccc32)c2ccccc12': 1, 'CC(NC(=O)c1cc(cc(c1)N(=O)=O)N(=O)=O)c1cccc2ccccc12': 1, 'C[Se]C1=C(SC(S1)=C1SC2=C(CCC2)S1)[Se]C': 1, 'OC(=O)C1=NSN=C1C(O)=O': 1, 'OC(=O)CSc1ncccc1C(O)=O': 1, 'COc1cncc(c1)C#Cc1ccc(F)nc1': 1, 'Fc1ccc(cn1)C#Cc1cccnc1': 1, 'N1C2=C(c3ccccc3)C3=NC(=C(C4=CC=C(N4)C(=C4N=C(C(=C1C=C2)c1ccccc1)C(=C4c1ccccc1)c1ccccc1)c1ccccc1)c1ccccc1)C(=C3c1ccccc1)c1ccccc1': 1, 'Oc1ccc2C3c4ccc(O)cc4C(c2c1)c1cc(O)ccc31': 1, 'COc1cc(OC)c(C=O)c(OC)c1': 1, 'COc1cc(cc(OC)c1O)C12CC3CC(C1)(CC(C3)(C2)c1cc(OC)c(O)c(OC)c1)c1cc(OC)c(O)c(OC)c1': 1, 'COc1ccc2nccc(C(O)C3CC4CCN3CC4C=C)c2c1': 1, 'Oc1ccc(Oc2nc(Oc3ccc(O)cc3)nc(Oc3ccc(O)cc3)n2)cc1': 1, 'COc1ccc(cc1)C(=O)C(=NO)c1ccc(OC)cc1': 1, 'O=C1NC=C2C=CC=CC2=C1': 1, 'N(c1cnc(nc1)N=Nc1ncccn1)c1ncccn1': 1, 'OC(=O)C1CC(C(C1C(O)=O)C(O)=O)C(O)=O': 1, 'CC(=CC1C(C=C(C)C(O)=O)C(C)(C(O)=O)C1(C)C(O)=O)C(O)=O': 1, 'COC(=O)c1cccc(C)c1S(=O)(=O)NC(=O)Nc1nc(OCC(F)(F)F)nc(n1)N(C)C': 1, 'S1C=Nc2ccccc12': 1, 'CC(=O)Nc1cccc(NC(C)=O)n1': 1, 'CC1C(=O)CC2CC3CC(C)(C)C(OC(C)=O)C3C12C': 1, 'O[Te](Cl)(Cl)c1cccc2ccccc12': 1, 'Cc1cc(C)c(c(C)c1)[Te](O)(Cl)Cl': 1, 'c1ccc2c(c1)c1ccccc1C12c2ccccc2c2ccccc12': 1, 'CC(=NNC(=O)COc1ccccc1)c1ccccc1O': 1, 'C(N1c2ccccc2N=C1c1ccccc1)c1ccccc1': 1, 'Nc1cc(ccc1C(O)=O)N(=O)=O': 1, 'O=C(c1ccccn1)c1ccccn1': 1, 'CSC(=S)N1C(=Nc2ccccc12)N': 1, 'Oc1c(Br)cc(Cc2cc(Br)c(O)c(Br)c2)cc1Br': 1, 'CC(C)(c1cc(Br)c(O)c(Br)c1)c1cc(Br)c(O)c(Br)c1': 1, 'Cc1ccc(cc1)S(=O)(=O)Nc1ccc(cc1)C(O)=O': 1, 'OC(=O)c1cc(ccc1O)N=Nc1ccccc1': 1, 'N1c2cccc3cccc(NC41c1ccccc1c1ccccc41)c23': 1, 'OC(CC=C)(C(F)(F)F)C(F)(F)F': 1, 'CCCC(O)(C(F)(F)F)C(F)(F)F': 1, 'Cc1cc(C)c2ccc(NC(=O)C3CCCN3)nc2n1': 1, 'O=C(CN1C=CN=C1)c1ccccc1': 1, 'C[Si](C)(C)C1=C(c2c(F)c(F)c(F)c(F)c2F)C(=C1[Si](C)(C)C)[Si](C)(C)C': 1, 'ClC12C3=C4C5=C6C7=C8C9=C%10C%11=C7C7=C5C5(Cl)C4(Cl)C4(Cl)C%12=C%13C%14=C%15C%16=C%17C%18=C%19C%20=C%16C%16=C%14C(Cl)(C7(Cl)C%11(Cl)C%16(Cl)C%20(Cl)C%10(Cl)C7(Cl)C9=C9C%10=C8C8(Cl)C6=C3C3(Cl)C6=C1C1(Cl)C(=C24)C2(Cl)C%12=C%15C4(Cl)C%17=C%11C%12=C%18C(Cl)(C9(Cl)C9=C%14C%15(Cl)C(=C%16C%11(Cl)C(=C1C%16(Cl)C6(Cl)C%15=C3C8(Cl)C%10%14Cl)C24Cl)C%129Cl)C%197Cl)C5%13Cl': 1, 'Oc1ccccc1C=NC1=Nc2ccccc2S1': 1, 'CC1=C2CC3C(C)(CC2(O)OC1=O)C1OC1C(O)C13CO1': 1, 'C1COCCOc2cc3ccccc3cc2OCCOCCO1': 1, 'O=N(=O)C1=CC2=NSN=C2C2=NSN=C12': 1, 'BrC1=C(Br)C(=O)NC1=O': 1, 'Nc1cccc(N)n1': 1, 'CN(C)c1ccc(cc1)C=Nc1ccccc1O': 1, 'c1ccc(cc1)C=Cc1cc(nc(c1)c1ccccn1)c1ccccn1': 1, 'c1ccc(cc1)C1C(C(C1c1cc(nc(c1)c1ccccn1)c1ccccn1)c1cc(nc(c1)c1ccccn1)c1ccccn1)c1ccccc1': 1, 'Nc1c(F)c(N)c(c(F)c1C(F)(F)F)C(F)(F)F': 1, 'Nc1c(F)c(F)c2c(F)c(F)c(N)c(F)c2c1F': 1, 'COc1cccc2C(C(N3C=C(N=N3)c3ccccc3)C(=O)c3ccccc3)C(=C(N)Oc12)C#N': 1, 'OC(=CC(=O)c1ccccc1)c1ccncc1': 1, 'ClC12C3=C4C5=C6C7=C8C9=C5C5=C3C3(Cl)C%10=C1C1=C%11C%12=C%10C%10=C%13C%14=C%12C%12=C%15C%16=C%17C%18=C%12C%12=C%19C%20=C%18C%18=C%21C%17(Cl)C%17=C%22C%23=C%24C%25=C%17C%16(Cl)C(=C%16C1(Cl)C1=C2C4=C2C(=C1C%25%16Cl)C%24(Cl)C1=C(C7(Cl)C4=C(C(=C7C%16=C4C8=C4C8=C9C9=C5C(Cl)(C3%10Cl)C3(Cl)C%13(Cl)C(=C%14%12)C5=C%19C%10(Cl)C%20(Cl)C(Cl)(C%16=C4C%10(Cl)C8(Cl)C5(Cl)C93Cl)C%187Cl)C%21%22Cl)C%231Cl)C62Cl)C%11%15Cl': 1, 'O=C1NC=C(C=C1)N(=O)=O': 1, 'NS(=O)(=O)c1cnccc1N1C=CC=CC1=O': 1, 'OC1(O)CC(COC(=O)c2ccccc2)C1N1C=Nc2c(Cl)ncnc12': 1, 'Nc1ccncc1N': 1, 'OC(=O)c1ccc2ccccc2c1': 1, 'OC(=O)CSC1=C(SCC(O)=O)C(=O)c2ccccc2C1=O': 1, 'CN1N=NC(=N1)NN(=O)=O': 1, 'NC(=O)C1c2ccccc2CCc2ccccc12': 1, 'C1Cc2ccc(CCCc3cc4CCCc5ccc(CCCc3cc4C1)cc5)cc2': 1, 'O=C1Cc2ccc(CC(=O)Cc3cc4CCCc5ccc(CCCc3cc4C1)cc5)cc2': 1, 'O=C1Cc2cc3CCCc4ccc(CCCc2cc3CC(=O)Cc2cc3CCCc5ccc(CCCc2cc3C1)cc5)cc4': 1, 'C1Cc2ccc(CCCc3cc4CCCc5cc6CCCc7ccc(CCCc5cc6CCCc3cc4C1)cc7)cc2': 1, 'CCOC(=O)c1cc(c(Cl)c(c1)N(=O)=O)N(=O)=O': 1, 'C1Cc2cccc(CCCc3cc(C1)c1CCCc4cc(CCCc3c1)c1CCCc3cc(CCCc4c1)c1CCCc4cccc(CCCc3c1)c4)c2': 1, 'CCN(C(=O)N(CC)c1ccc(cc1)C(O)=O)c1ccc(cc1)C(O)=O': 1, 'OC(=O)C1=CC(=NN1)C(O)=O': 1, 'COC(=O)C1C2OC(C=C2)C1C(O)=O': 1, 'O=C(NN=C1CCCC1)c1ccncc1': 1, 'O=C(NN=C1CCCCCCC1)c1ccncc1': 1, 'Cc1ccc(cc1)C(C)=NNC(=O)c1ccncc1': 1, 'NNC(=O)c1cccnc1': 1, 'C1COCCOC2=CSC=C2OCCOCCO1': 1, 'OC(=O)C1(CCCC1)c1ccccc1': 1, 'OC(=O)c1cc(F)cc(c1)C(O)=O': 1, 'OC(CSSCC(O)(C(F)(F)F)C(F)(F)F)(C(F)(F)F)C(F)(F)F': 1, 'O=P12OP3(=O)c4ccccc4NC3(c3cccc4ccccc34)C1(Nc1ccccc21)c1cccc2ccccc12': 1, 'CC(C)(Oc1ccc(Cl)cc1)C(O)=O': 1, 'OC(=O)c1ccc(C(O)=O)c(c1)C(O)=O': 1, 'OC(=O)C(F)(F)C(F)(F)C(F)(F)C(F)(F)C(O)=O': 1, 'CC(CC(O)=O)c1ccccc1': 1, 'CC(CC(O)=O)c1ccccc1C': 1, 'CC(CC(O)=O)c1cccc(C)c1': 1, 'CC(CC(O)=O)c1ccc(F)cc1': 1, 'CC(C)(C)c1cc2Cc3cc(cc(Cc4cc(cc(Cc5cc(cc(Cc(c1)c2O)c5OCCN1C(=O)c2cccc5cccc(C1=O)c25)C(C)(C)C)c4O)C(C)(C)C)c3OCCN1C(=O)c2cccc3cccc(C1=O)c23)C(C)(C)C': 1, 'Nc1nc(N)nc(n1)c1ccc(cc1)c1ccncc1': 1, 'Nc1nc(N)nc(n1)c1ccccn1': 1, 'Nc1nc(N)nc(n1)c1ccncc1': 1, 'Nc1nc(N)nc(n1)c1cccnc1': 1, 'Oc1c2COCc3cc(cc(Cc4cc(cc(COCc5cc(cc(Cc1cc(c2)c1ccccc1)c5O)c1ccccc1)c4O)c1ccccc1)c3O)c1ccccc1': 1, 'CC1=NN(C(=C1)C)c1nnc(Nc2ccc(Br)cc2)nn1': 1, 'O=C(Nc1cccnc1)c1ccc(cc1)C(=O)Nc1cccnc1': 1, 'C1=CN(C=N1)c1cncnc1': 1, 'N(c1ccccc1)c1ncccn1': 1, 'OC(=O)C1CCCCC1': 1, 'Fc1nc(F)c(F)c([Te]c2c(F)c(F)nc(F)c2F)c1F': 1, 'Fc1c(F)c(F)c([Te]c2c(F)c(F)c(F)c(F)c2F)c(F)c1F': 1, 'CSC1=Nc2cc(Cl)c(Oc3cccc(Cl)c3Cl)cc2N1': 1, 'CN1[N]C(=NN(C)C1=S)c1ccccn1': 1, 'CCCC1=Nc2c(C)cc(cc2N1)C(=O)NCCc1ccccc1': 1, 'COc1ccc(cc1)C=NNC(=O)c1ccncc1': 1, 'COc1ccc(cc1)c1nc(N)nc(N)n1': 1, 'II[S]=C1Nc2ccccc2S1': 1, 'O=C(NCc1ccccn1)C(=O)NCc1ccccn1': 1, 'COc1cc(Cl)nc(N)n1': 1, 'CC(C(O)=O)c1ccc2c(Nc3ccc(Cl)cc23)c1': 1, 'O=C1C(=O)C(=C1NCc1cccnc1)NCc1cccnc1': 1, 'Cc1ccccn1': 1, 'CCOC(=O)c1ccccc1N': 1, 'CN(C)c1ccc(cc1)C(c1cc(C)c(O)c(C)c1)c1cc(C)c(O)c(C)c1': 1, 'Fc1ccc(cc1)P(=[Se])(c1ccc(F)cc1)c1ccc(F)cc1': 1, 'Cc1cc(N)c(N)cc1C': 1, 'CSC1=C(SC)SC(S1)=C1SC=C(S1)C(O)=O': 1, 'O=C1Nc2ccccc2C=C1': 1, 'OC(=O)C[Se]CC(O)=O': 1, 'OC(=O)C=Cc1ccc(C=CC(O)=O)cc1': 1, 'CC1=C(Sc2ccccc2C(O)=O)C(=O)c2ccccc2C1=O': 1, 'Nc1ccc(N=Nc2ccccc2)c(N)n1': 1, 'OC(=O)c1ccc(N2C(=O)c3cccc4cccc(C2=O)c34)c(O)c1': 1, 'CC(=O)OC1CC2C(=O)N(CC2=CC1OC(C)=O)c1ccccc1': 1, 'CC(C)(C)C(=O)OCOP(=O)(COCCN1C=Nc2c(N)ncnc12)OCOC(=O)C(C)(C)C': 1, 'Cc1ccc2ncccc2c1': 1, 'Nc1ccc(cc1I)N(=O)=O': 1, 'Nc1ccc(I)c(c1)N(=O)=O': 1, 'O=C1C(=C1c1ccccc1)c1ccccc1': 1, 'OC(=O)c1ccc(cc1)C(F)(F)F': 1, 'CSc1ccccc1C=NC1=C(N)N(C)C(=O)N(C)C1=O': 1, 'OC(=O)C=CC=CC(O)=O': 1, 'COc1ccccc1C=NNC(=O)c1ccncc1': 1, 'COC(=O)c1cc2C(=O)c3cc(C(=O)OC)c(cc3C(=O)c2cc1C(=O)OC)C(=O)OC': 1, 'CN1CC(=O)NC1=NC(C)=O': 1, 'O=C(NCc1ccccc1)NCc1ccccc1': 1, 'S=C(NCc1ccncc1)C(=S)NCc1ccncc1': 1, 'OC(=O)c1cccc(c1)N=Cc1ccccc1O': 1, 'N#Cc1ccncc1': 1, 'COc1cc(OC)nc(SC)n1': 1, 'CC1(C)OB(OC1(C)C)c1cc2ccc3cc(cc4ccc(c1)c2c34)B1OC(C)(C)C(C)(C)O1': 1, 'CC1(C)OB(OC1(C)C)c1cc2ccc3cccc4ccc(c1)c2c34': 1, '[Se]=P(CCc1ccccc1)(CCc1ccccc1)[Se][Se][Se]P(=[Se])(CCc1ccccc1)CCc1ccccc1': 1, 'CC(=O)c1cccc(n1)C(C)=O': 1, 'Cc1cccc(C(O)=O)c1O': 1, 'C12=C3C4=C5C6=C1C1=C7C8=C6C6=C9C%10=C%11C%12=C%13C(=C8%10)C7=C7C8=C1C2=C1C2=C3C3=C%10C%14=C2C2=C%15C%16=C(C8=C12)C7=C%13C1=C%16C2=C7C8=C(C%10=C%10C(=C43)C(=C56)C3=C9C%11=C(C8=C%103)C7=C%121)C%14=C%152': 1, 'O=C1NCc2ccc(OCCCCCCCCCCOc3ccc(COCc4cccc(COCc5ccc(OCCCCCCCCCCOc6ccc(CNC(=O)c7cccc1n7)cc6)cc5)n4)cc3)cc2': 1, 'CN(C)C(=S)NC(=O)c1cc(cc(c1)N(=O)=O)N(=O)=O': 1, 'Cc1cc(O)ccc1N(=O)=O': 1, 'NC1=NC(=NN1)SSC1=NNC(=N1)N': 1, 'O=C1N2CN3C4C5N(CN6C7C8N(CN9C%10C%11N(CN%12C%13C%14N(CN1C1C2N2CN4C(=O)N5CN7C(=O)N8CN%10C(=O)N%11CN%13C(=O)N%14CN1C2=O)C%12=O)C9=O)C6=O)C3=O': 1, 'CN(C)c1ccc(cc1)N=Nc1ccc(O)cc1': 1, 'OC(c1ccc(cc1)C(O)(C(F)(F)F)C(F)(F)F)(C(F)(F)F)C(F)(F)F': 1, 'OC(c1cccc(c1)C(O)(C(F)(F)F)C(F)(F)F)(C(F)(F)F)C(F)(F)F': 1, 'CC1(C)OC(C(O1)C(O)(c1c(F)c(F)c(F)c(F)c1F)c1c(F)c(F)c(F)c(F)c1F)C(O)(c1c(F)c(F)c(F)c(F)c1F)c1c(F)c(F)c(F)c(F)c1F': 1, 'C[Si](C)(C)C#C[Si](C)(C)C': 1, 'COC(=O)C(=NNc1ccc(cc1)C(N)=O)C(C)=O': 1, 'CC1=NN(c2ccccc2)C(=C1C(=O)c1ccccc1)O': 1, 'c1cc(ccn1)c1ccc(cc1)c1ccncc1': 1, 'IC1=NC(=C(I)N1)I': 1, 'COc1ccc2c(C)cc(C)nc2c1': 1, 'CCC1=C(CC2=C3N=C(C=C4NC(=CC5=NC(=CC6=C(CC)C(=C2N6)CC)C(=C5CC)CC)C(=C4CC)CC)C(=C3CC)CC)NC(=C1CC)CC1=C2N=C(C=C3NC(=CC4=NC(=CC5=C(CC)C(=C1N5)CC)C(=C4CC)CC)C(=C3CC)CC)C(=C2CC)CC': 1, 'C12=C3C4=C5C6=C1C1=C7C2=C2C8=C3C3=C9C%10=C8C8=C%11C%12=C%13C(=C28)C7=C2C7=C1C1=C6C6=C8C%14=C1C7=C1C(=C%132)C2=C%12C7=C%12C%13=C(C9=C9C(=C43)C(=C56)C3=C8C4=C(C%13=C93)C%12=C2C1=C%144)C%10=C%117': 1, 'OC(=O)c1ccccc1[Se][Se]c1ccccc1C(O)=O': 1, 'N#CC(C#N)=C1c2ccccc2c2ccccc12': 1, 'OC(c1ccc(cc1)C(O)=O)c1ccc(cc1)C(O)=O': 1, 'CC1=NN=C2SC(=NN12)c1ccc(Br)cc1': 1, 'CC(=O)c1c(O)cc(O)cc1O': 1, 'CCOC1=C(NCCCN2CCN(CCCNC3=C(OCC)C(=O)C3=O)CC2)C(=O)C1=O': 1, 'NC(=O)CN1CC(O)CC1=O': 1, 'OC(=O)CCN1C(=O)N(CCC(O)=O)C(=O)N(CCC(O)=O)C1=O': 1, 'CCCCN1C=C(C(=O)NC1=O)C1=CSC(S1)=C1SC2=C(OCCO2)S1': 1, 'CC(C)(C)c1ccc(cc1)C(c1ccc(OCCN2C=C(CN3C(=O)c4ccc5C(=O)N(CC6=CN(CCOc7ccc(cc7)C(c7ccc(cc7)C(C)(C)C)(c7ccc(cc7)C(C)(C)C)c7ccc(cc7)C(C)(C)C)N=N6)C(=O)c6ccc(C3=O)c4c56)N=N2)cc1)(c1ccc(cc1)C(C)(C)C)c1ccc(cc1)C(C)(C)C': 1, 'N1c2cccc3cccc(N=C1c1ncccn1)c23': 1, 'CN1c2ccccc2Sc2ccccc12': 1, 'c1cc(ccn1)c1ccc(cc1)C(c1ccc(cc1)c1ccncc1)=C(c1ccc(cc1)c1ccncc1)c1ccc(cc1)c1ccncc1': 1, 'CC1(C)CC(C)(c2ccc(O)cc2)c2ccccc2S1': 1, 'Cc1cccc(NC(=O)C23CC4CC(CC(C4)C2)C3)n1': 1, 'CCC(=O)Nc1cccc(C)n1': 1, 'c1ccc2c3ccc(cc3)c3ccccc3c3ccc(cc3)c3ccccc3c3ccc(cc3)c3ccccc3c3ccc(cc3)c2c1': 1, 'c1ccc(cc1)C1=Nc2ccccc2N1c1ccc2c3ccccc3C3(c4ccccc4c4ccccc34)c2c1': 1, 'C1CCCCOCCOCCOCCOCCOCCOCCC1': 1, 'Cc1cccc2SC(=Nc12)N': 1, 'NC(=NO)c1ccccn1': 1, 'CCOC(=O)C1=C(C(C(=O)OC)C2(NN=C(C(=O)OC)C12C(F)(F)F)C(F)(F)F)C(=O)OC': 1, 'C(N1C=CN=C1c1ccccc1)c1cccnc1': 1, '[C]12[C]3[C]4[C]5[C]6[C]1C1=C7[C]2[C]2[C]8[C]9[C]7[C]7[C]%10C9=C9C%11=C%12[C]%13[C]%14[C]%15[C]%16[C]%17[C]%18[C]%19[C]%20C%21=C%22[C]%23[C]%24[C]%25[C]%21C(=C%16%19)C%14=C%25[C]%12C%12=C%24C%14=C%23C%16=C%19C(=C6C6=C1C7=C([C]%166)C%14=C%10[C]%11%12)[C]5C(=C%18C4=C1[C]3C2=C2C8=C9C%13=C%15C2=C%171)C%20=C%22%19': 1, 'S=P([Se][Se]P(=S)(C1CCCCC1)C1CCCCC1)(C1CCCCC1)C1CCCCC1': 1, 'CC(=O)Nc1ccc2c(C)cc(nc2n1)C(Br)Br': 1, 'Nc1cccc2C(=O)c3ccccc3C(=O)c12': 1, 'Cc1ccc2N=C(N)Sc2c1': 1, 'Cc1ccc(cc1)S(=O)(=O)N(I(OI(N(S(=O)(=O)c1ccc(C)cc1)S(=O)(=O)c1ccc(C)cc1)c1ccccc1)c1ccccc1)S(=O)(=O)c1ccc(C)cc1': 1, 'CCCSC1=C(SCCC)SC(S1)=C1Sc2cc3NC(=Nc3cc2S1)C': 1, 'Cc1cc(cc(C)c1Oc1nc(Nc2ccc(cc2)C#N)nc(N)c1Br)C#N': 1, 'Clc1ccc2OC(=Nc2c1)N=C1Nc2ccccc2O1': 1, 'N1c2ccccc2c2ccc3c(Nc4ccccc34)c12': 1, 'OC1(CCCCC1)C#CC#CC1(O)CCCCC1': 1, 'CC(=O)C=C(C)Nc1c(Cl)cccc1Cl': 1, 'CN1N(c2ccccc2)C(=O)C(=C1C)C(C)(C)C1=C(C)N(C)N(c2ccccc2)C1=O': 1, 'COC(=O)COc1ccc2C(=C(Cl)C(=O)Oc2c1)C': 1, 'COc1ccccc1C1(O)c2ccccc2Oc2ccccc12': 1, 'ClC12C3=C4C5=C6C7=C8C9=C5C5=C%10C%11=C9C9=C%12C%13=C%11C%11(Cl)C%14(Cl)C%15=C%16C%17(Cl)C%18=C%19C%20=C%21C%22=C(C1=C1C%21(Cl)C%21=C%23C1(Cl)C3=C6C1(Cl)C%23(Cl)C3=C6C%23=C%24C%25(Cl)C(=C9C8(Cl)C%24(Cl)C7(Cl)C16Cl)C%12(Cl)C(=C%17C%13%15Cl)C1=C%18C6=C%20C%21(Cl)C3(Cl)C6(Cl)C%23(Cl)C%251Cl)C1(Cl)C3(Cl)C2=C4C5(Cl)C2(Cl)C3=C3C(=C%14C4(Cl)C%16(Cl)C%19=C%22C4(Cl)C13Cl)C%11(Cl)C%102Cl': 1, 'CC12CC3=C(ON=C3)C=C1CCC1C2CCC2(C)C1CCC2(O)C#C': 1, 'C1SC2=C(S1)SC(S2)=C1SC2=C(SCS2)S1': 1, 'OC(=O)c1cc(C(O)=O)c(O)c(c1)C(O)=O': 1, 'Oc1c2C(=O)c3c(O)c(cc(c3C(=O)c2c(cc1N(=O)=O)N(=O)=O)N(=O)=O)N(=O)=O': 1, 'OC(=O)c1ccc(OCc2cccc(c2)C(O)=O)cc1': 1, 'CCOC(=O)c1cc(c2ccccc2)c(C(=O)OCC)c(Cc2ccccc2)n1': 1, 'CCC(C)N1N=CN(C1=O)c1ccc(cc1)N1CCN(CC1)c1ccc(OCC2COC(CN3C=NC=N3)(O2)c2ccc(Cl)cc2Cl)cc1': 1, 'CC(C)C1=CC=CC2(C(C)C)C3C=C(c4ccccc4)C4=C(N=C1C24C(=C3c1ccccc1)c1ccccc1)c1ccccc1': 1, 'OC(=O)COc1cccc2ccccc12': 1, 'OC(=O)Cc1cccc(CC(O)=O)c1': 1, 'CC1OC(=O)C=C1c1ccccc1': 1, 'c1ccc(nc1)c1nccnc1c1ccccn1': 1, 'Cc1ccccc1NC(=O)Nc1ccc(cc1)N(=O)=O': 1, 'Brc1ccc(NC(=O)Nc2ccccc2)cc1': 1, 'O=C(Nc1ccccc1)Nc1ccccc1C#N': 1, 'O=C(Nc1ccccc1)Nc1ccccc1': 1, 'Brc1c2ccccc2c(c2ccccc2)c2ccccc12': 1, '[Se]=C(N1CCCc2ccc3CCCN(C(=[Se])c4ccccc4)c3c12)c1ccccc1': 1, 'CCCCCCN1C=C(I)C(=O)NC1=O': 1, 'Clc1ccc(CNN(=O)=O)cc1': 1, 'OC(=O)C1CCC(CC1)CN1C(=O)c2cccc3cccc(C1=O)c23': 1, 'CCCOc1cc2Cc3cc(OCCC)c(Cc4cc(OCCCCBr)c(Cc5cc(OCCC)c(Cc6cc(OCCC)c(Cc1cc2OCCC)cc6OCCC)cc5OCCC)cc4OCCCCBr)cc3OCCC': 1, 'C[Si](C)(C)C#CCCC(O)(C(F)(F)F)C(F)(F)F': 1, 'CCCCc1ccc2c(c1)cc1OC34Oc5cc6cc(CCCC)ccc6c(c5O3)c3c5OC6(Oc5cc5cc(CCCC)ccc35)Oc3cc5cc(CCCC)ccc5c(c3O6)c3c5OC6(Oc7cc8cc(CCCC)ccc8c(c7O6)c2c1O4)Oc5cc1cc(CCCC)ccc31': 1, 'Fc1nc(F)c(F)c(C2=NSS[N]2)c1F': 1, 'IC=CC=CI': 1, 'Fc1c(F)c(F)c2cc3C(=O)C=CC(=O)c3cc2c1F': 1, 'Oc1cc(O)c2C(=O)C=C(Oc2c1)c1ccc(O)c(O)c1': 1, 'CC(=O)C1=C(N)C(=C2N=NC(=NN12)N1N=C(C)C=C1C)C#N': 1, 'OC(=O)C=C': 1, 'COC(=O)CN1c2cccc(c2)N(CC(=O)OC)c2nc(Cl)nc(n2)N(CC(=O)OC)c2cccc(c2)N(CC(=O)OC)c2nc(Cl)nc1n2': 1, 'COc1ccc(C(O)=O)c(O)c1': 1, 'C=CCN1c2cccc(n2)N(CC=C)c2cc(ncn2)N(CC=C)c2cccc(n2)N(CC=C)c2cc(ncn2)N(CC=C)c2cccc(n2)N(CC=C)c2cc1ncn2': 1, 'S1C=CC(=C1)c1cc2Sc3cc(C4=CSC=C4)c4C=CSc4c3c2c2SC=Cc12': 1, 'OC(=O)CSCc1ccc(CSCC(O)=O)cc1': 1, 'Cc1cc(C)c(c(C)c1)[Si](C#CC(C)(C)C)(C#CC(C)(C)C)C#CC(C)(C)C': 1, 'C(N1C=Nc2ccccc12)N1C=Nc2ccccc12': 1, 'CC(C)(C)c1cc(cc(c1)C(C)(C)C)C1=CN(CC(=O)OC2C(OC3OC(C)(C)OC23)C2COC(C)(C)O2)N=N1': 1, 'NC(=S)NN=C1CCCc2ccccc12': 1, 'ClC12C3=C4C5=C6C7=C8C9=C5C1=C1C5=C%10C%11=C%12C(=C95)C5=C9C%13=C%12C%12(Cl)C%14=C%15C%16=C%17C%18=C%14C%13(Cl)C%13=C%18C%14=C%18C%19=C%13C9(Cl)C9=C(C85Cl)C7(Cl)C5=C(C7=C8C%13=C5C6(Cl)C4=C4C5=C3C3=C2C2=C6C%20=C3C3=C5C(=C5C%21=C3C3=C(C%22=C%21C(=C(C85Cl)C%187Cl)C%14(Cl)C%17%22Cl)C%16(Cl)C(=C5C6(Cl)C(=C(C%155Cl)C%11%12Cl)C%10(Cl)C12Cl)C%203Cl)C%134Cl)C%199Cl': 1, 'CN1C(=O)C2(OP(c3ccccc3)(c3ccccc3)(c3ccccc3)c3cc(C)c(C)cc23)c2ccccc12': 1, 'CCCC1=NN(C)C2=C1N=C(NC2=O)c1cc(ccc1OCC)S(=O)(=O)N1CCN(C)CC1': 1, 'C1Cc2cccc(CCCc3cc(C1)c1CCCc4cc(CCCc3c1)c1CCCc3cccc(CCCc4c1)c3)c2': 1, 'FC(F)(F)C1=CC(=CC2=C(C(=C(C2=C1)C(F)(F)F)C(F)(F)F)C(F)(F)F)C(F)(F)F': 1, 'Cc1cc2cc(C)c1NC(=O)c1cc(I)cc(c1)C(=O)Nc1c(C)cc(cc1C)C1(CCCCC1)c1cc(C)c(NC(=O)c3cccc(n3)C(=O)Nc3c(C)cc(cc3C)C32CCCCC3)c(C)c1': 1, 'CC1=NN(C(=C1)C)C(N1N=C(C)C=C1C)=C1NC(C=C1)=C(N1N=C(C)C=C1C)N1N=C(C)C=C1C': 1, 'C[Si]1(C)O[Si](C)(C)O[Si]2(O[Si](C)(C)O[Si](C)(C)O[Si]3(O1)c1ccccc1c1ccccc31)c1ccccc1c1ccccc21': 1, 'CCCCC(CC)CN1C(=O)c2ccc3C(=O)NC(=O)c4ccc(C1=O)c2c34': 1, 'CCCCCCCCN1C(=O)c2ccc3C(=O)NC(=O)c4ccc(C1=O)c2c34': 1, 'O=C1NC(=O)c2ccc3C(=O)N(C4CCCCC4)C(=O)c4ccc1c2c34': 1, 'CC(C)(C)C1=PC(=NN1)c1ccccc1': 1, 'Cc1cc(C)c([Se][Se]c2c(C)cc(C)cc2C)c(C)c1': 1, 'CC(C)OP(=S)(NC(=S)Nc1cccc(N=Cc2ccccc2O)n1)OC(C)C': 1, 'CC(=O)Nc1ccc(cc1)C(O)=O': 1, 'COc1ccc(cc1O)N(=O)=O': 1, 'C1NCc2cccc(CNCc3ccc(COCc4cccc(COCc5ccc1cc5)n4)cc3)n2': 1, 'OP(O)(=O)c1ccc(cc1)C(c1ccc(cc1)P(O)(O)=O)(c1ccc(cc1)P(O)(O)=O)c1ccc(cc1)P(O)(O)=O': 1, 'OC(=O)C=Cc1ccc(O)c(O)c1': 1, 'Brc1ccc(Br)cc1': 1, 'CN1C=NC2=C(C)C(=O)NC(=O)N12': 1, 'OC(CCNC(=O)C(F)(F)F)=C1Cc2ccccc2C1=O': 1, 'OC(=O)CCCSSCCCC(O)=O': 1, 'Cc1cc(CNc2cc(C)c(c(C)c2)c2ccncc2)cc(C)c1c1ccncc1': 1, 'CN(C)CCNC1=C(NCCN(C)C)C(=O)C1=O': 1, 'OC(=O)COc1ccc(Cl)cc1': 1, 'CSCCC(NS(=O)(=O)c1ccc(C=CC(O)=O)cc1)C(O)=O': 1, 'Clc1cc(Cl)c(OCC#CI)cc1Cl': 1, 'Cc1cncc(C)c1': 1, 'CCCCC(CC)CN(CC(CC)CCCC)C(=O)C=CC(=O)N(CC(CC)CCCC)CC(CC)CCCC': 1, 'COc1ccc(cc1)c1c2ccc(nc2nc2nc(ccc12)c1ccccc1)c1ccccc1': 1, 'CC(=O)Nc1cccc(C)n1': 1, 'O=N(=O)C1=CC=CC2=NSN=C12': 1, 'C(N1C=NC=N1)c1ccccc1': 1, 'OC(c1ccccc1)(c1ccccc1)c1ccccc1': 1, 'CCOC(=O)CCN(C(=O)c1ccc2N(C)C(=Nc2c1)CNc1ccc(cc1)C#N)c1ccccn1': 1, 'Nc1cccc(F)c1': 1, 'Nc1ccccc1F': 1, 'Nc1ccc(F)cc1': 1, 'O=N(=O)c1ccc(Nc2cc(Nc3ccc(cc3)N(=O)=O)c(cc2N(=O)=O)N(=O)=O)cc1': 1, 'COc1cc(ccc1OCCCN1CCC(CC1)C1=NOc2cc(F)ccc12)C(C)=O': 1, 'CC(=O)N1N=C(CC1c1c2ccccc2cc2ccccc12)c1ccccc1': 1, 'NC(=S)N1N=C(CC1c1ccc(Cl)cc1Cl)c1ccccn1': 1, 'Oc1ccc2ccc3nc4cc(Cl)c(Cl)cc4nc3c2c1c1c(O)ccc2ccc3nc4cc(Cl)c(Cl)cc4nc3c12': 1, 'O=N(=O)c1ccc(cc1)N1CCNCC1': 1, 'c1ccc(cc1)c1ccc(c2ccccc2)c2C#CC#Cc3c(ccc(c4ccccc4)c3C#CC#Cc12)c1ccccc1': 1, 'ClC1=C(Cl)C(=O)C(=C(Cl)C1=O)Br': 1, 'Fc1c(F)c(OCC2=CSC=C2)c(F)c(F)c1I': 1, 'Cc1cc(C)c(B(c2cc(c(O)c(c2)C(C)(C)C)C(C)(C)C)c2c(C)cc(C)cc2C)c(C)c1': 1, 'Oc1c2ccccc2cc(c2ccccc2)c1c1c(O)c2ccccc2cc1c1ccccc1': 1, 'Fc1ccc(cc1)C#CI': 1, 'C1CCC2N=Cc3cc4C=NC5CCCCC5N=Cc5cc6C=NC7CCCCC7N=Cc7cc(C=NC2C1)cc(C=NC1CCCCC1N=Cc1cc(C=NC2CCCCC2N=Cc(c3)c4)cc(C=NC2CCCCC2N=Cc(c6)c5)c1)c7': 1, 'OS(=O)(=O)C(F)(F)F': 1, 'OC(=O)c1c(F)cc(F)cc1F': 1, 'OC(=O)c1ccc(F)c(F)c1F': 1, 'OC(=O)c1cc(F)c(F)cc1F': 1, 'OC(=O)c1[c]cc(F)cc1F': 1, 'OC(=O)c1cc(F)ccc1F': 1, 'OC(=O)c1c(F)cccc1F': 1, 'OC(=O)c1cc(F)c(F)c(F)c1': 1, 'OC(=O)c1c[c]c(F)c(F)c1': 1, 'OC(=O)c1cc(F)cc(F)c1': 1, 'COc1ccc(cn1)c1cc(cnc1N)c1ccc(cc1)S(C)(=O)=O': 1, 'OC(=O)CCCCC1CCSS1': 1, 'NC1=NC(=CC(=O)N1)c1ccccc1': 1, 'CC1CC(C)SC2=C(S1)SC(S2)=C1SC2=C(SC(C)CC(C)S2)S1': 1, 'CC1CC(C)SC2=C(S1)SC(S2)=C1SC2=C(SCCS2)S1': 1, 'Ic1c2C(=O)NC(=O)c2c(I)c2C(=O)NC(=O)c12': 1, 'Brc1c2C(=O)NC(=O)c2c(Br)c2C(=O)NC(=O)c12': 1, 'Oc1c(O)c(Br)c(Br)c(Br)c1Br': 1, 'COc1cc2c(cc1OC)c1c3cc(OC)c(OC)cc3c3c4cc(OC)c(OC)cc4c4c5cc(OC)c(OC)cc5c5c6cc(OC)c(OC)cc6c6c7cc(OC)c(OC)cc7c2c2c1c3c4c5c62': 1, 'OC1C2OC3OC1C(OC(=O)c1ccccc1)C(O3)C2OC(=O)c1ccccc1': 1, 'CCc1c(CNC(=O)COc2cc3ccccc3cc2C(O)=O)c(CC)c(CNC(=S)Nc2ccccc2)c(CC)c1CNC(=S)Nc1ccccc1': 1, 'O=C1CCC(N1)C(=O)N1CCCCC1': 1, 'Fc1c(F)c(c(F)c(F)c1I)C1=C2NC(=C(C3=NC(=C(C4=CC=C(N4)C(=C4C=CC1=N4)c1c(F)c(F)c(I)c(F)c1F)c1c(F)c(F)c(I)c(F)c1F)C=C3)c1c(F)c(F)c(I)c(F)c1F)C=C2': 1, 'CCNC(=O)c1cccc(c1)C(=O)NC1=NC=CS1': 1, 'N#Cc1ccccc1C=Cc1ccc(cc1)C=Cc1ccccc1C#N': 1, 'CC1CN2C(=NC(=C2c2ccccc2)c2ccccc2)O1': 1, 'BrC(Br)(Br)N(=O)=O': 1, 'Oc1c(cc(c(O)c1N(=O)=O)N(=O)=O)N(=O)=O': 1, 'O=C(NCc1ccc2ccc3cccc4ccc1c2c34)c1cccc(n1)C(=O)NCc1ccc2ccc3cccc4ccc1c2c34': 1, 'CC(=O)C=C(C)Nc1ccc(cc1)C#N': 1, 'S1C=CC(=C1)C1C(C(C1c1ccncc1)c1ccncc1)C1=CSC=C1': 1, 'CC(C)(C)C1=C=C(C#Cc2cccc(n2)C#CC(=C=C(C#CC#CC(=C=C(C#Cc2cccc(n2)C#CC(=C=C(C#CC#C1)C(C)(C)C)C(C)(C)C)C(C)(C)C)C(C)(C)C)C(C)(C)C)C(C)(C)C)C(C)(C)C': 1, 'CCCC[C]CCCN1C(=O)c2ccc3C(=O)NC(=O)c4ccc(C1=O)c2c34': 1, 'N1C(=Cc2cc3C=C(Nc3nc12)c1ccccc1)c1ccccc1': 1, 'O=S(=O)(c1ccncc1)c1ccncc1': 1, 'Oc1c(Cl)cc(Cl)cc1CN(Cc1cc(Cl)cc(Cl)c1O)Cc1cc(Cl)cc(Cl)c1O': 1, 'Fc1c(F)c(F)c(C=CC(=O)C=Cc2c(F)c(F)c(F)c(F)c2F)c(F)c1F': 1, 'CCN1CCN(CC1)c1cc(c2ccc(F)cc2)c2CCCCCCc2n1': 1, 'Nc1cccc(Cl)n1': 1, 'Cc1cc(I)ccc1N': 1, 'CC1(CC2(O)c3ccccc3c3ccccc23)c2ccccc2c2ccccc12': 1, 'CN1c2ccccc2N(C)C1=Nc1cc(N=C2N(C)c3ccccc3N2C)c(cc1N=C1N(C)c2ccccc2N1C)N=C1N(C)c2ccccc2N1C': 1, 'CC(C)N=NC(C)(C)OO': 1, 'c1cnc2N(C=Cc2c1)[Si](N1C=Cc2cccnc12)(N1C=Cc2cccnc12)N1C=Cc2cccnc12': 1, 'CCOC1Oc2ccccc2C2=Nc3ccccc3NC(=O)C12': 1, 'CCCCCOc1ccc2ccc(OCCCCC)cc2c1': 1, 'COc1cc(ccc1CC1=CN(C)c2ccc(NC(=O)OC3CCCC3)cc12)C(=O)NS(=O)(=O)c1ccccc1C': 1, 'O=C1C(=O)c2ccccc2c2ccccc12': 1, 'COc1ccc(cc1)C(Cc1ccncc1)C(O)(O)C(F)(F)F': 1, 'CN(C)c1ccc(cc1)C#CC1(C)CC2(C)CC(C)(C1)C(=O)NC2=O': 1, 'CC(C)C(=O)Nc1cccc(NC(=O)C(C)C)n1': 1, 'CC1(CC2(C)CC(C)(C1)C(=O)NC2=O)C#Cc1ccc(cc1)c1cnccn1': 1, 'CC1(CC2(C)CC(C)(C1)C(=O)NC2=O)C#Cc1ccc(cc1)c1cncnc1': 1, 'CC1(CC2(C)CC(C)(C1)C(=O)NC2=O)C#Cc1ccc2c(Cc3ccccc23)c1': 1, 'CC1(CC2(C)CC(C)(C1)C(=O)NC2=O)C#Cc1ccccc1': 1, 'IC1=CN=C(I)N1': 1, 'ON=Cc1ccc(Br)cc1': 1, 'C(N1C=CN=C1C1=NC=CN1Cc1ccccc1)c1ccccc1': 1, 'CC1=NN(C(N2N=C(C)C(=C2C)C)N2N=C(C)C(=C2C)C)C(=C1C)C': 1, 'Clc1ccccc1C(N1C=CN=C1)(c1ccccc1)c1ccccc1': 1, 'CCCC1C=Cc2cc(C)c(C)cc2C1O': 1, 'ClC12C3=C4C5=C6C7=C8C9=C5C5=C3C3=C%10C%11=C5C5(Cl)C%12=C%13C%14=C%15C%16=C%12C(=C%12C%17=C%16C%16=C%18C%19=C%17C(=C%17C%20=C%19C%19(Cl)C%18=C%18C%21=C%16C%15(Cl)C%15=C%16C%14(Cl)C%14=C%22C%16(Cl)C%16=C%23C%24=C%25C(=C%16C%21%15Cl)C%18(Cl)C%15=C%16C%18=C%21C(=C%19%15)C%20(Cl)C%15=C(C6(Cl)C6=C(C%19=C(C1=C46)C1(Cl)C4=C2C3=C2C(=C%10C%14(Cl)C%11%13Cl)C%22(Cl)C%23(Cl)C2=C4C%24(Cl)C(=C1C%18%19Cl)C%25%16Cl)C%21%15Cl)C7%17Cl)C8%12Cl)C95Cl': 1, 'COc1ccccc1C1=Nc2cc(cc(c2O1)C(C)(C)C)C(C)(C)C': 1, 'O=C1NN=C(N1)N(=O)=O': 1, 'CC(C)N1N=C(N=C1N(=O)=O)N(=O)=O': 1, 'C=CCN1C(=O)C2=C(SC3=C(S2)C(=O)N(CC=C)C3=O)C1=O': 1, 'Fc1cc(F)cc(I)c1': 1, 'Fc1cccc(F)c1I': 1, 'COc1ccc(CN2C=Cc3c(C)c4C(=O)C=CC(=O)c4c4cccc2c34)cc1': 1, 'CN(C)c1ccc(cc1)N=Nc1c(F)c(F)c(O)c(F)c1F': 1, 'BrCc1ccc(cc1N(=O)=O)N(=O)=O': 1, 'BrC1=C(I)C(=O)C(=C(I)C1=O)Br': 1, 'c1cc2ccc3ccc4ccc5ccc1c1c2c3c4c51': 1, 'OC(=O)c1cnccn1': 1, 'Cc1cccc(c1)C(=O)Oc1cc2ccccc2cc1OC(=O)c1cccc(C)c1': 1, 'OC(=O)CC(=CC(O)=O)C(O)=O': 1, 'Fc1c(F)c(F)c(c(F)c1F)C1=C2OC(=C(C3=CC=C(O3)C(=C3OC(=C(C4=CC=C1O4)c1ccccc1)C=C3)c1c(F)c(F)c(F)c(F)c1F)c1ccccc1)C=C2': 1, 'IN1C(=O)c2ccccc2S1(=O)=O': 1, 'BrC#Cc1cccc(c1)N(=O)=O': 1, 'OC(=O)c1cc2C(=O)c3cc(cc(c3c2c(c1)N(=O)=O)N(=O)=O)N(=O)=O': 1, 'COC(=O)c1cc2C(=O)c3cc(cc(c3c2c(c1)N(=O)=O)N(=O)=O)N(=O)=O': 1, 'CCOC(=O)C(=O)Nc1cccc(NC(=O)C(=O)OCC)c1C': 1, 'CCCCC1=C2SC(=C1CCCC)C#CC1=C(CCCC)C(=C(S1)C#CC1=C(CCCC)C(=C(S1)C#CC1=C(CCCC)C(=C(S1)C=CC1=C(CCCC)C(=C(S1)C#CC1=C(CCCC)C(=C(S1)C#CC1=C(CCCC)C(=C(S1)C#CC1=C(CCCC)C(=C(S1)C=C2)CCCC)CCCC)CCCC)CCCC)CCCC)CCCC)CCCC': 1, 'CCC12CCCN3CCC4=C(C13)N(C(=C2)C(=O)OC)c1ccccc41': 1, 'CC(C)(C)c1ccc2c3ccc(cc3C(O)(C#Cc3c4ccccc4c(C#CC4(O)c5cc(ccc5c5ccc(cc45)C(C)(C)C)C(C)(C)C)c4ccccc34)c2c1)C(C)(C)C': 1, 'CCCOc1ccc(cc1)C(O)=O': 1, '[Se]1[Se][Se][Se][Se][Se][Se][Se]1': 1, 'OC1(CCN(CCCC(=O)c2ccc(F)cc2)CC1)c1ccc(Cl)cc1': 1, 'CN1CCN(CC1)C1=Nc2cc(Cl)ccc2Nc2ccccc12': 1, 'CC(C)(C)c1ccc(cc1)C1=CB(C=C([Te]1)c1ccc(cc1)C(C)(C)C)c1ccccc1': 1, 'CC1=C(N2C(=O)c3ccc4C(=O)N(C(=O)c5ccc(C2=O)c3c45)C2=C(C)NN=C2C)C(=NN1)C': 1, 'CCOC1CC(c2ccccc2)C2=C(O1)C(CC1C2C(=O)N(C1=O)c1ccccc1)OCC': 1, 'Nc1ccccc1S(N)(=O)=O': 1, 'Nc1ccc(cc1)S(N)(=O)=O': 1, 'Cc1ccccc1S(N)(=O)=O': 1, 'Cc1ccc(cc1)S(N)(=O)=O': 1, 'c1ccc2c(c1)ccc1cccnc21': 1, 'C12=C3C4=C5C6=C1C1=C7C8=C6C6=C9C%10=C8C8=C%11C%12=C%13C(=C78)C7=C1C2=C1C2=C3C3=C8C%14=C2C2=C%15C(=C%13C7=C12)C1=C%12C2=C7C%12=C(C9=C9C(=C56)C(=C43)C3=C8C4=C%14C%15=C1C7=C4C%12=C93)C%10=C%112': 1, 'C12=C3C4=C5C1=C1C6=C7C8=C9C%10=C7C7=C1C1=C%11C7=C7C%10=C%10C%12=C%13C%14=C%15C%16=C%17C%18=C%19C(=C2C6=C%19C8=C%17C%14=C9%12)C2=C6C8=C9C%12=C%14C(=C4C4=C%14C%14=C%17C(=C%11C%11=C%17C%17=C%19C%14=C%12C(=C9C%16=C%186)C%15=C%19C%13=C%17C%10=C7%11)C4=C51)C8=C32': 1, 'C12=C3C4=C5C6=C7C8=C9C6=C3C3=C6C%10=C%11C%12=C%13C%14=C%15C%16=C%17C%18=C%19C%20=C%21C(=C4C4=C%20C%20=C%18C%18=C%16C%14=C%14C%16=C%22C(=C1C3=C%10C%22=C%12%14)C(=C24)C%20=C%18%16)C5=C1C7=C2C3=C4C5=C(C%13=C%11C(=C96)C5=C83)C%15=C3C%17=C5C%19=C%21C1=C2C5=C43': 1, 'Oc1c(Cl)cccc1Cl': 1, 'OC(=O)c1cccc(I)c1': 1, 'OC(=O)c1ccccc1I': 1, 'O=N(=O)NCCNN(=O)=O': 1, 'O=C1N2CN3C4C5N(CN6C7C8N(CN9C%10C%11N(CN%12C%13C%14N(CN%15C%16C%17N(CN%18C%19C%20N(CN%21C%22C%23N(CN1C1C2N2CN4C(=O)N5CN7C(=O)N8CN%10C(=O)N%11CN%13C(=O)N%14CN%16C(=O)N%17CN%19C(=O)N%20CN%22C(=O)N%23CN1C2=O)C%21=O)C%18=O)C%15=O)C%12=O)C9=O)C6=O)C3=O': 1, 'N1C2=C3C=CC(=N3)c3ccccc3C3=CC=C(N3)C3=NC(=C4C=CC=CC4=C1C=C2)C=C3': 1, 'COC(C#CC#CC#CC#CC(OC)(c1cc(cc(c1)C(C)(C)C)C(C)(C)C)c1cc(cc(c1)C(C)(C)C)C(C)(C)C)(c1cc(cc(c1)C(C)(C)C)C(C)(C)C)c1cc(cc(c1)C(C)(C)C)C(C)(C)C': 1, 'CN(C)c1ccc(C=Cc2ccncc2)cc1': 1, 'CN(C)c1ccc(cc1)N=Nc1cccnc1': 1, 'COC(=O)c1ccc(cc1)C1=C2C=CC(=N2)C(=C2NC(=C(c3ccc(cc3)C(=O)OC)C3=NC(=C(C4=CC=C1N4)c1ccc(cc1)C(=O)OC)C=C3)C=C2)c1ccc(cc1)C(=O)OC': 1, 'Oc1cc(cc(O)c1O)c1ccc(cc1)c1cc(O)c(O)c(O)c1': 1, 'C1CN=C(N1)c1ccccc1C1=NCCN1': 1, 'C(Nc1ccccn1)c1ccccc1': 1, 'CC1(C)CC(B2OC(C)(C)C(C)(C)O2)C(CC1O)B1OC(C)(C)C(C)(C)O1': 1, 'CC(CC1CC1c1ccc2ccccc2c1)OC(=O)c1ccc(Br)cc1': 1, 'OC(=O)C=Cc1ccc(cc1)N(=O)=O': 1, 'COc1cc(ccc1O)C=Nc1ccc(cc1)N=Cc1ccc(O)c(OC)c1': 1, 'CC1(C)CCC2=C(O1)c1ccccc1C(=O)C2=O': 1, 'OC(=O)c1ccc(cc1C(O)=O)C(=O)c1ccc(C(O)=O)c(c1)C(O)=O': 1, 'COc1cccc(C=NCCN=Cc2cccc(OC)c2O)c1O': 1, 'OC(=O)CSc1ccccc1': 1, 'FC(F)(F)I': 1, 'CCN1C(=O)C(=NNc2cccc(C)c2C)C(=C(C#N)C1=O)C': 1, 'CCC1c2cc3C(CC)c4cc5C(CC)c6cc7C(CC)c8cc1c1O[Si](C)(C)Oc2c(C)c3O[Si](C)(C)Oc4c(C)c5O[Si](C)(C)Oc6c(C)c7O[Si](C)(C)Oc8c1C': 1, 'FC(F)(F)c1cccc(NC(=O)Nc2cccc(c2)C(F)(F)F)c1': 1, 'Clc1cccc(NC(=O)Nc2cccc(Cl)c2)c1': 1, 'CCCCCCCCCCCCc1ccc2c(SC3=C2Sc2cc(CCCCCCCCCCCC)ccc32)c1': 1, 'ClC12C3=C4C5=C6C7=C8C9=C5C5=C%10C%11=C9C9(Cl)C%12(Cl)C%13=C%14C%15=C%16C%17=C%18C%19=C%20C(=C%13%17)C(Cl)(C%13(Cl)C%10=C%10C(=C35)C1(Cl)C1(Cl)C3=C2C2=C5C%17=C%21C%22=C2C2=C3C3=C%23C%24=C2C%22=C2C%22=C%21C%21(Cl)C%25=C(C%26(Cl)C(=C%14C9(Cl)C8%26Cl)C8=C%15C(Cl)(C%22(Cl)C%258Cl)C8(Cl)C2=C%24C(Cl)(C%168Cl)C%18(Cl)C%23(Cl)C%19(Cl)C2=C(C%20%13Cl)C%10(Cl)C1(Cl)C32Cl)C7(Cl)C%21(Cl)C%17(Cl)C6(Cl)C45Cl)C%11%12Cl': 1, 'OC(=O)COc1cccc(OCC(O)=O)c1': 1, 'Brc1cc(cc(c1)N(=O)=O)N(=O)=O': 1, 'CCC1=C(CC2=C3NC(=CC4=NC(=CC5=C(CC)C(=C(N5)C=C5N=C2C(=C5CC)CC)CC)C(=C4CC)CC)C(=C3CC)CC)NC(=C1CC)CC1=C2NC(=CC3=NC(=CC4=C(CC)C(=C(N4)C=C4N=C1C(=C4CC)CC)CC)C(=C3CC)CC)C(=C2CC)CC': 1, 'CN1N=C(C(=O)C=C1c1ccccc1)C(F)(F)F': 1, 'CCC1=C2NC(=C1C)C=C1C=C(C=C3C=C(C=C4NC(=C2)C(=C4C)CC)c2ccccc32)c2ccccc12': 1, 'CN(C)c1ccc(cc1)C(=NNC(=O)c1ccncc1)c1ccccc1': 1, 'Oc1ccccc1C(=NNC(=O)c1ccncc1)c1ccccc1O': 1, 'C(CCN1C=CN=C1)CN1C=CN=C1': 1, 'FC(F)(F)C1=CSC(S1)=C1SC2=C(SCCS2)S1': 1, 'OC(=O)c1ccc(C=Cc2ccc(cc2)C(O)=O)cc1': 1, 'CCCCOc1ccc(cc1)N=Nc1ccncc1': 1, 'COCC1=CC(=O)NC(=S)N1': 1, 'CN1C(=O)N(C)C(=O)C2=C(C3=CC=C(N3)C(=C3C=CC(=N3)C(=C3NC(=C(c4ccccc4)C(=N2)C1=O)C=C3)c1ccccc1)c1ccccc1)c1ccccc1': 1, 'C12=C3C4=C5C6=C1C1=C7C8=C9C%10=C%11C%12=C%13C(=C7%10)C7=C1C2=C1C2=C3C3=C%10C%14=C2C2=C%15C(=C%13C7=C12)C1=C%12C2=C7C%12=C%13C%16=C%17C(=C5C(=C68)C%16=C9C%13=C%112)C(=C43)C2=C%10C3=C(C%12=C%172)C7=C1C%15=C%143': 1, 'C12=C3C4=C5C6=C1C1=C7C8=C6C6=C9C%10=C8C8=C%11C%12=C%13C(=C78)C7=C1C2=C1C2=C3C3=C8C%14=C2C2=C1C7=C%13C1=C2C2=C%14C7=C%13C%14=C%15C(=C87)C(=C43)C(=C56)C%15=C9C3=C%14C4=C(C%11=C%103)C%12=C1C2=C%134': 1, 'CC(=O)c1cccc(c1)C(C)=O': 1, 'O=Cc1ccc(C=O)cc1': 1, 'Brc1cccc(Br)c1': 1, 'Cc1cc(O)cc(C)c1Cl': 1, 'Cc1nc2ccc(cc2nc1C)C(=O)c1ccccc1': 1, 'BrCCCCCCBr': 1, 'Fc1c(F)c(c(F)c(F)c1Br)c1c(F)c(F)c(Br)c(F)c1F': 1, 'CCCCCCCCOc1ccc(cc1)N=Nc1c(F)c(F)c(I)c(F)c1F': 1, 'CCCCCCCCCCCCOc1ccc(cc1)N=Nc1c(F)c(F)c(I)c(F)c1F': 1, 'CCCCCCCCCCOc1ccc(cc1)N=Nc1c(F)c(F)c(I)c(F)c1F': 1, 'FS(=O)(=O)CCC1=C2C=Cc3ccccc3N2C(=C1)C(=O)c1ccccc1': 1, 'CC(C)(C)[Si](C(C)(C)C)(C(C)(C)C)[Si](Cl)(Cl)Cl': 1, 'C(C(C(Cc1ccncc1)c1ccncc1)c1ccncc1)c1ccncc1': 1, 'CSc1cc(SC)c(SC)cc1SC': 1, 'Nc1ccc(Cl)cc1': 1, 'O(c1ccncc1)P1(=NP(=NP(=N1)(Oc1ccncc1)Oc1ccncc1)(Oc1ccncc1)Oc1ccncc1)Oc1ccncc1': 1, 'Nc1ccccc1Nc1cc(nnc1C(F)(F)F)c1ccccc1': 1, 'COC12C(=O)C(=Cc3cccc(Oc4ccc5ccccc5c14)c23)CO': 1, 'OCC1=CC#CC#CC=C(CO)C#CC#CC(=CC#CC#CC=C(CO)C#CC#C1)CO': 1, 'C(C=Cc1cccnc1)=Cc1cccnc1': 1, 'Oc1cc(Br)cc(Br)c1': 1, 'CC(=O)OC1=CC2(CCC1C1C2C(=O)C=CC1=O)OC(C)=O': 1, 'Oc1ccc(C=CC(=O)OCCc2ccccc2)cc1O': 1, 'CC(C)CC1N(Br)C(=O)N(Br)C1=O': 1, 'Cc1nccnc1C': 1, 'Cc1cncc(C)n1': 1, 'COc1ccc2C(=O)Oc3c(OC)c(OC)ccc3C(=O)Oc3c(OC)c(OC)ccc3C(=O)Oc2c1OC': 1, 'CC1=C(C)C(=O)N=C(N)N1': 1, 'CN(CN1N=C(N(CN(C)N(=O)=O)C1=O)N(=O)=O)N(=O)=O': 1, 'COc1ccc(c(N)c1)N(=O)=O': 1, 'Clc1ccc(OC(=O)c2ccccc2)c2ncccc12': 1, 'Oc1c2ccccc2c(c2ccccc12)c1c2ccccc2nc2ccccc12': 1, 'CC(N1C(=S)SC2=C1SSC1=C2SC(=S)N1C(C)c1ccccc1)c1ccccc1': 1, 'N#Cc1ccc(cc1)B1NC(=NN1c1ccccc1)c1ccccn1': 1, 'NC1=NN=C(S1)S(N)(=O)=O': 1, 'FS(F)(F)(F)(F)c1cc(cc(c1)S(F)(F)(F)(F)F)c1cc(cc(c1)S(F)(F)(F)(F)F)S(F)(F)(F)(F)F': 1, 'COC1=C(F)C2=N[Se]N=C2C(=C1OC)OC': 1, 'NC1=C(SC(=CC(=O)c2ccc(F)cc2)N1c1ccccc1)C#N': 1, 'COc1ccc(C=CC(O)=O)cc1OC': 1, 'Nc1nc(N)nc(n1)c1ccc(Cl)cc1': 1, 'CC(C)(O)c1ccccc1SSc1ccccc1C(C)(C)O': 1, 'Oc1ccc(cc1C=NNc1ccc(cc1N(=O)=O)N(=O)=O)N(=O)=O': 1, 'C(N1C=CN=C1)c1cc(CN2C=CN=C2)cc(CN2C=CN=C2)c1': 1, 'CCN1C(=S)C(SC1=C(C#N)C#N)=C1SC(N(CC)C1=S)=C(C#N)C#N': 1, 'COCCOc1cc2ncnc(Nc3cccc(c3)C#C)c2cc1OCCOC': 1, 'CC(C)C(C(N)=O)c1ccccc1': 1, 'OC(=O)c1c(F)cc(F)c(F)c1F': 1, 'OC(=O)c1c(F)c(F)cc(F)c1F': 1, 'O=C(NN1C(=O)c2ccc3C(=O)N(NC(=O)c4ccncc4)C(=O)c4ccc(C1=O)c2c34)c1ccncc1': 1, 'CC(C)(C)c1cc(c(P=C2c3ccccc3c3cc4c(cc23)c2ccccc2C4=Pc2c(cc(cc2C(C)(C)C)C(C)(C)C)C(C)(C)C)c(c1)C(C)(C)C)C(C)(C)C': 1, 'CC1=NOC(=C1C)NS(=O)(=O)c1ccc(N)cc1': 1, 'NC(=S)NN=C(C1=CC=CS1)C1=CC=CS1': 1, 'OC(=O)Cc1cccc(Cl)c1': 1, 'CC(C)(C)c1ccc(cc1)c1ccc(c2ccc(cc2)C(C)(C)C)c2N=C(Nc12)C1=Nc2c(N1)c(ccc2c1ccc(cc1)C(C)(C)C)c1ccc(cc1)C(C)(C)C': 1, 'OC1C=CC23OC(=O)OC2(C1O)C1OC1C(O)C3O': 1, 'COc1cc2Cc3cc(OC)c(OC)cc3Cc3cc(OC)c(OC)cc3Cc2cc1OC': 1, 'CCCCOC(=O)c1ccc(O)cc1': 1, 'CCC1=C(CC2=C3NC(=CC4=NC(=CC5=C(CC)C(=C(N5)C=C5N=C2C(=C5CC)CC)CC)C(=C4CC)CC)C(=C3CC)CC)NC(=C1CC)CC1=C2N=C(C=C3NC(=CC4=NC(=CC5=C(CC)C(=C1N5)CC)C(=C4CC)CC)C(=C3CC)CC)C(=C2CC)CC': 1, 'CCC1=C(CC2=C3N=C(C=C4NC(=CC5=NC(=CC6=C(CC)C(=C2N6)CC)C(=C5CC)CC)C(=C4CC)CC)C(=C3CC)CC)NC(=C1CC)CC1=C2NC(=CC3=NC(=CC4=C(CC)C(=C(N4)C=C4N=C1C(=C4CC)CC)CC)C(=C3CC)CC)C(=C2CC)CC': 1, 'CC(C)(C)c1cc2ccc3cc(cc4C5=NC6=C(C7=CC=CS7)C7=NSN=C7C(=C6N=C5c(c1)c2c34)C1=CC=CS1)C(C)(C)C': 1, 'CC(=O)OC1C2OC3(C)OC1C(OS(=O)(=O)c1ccc(C)cc1)C(O3)C2OC(C)=O': 1, 'CN(C)c1ccc(cc1)C=Nc1ccccc1C(O)=O': 1, 'Nc1cc(ccc1O)N(=O)=O': 1, 'CC(C)(C)c1cc(cc(c1)C(C#CC#CC#CC#CC#CC#CC(c1cc(cc(c1)C(C)(C)C)C(C)(C)C)(c1cc(cc(c1)C(C)(C)C)C(C)(C)C)c1cc(cc(c1)C(C)(C)C)C(C)(C)C)(c1cc(cc(c1)C(C)(C)C)C(C)(C)C)c1cc(cc(c1)C(C)(C)C)C(C)(C)C)C(C)(C)C': 1, 'CC(C)(C)c1cc(cc(c1)C(C#CC#CC#CC#CC#CC#CC#CC#CC(c1cc(cc(c1)C(C)(C)C)C(C)(C)C)(c1cc(cc(c1)C(C)(C)C)C(C)(C)C)c1cc(cc(c1)C(C)(C)C)C(C)(C)C)(c1cc(cc(c1)C(C)(C)C)C(C)(C)C)c1cc(cc(c1)C(C)(C)C)C(C)(C)C)C(C)(C)C': 1, 'CCCCCOc1ccc(cc1)C(O)=O': 1, 'CCCCCCOc1ccc(cc1)C(O)=O': 1, 'COc1cc2C(=O)N(CCCBr)C3=C(C(=O)c4cccc5N(C(=C3c45)Cl)S(=O)(=O)c3ccccc3)c2cc1OC': 1, 'FC(F)(F)c1cc(NC(=O)Nc2cc(cc(c2)C(F)(F)F)C(F)(F)F)cc(c1)C(F)(F)F': 1, 'COc1ccccc1P1(=O)OP(=O)(OP(=O)(O1)c1ccccc1OC)c1ccccc1OC': 1, 'C(C=CN1C=CN=C1)=CN1C=CN=C1': 1, 'C(Sc1ccncc1)c1ccncc1': 1, 'N1c2ccccc2C2=C1c1ccccc1N2': 1, 'Nc1nc(N)nc(n1)c1ccc(Br)cc1': 1, 'CC(C)c1cccc(C(C)C)c1N1C=CN(C1=C(S)Nc1ccccc1)c1c(cccc1C(C)C)C(C)C': 1, 'OC(=O)C1=C(Cl)C=CS1': 1, 'Clc1ccc(c2C(=O)c3c(Cl)ccc(c3C(=O)c12)N(=O)=O)N(=O)=O': 1, 'OC(C(OP(O)(O)=O)c1ccccc1)(c1ccccc1)C(O)(C(F)(F)F)C(F)(F)F': 1, 'c1ccc(cc1)C#Cc1ccccc1C#Cc1ccccc1': 1, 'OC(=O)c1ccc(C(O)=O)c(c1)c1cc(cc(c1)C(O)=O)C(O)=O': 1, 'Fc1c(F)c(F)c(B2OB(OB(O2)c2c(F)c(F)c(F)c(F)c2F)c2c(F)c(F)c(F)c(F)c2F)c(F)c1F': 1, 'COc1cc(NS(=O)(=O)c2ccc(N)cc2)nc(OC)n1': 1, 'ClC12C3=C4C5=C6C7=C8C9=C%10C6=C3C3(Cl)C%10=C6C%10=C9C9(Cl)C%11=C8C8=C%12C%13=C%14C%15=C%16C%17=C%13C%13(Cl)C%12=C%11C%11(Cl)C%12=C%13C%13=C%18C%19=C%12C%12(Cl)C%20=C%21C%22=C%23C(=C%20C%10(Cl)C9=C%11%12)C6(Cl)C6=C9C%10=C(C1=C36)C1(Cl)C3=C2C4=C2C4=C3C3=C6C%11=C4C4=C(C%12=C%11C%11=C%20C(=C(C%16%12Cl)C%17%13Cl)C%18(Cl)C%12=C(C%22(Cl)C%13=C(C(=C(C%10=C%13C%239Cl)C13Cl)C6%11Cl)C%20%12Cl)C%19%21Cl)C%15(Cl)C1=C3C(Cl)(C7=C8C%143Cl)C5=C2C41Cl': 1, 'CCCC1c2cc3C(CCC)c4cc5C(CCC)c6cc7C(CCC)c8cc1c1OCOc2c(C)c3OP(=O)(Oc4c(C)c5OCOc6c(C)c7OP(=O)(Oc8c1C)c1ccccc1)c1ccccc1': 1, 'CC1=CC(=NC(N1)=NS(=O)(=O)c1ccc(N)cc1)C': 1, 'COC(=O)C1(NC(=O)c2ccccc2)C(c2ccccc2)C(NC(=O)c2ccccc2)(C1c1ccccc1)C(=O)OC': 1, 'Cc1cc(C)c(c(C)c1)c1cccc(c2c(C)cc(C)cc2C)c1[Si](O)(O)O': 1, 'ClC12C3=C4C5=C6C7=C8C9=C5C5=C3C3=C%10C%11=C%12C(=C13)C1(Cl)C3=C2C2=C%13C%14=C3C3(Cl)C%15=C%16C%17=C%18C%19=C%20C%21=C(C%14=C%15%19)C%14=C%13C(Cl)(C42Cl)C6(Cl)C2(Cl)C%14(Cl)C%21=C4C6=C%13C%14=C%15C(=C%206)C%18(Cl)C6=C%18C%15(Cl)C%15=C%19C%20=C%21C%22=C%15C%14(Cl)C(=C8C%13(Cl)C4(Cl)C72Cl)C%22=C9C2=C5C%10(Cl)C(=C4C%11(Cl)C5=C7C(=C(C(=C5C%204Cl)C%18%19Cl)C%176Cl)C%16(Cl)C3=C1C%127Cl)C%212Cl': 1, 'O=C(Nc1cccnc1)C1C(C(C1c1cccnc1)C(=O)Nc1cccnc1)c1cccnc1': 1, 'Cc1ccc2N3CN(Cc2c1)c1ccc(C)cc1C3': 1, 'CCOC(=O)C=C(C)c1ccncc1': 1, 'CCCCOc1cc(C=Cc2ccncc2)c(OCCCC)cc1C=Cc1ccncc1': 1, 'COCCOCCOCCOc1cc(C=Cc2ccncc2)c(OCCOCCOCCOC)cc1C=Cc1ccncc1': 1, 'OC(=O)c1cc(cc(c1)c1cc(cc(c1)C(O)=O)C(O)=O)C(O)=O': 1, 'c1ccc2c(c1)C13c4ccccc4C45c6ccccc6C62c2ccccc2C(c2ccccc12)(c1ccccc41)C356': 1, 'C1CCC2N=Cc3cc4C=NC5CCCCC5N=Cc5cc6C=NC7CCCCC7N=Cc7cc(C=NC2C1)cc(c7)c1ccc(cc1)c1cc2C=NC7CCCCC7N=Cc7cc(C=NC8CCCCC8N=Cc8cc(C=NC9CCCCC9N=Cc(c2)c1)cc(c8)c1ccc(cc1)c(c6)c5)cc(c7)c1ccc(cc1)c(c3)c4': 1, 'C1CCC2N=Cc3cc4C=NC5CCCCC5N=Cc5cc6C=NC7CCCCC7N=Cc7cc(C=NC2C1)cc(c7)C#Cc1cc2C=NC7CCCCC7N=Cc7cc(C=NC8CCCCC8N=Cc8cc(C=NC9CCCCC9N=Cc(c2)c1)cc(c8)C#Cc(c6)c5)cc(c7)C#Cc(c3)c4': 1, 'Brc1ccc(Br)c2N=C(Nc12)c1ccc(cc1)C1=Nc2c(Br)ccc(Br)c2N1': 1, 'FC(F)(I)C(F)(F)C(F)(F)C(F)(F)C(F)(F)C(F)(F)C(F)(F)C(F)(F)C(F)(F)C(F)(F)I': 1, 'COc1ccc(cc1)C(=O)C=Cc1ccc2ccc3cccc4ccc1c2c34': 1, 'C[Si](C)(Nc1ccccc1)Nc1ccccc1': 1, 'CC(=C)C(=O)OCCCCCCOc1ccc(cc1)C=Cc1ccncc1': 1, 'OC(=O)C1=CC=C(Br)S1': 1, 'C1CCC2C(C1)N1CN2Cc2cc3CN4CN(Cc5cc6CN7CN(Cc8cc(C1)cc(CN1CN(Cc9cc(CN%10CN(Cc(c2)c3)C2CCCCC%102)cc(CN2CN(Cc(c6)c5)C3CCCCC23)c9)C2CCCCC12)c8)C1CCCCC71)C1CCCCC41': 1, 'Fc1c(F)c(F)c(NC(=O)Nc2c(F)c(F)c(F)c(F)c2F)c(F)c1F': 1, 'FC(F)(Br)C(F)(F)C(F)(F)C(F)(F)Br': 1, 'FC(F)(Br)C(F)(F)C(F)(F)C(F)(F)C(F)(F)C(F)(F)Br': 1, 'CC(C)(C)c1cc2cc(c1)c1cc(cc(c1)C(C)(C)C)c1cc3cc(c1)c1cc(cc(c1)C(C)(C)C)c1cc(cc(c1)C(C)(C)C)c1cc4cc(c1)c1cc(cc(c1)C(C)(C)C)c1cc(cc(c1)C(C)(C)C)c1cc5cc(c1)c1cc(cc(c1)C(C)(C)C)c1cc(cc(c1)C(C)(C)C)c1cc6cc(c1)c1cc(cc(c1)C(C)(C)C)c1cc(cc(c1)C(C)(C)C)c1cc(cc2c1)c1cc2cc(c1)c1cc(cc6c1)c1cc(cc5c1)c1cc(cc4c1)c1cc2cc3c1': 1, 'CCC1=C2NC(=C1CC)C(=C1N=C(C(=C1CC)CC)C(=C1NC(=C(Sc3ccccc3)C3=NC(=C2Sc2ccccc2)C(=C3CC)CC)C(=C1CC)CC)Sc1ccccc1)Sc1ccccc1': 1, 'COc1cc2Cc3cc(OC)c(CC45OC4C(=O)C4(Cc6cc(OC)c(Cc7cc(OC)c(Cc1cc2OC)cc7OC)cc6OC)OC4C5=O)cc3OC': 1, 'Cc1cc(nc2nc(NC(=O)c3ccccc3)ccc12)C(Br)Br': 1, 'CN1c2cccc(n2)N(C)c2cccc(n2)N(C)c2cc(cc(N(C)c3cccc1n3)c2O)c1cc2N(C)c3cccc(n3)N(C)c3cccc(n3)N(C)c3cccc(n3)N(C)c(c1)c2O': 1, 'CCOC(=O)C(O)c1ccccc1': 1, 'Fc1ccccc1C(NP(=O)(c1ccccc1)c1ccccc1)P(=O)(c1ccccc1)c1ccccc1': 1, 'Cc1ccc(cc1)N=C1C=C(N(c2ccc(C)cc2)C1(C)O)c1ccncc1': 1, 'COc1cccc(c1)C(O)=O': 1, 'O[Si]1(O)O[Si](O)(O)O[Si](O)(O)O1': 1, 'CC(C)(C)c1cc2N=C(Oc2c(c1)C(C)(C)C)C1=Nc2cc(cc(c2O1)C(C)(C)C)C(C)(C)C': 1, 'C1OB(OCC1N=Cc1cccnc1)c1ccc(cc1)B1OCC(CO1)N=Cc1cccnc1': 1, 'O=C1NC(=C2C(=O)NC(=C12)C1=CC=CO1)C1=CC=CO1': 1, 'O=C1NC(=C2C(=O)NC(=C12)C1=CC=CS1)C1=CC=CS1': 1, 'ClC12C3=C4C5=C1C1=C6C7=C5C5(Cl)C8=C9C%10=C%11C%12=C8C8(Cl)C%13=C%14C%15=C%16C%17=C%18C%19=C%15C%15(Cl)C(=C3C3(Cl)C%20=C2C2=C%21C%22=C%20C%20(Cl)C%23=C%24C%25=C%26C(=C%23C%19(Cl)C%15=C3%20)C%18(Cl)C3(Cl)C%15=C%18C%19=C%20C%23=C%27C(=C%19C%263Cl)C%25(Cl)C(=C3C%27(Cl)C%19=C(C(=C%25C%26=C%19C%23(Cl)C%19=C%23C(=C%27C%28=C%19C%20(Cl)C%18=C%18C(=C%17%15)C%15(Cl)C%16=C%13C%12(Cl)C%15=C(C%28%18Cl)C%11%27Cl)C%10(Cl)C(=C(C6%25Cl)C%26%23Cl)C79Cl)C12Cl)C%213Cl)C%22%24Cl)C%14=C4C58Cl': 1, 'Nc1ncnc2N(N=C(c3ccc(Oc4ccccc4)cc3)c12)C1CCCN(C1)C(=O)C=C': 1, 'O=C(Oc1cc(OC(=O)c2ccccc2)cc(OC(=O)c2ccccc2)c1)c1ccccc1': 1, 'CC1=NN(C(=C1)C)c1nnc(N)nn1': 1, 'Oc1cc(O)c2C(=O)C=C(Oc2c1)c1ccccc1': 1, 'CCC(CC)(O[Si](O)(O)O)c1ccc(cc1)C(CC)(CC)O[Si](O)(O)O': 1, 'CCCCCCCCC1=C(CCCCCCCC)C2=NC(=C3NC(=C(CCCCCCCC)C(=C4C=CC(=N4)C4=CC=C1N4)CCCCCCCC)C=C3)C=C2': 1, 'CC(=O)N1N=C(CC1c1c2ccccc2cc2ccccc12)c1ccc2ccccc2c1': 1, 'CC(=O)N1N=C(CC1c1c2ccccc2cc2ccccc12)C1=CC=CS1': 1, 'COc1cc(OC)c2C(=O)C3(Oc2c1Cl)C(C)CC(=O)C=C3OC': 1, 'CC(C)(C)c1cc(cc(c1)C(C)(C)C)N1C=C(N=N1)c1cc(cc(c1)C1=CN(N=N1)c1cc(cc(c1)C(C)(C)C)C(C)(C)C)C#C': 1, 'OC(=O)c1cc(Br)c(C#N)c(Br)c1': 1, 'CC=C(c1ccc(Cl)cc1)C(C(=C)P(=O)(c1ccccc1)c1ccccc1)=C(c1ccccc1)c1ccccc1': 1, 'BrN1C(=O)c2ccccc2S1(=O)=O': 1, 'O=C(NN=Cc1ccncc1)c1cccnc1': 1, 'S1C=Cc2c1c1SC=Cc1c1nc3ccccc3nc21': 1, 'O=C1CCCN1CCOCCN1CCCC1=O': 1, 'COC1CCC=CCCC1[Te](I)(I)C(I)=C(I)I': 1, 'OC(c1ccccc1)(c1ccccc1)c1ccc(cc1)C(O)(c1ccccc1)c1ccccc1': 1, 'Oc1cccc2C(=O)c3cccc(O)c3C(=O)c12': 1, 'O=N(=O)c1ccc2SC(=Nc3ccncc3)c3cc(ccc3SC(=Nc3ccncc3)c2c1)N(=O)=O': 1, 'CC(=Cc1ccccc1)C=C1SC(=S)N(CC(O)=O)C1=O': 1, 'CCCCCCC1c2cc3C(CCCCCC)c4cc5C(CCCCCC)c6cc7C(CCCCCC)c8cc1c1OCOc2c(C#CC(=C=C(C#CC(C)(C)O)C(C)(C)C)C(C)(C)C)c3OCOc4c(C#CC(=C=C(C#CC(C)(C)O)C(C)(C)C)C(C)(C)C)c5OCOc6c(C#CC(=C=C(C#CC(C)(C)O)C(C)(C)C)C(C)(C)C)c7OCOc8c1C#CC(=C=C(C#CC(C)(C)O)C(C)(C)C)C(C)(C)C': 1, 'CN1Cc2ccc(COCCOCCOCCOCc3ccc(CN(C)Cc4cccc(C1)c4)cc3)cc2': 1, 'ClC1=C(Cl)C(=O)c2ccccc2C1=O': 1, 'OB(O)c1c2ccccc2cc2ccccc12': 1, 'COC(=O)CCCCCCCOc1ccc(cc1)C1=Nc2ccccc2N1': 1, 'IC#CC(c1ccccc1)(c1ccccc1)c1ccccc1': 1, 'BrC#CC(c1ccccc1)(c1ccccc1)c1ccccc1': 1, 'CCN=C(C)N': 1, 'O=C(C=Cc1ccccc1)c1ccc2ccc3cccc4ccc1c2c34': 1, 'CN1C(=O)C(=Nc2ccccc2)c2ccccc12': 1, 'C1CCC2(CC1)N=Cc1ccc(cc1)C=NC1(CCCCC1)C#Cc1cccc(c1)C#CC1(CCCCC1)N=Cc1ccc(cc1)C=NC1(CCCCC1)C#Cc1cccc(c1)C#C2': 1, 'CC(=NNC(N)=S)c1ccc(O)cc1O': 1, 'FC(F)(F)c1ccccc1NC(=O)Nc1ccccc1': 1, 'FC(F)(F)c1ccc(NC(=O)Nc2ccccc2)cc1': 1, 'FC(F)(F)c1ccc(NC(=O)Nc2ccc(cc2)C(F)(F)F)cc1': 1, 'CC1CC2C(C=C1)C1OC3OC(C)(C)OC3C1OC2=O': 1, 'OC(=O)c1ccc(cc1)N1N=C(N=C1c1ccccc1O)c1ccccc1O': 1, 'C1CNCCN1': 1, 'CCCCOc1c(OCCCC)c2c3c4c5c6c7c3c(c(OCCCC)c(OCCCC)c7S(=O)(=O)c6c(OCCCC)c(OCCCC)c5S(=O)(=O)c14)S2(=O)=O': 1, 'Brc1cncc(Br)c1': 1, 'OC(=O)c1cc(Br)cc(Br)c1O': 1, 'OC(=O)c1ccc(Cl)cc1O': 1, 'O=P(CP(=O)(c1ccccc1)c1ccccc1)(c1ccccc1)c1ccccc1': 1, 'CC(C)(C)c1ccc2c(c1)C(c1cc(ccc21)C(C)(C)C)C(c1ccccc1)(c1ccccc1)c1ccccc1': 1, 'O=C1C2=C(SC(=C(S2)C#N)C#N)C(=O)c2ccccc12': 1, 'O=C1N2CN3C4C5N(CN6C7C8N(CN9C%10C%11N(CN%12C%13C%14N(CN%15C%16C%17N(CN%18C%19C%20N(CN1C1C2N2CN4C(=O)N5CN7C(=O)N8CN%10C(=O)N%11CN%13C(=O)N%14CN%16C(=O)N%17CN%19C(=O)N%20CN1C2=O)C%18=O)C%15=O)C%12=O)C9=O)C6=O)C3=O': 1, 'CN(C)c1ccc(cc1)C=Nc1c(F)c(F)c(I)c(F)c1F': 1, 'O=C(c1ccccc1)c1ccncc1': 1, 'O=C1CCC(=O)N1': 1, '[Se]1c2ccccc2C2=C1c1ccccc1[Se]2': 1, 'O=C1CN(C(c2ccccc2)c2ccccc2)C21C(C(C2N(=O)=O)c1ccccc1)c1ccccc1': 1, 'Fc1c(F)c(OC(=O)CCCCC2CCSS2)c(F)c(F)c1I': 1, 'c1cnc2ncccc2c1': 1, 'OB(O)c1c(F)cccc1F': 1, 'Cc1cc(C)c(B(O)O)c(C)c1': 1, 'OB(O)c1ccc(F)cc1': 1, 'OB(O)c1ccc(Cl)cc1': 1, 'COc1ccc(cc1)B(O)O': 1, 'CSc1ccc(cc1)B(O)O': 1, 'CC(C)(C)c1ccc(cc1)B(O)O': 1, 'OB(O)c1cccc2ccccc12': 1, 'OB(O)C1=CC=C(S1)B(O)O': 1, 'CC(O)CC1=NSC(=N1)Nc1cccc(Cl)c1': 1, 'CC1(CC2(C)CC(C)(C1)C(=O)NC2=O)C#CC#Cc1ccc(cc1)C(F)(F)F': 1, 'CC1(CC2(C)CC(C)(C1)C(=O)NC2=O)C#CC#Cc1ccccc1': 1, 'Cc1ccc(cc1)C#CC#CC1(C)CC2(C)CC(C)(C1)C(=O)NC2=O': 1, 'COc1ccc(cc1)C#CC#CC1(C)CC2(C)CC(C)(C1)C(=O)NC2=O': 1, 'O=N(=O)c1cc2N=S=Nc2c(c1)N(=O)=O': 1, 'Nc1cccc2N=S=Nc12': 1, 'O1c2ccccc2[Te]c2ccccc12': 1, 'CC(NC(=O)c1ccccc1F)c1ccccc1': 1, 'CC(NC(=O)c1ccccc1I)c1ccccc1': 1, 'CCCSC1=C(SCCC)SC(S1)=C1SC2=C3NC(=C2S1)C(C)(C)C1=C2SC(SC2=C(N1)C(C)(C)C1=C2SC(SC2=C(N1)C(C)(C)C1=C2SC(SC2=C(N1)C3(C)C)=C1SC(=C(SCCC)S1)SCCC)=C1SC(=C(SCCC)S1)SCCC)=C1SC(=C(SCCC)S1)SCCC': 1, 'OB1OCc2cc(F)ccc12': 1, 'BrC12c3ccccc3C(c3ccccc13)C13SC4=C(SC21C(=O)N(C1CCC1)C3=O)C(=O)N(C1CCC1)C4=O': 1, 'CC(C)CC1CC(C)C2(N1C(=O)C1=CN(Cc3ccccc3)C=N1)C(=O)Nc1ccc(F)cc21': 1, 'CC(=NO)C(C)=NO': 1, 'CCCN1C(=O)NC(=O)C=C1N=Nc1ccc(cc1)C(C)(C)C': 1, 'CCCN1C=C(N=Nc2ccc(cc2)C(C)(C)C)C(=O)NC1=O': 1, 'CCC1c2cc(C(CC)c3cc(C(CC)c4cc(C(CC)c5cc(C(CC)c6cc(C(CC)c7cc1c(O)cc7O)c(O)cc6O)c(O)cc5O)c(O)cc4O)c(O)cc3O)c(O)cc2O': 1, 'NC(=O)CN(Cc1ccc(CN(CC(N)=O)Cc2ccccn2)cc1)Cc1ccccn1': 1, 'O=CN1c2ccccc2c2ccccc12': 1, 'CC(=O)N1c2ccccc2c2ccccc12': 1, 'O=Cc1ccc2ccc3cccc4ccc1c2c34': 1, 'CC(=O)c1ccc2ccc3cccc4ccc1c2c34': 1, 'O=S1(=O)NC(=S)c2ccccc12': 1, 'CNC(=S)NN=C(C)c1ccc(O)cc1O': 1, 'CC1=NN(C(=C1)O)c1nc(C)cc(C)n1': 1, 'CC(C)c1cccc(C(C)C)c1N=P(P(c1ccccc1)c1ccccc1)(c1ccccc1)c1ccccc1': 1, 'CC1CCC2CN(CC2C(C)O1)S(=O)(=O)c1ccc(C)cc1': 1, 'BrC#Cc1ccc(cc1)C#CBr': 1, 'IC#Cc1cccc(c1)C#CI': 1, 'O=C(Nc1cccnc1)c1ccccc1': 1, 'OC(=O)c1ccc(F)c(c1)N(=O)=O': 1, 'COc1ccc(N)cc1': 1, 'Oc1cccc(O)c1Cl': 1, 'c1cncc(c1)C=Cc1ccncc1': 1, 'CC(C)(C)N1P(=S)(Nc2cc(cc(c2)C(F)(F)F)C(F)(F)F)N(C(C)(C)C)P1(=S)Nc1cc(cc(c1)C(F)(F)F)C(F)(F)F': 1, 'CC1=C2SC(SC2=C(C)N1c1ccccc1)=C1SC2=C(C)N(C(=C2S1)C)c1ccccc1': 1, 'OC1(OC2N(c3ccccc3C=C2Br)C(=C1)c1ccccc1)C(F)(F)F': 1, 'COc1cc2Cc3cc(OCN4C=Nc5ccccc45)c(OC)cc3Cc3cc(OCN4C=Nc5ccccc45)c(OC)cc3Cc2cc1OCN1C=Nc2ccccc12': 1, 'COC(=O)C1=C(N(C(S1)=C1SC(=C(N1c1ccccc1)C(=O)OC)C(=O)OC)c1ccccc1)C(=O)OC': 1, 'CCOC(=O)c1ccccn1': 1, 'OC(=O)Cc1cccc(F)c1': 1, 'OC(=O)Cc1ccc(F)cc1': 1, 'NC(=O)C(O)C(O)C(N)=O': 1, 'CNC(=O)C(O)C(O)C(=O)NC': 1, 'CCCCNC(=O)C(O)C(O)C(=O)NCCCC': 1, 'Fc1cccc(c1)C(=O)Nc1cccc(c1)C#C': 1, 'Brc1cccc(c1)C(=O)Nc1cccc(c1)C#C': 1, 'Clc1cccc(c1)C(=O)Nc1cccc(c1)C#C': 1, 'FC(F)(F)c1cccc(c1)C(=O)Nc1cccc(c1)C#C': 1, 'Fc1ccccc1C(=O)Nc1cccc(c1)C#C': 1, 'Clc1ccc(cc1)C(=O)Nc1cccc(c1)C#C': 1, 'Brc1ccc(cc1)C(=O)Nc1cccc(c1)C#C': 1, 'FC(F)(F)c1ccc(cc1)C(=O)Nc1cccc(c1)C#C': 1, 'O=C(Nc1cccc(c1)C#C)c1ccccc1': 1, 'c1ccc2c(c1)N(c1cnc(cn1)N1c3ccccc3c3ccccc13)c1ccccc21': 1, 'c1ccc2c(c1)N(c1ccc(nn1)N1c3ccccc3c3ccccc13)c1ccccc21': 1, 'CCCCNC(=O)NC1=NC(=CC(=O)N1)N(CCCC)CCCC': 1, 'CCCC1=Nc2c(C)cc(cc2N1Cc1ccc(cc1)c1ccccc1C(O)=O)C1=Nc2ccccc2N1C': 1, 'CCCCOc1ccc2c3ccc4OC5CC(c24)c2c(O5)ccc4c(CNC(=O)NCc5c(OCCCC)ccc6c5ccc5OC7CC(c8c(O7)ccc7c(CNC(=O)NCc13)c(OCCCC)ccc87)c65)c(OCCCC)ccc24': 1, 'CC(=O)N1C=CN(C=C1)C(C)=O': 1, 'CC(=O)N1C=CN(C(C)=O)C(=C1C)C': 1, 'CC(=O)N1C=C(C)N(C=C1C)C(C)=O': 1, 'CC1=C(Nc2ccccc12)C(C1=C(C)c2ccccc2N1)C1=C(C)c2ccccc2N1': 1, 'O=C1C(=O)C2=C1NCc1cccc(CNC3=C(NCc4cccc(CN2)c4)C(=O)C3=O)c1': 1, 'S(Sc1ccccn1)c1ccccn1': 1, 'CCCCC1=C2SC(=C1CCCC)C#CC1=C(CCCC)C(=C(S1)C#CC1=C(CCCC)C(=C(S1)C#CC1=C(CCCC)C(=C(S1)C#CC1=C(CCCC)C(=C(S1)C#CC1=C(CCCC)C(=C(S1)C#CC1=C(CCCC)C(=C(S1)C#CC1=C(CCCC)C(=C(S1)C=C2)CCCC)CCCC)CCCC)CCCC)CCCC)CCCC)CCCC': 1, 'FC(F)(F)c1cc(cc(c1)C(F)(F)F)C#CI': 1, 'OC(=O)CCCC1=CNc2ccccc12': 1, 'OC(=O)c1c2ccccc2c(C(O)=O)c2ccccc12': 1, 'OC(=O)c1cccc(c1)C#N': 1, 'COc1ccc(cc1)C(N)=O': 1, 'CC1CC2(O)OOC(C)(C)C2=CC2=C1C1C3C(=O)C(=C4CC(=C(C)C)C(=O)CC(C)C34C2(C)C1=O)C': 1, 'CC1=CC(=O)N=C(N)N1': 1, 'OC(=O)C12CC3CC(C1)CC(C3)(C2)c1ccc(cc1)c1ccc(cc1)c1ccc(cc1)C12CC3CC(CC(C3)(C1)C(O)=O)C2': 1, 'CCOc1cc2Cc3cc(OCC)c(Cc4cc(OCC)c(cc4OCC)C(c4cc(OCC)c(Cc5cc(OCC)c(Cc1cc2OCC)cc5OCC)cc4OCC)=C(c1ccccc1)c1ccccc1)cc3OCC': 1, 'COC(=S)Nc1ccccc1': 1, 'CCOC(=S)Nc1ccccc1': 1, 'COc1cc(cc(OC)c1OC)C(O)=O': 1, 'FC1=CC([C]=CC1=C(C#N)C#N)=C(C#N)C#N': 1, 'OB1OCc2cc(Oc3ccc(cc3)C#N)ccc12': 1, 'CCOc1cc2Cc3cc(OCC)c(CC4=C(NCCC(C)C)C(=O)C(=C(NCCC(C)C)C4=O)Cc4cc(OCC)c(Cc5cc(OCC)c(Cc1cc2OCC)cc5OCC)cc4OCC)cc3OCC': 1, 'CCCCCNC1=C2Cc3cc(OCC)c(Cc4cc(OCC)c(Cc5cc(OCC)c(Cc6cc(OCC)c(CC(=C(NCCCCC)C2=O)C1=O)cc6OCC)cc5OCC)cc4OCC)cc3OCC': 1, 'c1cc(ccn1)N=Cc1ccc(cc1)C=Nc1ccncc1': 1, 'C1CNCCNCCNCCN1': 1, 'CC(=O)NC1=NC=CS1': 1, 'CC(=O)NC1=NC=C(C)S1': 1, 'CCC(=O)NC1=NC=C(C)S1': 1, 'Brc1c2ccccc2[c]c2ccccc12': 1, 'c1ccc(C=Cc2ccc(cc2)c2ccncc2)nc1': 1, 'C1CCCCCOc2ccc(COCc3cccc(n3)c3cccc(COCc4ccc(OCCCC1)cc4)n3)cc2': 1, 'C1CCCCc2ccc(COCC3=CN(N=N3)c3cccc(OCc4ccc(CCCC1)cc4)c3)cc2': 1, 'C1CCCCc2ccc(CN3C=C(N=N3)c3cccc(n3)C3=CN(Cc4ccc(CCCC1)cc4)N=N3)cc2': 1, 'C1COc2cccc(c2)N2C=C(CCCOc3cccc(c3)N3C=C(CCCOc4cccc(c4)N4C=C(C1)N=N4)N=N3)N=N2': 1, 'S1N(Sc2cc3ccccc3cc12)N1Sc2cc3ccccc3cc2S1': 1, 'CC(C)COc1ccncc1NC(=O)c1cc(C(=O)Nc2cnccc2OCC(C)C)c(OCC(C)C)cc1OCC(C)C': 1, 'N#CC(=Cc1c2ccccc2cc2ccccc12)c1ccccc1': 1, 'Cc1ccc(cc1)C(=Cc1ccc2ccccc2c1)C#N': 1, 'COc1ccc(cc1)C(=Cc1ccc2ccc3cccc4ccc1c2c34)C#N': 1, 'Cc1ccc(C)c(c1N(=O)=O)N(=O)=O': 1, 'CC(C)CC1CN(Cc2ccccc2)C(CC(C)C)CN(Cc2ccccc2)C(CC(C)C)CN(Cc2ccccc2)C(CC(C)C)CN1Cc1ccccc1': 1, 'CCC1CN(Cc2ccccc2)C(CC)CN(Cc2ccccc2)C(CC)CN(Cc2ccccc2)C(CC)CN1Cc1ccccc1': 1, 'CC1(C)Oc2ccc3C=CC(=O)Oc3c2C=C1': 1, 'CCOC(=O)C1=C(C)C(=C(N1)C=O)C': 1, 'CC=CCC(NC(C)=O)c1ccc(F)cc1': 1, 'Fc1c(F)c(F)c2B(Br)c3c(F)c(F)c(F)c(F)c3B(Br)c2c1F': 1, 'CN(C)c1ccc(cc1)C#N': 1, 'CCOC(=O)C1=C(C)C(=C(N1)C=Nc1cc(ccc1N)N(=O)=O)C': 1, 'CC1(C)C2CCC(O)(C1C2)C(O)=O': 1, 'IC#Cc1ccc2ccccc2n1': 1, 'Fc1c(F)c(F)c(c(F)c1F)C1=C2C(=C(F)C(F)(F)C(=C2C(F)(c2c(F)c(F)c(F)c(F)c2F)c2c(F)c(F)c(F)c(F)c12)F)F': 1, 'Fc1cc(I)c2NC(=S)Sc2c1F': 1, 'CC(C)(C)c1cc(cc(c1)C(C)(C)C)N1C=C(CNC(=O)Nc2ccc3C(=O)N(CC(c4ccccc4)c4ccccc4)C(=O)c4cccc2c34)N=N1': 1, 'O=C1NC(=NO1)C1=NOC(=O)N1': 1, 'Cc1ccc2OC(=O)C(=C(O)c2c1)Nc1ccc(cc1)N(=O)=O': 1, 'CCC=C1CN2C(=Nc3ccccc23)CSc2ccccc12': 1, 'CC1=CCCN2C(=Nc3ccccc23)CSCc2ccccc12': 1, 'c1ccc(cc1)N=Nc1cccnc1': 1, 'Oc1ccc(cc1O)C12CC3CC(C1)CC(C3)(C2)c1ccc(O)c(O)c1': 1, 'C1CSC(S1)=CC=C1SCCS1': 1, 'OC(=O)C1=C(Br)C=CS1': 1, 'OC(=O)c1ccc(Cl)cc1Cl': 1, 'CC1=C(C=C(S1)c1ccncc1)C1=C(C2=C(C)SC(=C2)c2ccncc2)C(F)(F)C(F)(F)C1(F)F': 1, 'O=C(NN=Cc1c2ccccc2cc2ccccc12)c1ccncc1': 1, 'Oc1cc2C=NC3CCCCC3N=Cc3cc(O)c(C=NC4CCCCC4N=Cc4ccc(cc4)C=NC4CCCCC4N=Cc1cc2O)cc3O': 1, 'CC(C)(C)c1cc(cc(c1)C(C)(C)C)N1C=C(N=N1)c1cccc(n1)c1cc(cc(c1)C(C)(C)C)C(C)(C)C': 1, 'CC(C)(C)c1cc(cc(c1)C(C)(C)C)N1C=C(N=N1)c1cccc(n1)C1=CN(N=N1)c1cc(cc(c1)C(C)(C)C)C(C)(C)C': 1, 'OC1(CCC(O)(CC1)C#C)C#C': 1, 'Cc1cc(C)c(B2Nc3cccc4NB(C5=CC=C2N5c34)c2c(C)cc(C)cc2C)c(C)c1': 1, 'OC(=O)c1ccc(cc1)C1=C2NC(=C(c3ccc(cc3)C(O)=O)C3=NC(=C(C4=CC=C(N4)C(=C4C=CC1=N4)c1ccc(cc1)C(O)=O)c1ccc(cc1)C(O)=O)C=C3)C=C2': 1, 'FC(I)(S(=O)(=O)c1ccccc1)S(=O)(=O)c1ccccc1': 1, 'Nc1c(F)c(F)c2c(F)c(F)c(F)c(F)c2c1F': 1, 'CC(=O)OC(=O)c1c2ccccc2cc2ccccc12': 1, 'CCCN1C=Nc2c(N)ncnc12': 1, 'O=N(=O)c1cccc(c1)N(=O)=O': 1, 'CN1Cc2cccc(CN(C)Cc3c(F)c(F)c(COCCOCCOCc4c(F)c(F)c(C1)c(F)c4F)c(F)c3F)c2': 1, 'Cc1cccc(C)c1N=CC1=CC=C(N1)c1ccccc1': 1, 'CC(C)C(F)(F)C(O)CC(=O)c1ccccc1': 1, 'O=C(C=Cc1ccc2ccc3cccc4ccc1c2c34)c1ccc2ccccc2c1': 1, 'O=C(C=Cc1ccc2ccc3cccc4ccc1c2c34)C1=CC=CS1': 1, 'N#CC(=Cc1ccc2ccc3cccc4ccc1c2c34)c1ccccc1': 1, 'CCOC(=O)C1=C2C=CC(=N2)C(=C2NC(=C(C(=O)OCC)C3=NC(=C(C(=O)OCC)C4=CC=C1N4)C=C3)C=C2)C(=O)OCC': 1, 'OC(=O)c1ccc(Cl)c(Cl)c1': 1, 'Cc1cccc(C)c1N=C(CCC(=Nc1c(C)cccc1C)c1ccccc1)c1ccccc1': 1, 'CCC(CC)(O[Si](O)(O)OC(C)(C)C)c1ccc(cc1)C(CC)(CC)O[Si](O)(O)OC(C)(C)C': 1, 'c1ccc(cc1)C1C(C(C1c1ccncc1)c1ccncc1)c1ccccc1': 1, 'O=C(C=Cc1c2ccccc2cc2ccccc12)c1ccccc1': 1, 'COc1ccc(cc1)C(=O)C=Cc1c2ccccc2cc2ccccc12': 1, 'O=C(C=Cc1c2ccccc2cc2ccccc12)c1cccc2ccccc12': 1, 'OC(=O)c1ccc(Nc2cc(Nc3ccc(cc3)C(O)=O)cc(Nc3ccc(cc3)C(O)=O)c2)cc1': 1, 'C(C(C(Cc1ccccc1)c1ccccc1)c1ccccc1)c1ccccc1': 1, 'Oc1ccc(Cl)cc1C=Nc1cccnc1': 1, 'Oc1c(Br)cc(Br)cc1C=Nc1cccnc1': 1, 'Ic1ccc(cc1)c1ccc(I)cc1': 1, 'CC(C)(C)c1cc(c(c(O)c1O)N(=O)=O)C(C)(C)C': 1, 'CC(C)(C)N1P2N(C(C)(C)C)P1(=O)N(P1N(C(C)(C)C)P(=O)(N2C(C)(C)C)N1C(C)(C)C)C(C)(C)C': 1, 'CC(C)(C)N1P2N(C(C)(C)C)P(=[Se])(N2C(C)(C)C)N(P2N(C(C)(C)C)P1(=[Se])N2C(C)(C)C)C(C)(C)C': 1, 'C1COCCOCCOCCOCCO1': 1, 'COc1ccccc1C(O)=O': 1, 'CC1=CC(=NN1)C=Nc1ccccc1O': 1, 'CC(C)(C)c1ccc(cc1)C(c1ccc(OCC#CC#CCOc2ccc(cc2)C(c2ccc(cc2)C(C)(C)C)(c2ccc(cc2)C(C)(C)C)c2ccc(cc2)C(C)(C)C)cc1)(c1ccc(cc1)C(C)(C)C)c1ccc(cc1)C(C)(C)C': 1, 'CC(C)(C)c1cc(OCC#CC#CCOc2cc(cc(c2)C(C)(C)C)C(C)(C)C)cc(c1)C(C)(C)C': 1, 'CC(C)[Si](OCCC#CC#CCOCc1cc(cc(c1)N(=O)=O)N(=O)=O)(C(C)C)C(C)C': 1, 'CCc1c(CN2C=C(C=N2)c2ccccc2)c(CC)c(CN2C=C(C=N2)c2ccccc2)c(CC)c1CN1C=C(C=N1)c1ccccc1': 1, 'FC(F)(F)C(Cl)Br': 1, 'FC(F)(F)S(=O)(=O)OBr(=O)=O': 1, 'OC(=O)CNC(=O)OCC1c2ccccc2c2ccccc12': 1, 'FC(F)(F)S(=O)(=O)Oc1cccc2CCC3(CCC(=O)N3)c12': 1, 'CCCCOc1cc(OC)cc2C3Oc4ccccc4C(=O)C3(C(C)(O)Cc12)S(=O)(=O)c1ccc(C)cc1': 1, 'Cc1ccc(cc1)C1=C(c2ccc(C)cc2)c2ccccc2C(S1)=Cc1nc(c2ccc(C)cc2)c(c2ccc(C)cc2)c2ccccc12': 1, 'O=N(=O)c1cc(c(NC2=NON=C2Nc2c(cc(cc2N(=O)=O)N(=O)=O)N(=O)=O)c(c1)N(=O)=O)N(=O)=O': 1, 'CC(C)(C)c1ccc(Nc2c(Cl)c3c4c(Cl)c(Nc5ccc(cc5)C(C)(C)C)c(Cl)c5c6c(Cl)c(Nc7ccc(cc7)C(C)(C)C)c(Cl)c7c8c(Cl)c(Nc9ccc(cc9)C(C)(C)C)c(Cl)c9c%10c(Cl)c(Nc%11ccc(cc%11)C(C)(C)C)c(Cl)c%11c%12c(Cl)c(Nc%13ccc(cc%13)C(C)(C)C)c(Cl)c%13c(c2Cl)c3c2c(c45)c(c67)c(c89)c(c%10%11)c2c%12%13)cc1': 1, 'CC(C)c1ccc(Nc2c(Cl)c3c4c(Cl)c(Nc5ccc(cc5)C(C)C)c(Cl)c5c6c(Cl)c(Nc7ccc(cc7)C(C)C)c(Cl)c7c8c(Cl)c(Nc9ccc(cc9)C(C)C)c(Cl)c9c%10c(Cl)c(Nc%11ccc(cc%11)C(C)C)c(Cl)c%11c%12c(Cl)c(Nc%13ccc(cc%13)C(C)C)c(Cl)c%13c(c2Cl)c3c2c(c45)c(c67)c(c89)c(c%10%11)c2c%12%13)cc1': 1, 'CN(C)c1ccc(Nc2c(Cl)c3c4c(Cl)c(Nc5ccc(cc5)N(C)C)c(Cl)c5c6c(Cl)c(Nc7ccc(cc7)N(C)C)c(Cl)c7c8c(Cl)c(Nc9ccc(cc9)N(C)C)c(Cl)c9c%10c(Cl)c(Nc%11ccc(cc%11)N(C)C)c(Cl)c%11c%12c(Cl)c(Nc%13ccc(cc%13)N(C)C)c(Cl)c%13c(c2Cl)c3c2c(c45)c(c67)c(c89)c(c%10%11)c2c%12%13)cc1': 1, 'S=P12c3c4Oc5cccc(Oc6cccc(Oc3ccc4)c16)c25': 1, 'CC(=O)Sc1ccc(cc1)C#CC1=C2NC(=C(c3cc(cc(c3)C(C)(C)C)C(C)(C)C)C3=NC(=C(C#Cc4ccc(SC(C)=O)cc4)C4=CC=C(N4)C(=C4C=CC1=N4)c1cc(cc(c1)C(C)(C)C)C(C)(C)C)C=C3)C=C2': 1, 'COc1cc2Cc3cc(OC)c(Cc4cc(OCCSc5ccncc5)c(Cc5cc(OC)c(Cc6cc(OC)c(Cc1cc2OC)cc6OC)cc5OC)cc4OCCSc1ccncc1)cc3OC': 1, 'CCOC(=O)Cc1ccccc1Nc1c(Cl)cccc1Cl': 1, 'CC(C)Cc1ccc(cc1)C(CB1OC(C)(C)C(C)(C)O1)C(O)=O': 1, 'NC(=O)NN=CC1=CC=C(O1)N(=O)=O': 1, 'OC(=O)c1ccc(F)cc1F': 1, 'c1ccc(cc1)c1cc(nc2ccc(cc12)c1ccncc1)c1ccccn1': 1, 'CN1C=NC2=C1N=C(N)NC2=O': 1, 'Oc1ccc(cc1)C1=CC(=O)c2c(O)cc(O)cc2O1': 1, 'CN1C(Sc2ccccc12)=NN=C1N(C)c2ccccc2N1C': 1, 'CN(C)C(=NN=C1Sc2ccccc2N1C)N(C)C': 1, 'CCC(C(C)O)N1N=CN(C1=O)c1ccc(cc1)N1CCN(CC1)c1ccc(OCC2COC(C2)(CN2C=NC=N2)c2ccc(F)cc2F)cc1': 1, 'COC(C(=O)Oc1cc2Cc3cc(OCC4CCCCC4)c(Cc4cc(OCC5CCCCC5)c(Cc5cc(OCC6CCCCC6)c(Cc6cc(OCC7CCCCC7)c(Cc1cc2OCC1CCCCC1)cc6OCC1CCCCC1)cc5OCC1CCCCC1)cc4OCC1CCCCC1)cc3OCC1CCCCC1)(c1ccccc1)C(F)(F)F': 1, 'CC(CC(C)(C)O)=NNC(=O)c1ccncc1': 1, 'O=C1N([Se]c2ccccc12)c1ccccc1': 1, 'O=C1N2[Se]c3ccccc3C2=Nc2ccccc12': 1, 'CC1CCC(C(C)C)C2(C1)CC(C)(C)N(C2N(c1ccccc1)c1ccccc1)c1c(cccc1C(C)C)C(C)C': 1, 'N#Cc1cc(C#N)c2Oc3cc4Oc5nc(Oc6cc(Oc1n2)cc(Oc1nc(Oc(c3)c4)c(cc1C#N)C#N)c6)c(cc5C#N)C#N': 1, 'OC(=O)c1ccc(SSc2ccc(cc2)C(O)=O)cc1': 1, 'C1CC(CCC1NC1(c2ccccc2)c2ccccc2Oc2ccccc12)NC1(c2ccccc2)c2ccccc2Oc2ccccc12': 1, 'OC(=CC(=O)c1c(F)c(F)c(F)c(F)c1F)c1c(F)c(F)c(F)c(F)c1F': 1, 'OC(=CC(=O)C=C(O)c1c(F)c(F)c(F)c(F)c1F)c1c(F)c(F)c(F)c(F)c1F': 1, 'Oc1c(Cl)cc(Cl)cc1Cl': 1, 'Oc1c(Br)cc(Br)cc1Br': 1, 'Cc1ccnc(c1)c1nccc2C3C4c5c(ccnc5c5cc(C)ccn5)C(C(c12)c1c3ccnc1c1cc(C)ccn1)c1ccnc(c2cc(C)ccn2)c41': 1, 'Cc1ccc(cc1)C1C=Cc2cc(Br)c(Br)cc2C1O': 1, 'CN(C)c1ccc(cc1)C=NNC(N)=S': 1, 'CC(Oc1ccc(COc2ccc(Cl)cc2)cc1)C(O)=O': 1, 'CN1N(c2ccccc2)C(=O)C(=C1C)N': 1, 'CCc1ccc(cc1)C#Cc1nc(N)c2ccccc2c1c1ccc(CC)cc1': 1, 'Nc1ccc(cc1)S(=O)(=O)Nc1ccc(Cl)nn1': 1, 'CC(C)c1cccc(C(C)C)c1P([As](Cl)P(c1c(cccc1C(C)C)C(C)C)c1c(cccc1C(C)C)C(C)C)c1c(cccc1C(C)C)C(C)C': 1, 'COc1ccc(cc1)C(CO)N1Cc2ccc(CCCCCCCCCc3ccc(COc4cccc(c4)N4C=C(C1)N=N4)cc3)cc2': 1, 'CC1=NN(Cc2ccc(cc2)C#N)C(=C1)C': 1, 'CSC1=C(C)SC(S1)=C1SC(=C(SC)S1)C': 1, 'CC1N(C(CO)Cc2c(CCC(C)(C)O)cccc12)C(=O)Cc1c(Cl)cccc1Cl': 1, 'FC(F)(F)c1cc2c(cc3c(cc(cc3C(F)(F)F)C(F)(F)F)c2C(F)(F)F)c(c1)C(F)(F)F': 1, 'FC(F)(F)c1cc2c(cc(c3c(cc4c(c1cc(c4C(F)(F)F)C(F)(F)F)c23)C(F)(F)F)C(F)(F)F)C(F)(F)F': 1, 'FC(F)(F)c1cc2c3cc(c(cc3c3cc(c(cc3c2c(c1)C(F)(F)F)C(F)(F)F)C(F)(F)F)C(F)(F)F)C(F)(F)F': 1, 'FC(F)(F)c1cc2c(cc3c(cc(c(c3C(F)(F)F)C(F)(F)F)C(F)(F)F)c2C(F)(F)F)c(c1)C(F)(F)F': 1, 'C12=C3C4=C5C6=C1C1=C7C8=C6C6=C9C%10=C8C8=C%11C%12=C%13C(=C78)C7=C1C2=C1C2=C3C3=C8C%14=C2C2=C%15C(=C%13C7=C12)C1=C%12C2=C%11C%10=C7C9=C9C(=C56)C(=C43)C3=C8C4=C5C(=C93)C7=C2C5=C1C%15=C%144': 1, 'Cc1cc(C)cc(OCC2CNC(=O)O2)c1': 1, 'O=C1NCc2ccc(CNC(=O)C34CC5CC(C3)CC(C5)(C4)C(=O)NCc3ccc(CNC(=O)C45CC6CC(CC1(C6)C4)C5)cc3)cc2': 1, 'Brc1ccc2ccc3cccc4ccc1c2c34': 1, 'NC(=C(N[As]1N=C(C(=N1)C(F)(F)F)C(F)(F)F)C(F)(F)F)C(F)(F)F': 1, 'Clc1ccc(cc1)C1=CSC(=N1)NC=O': 1, 'CN1C=CN(Cc2ccccc2)C1=[Se]': 1, 'Cc1cc(C(c2ccccc2)c2ccccc2)c(P(Cl)I)c(c1)C(c1ccccc1)c1ccccc1': 1, 'c1ccc(cc1)C(=Cc1ccc(cc1)c1ccc(cc1)C=C(c1ccccc1)c1ccccc1)c1ccccc1': 1, 'COc1cc(OC)cc(c1)C1=C(c2cc(OC)cc(OC)c2)C2=NC(=C3NC(=C(c4cc(cc(c4)C(F)(F)F)C(F)(F)F)C(=C4C=CC(=N4)C4=CC=C1N4)c1cc(cc(c1)C(F)(F)F)C(F)(F)F)C=C3)C=C2': 1, 'COc1ccc(C=Cc2ccc(O)cc2)cc1OC': 1, 'O=Cc1cc2ccccc2c2ccccc12': 1, 'CC(=O)c1cc2ccccc2c2ccccc12': 1, 'CCOC(=O)C1=CC(=C2C=CC(=CC=C12)N=Nc1ccc(C)cc1)C(=O)OCC': 1, 'c1cc2cc3ccc2cc1c1ccc2cc(ccc2c1)c1ccc2cc(ccc2c1)c1ccc2cc(ccc2c1)c1ccc2cc(ccc2c1)c1ccc2cc(ccc2c1)c1ccc2cc3ccc2c1': 1, 'c1ccc2cnncc2c1': 1, 'CCCCNC(=S)NC1=Nc2ccccc2N1': 1, 'c1ccc2c(c1)cnc1nc3ncc4ccccc4c3cc21': 1, 'c1ccc2C3c4ccccc4C(c2c1)c1cc2nc4c5cccc6c7nc8cc9C%10c%11ccccc%11C(c%11ccccc%10%11)c9cc8nc7c7cccc(c4nc2cc31)c7c56': 1, 'OC(=O)c1cc2Cc3cc(cc4Cc5cc(cc6Cc7cc(cc(Cc(c1)c2OCCOCCOc34)c7OCCOCCOc56)C(O)=O)C(O)=O)C(O)=O': 1, 'COc1cc(C=Cc2ccncc2)c(OC)cc1C=Cc1ccncc1': 1, 'Nc1nc(N)nc(Nc2nc(N)nc(N)n2)n1': 1, 'O=C1NCc2ccc(Oc3ccc(CNC(=O)NCc4ccc(Oc5ccc(CN1)cc5)cc4)cc3)cc2': 1, 'CCCCCCCCCCCCN1C=Nc2c(N)ncnc12': 1, 'CC(=O)Oc1ccc(cc1)C1C(C(C1c1ccc(OC(C)=O)cc1)c1ccncc1)c1ccncc1': 1, 'OC(=O)c1ccc2NC=Cc2c1': 1, 'CCCN1C(=O)C(SC1=S)=C1SC(=S)N(CCC)C1=O': 1, 'CCCCCc1ccc(cc1)C#Cc1ccncc1': 1, 'OC(=O)c1ccc2OCOc2c1': 1, 'O=C(N1c2ccccc2c2ccccc12)c1ccccc1': 1, 'CC(C)c1cccc(C(C)C)c1NC(Nc1c(cccc1C(C)C)C(C)C)=NC(=O)c1ccccc1': 1, 'COC(=O)C(Cc1ccccc1)NC(=O)C(Cc1ccccc1)NC(=O)C(C)(C)NC(=O)C(Cc1ccccc1)NC(=O)C(Cc1ccccc1)NC(=O)OC(C)(C)C': 1, '[N]1SSN=C1c1ccccc1': 1, 'Fc1c(F)c(F)c(C2=N[Se][Se][N]2)c(F)c1F': 1, 'CCCOc1ccc(cc1)N=Nc1c(F)c(F)c(I)c(F)c1F': 1, 'CCCOc1ccc(cc1)N=Nc1c(F)cc(I)c(F)c1F': 1, 'CCCOc1ccc(cc1)N=Nc1cc(F)c(I)c(F)c1F': 1, 'CC1(C)C2=CC3=C4c5ccccc5c5cccc(c45)C(C)(C)C3=CC2=C2c3ccccc3c3cccc1c23': 1, 'Nc1nc(F)c(F)c(NCc2c3ccccc3cc3ccccc23)c1F': 1, 'S1N=C2C(=CC=C(C=Cc3ccncc3)C2=N1)C=Cc1ccncc1': 1, 'Cc1ccc(cc1)N1c2ccccc2c2ccccc12': 1, 'O=Cc1ccc(cc1)N1c2ccccc2c2ccccc12': 1, 'CC1CC(C)CC(=O)C1': 1, 'CC(C)c1cc(C(C)C)c(c(c1)C(C)C)[Si]1(c2c(cc(cc2C(C)C)C(C)C)C(C)C)[Si]2(c3c(cc(cc3C(C)C)C(C)C)C(C)C)[Si]34[Si]5(C6(C)C(=C(C)C(=C6C)C)C)[Si](c6c(cc(cc6C(C)C)C(C)C)C(C)C)(c6c(cc(cc6C(C)C)C(C)C)C(C)C)[Si]13[Si]245': 1, 'CCCCC(CC)CN1C(=O)C(c2cc(Cl)c(Cl)c(Cl)c12)=C1C(=O)Oc2cc3c(OC(=O)C3=C3C(=O)N(CC(CC)CCCC)c4c(Cl)c(Cl)c(Cl)cc34)cc12': 1, 'CN(C)c1cc(cc(F)c1N(=O)=O)N1CCOCC1': 1, 'S1c2ccc3cccc4c5cccc6ccc1c(c2c34)c56': 1, 'Cc1cc(cc(C)c1OCC(O)=O)C(c1cc(C)c(OCC(O)=O)c(C)c1)c1ccccc1N(=O)=O': 1, 'Cc1cc(C)c(OCC(O)=O)c(c1)C(c1cc(C)cc(C)c1OCC(O)=O)c1ccccc1N(=O)=O': 1, 'COc1cc(OC)c2Cc3c(OC)cc(OC)c(Cc4ccc(Cc5c(OC)cc(OC)c(Cc6c(OC)cc(OC)c(Cc7ccc(Cc1c2OC)cc7)c6OC)c5OC)cc4)c3OC': 1, 'BrC1=CC(=NC#N)C(=CC1=NC#N)Br': 1, 'CC(C)(C)c1cc2c3nc4ccccc4nc3c3cc(cc4c5nc6cc7C8c9ccccc9C(c9ccccc89)c7cc6nc5c(c1)c2c34)C(C)(C)C': 1, 'CCCNC(=O)CN1C2C(NC1=O)N(C)C(=O)N2C': 1, 'CC(=O)OCC(OC(C)=O)C(OC(C)=O)C(OC(C)=O)C(CN(C(C)=O)C(=C)c1cc(Br)ccc1OC(C)=O)OC(C)=O': 1, 'CC12CC(=O)NC1(C)NC(=O)C2': 1, 'c1ccc2c(c1)c1cccc3cccc2c13': 1, 'OC(=O)C1=C2C(=CS1)C1=CSC(=C1C1=C(SC=C1C1=CSC(=C21)C(O)=O)C(O)=O)C(O)=O': 1, 'CCCC(=O)N1N=C(CC1c1ccccc1O)C1=C(C)N=C2C=C(C)C=CN12': 1, 'N1C(=Nc2ccccc12)C=Cc1ccncc1': 1, 'O=C(Nc1ccccc1N=Cc1c2ccccc2cc2ccccc12)c1cccc(n1)C(=O)Nc1ccccc1N=Cc1c2ccccc2cc2ccccc12': 1, 'CC(C)(C)c1cc2CN(CCc3ccc(I)cc3)COc2c(c1)C(C)(C)C': 1, 'CC(NC(=O)C1=CC(=C(C)S1)C1=C(C2=C(C)SC(=C2)C(=O)NC(C)c2cccc3ccccc23)C(F)(F)C(F)(F)C1(F)F)c1cccc2ccccc12': 1, 'CC(C)c1ccc(C)cc1O': 1, 'COc1cc(CC=C)ccc1O': 1, 'CC(=O)c1cccc2cccc(O)c12': 1, 'CCC(C)C(=O)c1cccc2cccc(O)c12': 1, 'CC(=O)c1c(ccc2cccc(O)c12)C(C)(C)C': 1, 'CCCCCCc1ccc(cc1)C#Cc1ccc(cc1)C(=Cc1ccncc1)C#N': 1, 'c1ccc(cc1)C(c1cc2ccccc2c2ccccc12)=C(c1ccccc1)c1cc2ccccc2c2ccccc12': 1, 'CCC(CC)=NNC(=O)c1ccncc1': 1, 'S1C=C2C(=C1)C1=CSC=C1C1=CSC=C21': 1, 'Fc1c(F)c(OCC2OC3(CCCCC3)OC2COc2c(F)c(F)c(I)c(F)c2F)c(F)c(F)c1I': 1, 'Fc1c(F)c(OCC2CCCCC2COc2c(F)c(F)c(I)c(F)c2F)c(F)c(F)c1I': 1, 'Fc1c(F)c(Oc2ccc3ccccc3c2c2c(Oc3c(F)c(F)c(I)c(F)c3F)ccc3ccccc23)c(F)c(F)c1I': 1, 'CNC(C)C(O)c1ccccc1': 1, 'CN(C)c1ccc(cc1)C=C(O)C(O)=O': 1, 'ClC1=CC=C(S1)C(=O)NCC1CN(C(=O)O1)c1ccc(cc1)N1CCOCC1=O': 1, 'CCOC(=O)c1ccc(Nc2cc(C(=O)OCC)c(Nc3ccc(cc3)C(=O)OCC)cc2C(=O)OCC)cc1': 1, '[Te]([Te]c1ccccc1)c1ccccc1': 1, 'COC(=O)COc1cc2cc(OCC(=O)OC)c1Oc1ccc(cc1)c1ccc(Oc3c(OCC(=O)OC)cc(cc3OCC(=O)OC)C34CC5CC(C3)CC(C5)(C4)c3cc(OCC(=O)OC)c(Oc4ccc(cc4)c4ccc(Oc5c(OCC(=O)OC)cc(cc5OCC(=O)OC)C56CC7CC(CC2(C7)C5)C6)cc4)c(OCC(=O)OC)c3)cc1': 1, 'NC(=O)c1ccc(cc1)N=Cc1ccccc1O': 1, 'COc1cccc(C=Nc2ccccc2)c1O': 1, 'COc1cccc(C=Nc2ccc(cc2)C(O)=O)c1O': 1, 'CCCCN1C(=O)C2(N(CCCC)C1=S)N(C(=O)C(=C2C(=O)c1ccccc1)O)c1cc(Cl)ccc1O': 1, 'O1c2ccc3ccccc3c2c2c1ccc1ccccc21': 1, 'CCC1c2cc(C(CC)c3cc(C(CC)c4cc(C(CC)c5cc1c(O)c(C)c5O)c(O)c(C)c4O)c(O)c(C)c3O)c(O)c(C)c2O': 1, 'C1CCC(NC2(c3ccccc3)c3ccccc3Sc3ccccc23)C(C1)NC1(c2ccccc2)c2ccccc2Sc2ccccc12': 1, 'Clc1ccc2Nc3ccc(Cl)cc3c2c1': 1, 'CON(C(=O)OC)c1ccccc1COC1=NN(C=C1)c1ccc(Cl)cc1': 1, 'Nc1ccc2ccc3cccc4ccc1c2c34': 1, 'CC(C)OC(=O)C(C)NP(=O)(COC(C)CN1C=Nc2c(N)ncnc12)Oc1ccccc1': 1, 'O=C(CN1C=CN=C1N(=O)=O)NCc1ccccc1': 1, 'COc1ccc(cc1)C1C(OC2=C1C(=O)CC(C)(C)C2)N(OC(=O)OC(C)C)C(=O)OC(C)C': 1, 'Oc1ccc(Oc2ccc(cc2)C(F)(F)F)cc1': 1, 'CCc1c(C(O)=O)c(CC)c(C(O)=O)c(CC)c1C(O)=O': 1, 'CC(=O)NC(=S)NC(C)=O': 1, 'O=C1c2ccc(cc2)C(=O)c2ccc(cc2)C(=O)c2ccc(cc2)C(=O)c2ccc(cc2)C(=O)c2ccc1cc2': 1, 'CC(O)CN1C=NC2=C1C(=O)N(C)C(=O)N2C': 1, 'O=C(Nc1ccc(cc1)C1(CCCC1)C#N)c1cccnc1NCc1ccncc1': 1, 'CN1C(=O)C(=O)c2ccccc12': 1, 'CCCCCCCCc1ccc(cc1)C(O)=O': 1, 'IC12CC(I)(C1)C2': 1, 'Ic1ccc(cc1)C12CC(C1)(C2)c1ccc(I)cc1': 1, 'N#CC(C#N)=C1c2ccccc2C(C2=N[Se]N=C12)=C(C#N)C#N': 1, 'N1C2=NON=C2NC2=NON=C12': 1, 'OC(=O)c1ccc2cc(ccc2c1)C(O)=O': 1, 'Ic1c2ccccc2cc2ccccc12': 1, 'COC(=O)C(C(=O)OC)=C1C=CC(C=C1)=C(C(=O)OC)C(=O)OC': 1, 'CCOC(=O)C(C(=O)OCC)=C1C=CC(C=C1)=C(C(=O)OCC)C(=O)OCC': 1, 'CCN1C=C(C(O)=O)C(=O)c2cc(F)c(cc12)N1CCNCC1': 1, 'Oc1ccccc1C1=CC(=NN1)C1=CC(=NN1)c1ccccc1O': 1, 'c1cc(C=Cc2ccncc2)cc(c1)C=Cc1ccncc1': 1, 'c1ccc(C=Cc2ccncc2)c(c1)C=Cc1ccncc1': 1, 'O=S(=O)(NN=Cc1cccc2ccccc12)c1ccccc1': 1, 'Oc1ccc(cc1)C1=COc2cc(O)ccc2C1=O': 1, 'N#CC1=CC=C(C#N)C2=NSN=C12': 1, 'CCc1cc(CC)c2ccc3c(CC)cc(CC)c4ccc1c2c34': 1, 'CCCCCc1cc(CCCCC)c2ccc3c(CCCCC)cc(CCCCC)c4ccc1c2c34': 1, 'FC(F)(F)c1cc(CNC(=O)CC(c2ccc(Cl)cc2)(c2ccc(Cl)cc2)c2ccc(Cl)cc2)cc(c1)C(F)(F)F': 1, 'CC(C)(C)c1cc(CNC(=O)CC(c2ccc(Cl)cc2)(c2ccc(Cl)cc2)c2ccc(Cl)cc2)cc(c1)C(C)(C)C': 1, 'CC(C)(C)c1cc(NC(=O)NCc2cc(cc(c2)C(F)(F)F)C(F)(F)F)cc(c1)C(C)(C)C': 1, 'FC(F)(F)c1cc(CNC(=O)OCC2c3ccccc3c3ccccc23)cc(c1)C(F)(F)F': 1, 'FC(F)(F)c1cc(CNP(=O)(Oc2ccccc2)Oc2ccccc2)cc(c1)C(F)(F)F': 1, 'FC(F)(F)c1cc(CNP(=O)(c2ccccc2)c2ccccc2)cc(c1)C(F)(F)F': 1, 'CC(C)(C)c1cc(NC(=S)NCc2cc(cc(c2)C(F)(F)F)C(F)(F)F)cc(c1)C(C)(C)C': 1, 'CCOC(=O)C=Cc1cccc2NC(CC(=O)c12)c1ccccc1': 1, 'C1CCCCOCc2cc3OCCOCCOCCOc4cc(COCCC1)cc(OCCOCCOCCOc(c2)c3)c4': 1, 'CCc1cccc2C3=C(Nc12)C(CC)(CC(O)=O)OCC3': 1, 'CCOC(=O)NN(C(=O)OCC)c1ccc(O)c(Cl)c1': 1, 'OC(=O)c1c(O)ccc2ccccc12': 1, 'Cc1cccc(C)c1NC(=O)CN1CCCC1=O': 1, 'Cc1cccc2c1Sc1c(C)cccc21': 1, 'CCc1c2Oc3cc4Sc5cc6Sc7cc8Oc9c(CC)c%10Oc%11cc%12Sc%13cc%14Sc%15cc%16Oc1c1Sc%16c(CC)c%15Oc%14cc%13Oc%12c(CC)c%11Sc%10cc9Sc8c(CC)c7Oc6cc5Oc4c(CC)c3Sc2c1': 1, 'C[Te]c1c(F)c(F)c(F)c(F)c1F': 1, 'O=P1(c2ccccc2)C2=C(SC=C2)c2ccc3c4c(ccc1c24)C1=C(C=CS1)P3(=O)c1ccccc1': 1, 'OC(=O)Cc1ccc(O)cc1': 1, 'OC(=O)Cc1ccc(O)c(O)c1': 1, 'CCc1c(CNc2nc(C)cc(C)n2)c(CC)c(CNc2nc(C)cc(C)n2)c(CC)c1CNc1nc(C)cc(C)n1': 1, 'CCc1c(CNC(=O)c2ccc3ccc4cccnc4c3n2)c(CC)c(CNc2nc(C)cc(C)n2)c(CC)c1CNc1nc(C)cc(C)n1': 1, 'FCC1C(C(C(C(C1C(F)(F)F)C(F)(F)F)C(F)(F)F)C(F)(F)F)C(F)(F)F': 1, 'O=C1C(=O)c2cc(cc(c2c2ccc(cc12)N(=O)=O)N(=O)=O)N(=O)=O': 1, 'CC(C)c1cc(Br)ccc1O': 1, 'C1CCC(CC1)C1(NCCNC2(C3CCCCC3)c3ccccc3Oc3ccccc23)c2ccccc2Oc2ccccc12': 1, 'O=CC12C3c4ccccc4C(C=O)(C(c4ccccc14)c1ccccc21)c1ccccc31': 1, 'OC(=O)c1ccc(NC(=O)Nc2cccnc2)cc1': 1, 'OC(=O)CCNS(=O)(=O)c1cccc(c1)N(=O)=O': 1, 'Cc1cc(ccc1O)C1(c2ccc(O)c(C)c2)C(=O)c2ccccc2C1=O': 1, 'Fc1c(F)c(F)c(B(c2c(F)c(F)c(F)c(F)c2F)c2c(F)c(F)c(F)c(F)c2F)c(F)c1F': 1, 'CN1N=NNC1=NN(=O)=O': 1, 'N#CC(=Cc1ccc(cc1)c1ccncc1)c1ccc(cc1)c1ccncc1': 1, 'Nc1nc(N)c2N=CN(CCCN3C=CC=C3)c2n1': 1, 'O=N(=O)C1=CNN=C1N(=O)=O': 1, 'N#CC1=CC(=CC(=P1(c1ccccc1)c1ccccc1)C#N)C1=CC=C(S1)C1=CSC(S1)=C1SC=CS1': 1, 'CC(C)(C)C(=O)C(Cc1ccc(F)cc1)N1C=NC=N1': 1, 'Cc1cc2c(cc1C(=C)c1ccc(cc1)C(O)=O)C(C)(C)CCC2(C)C': 1, 'O=C1OC(=O)c2ccc(c3cccc1c23)N(=O)=O': 1, 'Clc1cncc(Cl)c1N=Nc1c(Cl)cncc1Cl': 1, 'Oc1ccc(F)cc1': 1, 'OC(=O)C=Cc1ccccc1O': 1, 'OC(=O)C=Cc1ccc(O)cc1O': 1, 'OC(=O)C=Cc1cccc(O)c1': 1, 'CCOC(=O)c1ccc(cc1)C1=C2C=CC(=N2)C(=C2NC(=C(c3ccc(cc3)C(=O)OCC)C3=NC(=C(Br)C4=CC=C1N4)C=C3)C=C2)Br': 1, 'CN1Cc2ccc(COCCOCCOCc3ccc(CN(C)Cc4cccc(C1)c4)cc3)cc2': 1, 'COc1cc(C)nc(N)n1': 1, 'CC(C(O)=O)c1cccc(c1)C(=O)c1ccccc1': 1, 'C1COCCOCCOc2cc(C=Cc3ccncc3)ccc2OCCOCCO1': 1, 'CC1CCC2C(C)C(OC3OC4(C)CCC1C23OO4)OC(=O)CCC(O)=O': 1, 'Fc1ccc(cc1)C=NNc1c(F)c(F)c(F)c(F)c1F': 1, 'Nc1cc(Cl)nc(N)n1': 1, 'C1CN2CCC1C(C2)CN1c2ccccc2Sc2ccccc12': 1, 'COc1ccccc1C=Nc1ccccc1C(O)=O': 1, 'COC(=O)C=CCC12CCCC1C1OC(=O)C2(Br)C=C1C(=O)c1ccccc1': 1, 'COc1cccc(OC)c1C(O)=O': 1, 'Oc1c(Cl)c(Cl)cc(Cl)c1Cl': 1, 'COc1cc(cc(OC)c1OC)C12CC3CC(C1)CC(C3)(C2)c1cc(OC)c(OC)c(OC)c1': 1, 'CCOc1cc(cc(OCC)c1OCC)C12CC3CC(C1)CC(C3)(C2)c1cc(OCC)c(OCC)c(OCC)c1': 1, 'Clc1c(Cl)c(Cl)c(I)c(I)c1Cl': 1, 'c1ccc2c(c1)cccc2C=Cc1ccncc1': 1, 'S1C(=Nc2ccccc12)C=Cc1ccc(cc1)C=CC1=Nc2ccccc2S1': 1, 'OC(=O)C1C2OC(C=C2)C1C(O)=O': 1, 'Oc1c(F)c(F)c(c(F)c1F)c1c(F)c(F)c(O)c(F)c1F': 1, 'N1N=NN=C1C1=NN=NN1': 1, 'CCOC(=O)C1=C(N)Oc2ccc3ccc(O)cc3c2C1c1ccc(Cl)cc1': 1, 'Cc1ccc(cc1)P(=O)(c1ccc(C)cc1)c1ccc(C)cc1': 1, 'Cc1ccccc1P(=O)(c1ccccc1C)c1ccccc1C': 1, 'CC(NC(=O)c1ccc(F)cc1)c1ccc2ccccc2c1': 1, 'CC(NC(=O)c1ccc(cc1)N(=O)=O)c1ccc2ccccc2c1': 1, 'CC(NC(=O)c1ccc(Br)cc1)c1ccc2ccccc2c1': 1, 'COc1ccc(CNC(=S)NN=C(C)c2cc(C(C)=NNC(=S)NCc3ccc(OC)cc3)c(O)cc2O)cc1': 1, 'Cc1ccc2N=C([Te]c2n1)C(F)(F)F': 1, 'Fc1c(F)c(F)c(c(I)c1F)c1c(F)c(F)c(F)c(c1F)c1c(F)c(F)c(F)c(F)c1I': 1, 'Fc1c(F)c(I)c(c(I)c1F)c1c(F)c(F)c(c(F)c1F)c1c(I)c(F)c(F)c(F)c1I': 1, 'CCc1c2ccccc2c(c2ccccc12)P(=S)(c1ccccc1)c1ccccc1': 1, 'COc1cc(cc(OC)c1OC)C(=O)NC12C=C(C(C)=O)C(C)(CC1N1CCCC1=O)OC2=O': 1, 'CC(=O)OC1(CCC2C3C=C(C)C4=CC(=O)CCC4C3CCC12C)C(C)=O': 1, 'CCCCCCC1=CC2=C(S1)C(SC2=C1SC(=C2SC(=C(C#N)C#N)C3=C2C=C(CCCCCC)S3)C2=C1C(=O)N(CC(CC)CCCC)C2=O)=C(C#N)C#N': 1, 'CCCCCCCCCCN1C(=O)C2=C(C1=O)C(SC2=C1SC(=C(C#N)C#N)C2=C1SC(=C2)CCCCCC)=C1SC(=C(C#N)C#N)C2=C1SC(=C2)CCCCCC': 1, 'CCCCCCCCN1C(=O)C2=C(C1=O)C(SC2=C1SC(C2=C1C=C(CCCCCC)S2)=C(C#N)C#N)=C1SC(C2=C1C=C(CCCCCC)S2)=C(C#N)C#N': 1, 'Fc1nc(F)c(F)c(F)c1F': 1, 'Oc1ccc2c(Oc3cc(O)ccc3C32N(N=CC2=CSC=C2)C(=O)c2ccccc32)c1': 1, 'CC(C)(C)N1CN(C2OC3C(OC12)N(CN3C(C)(C)C)C(C)(C)C)C(C)(C)C': 1, 'CC(C)c1cccc(C(C)C)c1N1C(=N)C(C)(C)CC1(C)C': 1, 'CC(C)(C)C1=NC(=C(S1)c1ccnc(N)n1)c1cccc(NS(=O)(=O)c2c(F)cccc2F)c1F': 1, 'Oc1ccc(cc1)C(=O)NN=Cc1c(O)cccc1Cl': 1, 'CCC(CCC(C)C1CCC2C3CC=C4CC(O)CCC4(C)C3CCC12C)C(C)C': 1, 'N#Cc1c2ccccc2c(C#N)c2ccccc12': 1, 'CS(=O)(=O)N1Cc2ccc(COCCCCCCCCCCOCc3ccc(CN(Cc4ccc(COCCCCCCCCCCOCc5ccc(C1)cc5)cc4)S(C)(=O)=O)cc3)cc2': 1, 'Cc1ccc2OC3(O)c4ccccc4C(=O)C3(O)c2c1': 1, 'Fc1ccc(cc1)C(=O)CN1C=Nc2ccccc12': 1, 'Fc1cc(F)cc(c1)c1ccc2Nc3ccc(cc3c2c1)c1cc(F)cc(F)c1': 1, 'Fc1cccc(c1F)c1ccc2Nc3ccc(cc3c2c1)c1cccc(F)c1F': 1, 'N1c2ccc(cc2c2cc(ccc12)c1ccccc1)c1ccccc1': 1, 'CC(C)(C)N1CC2=CC=C(Br)C=CC2(C#N)C1=O': 1, 'CC([Se]C#N)c1ccccc1C(C)[Se]C#N': 1, 'CC(=O)C(=C)C(=CS(C)=O)c1ccccc1': 1, 'CCCC1c2cc(C(CCC)c3cc(C(CCC)c4cc(C(CCC)c5cc1c(O)c(O)c5O)c(O)c(O)c4O)c(O)c(O)c3O)c(O)c(O)c2O': 1, 'OC1C(Oc2cc(O)cc(O)c2C1=O)c1ccc(O)c(O)c1': 1, 'OC1C(Oc2cc(O)cc(O)c2C1=O)c1cc(O)c(O)c(O)c1': 1, 'c1cncc(c1)c1cccnc1': 1, 'Oc1cc2C(=O)Oc3c(O)c(O)cc4C(=O)Oc(c1O)c2c34': 1, 'c1ccc2c(c1)c(C=Cc1ccncc1)c1ccccc1c2C=Cc1ccncc1': 1, 'CC1=CC(=C(C)N1)C(C1=C(C)NC(=C1)C)C1=C(C)NC(=C1)C': 1, 'COc1ccc(OC)c2nc3c4cc(cc5c6nc7cc8C9c%10ccccc%10C(c%10ccccc9%10)c8cc7nc6c6cc(cc(c3nc12)c6c45)C(C)(C)C)C(C)(C)C': 1, 'CNC(=O)c1cc(Oc2ccc(NC(=O)Nc3ccc(Cl)c(c3)C(F)(F)F)c(F)c2)ccn1': 1, 'CCCCCCN1C(=NC2=C1N=C(N)NC2=O)C#Cc1ccncc1': 1, 'COc1cc(C=CC(O)=O)cc(OC)c1OC': 1, 'O=P1(c2ccccc2)C2=C(SC=C2)C2=C1C=CS2': 1})\n"
          ]
        }
      ]
    },
    {
      "cell_type": "code",
      "source": [
        "keys, counts = np.unique(pd.DataFrame(smiles).iloc[:, 0].values, return_counts=True)\n",
        "mols = pd.concat([pd.DataFrame(keys, columns=['name']), pd.DataFrame(counts, columns=['counts'])],axis=1)\n",
        "mol = mols.sort_values(by=['counts'], ascending=False)\n",
        "mol.head(10)"
      ],
      "metadata": {
        "colab": {
          "base_uri": "https://localhost:8080/",
          "height": 362
        },
        "id": "QCeYxMtokg1w",
        "outputId": "d9a66e0c-afc2-4840-d711-4df3837ca563"
      },
      "execution_count": 119,
      "outputs": [
        {
          "output_type": "execute_result",
          "data": {
            "text/html": [
              "\n",
              "  <div id=\"df-24dfdd59-4ecb-4411-be2d-089e285ab621\">\n",
              "    <div class=\"colab-df-container\">\n",
              "      <div>\n",
              "<style scoped>\n",
              "    .dataframe tbody tr th:only-of-type {\n",
              "        vertical-align: middle;\n",
              "    }\n",
              "\n",
              "    .dataframe tbody tr th {\n",
              "        vertical-align: top;\n",
              "    }\n",
              "\n",
              "    .dataframe thead th {\n",
              "        text-align: right;\n",
              "    }\n",
              "</style>\n",
              "<table border=\"1\" class=\"dataframe\">\n",
              "  <thead>\n",
              "    <tr style=\"text-align: right;\">\n",
              "      <th></th>\n",
              "      <th>name</th>\n",
              "      <th>counts</th>\n",
              "    </tr>\n",
              "  </thead>\n",
              "  <tbody>\n",
              "    <tr>\n",
              "      <th>1640</th>\n",
              "      <td>Fc1c(F)c(I)c(F)c(F)c1I</td>\n",
              "      <td>246</td>\n",
              "    </tr>\n",
              "    <tr>\n",
              "      <th>2885</th>\n",
              "      <td>c1cc(ccn1)C=Cc1ccncc1</td>\n",
              "      <td>83</td>\n",
              "    </tr>\n",
              "    <tr>\n",
              "      <th>2893</th>\n",
              "      <td>c1cc(ccn1)c1ccncc1</td>\n",
              "      <td>66</td>\n",
              "    </tr>\n",
              "    <tr>\n",
              "      <th>2226</th>\n",
              "      <td>O=P(c1ccccc1)(c1ccccc1)c1ccccc1</td>\n",
              "      <td>62</td>\n",
              "    </tr>\n",
              "    <tr>\n",
              "      <th>1011</th>\n",
              "      <td>CN1C=NC2=C1C(=O)N(C)C(=O)N2C</td>\n",
              "      <td>58</td>\n",
              "    </tr>\n",
              "    <tr>\n",
              "      <th>85</th>\n",
              "      <td>C(Cc1ccncc1)c1ccncc1</td>\n",
              "      <td>56</td>\n",
              "    </tr>\n",
              "    <tr>\n",
              "      <th>176</th>\n",
              "      <td>C1COCCOCCOCCOCCOCCO1</td>\n",
              "      <td>55</td>\n",
              "    </tr>\n",
              "    <tr>\n",
              "      <th>993</th>\n",
              "      <td>CN1C(=O)N(C)C2=C(NC=N2)C1=O</td>\n",
              "      <td>54</td>\n",
              "    </tr>\n",
              "    <tr>\n",
              "      <th>1661</th>\n",
              "      <td>Fc1c(I)c(F)c(I)c(F)c1I</td>\n",
              "      <td>52</td>\n",
              "    </tr>\n",
              "    <tr>\n",
              "      <th>2454</th>\n",
              "      <td>OC(=O)c1cc(cc(c1)N(=O)=O)N(=O)=O</td>\n",
              "      <td>50</td>\n",
              "    </tr>\n",
              "  </tbody>\n",
              "</table>\n",
              "</div>\n",
              "      <button class=\"colab-df-convert\" onclick=\"convertToInteractive('df-24dfdd59-4ecb-4411-be2d-089e285ab621')\"\n",
              "              title=\"Convert this dataframe to an interactive table.\"\n",
              "              style=\"display:none;\">\n",
              "        \n",
              "  <svg xmlns=\"http://www.w3.org/2000/svg\" height=\"24px\"viewBox=\"0 0 24 24\"\n",
              "       width=\"24px\">\n",
              "    <path d=\"M0 0h24v24H0V0z\" fill=\"none\"/>\n",
              "    <path d=\"M18.56 5.44l.94 2.06.94-2.06 2.06-.94-2.06-.94-.94-2.06-.94 2.06-2.06.94zm-11 1L8.5 8.5l.94-2.06 2.06-.94-2.06-.94L8.5 2.5l-.94 2.06-2.06.94zm10 10l.94 2.06.94-2.06 2.06-.94-2.06-.94-.94-2.06-.94 2.06-2.06.94z\"/><path d=\"M17.41 7.96l-1.37-1.37c-.4-.4-.92-.59-1.43-.59-.52 0-1.04.2-1.43.59L10.3 9.45l-7.72 7.72c-.78.78-.78 2.05 0 2.83L4 21.41c.39.39.9.59 1.41.59.51 0 1.02-.2 1.41-.59l7.78-7.78 2.81-2.81c.8-.78.8-2.07 0-2.86zM5.41 20L4 18.59l7.72-7.72 1.47 1.35L5.41 20z\"/>\n",
              "  </svg>\n",
              "      </button>\n",
              "      \n",
              "  <style>\n",
              "    .colab-df-container {\n",
              "      display:flex;\n",
              "      flex-wrap:wrap;\n",
              "      gap: 12px;\n",
              "    }\n",
              "\n",
              "    .colab-df-convert {\n",
              "      background-color: #E8F0FE;\n",
              "      border: none;\n",
              "      border-radius: 50%;\n",
              "      cursor: pointer;\n",
              "      display: none;\n",
              "      fill: #1967D2;\n",
              "      height: 32px;\n",
              "      padding: 0 0 0 0;\n",
              "      width: 32px;\n",
              "    }\n",
              "\n",
              "    .colab-df-convert:hover {\n",
              "      background-color: #E2EBFA;\n",
              "      box-shadow: 0px 1px 2px rgba(60, 64, 67, 0.3), 0px 1px 3px 1px rgba(60, 64, 67, 0.15);\n",
              "      fill: #174EA6;\n",
              "    }\n",
              "\n",
              "    [theme=dark] .colab-df-convert {\n",
              "      background-color: #3B4455;\n",
              "      fill: #D2E3FC;\n",
              "    }\n",
              "\n",
              "    [theme=dark] .colab-df-convert:hover {\n",
              "      background-color: #434B5C;\n",
              "      box-shadow: 0px 1px 3px 1px rgba(0, 0, 0, 0.15);\n",
              "      filter: drop-shadow(0px 1px 2px rgba(0, 0, 0, 0.3));\n",
              "      fill: #FFFFFF;\n",
              "    }\n",
              "  </style>\n",
              "\n",
              "      <script>\n",
              "        const buttonEl =\n",
              "          document.querySelector('#df-24dfdd59-4ecb-4411-be2d-089e285ab621 button.colab-df-convert');\n",
              "        buttonEl.style.display =\n",
              "          google.colab.kernel.accessAllowed ? 'block' : 'none';\n",
              "\n",
              "        async function convertToInteractive(key) {\n",
              "          const element = document.querySelector('#df-24dfdd59-4ecb-4411-be2d-089e285ab621');\n",
              "          const dataTable =\n",
              "            await google.colab.kernel.invokeFunction('convertToInteractive',\n",
              "                                                     [key], {});\n",
              "          if (!dataTable) return;\n",
              "\n",
              "          const docLinkHtml = 'Like what you see? Visit the ' +\n",
              "            '<a target=\"_blank\" href=https://colab.research.google.com/notebooks/data_table.ipynb>data table notebook</a>'\n",
              "            + ' to learn more about interactive tables.';\n",
              "          element.innerHTML = '';\n",
              "          dataTable['output_type'] = 'display_data';\n",
              "          await google.colab.output.renderOutput(dataTable, element);\n",
              "          const docLink = document.createElement('div');\n",
              "          docLink.innerHTML = docLinkHtml;\n",
              "          element.appendChild(docLink);\n",
              "        }\n",
              "      </script>\n",
              "    </div>\n",
              "  </div>\n",
              "  "
            ],
            "text/plain": [
              "                                  name  counts\n",
              "1640            Fc1c(F)c(I)c(F)c(F)c1I     246\n",
              "2885             c1cc(ccn1)C=Cc1ccncc1      83\n",
              "2893                c1cc(ccn1)c1ccncc1      66\n",
              "2226   O=P(c1ccccc1)(c1ccccc1)c1ccccc1      62\n",
              "1011      CN1C=NC2=C1C(=O)N(C)C(=O)N2C      58\n",
              "85                C(Cc1ccncc1)c1ccncc1      56\n",
              "176               C1COCCOCCOCCOCCOCCO1      55\n",
              "993        CN1C(=O)N(C)C2=C(NC=N2)C1=O      54\n",
              "1661            Fc1c(I)c(F)c(I)c(F)c1I      52\n",
              "2454  OC(=O)c1cc(cc(c1)N(=O)=O)N(=O)=O      50"
            ]
          },
          "metadata": {},
          "execution_count": 119
        }
      ]
    },
    {
      "cell_type": "code",
      "source": [
        "from rdkit.Chem import rdDepictor\n",
        "\n",
        "mol_list = [Chem.MolFromSmiles(smiles) for smiles in mol.name.values[:10]]\n",
        "fig=Chem.Draw.MolsToGridImage(mol_list, molsPerRow=5,legends= ['Count : %s'%i for i in mol.head(10).counts] , subImgSize=(150,150),useSVG=True)\n",
        "#rdDepictor.SetPreferCoordGen(True)\n",
        "with open('filename.svg', 'w') as f:\n",
        "  f.write(fig)\n",
        "\n",
        "#fig.save('output.svg')\n",
        "#fig"
      ],
      "metadata": {
        "id": "hb6fDbsTqX1z"
      },
      "execution_count": 120,
      "outputs": []
    },
    {
      "cell_type": "code",
      "source": [
        "mol_list = [Chem.MolFromSmiles(smiles) for smiles in mol.name.values[:10]]\n",
        "Chem.Draw.MolsToGridImage(mol_list, molsPerRow=5)\n"
      ],
      "metadata": {
        "colab": {
          "base_uri": "https://localhost:8080/",
          "height": 417
        },
        "id": "gnbyfgdyovXR",
        "outputId": "479b9133-90ae-4572-aacf-0dae3b3d98e7"
      },
      "execution_count": 85,
      "outputs": [
        {
          "output_type": "execute_result",
          "data": {
            "image/png": "[encoded data removed]",
            "text/plain": [
              "<PIL.PngImagePlugin.PngImageFile image mode=RGB size=1000x400 at 0x7F69B23E44D0>"
            ]
          },
          "metadata": {},
          "execution_count": 85
        }
      ]
    },
    {
      "cell_type": "code",
      "source": [
        "import matplotlib.font_manager\n",
        "from matplotlib.colors import ListedColormap, LinearSegmentedColormap\n",
        "plt.rcParams[\"font.weight\"] = \"normal\"\n",
        "plt.rcParams[\"axes.labelweight\"] = \"normal\"\n",
        "plt.rcParams['font.family'] = 'sans-serif'\n",
        "plt.rcParams[\"font.sans-serif\"] = \"Helvetica\"\n",
        "plt.rcParams[\"axes.labelsize\"] = \"xx-large\"\n",
        "plt.rcParams[\"axes.labelweight\"]= \"normal\"\n",
        "plt.rcParams[\"xtick.labelsize\"] = \"xx-large\"\n",
        "plt.rcParams[\"ytick.labelsize\"] = \"xx-large\"\n",
        "\n",
        "fig, ax = plt.subplots(figsize=(10,6))\n",
        "ax.barh(mol.name.head(10).values, mol.counts.head(10).values, align='center', height= 0.9)\n",
        "plt.gca().invert_yaxis()\n",
        "\n",
        "\n",
        "ax.axis(aspect='equal')\n",
        "ax.set(adjustable='box')#, aspect='equal')\n",
        "ax.grid(False)\n",
        "ax.set_facecolor('xkcd:white')\n",
        "ax.spines['bottom'].set_color('black')\n",
        "ax.spines['top'].set_color('black')\n",
        "ax.spines['right'].set_color('black')\n",
        "ax.spines['left'].set_color('black')\n",
        "ax.axis('on')\n",
        "ax.set_facecolor('xkcd:white')\n",
        "ax.set_title('Popular molecules in the CSD co-crystal dataset', fontsize=18)\n",
        "ax.tick_params(axis = 'both', which='both', width=2)\n",
        "ax.tick_params(axis = 'both', which='major', length=14)\n",
        "ax.tick_params(axis = 'both', which='minor', length=8, color='black')\n",
        "ax.tick_params(axis = 'both', which='both' , bottom=True, top=True, left=True, right=True, direction='in')\n",
        "ax.set_xlabel('Counts')\n",
        "#plt.savefig('count_popularity.png', bbox_inches='tight', dpi=600)\n",
        "plt.show()"
      ],
      "metadata": {
        "colab": {
          "base_uri": "https://localhost:8080/",
          "height": 438
        },
        "id": "StvSit8ni2Ff",
        "outputId": "25177e18-f4ac-4b6c-9a2c-ac7bc759bcdd"
      },
      "execution_count": 64,
      "outputs": [
        {
          "output_type": "stream",
          "name": "stderr",
          "text": [
            "/usr/local/lib/python3.7/dist-packages/ipykernel_launcher.py:17: MatplotlibDeprecationWarning: Passing unsupported keyword arguments to axis() will raise a TypeError in 3.3.\n"
          ]
        },
        {
          "output_type": "display_data",
          "data": {
            "image/png": "[encoded data removed]",
            "text/plain": [
              "<Figure size 720x432 with 1 Axes>"
            ]
          },
          "metadata": {
            "needs_background": "light"
          }
        }
      ]
    },
    {
      "cell_type": "code",
      "source": [
        "coformers2_count = Counter(chain(pd.DataFrame(smiles).iloc[:, 1].values))\n",
        "print(coformers2_count)"
      ],
      "metadata": {
        "id": "NbVLCAa0cOmH",
        "colab": {
          "base_uri": "https://localhost:8080/"
        },
        "outputId": "8e29ae1f-9fea-4d3c-bd22-dff3c3f406ac"
      },
      "execution_count": 56,
      "outputs": [
        {
          "output_type": "stream",
          "name": "stdout",
          "text": [
            "Counter({'c1cc(ccn1)c1ccncc1': 253, 'N#CC(C#N)=C1C=CC(C=C1)=C(C#N)C#N': 135, 'NC(=O)c1ccncc1': 129, 'c1cc(ccn1)C=Cc1ccncc1': 124, 'NC(N)=O': 105, 'OC(=O)C=CC(O)=O': 87, 'OC(=O)CCC(O)=O': 79, 'NC(=O)c1cccnc1': 78, 'Oc1ccc(O)cc1': 74, 'C1CN2CCN1CC2': 67, 'C(Cc1ccncc1)c1ccncc1': 64, 'N#Cc1cc(C#N)c(cc1C#N)C#N': 62, 'Oc1cccc(O)c1': 61, 'OC(=O)c1ccccc1': 58, 'c1cc2ccc3cccc4ccc(c1)c2c34': 57, 'OC(=O)CCCCC(O)=O': 57, 'c1cnccn1': 52, 'C1N2CN3CN1CN(C2)C3': 50, 'Nc1ccc(cc1)C(O)=O': 50, 'NC(N)=S': 47, 'OC(=O)c1ccccc1O': 45, 'OC(=O)c1ccc(O)cc1': 45, 'CN(C)c1ccncc1': 45, 'N#CC(C#N)=C(C#N)C#N': 43, 'c1ccc2nc3ccccc3nc2c1': 43, 'Nc1ncccn1': 43, 'c1cc(ccn1)N=Nc1ccncc1': 43, 'OC(=O)CCCC(O)=O': 41, 'OC(=O)C(O)=O': 39, 'O=C1C=CC(=O)C=C1': 38, 'O=C1NC=CC=C1': 37, 'OC(=O)CC(O)=O': 37, 'S1C=CSC1=C1SC=CS1': 36, 'N#Cc1ccncc1': 35, 'c1ccc2cc3ccccc3cc2c1': 32, 'Cc1nc(C)c(C)nc1C': 32, 'c1ccc2nc3ccccc3cc2c1': 31, 'O=N(=O)c1cc(cc(c1)N(=O)=O)N(=O)=O': 30, 'CN1C=NC2=C1C(=O)N(C)C(=O)N2C': 30, 'OC(=O)c1ccc(cc1)C(O)=O': 30, 'NC(=O)c1cnccn1': 30, 'Cc1cc(C)nc(N)n1': 30, 'NNC(=O)c1ccncc1': 30, 'CN1C(=O)N(C)C2=C(NC=N2)C1=O': 29, 'C1CNCCN1': 29, 'c1ccc(nc1)c1ccccn1': 29, 'c1cnc2c(c1)ccc1cccnc21': 28, 'Cc1ccncc1': 28, 'O=P(c1ccccc1)(c1ccccc1)c1ccccc1': 28, 'FC1=C(F)C(C(=C(F)C1=C(C#N)C#N)F)=C(C#N)C#N': 27, 'OC(=O)c1cccc(O)c1': 27, 'Nc1ccccc1C(O)=O': 26, 'OC(=O)c1cc(cc(c1)N(=O)=O)N(=O)=O': 24, 'NC(=O)c1ccccc1': 24, 'OC(=O)c1ccc(cc1)N(=O)=O': 24, 'C(Cc1ccncc1)Cc1ccncc1': 24, 'c1ccc2ccccc2c1': 23, 'OC(=O)c1cccc(c1)C(O)=O': 23, 'c1ccc2ncccc2c1': 22, 'Oc1ccccc1': 20, 'Fc1c(F)c(F)c(F)c(F)c1F': 20, 'CN(C)c1ccc(cc1)N(C)C': 19, 'FC1=CNC(=O)NC1=O': 19, 'Oc1cc(O)cc(O)c1': 19, 'Cc1c(C)c(C)c(C)c(C)c1C': 18, 'Nc1nc(N)nc(N)n1': 18, 'O=C1CCC(=O)N1': 18, 'Oc1ccccc1O': 18, 'OC(=O)CCCCCCC(O)=O': 18, 'CCC1(CC)C(=O)NC(=O)NC1=O': 17, 'FC1=CC(C(=CC1=C(C#N)C#N)F)=C(C#N)C#N': 17, 'Cc1cc(O)cc(O)c1': 17, 'c1ccc2c(c1)ccc1ccccc21': 16, 'c1cc2cccc3c4cccc5cccc(c(c1)c23)c45': 16, 'OC(=O)C=Cc1ccccc1': 16, 'O=C1CCCCN1': 16, 'NC(=O)c1ccccn1': 16, 'CC(N)=O': 15, 'CN(C)P(=O)(N(C)C)N(C)C': 15, 'N1C=CN=C1': 15, 'O=C1CCCCCN1': 15, 'Oc1ccc(cc1)N(=O)=O': 15, 'OC(=O)c1ccc(O)cc1O': 15, 'OC(=O)c1cc(O)ccc1O': 15, 'Cc1c(O)cccc1O': 15, 'c1cnc2ncccc2c1': 15, 'Oc1c(F)c(F)c(F)c(F)c1F': 14, 'Oc1cc(O)c(Cl)cc1Cl': 14, 'c1cc(ccn1)C#Cc1ccncc1': 14, 'Cc1cccnc1': 14, 'FC1=C(F)C(=O)C(=C(F)C1=O)F': 13, 'OC(=O)c1cc(O)cc(O)c1': 13, 'Oc1cccc(O)c1O': 13, 'Cc1ccc(cc1)C(O)=O': 13, 'c1ccc2c(c1)c1cccc3cccc2c13': 12, 'O=C1CNC(=O)CN1': 12, 'ClC1=C(Cl)C(=O)C(=C(Cl)C1=O)Cl': 12, 'Oc1c(cc(cc1N(=O)=O)N(=O)=O)N(=O)=O': 12, 'OP(O)(O)=O': 12, 'NC1=Nc2ccccc2S1': 12, 'Cc1cncc(C)c1': 12, 'O=C1NC(=O)C=C1': 12, 'CN(C)c1ccc(C=O)cc1': 12, 'CCOc1ccccc1C(N)=O': 12, 'NC1=NC(=O)NC=C1F': 12, 'COc1cc(ccc1O)C(O)=O': 12, 'Nc1ccccc1': 11, 'Cc1cc(C)cc(C)c1': 11, 'Nc1ccc(N)cc1': 11, 'Nc1ccccn1': 11, 'OC(C(O)C(O)=O)C(O)=O': 11, 'Nc1ccc(C(O)=O)c(O)c1': 11, 'O=C1NCCN1': 11, 'OC(C(O)=O)c1ccccc1': 11, 'c1ccc2c(c1)c1ccccc1c1ccccc21': 11, 'O=C1NS(=O)(=O)c2ccccc12': 11, 'NC(=O)c1ccc(O)cc1': 11, 'O=C1OC(=O)c2cc3C(=O)OC(=O)c3cc12': 10, 'O=N(=O)c1ccc(cc1)N(=O)=O': 10, 'COc1cc(C=O)ccc1O': 10, 'CN(C)CCN(C)C': 10, 'Fc1c(F)c(F)c2c(F)c(F)c(F)c(F)c2c1F': 10, 'N1N=Nc2ccccc12': 10, 'O=C(c1ccccc1)c1ccncc1': 10, 'CC=CC=CC(O)=O': 10, 'O=C1CCCN1': 10, 'Cc1nccnc1C': 10, 'NC(=O)c1ccccc1O': 9, 'c1ccc(cc1)C=Cc1ccccc1': 9, 'NC(=S)C(N)=S': 9, 'OC(=O)c1cc(cc(c1)C(O)=O)C(O)=O': 9, 'NC1CCCCC1N': 9, 'OC(CC(O)=O)C(O)=O': 9, 'OC(=O)c1ccccc1C(O)=O': 9, 'Nc1cccc(c1)C(O)=O': 9, 'O=C1CCCC(=O)N1': 9, 'O=C1NC(=O)NC(=O)N1': 9, 'c1ccc2nccnc2c1': 9, 'CC(=NO)C(C)=NO': 9, 'c1cnc2ccc3ncccc3c2c1': 9, 'c1ccc2cnccc2c1': 9, 'COc1ccc(cc1)C=Cc1ccncc1': 9, 'Fc1c(F)c(I)c(F)c(F)c1I': 9, 'C1Cc2cccc3cccc1c23': 8, 'OC(=O)c1cccc(c1)N(=O)=O': 8, 'C1COCCOCCOCCOCCOCCO1': 8, 'Nc1ccc(cc1)N(=O)=O': 8, 'Cc1ccccn1': 8, 'CC1=CC=CC(=O)N1': 8, 'C1CCNCC1': 8, 'Cc1cccc2c1Sc1c(C)cccc21': 8, 'ON=C(C#N)c1ccc(Br)cc1': 8, 'OC(=O)c1ccccc1F': 8, 'OC(=O)c1ccc(O)c(O)c1': 8, 'C1COCCOCCOCCOCCOCCOCCOCCO1': 8, 'CCN1C=Nc2c(N)ncnc12': 7, 'NC1=NC(=O)NC=C1': 7, 'N1c2ccccc2Sc2ccccc12': 7, 'N1c2ccccc2c2ccccc12': 7, 'Cc1cc(C)c(C)cc1C': 7, 'C1COCCOCCOCCO1': 7, 'CN(C)c1ccc(cc1)C(O)=O': 7, 'CC(=O)Oc1ccccc1C(O)=O': 7, 'C#Cc1ccc(cc1)C#C': 7, 'COc1cc(O)cc(O)c1': 7, 'c1ccc(C=Cc2ccccn2)nc1': 7, 'c1ccc(cc1)c1ccncc1': 7, 'CN(C)C(=O)N(C)C': 7, 'O=C1CC(=O)NC(=O)N1': 7, 'COC(=O)c1ccncc1': 7, 'COc1cc(OC)nc(N)n1': 7, 'Cc1ccccc1C(O)=O': 7, 'Cc1cc(Cl)nc(N)n1': 7, 'Nc1cnccn1': 7, 'COc1ccc(cc1)C(O)=O': 7, 'CC(C)C(=O)Nc1cccc(NC(=O)C(C)C)n1': 7, 'COC(=O)C=Cc1cccnc1': 7, 'Brc1cccnc1': 7, 'N(c1ccccc1)c1ccccc1': 6, 'ClC1=C(Cl)C(=O)C(=C(C#N)C1=O)C#N': 6, 'Nc1cccc2c(N)cccc12': 6, 'S1c2ccccc2c2ccccc12': 6, 'O=C1C=CC(=O)c2ccccc12': 6, 'c1ccc(cc1)c1ccccc1': 6, 'O=N(=O)c1cccc(c1)N(=O)=O': 6, 'OC(=O)CC1=CNc2ccccc12': 6, 'OC(=O)CCCCCC(O)=O': 6, 'Oc1ccc(Cl)cc1': 6, 'Oc1ccc2ccccc2c1': 6, 'OC(=O)CNC(=O)NCC(O)=O': 6, 'c1ccc2c(c1)cnc1ccccc21': 6, 'Nc1ccc(cn1)N(=O)=O': 6, 'OC(=O)CCCCCCCCC(O)=O': 6, 'Cc1cc(C)nc(C)c1': 6, 'OC1=CC(=O)C(=CC1=O)O': 6, 'c1ccc(cc1)C#Cc1ccccc1': 6, 'OC(=O)c1cccc(Cl)c1': 6, 'c1cnc2c(c1)ccc1ncccc21': 6, 'Oc1ccc(cc1)c1ccc(O)cc1': 6, 'N#CCCCCC#N': 6, 'OB(O)c1ccccc1': 6, 'OC1=C(Cl)C(=O)C(=C(Cl)C1=O)O': 6, 'NC(=O)CN1CCCC1=O': 6, 'c1cc(ccn1)C#CC#Cc1ccncc1': 6, 'Cc1cccnc1C': 6, 'NN1C=NN=C1': 6, 'OC(=O)c1ccc(Cl)cc1': 6, 'OB(O)c1ccc(O)cc1': 6, 'COC(=O)c1ccc(O)cc1': 6, 'OCC(O)=O': 6, 'CN(C)C(N)=O': 6, 'C(N1C=CN=C1C1=NC=CN1Cc1ccncc1)c1ccncc1': 6, 'C(N1C=CN=C1C1=NC=CN1Cc1cccnc1)c1cccnc1': 6, 'OB(O)c1ccc(Cl)cc1': 6, 'N1C=CN=C1c1cccnc1': 6, 'OC(=O)c1cc(O)c(O)c(O)c1': 6, '[Se]1N=C2C=CC=CC2=N1': 6, 'Oc1cccc(O)c1N(=O)=O': 6, 'CN1C=CC(=NC1=O)N': 5, 'Oc1ccc(Br)cc1': 5, 'Nc1ccc(cc1)S(N)(=O)=O': 5, 'N1C=Cc2ccccc12': 5, 'OC(=O)C(OC(=O)c1ccccc1)C(OC(=O)c1ccccc1)C(O)=O': 5, 'CC1=CC(=O)C(=CC1=O)C': 5, 'CN(C)c1ccccc1': 5, 'CN1CCCC1c1cccnc1': 5, 'NC(=O)C=Cc1ccccc1': 5, 'Oc1ccc2ccccc2c1c1c(O)ccc2ccccc12': 5, 'Oc1ccc(cc1)C#N': 5, 'OC(=O)CCl': 5, 'CC1=CC(=NN1)C': 5, 'CC1=CC(C(=CC1=C(C#N)C#N)C)=C(C#N)C#N': 5, 'OC(=O)C1=Cc2ccccc2N1': 5, 'CCC(O)=O': 5, 'OC(=O)CNC(=O)C(=O)NCC(O)=O': 5, 'NC(=O)Nc1ccccc1': 5, 'Cc1cc(cc(C)c1N)c1cc(C)c(N)c(C)c1': 5, 'c1cncc(c1)C#CC#Cc1cccnc1': 5, 'NC(=O)N1c2ccccc2C=Cc2ccccc12': 5, 'Fc1c(F)c(F)c(I)c(F)c1F': 5, 'Cc1ccnc(N)n1': 5, 'OC(=O)C1CCC(CC1)C(O)=O': 5, 'Cc1ccncc1C': 5, 'OC(=O)c1ccc2ccccc2c1O': 5, 'CC(=O)Nc1ccc(O)cc1': 5, '[O]n1ccn([O])cc1': 5, 'O=Cc1ccncc1': 5, 'COc1ccncc1': 5, 'CC1=NN2C=C(C)N=C2S1': 5, 'CCN(CC)CC': 5, 'OC(=O)c1ccc(F)cc1': 5, 'Cc1cnc(C)cn1': 5, 'OC(=O)c1cccc(F)c1': 5, 'OC(=O)c1cccc(O)c1O': 5, 'OC(=O)Cc1ccc(cc1)N(=O)=O': 5, 'c1cncc(c1)N=Nc1cccnc1': 5, 'O1C(=CN=C1c1ccccc1)c1ccccc1': 5, 'CNC(C)=O': 5, 'O=N(=O)NCCNN(=O)=O': 5, 'Clc1cccnc1': 5, 'O1C=CC=C1C1=CC=C(S1)c1ccncc1': 5, 'Oc1c(F)c(F)c(O)c(F)c1F': 5, 'c1ccc(cc1)C=Cc1ccncc1': 5, 'CC1=CC(=O)c2ccccc2C1=O': 5, 'c1cc2ccc3ccc4ccc5ccc6ccc1c1c2c3c4c5c61': 5, 'COc1cccc(C=Nc2cccnc2)c1O': 5, 'Clc1ccccc1Cl': 5, 'Oc1cccc2cccnc12': 4, 'Nc1ccc(cc1)c1ccc(N)cc1': 4, 'Oc1cc2ccccc2cc1O': 4, 'c1ccc2c(c1)nnc1ccccc21': 4, 'COC1=CC(C(=CC1=C(C#N)C#N)OC)=C(C#N)C#N': 4, 'c1ccc2c(c1)c1ccccc21': 4, 'OC(=O)Cc1ccccc1': 4, 'N#Cc1cccnc1': 4, 'O=C1c2cc(ccc2c2c1cc(cc2N(=O)=O)N(=O)=O)N(=O)=O': 4, 'Oc1ccc2ccc(O)cc2c1': 4, 'CC(=O)c1ccncc1': 4, 'c1cncnc1': 4, 'Cc1ccc(cc1)S(O)(=O)=O': 4, 'O=N(=O)c1cc(cc(c1)N(=O)=O)C#N': 4, 'O=C1c2ccccc2C(=O)c2ccccc12': 4, 'ON(=O)=O': 4, 'COc1ccc2cc(OC)ccc2c1': 4, 'CC(N)c1ccccc1': 4, 'CC1(C)CCCC(C)(C)N1[O]': 4, 'ClC1=CC(=O)C=C(Cl)C1=O': 4, 'CCCCC1(CCCC)C(=O)NC(=O)NC1=O': 4, 'Cc1cccc(C)n1': 4, 'O=N(=O)c1cccc2ncccc12': 4, 'CC(C)(OO)OO': 4, 'CCN(CC)C(N)=O': 4, 'Oc1ccc(Cl)c(O)c1': 4, 'CN1C=CNC1=S': 4, 'O=C1NCc2ccc(CNC(=O)c3cccc(c3)C(=O)NCc3ccc(CNC(=O)c4cccc1c4)cc3)cc2': 4, 'O=C1NC(=O)c2ccccc12': 4, 'c1ccc2cnncc2c1': 4, 'OC(=O)c1cccnc1': 4, 'Oc1cccc2c(O)cccc12': 4, 'COc1ccc(cc1)B(O)O': 4, 'CC(O)C(O)=O': 4, 'Cc1ccc(cc1)C(N)=O': 4, 'CC(=O)Nc1ccccn1': 4, 'OC(=O)CC(O)(CC(O)=O)C(O)=O': 4, 'Cc1nc(N)nc(N)n1': 4, 'Nc1ccccc1N': 4, 'OC(=O)c1ccc2cc(O)ccc2c1': 4, 'Oc1cccc(c1)C#N': 4, 'Cc1cncc(C)n1': 4, 'C(Oc1ccncc1)C(COc1ccncc1)(COc1ccncc1)COc1ccncc1': 4, 'Fc1c(F)c(Br)c(F)c(F)c1Br': 4, 'N#Cc1nc(C#N)c(nc1C#N)C#N': 4, 'Oc1cc(O)cc(c1)C#N': 4, 'Cc1ccc2ccc3ccc(C)nc3c2n1': 4, 'Nc1cc(cc(c1)C(O)=O)C(O)=O': 4, 'Cc1ccccc1O': 4, 'OB(O)c1ccc(cc1)B(O)O': 4, 'OC(=O)c1c(F)cccc1F': 4, 'OC(=O)c1cc(F)cc(F)c1': 4, 'Cc1c(cc(cc1N(=O)=O)N(=O)=O)N(=O)=O': 4, 'C1CSCCS1': 4, 'Cc1cccc(c1)C(O)=O': 4, 'CCCCCCCCC(O)=O': 4, 'CP(=O)(c1ccccc1)c1ccccc1': 4, '[Se]=P(c1ccccc1)(c1ccccc1)c1ccccc1': 4, 'C1CCN(C1)c1ccncc1': 4, 'Cc1cccc2SC(=Nc12)N': 4, 'N1C=Nc2ncccc12': 4, 'O=C(NCCCCNC(=O)c1cccnc1)c1cccnc1': 4, 'NC(=O)c1ccc(N)cc1': 4, 'OC(=O)c1c(F)c(F)c(Br)c(F)c1F': 4, 'O=C1C=C(Oc2ccccc12)c1ccccc1': 4, 'Nc1cccc(Cl)n1': 4, 'N1C=CN=C1c1cnccn1': 4, 'OC(=O)c1cc(F)c(F)c(F)c1': 4, 'S1C=CC=C1C1=CC=C(S1)c1ccncc1': 4, 'O=C(NCc1ccncc1)C(=O)NCc1ccncc1': 4, 'Cc1cc2N=CN(Cc3cccnc3)c2cc1C': 4, 'O=C(NCc1ccncc1)NCc1ccncc1': 4, 'Oc1ccc2ccccc2c1C=NN1CCOCC1': 4, 'Cc1ccc2ncccc2c1': 4, 'O=C1C=CC(=O)C(=C1C#N)C#N': 4, 'C1c2cc(ccc2c2ccc(cc12)c1ccncc1)c1ccncc1': 4, 'C1CN2CCN3CCCN4CCN(C1)C2C34': 4, 'OC(=O)c1cc(Cl)ccc1O': 3, 'Oc1c(O)c(Cl)c(Cl)c(Cl)c1Cl': 3, 'N#CCC#N': 3, 'Cc1cccc(O)c1': 3, 'NS(=O)(=O)c1ccccc1': 3, 'CNC(N)=O': 3, 'CS(O)(=O)=O': 3, 'c1ccc2c(c1)ccc1cccnc21': 3, 'CNC(N)=S': 3, 'O=C1CCCCC1': 3, 'CN1CCN(C)C1=O': 3, 'OC(c1ccccc1)c1ccccc1': 3, 'CN1CCN(C)CC1': 3, 'Cl[As](Cl)Cl': 3, 'c1ccnnc1': 3, 'Cc1ccc2cc(C)ccc2c1': 3, 'Cc1cc(ccc1N)N(=O)=O': 3, 'S1SSSSSSS1': 3, 'Oc1cccc2ccccc12': 3, 'C1OC1c1ccccc1': 3, 'N1C=NC=N1': 3, 'Nc1ccc2ccc3c(N)ccc4ccc1c2c34': 3, 'CC(C)C1CCC(C)CC1O': 3, 'C12=C3C4=C5C6=C7C3=C3C8=C1C1=C9C%10=C2C4=C2C4=C%10C%10=C%11C%12=C4C4=C%13C%14=C(C5=C24)C6=C2C4=C7C3=C3C5=C8C1=C1C(=C9%10)C6=C%11C7=C8C9=C6C1=C5C1=C9C5=C(C4=C31)C2=C%14C(=C85)C%13=C%127': 3, 'c1ccc(cc1)C#CC#Cc1ccccc1': 3, 'NC1=NC=NN1': 3, 'Cc1ccnc(C)c1': 3, 'FC(F)(I)C(F)(F)I': 3, 'CN(C)c1ccc(cc1)C(O)C(O)c1ccc(cc1)N(C)C': 3, 'C1c2ccccc2c2ccccc12': 3, 'CN1c2ccccc2c2ccccc12': 3, 'Nc1ccc(cc1)C#N': 3, 'CC(=CC(O)=O)C(O)=O': 3, 'ClC1=CNC(=O)C=C1': 3, 'OC(=O)c1cccc2cccc(C(O)=O)c12': 3, 'O=C(NCc1ccccn1)NCc1ccccn1': 3, 'CC1=CSC(S1)=C1SC=C(C)S1': 3, 'O=S1CCS(=O)CC1': 3, 'CNC(=O)NC': 3, 'NC(=O)c1ccc(Cl)cc1': 3, 'O=C(NCc1cccnc1)C(=O)NCc1cccnc1': 3, 'CC(C)(C)c1ccc(O)c(c1)C(C)(C)C': 3, 'CN1CCOCC1': 3, 'CN(C)c1cccc(c1)C(O)=O': 3, 'N#CCCCCCCC#N': 3, 'NC1=NC=CS1': 3, 'OC(=O)C=CC=CC(O)=O': 3, 'c1ncncn1': 3, 'Oc1cc(O)cc(I)c1': 3, 'O1C(=NN=C1c1ccncc1)c1ccncc1': 3, 'OC(=O)c1ccc(F)cc1F': 3, 'Nc1cccc(O)c1': 3, 'Cc1ccc2N3CN(Cc2c1)c1ccc(C)cc1C3': 3, 'S(c1ccncc1)c1ccncc1': 3, 'S(Sc1ccncc1)c1ccncc1': 3, 'OC(=O)c1c(O)cccc1O': 3, 'NC(N)=N': 3, 'OC(=O)c1c(F)c(F)c(F)c(F)c1F': 3, 'O=C1CCCCCO1': 3, 'CNc1ccccc1': 3, 'CN1c2ccccc2N=C1c1ccncc1': 3, 'Oc1ccc(I)cc1': 3, 'CCOc1ccc(cc1)C(O)=O': 3, 'Oc1ccc2cc(O)ccc2c1': 3, 'O=C1c2cccnc2c2ncccc12': 3, 'CN1N=NC(=N1)N': 3, 'C1CCNC1': 3, 'CN(C)C(=N)N(C)C': 3, 'NC1=NC(=CS1)C1=CSC(=N1)N': 3, 'Oc1ccccc1C=O': 3, 'O=C1C2CCCN2C(=O)C2CCCN12': 3, 'COc1ccc(OC)cc1': 3, 'CCCC1=CC(=O)NC(=S)N1': 3, 'Nc1cnc(Br)cn1': 3, 'Nc1ncc(Br)nc1Br': 3, 'Cc1cc(C)nc(n1)c1nc(C)cc(C)n1': 3, 'OC(=O)C=Cc1ccc(O)cc1': 3, 'O=C1NC=C(C=C1)N(=O)=O': 3, 'Nc1cccc(N)n1': 3, 'CNC(=O)N(C)C': 3, 'C(N1C=CN=C1)N1C=CN=C1': 3, 'CN1C=NC2=C1C(=O)N(CCCCC(C)=O)C(=O)N2C': 3, 'CN1C=C(N=C1N(=O)=O)N(=O)=O': 3, 'c1cc(ccn1)c1cncnc1': 3, 'Cc1cc(C)c(B(O)O)c(C)c1': 3, 'Oc1cc(F)c(F)c(F)c1': 3, 'OC(=O)c1ccc(Br)cc1': 3, 'OC(=O)c1cc(F)ccc1F': 3, 'OC(=O)c1cccc(F)c1F': 3, 'Cc1cc2N=CN(Cc3ccncc3)c2cc1C': 3, 'Cc1c2ccccc2cc2ccccc12': 3, 'ON=C(C#N)c1ccc(O)cc1': 3, 'CN1N=NC2=C(N=CN2C1=O)C(N)=O': 3, 'Nc1nc(N)nc(n1)c1ccccc1': 3, 'CC1(C)OOC(C)(C)OO1': 3, 'Fc1ccccc1F': 3, 'NC1=NN=CS1': 3, 'CC(C)CCCC(C)C1CCC2C(CCCC12C)=CC=C1CC(O)CCC1=C': 3, 'OC(=O)C1=CC=C(Cl)S1': 3, 'OC(=O)C1=CC=CS1': 3, 'O=N(=O)c1cccc2ccccc12': 3, 'OC(=O)c1ccc(F)c(F)c1F': 3, 'OC(=O)c1cc(F)cc(F)c1F': 3, 'OC(=O)c1cc(F)c(F)cc1F': 3, 'OC(=O)c1ccc(F)c(F)c1': 3, 'FS(F)(F)F': 3, 'OC(=O)CCCCCCCCCCC(O)=O': 3, 'Brc1c2ccccc2cc2ccccc12': 3, 'COC1=CC=CNC1=O': 3, 'c1ccc(cc1)N=Nc1ccncc1': 3, 'CC(C)(O)C(C)(C)O': 3, 'c1ccc2N3N=NC=C3C=Cc2c1': 3, 'C(N1C=CN=C1)c1ccncc1': 3, 'O=C1Oc2ccccc2C=C1': 3, 'CC1=CC(=NC#N)C(=CC1=NC#N)C': 3, '[Te]1C(=Nc2cccnc12)c1ccncc1': 3, 'CC1CCCCN1': 3, 'CC(=C)C(=O)OCCCCCCOc1ccc(cc1)C=Cc1ccncc1': 3, 'OC(=O)c1ccc(cc1Cl)N(=O)=O': 3, 'c1ccc2cc3cc4ccccc4cc3cc2c1': 3, 'C1CCOc2ccc(COCc3cccc(n3)c3cccc(COCc4ccc(OC1)cc4)n3)cc2': 3, 'OOC1(CCCCC1)OO': 3, 'OB1OCc2cc(F)ccc12': 3, 'O=C(NCc1cccnc1)NCc1cccnc1': 3, 'COc1cccc(C=Nc2ccncc2)c1O': 3, 'Oc1ccccc1C=Nc1cccnc1': 3, 'C1CCOc2ccc(CCCc3cccc(n3)c3cccc(CCCc4ccc(OC1)cc4)n3)cc2': 3, 'Cc1nc(C)c(Cl)c(N)n1': 3, 'OC(=O)C1=CNC(=O)NC1=O': 3, 'Oc1ccc(Br)cc1C=Nc1cccnc1': 3, 'c1cc2nc(c1)c1ccc(cc1)c1ccc(cc1)c1ccc(cc1)c1ccc(cc1)c1ccc2cc1': 3, 'S1c2ccc3Sc4ccc5Sc6ccc1c1c2c3c4c5c61': 3, 'CC(C)(C)c1ccc(cc1)C(O)=O': 3, 'COc1ccc2cc(C=O)ccc2c1': 3, 'CN(C)C(N)=[Se]': 3, 'CC1=CNc2ccccc12': 2, 'BrCBr': 2, 'COc1cccc(OC(C)C(O)=O)c1': 2, 'CN1C=C(F)C(=O)NC1=O': 2, 'CCC1(C(=O)NC(=O)NC1=O)c1ccccc1': 2, 'CN(C)c1ccc(cc1)c1ccc(cc1)N(C)C': 2, 'O=S1CCCC1': 2, 'CN1C=CC=CC1=O': 2, 'OCCNCCO': 2, 'N#Cc1ccccc1': 2, 'NC(N)=NC1=Nc2ccccc2N1': 2, 'CC1=CC(=O)C=C(C)O1': 2, 'Cc1cccnc1N': 2, 'Cc1ccc(O)cc1': 2, 'CN1N(C(=O)C=C1C)c1ccccc1': 2, 'C1CN2CCC1CC2': 2, 'CCCCN1C=C(C)C(=O)NC1=O': 2, 'CCc1c(CC)c(CC)c(CC)c(CC)c1CC': 2, 'N#Cc1cc(cc(c1)C#N)C#N': 2, 'CC1CCC(=O)CC1': 2, 'CC1CCCCC1=O': 2, 'CS(=O)(=O)NS(C)(=O)=O': 2, 'OC(=O)CCCCCCCCCCCCC(O)=O': 2, 'NC(=O)NC(N)=O': 2, 'COc1ccc(OC)c(C=CC(O)=O)c1': 2, 'NS(=O)(=O)C(F)(F)F': 2, 'Cc1ccc2ccc(C)cc2c1': 2, 'O=C1OC(=O)c2ccc3C(=O)OC(=O)c4ccc1c2c34': 2, 'CC1(C)C2CCC(C)(C2)C1=O': 2, 'CN(C)c1ccc(C=CC(O)=O)cc1': 2, 'CC1(C)C(=O)NC(=O)NC1=O': 2, 'CC(C)N(C)C(=O)C(=O)c1ccccc1': 2, 'Nc1ccc(cc1)N=O': 2, 'COc1ccc2cc(ccc2c1)C(C)C(O)=O': 2, 'Nc1c(Cl)cc(cc1Cl)S(N)(=O)=O': 2, 'Nc1cccc(N)c1': 2, 'CN(CN(C)N(=O)=O)N(=O)=O': 2, 'CCCCCCCCCCCCc1nc(N)nc(N)n1': 2, 'CC(C(O)=O)c1ccccc1': 2, 'CN1C=CC=C1C(O)=O': 2, 'NC1=NN=NN1': 2, 'OC(=O)CCC(=O)C(O)=O': 2, 'O[Si](c1ccccc1)(c1ccccc1)c1ccccc1': 2, 'OC(=O)CSCC(O)=O': 2, 'Nc1cc(N)nc(N)n1': 2, 'C1COCCOc2cccc3c(OCCOCCOCCOCCOc4cccc5c(OCCOCCO1)cccc45)cccc23': 2, 'CC1=Nc2ccccc2S1': 2, 'CC(C)=NNC(N)=S': 2, 'CC(N)C(C)N': 2, 'c1ccc(nc1)C#Cc1ccccn1': 2, 'C1COCCOCCNCCOCCOCCN1': 2, 'CC(=O)CC(C)(C)O': 2, 'Cc1ccc(cc1)C=C(C#N)c1ccc(cc1)C(=Cc1ccc(C)cc1)C#N': 2, 'CN1C(=O)NC(=O)NC1=O': 2, 'OC(=O)c1cc(cc(c1)N(=O)=O)C(O)=O': 2, 'Nc1cccc2cccc(N)c12': 2, 'CCN1C=NC2=C1N=CN=C2N': 2, 'FC(F)(F)c1ccccc1': 2, 'N#CC(C#N)c1ccc(cc1)c1ccc(cc1)C(C#N)C#N': 2, 'Oc1ccc(cc1)C(=O)c1ccc(O)cc1': 2, 'CCCC=CC(O)=O': 2, 'C1CCC(CC1)NC1CCCCC1': 2, 'OC(=O)c1ccc(Oc2ccc(cc2)C(O)=O)cc1': 2, 'NC1=Nc2ccccc2N1': 2, 'c1ccc2ncc(cc2c1)C#CC#Cc1cnc2ccccc2c1': 2, 'c1ccc2c(c1)cncc2C#CC#Cc1cncc2ccccc12': 2, 'c1cnc2cccnc2c1': 2, 'Cc1cc(C)c(c(C)c1)C(O)=O': 2, 'N1C=Nc2ccccc12': 2, 'CCOc1ccccc1C=CC(O)=O': 2, 'Clc1nc(Cl)nc(Cl)n1': 2, 'CC(=O)c1c(O)cc(O)cc1O': 2, 'Oc1ccccc1c1ccccc1': 2, 'c1ccc(cc1)N=Nc1ccccc1': 2, 'O=Cc1ccccc1': 2, 'Nc1ccc(Cc2ccc(N)cc2)cc1': 2, 'Ic1ccncc1': 2, 'OC(=O)CC=CCC(O)=O': 2, 'c1ncc(cn1)c1cncnc1': 2, 'Ic1ccc(I)cc1': 2, 'O=C1NCc2ccc(CNC(=O)c3cncc(c3)C(=O)NCc3ccc(CNC(=O)c4cncc1c4)cc3)cc2': 2, 'OC(=O)c1cccc(n1)C(O)=O': 2, 'OC(=O)C=C': 2, 'CCCCCCCCOc1ccc(cc1)C=Cc1ccncc1': 2, 'Cc1c(C)c(C)c(c(C)c1C)C(O)=O': 2, 'ON=C(C#N)c1cccc(Cl)c1': 2, 'Cc1cc(nc(N)n1)c1cccnc1': 2, 'O=C1Nc2ccccc2S1': 2, 'COc1ccc(C=O)cc1': 2, 'C1COCCOc2ccccc2OCCOCCOCCOc2ccccc2OCCO1': 2, 'OC(=O)c1ccc(cc1)C#N': 2, 'CC(=O)Nc1cccc(NC(C)=O)n1': 2, 'Nc1c(F)c(F)c(F)c(F)c1F': 2, 'Nc1ccccc1N(=O)=O': 2, 'CC(=O)NCc1ccncc1': 2, 'O=C1NC=CC(=O)N1': 2, 'O=C1CCC(CC1)C1CCC(=O)CC1': 2, 'OC1CCCCC1O': 2, 'C1CSCCN1': 2, 'O=C1NN=Cc2ccccc12': 2, 'O=C1C(=O)c2cccnc2c2ncccc12': 2, 'COc1cncc(c1)C#Cc1cccnc1': 2, 'CCCCCCOc1ccc(cc1)C=Cc1ccncc1': 2, 'OC(=O)c1cc(C(O)=O)c(cc1C(O)=O)C(O)=O': 2, 'Oc1c(Cl)cc(Cl)cc1Cl': 2, 'Oc1ccc(C=O)c(O)c1': 2, 'Cc1ccc2N=C(N)Sc2c1': 2, 'CC1=C(C)SC(S1)=C1SC(=C(C)S1)C': 2, 'CC1=CC(=O)NC=C1': 2, 'OC(=O)CCSc1ccccc1': 2, 'CC(C)(C)P(=O)c1ccccc1': 2, 'Oc1ccc(Br)c(O)c1': 2, 'C(CCN1C=CN=C1)CN1C=CN=C1': 2, 'O=N(=O)c1cc2cccnc2c2ncccc12': 2, 'CCC(N)=O': 2, 'CC1(C)C(CCC1(C)C(O)=O)C(O)=O': 2, 'CC(C)(C)C(O)=O': 2, 'CC1(C)N([O])C(C)(C)c2ccccc12': 2, 'CC1(C)C(=O)NC(=O)C1(C)C': 2, '[N]1SSN=C1c1ccccc1': 2, 'OC1=C(F)C(=O)C(=C(F)C1=O)O': 2, 'Oc1ccc2ccc3cccc4ccc1c2c34': 2, 'Oc1cc2ccccc2c2ccccc12': 2, 'O=C1CC2(CCCCC2)CN1': 2, 'OC(=O)c1ccc(Cl)c(Cl)c1': 2, 'CCN(CC)C=O': 2, 'c1cc(ccn1)C1C(C(C1c1ccncc1)c1ccncc1)c1ccncc1': 2, 'S1C=CC2=C1C=CS2': 2, 'N1C=CN=C1C1=NC=CN1': 2, 'C12=C3C4=C5C6=C1C1=C7C2=C2C8=C3C3=C9C%10=C8C8=C%11C%12=C%13C(=C28)C7=C2C7=C1C1=C6C6=C8C%14=C1C7=C1C(=C%132)C2=C%12C7=C%12C%13=C(C9=C9C(=C43)C(=C56)C3=C8C4=C(C%13=C93)C%12=C2C1=C%144)C%10=C%117': 2, 'NC(=S)c1ccccc1': 2, 'CC(=CC=C(C)C(O)=O)C(O)=O': 2, 'c1cc2cccc(c3ccncc3)c2c(c1)c1ccncc1': 2, 'O=C1c2ccccc2c2ccccc12': 2, 'COc1cccc(c1)B(O)O': 2, 'N1C=NN=N1': 2, 'Nc1c(F)c(N)c(c(F)c1F)C(F)(F)F': 2, 'OC(=O)c1ccccc1Cl': 2, 'OC(=O)c1ccccc1S': 2, 'S1C(=NC2=C1N=C(S2)c1ccncc1)c1ccncc1': 2, 'CCC1(CC)C(=O)NC=CC1=O': 2, 'OC(=O)C1=CC(=NN1)C(O)=O': 2, 'COc1ccc2N=C(N)Sc2c1': 2, 'O=Cc1cccc2ccccc12': 2, 'Nc1cccc(c1)C#N': 2, 'CN(C)C(=S)N(C)C': 2, 'Cc1cc(C)c2ccc(N)nc2n1': 2, 'OC(=O)CN1C(=O)c2ccccc2C1=O': 2, 'OC(=O)c1cccc(Br)c1': 2, 'Cc1ccc(cc1)S(N)(=O)=O': 2, 'COC(=O)c1ccc(C=Cc2ccncc2)cc1': 2, 'C1CCN2CCCN=C2CC1': 2, 'CCCOC(=O)c1ccc(O)cc1': 2, 'COC(=O)c1cccnc1': 2, 'CC1=C(Cl)C(=NN1)C': 2, 'C1CCCCOCCOCCOCCOCCOCCOCCC1': 2, 'Oc1ccc(F)cc1': 2, 'ON=C1CCCCC1=NO': 2, 'O=C1NC=Nc2ccccc12': 2, 'Nc1cc(ccc1O)N(=O)=O': 2, 'O1N=C(N=C1c1ccncc1)c1ccncc1': 2, 'Nc1cccnc1': 2, 'Fc1ccc(F)cc1': 2, 'CC(=O)Nc1ccccc1': 2, 'CNC(=O)c1ccccc1': 2, 'CC1(C)CC(CC(C)(C)N1[O])OC(=O)c1ccccc1': 2, 'S1C2=CC=C3SC(=C(C4=CC=C(S4)C=CC4=CC=C(S4)C(=C1C=C2)c1ccccc1)c1ccccc1)C=C3': 2, 'Cc1c(C)c(N)c(C)c(C)c1N': 2, 'Nc1nc(N)c(F)c(Cl)c1F': 2, 'Fc1c(F)c(F)c(I)c(I)c1F': 2, 'CCCC(O)=O': 2, 'NC(=O)c1ccc(cc1)N(=O)=O': 2, 'c1cncc(c1)c1cc(c2cccnc2)c(cc1c1cccnc1)c1cccnc1': 2, 'N1C=Nc2cccnc12': 2, 'OC(=O)COc1ccc2ccccc2c1': 2, 'Fc1cc(F)c(F)c(I)c1F': 2, 'C12=C3C4=C5C6=C3C3=C7C8=C9C3=C1C1=C3C9=C9C%10=C3C3=C%11C%12=C%13C3=C1C2=C1C4=C2C(=C%131)C1=C%12C3=C4C%12=C1C1=C%13C%14=C(C5=C21)C1=C2C5=C(C7=C61)C1=C6C5=C5C(=C%142)C(=C%12%13)C2=C4C4=C3C%11=C%10C3=C4C(=C52)C6=C3C9=C81': 2, 'OC(=O)C(Cl)Cl': 2, 'O=C(NCCCCCCCCNC(=O)c1cccnc1)c1cccnc1': 2, 'O=C(NCCNC(=O)c1cccnc1)c1cccnc1': 2, 'C1CCCOc2ccc(CCCc3cccc(n3)c3cccc(n3)c3ccc(OCCC1)cc3)cc2': 2, 'O=C1CCCC1': 2, 'CC1CCCC(=O)C1': 2, 'N1C(=Cc2cc3C=C(Nc3nc12)C1=CC=CO1)C1=CC=CO1': 2, 'C(N1C=CN=C1C1=NC=CN1Cc1ccccn1)c1ccccn1': 2, 'CC(C)(CC(O)=O)C(O)=O': 2, 'Cc1c(C)n([O])c(C)c(C)n1[O]': 2, 'O=C1CCCCCCN1': 2, 'CC(O)c1ccccc1': 2, 'O=C1C=CNC=C1': 2, 'Cc1ccnc2c1ccc1c(C)ccnc21': 2, 'Clc1ccc(Cl)c(Cl)c1': 2, 'CC(CC(O)=O)C(O)=O': 2, 'NC(=O)CCC(O)=O': 2, 'c1ccc2c(c1)ccc1ncccc21': 2, 'Oc1cc(O)c(I)cc1I': 2, 'O=C(C=Cc1ccccc1)C=Cc1ccccc1': 2, 'S=C1NC(=S)NC(=S)N1': 2, 'N1C=CN=C1c1ccccn1': 2, 'Nc1ccc(Cl)cc1': 2, 'Nc1cccc(Cl)c1': 2, 'Nc1cc(Cl)cc(Cl)c1': 2, 'Nc1ccc(Br)cc1': 2, 'NC(=O)c1cccc(N)c1': 2, 'OC(=O)c1c(F)ccc(F)c1F': 2, 'OC(=O)c1c(F)cc(F)cc1F': 2, 'Cc1ccc(N)cc1': 2, 'O=N(=O)C1=CNN=C1N(=O)=O': 2, 'CC(C)(C)c1cc(O)c(O)c(c1)C(C)(C)C': 2, 'Brc1ccccn1': 2, 'Nc1ccncc1': 2, 'N#CCc1ccc(CC#N)cc1': 2, 'C1Oc2ccc(cc2)c2ccc3ccc4ccc(nc4c3n2)c2ccc(OCc3ccc(Oc4ccc1cc4)cc3)cc2': 2, 'Nc1ccc(Cl)cn1': 2, 'CCCOc1ccc(cc1)C(O)=O': 2, 'C1CN2CN3CCN(CN1C3)C2': 2, 'Clc1cccc(Cl)c1': 2, 'C1=CN2N=NC=C2C=C1': 2, 'NC(=O)c1ccccc1N': 2, 'ClC(=O)c1ccccc1': 2, 'Cc1cnc(C)c(C)n1': 2, 'CC1=CC(=O)NC(=O)N1': 2, 'COc1cccc(C=Nc2ccc(cc2)C(C)=O)c1O': 2, 'COc1cccc(C=Nc2ccc(cc2)C#N)c1O': 2, 'N1C=CC=N1': 2, 'C(N1C=Nc2ccccc12)c1ccncc1': 2, 'C(N1C=Nc2ccccc12)c1cccnc1': 2, 'C(N1C=CN=C1c1ccccc1)c1ccncc1': 2, 'C(N1C=CN=C1)c1cccnc1': 2, 'CC(=O)c1c2ccccc2cc2ccccc12': 2, 'COc1cc2cc3cc(OC)c(OC)cc3cc2cc1OC': 2, 'C=Cc1ccncc1': 2, 'N1C=CN=N1': 2, 'CCCCCc1ccc(cc1)c1ccc(cc1)C#N': 2, 'C1CCC2N=Cc3cc4C=NC5CCCCC5N=Cc5cc6C=NC7CCCCC7N=Cc7cc(C=NC2C1)cc(C=NC1CCCCC1N=Cc1cc(C=NC2CCCCC2N=Cc(c3)c4)cc(C=NC2CCCCC2N=Cc(c6)c5)c1)c7': 2, 'CC1CCCC(C)N1': 2, 'OC(=O)c1ccncc1': 2, 'Cc1cc(C)nc(NS(=O)(=O)c2ccc(N)cc2)n1': 2, 'COc1ccccc1OC': 2, 'CC(C)(C)c1ccc(O)cc1': 2, 'CCCC': 2, 'COc1ccc(C=O)cc1OC': 2, 'Cc1cnccn1': 2, 'c1ccc2c(c1)c(C=Cc1ccncc1)c1ccccc1c2C=Cc1ccncc1': 2, 'CCC(C)(OO)OO': 2, 'CCC(CC)(OO)OO': 2, 'S1c2ccccc2C2=C1c1ccccc1S2': 2, 'Clc1ccc2ccc3cccnc3c2n1': 2, 'O=C1NCc2cccc(CNC(=O)NCc3cccc(CN1)n3)n2': 2, 'Nc1ncc(cn1)C#C': 2, 'N1=S=NC2=C1N=S=N2': 2, 'COc1cccc(C=Nc2cccc3ccccc23)c1O': 2, 'COc1cccc(C=NC23CC4CC(CC(C4)C2)C3)c1O': 2, 'Nc1ccnc(N)n1': 2, 'CC(NC(=O)c1ccccc1N(=O)=O)c1ccccc1': 2, 'CCN(CC)CC(=O)Nc1c(C)cccc1C': 2, 'CC(=O)Nc1cc(cc(NC(C)=O)n1)C#C[Si](C)(C)C': 2, 'C(N1C=CN=C1C1=NC=CN1)c1ccccn1': 2, 'C(N1C=CN=C1C1=NC=CN1)c1cccnc1': 2, 'NC(=O)c1ccccc1F': 2, 'O=S1(=O)NC(=S)c2ccccc12': 2, 'Cc1ccc(O)c(c1)N1N=C2C=CC=CC2=N1': 2, 'CC1=CC(=NS(=O)(=O)O1)O': 2, 'COc1ccc(cc1)C(N)=O': 2, 'CN1C=NC(=C1N(=O)=O)N(=O)=O': 2, 'Cc1ccnc2N(C3CC3)c3ncccc3C(=O)Nc12': 2, 'c1ccc(cc1)N=Nc1cccnc1': 2, 'Fc1c(F)c(C#N)c(F)c(F)c1C#N': 2, 'COc1cc(C=CC(O)=O)ccc1O': 2, 'Brc1ccc2ccc3cccnc3c2n1': 2, 'CC(C)(C)c1cc(NC(=O)C=Cc2cc(cc(c2)C(C)(C)C)C(C)(C)C)cc(c1)C(C)(C)C': 2, 'Cc1cccc2c1[Se]c1c(C)cccc21': 2, 'ClCC=CCCl': 2, 'Oc1cccc(c1)N(=O)=O': 2, 'OCC#CCO': 2, 'CC(C)CCCC(C)C1CCC2C3CC=C4CC(O)CCC4(C)C3CCC12C': 2, 'O=C(NCc1ccccn1)C(=O)NCc1ccccn1': 2, 'COc1cc(C=O)cc(OC)c1Br': 2, 'CC(=O)c1ccc(C)cc1': 2, 'CN1CC(=O)N(C)CC1=O': 2, 'CC(C)c1ccc(C)cc1O': 2, 'COc1cc(CC=C)ccc1O': 2, 'CC(C)c1ccc(C)c(O)c1': 2, 'C1=NN=CN1N=NN1C=NN=C1': 2, 'c1ccc(nc1)C1C(C(C1c1ccccn1)c1ccccn1)c1ccccn1': 2, 'NN1CCOCC1': 2, 'O=C1Nc2ccccc2N1': 2, 'N#CN=C1C=CC(C=C1)=C(C#N)C#N': 2, 'CC1=CC=CO1': 2, 'CC1=CC=C(C)O1': 2, 'C=Cc1c2ccccc2cc2ccccc12': 2, 'C1=CC=C2C=CC=C2C=C1': 2, 'COC1OC(CO)C(O)C(O)C1O': 2, 'COc1cc2CC(CC3CCN(CC3)Cc3ccccc3)C(=O)c2cc1OC': 2, 'N#CC(=Cc1ccc(cc1)c1ccncc1)c1ccc(cc1)c1ccncc1': 2, 'N#CC1=N[Se]N=C1C#N': 2, 'CN(C)c1ccc(cc1)C#Cc1cncnc1': 2, 'CN(C)c1ccc(cc1)C#Cc1ncccn1': 2, 'S=P(c1ccccc1)(c1ccccc1)c1ccccc1': 2, 'CN1C=NC2=C1C(=O)NC(=O)N2C': 2, 'CC(NC(=O)c1ccccc1)c1ccc2ccccc2c1': 2, '[Te]1c2ccccc2N=C1c1ccncc1': 2, 'CN1CCN(C)C2C1N(C)CCN2C': 2, 'c1cncc(c1)C=Cc1cccnc1': 2, 'OC(=O)c1cc2OCCOCCOCCOc3cc4ccccc4cc3OCCOCCOCCOc(c2)c1': 2, 'CN1CNN(C)CN1': 2, 'CN1C=C(C)C(=O)NC1=O': 1, 'Brc1cc(Br)c(Br)cc1Br': 1, 'Nc1ncnc2N(C=Nc12)C1OC(CO)C(O)C1O': 1, 'Nc1nc(O)c2N=CN(C3CC(O)C(CO)O3)c2n1': 1, 'NC1=NC(=O)C=CN1': 1, 'C1=Cc2ccc3C=Cc4ccc(C=C1)c2c34': 1, 'CN(C)c1nc(nc(n1)N(C)C)N(C)C': 1, 'CN1C=Nc2c(N)ncnc12': 1, 'CN1C=C(F)C(=NC1=O)N': 1, 'CN1C(=O)N(C)C2=C(N(C)C(=O)N2C)C1=O': 1, 'CN1C=C(Br)C(=O)NC1=O': 1, 'CCN1C=Nc2cnc(N)nc12': 1, 'CCN1C(=Nc2c(N)ncnc12)Br': 1, 'CCN1C=Nc2c(N)nc(N)nc12': 1, 'Cl[Se](Cl)=O': 1, 'CCN1C=C(C)C(=O)NC1=O': 1, 'CN1C=CC(=O)NC1=O': 1, 'Nc1cc(N)cc(N)c1': 1, 'OC(O)C(Cl)(Cl)Cl': 1, 'CN1C=CC(=S)NC1=O': 1, 'CCOP(=O)(OCC)OCC': 1, 'O=CC1=CSc2ccccc12': 1, 'CN(C)c1ccc(N)cc1': 1, 'CC1=NN(C(=C1)O)c1ccccc1': 1, 'O1c2ccccc2Oc2ccccc12': 1, 'c1ccc2N=C3C=CC=CC3=Nc2c1': 1, 'CN(C)C1=C(C)N(C)N(c2ccccc2)C1=O': 1, 'CC(C)(C(O)=O)C(O)=O': 1, 'COC(=O)C#CC(=O)OC': 1, 'NC1=NC(=O)NC=C1Br': 1, 'O=C1NC(=O)C(=O)N1': 1, 'CC(=C)C1C2OC(=O)C1C1(O)CC3OC43C(=O)OC2C14C': 1, 'BrC1=CNC(=O)NC1=O': 1, 'CC(=O)N1C=C(C)c2ccccc12': 1, 'O=C1c2ccccc2C(=O)C1=NNc1ccccc1': 1, 'C1=CC2=CC=C3C=CC(=C1)N23': 1, 'C1CCC2(CC1)Nc1ccccc1N2': 1, 'CN1C=CN=C1': 1, 'CN(C)N=NC1=C(NC=N1)C(N)=O': 1, 'O=C1NC(=O)C(N1)(c1ccccc1)c1ccccc1': 1, 'Cc1cccc(C)c1O': 1, 'C1CCC(NC1)C12CC(C=C3CCCNC13)C1CCCCN1C2': 1, 'CC1=CC(=NO1)NS(=O)(=O)c1ccc(N)cc1': 1, 'NCCO': 1, 'CC1=[S]C([S]=C1C)=C1[S]=C(C)C(=[S]1)C': 1, 'O=C1CNC(=S)N1': 1, 'COC(=O)C(C#N)C(C#N)C(=O)OC': 1, 'COc1ccc(C=CC(O)=O)cc1OC': 1, 'CC(C)CCNC(=O)NC(=O)c1ccc(cc1)N(=O)=O': 1, 'C1CCN2CC3CC(CN4CCCCC34)C2C1': 1, 'S1C=CC2=C1C1=C(S2)C=CS1': 1, 'CCN1CCOC2C1CC1=CNc3cccc2c13': 1, 'CC(C)CNC(=O)NC(=O)c1ccc(cc1)N(=O)=O': 1, 'O=C1CCC(=O)O1': 1, 'ICc1nc2ccccc2nc1CI': 1, 'O=CNNC=O': 1, 'O=C1C=CC(=O)C2=C1C(=O)C=CC2=O': 1, 'CN1C(=CC(=O)C=C1C)C': 1, 'Oc1ccc(cc1)c1ccccc1': 1, 'Cc1cccc(c1)S(C)=O': 1, 'NC(=N)c1ccccc1': 1, 'C1C2C3C2C2C1C32': 1, 'OC(C#C)(c1ccccc1)c1ccccc1Br': 1, 'Oc1ccc(cc1)C(O)(C(F)(F)F)C(F)(F)F': 1, 'CC1=C(OS(=O)(=O)N=C1O)c1ccccc1': 1, 'COC(=O)c1cc(O)c(O)c(O)c1': 1, 'CCC1(C)CC(=O)NC(=O)C1': 1, 'CC1=C(C)C(=O)C(=C(C)C1=O)C': 1, 'COc1cc2Sc3cc(OC)c(OC)cc3Sc2cc1OC': 1, 'Clc1c(Cl)c(Cl)c2OC3=C(Cl)C(=O)C(=O)C(=C3Oc2c1Cl)Cl': 1, 'C1=CN2C(=NC3=C2N2C=CC=CC2=N3)C=C1': 1, 'CC1CCC2C(C)(C)NC=NC2(O)C1': 1, 'CCOP(=O)(OCC)C(C)(N)CC': 1, 'C1c2ccccc2Cc2ccccc12': 1, 'OC1=CC(=O)Oc2ccccc12': 1, 'C1CC2CCC1N=N2': 1, 'COc1ccc2C(CCCc2c1OC)C1=NCCN1': 1, 'CCC1CN2CCC1CC2CC1CCNc2ccccc12': 1, 'CC(C)(O)C#CC(C)(C)O': 1, 'CC(C(O)=O)c1ccc(c(F)c1)c1ccccc1': 1, 'CC(C)NC(=O)C(O)C(O)C(=O)NC(C)C': 1, 'N#CC(C#N)=C1SC2=CC(SC2=C1)=C(C#N)C#N': 1, 'O=C(Nc1ccccn1)c1ccccc1': 1, 'CN(C)c1ccc(cc1)S(=O)(=O)O[C]C=C': 1, 'COC(=O)C(C)Cl': 1, 'COC(=O)CC(O)CCl': 1, 'C12C3C4C1C1C2C3C41C12C3C4C5C3C1C5C24': 1, 'CN(C)c1cc(cc(c1)N(C)C)N(C)C': 1, 'CC(C)C(=O)OC1CC(=CCCC(=CC2OC(=O)C(=C)C12)C)C': 1, 'Oc1c(Cl)c(Cl)c(Cl)c(Cl)c1Cl': 1, 'Cc1cc(C)c(N=Nc2c(C)cc(C)cc2C)c(C)c1': 1, 'S1C=Cc2c1ccc1Sc3ccc4SC=Cc4c3c21': 1, 'COC(=O)C(NC(=O)C1CCCN1C(=O)OC(C)(C)C)C(C)C': 1, 'CCCCC1=C(N)N=C(N)N=C1N': 1, 'CCN(CC)P1(=S)OC(C(C)N1C)c1ccccc1': 1, 'BrC1=C2C=CC(=O)C(=C2C=CC1=O)Br': 1, 'ClC1=C2C=CC(=O)C(=C2C=CC1=O)Cl': 1, 'CC(C)N': 1, 'CC12CCCCC1=CC(=O)CC2': 1, 'CC12CCC(=O)C=C1CCCC2=O': 1, 'COC12CCC(C1)C=CC2=O': 1, 'N#CN=Nc1ccc(cc1)N=NC#N': 1, 'CCCCNCCCC': 1, 'C1CCc2ncccc2C1': 1, 'S1C=C2SC3=CSC=C3C2=C1': 1, 'CC1=NNC(=N1)N': 1, 'CN1C(=O)Nc2ccccc2C21NC(=O)NC2=O': 1, 'CN1C=Cc2ccccc2C(C(O)C1=O)c1ccccc1': 1, 'CCCCCCCCCCC(=O)OC1CCC2(C)C(CCC3C2CCC2(C)C(CCC32)C(C)CCCC(C)C)C1': 1, 'CCOC(=O)C(C)NC(C)=O': 1, 'OC(=O)COc1cc(Cl)c(Cl)cc1Cl': 1, 'C1CSC2=C(S1)SC(S2)=C1SC2=C(SCCS2)S1': 1, 'CC12CCC(O)CC1CCC1C2CCC2(C)C(CC3OC123)C1=CC(=O)OC1': 1, 'Cc1ccccc1S(N)(=O)=O': 1, 'BrC1=C2SC(=NC#N)C(=C2SC1=NC#N)Br': 1, 'CN1CCCN(C)C1=O': 1, 'OC(=O)COc1ccc(Cl)cc1Cl': 1, 'C[S]([O])(O)=O': 1, 'OC(=O)c1c(cc(cc1N(=O)=O)N(=O)=O)N(=O)=O': 1, 'CN(C)c1ccc(cc1)N=O': 1, 'OC(=O)COc1ccc(Cl)c(Cl)c1': 1, 'CCc1cccc2ccccc12': 1, 'Cc1ccc2ccc3ccc(C)cc3c2c1': 1, 'Cc1ccccc1N': 1, 'N#CC(C#N)=C1C=CC2=CC(C=CC2=C1)=C(C#N)C#N': 1, 'CCOC(=O)C=Cc1ccc(cc1)C=Cc1cnccn1': 1, 'OC(=O)c1cccc(c1)c1cccc(c1)C(O)=O': 1, 'c1ccc(cc1)C=C(c1ccccc1)C(=Cc1ccccc1)c1ccccc1': 1, 'O=C1NC(=NC=C1Cc1cccnc1)NCCSCc1cccnc1': 1, 'CCc1ccc2ccccc2c1': 1, 'CC(OC(C)c1c2ccccc2cc2ccccc12)c1c2ccccc2cc2ccccc12': 1, 'CCC1(CC(F)(F)F)C(=O)NC(=O)NC1=O': 1, 'CC(C)(C)Nc1nc(N)nc(NC(C)(C)C)n1': 1, 'COC1OC(=O)C=C1': 1, 'S1Sc2nsnc2SSc2nsnc12': 1, 'Cc1cc(Cl)ccc1OCC(O)=O': 1, 'OC1(C(Cl)Cl)c2ccccc2C(=O)c2ccccc12': 1, 'CC(C)N=C1OCOC1C1OCOC1=NC(C)C': 1, 'CCCCCCCCCC(=O)OC1CCC2(C)C(CCC3C2CCC2(C)C(CCC32)C(C)CCCC(C)C)C1': 1, 'CC1=CC(C=C(C)C1=O)=C(C#N)C#N': 1, 'CN1C(=O)N(C)C(=O)N(C)C1=O': 1, 'OC(CC(=O)CC(O)(C(F)(F)F)C(F)(F)F)(C(F)(F)F)C(F)(F)F': 1, 'OCc1cccc(F)c1': 1, 'CSc1ccccc1SC': 1, 'COc1ccc2CCC3C(C3c2c1)c1ccncc1': 1, 'CCCN(CCC)C1CCc2cc(F)c3NC=Cc3c2C1': 1, 'NC(=O)C(F)(F)F': 1, 'CC(O)C(C)O': 1, 'C[Si]1(C)[Si](C)(C)[Si]2(C)O[Si]1(C)[Si](C)(C)[Si]2(C)C': 1, '[O]C(=O)C(O)C(O)C([O])=O': 1, 'CC1=CC(=O)C2CC1C2(C)C': 1, 'Fc1ccc(cc1)C(c1ccc(F)cc1)=C(c1ccc(F)cc1)c1ccc(F)cc1': 1, 'NC(=O)CC1=CNc2ccccc12': 1, 'N#CCC1=CNc2ccccc12': 1, 'OC(C(O)c1ccccc1)c1ccccc1': 1, 'OC(=O)CCCC#CC#CCCCC(O)=O': 1, 'COCCOCCOCCOC': 1, 'O=C(NC#N)Nc1ccccc1': 1, 'N#Cc1ccc(cc1)C=NCCN=Cc1ccc(cc1)C#N': 1, 'S1c2ccccc2SC2=C1c1cccc3cccc2c13': 1, 'CCOP(=O)(CC1CCNC(C1)C(N)=O)OCC': 1, 'CC1(C)COP(=O)OC1': 1, 'CC1CC(=O)C=C(C)C1(C)C': 1, 'S1c2ccccc2Sc2ccccc12': 1, 'COc1c(Br)cc(Br)cc1Oc1c(O)cc(Br)cc1Br': 1, 'OCCN1c2ccccc2c2ccccc12': 1, 'c1ccc2c(c1)c(c1cncnc1)c1ccccc1c2c1cncnc1': 1, 'O[As](=O)(c1ccccc1)c1ccccc1': 1, 'C1COC2=C(O1)SC(S2)=C1SC2=C(OCCO2)S1': 1, 'CC1=C(Sc2ccccc2Br)C(=O)CCC1': 1, 'Nc1nc(N)nc(CO)n1': 1, 'CC(C)OC(=O)NNC(=O)OC(C)C': 1, 'CN(S(C)(=O)=O)S(=O)(=O)c1ccccc1': 1, 'CC1CCc2c(F)c(F)ccc2N1': 1, 'CC(O)=S': 1, 'O=C1NC(=O)c2cc3C(=O)NC(=O)c3cc12': 1, 'CCc1c(C)c(CC)c(C)c(CC)c1C': 1, 'Cc1ccc(cc1)c1c(C)c(C)c(C)c(C)c1C': 1, 'OC(C#CC#CC(O)(c1ccccc1)c1ccccc1Cl)(c1ccccc1)c1ccccc1Cl': 1, 'OC1CSc2ccccc2SCC(O)CSc2ccccc2SC1': 1, 'CC1(C)N(N=O)C(C)(C)c2ccccc12': 1, 'N#CCc1ccccc1': 1, 'NC1=NNC(=C1)c1ccc(Br)cc1': 1, 'Cc1ccccc1CC#N': 1, 'CC1=CC(=C2C=CC=C2C(=C1)C)C': 1, 'CC1CCC2=NNC=C2C1': 1, 'COc1cccc(OC)c1C(O)=O': 1, 'Oc1ccccc1C=Nc1ccccn1': 1, 'Cc1c(C)c(C)c2C3CCC(CC3)c2c1C': 1, 'OC(=O)c1cc(ccc1O)N(=O)=O': 1, 'OC(=O)c1cc(cc(c1Cl)N(=O)=O)N(=O)=O': 1, 'OCCNC(=O)C(=O)NCCO': 1, 'CC1(C)CC(=O)CC(C)(C)C1': 1, 'CN(C)c1ncnc2NC=Nc12': 1, 'c1ccc2N3c4ccccc4C(c2c1)c1ccccc31': 1, 'CCOC(=O)C12CCC(NC1=O)(C(=O)N2)C(=O)OCC': 1, 'CSC1=C(SC)SC2=C(S1)c1cccc3cccc2c13': 1, 'OC1CC=CCC1O': 1, 'Fc1c(F)c(C#Cc2ccccc2)c(F)c(F)c1C#Cc1ccccc1': 1, 'CC1(C)C=C(Br)CCC1(C)C(O)=O': 1, 'CN(C)C(N(C)C)=C(N(C)C)N(C)C': 1, 'O=C1N2CC#CC#CCN3C(=O)c4cc5C(=O)N(CC#CC#CCN6C(=O)c7cc1c(cc7C6=O)C2=O)C(=O)c5cc4C3=O': 1, 'CN(CC(=O)NCC(=O)OCC(c1ccccc1)c1ccccc1)C(=O)C(c1ccccc1)c1ccccc1': 1, 'CC1=C(C)[Se]C([Se]1)=C1SCSC1=S': 1, 'CC1=NNC(=C1Br)c1ccccc1': 1, 'CN1c2ccccc2N(C)c2ccccc12': 1, 'O=C1NC(=S)NC=C1': 1, 'CN(C)C1CC(C)(C)N([O])C(C)(C)C1': 1, 'OC(=O)C1CCC=CC1': 1, 'Nc1ccc(cc1)c1ccc(cc1)N(=O)=O': 1, 'C(CN=Cc1ccncc1)N=Cc1ccncc1': 1, 'COc1ccc(cc1)C(O)C(O)c1ccc(OC)cc1': 1, 'Nc1cc2ccccc2cc1N': 1, 'OC(=O)c1ccccc1C(=O)c1ccc(O)c(c1)c1ccccc1': 1, 'Clc1c(Cl)c(Cl)c(Cl)c(Cl)c1Cl': 1, 'ClC1=CC(C(=CC1=C(C#N)C#N)Cl)=C(C#N)C#N': 1, 'CN(C)c1cccc2C3=C(c4ccccc4)c4ccccc4C3CC(=O)c12': 1, 'Cc1c2ccccc2c(C)c2ccccc12': 1, 'CC(C)N1c2ccccc2c2ccccc12': 1, 'COc1cc2c(cc1OC)c1cc(OC)c(OC)cc21': 1, 'Oc1ccc2ccccc2c1C=Nc1ccccn1': 1, 'CC(C)[Si](O)(O)C(C)C': 1, 'CC(=O)N(Cc1ccc(COC(=O)c2cc(C)cc(C)c2)cc1)Cc1cc(C)cc(C)c1': 1, 'O=C1CCC(C=C1)(c1ccccc1)c1ccc(cc1)C#N': 1, 'c1ccc(cc1)C=Cc1ccc(C=Cc2ccccc2)cc1': 1, 'CN(C)c1ccc(C=Cc2ccc(cc2)C=Cc2ccc(cc2)N(C)C)cc1': 1, 'N#CC(=Cc1ccccc1)c1ccc(cc1)C(=Cc1ccccc1)C#N': 1, 'OC(=O)CC1=CC=CS1': 1, 'CC(C)C(C)C=CC(C)C1CCC2C(CCCC12C)=CC=C1CC(O)CCC1=C': 1, 'c1ccc(cc1)C#Cc1cc(cc(c1)C#Cc1ccccc1)C#Cc1ccccc1': 1, 'CC(C)(C)c1cc2N=C3C(=O)C(=CC(=C3Oc2c(c1)C(C)(C)C)C(C)(C)C)C(C)(C)C': 1, 'COc1ccc(C=CC=O)cc1': 1, 'N#Cc1ccc(cc1)C#N': 1, 'C#Cc1cc(cc(c1)C#C)C#C': 1, 'OC(=O)C(O)=C(O)C(O)=O': 1, 'CN(C)C(=O)c1ccccc1': 1, 'Brc1cc(Br)cc(Br)c1': 1, 'OC(=O)c1ccc(cc1N(=O)=O)N(=O)=O': 1, 'CCCCOC(=O)C(=O)OCCCC': 1, 'O=CN1CCCCC1': 1, 'CCOC(=O)C1=NON=C1N': 1, 'NNC(=O)C1=NON=C1NCCCl': 1, 'OC(=O)CBr': 1, 'N#Cc1ccc(NN=Nc2ccc(cc2)C#N)cc1': 1, 'O=C(NCC(c1ccccc1)c1ccccc1)C=CC(=O)OCC(c1ccccc1)c1ccccc1': 1, 'CC(Oc1ccc(Cl)cc1Cl)C(O)=O': 1, 'IC1=CSC(S1)=C1SC=CS1': 1, 'CN1CC(=O)NC1=N': 1, 'O=C(CCC(=O)N(Cc1ccccc1)Cc1ccccc1)N(Cc1ccccc1)Cc1ccccc1': 1, 'c1ccc(cc1)N=S=Nc1ccccc1': 1, 'NNc1ccccc1N(=O)=O': 1, 'CN1C(=O)CC(=O)N(C)C1=O': 1, 'Cc1ccc(cc1)c1cc(nc(c1)c1ccccn1)c1ccccn1': 1, 'CC(=O)C(C)=NO': 1, 'COc1cc(CNCc2cc(OC)cc(OC)c2)cc(OC)c1': 1, 'OC(=O)C#C': 1, 'NCc1ccccc1': 1, 'c1ccc(cc1)C=NN=Cc1ccccc1': 1, 'Oc1cccc(Cl)n1': 1, 'N#Cc1nc(nc(n1)C#N)C#N': 1, 'CCCCCCCCCC(O)=O': 1, 'c1ccc2cc3cc4cc5ccccc5cc4cc3cc2c1': 1, 'c1ccc(cc1)c1c2ccccc2c(c2ccccc2)c2ccccc12': 1, 'c1ccc(cc1)C(c1ccccc1)=C(c1ccccc1)c1ccccc1': 1, 'Cc1c(C)c(C#N)c(C)c(C)c1C#N': 1, 'c1ccc(nc1)c1cccc(n1)c1ccccn1': 1, 'CC(C)(O)C#Cc1cccc(n1)C#CC(C)(C)O': 1, 'CC(C)(O)C#Cc1cccc(Br)n1': 1, 'CC(NC(=O)c1ccccc1Cl)c1ccccc1': 1, 'CC(Nc1cc(Cl)c(Cl)cc1Cl)C(O)=O': 1, 'O=C1CCCCC1Cc1ccccc1': 1, 'CN(C)c1ccc(Cc2ccc(cc2)N(C)C)cc1': 1, 'Cl[Si](Cl)(Cl)[Si](Cl)(Cl)Cl': 1, 'Cc1cccc(C)c1N=S=Nc1c(C)cccc1C': 1, 'C[Si](C)(C)N=S=Nc1ccccc1': 1, 'NNC(=O)C1=C(N)N(Cc2ccccc2)N=N1': 1, 'OC(=O)C1=CC=C(S1)C(O)=O': 1, 'CCCNc1nc(C)nc(NCCC)n1': 1, 'NC(N)=NC#N': 1, 'C(N(Cc1ccccc1)c1ccc(cc1)N(Cc1ccccc1)Cc1ccccc1)c1ccccc1': 1, 'c1ccc(cc1)N(c1ccccc1)c1ccccc1': 1, 'CN(CC(c1ccccc1)c1ccccc1)C(=O)C=CC(=O)N(C)CC(c1ccccc1)c1ccccc1': 1, 'O=C(CC(c1ccccc1)c1ccccc1)NCCC(c1ccccc1)c1ccccc1': 1, 'N#CC(C#N)=C1C2=C([N]S[N]2)C(C2=C1[N]S[N]2)=C(C#N)C#N': 1, 'C1COC2=C(O1)SC(S2)=C1SC2=C(SCCS2)S1': 1, 'CC1=C(C)SC(S1)=C1SC(=C(Br)S1)C': 1, 'c1ccc2C#CC#Cc3ccccc3C#CC#Cc2c1': 1, 'CC1=CN=C(N1)c1ccccc1': 1, 'CC1=CNC=N1': 1, 'c1cncc(c1)C=Cc1ccncc1': 1, 'Nc1ccc(S)cc1': 1, 'OC(=O)c1ccc(C(O)=O)c2cc3ccccc3cc12': 1, 'C1CNc2ccccc2C1': 1, 'CCCOc1c2Cc3cc(cc(Cc4cccc(Cc5cc(cc(Cc1ccc2)c5OCCC)C(O)=O)c4OCCC)c3OCCC)C(O)=O': 1, 'Nc1ncccc1N(=O)=O': 1, 'Oc1cc(O)cc(c1)C(=O)OCC#CC#C': 1, 'Oc1c2Cc3cccc(Cc4cccc(Cc5cccc(Cc6cccc(Cc1ccc2)c6O)c5O)c4O)c3O': 1, 'Oc1ccc(Cc2ccccc2)c(O)c1': 1, 'OC(=O)C1CC(CC(C1)C(O)=O)C(O)=O': 1, 'CC(C)=CCOc1c2OC=Cc2cc2C=CC(=O)Oc12': 1, 'OC(=O)C(c1ccccc1)c1ccccc1': 1, 'COCCOCCOC': 1, 'OC(=O)c1ccccc1c1ccccc1C(O)=O': 1, 'OC(=O)CC(CC(O)=O)C(O)=O': 1, 'C1CC2CC1C(=Cc1ccccc1)C2=Cc1ccccc1': 1, 'CCCCCCCCN1C=C(C)C(=O)NC1=O': 1, 'c1cc2cncc3ccc4cncc1c4c23': 1, 'O=C1NC(=C2C(=O)NC(=C12)c1ccccc1)c1ccccc1': 1, 'CCC(C)C(C)O': 1, 'NC1=Nc2cc(Cl)ccc2O1': 1, 'CCOC(=O)N1C=CN(C)C1=S': 1, 'c1ccc2ncncc2c1': 1, 'CCC1=C(C=C(S1)c1ccccc1)C1=C(C2=C(CC)SC(=C2)c2ccccc2)C(F)(F)C(F)(F)C1(F)F': 1, 'CCC12SC(=CC1=C1C(=C3C=C(SC23CC)c2ccccc2)C(F)(F)C(F)(F)C1(F)F)c1ccccc1': 1, 'O=C1c2cc(ccc2c2ccc(cc12)N(=O)=O)N(=O)=O': 1, 'CCCS(=O)CCC': 1, 'S=C(SSC(=S)N1CCCC1)N1CCCC1': 1, 'OC(=O)c1ccc(OCCCCC#N)cc1': 1, 'CC1C(NC1=O)S(=O)(=O)c1ccccc1': 1, 'CC(C)CC(NS(=O)(=O)C(F)(F)F)C(O)=O': 1, 'Clc1c2ccccc2c(Cl)c2ccccc12': 1, 'CN(C)C(=O)C=CC(=O)N(C)C': 1, 'CN(C)C(=O)CCC(=O)N(C)C': 1, 'c1ccc(cc1)C#Cc1ccc(cc1)C#Cc1ccccc1': 1, 'OC1=NNC(=O)C=C1': 1, 'BrC1=C(Br)C(=O)NC1=O': 1, 'O=C1N=Cc2ccccc12': 1, 'OC(=O)c1cccc2ccccc12': 1, 'Oc1cc(O)c(C=O)c(O)c1': 1, 'CCC(=O)c1c(O)cc(O)cc1O': 1, 'COc1cc2N3C4C5C(CC3=O)OCC=C3CN6CCC4(C6CC53)c2cc1OC': 1, 'CC(NC(=O)c1ccc(C)cc1)c1ccccc1': 1, 'c1ccc2c(c1)C=C1C(=Cc3ccccc3C31c1ccccc1c1ccccc31)C12c2ccccc2c2ccccc12': 1, 'CCCCNC(=O)Nc1cc(C)ccn1': 1, 'Cc1cc(C)c(N)c(C)c1': 1, 'Cc1cccc(c1)B(O)O': 1, 'CC(NC(=O)c1cc(cc(c1)N(=O)=O)N(=O)=O)C(O)=O': 1, 'OCC1CCCCC1NCc1ccccc1': 1, 'c1ccc(nc1)c1nc(c2ccccn2)c(nc1c1ccccn1)c1ccccn1': 1, 'CN(C)c1ccc(cc1)C(=O)c1ccc(cc1)N(C)C': 1, 'Oc1ccc(Cc2ccc(O)cc2)cc1': 1, 'Nc1ccc(Sc2ccc(N)cc2)cc1': 1, 'CC1(C)C2CCC1(CS(O)(=O)=O)C(=O)C2': 1, 'CC1=C2CCC34CC(CO)C(CCC3C2(C)CCC1=O)C4': 1, 'c1ccc(nc1)c1ccncc1': 1, 'Fc1c(F)c(F)c(C=Nc2ccccc2)c(F)c1F': 1, 'c1ccc(cc1)C=Nc1ccccc1': 1, 'C1CCCCCOc2ccc(COCc3cccc(COCc4ccc(OCCCC1)cc4)n3)cc2': 1, 'CCN1C=CC(=O)NC1=O': 1, 'CC1=CC(=C(C)C=C1N)N': 1, 'COc1cc(Br)c(OC)cc1Br': 1, 'COC1CCCCC1O': 1, 'CS(=O)c1ccccc1': 1, 'CCCCCCC1=C(C)C2=C3c4cccc(CSSCCOCCOc5cccc6c(OCCOCCSSCc7cccc(c7)C(=C7N=C(C=C1N2)C(=C7C)CCCCCC)C1=C(C)C(=C(N1)C=C1N=C3C(=C1CCCCCC)C)CCCCCC)cccc56)c4': 1, 'NC1=NNC(=S)S1': 1, 'OC1C2OC3OC1C(OC(=O)c1ccccc1)C(O3)C2OC(=O)c1ccccc1': 1, 'ClC1=C(Cl)C2(Cl)N3C1(Cl)C(=C(Cl)C3(Cl)C(=C2Cl)Cl)Cl': 1, 'OP(=O)(c1ccccc1)c1ccccc1': 1, 'CC(C)(C)c1ccccc1O': 1, 'CC(=O)CN1C(=O)C2(OCCO2)c2ccccc12': 1, 'CC(NC(=O)C(C)(C)C)c1ccc(Br)cc1': 1, 'ON=C1CCCCC1': 1, 'OCCCOc1cccc2c(OCCCO)cccc12': 1, 'O=C(NCCCC#N)C(=O)NCCCC#N': 1, 'CCOC(=O)C1=CNC=NC1=O': 1, 'CC=C1S(=O)CCS1=O': 1, 'S(Sc1ccccc1)c1ccccc1': 1, 'CCC1=NNC(=C1)c1ccccc1': 1, 'CC(C)=NOC(=O)Nc1ccccc1': 1, 'O=C(NCC(c1ccccc1)c1ccccc1)C=CC(=O)N(Cc1ccccn1)Cc1ccccn1': 1, 'C[Si](C)(C)N=S=NSc1ccccc1': 1, 'OC(=O)c1c(Cl)cccc1Cl': 1, 'CC1(C)N=C(c2ccccc2)C(C)(C)N1[O]': 1, 'CC1(C)CC(N)CC(C)(C)N1[O]': 1, 'CC(=NO)c1ccc(Br)cc1': 1, 'CC(O)C1=NN=C(C(C)O)N1N': 1, 'CC1=CN=CN1': 1, 'OC(=O)c1cccnc1C(O)=O': 1, 'CC(C)=C1CCC23CC[Si](CC2CC(CC(C)=CI)C13)(C(C)(C)C)C(C)(C)C': 1, 'O=C(OCC#CC#CCOC(=O)c1ccccc1)c1ccccc1': 1, 'BrC1C(Br)C2=C(Br)C(Br)C(Br)C2=C1Br': 1, 'CSc1ccc(C=CC(=O)c2ccc(C)cc2)cc1': 1, 'Brc1ccc(Oc2nc(Oc3ccc(Br)cc3)nc(Oc3ccc(Br)cc3)n2)cc1': 1, 'C=CC=CC=C': 1, 'O=C1CC(N1)OC(=O)c1ccccc1': 1, 'CC1(C)CC(=O)C2=CNN=C2C1': 1, 'Cc1ccc(C)nc1': 1, 'CC(=O)N(CCOC(=O)c1cc(C)cc(C)c1)Cc1cc(C)cc(C)c1': 1, '[Ar]': 1, 'NC(=O)NNc1ccccc1': 1, 'CC(C#N)S(=O)(=O)c1ccccc1': 1, 'OC(C(O)c1ccc(Br)cc1)c1ccc(Br)cc1': 1, 'COC(=O)C1=CC2C3CC(C2C1)C(=C3)C(O)=O': 1, 'C1Cc2ccccc2c2ccccc12': 1, 'NCCc1ccccc1': 1, 'ClC(=CC#N)c1ccc(Br)cc1': 1, 'NC(=NO)C(N)=NO': 1, 'O1C(=NN=C1c1cccnc1)c1cccnc1': 1, 'O=C1c2cc(cc(c2c2c1cc(cc2N(=O)=O)N(=O)=O)N(=O)=O)N(=O)=O': 1, 'CN(C)c1ccc(C=CC2=CC(CC(C)(C)C2)=C(C#N)C#N)cc1': 1, 'C1CCC(C(C1)OCCc1cccc2ccccc12)N1CCC2(C1)OCCO2': 1, 'NC(C(N)c1ccccc1)c1ccccc1': 1, 'FC(F)(F)C1=Nc2cc(ccc2N1)N(=O)=O': 1, 'COC1=CC(=O)C=CC1=O': 1, 'OC(=O)c1ccc2cc(ccc2c1)C(O)=O': 1, 'OC(=O)c1ccc(C(O)=O)c2ccccc12': 1, 'Cc1cc(C)c([Te]I)c(C)c1': 1, 'Oc1ccncc1': 1, 'NC1=NC(=CC(=O)N1)N': 1, 'CCCCCCO': 1, 'NC(=O)c1c(F)c(F)c(F)c(F)c1F': 1, 'C1CN(CCN1)c1ccccc1': 1, 'ClC1=C(Cl)C2(Br)N3C1(Br)C(=C(Cl)C3(Br)C(=C2Cl)Cl)Cl': 1, 'OC(=O)c1cc2ccccc2cc1O': 1, 'CSC(=S)NNC(=O)c1ccccc1O': 1, 'c1ccc2c(c1)N1C=Cc3cccc2c13': 1, 'CC(=O)Nc1ccncc1': 1, 'C1CN(CCN1c1ccncc1)c1ccncc1': 1, 'C(C1=Nc2ccccc2N1)C1=Nc2ccccc2N1': 1, 'c1cc(nc(c1)N1C=NN=C1)N1C=NN=C1': 1, 'CCCS(=O)Sc1ccc(OC)cc1': 1, 'NNC(=O)CC1=CNc2ccccc12': 1, 'CC(=O)C1CCC2C3CCC4=CC(=O)CCC4(C)C3CCC12C': 1, '[O]n1ccn([O])c2ccccc12': 1, 'ON=C(C#N)c1ccc(cc1)C(O)=O': 1, 'Cc1ccc(cc1)C=CC(=O)C1=C(O)C(CCC1)=Cc1ccc(C)cc1': 1, 'CCOC(=O)C(C(=O)N(C(=O)OCC)c1ccccc1)c1ccccc1': 1, 'c1cc(ccn1)C=Cc1ccc(C=Cc2ccncc2)cc1': 1, 'CCOc1ccccc1C1=NNC(=S)N1N': 1, 'Oc1cc(nc2c1cccc2C(F)(F)F)C(F)(F)F': 1, 'C(=CC=Cc1ccccc1)C=Cc1ccccc1': 1, 'OC(O)C(O)=O': 1, 'OC(=O)c1c(O)cc(O)cc1O': 1, 'CC1CCCC1': 1, 'CCC(=O)NNC(=O)c1ccc(C)cc1O': 1, 'O=C(NCCCCC#N)C(=O)NCCCCC#N': 1, 'COc1ccc2CC3N(CCc4cc5OCOc5cc34)Cc2c1OC': 1, 'OC(=O)CC#N': 1, 'CC1=NN(C(=C1)C)c1ccc(Cl)c(n1)C(O)=O': 1, '[O]N(N([O])c1ccccc1)c1ccccc1': 1, 'OC(=O)c1ccc(C(O)=O)c(O)c1': 1, 'CCCCCCc1ccc(O)cc1O': 1, 'CSc1ccc(cc1)C(NC(=O)OC(C)(C)C)C(C)(N(=O)=O)P(=O)(OC(C(C)C)C(C)C)OC(C(C)C)C(C)C': 1, 'Fc1c(F)c(F)c(C(=O)OCC#CC#CCOC(=O)c2c(F)c(F)c(F)c(F)c2F)c(F)c1F': 1, 'CC(Oc1ccccc1Cl)C(O)=O': 1, 'CC(Oc1ccccc1C)C(O)=O': 1, 'N#CNc1ccccc1': 1, 'c1ccc(cc1)C#CC#CC#CC#Cc1ccccc1': 1, 'Clc1ccc(Cl)c(Cl)c1Cl': 1, 'c1ccc(C=NN=Cc2ccccn2)nc1': 1, 'c1cncc(c1)C=NN=Cc1cccnc1': 1, 'Cc1cc(cc(c1)C(O)=O)C(O)=O': 1, 'CC1(C)C2CCC1(C)C(=O)C2=O': 1, 'CC1(C)C2CCC1(C)C(=O)C2Br': 1, 'CC(=O)Nc1cccnc1': 1, 'N1C=CC(=N1)c1ccncc1': 1, 'COc1cncc(c1)c1cccnc1': 1, 'C[Si]1(C)CCCCCCCCCC[Si](C)(C)CCCCCCCCCC1': 1, 'C[Si](C)(C)C1(Cl)CCCCCC1N': 1, 'O=CNC1CCCCC1': 1, 'CC=CC1C(C(C=CC)C1C(O)=O)C(O)=O': 1, 'O=C1NC=NC=C1': 1, 'OOC1CCCO1': 1, 'Oc1ccc(cc1)N=Nc1ccccc1C(O)=O': 1, 'OC1N2CCCCC2=Nc2ccccc12': 1, 'OC1CCN2Cc3ccccc3N=C12': 1, 'CC1=CCC2C(C)(C)C(=O)CCC2(C)C1CCC1C(=CCC2C(C)(C)C(=O)CCC12C)C': 1, 'CC(C)(C)[P](=O)c1ccccc1': 1, 'OCC(C(O)=O)c1ccccc1': 1, 'ClC1=CC(=O)C=CC1=O': 1, 'Cc1cc(nc(N)n1)c1ccncc1': 1, 'COc1cncc(c1)C#Cc1cc(C)nc(N)n1': 1, 'O=C1C=CNc2ccccc12': 1, 'OCc1ccccc1O': 1, 'OC(=O)C1CCC(=O)N1': 1, 'OC(=O)C1CCCCC1C(O)=O': 1, 'Nc1ncc(cn1)c1ccccc1': 1, 'CC(=O)c1cc(O)cc(O)c1': 1, 'CC(O)CO': 1, 'Fc1c(F)c(F)c(C#CC#CC#Cc2ccccc2)c(F)c1F': 1, 'Cc1ccnc(c1)c1cc(C)ccn1': 1, 'CCN(C)C(=O)Oc1cccc(c1)C(C)N(C)C': 1, 'CCCCCC(N)=O': 1, 'Nc1cccc(c1)B(O)O': 1, 'Nc1ncnc2NC=Nc12': 1, 'COc1cncc(Br)c1': 1, 'ON=C(C#N)c1ccccc1F': 1, 'ON=C(C#N)c1ccc(F)cc1': 1, 'NC1=NC(=O)N(C=C1)C1CSC(CO)O1': 1, 'CCCCCCC(=O)Nc1ccc2ccc(NC(=O)CCCCCC)nc2n1': 1, 'NN1N=NN=C1N': 1, 'Ic1ccc(cc1)C=Cc1ccc(cc1)C#N': 1, 'OC(C#N)c1ccccc1': 1, 'O=C(OCC#CC#CC#CCOC(=O)c1ccccc1)c1ccccc1': 1, 'COC(=S)Nc1ccccc1': 1, 'CCOC(=S)Nc1ccccc1': 1, 'ClC1CCCCCC1': 1, 'NC(=O)Nc1ccc(Br)cc1': 1, 'CC1=Cc2ccccc2N1': 1, 'CCC(OC(=O)C12CCC(C)(C(=O)O1)C2(C)C)C1(C)CC1c1ccccc1': 1, 'CC(C)(C)C1=PC2(P3P4PC2(P1C34C(C)(C)C)C(C)(C)C)C(C)(C)C': 1, 'NC1=NCCS1': 1, 'COc1ccc(cc1)C1=NN2C=C(C)N=C2S1': 1, 'CCc1ccc(cc1)C(O)=O': 1, 'Cc1ccc(CO)cc1': 1, 'NC1=CC2=Nc3ccccc3OC2=CC1=O': 1, 'CCOC(=O)NN=C(C)C': 1, 'CC1(C)OB(O)OC1(C)C': 1, 'NC(=S)C1CCCCC1': 1, 'Nc1c(F)c(F)c(N)c(F)c1F': 1, 'Nc1c(F)c(N)c(F)c(F)c1F': 1, 'O=C1CC2(CCCC2)CC(=O)N1': 1, 'C(Oc1cc2ccc3cc(OCc4ccccc4)cc4ccc(c1)c2c34)c1ccccc1': 1, 'Cc1ccc(cc1)C#N': 1, 'CC(NS(=O)(=O)c1ccc(C=CC(O)=O)cc1)C(O)=O': 1, 'C(P(c1ccccc1)c1ccccc1)C1=CC=CN1': 1, 'O=CC1=CC=CS1': 1, 'S=C(NCc1ccncc1)C(=S)NCc1ccncc1': 1, 'OC(=O)c1c(O)ccc2ccccc12': 1, 'COc1cc(O)c2C(=O)C3=C(COc4cc(OC)c(OC)cc34)Oc2c1': 1, 'O=C1NSc2ccccc12': 1, 'O=C(Oc1ccc2ccc3cccc4ccc1c2c34)c1ccccc1Nc1ccccc1C(=O)Oc1ccc2ccc3cccc4ccc1c2c34': 1, 'OS(O)(=O)=O': 1, 'ON=Cc1cccnc1': 1, 'S=C1Nc2ccccc2N1': 1, 'S=C1NCCN1': 1, 'OC(=O)Cc1ccc(CC(O)=O)cc1': 1, 'Cc1cc(O)c2C(=C3C(=O)C4C(O)C5C6C(O)C(C(=C7C(=O)c8c(O)cc(C)cc8C(=O)C467)O)C35C(=O)c2c1)O': 1, 'ClP1(=NP(=NP2(=N1)NC(CO2)c1ccccc1)(Cl)Cl)Cl': 1, 'NN=C(N)N': 1, 'C#Cc1cncnc1': 1, 'FP(F)(F)(F)(F)F': 1, 'CCCCCCCCCCOc1ccc(cc1)C=Cc1ccncc1': 1, 'OC(=O)Cc1ccc(Cl)cc1': 1, 'CN1C=CC(=CC1=O)C': 1, 'CN1C2C=C(C)C(C3C=C(C)C2C(=O)N3C)C1=O': 1, 'OC(=O)Cc1ccc(O)cc1': 1, 'FC(c1ccc(Cl)c(Cl)c1)S(=O)(=O)C1=Nc2ccccc2S1': 1, 'CCCCCCCOc1cccc2c(OCCCCCCC)cccc12': 1, 'OC1=C(c2ccc(cc2)N(Cc2ccccn2)Cc2ccccn2)C(=C1c1ccc(cc1)N(Cc1ccccn1)Cc1ccccn1)O': 1, 'Brc1cccc2ccccc12': 1, 'CC(NC(=O)C(C)(C)C)c1cccc2ccccc12': 1, 'c1ccc(nc1)c1nccnc1c1ccccn1': 1, 'CCC(C(O)=O)C(O)=O': 1, 'O=C1NC=C2C=CC=CC2=C1': 1, 'CC1(O)CCC2C3CCC4CC5=C(CC4(C)C3CCC12C)C=NN5': 1, 'CN(c1ccc(cc1)C(O)=O)C(=O)N(C)c1ccc(cc1)C(O)=O': 1, 'CN(C)c1nc(N)nc(OCC(F)(F)F)n1': 1, 'OC(=O)C=CC1=CSC=C1': 1, 'CC(C)(C#N)C(C)(C)C#N': 1, 'Cc1ccccc1C(N)=O': 1, 'Cc1cccc(c1)C(N)=O': 1, 'NC(=O)c1ccccc1Cl': 1, 'c1cnc2ccc3nnc4ccc5ncccc5c4c3c2c1': 1, 'COC(=O)NNC(=O)OC': 1, 'c1ccc2c(c1)c1ccccc1C12c2ccccc2c2ccccc12': 1, 'BrC(Br)Br': 1, 'CC(=NN=C(C)c1ccccc1O)c1ccccc1O': 1, 'Oc1ccc(cc1)C1(CCCCC1)c1ccc(O)cc1': 1, 'Nc1cc(ccc1C(O)=O)N(=O)=O': 1, 'CC(C)(C)C1=CNC(=N1)NC(=O)Nc1ccccc1': 1, 'N#Cc1ccc(C=Cc2ccc(cc2)C=Cc2ccc(cc2)C#N)cc1': 1, 'C[Si](C)(C)C1=C(C(=C1c1c(F)c(F)c(F)c(F)c1F)[Si](C)(C)C)[Si](C)(C)C': 1, 'N#CSC#N': 1, 'ClP(Cl)(Cl)=O': 1, 'CC1=C2CC3C(C)(CC2(O)OC1=O)C=CC(O)C13CO1': 1, 'OC(=O)C1CCCCC1': 1, 'Nc1nc(N)c(Cl)cc1Cl': 1, 'ClC1=C(Cl)C(=O)NC1=O': 1, 'c1ccc(cc1)C=Cc1cc(nc(c1)c1ccccn1)c1ccccn1': 1, 'COc1cccc2C=C(C#N)C(=N)Oc12': 1, 'ClC12C3=C4C5=C6C7=C3C3=C8C9=C%10C(=C13)C1(Cl)C3=C2C2=C%11C%12=C%13C%14=C%15C(=C3%12)C3(Cl)C1(Cl)C%10=C1C%10=C%12C%16=C%17C(=C9%10)C9(Cl)C8=C7C7(Cl)C8=C6C6=C%10C%18=C8C8(Cl)C%19=C(C%20=C%21C%22=C%19C%18(Cl)C%18=C%19C%22(Cl)C%22=C%23C(=C%14C%14=C%22C%19(Cl)C%19=C(C%22(Cl)C6=C5C5(Cl)C(=C%11C6(Cl)C%13=C%14C%19(Cl)C6=C%225)C42Cl)C%10%18Cl)C2=C%15C3(Cl)C1(Cl)C%12(Cl)C2=C(C%21%23Cl)C%16%20Cl)C%17(Cl)C8=C97': 1, 'CCCCC(O)C(O)=O': 1, 'Clc1ncnc2N(C=Nc12)C1C(COC(=O)c2ccccc2)CC1=O': 1, 'C12C3C4C1C1C2C3C41': 1, 'Oc1ccccc1C(F)=C(F)c1ccccc1': 1, 'N1C=CN2C=CC=CB12': 1, 'CC(C)(C)[Si](C)(C)N1C=CN2C=CC=CB12': 1, 'O=C(c1ccccn1)c1ccccn1': 1, 'O=C(c1ccccc1)c1ccccn1': 1, 'O=C(c1ccccc1)c1cccnc1': 1, 'OC1=C(O)C(=O)C1=O': 1, 'CC(N)c1cccc2ccccc12': 1, 'CC(C)CC(C)N': 1, 'NC(CO)c1ccccc1': 1, 'NNC(=O)c1cccnc1': 1, 'CC(C)=NNC(=O)c1cccnc1': 1, 'Cc1cc(ccc1N)C(O)=O': 1, 'FC(F)(F)C1(CSC(=N)O1)C(F)(F)F': 1, 'N1c2ccccc2P=C1c1cccc2ccccc12': 1, 'Nc1c(Cl)cc(Cl)cc1Cl': 1, 'CC(C)(C)c1cc(cc(c1)C(C)(C)C)N1C=C(N=N1)c1cc(cc(c1)C(C)(C)C)C(C)(C)C': 1, 'CCCOC(=O)c1c2ccccc2cc2ccccc12': 1, 'CC1(C)CCCC(C)(C)N1O': 1, 'Nc1ncncn1': 1, 'Nc1ncnc(N)n1': 1, 'CCCCCCCC(O)=O': 1, 'CC1=C(Sc2ccccc2Cl)C(=O)CCC1': 1, 'CC1=C(Sc2ccccc2C)C(=O)CCC1': 1, 'O=N(=O)c1ccc2NN=Nc2c1': 1, 'FC(F)(F)C1=NC(=NN1)N(=O)=O': 1, 'COC(=O)N1C=NC(=C1N)C(N)=O': 1, 'OC(=O)C1CC1': 1, 'OC(=O)C1CCC1': 1, 'OC(=O)C1CCCC1': 1, 'CC(O)c1ccc(F)cc1': 1, 'ClC1=CNC(=O)NC1=O': 1, 'IC1=CNC(=O)NC1=O': 1, 'NC1=NC(=CS1)c1ccccc1': 1, 'C(CN1C=Nc2ccccc12)CN1C=Nc2ccccc12': 1, 'ICCCCI': 1, 'CCCC1=Nc2cc(cc(C)c2N1)C(=O)NCCc1ccccc1': 1, 'NC1=NNC(=S)N1': 1, 'S=C1Nc2ccccc2S1': 1, 'c1cc(ccn1)C=NN=Cc1ccncc1': 1, 'Oc1cc(O)cc(F)c1': 1, 'CN(C)C=NN=CN(C)C': 1, 'S=C1NC=NC2=C1NC=N2': 1, 'Br[As](Br)Br': 1, 'CN1C=NC(=C1C#N)C#N': 1, 'OC(=O)CC=CC(O)=O': 1, 'Oc1ccccc1C(=O)c1ccccc1O': 1, 'Oc1ccc(c(O)c1)C(=O)c1ccccc1': 1, 'O=C(Nc1ccccn1)c1ccncc1': 1, 'O=C(Nc1ccccn1)c1cccnc1': 1, 'O=C1N(Cc2ccccc12)c1ccccc1': 1, 'COc1ccccc1C(O)=O': 1, 'OC(=O)CCc1ccccc1': 1, 'Nc1ccc(Cl)c(c1)N(=O)=O': 1, 'Nc1ccc(F)c(c1)N(=O)=O': 1, 'Nc1cc(ccc1Cl)N(=O)=O': 1, 'Nc1cc(ccc1F)N(=O)=O': 1, 'OC(=O)c1cc(ccc1F)N(=O)=O': 1, 'OB(O)c1cccc(c1)C(O)=O': 1, 'CN1C(=O)N(C)c2nc3N(C)C(=O)N(C)C(=O)c3nc2C1=O': 1, 'COC(=O)c1cc2cc3cc(C(=O)OC)c(cc3cc2cc1C(=O)OC)C(=O)OC': 1, 'NC1=CC(=O)NC(=O)N1': 1, 'CC1=CC(=O)NC(=N1)N': 1, 'CC1=NON=C1NC(=O)NC1=NON=C1C': 1, 'CCCCOc1ccccc1OC': 1, 'COc1nc(OC)nc(OC)n1': 1, 'O=S(c1ccccc1)c1ccccc1': 1, 'Cc1ccc(cc1)S(=O)c1ccccc1': 1, 'COc1ccccc1S(=O)c1ccccc1': 1, 'O=S1c2ccccc2Sc2ccccc12': 1, 'O=S(CCc1ccccc1)CCc1ccccc1': 1, 'O=C1NC=CC=C1N(=O)=O': 1, 'BrC1=CNN=C1': 1, 'IC1=CNN=C1': 1, 'CC1=C(Br)C(=NN1)C': 1, 'Cc1ccc(nc1)c1ccc(C)cn1': 1, '[Se]=P(CCc1ccccc1)(CCc1ccccc1)[Se]P(=[Se])(CCc1ccccc1)CCc1ccccc1': 1, 'c1cc2ccc3ccc4ccc5ccc1c1c2c3c4c51': 1, 'O=C1NCc2ccc(OCCCCCCCCCCOc3ccc(CNC(=O)c4cccc1n4)cc3)cc2': 1, 'OCc1cccc2ccccc12': 1, 'O=Cc1cccc(C=O)c1': 1, 'CN(C)C(=O)c1cc(cc(c1)N(=O)=O)N(=O)=O': 1, 'COc1ccc(C=C)cc1': 1, 'Cc1ccc2ccccc2n1': 1, 'NN1N=CN=N1': 1, 'CC1=C(C)C(=C)C(=C1C)C': 1, 'Oc1cc(F)cc(F)c1': 1, 'Oc1cccc(F)c1F': 1, 'Oc1c(F)ccc(F)c1F': 1, 'Oc1c(F)cccc1F': 1, 'Oc1ccccc1F': 1, 'Oc1cccc(F)c1': 1, 'Oc1c(F)c(F)cc(F)c1F': 1, 'OC1=NNc2ccccc12': 1, 'O=C1Nc2ccccc2C=C1': 1, 'OC1=CC=CNC1=O': 1, 'NC1CCC(N)CC1': 1, 'IC1=C(I)N=CN1': 1, 'Ic1ccc(cc1)C1=CC2=CC=CC=CC2C1(C#N)C#N': 1, 'c1cnc2N=[Se]=Nc2c1': 1, 'O=N(=O)N1CN(CN(CN(C1)N(=O)=O)N(=O)=O)N(=O)=O': 1, 'NC(=O)CN1CC(O)CC1=O': 1, 'O=CN1CCN(CC1)C=O': 1, 'Nc1ccc(F)cc1': 1, 'OCC1=CSC(S1)=C1SC=C(CO)S1': 1, 'OC(=O)c1cc(F)c(F)c(F)c1F': 1, 'CC1(C)CC(C)(c2ccc(O)cc2)c2ccccc2O1': 1, 'c1cc(ccn1)c1ccc(cc1)c1ccncc1': 1, 'CN(c1cccc(c1)C(O)=O)C(=O)N(C)c1cccc(c1)C(O)=O': 1, 'Cc1cc2N=CN(Cc3ccc(Br)cc3)c2cc1C': 1, 'C(N1C=Nc2ccccc12)c1ccc(CN2C=Nc3ccccc23)cc1': 1, 'NC(P)=O': 1, 'OC(=O)C1C(C(C1C(O)=O)C(O)=O)C(O)=O': 1, 'COP(=S)(OC)Oc1ccc(SC)c(C)c1': 1, 'CCOCN(C(=O)CCl)c1c(C)cccc1CC': 1, 'CCCCCCCCCCOc1ccncc1': 1, 'CCCCCCCCCCOc1ccc(cc1)C#N': 1, 'CC(=O)CCC(C)=O': 1, 'Cc1cc(C)cc(CNc2cc(C)cc(C)c2)c1': 1, 'CCC(Br)C(=O)Nc1ccccc1': 1, 'CCC(Cl)C(=O)Nc1ccccc1': 1, 'CCC(C)C(=O)Nc1ccccc1': 1, 'CCC(C)NC(=O)c1ccccc1': 1, 'COc1ccccc1O': 1, 'COC(=O)C1C(=C(C(=O)OC)C2(C(=NNC12C(F)(F)F)C(=O)OC)C(F)(F)F)C(=O)OC': 1, 'NC(=O)c1ccc(Br)cc1': 1, 'N1C2=NON=C2C2=NON=C2C2=NON=C12': 1, 'CC(C(C)c1ccncc1)c1ccncc1': 1, 'S=P([Se]P(=S)(C1CCCCC1)C1CCCCC1)(C1CCCCC1)C1CCCCC1': 1, 'OC(=O)c1ccccc1N(=O)=O': 1, 'Cc1ccc(cc1)S(=O)(=O)NS(=O)(=O)c1ccc(C)cc1': 1, 'Nc1ccccc1O': 1, 'CCC(Cc1ccccc1)C(=O)c1ccccc1': 1, 'N1c2ccccc2c2ccc3c(Nc4ccccc34)c12': 1, 'O=C(NCCCCNC(=O)Nc1cccnc1)Nc1cccnc1': 1, 'Nc1c(Cl)cccc1Cl': 1, 'Nc1ccccc1C1=Nc2ccccc2S1': 1, 'ClC12C3=C4C5=C6C7=C8C9=C5C5=C3C3(Cl)C%10=C%11C%12=C%13C%14=C%15C%16=C%12C%12=C%17C%18=C%19C%20=C%21C(=C%16%18)C%16=C%18C%21(Cl)C%21=C%22C(=C7C7=C%21C%21(Cl)C%18(Cl)C%18=C%23C%24=C%25C(Cl)(C1=C4C1(Cl)C6=C7C(Cl)(C%21%23Cl)C%251Cl)C(Cl)(C%13=C2%10)C%24(Cl)C%14(Cl)C%18(Cl)C%15%16Cl)C1=C(C%20%22Cl)C2(Cl)C4=C6C7=C%10C(Cl)(C3=C%11C%12(Cl)C%10(Cl)C%17(Cl)C6(Cl)C%192Cl)C5(Cl)C7(Cl)C9(Cl)C4(Cl)C81Cl': 1, 'Nc1nc(F)c(F)c(N)c1F': 1, 'Nc1cc(F)nc(N)c1F': 1, 'Nc1nc(F)c(Cl)c(N)c1Cl': 1, 'Nc1nc(N)c(F)cc1F': 1, 'CCCCCC(O)=O': 1, 'CCCCC(O)=O': 1, 'OC(=O)c1ccc(cc1)N1C=CN=C1': 1, 'NC(=O)c1cc(cc(c1)N(=O)=O)N(=O)=O': 1, 'C(CCN1C=NC=N1)CN1C=NC=N1': 1, 'CN1C(=O)C2C=CC1(C)C1C=CC2(C)N(C)C1=O': 1, 'CN1C(=CC=CC1=O)C': 1, 'OC(=O)CCOc1ccc(C=O)cc1': 1, 'OC(=O)COc1ccc(C=O)cc1': 1, 'c1cc(ccn1)c1cc(c2ccncc2)c(cc1c1ccncc1)c1ccncc1': 1, 'Cc1cc(C)cc(C=Cc2ccc(cc2)C=Cc2cc(C)cc(C)c2)c1': 1, 'NC(=S)Nc1ccc(F)cc1': 1, 'CC1(C)OC(C(O1)C(O)(c1ccccc1)c1ccccc1)C(O)(c1ccccc1)c1ccccc1': 1, 'S=C(N1CCCc2ccc3CCCN(C(=S)c4ccccc4)c3c12)c1ccccc1': 1, 'Fc1cc(I)c(F)c(F)c1F': 1, 'Fc1cc(F)c(I)c(F)c1F': 1, 'CCCCOc1ccc(cc1)C=Cc1ccncc1': 1, 'CC1CCC2(O)C(C)(C)C3CCC2(C)C1C3': 1, 'NCc1ccc(Cl)cc1': 1, 'BrCCCCOc1ccc(OCCCCBr)cc1': 1, 'CC(O)=C(C(C)=O)c1ccncc1': 1, 'Cc1cccnc1Br': 1, 'COP(=S)(OC)Oc1ccc(c(C)c1)N(=O)=O': 1, 'Cc1ccc(cc1)S(N)=O': 1, 'CC1=NN(C(=C1)C)C1=NNC(NN1)=C(C#N)C#N': 1, 'COC(=O)COCC(=O)OC': 1, 'C12=C3C4=C5C6=C7C8=C9C(=C36)C3=C1C1=C6C%10=C3C9=C3C9=C%10C%10=C%11C%12=C%13C(=C6%10)C6=C1C2=C1C4=C2C4=C%10C(=C%13C6=C14)C1=C%12C4=C6C%12=C1C%10=C1C2=C5C2=C7C5=C(C%12=C12)C6=C(C3=C85)C9=C%114': 1, 'O=C(NCCCCCCNC(=O)c1cccnc1)c1cccnc1': 1, 'ClC12C3=C4C5=C6C7=C8C9=C5C1=C1C5=C%10C%11=C%12C(=C95)C5=C9C%13=C%12C%12(Cl)C%11=C%11C%14=C%10C1(Cl)C1=C%10C%15=C%16C%17=C%18C%19=C%20C%21=C%17C(=C3C%16=C21)C1=C4C6(Cl)C2=C(C3=C4C6=C2C7(Cl)C(=C2C9(Cl)C7=C(C9=C%16C%17=C%22C(=C%19C(=C%17C49Cl)C%203Cl)C3=C%18C%15(Cl)C4=C(C%14%10Cl)C%11(Cl)C9=C%12C%10=C(C%22=C9C34Cl)C%16=C7C%13%10Cl)C62Cl)C85Cl)C%211Cl': 1, 'CC(C)(C)c1cc(O)ccc1O': 1, 'CCCOC(=O)c1cc(O)c(O)c(O)c1': 1, 'CCCCCC(=O)N(C)CCN(C)C(=O)c1ccccc1': 1, 'Oc1c(Cl)c(Cl)c(O)c(C#N)c1C#N': 1, 'c1ccc2c(c1)c1ccccc1[Si]12c2ccccc2c2ccccc12': 1, 'N1C(=Cc2cc3C=C(Nc3nc12)C1=CC=CS1)C1=CC=CS1': 1, 'CC(C)(C)C1=NNC(=P1)c1ccccc1': 1, 'Cc1cc(C)c([Se]c2c(C)cc(C)cc2C)c(C)c1': 1, 'C(N1C=CN=C1C1=NC=CN1Cc1ccccc1)c1ccccc1': 1, 'CC(C)(C)c1cc(NC(=O)Nc2cc(cc(c2)C(C)(C)C)C(C)(C)C)cc(c1)C(C)(C)C': 1, 'OC1=C(Cc2ccccc12)C(=O)CCNC(=O)C(F)(F)F': 1, 'CC(C)CC(NS(=O)(=O)c1ccc(C=CC(O)=O)cc1)C(O)=O': 1, 'O=C(CC(c1ccccc1)c1ccccc1)Nc1cccc(NC(=O)CC(c2ccccc2)c2ccccc2)n1': 1, 'CCOC(=O)C1=C(N)NC(=C(C1c1ccc(OC)cc1)C(=O)OCC)N': 1, 'NC1=CC=CC2=NSN=C12': 1, 'O[Cl](=O)(=O)=O': 1, 'Nc1cc(cc(N)c1N(=O)=O)N1CCOCC1': 1, 'O=N(=O)c1ccccc1': 1, 'OC(=O)c1cncc(c1)C(O)=O': 1, 'N1C=Cc2cccnc12': 1, 'O=C1C2CC(C(=O)c3ccccc23)c2ccccc12': 1, 'CC(C)(c1ccc(O)cc1)c1ccc(O)cc1': 1, 'NC(=S)NN=Cc1ccc(Cl)cc1Cl': 1, 'CCCCCCCCCCCCC': 1, 'CCN1c2ccccc2c2ccccc12': 1, 'C(Oc1ccncc1)C1=CSC=C1': 1, 'C[Si](C)(C)O[Si](C)(C)C': 1, 'Nc1ccc2ccc3cccc4ccc1c2c34': 1, 'NC(=O)CCC(N)=O': 1, 'OCCOCCNc1cccc2c(NCCOCCO)cccc12': 1, 'Clc1c2C(=O)NC(=O)c2c(Cl)c2C(=O)NC(=O)c12': 1, 'Cc1c(C)c2cccnc2c2ncccc12': 1, 'Oc1c(O)c(F)c(F)c(F)c1F': 1, 'Oc1cc(Cl)cc(Cl)c1O': 1, 'Oc1cc(Cl)c(Cl)cc1O': 1, 'C(Sc1ccncc1)c1ccncc1': 1, 'CCC(N1CCCC1=O)C(N)=O': 1, 'N#Cc1ccc(C=Cc2ccc(cc2)C=Cc2ccccc2C#N)cc1': 1, 'ON=C(c1ccccc1)C(=O)c1ccccc1': 1, 'CN1C=CC=C1': 1, 'OC(=O)COc1ccccc1C=O': 1, 'CC1=CSC(=N1)N': 1, 'CC1=CN=C(N)S1': 1, 'CCCCP1(=O)CC=C(C)C1': 1, 'Cc1cccc(SC2=C(SC(S2)=C2SC(=C(S2)Sc2cccc(C)c2)Sc2cccc(C)c2)Sc2cccc(C)c2)c1': 1, 'S1C=CC(=C1)C=Cc1ccncc1': 1, 'FC(F)(I)C(F)(F)C(F)(F)C(F)(F)I': 1, 'Nc1ccc(cc1)S(=O)(=O)N=C1NC=CS1': 1, 'N1C(=Cc2cc3C=C(Nc3nc12)c1ccccc1)c1ccccc1': 1, 'O=C1NC(=O)c2ccc3C(=O)NC(=O)c4ccc1c2c34': 1, 'Clc1ccc2N3CN(Cc2c1)c1ccc(Cl)cc1C3': 1, 'N#CC(C#N)=C1C2=C(C=CS2)C(C2=C1C=CS2)=C(C#N)C#N': 1, 'CC1(O)c2ccccc2c2ccccc12': 1, 'N1C=CN=C1c1ccncc1': 1, 'Nc1cc(Cl)ccc1Cl': 1, 'Nc1c[c]c(Cl)c(Cl)c1': 1, 'Oc1cc(Cl)c(Cl)c(Cl)c1': 1, 'Nc1ccc(Cl)c(Cl)c1': 1, 'CC(C)NN=C(C)C': 1, 'Cl[Si](N1C=Cc2cccnc12)(N1C=Cc2cccnc12)N1C=Cc2cccnc12': 1, 'CCCOc1ccc2ccc(OCCC)cc2c1': 1, 'COc1ccc2ccc(OC)cc2c1': 1, 'COc1ccc(cc1)C(Cc1ccncc1)C(=O)C(F)(F)F': 1, 'CC1(CC2(C)CC(C)(C1)C(=O)NC2=O)C#C': 1, 'CNC(=O)c1cc(NC(=O)C(C)C)nc(NC(=O)C(C)C)c1': 1, 'CCc1cc(NC(=O)C(C)C)nc(NC(=O)C(C)C)c1': 1, 'CC(C)(C)c1cc(cc(c1)C(C)(C)C)C1=CN(CP(=O)(c2ccccc2)c2ccccc2)N=N1': 1, 'IC1=CN=CN1': 1, 'O=C(Nc1cccc(c1)C#N)Nc1cccc(c1)C#N': 1, 'NC1=NC(=NN1)N(=O)=O': 1, 'O=N(=O)C1=NNC2=C1NN=C2N(=O)=O': 1, 'Cc1cc2C=CC(CC=C)C(O)c2cc1C': 1, 'O=CNCCNC=O': 1, 'ClC12C3=C4C5=C6C7=C3C3=C8C9=C%10C%11=C%12C%13=C9C9=C3C1=C1C3=C9C%13(Cl)C9=C%13C%14=C%15C%16=C9C%12(Cl)C9=C%12C%17(Cl)C%18=C(C%19=C%20C%21=C%18C%18=C%22C%23=C%21C%21=C%24C%25=C%23C%23(Cl)C%22=C%22C%26=C%18C%17=C(C%17=C%26C(Cl)(C7=C8C%10%17Cl)C%22(Cl)C6=C%23C6=C5C5(Cl)C7=C8C%10=C(C2=C47)C1(Cl)C1=C(C3%13Cl)C%14(Cl)C2=C(C(=C3C(=C2C%101Cl)C8(Cl)C(=C5C%256Cl)C%243Cl)C%20%21Cl)C%15%19Cl)C%119Cl)C%16%12Cl': 1, 'C1CNC2=NN=NN2N1': 1, 'O=N(=O)C1=NNC=N1': 1, 'CN1C=CN(C)C1=[Se]': 1, 'CN1C=CN(C)C1=S': 1, 'OC1=CC(=O)c2ccccc2C1=O': 1, 'CCCC(CCC)C(N)=O': 1, 'C1=CN(C=N1)c1ccc(cc1)N1C=CN=C1': 1, 'CCN(CN(CC)N(=O)=O)N(=O)=O': 1, 'Nc1cccnc1Br': 1, 'Nc1cccnc1Cl': 1, 'Oc1cccnc1Cl': 1, 'OC(=O)C1CCCC(C1)C(O)=O': 1, 'C12=C3C4=C5C6=C1C1=C7C8=C6C6=C9C%10=C8C8=C%11C%12=C%13C(=C78)C7=C1C2=C1C2=C3C3=C4C4=C8C%14=C3C3=C2C2=C%15C(=C%13C7=C12)C1=C%12C2=C7C%12=C(C9=C(C4=C56)C8=C%12C4=C%14C3=C%15C1=C74)C%10=C%112': 1, 'Cc1ccccc1C(N)=S': 1, 'Cc1cccc(c1)C(N)=S': 1, 'Cc1ccc(cc1)C(N)=S': 1, 'COc1ccccc1C(N)=S': 1, 'COc1cccc(c1)C(N)=S': 1, 'COc1ccc(cc1)C(N)=S': 1, 'NC(=S)c1cccc(c1)N(=O)=O': 1, 'NC(=S)c1ccccc1F': 1, 'NC(=S)c1ccccc1Cl': 1, 'NC(=S)c1ccc(Cl)cc1': 1, 'CI': 1, 'C12=C3C4=C5C6=C1C1=C7C8=C6C6=C9C%10=C8C8=C%11C%12=C%13C%14=C%15C%16=C%12C(=C78)C7=C1C2=C1C2=C3C3=C8C%12=C2C(=C%15C2=C%12C%12=C%15C%17=C%18C(=C8%12)C(=C43)C(=C56)C%18=C9C3=C%17C(=C%13C%11=C%103)C%15=C%142)C1=C%167': 1, 'CN1[Se][Se][Se]N(C)[Se][Se][Se]1': 1, 'OC(=O)Cc1cccc(CC(O)=O)c1': 1, 'O=C1C=CC(=O)N1c1ccccc1': 1, 'S(c1ccccc1)C1=C(SC(S1)=C1SC(=C(S1)Sc1ccccn1)Sc1ccccc1)Sc1ccccn1': 1, 'S(c1ccccc1)C1=C(Sc2ccccc2)SC(S1)=C1SC(=C(Sc2ccccc2)S1)Sc1ccccc1': 1, 'S1C(SC(=C1Sc1ccccn1)Sc1ccccn1)=C1SC(=C(S1)Sc1ccccn1)Sc1ccccn1': 1, 'O=C1N(Cc2ccccn2)C(=O)c2ccc(N3CCCCC3)c3cccc1c23': 1, 'O=C1N(Cc2cccnc2)C(=O)c2ccc(N3CCCCC3)c3cccc1c23': 1, 'O=C1N(Cc2ccncc2)C(=O)c2ccc(N3CCCCC3)c3cccc1c23': 1, '[O]N1C=CN([O])C=C1': 1, 'Cc1cc(O)cc(C)c1Cl': 1, 'N1C2=CC=C1c1ccccc1C1=NC(=C3NC(=C4C=CC=CC4=C4C=CC2=N4)C=C3)C=C1': 1, 'N#C[Se]C#N': 1, 'F[Se](F)(C#N)C#N': 1, 'COC(=O)C1C(C(C1c1cccnc1)C(=O)OC)c1cccnc1': 1, 'CC(C)(C)C1CCCCC1': 1, 'Cc1ccc2ccccc2c1C': 1, 'CC12CCC3C(CCc4cc(O)ccc34)C1CCC2=O': 1, 'C1CCCOCCOCCOCCOCCOCCOCC1': 1, 'C1CCCCOCCOCCOc2ccccc2OCCOCCOCCC1': 1, 'CC(C)P1(=O)CC=C(C)C1': 1, 'CC1(C)CC(=O)NC(=O)C1': 1, 'S1C=CC=C1c1ccncc1': 1, 'CCOc1cc(C=O)ccc1O': 1, 'COc1ccc(C=O)cc1O': 1, 'Nc1c(Cl)cc(cc1N(=O)=O)N(=O)=O': 1, 'OC(=O)CSc1ccccc1': 1, 'CC1=C(C)N=CN1': 1, 'CN1C(=O)C(=NNc2cccc(C)c2C)C(=C(C#N)C1=O)C': 1, 'NC(=S)c1ccccn1': 1, 'CF': 1, 'Clc1cccc(NC(=O)Nc2ccccc2)c1': 1, 'O=C(Nc1ccccc1)Nc1cccc(c1)C#N': 1, 'Cc1cccc(NC(=O)Nc2cccc(c2)C#N)c1': 1, 'O=C(Nc1ccccc1)Nc1cccc(c1)N(=O)=O': 1, 'Cc1cccc(NC(=O)Nc2cccc(c2)N(=O)=O)c1': 1, 'ClC12C3=C4C5=C6C7=C8C9=C%10C%11=C%12C(=C59)C3=C3C5=C%12C9(Cl)C%12(Cl)C%13=C%14C%15=C%16C%17=C%18C%19=C%20C%21=C%17C%17=C%15C%15=C%13C%13(Cl)C%22(Cl)C%23=C%24C%25=C(C1=C1C%26=C%25C%23=C%23C%25=C%27C%26=C%26C%28=C1C4(Cl)C6(Cl)C%28(Cl)C1(Cl)C7=C(C%19(Cl)C8(Cl)C%18(Cl)C%10(Cl)C%16(Cl)C%11(Cl)C9%14Cl)C4(Cl)C1(Cl)C%26=C%27C(Cl)(C%21(Cl)C%25(Cl)C%17(Cl)C%23(Cl)C%15%22Cl)C%204Cl)C(Cl)(C23Cl)C1(Cl)C5=C%12C%13(Cl)C%241Cl': 1, 'BrC#CC#CBr': 1, 'OC1(OC(=CC1=O)c1ccccc1)C(F)(F)F': 1, 'CCC1=C(C)C2=CC3=CC(=CC4=CC(=CC5=C(C)C(=C(N5)C=C1N2)CC)c1ccccc41)c1ccccc31': 1, 'O1c2ccc(C#Cc3ccccc3)c3Oc4ccc(C#Cc5ccccc5)c5Oc6ccc(C#Cc7ccccc7)c1c6P(c23)c45': 1, 'C1C2c3cc4c5ccc6ccc7ccc8ccc(c4cc3C1c1cc3c4ccc9ccc%10ccc%11ccc(c3cc21)c1c%11c%10c9c41)c1c8c7c6c51': 1, 'CS(N)(=O)=O': 1, 'NC1=NNC=N1': 1, 'OC(=O)c1ccc(F)c(c1)N(=O)=O': 1, 'CN1C(=O)N(C)C(=O)C2=NC(=C(C3=CC=C(N3)C(=C3C=CC(=N3)C(=C3NC(=C2c2ccccc2)C=C3)c2ccccc2)c2ccccc2)c2ccccc2)C1=O': 1, 'CC1=C2SC3=C(SC2=C(C)S1)SC1=C(C)SC(=C1S3)C': 1, 'COc1cc2SC3=C(Sc2cc1OC)Sc1cc(OC)c(OC)cc1S3': 1, 'CC1=C2SC3=C(Sc4ccccc4S3)SC2=C(C)S1': 1, 'CC(C)C(=O)Nc1cnccn1': 1, 'C1CN2CN3CN1CN(C2)C3': 1, 'Nc1cccc2cccnc12': 1, 'CCCCCCCCCOc1ccc(cc1)C1=NN=C(S1)c1ccncc1': 1, 'CCCCCCCCCCOc1ccc(cc1)C1=NN=C(O1)c1ccncc1': 1, 'CCCCCCCCCOc1ccc(cc1)C1=NN=C(O1)c1ccncc1': 1, 'CCOc1ccc(cc1)C=Cc1ccncc1': 1, 'Oc1c(Cl)c(Cl)c(O)c(Cl)c1Cl': 1, 'CO[Si](O)(OC)[Si](C(C)(C)C)(C(C)(C)C)C(C)(C)C': 1, 'Cc1c(Br)cccc1C(O)=O': 1, 'Cc1cc(C)c(C#N)c(C)c1': 1, 'OC(=O)C#CC(O)=O': 1, 'CN1C=CC(=O)C(=C1C)O': 1, 'CC(=O)NNC(C)=O': 1, 'COC12C(=O)C=Cc3cccc(Oc4c(CO)cc5ccccc5c14)c23': 1, 'CC(C)c1cccc(C(C)C)c1O': 1, 'c1ccc(nc1)c1cc(ccn1)c1cc2ccccc2c2ccccc12': 1, 'c1ccc(cc1)c1ccnc(c1)c1ccccn1': 1, 'c1ccc(nc1)c1cc(ccn1)c1ccc2ccccc2c1': 1, 'FC(F)(F)c1ccncc1': 1, 'CC(=O)C(O)=O': 1, 'Oc1c(F)c(O)c(F)c(F)c1F': 1, 'S1N=C2C=CC=CC2=N1': 1, 'C1CSCCSCCCSCCSC1': 1, 'COc1ccc2C(=O)Oc3c(OC)c(OC)ccc3C(=O)Oc2c1OC': 1, 'C=Cc1ccccc1': 1, 'C=CN1C=CN=C1': 1, 'CC(Cl)=O': 1, 'CC1=C(C)C(=O)NC(=N1)N': 1, 'OC(=O)C1(O)CCC(=O)O1': 1, 'COc1cccc(C=Nc2cccc(c2)C(C)=O)c1O': 1, 'COc1cccc(C=Nc2ccc3ccccc3c2)c1O': 1, 'NC(=NNc1ccccc1)c1ccccn1': 1, 'O1N=C2OC3=NON=C3C3=NON=C3C2=N1': 1, 'CC(=O)c1ccc(N)cc1': 1, 'COc1ccc(N)cn1': 1, 'Nc1ccc(cc1)C(=O)c1ccccc1': 1, 'CC1(C)OB(OC1(C)C)B1OC(C)(C)C(C)(C)O1': 1, 'CN(C(=O)C(=O)N(C)N(=O)=O)N(=O)=O': 1, 'COC1=C(F)C2=N[Se]N=C2C(=C1OC)F': 1, 'OC(=O)c1ccccn1': 1, 'CCNCc1ccncc1': 1, 'CCc1cc(ccn1)C(N)=S': 1, 'CC1(C)C2=C(Cl)C=CC3=CC=CC3=C12': 1, 'c1ccc2c(c1)cccc2C=Cc1ccncc1': 1, 'CC(C)(O)c1ccccc1SCC(O)c1ccccc1': 1, 'OC(=O)C1=C(Cl)C=CS1': 1, 'CC1=NC(=CC(=O)N1)C': 1, 'CCCC(C)CC': 1, 'O=C(C1=CC=CS1)C1=CC=CS1': 1, 'C1COCCOCCOCCOCCOCCOCCCC=CC1': 1, 'C1COC(C1)OOC1CCCO1': 1, 'CC(C)(C)c1cc(cc(c1)C1=CN(N=N1)c1cc(cc(c1)C(C)(C)C)C(C)(C)C)C#C': 1, 'CC(C)(C)c1cc(cc(c1)N1C=C(N=N1)c1cc(cc(c1)C(C)(C)C)C(C)(C)C)C#C': 1, 'CNC=O': 1, 'NC1CCCNC1=O': 1, 'Fc1ccc(F)c(F)c1F': 1, 'Fc1cc(F)c(F)c(F)c1F': 1, 'N#CC(C#N)=C1c2ccccc2c2ccccc12': 1, 'O=C1OC(=O)c2cccc3cccc1c23': 1, 'ON=Cc1c(O)ccc2ccccc12': 1, 'CN(=O)=O': 1, 'NCC(O)=O': 1, 'C1CCCOc2cccc(OCCCCCCOc3ccc(cc3)c3ccc4ccc5ccc(nc5c4n3)c3ccc(OCC1)cc3)c2': 1, 'COc1cc2C(=O)N(CCCCl)C3=C(C(=O)c4cccc5N(C(=C3c45)Cl)S(=O)(=O)c3ccccc3)c2cc1OC': 1, 'COc1ccccc1P(Cl)Cl': 1, 'BrC1=CNC=CC1=O': 1, 'N1c2ccccc2C2=C1c1ccccc1N2': 1, 'N(c1ccccc1)C(Nc1ccccc1)=Nc1ccccc1': 1, 'N#C[As](C#N)C#N': 1, 'NN1C=CN=N1': 1, 'COc1ccc(cc1)C1=Cc2ccccc2O1': 1, 'c1cc(ccn1)c1ccc(cc1)c1ccc(cc1)c1ccncc1': 1, 'CCOC(=O)c1ccc(O)cc1': 1, 'CC(C)COC(=O)c1ccc(O)cc1': 1, 'Fc1ccc(cc1)c1cc(cc(c1)c1ccc(F)cc1)c1ccc(F)cc1': 1, 'ClC12C3=C4C5=C6C7=C3C3=C8C9=C%10C%11=C3C1=C1C3=C%12C%13=C%14C(=C%113)C%10=C3C%10=C%14C%11(Cl)C%14=C%15C%16=C%17C(=C%13%14)C%13=C%12C1(Cl)C1=C%12C%14=C(C4=C21)C1(Cl)C5=C2C4=C6C5(Cl)C7=C8C6(Cl)C9=C7C3(Cl)C3=C8C9=C%18C%19=C%20C%21=C%22C%23=C%19C%19=C(C%24=C%23C%23=C%25C(=C%16%24)C(=C%17C%13%12Cl)C%14(Cl)C%25=C1C1=C%23C%22(Cl)C(=C%12C%21(Cl)C%13=C(C5=C6C5=C%13C%20(Cl)C%18=C3C75Cl)C4%12Cl)C21Cl)C%15(Cl)C(=C%11C%108Cl)C9%19Cl': 1, 'COC(=O)C(Cc1ccccc1)NC(=O)c1ccccc1': 1, 'O=C1CCC2CCCCC2=C1': 1, 'CC(C)(C)[Si](O)(O)O': 1, 'CN1N=C(N=C1N(=O)=O)N(=O)=O': 1, 'ClC12C3=C4C5=C6C7=C8C9=C6C3=C3C6=C9C9=C%10C6=C6C%11=C%12C%13=C%14C%15=C%16C%17=C(C%10=C%11%15)C%10=C9C8=C8C9=C7C7=C5C5=C%11C%15=C%18C%19=C%20C%21=C%22C%23=C%19C%11=C7C%23(Cl)C9=C7C9=C8C%10(Cl)C%17=C8C%10=C%16C%14(Cl)C%11=C%14C(=C%16C%17=C%11C%13(Cl)C%11=C%13C%19=C(C%15=C5C4=C%19C1=C%11C%12(Cl)C6=C23)C(=C%18C%20%16Cl)C%17%13Cl)C%21(Cl)C(=C(C%227Cl)C98Cl)C%10%14Cl': 1, 'Cc1cc(ccc1N(=O)=O)N(=O)=O': 1, 'CCOC(=O)C(C)=Cc1ccncc1': 1, 'CCOC(=O)C=C(C)c1ccncc1': 1, 'Nc1c(F)cc(F)c(N)c1F': 1, 'Nc1cc(F)cc(N)c1F': 1, 'Nc1c(F)c(N)c(Cl)c(F)c1F': 1, 'Nc1c(F)c(N)c(Cl)c(F)c1Cl': 1, 'Nc1c(Cl)c(N)c(Cl)c(F)c1Cl': 1, 'N#Cc1ccc(cc1)N=Nc1ccc(cc1)C#N': 1, 'O=N(=O)c1ccc(cc1)N=Nc1ccc(cc1)N(=O)=O': 1, 'O=C(NN=Cc1ccncc1)c1ccncc1': 1, 'CCc1cccnc1': 1, 'COc1ccc(cc1)C(CN(C)C)C1(O)CCCCC1': 1, 'CC1CNCC(C)C1': 1, 'CC1CCCNC1': 1, 'CC1CCNCC1': 1, 'C1CN=Cc2cc3C=NCCN=Cc4cc5C=NCCN=Cc6cc(C=N1)cc(C=NCCN=Cc1cc(C=NCCN=Cc(c2)c3)cc(C=NCCN=Cc(c5)c4)c1)c6': 1, 'O=C(Nc1ccccc1)Nc1ccccc1': 1, 'NC(=O)CC(N)=O': 1, 'Nc1c(F)cc(F)c(N)c1C(F)(F)F': 1, 'CCOC(=O)C1=C(O)CCCC1': 1, 'CN1CCCC1c1ccccn1': 1, 'COc1cccc(OC)c1': 1, 'CC1=CC(=O)CC(C)(C)C1': 1, 'C12=C3C4=C5C6=C1C1=C7C8=C6C6=C9C%10=C8C8=C%11C%12=C%13C(=C78)C7=C1C2=C1C2=C3C3=C8C%14=C%15C%16=C%17C%18=C%19C(=C8%16)C(=C43)C(=C56)C%19=C9C3=C%18C4=C(C%11=C%103)C%12=C3C5=C%13C7=C1C(=C2%14)C5=C%15C3=C%174': 1, 'CCC1=C(CC)C2=C(Sc3ccccc3)C3=NC(=C(Sc4ccccc4)C4=C(CC)C(=C(N4)C(=C4N=C(C(=C4CC)CC)C(=C1N2)Sc1ccccc1)Sc1ccccc1)CC)C(=C3CC)CC': 1, 'CC(C=CN1CCCCCC1=O)N1CCCCCC1=O': 1, 'NCCCCN': 1, 'Fc1ccc[c]c1C#N': 1, 'CCCCCCCCCCCC(O)=O': 1, 'ClC12C3=C4C5=C6C7=C8C9=C%10C(=C37)C3=C1C1=C7C%11=C3C%10(Cl)C3=C%10C%12=C%13C%14=C3C%11(Cl)C3=C%11C%15=C%16C%17=C3C%14(Cl)C3=C%14C%18(Cl)C%19=C%20C%21=C%22C(=C%19C%173Cl)C%16(Cl)C3=C%16C%17=C%19C%23=C3C%15(Cl)C(=C3C1(Cl)C1=C2C4=C2C(=C1C%233Cl)C%19(Cl)C1=C3C2(Cl)C5=C2C4=C5C%15=C(C(=C(C%21=C%15C%15(Cl)C%19(Cl)C5=C5C(=C64)C8(Cl)C4=C(C9%10Cl)C%12(Cl)C6=C(C%19=C(C%18=C6C%13%14Cl)C%20%15Cl)C54Cl)C%22%16Cl)C%171Cl)C32Cl)C7%11Cl': 1, 'O=N(=O)C1=NNN=N1': 1, 'O=N(=O)C1=NNN=C1': 1, 'CCCCCCCCC1=C2NC(=C3C=CC(=N3)C(=C(CCCCCCCC)C3=CC=C(N3)C3=NC(=C1CCCCCCCC)C=C3)CCCCCCCC)C=C2': 1, 'Cc1ccc(C)c(O)c1': 1, 'O=C(C=Cc1c2ccccc2cc2ccccc12)c1ccccc1': 1, 'COc1ccc(cc1)C(=O)C=Cc1ccc2ccc3cccc4ccc1c2c34': 1, 'O=C(C=Cc1c2ccccc2cc2ccccc12)C1=CC=CS1': 1, 'CC(=O)N1N=C(CC1c1ccc2ccc3cccc4ccc1c2c34)c1ccccc1': 1, 'S1C=Cc2c1c1C=CSc1c1C=CSc21': 1, 'COc1cc2ncnc(Nc3ccc(F)c(Cl)c3)c2cc1OCCCN1CCOCC1': 1, 'OC(=O)CCCCCCCC(O)=O': 1, 'IC(I)=C(I)I': 1, 'N#CC1=C(N=CN1)C#N': 1, 'BrC1=CC(=O)c2ccccc2C1=O': 1, 'CCC(C)(C)O': 1, 'FC1CCCCC1Br': 1, 'CC(C)(C)c1cc(NC(=O)c2cc(cc(c2)C(C)(C)C)C(C)(C)C)cc(c1)C(C)(C)C': 1, 'ON=Cc1cccc(O)c1O': 1, 'OB(O)c1c2ccccc2cc2ccccc12': 1, 'ClC1=C(Cl)C(=O)c2ccccc2C1=O': 1, 'CCCCCCCCO': 1, 'CCNC(C)=N': 1, 'OC(=O)c1[c]cc(O)cc1O': 1, 'c1ccc2c(c1)c(C=Cc1cccnc1)c1ccccc1c2C=Cc1cccnc1': 1, 'CC=C(C=O)c1ccccc1': 1, 'CC(C)CCOC(C)=O': 1, 'CC(C)=CCCC(C)=CC=O': 1, 'CC1(C)C2CCC1(C)C(=O)C2': 1, 'CN1C(=O)C(=O)c2ccccc12': 1, 'FC(Cl)(Cl)Cl': 1, 'CN1N=C(C(=C1N(=O)=O)N(=O)=O)N(=O)=O': 1, 'NC1=NON=C1N': 1, 'O=C(Nc1ccccc1)Nc1ccccc1C#N': 1, 'O=C(Nc1ccccc1)Nc1ccccc1N(=O)=O': 1, 'O=C(Nc1ccccc1)Nc1ccc(cc1)C#N': 1, 'O=C(Nc1ccccc1)Nc1ccc(cc1)N(=O)=O': 1, 'CC1(C)OC2OC3C(OC(=O)C4CCC=CC34)C2O1': 1, 'CCCCOc1cc2c(cc1OCCCC)c1cc(OCCCC)c(OCCCC)cc1c1cc(OCCCC)c(OCCCC)cc21': 1, 'OC(=O)c1cc(Cl)cc(Cl)c1O': 1, 'Brc1cncc(Br)c1': 1, 'CC(OO)(OO)c1ccccc1': 1, 'O=C(CCC(=O)N(CC1CCCCC1)Cc1ccccc1)N(CC1CCCCC1)Cc1ccccc1': 1, 'CC(C)CN(CC(C)C)C(=O)CCC(=O)N(CC(C)C)CC(C)C': 1, 'CCCCN(CCCC)C(=O)CCC(=O)N(CCCC)CCCC': 1, 'Cc1cc(C)nc(Nc2ccccc2)n1': 1, 'O([Si](c1ccccc1)(c1ccccc1)c1ccccc1)[Si](c1ccccc1)(c1ccccc1)c1ccccc1': 1, 'OS(=O)(=O)c1cccc2c1cccc2S(O)(=O)=O': 1, 'BrN1C(=O)CCC1=O': 1, 'COc1cccc(C=Nc2ccc(Br)cc2)c1O': 1, 'COc1cccc(C=Nc2ccc(I)cc2)c1O': 1, 'O=N(=O)C=Cc1ccccc1': 1, 'c1ccc(cc1)c1ccnc2c1ccc1c(ccnc21)c1ccccc1': 1, 'Clc1ccnc2c1ccc1c(Cl)ccnc21': 1, 'OC(=CC(=O)c1cccnc1)c1cccnc1': 1, 'OC(=CC(=O)c1ccccn1)c1ccccn1': 1, 'OC(=CC(=O)c1ccncc1)c1ccncc1': 1, 'OB(O)c1cccc2ccccc12': 1, 'OB(O)c1c(F)cccc1F': 1, 'OB(O)c1cc(F)c(F)c(F)c1': 1, 'OB(O)c1ccc(Br)cc1': 1, 'NN1C2=NON=C2C2=NON=C2C2=NON=C12': 1, 'Nc1cccc2N=S=Nc12': 1, 'CC(NC(=O)c1ccccc1)c1ccccc1': 1, 'CC(NC(=O)c1ccccc1C)c1ccccc1': 1, 'CC(NC(=O)c1ccccc1C(F)(F)F)c1ccccc1': 1, 'CC(C)CC1CC(C)C2(N1C(=O)C1=CN(C)C=N1)C(=O)Nc1ccc(F)cc21': 1, 'N(c1ccccn1)c1ccccn1': 1, 'C(N1C=CN=C1C1=NC=CN1)c1ccncc1': 1, 'CC(C)C1=C(C)N(C)N(c2ccccc2)C1=O': 1, 'C1CCOOC1': 1, 'CC1=CC(=NN1)c1ccccc1': 1, 'CC1OC(C)C2CN(CC2C=C1)S(=O)(=O)c1ccc(C)cc1': 1, 'CC(C)(C)NP1(=S)N(C(C)(C)C)P(=S)(Nc2cc(cc(c2)C(F)(F)F)C(F)(F)F)N1C(C)(C)C': 1, 'NC1=NN=CN1': 1, 'S1C=Cc2ccc3c4SC=Cc4ccc3c12': 1, 'Brc1cnc2ccccc2c1': 1, 'COc1cc2Cc3cc(O)c(OC)cc3Cc3cc(O)c(OC)cc3Cc2cc1O': 1, 'Nc1ccc(Br)c2ccccc12': 1, 'NC(N)=C(N(=O)=O)N(=O)=O': 1, 'CCCCN(Cc1ccccc1)C(=O)CCC(=O)N(CCCC)Cc1ccccc1': 1, 'CCCCN(CC1=CC=CO1)C(=O)CCC(=O)N(CCCC)CC1=CC=CO1': 1, 'NC(=O)CC(O)C(N)=O': 1, 'CNC(=O)CC(O)C(=O)NC': 1, 'CCCCNC(=O)CC(O)C(=O)NCCCC': 1, 'Cc1cccc(N)c1N': 1, 'CC(C)C(=O)Nc1ccc2ccc(NC(=O)C(C)C)nc2n1': 1, 'CC(C)OC(=O)C(Cc1ccccc1)N1C=C(N=N1)c1cc(cc(c1)C(C)(C)C)C(C)(C)C': 1, 'OC(=O)CNC(=O)c1ccccc1': 1, 'COCCC1CCCC1=O': 1, 'CCCCOc1ccc2cc3cc(OCCCC)ccc3cc2c1': 1, 'CCP(=O)(CC)CC': 1, 'CC1COC(=O)O1': 1, 'CC1=NC=CN1': 1, 'CCC1=NC=CN1': 1, 'CCCCC1=NC=CN1': 1, 'O=CC1=CNC=N1': 1, 'CC1(O)Cc2ccccc2C(=O)O1': 1, 'Cc1cccc(N)c1': 1, 'O1C(=NN=C1c1ccccc1)c1ccccc1': 1, 'Cc1ccc(cc1)C1=NN=C(O1)c1ccccc1': 1, 'N#CC12CC3CC(CC(C3)C1)C2': 1, 'ClCC(Cl)Cl': 1, 'OC(=O)Cc1cccc2ccccc12': 1, 'c1ccc(cc1)P(c1ccccc1)c1ccccc1': 1, 'CCc1nc(N)nc(N)c1c1ccc(Cl)cc1': 1, 'OC(=O)c1c2ccccc2cc2ccccc12': 1, 'OC(=O)c1cccc(c1)C#N': 1, 'CCP(=O)(c1ccccc1)c1ccccc1C': 1, 'CC1CC(=O)C(CC2=C1C1C3C(=O)C(=C4CC(=C(C)C)C(=O)CC(C)C34C2(C)C1=O)C)=C(C)C': 1, 'CC(=O)c1ccc2ccccc2c1': 1, 'CC(C)CCN': 1, 'CCCCCN': 1, 'CC1=CN=C(NC(=O)c2ccccc2)S1': 1, 'C1CCCCc2ccc(COCC3=CN(N=N3)c3cccc(OCc4ccc(CCCC1)cc4)c3)cc2': 1, '[N]1Sc2cc3ccccc3cc2S1': 1, 'Cc1cc(c(C)c(c1)N(=O)=O)N(=O)=O': 1, 'OC(=O)c1c(F)c(F)c(O)c(F)c1F': 1, 'CP(O)(O)=O': 1, 'CC=CCC(C=C(C)O)c1ccc(F)cc1': 1, 'CN(C)c1ccc2cc3ccc(cc3nc2c1)N(C)C': 1, 'Cc1c(N)cccc1N': 1, 'CCOC(=O)C1=C(C)C(=C(N1)C=O)C': 1, 'Fc1c(F)c(F)c(c(F)c1F)C1=C2C(=C(F)C(=C(F)C2(F)F)F)C(=C2C1=C(F)C(=C(F)C2(F)F)F)c1c(F)c(F)c(F)c(F)c1F': 1, 'CC1=CC=C(S1)C(O)=O': 1, 'Oc1cc2C=NC3CCCCC3N=Cc3ccc(cc3)C=NC3CCCCC3N=Cc3ccc(cc3)C=NC3CCCCC3N=Cc1cc2O': 1, 'OC1(CCC(O)(CC1)C#C)C#C': 1, 'CC1=CNC(=O)C=C1': 1, 'Cc1cc(C)c(B(O)c2c(C)cc(C)cc2C)c(C)c1': 1, 'N1C=CC=C1': 1, 'Cc1ccc2cc(Cl)ccc2n1': 1, 'Nc1c(F)c(F)cc(F)c1F': 1, 'Nc1c(F)c(F)c(C#N)c(F)c1F': 1, 'Nc1c(F)c(F)nc(F)c1F': 1, 'OC(=O)c1ccccc1Sc1ccccc1C(O)=O': 1, 'O=C1CNC(=O)N1': 1, 'CCCN1C=C(C)C(=O)NC1=O': 1, 'C1COCc2ccc(COCc3cccc(COCc4ccc(COCCO1)cc4)c3)cc2': 1, 'Cc1cccc(C)c1N': 1, 'N1C2=C(c3ccccc3)C3=NC(=C(C4=CC=C(N4)C(=C4C=CC(=N4)C(=C1C=C2)c1ccncc1)c1ccccc1)c1ccncc1)C=C3': 1, 'CC(C)C(F)C(O)CC(=O)c1ccccc1': 1, 'CN(C)c1ccc(cc1)C#Cc1ccncc1': 1, 'CN(C)c1ccc(cc1)C#Cc1cccnc1': 1, 'CN(C)c1ccc(cc1)C#Cc1ccccn1': 1, 'OOC1(CCCCCC1)OO': 1, 'OOC1(CCCC1)OO': 1, 'OOC1(O)CCCCC1': 1, 'CCOC(=O)C1=C2NC(=C(C(=O)OCC)C3=NC(=C(C(=O)OCC)C4=CC=C(N4)C(=C4C=CC1=N4)C(=O)OCC)C=C3)C=C2': 1, 'Cc1cccc(C)c1N=C(C=CC(=Nc1c(C)cccc1C)c1ccccc1)c1ccccc1': 1, 'Oc1cc(O)c(Br)cc1Br': 1, 'COc1ccc(nc1)N=Cc1ccccc1O': 1, 'OC(=O)c1cc(Cl)cc(Cl)c1': 1, 'CN1C(=O)N(C)C(=C1c1ccccc1)c1ccccc1': 1, 'CC(C)(C)N1P2N(C(C)(C)C)P(=O)(N2C(C)(C)C)N(P2N(C(C)(C)C)P1(=O)N2C(C)(C)C)C(C)(C)C': 1, 'CC(C)(C)N1P2N(C(C)(C)C)P1(=[Se])N(P1N(C(C)(C)C)P(=[Se])(N2C(C)(C)C)N1C(C)(C)C)C(C)(C)C': 1, 'CC(=O)c1ccc(cc1)B(O)O': 1, '[O][Xe]([O])[O]': 1, 'COc1cc(cc(OC)c1OC)C(O)=O': 1, 'CC1=NNC(=C1)C=Nc1ccccc1O': 1, 'COc1nc(OC)c(nc1N(=O)=O)N(=O)=O': 1, 'Cc1nc2ccccc2nc1C': 1, 'OS(=O)(=O)C(F)(F)F': 1, 'C1=CN2C(=N1)N1C=CN=C1N1C=CN=C21': 1, 'FC(F)(F)S(=O)(=O)Nc1ccccc1': 1, 'CCCCOc1cc(OC)cc(C2Oc3ccccc3C(=O)C2S(=O)(=O)c2ccc(C)cc2)c1CC(C)=O': 1, 'Cc1ccc(cc1)C1=C(c2ccc(C)cc2)c2ccccc2C(N1)=Cc1nc(c2ccc(C)cc2)c(c2ccc(C)cc2)c2ccccc12': 1, 'O=P12c3c4Oc5cccc(Oc6cccc(Oc3ccc4)c16)c25': 1, 'CC(=O)Sc1ccc(cc1)C#CC1=C2C=CC(=N2)C(=C2NC(=C(C#Cc3ccc(SC(C)=O)cc3)C3=NC(=C(C4=CC=C1N4)c1cc(cc(c1)C(C)(C)C)C(C)(C)C)C=C3)C=C2)c1cc(cc(c1)C(C)(C)C)C(C)(C)C': 1, 'N#CCCCCCCCCC#N': 1, 'OC(=O)Cc1ccccc1Nc1c(Cl)cccc1Cl': 1, 'Cc1cncc(C)c1c1cccc2C(=O)c3cccc(c4c(C)cncc4C)c3C(=O)c12': 1, 'Cc1cncc(C)c1c1cccc2cc3cccc(c3cc12)c1c(C)cncc1C': 1, 'CC(C)(C)c1cc(cc(c1)C(C)(C)C)C(O)C1=CN(N=N1)c1cc(cc(c1)C(C)(C)C)C(C)(C)C': 1, 'c1ccc(cc1)[As](c1ccccc1)c1ccccc1': 1, 'CCCCCCCCBr': 1, 'CC(C)=NNC(=O)c1ccncc1': 1, 'C1CC(CCC1N=Cc1ccncc1)N=Cc1ccncc1': 1, 'CCc1ccccc1': 1, 'C1CNCCNCCCNCCNC1': 1, 'CN(C)CCCCCCN(C)C': 1, 'OC(=CC(=O)c1ccccc1)c1ccccc1': 1, 'OC(=CC(=O)C=C(O)c1ccccc1)c1ccccc1': 1, 'Oc1c(F)cc(F)cc1F': 1, 'CCC=CCC': 1, 'OC(=O)C1CCCN1': 1, 'O=C1NC(=NO1)c1ccccc1': 1, 'Clc1c(Cl)c(Cl)c(C#N)c(C#N)c1Cl': 1, 'c1ccc2c(c1)ccc1c3ccccc3ccc21': 1, 'CC1=C(N=CN1)N(=O)=O': 1, 'CC(C)c1cccc(C(C)C)c1P(P(c1c(cccc1C(C)C)C(C)C)c1c(cccc1C(C)C)C(C)C)c1c(cccc1C(C)C)C(C)C': 1, 'C1CCCOc2ccc(cc2)c2cccc(n2)c2cccc(CCCc3ccc(OCC1)cc3)n2': 1, 'c1cc(ccn1)c1cncc(c1)c1ccncc1': 1, 'CCCCN(CCCC)C(=O)C=CC(=O)N(CCCC)CCCC': 1, 'O=N(=O)N1C=NC(=C1)N(=O)=O': 1, 'FC(F)(F)C1=N[As](Cl)N=C1C(F)(F)F': 1, 'NC1=NC(=CS1)c1ccc(Cl)cc1': 1, 'CC(=O)Nc1cc(Cl)ccc1O': 1, 'NC1=NC(=O)NC=C1I': 1, 'Cc1cc(C(c2ccccc2)c2ccccc2)c(P(Cl)Cl)c(c1)C(c1ccccc1)c1ccccc1': 1, 'c1ccc(cc1)C(c1ccccc1)=C1c2ccccc2c2ccccc12': 1, 'Nc1ccc(cc1)C1(c2ccc(N)cc2)c2ccccc2c2ccccc12': 1, 'CCOC(=O)C1=C2C=CC(=CC=C2C(=C1)C(=O)OCC)N=Nc1ccc(C)cc1': 1, 'Nc1ncc2c3ccccc3cnc2n1': 1, 'CCCCNC(=S)NC1=Nc2ccccc2N1': 1, 'CC1=CC(=CC(=O)N1)C(F)(F)F': 1, 'S1C=CC=C1c1cncnc1': 1, 'NC1CCCCC1': 1, 'Cc1cc(C)c(c(C)c1)c1c2cccc(c2cc2c(cccc12)c1c(C)cncc1C)c1c(C)cncc1C': 1, 'COc1cc2OC(=O)C=Cc2cc1OC': 1, '[Se]([Se]c1ccccc1)c1ccccc1': 1, 'NC1=NC2=NC(=NC3=NC(=NC(=N1)N23)N)N': 1, 'CCCCCCCCCCCCN1C=C(C)C(=O)NC1=O': 1, 'CC(=O)Oc1ccc(cc1)C=Cc1ccncc1': 1, 'CN1C(=O)c2ccccc2C1=O': 1, 'COC(=O)c1ccc(C)cc1': 1, 'NC1C=NN=C1': 1, 'CCCCCc1ccc(cc1)C#Cc1ccncc1': 1, 'CCCCCc1ccc(cc1)C#Cc1ccccn1': 1, 'Oc1ccc2ccccc2c1C=O': 1, 'CC(C)c1cccc(C(C)C)c1NC(=O)NC(=O)c1ccccc1': 1, 'OC(=O)c1ccc(cc1)C(F)(F)F': 1, 'O=C(NCCCCCCC#N)C(=O)NCCCCCCC#N': 1, 'Cc1ccc2S[N]Sc2c1': 1, 'Nc1c(F)c(F)nc(F)c1Cl': 1, 'Nc1c(Cl)c(F)nc(F)c1Cl': 1, 'Nc1nc(F)c(F)cc1F': 1, 'Nc1nc(F)c(F)c(Cl)c1F': 1, 'Nc1ccc2c(F)cc(F)cc2n1': 1, 'Nc1c(F)c(F)c2ccc(Cl)nc2c1F': 1, 'O(c1ccccc1)c1ccccc1': 1, 'Cc1cc(Br)ccc1N': 1, 'Oc1cc(O)c(c(O)c1)N(=O)=O': 1, 'ON=Cc1c(O)cc(O)cc1O': 1, 'CCC(C)(OO)OOC(C)(CC)OO': 1, 'Cc1cc(C)cc(O)c1': 1, 'Cc1ccc2ccc3cccnc3c2n1': 1, 'CCCCC(CC)CN1C(=O)C(c2ccccc12)=C1C(=O)Oc2cc3c(OC(=O)C3=C3C(=O)N(CC(CC)CCCC)c4ccccc34)cc12': 1, 'Fc1cccc(F)c1': 1, 'Fc1cc(cc(F)c1N(=O)=O)N1CCOCC1': 1, 'C1COCOC1': 1, 'ClC1=CC(=NC#N)C(=CC1=NC#N)Cl': 1, 'CC(=O)OCC(OC(C)=O)C(OC(C)=O)C(OC(C)=O)C1CN(C(C)=O)C(C)(O1)c1cc(Br)ccc1OC(C)=O': 1, 'CC12CC(=C)NC1(C)NC(=C)C2': 1, 'CC(C)(C)c1cc2CN(CCc3ccc(cc3)C#C)COc2c(c1)C(C)(C)C': 1, 'CCCCCCC1=CSC=C1': 1, 'Brc1cncc(c1)c1ccncc1': 1, 'CC(NC(=O)C1=CC2=C3C(=C4C=C(SC4(C)C2(C)S1)C(=O)NC(C)c1cccc2ccccc12)C(F)(F)C(F)(F)C3(F)F)c1cccc2ccccc12': 1, 'OC(=O)C(=Cc1ccc(cc1)c1cc(cc(c1)C(F)(F)F)C(F)(F)F)C#N': 1, 'CN1N=NN=C1N': 1, 'O=N(=O)c1ccc2ncccc2c1': 1, 'Nc1ccc(cc1Cl)N(=O)=O': 1, 'Cc1cc(c(O)c(c1)C(C)(C)C)C(C)(C)C': 1, 'S1C=CC=C1c1cncc(c1)C1=CC=CS1': 1, 'O1C=CC=C1c1cncc(c1)C1=CC=CO1': 1, 'O=C1CC(=O)NC(=S)N1': 1, 'O=N(=O)C1=NC(=CN1)N(=O)=O': 1, 'O=N(=O)C1=CC(=NN1)N(=O)=O': 1, 'CCOC(=O)c1ccc(cc1)N=C1C=C(C(=O)OCC)C(C=C1C(=O)OCC)=Nc1ccc(cc1)C(=O)OCC': 1, 'Oc1ccccc1C=Nc1ccccc1': 1, 'OC(=O)c1ccc(cc1)N=Cc1ccccc1O': 1, 'Clc1ccc2OC(=O)C(Nc2c1)=CC(=O)c1ccccc1': 1, 'S1C=Cc2cc3SC=Cc3cc12': 1, 'C[Si](CN1C=NC=N1)(c1ccc(F)cc1)c1ccc(F)cc1': 1, 'COC(=O)NC(=S)Nc1ccccc1NC(=S)NC(=O)OC': 1, 'Oc1ccc(cc1)C=Cc1cc(O)cc(O)c1': 1, 'CC(=O)C=Cc1ccc2cc(O)cc(O)c2c1': 1, 'C(CP(c1ccccc1)c1ccccc1)P(c1ccccc1)c1ccccc1': 1, 'COc1ccc(cc1)C1C(OC2=C1C(=O)CC(C)(C)C2)N(NC(=O)OC(C)C)C(=O)OC(C)C': 1, 'Fc1c(F)c(C#N)c(F)c(C#N)c1F': 1, 'CCOS(=O)(=O)OCC': 1, 'CCOC(=O)C(=O)OCC': 1, 'Cc1cccc(C(O)=O)c1O': 1, 'O=C1Nc2ccccc2NC1=O': 1, 'S1C=CC=C1C1=CC=C(C2=CC=CS2)C2=NSN=C12': 1, '[N]1[Se][N]c2c1c(ccc2C1=CC=CS1)C1=CC=CS1': 1, 'CC(=O)NC(N)=S': 1, 'COP(Cl)(=O)OC': 1, 'COP(=O)(OC)Oc1ccc(cc1)N(=O)=O': 1, 'COP(C)(=O)OC': 1, 'COP(F)(=O)OC': 1, 'NNC(N)=O': 1, 'NN': 1, 'Oc1ccc(C2CCCCC2)c(O)c1': 1, 'Nc1c(N)c(ccc1C#N)C#N': 1, 'Cc1cc(C)c2ccc3c(C)cc(C)c4ccc1c2c34': 1, 'CC(C)CCCC(C)C1CCC2C3CCC4CC(O)CCC4(C)C3CCC12C': 1, 'CCOC(=O)C=Cc1cccc2NC(=CC(=O)c12)c1ccccc1': 1, 'OC(=O)c1ccc(cc1)c1ccc(c2ccc(cc2)C(O)=O)c2N=C(Nc12)c1ccccc1': 1, 'Fc1c(F)c(I)c(F)c(I)c1F': 1, 'Oc1ccc(cc1)C1CC(=O)c2c(O)cc(O)cc2O1': 1, 'CCCCCCCCC(O)c1ccccc1': 1, 'Cc1ccc(N)nc1': 1, 'Nc1ccc(Br)cn1': 1, 'CCOC(=O)NNC(=O)OCC': 1, 'C1=CC=CC=CC=C1': 1, '[Se]1c2ccccc2c2ccccc12': 1, 'C1Cc2ccc(CCc3ccc1cc3)cc2': 1, 'CCN(C)C': 1, 'N(c1ccccc1)c1ccc(Nc2ccccc2)cc1': 1, 'CC(C)c1cccc(C(C)C)c1N1C(=O)C2(CCCCC2)CC1(C)C': 1, 'Brc1ccncc1': 1, 'C(COc1ccccc1)Oc1ccccc1': 1, 'CCCP(=O)(CC)c1ccccc1': 1, 'CCCP(C)(=O)c1ccccc1': 1, 'CN(C)c1ccc(cc1)C=Cc1ccnc2ccccc12': 1, 'Cc1cc(O)c(C)cc1O': 1, 'CN(C)c1ccc(Br)cc1': 1, 'CN1N=NNC1=NN(=O)=O': 1, 'CN1N=NC(=N1)NN(=O)=O': 1, 'CC1=CN(CCCN2C=CC=C2)C(=O)NC1=O': 1, 'N#CC1=N[Te]N=C1C#N': 1, 'N#CC1=P(c2ccccc2)(c2ccccc2)C(=CC(=C1)C1=CC=C(S1)C1=CSC(S1)=C1SC=CS1)C#N': 1, 'CC(O)=CC(=O)CCCCCC(O)=CC(C)=O': 1, 'CC(=O)C=C(O)CCCCCCC(O)=CC(C)=O': 1, 'CC(CC(O)=O)c1ccccc1': 1, 'O=C1OC(=O)c2ccc(c3cccc1c23)N(=O)=O': 1, 'CN1CCCCCC1=O': 1, 'OC(=O)c1cc(ccc1Cl)N(=O)=O': 1, 'S1C=CN=C1C1=CC=C(C2=NC=CS2)C2=NSN=C12': 1, 'N1N=NC(=N1)c1ccncc1': 1, 'c1ncc(cn1)C#Cc1cncnc1': 1, 'CCOC(=O)c1ccc(cc1)C1=C2NC(=C(Br)C3=NC(=C(C4=CC=C(N4)C(=C4C=CC1=N4)Br)c1ccc(cc1)C(=O)OCC)C=C3)C=C2': 1, 'c1ccc(C=Cc2ccncc2)nc1': 1, 'CC(C)(C)c1cc(cc(c1)C(C)(C)C)N1[C]N(C=C1)c1cc(cc(c1)C(C)(C)C)C(C)(C)C': 1, 'O=C1NC(=O)C2CC=CCC12': 1, 'COC(=O)OC': 1, 'COc1cc(C(=O)Nc2ccncc2)c(OC)cc1C(=O)Nc1ccncc1': 1, 'CC(C)COc1ccc(cc1C#N)C1=NC(=C(S1)C(O)=O)C': 1, 'Fc1ccc(C=O)cc1': 1, 'NC(=O)CO': 1, 'O=C1C(=O)c2cccc3cccc1c23': 1, 'O=C1C(=O)c2cccc3ccc4cccc1c4c23': 1, 'O=C1C(=O)c2ccccc2c2ccccc12': 1, 'COC(=O)C=CC1=C(OC(=O)C(=C1)Br)c1ccccc1': 1, 'Nc1ccc(cc1)N=Nc1ccccc1': 1, 'S1C(=Nc2ccccc12)C=Cc1ccc(cc1)C=CC1=Nc2ccccc2S1': 1, 'CC(=C)C1CC=C(C)C(=O)C1': 1, 'CP(C)C': 1, 'CC(=C)C1CCC(=CC1)C': 1, 'COc1ccc(C=CC)cc1': 1, 'Cc1ccncc1N': 1, 'COC(=O)C=Cc1ccncc1': 1, 'COC(=O)C=Cc1ccccn1': 1, 'COC(=O)C1C(C(C1c1cccnc1)c1cccnc1)C(=O)OC': 1, 'OC(=CC(=O)c1ccc(cc1)C#N)c1ccc(cc1)C#N': 1, 'CC(=O)c1ccccn1': 1, 'BrCCCCBr': 1, 'CCOC(=O)C(=Cc1ccc(Cl)cc1)C#N': 1, 'CC(NC(=O)c1ccc(F)cc1)c1ccc2ccccc2c1': 1, 'C1COCCN2CCOCCOCCN(CCO1)CCOCCOCC2': 1, 'COc1ccc(CNC(=S)NN=C(C)c2cc(C(C)=O)c(O)cc2O)cc1': 1, 'Oc1cc2ccccc2cn1': 1, '[Te]1C(=Nc2cccnc12)c1cccnc1': 1, 'Clc1ccccn1': 1, '[Se]1C(=Nc2cccnc12)c1ccncc1': 1, '[Se]1C(=Nc2cccnc12)c1cccnc1': 1, 'C=CN1CCCC1=O': 1, 'Cc1ccc(O)cc1C': 1, 'Fc1nc(F)c(F)c(F)c1F': 1, 'C(OOCC1=CSC=C1)C1=CSC=C1': 1, 'c1cc(ccn1)c1ccc2cc3cc(ccc3cc2c1)c1ccncc1': 1, 'CC(C)OC(=O)C(Cc1ccccc1)N1C=C(CP(=O)(c2ccccc2)c2ccccc2)N=N1': 1, 'CC(C)(C)N1C=CN(C1=O)C(C)(C)C': 1, 'C[Si](C)(C)O': 1, 'O=C1CCCO1': 1, 'c1cc2cc3cccc(C#Cc4ccncc4)c3cc2c(c1)C#Cc1ccncc1': 1, 'ClCC1CO1': 1, 'CC(C)C12CC1C(C)C(=O)C2': 1, 'CC(C)=CCCC(C)(O)C=C': 1, 'O=C=NCCCCCCN=C=O': 1, 'CCCCCCCCCC': 1, 'O=C=NC1CCCC1': 1, 'O=C=Nc1ccccc1': 1, 'CC1CCCCCCCCCCCCC(=O)C1': 1, 'CCCC(C)O': 1, 'CCCCC(C)O': 1, 'CCCCCC(C)O': 1, 'COC(=O)C(N)C(C)(C)C': 1, 'O=C1Oc2ccccc2c2ccccc12': 1, 'Cc1ccc(cc1)C(=O)NN': 1, 'COC(=O)c1cc2OCCOCCOCCOc3cc4ccccc4cc3OCCOCCOCCOc(c2)c1': 1, 'CC(C)(C)N1CC23C=CC(=CC2C3(C#N)C1=O)Br': 1, 'NC(N)=[Se]': 1, 'OCCOCCOCCO': 1, 'O=CC=Cc1ccccc1': 1, 'CC1=CC=C(C)N1': 1, 'CCCCCCN1C=C(C#Cc2ccncc2)C(=NC1=O)N': 1})\n"
          ]
        }
      ]
    },
    {
      "cell_type": "code",
      "metadata": {
        "id": "gh5TykAVRu6p"
      },
      "source": [
        "# read the csv\n",
        "# drop those smiles that can't be read from rdkit\n",
        "# drop duplicates\n",
        "# drop pairs with very small MW"
      ],
      "execution_count": null,
      "outputs": []
    },
    {
      "cell_type": "code",
      "metadata": {
        "colab": {
          "base_uri": "https://localhost:8080/",
          "height": 467
        },
        "id": "hiZpkBDbZ4d5",
        "outputId": "98e9f242-f155-4527-92bb-522bc739ef36"
      },
      "source": [
        "# plot the distribution of new discoveries per year\n",
        "# Training co-crystal data\n",
        "cocrystals= pd.read_csv('/content/drive/MyDrive/cocrystal_design-master/ccdc_ml_cocrystals/data_complete/training_data/new_2020/cocrystals2020.csv')\n",
        "dataset1 =pd.read_csv('/content/drive/MyDrive/cocrystal_design-master/ccdc_ml_cocrystals/data_complete/training_data/new_2020/dataset1_mordred.csv')\n",
        "dataset2 =pd.read_csv('/content/drive/MyDrive/cocrystal_design-master/ccdc_ml_cocrystals/data_complete/training_data/new_2020/dataset2_mordred.csv')"
      ],
      "execution_count": 2,
      "outputs": [
        {
          "output_type": "error",
          "ename": "FileNotFoundError",
          "evalue": "ignored",
          "traceback": [
            "\u001b[0;31m---------------------------------------------------------------------------\u001b[0m",
            "\u001b[0;31mFileNotFoundError\u001b[0m                         Traceback (most recent call last)",
            "\u001b[0;32m<ipython-input-2-7d36f1686c7b>\u001b[0m in \u001b[0;36m<module>\u001b[0;34m()\u001b[0m\n\u001b[1;32m      1\u001b[0m \u001b[0;31m# plot the distribution of new discoveries per year\u001b[0m\u001b[0;34m\u001b[0m\u001b[0;34m\u001b[0m\u001b[0;34m\u001b[0m\u001b[0m\n\u001b[1;32m      2\u001b[0m \u001b[0;31m# Training co-crystal data\u001b[0m\u001b[0;34m\u001b[0m\u001b[0;34m\u001b[0m\u001b[0;34m\u001b[0m\u001b[0m\n\u001b[0;32m----> 3\u001b[0;31m \u001b[0mcocrystals\u001b[0m\u001b[0;34m=\u001b[0m \u001b[0mpd\u001b[0m\u001b[0;34m.\u001b[0m\u001b[0mread_csv\u001b[0m\u001b[0;34m(\u001b[0m\u001b[0;34m'/content/drive/MyDrive/cocrystal_design-master/ccdc_ml_cocrystals/data_complete/training_data/new_2020/cocrystals2020.csv'\u001b[0m\u001b[0;34m)\u001b[0m\u001b[0;34m\u001b[0m\u001b[0;34m\u001b[0m\u001b[0m\n\u001b[0m\u001b[1;32m      4\u001b[0m \u001b[0mdataset1\u001b[0m \u001b[0;34m=\u001b[0m\u001b[0mpd\u001b[0m\u001b[0;34m.\u001b[0m\u001b[0mread_csv\u001b[0m\u001b[0;34m(\u001b[0m\u001b[0;34m'/content/drive/MyDrive/cocrystal_design-master/ccdc_ml_cocrystals/data_complete/training_data/new_2020/dataset1_mordred.csv'\u001b[0m\u001b[0;34m)\u001b[0m\u001b[0;34m\u001b[0m\u001b[0;34m\u001b[0m\u001b[0m\n\u001b[1;32m      5\u001b[0m \u001b[0mdataset2\u001b[0m \u001b[0;34m=\u001b[0m\u001b[0mpd\u001b[0m\u001b[0;34m.\u001b[0m\u001b[0mread_csv\u001b[0m\u001b[0;34m(\u001b[0m\u001b[0;34m'/content/drive/MyDrive/cocrystal_design-master/ccdc_ml_cocrystals/data_complete/training_data/new_2020/dataset2_mordred.csv'\u001b[0m\u001b[0;34m)\u001b[0m\u001b[0;34m\u001b[0m\u001b[0;34m\u001b[0m\u001b[0m\n",
            "\u001b[0;32m/usr/local/lib/python3.7/dist-packages/pandas/io/parsers.py\u001b[0m in \u001b[0;36mread_csv\u001b[0;34m(filepath_or_buffer, sep, delimiter, header, names, index_col, usecols, squeeze, prefix, mangle_dupe_cols, dtype, engine, converters, true_values, false_values, skipinitialspace, skiprows, skipfooter, nrows, na_values, keep_default_na, na_filter, verbose, skip_blank_lines, parse_dates, infer_datetime_format, keep_date_col, date_parser, dayfirst, cache_dates, iterator, chunksize, compression, thousands, decimal, lineterminator, quotechar, quoting, doublequote, escapechar, comment, encoding, dialect, error_bad_lines, warn_bad_lines, delim_whitespace, low_memory, memory_map, float_precision)\u001b[0m\n\u001b[1;32m    686\u001b[0m     )\n\u001b[1;32m    687\u001b[0m \u001b[0;34m\u001b[0m\u001b[0m\n\u001b[0;32m--> 688\u001b[0;31m     \u001b[0;32mreturn\u001b[0m \u001b[0m_read\u001b[0m\u001b[0;34m(\u001b[0m\u001b[0mfilepath_or_buffer\u001b[0m\u001b[0;34m,\u001b[0m \u001b[0mkwds\u001b[0m\u001b[0;34m)\u001b[0m\u001b[0;34m\u001b[0m\u001b[0;34m\u001b[0m\u001b[0m\n\u001b[0m\u001b[1;32m    689\u001b[0m \u001b[0;34m\u001b[0m\u001b[0m\n\u001b[1;32m    690\u001b[0m \u001b[0;34m\u001b[0m\u001b[0m\n",
            "\u001b[0;32m/usr/local/lib/python3.7/dist-packages/pandas/io/parsers.py\u001b[0m in \u001b[0;36m_read\u001b[0;34m(filepath_or_buffer, kwds)\u001b[0m\n\u001b[1;32m    452\u001b[0m \u001b[0;34m\u001b[0m\u001b[0m\n\u001b[1;32m    453\u001b[0m     \u001b[0;31m# Create the parser.\u001b[0m\u001b[0;34m\u001b[0m\u001b[0;34m\u001b[0m\u001b[0;34m\u001b[0m\u001b[0m\n\u001b[0;32m--> 454\u001b[0;31m     \u001b[0mparser\u001b[0m \u001b[0;34m=\u001b[0m \u001b[0mTextFileReader\u001b[0m\u001b[0;34m(\u001b[0m\u001b[0mfp_or_buf\u001b[0m\u001b[0;34m,\u001b[0m \u001b[0;34m**\u001b[0m\u001b[0mkwds\u001b[0m\u001b[0;34m)\u001b[0m\u001b[0;34m\u001b[0m\u001b[0;34m\u001b[0m\u001b[0m\n\u001b[0m\u001b[1;32m    455\u001b[0m \u001b[0;34m\u001b[0m\u001b[0m\n\u001b[1;32m    456\u001b[0m     \u001b[0;32mif\u001b[0m \u001b[0mchunksize\u001b[0m \u001b[0;32mor\u001b[0m \u001b[0miterator\u001b[0m\u001b[0;34m:\u001b[0m\u001b[0;34m\u001b[0m\u001b[0;34m\u001b[0m\u001b[0m\n",
            "\u001b[0;32m/usr/local/lib/python3.7/dist-packages/pandas/io/parsers.py\u001b[0m in \u001b[0;36m__init__\u001b[0;34m(self, f, engine, **kwds)\u001b[0m\n\u001b[1;32m    946\u001b[0m             \u001b[0mself\u001b[0m\u001b[0;34m.\u001b[0m\u001b[0moptions\u001b[0m\u001b[0;34m[\u001b[0m\u001b[0;34m\"has_index_names\"\u001b[0m\u001b[0;34m]\u001b[0m \u001b[0;34m=\u001b[0m \u001b[0mkwds\u001b[0m\u001b[0;34m[\u001b[0m\u001b[0;34m\"has_index_names\"\u001b[0m\u001b[0;34m]\u001b[0m\u001b[0;34m\u001b[0m\u001b[0;34m\u001b[0m\u001b[0m\n\u001b[1;32m    947\u001b[0m \u001b[0;34m\u001b[0m\u001b[0m\n\u001b[0;32m--> 948\u001b[0;31m         \u001b[0mself\u001b[0m\u001b[0;34m.\u001b[0m\u001b[0m_make_engine\u001b[0m\u001b[0;34m(\u001b[0m\u001b[0mself\u001b[0m\u001b[0;34m.\u001b[0m\u001b[0mengine\u001b[0m\u001b[0;34m)\u001b[0m\u001b[0;34m\u001b[0m\u001b[0;34m\u001b[0m\u001b[0m\n\u001b[0m\u001b[1;32m    949\u001b[0m \u001b[0;34m\u001b[0m\u001b[0m\n\u001b[1;32m    950\u001b[0m     \u001b[0;32mdef\u001b[0m \u001b[0mclose\u001b[0m\u001b[0;34m(\u001b[0m\u001b[0mself\u001b[0m\u001b[0;34m)\u001b[0m\u001b[0;34m:\u001b[0m\u001b[0;34m\u001b[0m\u001b[0;34m\u001b[0m\u001b[0m\n",
            "\u001b[0;32m/usr/local/lib/python3.7/dist-packages/pandas/io/parsers.py\u001b[0m in \u001b[0;36m_make_engine\u001b[0;34m(self, engine)\u001b[0m\n\u001b[1;32m   1178\u001b[0m     \u001b[0;32mdef\u001b[0m \u001b[0m_make_engine\u001b[0m\u001b[0;34m(\u001b[0m\u001b[0mself\u001b[0m\u001b[0;34m,\u001b[0m \u001b[0mengine\u001b[0m\u001b[0;34m=\u001b[0m\u001b[0;34m\"c\"\u001b[0m\u001b[0;34m)\u001b[0m\u001b[0;34m:\u001b[0m\u001b[0;34m\u001b[0m\u001b[0;34m\u001b[0m\u001b[0m\n\u001b[1;32m   1179\u001b[0m         \u001b[0;32mif\u001b[0m \u001b[0mengine\u001b[0m \u001b[0;34m==\u001b[0m \u001b[0;34m\"c\"\u001b[0m\u001b[0;34m:\u001b[0m\u001b[0;34m\u001b[0m\u001b[0;34m\u001b[0m\u001b[0m\n\u001b[0;32m-> 1180\u001b[0;31m             \u001b[0mself\u001b[0m\u001b[0;34m.\u001b[0m\u001b[0m_engine\u001b[0m \u001b[0;34m=\u001b[0m \u001b[0mCParserWrapper\u001b[0m\u001b[0;34m(\u001b[0m\u001b[0mself\u001b[0m\u001b[0;34m.\u001b[0m\u001b[0mf\u001b[0m\u001b[0;34m,\u001b[0m \u001b[0;34m**\u001b[0m\u001b[0mself\u001b[0m\u001b[0;34m.\u001b[0m\u001b[0moptions\u001b[0m\u001b[0;34m)\u001b[0m\u001b[0;34m\u001b[0m\u001b[0;34m\u001b[0m\u001b[0m\n\u001b[0m\u001b[1;32m   1181\u001b[0m         \u001b[0;32melse\u001b[0m\u001b[0;34m:\u001b[0m\u001b[0;34m\u001b[0m\u001b[0;34m\u001b[0m\u001b[0m\n\u001b[1;32m   1182\u001b[0m             \u001b[0;32mif\u001b[0m \u001b[0mengine\u001b[0m \u001b[0;34m==\u001b[0m \u001b[0;34m\"python\"\u001b[0m\u001b[0;34m:\u001b[0m\u001b[0;34m\u001b[0m\u001b[0;34m\u001b[0m\u001b[0m\n",
            "\u001b[0;32m/usr/local/lib/python3.7/dist-packages/pandas/io/parsers.py\u001b[0m in \u001b[0;36m__init__\u001b[0;34m(self, src, **kwds)\u001b[0m\n\u001b[1;32m   2008\u001b[0m         \u001b[0mkwds\u001b[0m\u001b[0;34m[\u001b[0m\u001b[0;34m\"usecols\"\u001b[0m\u001b[0;34m]\u001b[0m \u001b[0;34m=\u001b[0m \u001b[0mself\u001b[0m\u001b[0;34m.\u001b[0m\u001b[0musecols\u001b[0m\u001b[0;34m\u001b[0m\u001b[0;34m\u001b[0m\u001b[0m\n\u001b[1;32m   2009\u001b[0m \u001b[0;34m\u001b[0m\u001b[0m\n\u001b[0;32m-> 2010\u001b[0;31m         \u001b[0mself\u001b[0m\u001b[0;34m.\u001b[0m\u001b[0m_reader\u001b[0m \u001b[0;34m=\u001b[0m \u001b[0mparsers\u001b[0m\u001b[0;34m.\u001b[0m\u001b[0mTextReader\u001b[0m\u001b[0;34m(\u001b[0m\u001b[0msrc\u001b[0m\u001b[0;34m,\u001b[0m \u001b[0;34m**\u001b[0m\u001b[0mkwds\u001b[0m\u001b[0;34m)\u001b[0m\u001b[0;34m\u001b[0m\u001b[0;34m\u001b[0m\u001b[0m\n\u001b[0m\u001b[1;32m   2011\u001b[0m         \u001b[0mself\u001b[0m\u001b[0;34m.\u001b[0m\u001b[0munnamed_cols\u001b[0m \u001b[0;34m=\u001b[0m \u001b[0mself\u001b[0m\u001b[0;34m.\u001b[0m\u001b[0m_reader\u001b[0m\u001b[0;34m.\u001b[0m\u001b[0munnamed_cols\u001b[0m\u001b[0;34m\u001b[0m\u001b[0;34m\u001b[0m\u001b[0m\n\u001b[1;32m   2012\u001b[0m \u001b[0;34m\u001b[0m\u001b[0m\n",
            "\u001b[0;32mpandas/_libs/parsers.pyx\u001b[0m in \u001b[0;36mpandas._libs.parsers.TextReader.__cinit__\u001b[0;34m()\u001b[0m\n",
            "\u001b[0;32mpandas/_libs/parsers.pyx\u001b[0m in \u001b[0;36mpandas._libs.parsers.TextReader._setup_parser_source\u001b[0;34m()\u001b[0m\n",
            "\u001b[0;31mFileNotFoundError\u001b[0m: [Errno 2] No such file or directory: '/content/drive/MyDrive/cocrystal_design-master/ccdc_ml_cocrystals/data_complete/training_data/new_2020/cocrystals2020.csv'"
          ]
        }
      ]
    },
    {
      "cell_type": "code",
      "metadata": {
        "colab": {
          "base_uri": "https://localhost:8080/",
          "height": 238
        },
        "id": "wtEqWlEanHvn",
        "outputId": "a97eaedd-e7ec-4321-a80b-35a5a38bfca1"
      },
      "source": [
        "#devo=pd.read_csv('/content/devolager_test.csv')\n",
        "from sklearn.metrics import roc_curve\n",
        "from sklearn.metrics import RocCurveDisplay\n",
        "from sklearn.metrics import roc_auc_score\n",
        "\n",
        "plt.scatter(np.arange(30), devo.precision, c=devo.label)\n",
        "plt.xlabel('Ranking')\n",
        "plt.ylabel('Precision')\n",
        "roc_auc = roc_auc_score(devo.label ,devo.precision.values )\n",
        "print('Praziquantel AUC:', roc_auc)"
      ],
      "execution_count": null,
      "outputs": [
        {
          "ename": "NameError",
          "evalue": "ignored",
          "output_type": "error",
          "traceback": [
            "\u001b[0;31m---------------------------------------------------------------------------\u001b[0m",
            "\u001b[0;31mNameError\u001b[0m                                 Traceback (most recent call last)",
            "\u001b[0;32m<ipython-input-4-b9d0693c3d8c>\u001b[0m in \u001b[0;36m<module>\u001b[0;34m()\u001b[0m\n\u001b[1;32m      4\u001b[0m \u001b[0;32mfrom\u001b[0m \u001b[0msklearn\u001b[0m\u001b[0;34m.\u001b[0m\u001b[0mmetrics\u001b[0m \u001b[0;32mimport\u001b[0m \u001b[0mroc_auc_score\u001b[0m\u001b[0;34m\u001b[0m\u001b[0;34m\u001b[0m\u001b[0m\n\u001b[1;32m      5\u001b[0m \u001b[0;34m\u001b[0m\u001b[0m\n\u001b[0;32m----> 6\u001b[0;31m \u001b[0mplt\u001b[0m\u001b[0;34m.\u001b[0m\u001b[0mscatter\u001b[0m\u001b[0;34m(\u001b[0m\u001b[0mnp\u001b[0m\u001b[0;34m.\u001b[0m\u001b[0marange\u001b[0m\u001b[0;34m(\u001b[0m\u001b[0;36m30\u001b[0m\u001b[0;34m)\u001b[0m\u001b[0;34m,\u001b[0m \u001b[0mdevo\u001b[0m\u001b[0;34m.\u001b[0m\u001b[0mprecision\u001b[0m\u001b[0;34m,\u001b[0m \u001b[0mc\u001b[0m\u001b[0;34m=\u001b[0m\u001b[0mdevo\u001b[0m\u001b[0;34m.\u001b[0m\u001b[0mlabel\u001b[0m\u001b[0;34m)\u001b[0m\u001b[0;34m\u001b[0m\u001b[0;34m\u001b[0m\u001b[0m\n\u001b[0m\u001b[1;32m      7\u001b[0m \u001b[0mplt\u001b[0m\u001b[0;34m.\u001b[0m\u001b[0mxlabel\u001b[0m\u001b[0;34m(\u001b[0m\u001b[0;34m'Ranking'\u001b[0m\u001b[0;34m)\u001b[0m\u001b[0;34m\u001b[0m\u001b[0;34m\u001b[0m\u001b[0m\n\u001b[1;32m      8\u001b[0m \u001b[0mplt\u001b[0m\u001b[0;34m.\u001b[0m\u001b[0mylabel\u001b[0m\u001b[0;34m(\u001b[0m\u001b[0;34m'Precision'\u001b[0m\u001b[0;34m)\u001b[0m\u001b[0;34m\u001b[0m\u001b[0;34m\u001b[0m\u001b[0m\n",
            "\u001b[0;31mNameError\u001b[0m: name 'devo' is not defined"
          ]
        }
      ]
    },
    {
      "cell_type": "code",
      "metadata": {
        "colab": {
          "base_uri": "https://localhost:8080/"
        },
        "id": "mGLuU_ZfnwYQ",
        "outputId": "fa64051e-8d67-4191-854b-511fc0eb2b84"
      },
      "source": [
        "roc_auc = roc_auc_score(devo.label ,devo.precision.values )\n",
        "print('Praziquantel', roc_auc)"
      ],
      "execution_count": null,
      "outputs": [
        {
          "name": "stdout",
          "output_type": "stream",
          "text": [
            "Praziquantel 0.5\n"
          ]
        }
      ]
    },
    {
      "cell_type": "code",
      "metadata": {
        "id": "BXhAtsP4nmwp"
      },
      "source": [
        "roc_auc = roc_auc_score(rc_label.values, -1*score(deep_SVDD, rc_df.iloc[:,2:].values).cpu().detach().numpy())\n",
        "print('RC', roc_auc)"
      ],
      "execution_count": null,
      "outputs": []
    },
    {
      "cell_type": "code",
      "metadata": {
        "colab": {
          "base_uri": "https://localhost:8080/"
        },
        "id": "rGBa4AZFa3RE",
        "outputId": "53fba3fa-5bed-4694-f523-b31fb863043c"
      },
      "source": [
        "from rdkit.Chem import Descriptors\n",
        "out = []\n",
        "for i in range(len(cocrystals.smiles1[:])):\n",
        "  m1 = Chem.MolFromSmiles(cocrystals.smiles1.loc[i]) \n",
        "  m2 = Chem.MolFromSmiles(cocrystals.smiles2.loc[i]) \n",
        "  if Descriptors.MolWt(m1) == Descriptors.MolWt(m2):\n",
        "    print(cocrystals.csd_id.loc[i])\n",
        "    out.append(cocrystals.csd_id.loc[i])"
      ],
      "execution_count": null,
      "outputs": [
        {
          "name": "stdout",
          "output_type": "stream",
          "text": [
            "MPIBTZ\n",
            "BAXGAI\n",
            "CAWPEV10\n",
            "CUCWAY\n",
            "GATZUW\n",
            "SIHBOA\n",
            "JITXAL\n",
            "KOTPEO\n",
            "HAXVEH\n",
            "TEMDEU\n",
            "NEZMOU\n",
            "GIZSIR\n",
            "EMOMOI\n",
            "HUMLUW01\n",
            "ULOBOM\n",
            "ITIXUE\n",
            "PUBMUU20\n",
            "ADOFIJ\n",
            "DAYHUH\n",
            "LEPZUC\n",
            "BEWKUJ14\n",
            "NUTHAN\n",
            "OGEKAN\n",
            "COTJAX\n",
            "DOLCAJ\n",
            "DOQJID\n",
            "KOMVIS\n",
            "NUWKIB\n",
            "QOSXEC\n",
            "QOVCIO\n",
            "VORDAI\n",
            "DULJEA\n",
            "KACPEL\n",
            "PABNIR\n",
            "TAJHET\n",
            "WACSAW\n",
            "AQIKOB\n",
            "ASIWIJ\n",
            "ATOGUM\n",
            "BAGCAP\n",
            "BAGDUK\n",
            "MAYWOA\n",
            "TAPMUU\n",
            "UMUYOR\n",
            "USACOH\n",
            "UZOXUD\n",
            "REGCIR\n",
            "AXEJOE\n",
            "DEXWEK\n",
            "PEQMIJ\n",
            "SIDSEF\n",
            "VIPQAO\n",
            "CIVFEU\n",
            "DIWTOU\n",
            "DOTKII\n",
            "HOCLAO\n",
            "KOVBII\n",
            "RONZOL\n",
            "WOJBOO\n",
            "AJAVAK\n",
            "BENRIY\n",
            "CUYZAZ\n",
            "XUKNEY\n",
            "JAJTOG\n",
            "SUYBUL\n",
            "BAGKIG\n",
            "FEFMEL\n",
            "ICOKAP\n",
            "LAXJOM\n",
            "PALLIA\n",
            "WAXJOX\n",
            "XAXGEL\n",
            "CEYNUS\n",
            "JEYCIC\n",
            "JITNUY\n",
            "LIDPUM\n",
            "MILJAV\n",
            "PEZXEA\n",
            "YIMYOL\n",
            "BIYQOS\n",
            "CIMETD05\n",
            "DUGCUG\n",
            "FIMHUH\n",
            "KOWFIO\n",
            "NONNOW\n",
            "RIPXOG\n",
            "VOBYET\n",
            "BOXSIT\n",
            "IHOCAM\n",
            "NAKWUV\n",
            "OJUSUK\n",
            "UHUTID\n"
          ]
        }
      ]
    },
    {
      "cell_type": "code",
      "metadata": {
        "id": "y2Eyn-oyeG5l"
      },
      "source": [
        "len(out)\n",
        "cocrystals = cocrystals[~cocrystals.csd_id.isin(out)]"
      ],
      "execution_count": null,
      "outputs": []
    },
    {
      "cell_type": "code",
      "metadata": {
        "id": "J8asYaWRev2u"
      },
      "source": [
        "cocrystals.to_csv('/content/drive/MyDrive/cocrystal_design-master/ccdc_ml_cocrystals/data_complete/training_data/new_2020/cocrystals2020_cleaned.csv')"
      ],
      "execution_count": null,
      "outputs": []
    },
    {
      "cell_type": "code",
      "metadata": {
        "colab": {
          "base_uri": "https://localhost:8080/",
          "height": 206
        },
        "id": "49RVHQCkXZ_S",
        "outputId": "5af586bc-ec54-47a3-a31a-c3a2fe8582c3"
      },
      "source": [
        "cocrystals = pd.read_csv('/content/drive/MyDrive/cocrystal_design-master/ccdc_ml_cocrystals/data_complete/training_data/new_2020/cocrystals2020_cleaned.csv')\n",
        "cocrystals.head()"
      ],
      "execution_count": null,
      "outputs": [
        {
          "data": {
            "text/html": [
              "<div>\n",
              "<style scoped>\n",
              "    .dataframe tbody tr th:only-of-type {\n",
              "        vertical-align: middle;\n",
              "    }\n",
              "\n",
              "    .dataframe tbody tr th {\n",
              "        vertical-align: top;\n",
              "    }\n",
              "\n",
              "    .dataframe thead th {\n",
              "        text-align: right;\n",
              "    }\n",
              "</style>\n",
              "<table border=\"1\" class=\"dataframe\">\n",
              "  <thead>\n",
              "    <tr style=\"text-align: right;\">\n",
              "      <th></th>\n",
              "      <th>Unnamed: 0</th>\n",
              "      <th>csd_id</th>\n",
              "      <th>name</th>\n",
              "      <th>smiles1</th>\n",
              "      <th>smiles2</th>\n",
              "      <th>year</th>\n",
              "    </tr>\n",
              "  </thead>\n",
              "  <tbody>\n",
              "    <tr>\n",
              "      <th>0</th>\n",
              "      <td>0</td>\n",
              "      <td>IANNOB</td>\n",
              "      <td>p-Iodoaniline-S-trinitrobenzene complex</td>\n",
              "      <td>Nc1ccc(I)cc1</td>\n",
              "      <td>O=N(=O)c1cc(cc(c1)N(=O)=O)N(=O)=O</td>\n",
              "      <td>1943</td>\n",
              "    </tr>\n",
              "    <tr>\n",
              "      <th>1</th>\n",
              "      <td>1</td>\n",
              "      <td>CLAHMB</td>\n",
              "      <td>Chloranil-hexamethylbenzene complex</td>\n",
              "      <td>ClC1=C(Cl)C(=O)C(=C(Cl)C1=O)Cl</td>\n",
              "      <td>Cc1c(C)c(C)c(C)c(C)c1C</td>\n",
              "      <td>1962</td>\n",
              "    </tr>\n",
              "    <tr>\n",
              "      <th>2</th>\n",
              "      <td>2</td>\n",
              "      <td>MTHMAD</td>\n",
              "      <td>9-Methyladenine-1-methylthymine complex</td>\n",
              "      <td>CN1C=Nc2c(N)ncnc12</td>\n",
              "      <td>CN1C=C(C)C(=O)NC1=O</td>\n",
              "      <td>1963</td>\n",
              "    </tr>\n",
              "    <tr>\n",
              "      <th>3</th>\n",
              "      <td>3</td>\n",
              "      <td>PERFAN</td>\n",
              "      <td>Perylene-fluoranil complex</td>\n",
              "      <td>c1cc2cccc3c4cccc5cccc(c(c1)c23)c45</td>\n",
              "      <td>FC1=C(F)C(=O)C(=C(F)C1=O)F</td>\n",
              "      <td>1963</td>\n",
              "    </tr>\n",
              "    <tr>\n",
              "      <th>4</th>\n",
              "      <td>4</td>\n",
              "      <td>ANCTNB</td>\n",
              "      <td>Anthracene trinitrobenzene</td>\n",
              "      <td>c1ccc2cc3ccccc3cc2c1</td>\n",
              "      <td>O=N(=O)c1cc(cc(c1)N(=O)=O)N(=O)=O</td>\n",
              "      <td>1964</td>\n",
              "    </tr>\n",
              "  </tbody>\n",
              "</table>\n",
              "</div>"
            ],
            "text/plain": [
              "   Unnamed: 0  csd_id  ...                            smiles2  year\n",
              "0           0  IANNOB  ...  O=N(=O)c1cc(cc(c1)N(=O)=O)N(=O)=O  1943\n",
              "1           1  CLAHMB  ...             Cc1c(C)c(C)c(C)c(C)c1C  1962\n",
              "2           2  MTHMAD  ...                CN1C=C(C)C(=O)NC1=O  1963\n",
              "3           3  PERFAN  ...         FC1=C(F)C(=O)C(=C(F)C1=O)F  1963\n",
              "4           4  ANCTNB  ...  O=N(=O)c1cc(cc(c1)N(=O)=O)N(=O)=O  1964\n",
              "\n",
              "[5 rows x 6 columns]"
            ]
          },
          "execution_count": 3,
          "metadata": {
            "tags": []
          },
          "output_type": "execute_result"
        }
      ]
    },
    {
      "cell_type": "code",
      "metadata": {
        "colab": {
          "background_save": true,
          "base_uri": "https://localhost:8080/"
        },
        "id": "y16oYNWscNcj",
        "outputId": "893c431e-f940-4128-f9b6-f115baa2b94c"
      },
      "source": [
        "!pip install rdkit-pypi\n",
        "from rdkit import Chem\n",
        "from rdkit import Chem\n",
        "from rdkit.Chem import AllChem, Draw\n",
        "from rdkit.Chem.Draw import DrawingOptions"
      ],
      "execution_count": null,
      "outputs": [
        {
          "name": "stdout",
          "output_type": "stream",
          "text": [
            "Collecting rdkit-pypi\n",
            "\u001b[?25l  Downloading https://files.pythonhosted.org/packages/6c/f9/708cb804901775aeac7cbc2e3f966eac086e4d4caa1df0515aa365617e11/rdkit_pypi-2021.3.3-cp37-cp37m-manylinux2014_x86_64.whl (18.6MB)\n",
            "\u001b[K     |████████████████████████████████| 18.6MB 164kB/s \n",
            "\u001b[?25hRequirement already satisfied: numpy>=1.19 in /usr/local/lib/python3.7/dist-packages (from rdkit-pypi) (1.19.5)\n",
            "Installing collected packages: rdkit-pypi\n",
            "Successfully installed rdkit-pypi-2021.3.3\n"
          ]
        }
      ]
    },
    {
      "cell_type": "code",
      "metadata": {
        "colab": {
          "background_save": true,
          "base_uri": "https://localhost:8080/"
        },
        "id": "xXputrtVJZcF",
        "outputId": "1769e0e2-edeb-49a6-e181-7f569ed14b5b"
      },
      "source": [
        "from rdkit.Chem import MolFromSmiles\n",
        "from rdkit.Chem.FilterCatalog import *\n",
        "functionalGroups = GetFunctionalGroupHierarchy()\n",
        "[match.filterMatch.GetName() \n",
        "    for match in functionalGroups.GetFilterMatches(\n",
        "        MolFromSmiles('O=C1C=CC(=O)C=C1'))]"
      ],
      "execution_count": null,
      "outputs": [
        {
          "name": "stderr",
          "output_type": "stream",
          "text": [
            "/usr/lib/python3.7/importlib/_bootstrap.py:219: RuntimeWarning: to-Python converter for boost::shared_ptr<RDKit::FilterCatalogEntry const> already registered; second conversion method ignored.\n",
            "  return f(*args, **kwds)\n"
          ]
        },
        {
          "data": {
            "text/plain": [
              "[]"
            ]
          },
          "execution_count": null,
          "metadata": {},
          "output_type": "execute_result"
        }
      ]
    },
    {
      "cell_type": "code",
      "metadata": {
        "id": "OcxCbPyIBhrg"
      },
      "source": [
        "id1 = []\n",
        "for i,j in enumerate(df1):\n",
        "  if Chem.MolFromSmiles(j) == None:\n",
        "    id1.append(cocrystals.csd_id.loc[i])\n",
        "\n",
        "id2 = []\n",
        "for i,j in enumerate(df2):\n",
        "  if Chem.MolFromSmiles(j) == None:\n",
        "    id2.append(cocrystals.csd_id.loc[i])"
      ],
      "execution_count": null,
      "outputs": []
    },
    {
      "cell_type": "code",
      "metadata": {
        "id": "9A_DgycTbz_x"
      },
      "source": [
        "def smile_to_paw(smile):\n",
        "  mol = Chem.MolFromSmiles(smile)\n",
        "  return AllChem.GetMorganFingerprintAsBitVect(mol, 2, nBits=4096, useChirality=True)\n",
        "  #morgan_fingerprint(smile,4096)\n",
        "  #AllChem.GetMorganFingerprintAsBitVect(mol, 2, nBits=4096, useChirality=True)  #4096\n",
        "\n",
        "def kat_paws(smiles):\n",
        "  paws = []\n",
        "  for smile in smiles:\n",
        "    paws.append(np.asarray(smile_to_paw(smile)))\n",
        "  return paws\n",
        "\n",
        "def kat_paws_from_df(smiles, prefix):\n",
        "  df = pd.DataFrame(kat_paws(smiles))\n",
        "  columns = [f'{prefix}_{i}' for i in df.columns]\n",
        "  df.columns = columns\n",
        "  return df"
      ],
      "execution_count": null,
      "outputs": []
    },
    {
      "cell_type": "code",
      "metadata": {
        "id": "OOE4rrRhcUvF"
      },
      "source": [
        "cocrystals = cocrystals[~cocrystals.csd_id.isin(set(id1+id2))]\n",
        "df1 = cocrystals.smiles1.values[:]\n",
        "df2 = cocrystals.smiles2.values[:]"
      ],
      "execution_count": null,
      "outputs": []
    },
    {
      "cell_type": "code",
      "metadata": {
        "id": "7LN8BsbNrHG-"
      },
      "source": [
        "#df_paws = pd.concat([pd.DataFrame(cocrystals.values,columns=cocrystals.columns.values) ,kat_paws_from_df(df1, 'paws_1'), kat_paws_from_df(df2, 'paws_2'), pd.DataFrame(cocrystals.year.values,columns =['year'])], axis=1)\n",
        "df_paws=df_paws.drop_duplicates(subset= df_paws.columns.values[6:])"
      ],
      "execution_count": null,
      "outputs": []
    },
    {
      "cell_type": "code",
      "metadata": {
        "colab": {
          "base_uri": "https://localhost:8080/",
          "height": 35
        },
        "id": "YPB6C2iapPUo",
        "outputId": "d9c42b03-e821-4a6c-ee1c-3522035b9fde"
      },
      "source": [
        "df.csd_id.iloc[1974]"
      ],
      "execution_count": null,
      "outputs": [
        {
          "data": {
            "application/vnd.google.colaboratory.intrinsic+json": {
              "type": "string"
            },
            "text/plain": [
              "'GUHKUS'"
            ]
          },
          "execution_count": 77,
          "metadata": {
            "tags": []
          },
          "output_type": "execute_result"
        }
      ]
    },
    {
      "cell_type": "code",
      "metadata": {
        "colab": {
          "base_uri": "https://localhost:8080/"
        },
        "id": "1uChnMDDoxaI",
        "outputId": "a6ec9ef7-e39b-4f27-c0c5-f3f8d1753a75"
      },
      "source": [
        "out1=[]\n",
        "for j,i in enumerate(df.smiles2):\n",
        "  if len(i)<=3:\n",
        "    out1.append(df.csd_id.iloc[j])\n",
        "\n",
        "out2=[]\n",
        "for j,i in enumerate(df.smiles2):\n",
        "  if len(i)<=3:\n",
        "    out2.append(df.csd_id.iloc[j])\n",
        "out=set(out1+out2)\n",
        "len(out)"
      ],
      "execution_count": null,
      "outputs": [
        {
          "data": {
            "text/plain": [
              "6"
            ]
          },
          "execution_count": 85,
          "metadata": {
            "tags": []
          },
          "output_type": "execute_result"
        }
      ]
    },
    {
      "cell_type": "code",
      "metadata": {
        "id": "AqYsdTAppjVq"
      },
      "source": [
        "df = df[~df.csd_id.isin(out)]\n",
        "df.to_csv('/content/cocrystals2020.csv', index=False)"
      ],
      "execution_count": null,
      "outputs": []
    },
    {
      "cell_type": "code",
      "metadata": {
        "id": "8Z1c61p8lllI"
      },
      "source": [
        "average_len=[]\n",
        "for i in range(len(cocrystals.smiles1)):\n",
        "  average_len.append((len(cocrystals.smiles1.loc[i]) + len(cocrystals.smiles2.loc[i])))"
      ],
      "execution_count": null,
      "outputs": []
    },
    {
      "cell_type": "code",
      "metadata": {
        "colab": {
          "base_uri": "https://localhost:8080/",
          "height": 573
        },
        "id": "_Ldl-9yFrtU3",
        "outputId": "b007b9f3-87d3-49c7-e87a-abeed9255e83"
      },
      "source": [
        "cocrystals['len'] = average_len\n",
        "cocrystals"
      ],
      "execution_count": null,
      "outputs": [
        {
          "data": {
            "text/html": [
              "<div>\n",
              "<style scoped>\n",
              "    .dataframe tbody tr th:only-of-type {\n",
              "        vertical-align: middle;\n",
              "    }\n",
              "\n",
              "    .dataframe tbody tr th {\n",
              "        vertical-align: top;\n",
              "    }\n",
              "\n",
              "    .dataframe thead th {\n",
              "        text-align: right;\n",
              "    }\n",
              "</style>\n",
              "<table border=\"1\" class=\"dataframe\">\n",
              "  <thead>\n",
              "    <tr style=\"text-align: right;\">\n",
              "      <th></th>\n",
              "      <th>Unnamed: 0</th>\n",
              "      <th>csd_id</th>\n",
              "      <th>name</th>\n",
              "      <th>smiles1</th>\n",
              "      <th>smiles2</th>\n",
              "      <th>year</th>\n",
              "      <th>len</th>\n",
              "    </tr>\n",
              "  </thead>\n",
              "  <tbody>\n",
              "    <tr>\n",
              "      <th>0</th>\n",
              "      <td>0</td>\n",
              "      <td>IANNOB</td>\n",
              "      <td>p-Iodoaniline-S-trinitrobenzene complex</td>\n",
              "      <td>Nc1ccc(I)cc1</td>\n",
              "      <td>O=N(=O)c1cc(cc(c1)N(=O)=O)N(=O)=O</td>\n",
              "      <td>1943</td>\n",
              "      <td>45</td>\n",
              "    </tr>\n",
              "    <tr>\n",
              "      <th>1</th>\n",
              "      <td>1</td>\n",
              "      <td>CLAHMB</td>\n",
              "      <td>Chloranil-hexamethylbenzene complex</td>\n",
              "      <td>ClC1=C(Cl)C(=O)C(=C(Cl)C1=O)Cl</td>\n",
              "      <td>Cc1c(C)c(C)c(C)c(C)c1C</td>\n",
              "      <td>1962</td>\n",
              "      <td>52</td>\n",
              "    </tr>\n",
              "    <tr>\n",
              "      <th>2</th>\n",
              "      <td>2</td>\n",
              "      <td>MTHMAD</td>\n",
              "      <td>9-Methyladenine-1-methylthymine complex</td>\n",
              "      <td>CN1C=Nc2c(N)ncnc12</td>\n",
              "      <td>CN1C=C(C)C(=O)NC1=O</td>\n",
              "      <td>1963</td>\n",
              "      <td>37</td>\n",
              "    </tr>\n",
              "    <tr>\n",
              "      <th>3</th>\n",
              "      <td>3</td>\n",
              "      <td>PERFAN</td>\n",
              "      <td>Perylene-fluoranil complex</td>\n",
              "      <td>c1cc2cccc3c4cccc5cccc(c(c1)c23)c45</td>\n",
              "      <td>FC1=C(F)C(=O)C(=C(F)C1=O)F</td>\n",
              "      <td>1963</td>\n",
              "      <td>60</td>\n",
              "    </tr>\n",
              "    <tr>\n",
              "      <th>4</th>\n",
              "      <td>4</td>\n",
              "      <td>ANCTNB</td>\n",
              "      <td>Anthracene trinitrobenzene</td>\n",
              "      <td>c1ccc2cc3ccccc3cc2c1</td>\n",
              "      <td>O=N(=O)c1cc(cc(c1)N(=O)=O)N(=O)=O</td>\n",
              "      <td>1964</td>\n",
              "      <td>53</td>\n",
              "    </tr>\n",
              "    <tr>\n",
              "      <th>...</th>\n",
              "      <td>...</td>\n",
              "      <td>...</td>\n",
              "      <td>...</td>\n",
              "      <td>...</td>\n",
              "      <td>...</td>\n",
              "      <td>...</td>\n",
              "      <td>...</td>\n",
              "    </tr>\n",
              "    <tr>\n",
              "      <th>7475</th>\n",
              "      <td>7567</td>\n",
              "      <td>UKITEQ</td>\n",
              "      <td>3-(3,4,5-trimethoxyphenyl)prop-2-enoic acid se...</td>\n",
              "      <td>Cc1cccc2SC(=Nc12)N</td>\n",
              "      <td>COc1cc(C=CC(O)=O)cc(OC)c1OC</td>\n",
              "      <td>2021</td>\n",
              "      <td>45</td>\n",
              "    </tr>\n",
              "    <tr>\n",
              "      <th>7476</th>\n",
              "      <td>7568</td>\n",
              "      <td>UKITUG</td>\n",
              "      <td>hemikis(decanedioic acid) 4-methyl-1,3-benzoth...</td>\n",
              "      <td>Cc1cccc2SC(=Nc12)N</td>\n",
              "      <td>OC(=O)CCCCCCCCC(O)=O</td>\n",
              "      <td>2021</td>\n",
              "      <td>38</td>\n",
              "    </tr>\n",
              "    <tr>\n",
              "      <th>7477</th>\n",
              "      <td>7569</td>\n",
              "      <td>UKIVIW</td>\n",
              "      <td>4-methyl-1,3-benzothiazol-2-amine hemikis(buta...</td>\n",
              "      <td>Cc1cccc2SC(=Nc12)N</td>\n",
              "      <td>OC(=O)CC(C(CC(O)=O)C(O)=O)C(O)=O</td>\n",
              "      <td>2021</td>\n",
              "      <td>50</td>\n",
              "    </tr>\n",
              "    <tr>\n",
              "      <th>7478</th>\n",
              "      <td>7570</td>\n",
              "      <td>ULECEW</td>\n",
              "      <td>4-phenyl-4H-4Î»5-phospholo[3,2-b:4,5-b']bisthi...</td>\n",
              "      <td>O=P1(c2ccccc2)C2=C(SC=C2)C2=C1C=CS2</td>\n",
              "      <td>Oc1c(O)c(Cl)c(Cl)c(Cl)c1Cl</td>\n",
              "      <td>2021</td>\n",
              "      <td>61</td>\n",
              "    </tr>\n",
              "    <tr>\n",
              "      <th>7479</th>\n",
              "      <td>7571</td>\n",
              "      <td>ULOLIT</td>\n",
              "      <td>5-[(3,4,5-trimethoxyphenyl)methyl]pyrimidine-2...</td>\n",
              "      <td>COc1cc(Cc2cnc(N)nc2N)cc(OC)c1OC</td>\n",
              "      <td>c1cc(ccn1)N=Nc1ccncc1</td>\n",
              "      <td>2021</td>\n",
              "      <td>52</td>\n",
              "    </tr>\n",
              "  </tbody>\n",
              "</table>\n",
              "<p>7480 rows × 7 columns</p>\n",
              "</div>"
            ],
            "text/plain": [
              "      Unnamed: 0  csd_id  ...  year len\n",
              "0              0  IANNOB  ...  1943  45\n",
              "1              1  CLAHMB  ...  1962  52\n",
              "2              2  MTHMAD  ...  1963  37\n",
              "3              3  PERFAN  ...  1963  60\n",
              "4              4  ANCTNB  ...  1964  53\n",
              "...          ...     ...  ...   ...  ..\n",
              "7475        7567  UKITEQ  ...  2021  45\n",
              "7476        7568  UKITUG  ...  2021  38\n",
              "7477        7569  UKIVIW  ...  2021  50\n",
              "7478        7570  ULECEW  ...  2021  61\n",
              "7479        7571  ULOLIT  ...  2021  52\n",
              "\n",
              "[7480 rows x 7 columns]"
            ]
          },
          "execution_count": 138,
          "metadata": {
            "tags": []
          },
          "output_type": "execute_result"
        }
      ]
    },
    {
      "cell_type": "code",
      "metadata": {
        "colab": {
          "base_uri": "https://localhost:8080/"
        },
        "id": "02eSTBe4pw-Y",
        "outputId": "4e5c9a3e-c3f0-4319-a8b0-173f81d42070"
      },
      "source": [
        "keys = cocrystals.year.values\n",
        "val = cocrystals.groupby(cocrystals.year)['len'].transform('mean')\n",
        "items = dict(zip(keys, val))\n",
        "items.values()"
      ],
      "execution_count": null,
      "outputs": [
        {
          "data": {
            "text/plain": [
              "dict_values([45.0, 52.0, 48.5, 49.666666666666664, 50.4, 49.0, 38.0, 40.77777777777778, 42.84615384615385, 42.57142857142857, 41.666666666666664, 40.6, 48.294117647058826, 46.714285714285715, 46.6, 51.5, 47.666666666666664, 50.15, 41.6875, 53.375, 58.5, 49.22222222222222, 59.833333333333336, 45.333333333333336, 54.833333333333336, 52.96666666666667, 51.15384615384615, 53.925925925925924, 57.07142857142857, 48.11764705882353, 55.76923076923077, 64.65625, 65.23076923076923, 56.111111111111114, 61.02040816326531, 56.88461538461539, 52.6144578313253, 50.10526315789474, 62.87096774193548, 55.611111111111114, 50.81512605042017, 57.13125, 51.42857142857143, 55.3394495412844, 54.13333333333333, 53.87222222222222, 50.842424242424244, 48.25, 48.908396946564885, 51.457142857142856, 50.58024691358025, 49.43603133159269, 58.528528528528525, 54.23157894736842, 56.00845665961945, 57.5650406504065, 58.1605415860735, 55.65046728971963, 62.151571164510166, 59.851778656126484, 54.91379310344828])"
            ]
          },
          "execution_count": 139,
          "metadata": {
            "tags": []
          },
          "output_type": "execute_result"
        }
      ]
    },
    {
      "cell_type": "code",
      "metadata": {
        "colab": {
          "base_uri": "https://localhost:8080/"
        },
        "id": "5j591qMTiIus",
        "outputId": "48645a69-1197-4760-b826-b8fd5facc78f"
      },
      "source": [
        "p=cocrystals['year'].value_counts()\n",
        "p"
      ],
      "execution_count": null,
      "outputs": [
        {
          "data": {
            "text/plain": [
              "2019    541\n",
              "2018    535\n",
              "2017    517\n",
              "2020    506\n",
              "2016    492\n",
              "       ... \n",
              "1966      5\n",
              "1964      3\n",
              "1963      2\n",
              "1943      1\n",
              "1962      1\n",
              "Name: year, Length: 61, dtype: int64"
            ]
          },
          "execution_count": 140,
          "metadata": {
            "tags": []
          },
          "output_type": "execute_result"
        }
      ]
    },
    {
      "cell_type": "code",
      "metadata": {
        "id": "B4mpgFkedKgu"
      },
      "source": [
        "data = pd.concat([pd.DataFrame(p.index, columns=['year']),pd.DataFrame(p.values, columns=['counts'])], axis=1)\n",
        "data = data.sort_values(by=['year'])\n",
        "data = data[data.year!=2021]"
      ],
      "execution_count": null,
      "outputs": []
    },
    {
      "cell_type": "code",
      "metadata": {
        "colab": {
          "base_uri": "https://localhost:8080/"
        },
        "id": "ppk-j4d3orCS",
        "outputId": "5c9bba24-a4fc-423c-9d43-a6551e0defa4"
      },
      "source": [
        "for i in data.year:\n",
        "  print(items[i])"
      ],
      "execution_count": null,
      "outputs": [
        {
          "name": "stdout",
          "output_type": "stream",
          "text": [
            "45.0\n",
            "52.0\n",
            "48.5\n",
            "49.666666666666664\n",
            "50.4\n",
            "49.0\n",
            "38.0\n",
            "40.77777777777778\n",
            "42.84615384615385\n",
            "42.57142857142857\n",
            "41.666666666666664\n",
            "40.6\n",
            "48.294117647058826\n",
            "46.714285714285715\n",
            "46.6\n",
            "51.5\n",
            "47.666666666666664\n",
            "50.15\n",
            "41.6875\n",
            "53.375\n",
            "58.5\n",
            "49.22222222222222\n",
            "59.833333333333336\n",
            "45.333333333333336\n",
            "54.833333333333336\n",
            "52.96666666666667\n",
            "51.15384615384615\n",
            "53.925925925925924\n",
            "57.07142857142857\n",
            "48.11764705882353\n",
            "55.76923076923077\n",
            "64.65625\n",
            "65.23076923076923\n",
            "56.111111111111114\n",
            "61.02040816326531\n",
            "56.88461538461539\n",
            "52.6144578313253\n",
            "50.10526315789474\n",
            "62.87096774193548\n",
            "55.611111111111114\n",
            "50.81512605042017\n",
            "57.13125\n",
            "51.42857142857143\n",
            "55.3394495412844\n",
            "54.13333333333333\n",
            "53.87222222222222\n",
            "50.842424242424244\n",
            "48.25\n",
            "48.908396946564885\n",
            "51.457142857142856\n",
            "50.58024691358025\n",
            "49.43603133159269\n",
            "58.528528528528525\n",
            "54.23157894736842\n",
            "56.00845665961945\n",
            "57.5650406504065\n",
            "58.1605415860735\n",
            "55.65046728971963\n",
            "62.151571164510166\n",
            "59.851778656126484\n"
          ]
        }
      ]
    },
    {
      "cell_type": "code",
      "metadata": {
        "colab": {
          "base_uri": "https://localhost:8080/"
        },
        "id": "oJ8gnQ0Qw3Cx",
        "outputId": "c270d2bd-f159-4089-a9c3-e286aaa1ad79"
      },
      "source": [
        "!wget --recursive --no-parent 'https://github.com/google/fonts/raw/master/apache/opensans/OpenSans-Regular.ttf' -P /usr/local/lib/python3.6/dist-packages/matplotlib/mpl-data/fonts/ttf\n",
        "!wget --recursive --no-parent 'https://github.com/google/fonts/raw/master/apache/opensans/OpenSans-Light.ttf' -P /usr/local/lib/python3.6/dist-packages/matplotlib/mpl-data/fonts/ttf\n",
        "!wget --recursive --no-parent 'https://github.com/google/fonts/raw/master/apache/opensans/OpenSans-SemiBold.ttf' -P /usr/local/lib/python3.6/dist-packages/matplotlib/mpl-data/fonts/ttf\n",
        "!wget --recursive --no-parent 'https://github.com/google/fonts/raw/master/apache/opensans/OpenSans-Bold.ttf' -P /usr/local/lib/python3.6/dist-packages/matplotlib/mpl-data/fonts/ttf\n"
      ],
      "execution_count": null,
      "outputs": [
        {
          "name": "stdout",
          "output_type": "stream",
          "text": [
            "--2021-05-22 17:19:11--  https://github.com/google/fonts/raw/master/apache/opensans/OpenSans-Regular.ttf\n",
            "Resolving github.com (github.com)... 52.192.72.89\n",
            "Connecting to github.com (github.com)|52.192.72.89|:443... connected.\n",
            "HTTP request sent, awaiting response... 404 Not Found\n",
            "2021-05-22 17:19:11 ERROR 404: Not Found.\n",
            "\n",
            "--2021-05-22 17:19:11--  https://github.com/google/fonts/raw/master/apache/opensans/OpenSans-Light.ttf\n",
            "Resolving github.com (github.com)... 13.114.40.48\n",
            "Connecting to github.com (github.com)|13.114.40.48|:443... connected.\n",
            "HTTP request sent, awaiting response... 404 Not Found\n",
            "2021-05-22 17:19:12 ERROR 404: Not Found.\n",
            "\n",
            "--2021-05-22 17:19:12--  https://github.com/google/fonts/raw/master/apache/opensans/OpenSans-SemiBold.ttf\n",
            "Resolving github.com (github.com)... 13.114.40.48\n",
            "Connecting to github.com (github.com)|13.114.40.48|:443... connected.\n",
            "HTTP request sent, awaiting response... 404 Not Found\n",
            "2021-05-22 17:19:12 ERROR 404: Not Found.\n",
            "\n",
            "--2021-05-22 17:19:12--  https://github.com/google/fonts/raw/master/apache/opensans/OpenSans-Bold.ttf\n",
            "Resolving github.com (github.com)... 13.114.40.48\n",
            "Connecting to github.com (github.com)|13.114.40.48|:443... connected.\n",
            "HTTP request sent, awaiting response... 404 Not Found\n",
            "2021-05-22 17:19:13 ERROR 404: Not Found.\n",
            "\n"
          ]
        }
      ]
    },
    {
      "cell_type": "code",
      "metadata": {
        "colab": {
          "base_uri": "https://localhost:8080/",
          "height": 445
        },
        "id": "2FZbsDCgxSZr",
        "outputId": "3c9a6b08-e7b4-4ea8-935f-4a7c29b1f42c"
      },
      "source": [
        "import matplotlib.pyplot as plt\n",
        "%matplotlib inline\n",
        "import matplotlib as mpl\n",
        "import matplotlib.colors as mcolors\n",
        "from matplotlib import cm\n",
        "mpl.font_manager._rebuild()\n",
        "\n",
        "# Use the newly integrated Roboto font family for all text.\n",
        "plt.rc('font', family='Open Sans')\n",
        "fig, ax = plt.subplots(figsize=(18,7))\n",
        "x = data.year.values\n",
        "energy = data.counts.values\n",
        "x_pos = [i for i, _ in enumerate(x)]\n",
        "\n",
        "y = [int(items[i]) for i in x]\n",
        "cy = [(i-min(y))/(max(y)-min(y)) for i in y]\n",
        "\n",
        "my_cmap = plt.cm.get_cmap('viridis')\n",
        "\n",
        "norm=mcolors.LogNorm()\n",
        "\n",
        "from matplotlib.cm import ScalarMappable\n",
        "ax.bar(x_pos, energy, color=colors)#\n",
        "sm = ScalarMappable(cmap=my_cmap, norm=plt.Normalize(0,max(energy)))\n",
        "\n",
        "sm.set_array([])\n",
        "#cbar.set_label('Color', rotation=270,labelpad=25)\n",
        "sm.set_array([])\n",
        "#cbaxes = inset_axes(ax, width=\"30%\", height=\"3%\", loc=2)\n",
        "plt.colorbar(sm, ax=ax)#, orientation='horizontal', ticks=[0,2,4,6,8,10])"
      ],
      "execution_count": null,
      "outputs": [
        {
          "data": {
            "text/plain": [
              "<matplotlib.colorbar.Colorbar at 0x7fafadd5f610>"
            ]
          },
          "execution_count": 114,
          "metadata": {
            "tags": []
          },
          "output_type": "execute_result"
        },
        {
          "data": {
            "image/png": "[encoded data removed]",
            "text/plain": [
              "<Figure size 1296x504 with 2 Axes>"
            ]
          },
          "metadata": {
            "tags": []
          },
          "output_type": "display_data"
        }
      ]
    },
    {
      "cell_type": "code",
      "metadata": {
        "colab": {
          "base_uri": "https://localhost:8080/",
          "height": 463
        },
        "id": "hQ3SC1CziVrN",
        "outputId": "7ae8e6bb-7b6a-44b3-b208-1fbcbc990b01"
      },
      "source": [
        "import matplotlib.pyplot as plt\n",
        "%matplotlib inline\n",
        "import matplotlib as mpl\n",
        "import matplotlib.colors as mcolors\n",
        "from matplotlib import cm\n",
        "mpl.font_manager._rebuild()\n",
        "\n",
        "# Use the newly integrated Roboto font family for all text.\n",
        "plt.rc('font', family='Open Sans')\n",
        "fig, ax = plt.subplots(figsize=(20,7))\n",
        "x = data.year.values\n",
        "energy = data.counts.values\n",
        "x_pos = [i for i, _ in enumerate(x)]\n",
        "\n",
        "y = [int(items[i]) for i in x]\n",
        "cy = [(i-min(y))/(max(y)-min(y)) for i in y]\n",
        "my_cmap = plt.cm.get_cmap('viridis')\n",
        "colors = my_cmap(cy)\n",
        "from matplotlib.cm import ScalarMappable\n",
        "ax.bar(x_pos, energy, color=colors)#\n",
        "sm = ScalarMappable(cmap=my_cmap, norm=plt.Normalize(0,max(y)))\n",
        "\n",
        "sm.set_array([])\n",
        "#cbar.set_label('Color', rotation=270,labelpad=25)\n",
        "sm.set_array([])\n",
        "#cbaxes = inset_axes(ax, width=\"30%\", height=\"3%\", loc=2)\n",
        "cbar = plt.colorbar(sm, ax=ax)#, orientation='horizontal')\n",
        "cbar.set_label('Average length of SMILES', fontsize=14)#, rotation=270)\n",
        "\n",
        "# Axis formatting.\n",
        "ax.spines['top'].set_visible(False)\n",
        "ax.spines['right'].set_visible(False)\n",
        "ax.spines['left'].set_visible(False)\n",
        "ax.spines['bottom'].set_visible(False) #set_color('#DDDDDD')\n",
        "ax.tick_params(bottom=False, left=False)\n",
        "ax.set_axisbelow(True)\n",
        "ax.yaxis.grid(True, color='#cea2fd') #EEEEEE\n",
        "ax.xaxis.grid(False)\n",
        "ax.set_facecolor('white')\n",
        "#ax = fig.add_axes((left, bottom, width, height))\n",
        "fig.patch.set_visible(False)\n",
        "ax.axis('on')\n",
        "#plt.style.use('ggplot')\n",
        "\n",
        "\n",
        "\n",
        "plt.xlabel(\"Year\", fontsize=14)\n",
        "plt.ylabel(\"Number of co-crystals\", fontsize=14)\n",
        "ax.xaxis.set_tick_params(rotation=45)\n",
        "plt.xticks(x_pos, x, fontsize=11)\n",
        "plt.savefig('/content/fig.svg', dpi=600,bbox_inches='tight')\n",
        "#plt.xlim(1943, 2020)\n",
        "plt.show()"
      ],
      "execution_count": null,
      "outputs": [
        {
          "data": {
            "image/png": "[encoded data removed]",
            "text/plain": [
              "<Figure size 1440x504 with 2 Axes>"
            ]
          },
          "metadata": {
            "tags": []
          },
          "output_type": "display_data"
        }
      ]
    },
    {
      "cell_type": "code",
      "metadata": {
        "colab": {
          "base_uri": "https://localhost:8080/",
          "height": 406
        },
        "id": "zrBtCEdO8dzh",
        "outputId": "17fbeced-d6cf-4f32-884b-32de45c614b6"
      },
      "source": [
        "cocrystals# = pd.DataFrame(cocrystals.values, columns=cocrystals.columns.values)"
      ],
      "execution_count": null,
      "outputs": [
        {
          "data": {
            "text/html": [
              "<div>\n",
              "<style scoped>\n",
              "    .dataframe tbody tr th:only-of-type {\n",
              "        vertical-align: middle;\n",
              "    }\n",
              "\n",
              "    .dataframe tbody tr th {\n",
              "        vertical-align: top;\n",
              "    }\n",
              "\n",
              "    .dataframe thead th {\n",
              "        text-align: right;\n",
              "    }\n",
              "</style>\n",
              "<table border=\"1\" class=\"dataframe\">\n",
              "  <thead>\n",
              "    <tr style=\"text-align: right;\">\n",
              "      <th></th>\n",
              "      <th>csd_id</th>\n",
              "      <th>name</th>\n",
              "      <th>smiles1</th>\n",
              "      <th>smiles2</th>\n",
              "      <th>year</th>\n",
              "    </tr>\n",
              "  </thead>\n",
              "  <tbody>\n",
              "    <tr>\n",
              "      <th>0</th>\n",
              "      <td>IANNOB</td>\n",
              "      <td>p-Iodoaniline-S-trinitrobenzene complex</td>\n",
              "      <td>Nc1ccc(I)cc1</td>\n",
              "      <td>O=N(=O)c1cc(cc(c1)N(=O)=O)N(=O)=O</td>\n",
              "      <td>1943</td>\n",
              "    </tr>\n",
              "    <tr>\n",
              "      <th>1</th>\n",
              "      <td>CLAHMB</td>\n",
              "      <td>Chloranil-hexamethylbenzene complex</td>\n",
              "      <td>ClC1=C(Cl)C(=O)C(=C(Cl)C1=O)Cl</td>\n",
              "      <td>Cc1c(C)c(C)c(C)c(C)c1C</td>\n",
              "      <td>1962</td>\n",
              "    </tr>\n",
              "    <tr>\n",
              "      <th>2</th>\n",
              "      <td>MTHMAD</td>\n",
              "      <td>9-Methyladenine-1-methylthymine complex</td>\n",
              "      <td>CN1C=Nc2c(N)ncnc12</td>\n",
              "      <td>CN1C=C(C)C(=O)NC1=O</td>\n",
              "      <td>1963</td>\n",
              "    </tr>\n",
              "    <tr>\n",
              "      <th>3</th>\n",
              "      <td>PERFAN</td>\n",
              "      <td>Perylene-fluoranil complex</td>\n",
              "      <td>c1cc2cccc3c4cccc5cccc(c(c1)c23)c45</td>\n",
              "      <td>FC1=C(F)C(=O)C(=C(F)C1=O)F</td>\n",
              "      <td>1963</td>\n",
              "    </tr>\n",
              "    <tr>\n",
              "      <th>4</th>\n",
              "      <td>ANCTNB</td>\n",
              "      <td>Anthracene trinitrobenzene</td>\n",
              "      <td>c1ccc2cc3ccccc3cc2c1</td>\n",
              "      <td>O=N(=O)c1cc(cc(c1)N(=O)=O)N(=O)=O</td>\n",
              "      <td>1964</td>\n",
              "    </tr>\n",
              "    <tr>\n",
              "      <th>...</th>\n",
              "      <td>...</td>\n",
              "      <td>...</td>\n",
              "      <td>...</td>\n",
              "      <td>...</td>\n",
              "      <td>...</td>\n",
              "    </tr>\n",
              "    <tr>\n",
              "      <th>7475</th>\n",
              "      <td>UKITEQ</td>\n",
              "      <td>3-(3,4,5-trimethoxyphenyl)prop-2-enoic acid se...</td>\n",
              "      <td>Cc1cccc2SC(=Nc12)N</td>\n",
              "      <td>COc1cc(C=CC(O)=O)cc(OC)c1OC</td>\n",
              "      <td>2021</td>\n",
              "    </tr>\n",
              "    <tr>\n",
              "      <th>7476</th>\n",
              "      <td>UKITUG</td>\n",
              "      <td>hemikis(decanedioic acid) 4-methyl-1,3-benzoth...</td>\n",
              "      <td>Cc1cccc2SC(=Nc12)N</td>\n",
              "      <td>OC(=O)CCCCCCCCC(O)=O</td>\n",
              "      <td>2021</td>\n",
              "    </tr>\n",
              "    <tr>\n",
              "      <th>7477</th>\n",
              "      <td>UKIVIW</td>\n",
              "      <td>4-methyl-1,3-benzothiazol-2-amine hemikis(buta...</td>\n",
              "      <td>Cc1cccc2SC(=Nc12)N</td>\n",
              "      <td>OC(=O)CC(C(CC(O)=O)C(O)=O)C(O)=O</td>\n",
              "      <td>2021</td>\n",
              "    </tr>\n",
              "    <tr>\n",
              "      <th>7478</th>\n",
              "      <td>ULECEW</td>\n",
              "      <td>4-phenyl-4H-4Î»5-phospholo[3,2-b:4,5-b']bisthi...</td>\n",
              "      <td>O=P1(c2ccccc2)C2=C(SC=C2)C2=C1C=CS2</td>\n",
              "      <td>Oc1c(O)c(Cl)c(Cl)c(Cl)c1Cl</td>\n",
              "      <td>2021</td>\n",
              "    </tr>\n",
              "    <tr>\n",
              "      <th>7479</th>\n",
              "      <td>ULOLIT</td>\n",
              "      <td>5-[(3,4,5-trimethoxyphenyl)methyl]pyrimidine-2...</td>\n",
              "      <td>COc1cc(Cc2cnc(N)nc2N)cc(OC)c1OC</td>\n",
              "      <td>c1cc(ccn1)N=Nc1ccncc1</td>\n",
              "      <td>2021</td>\n",
              "    </tr>\n",
              "  </tbody>\n",
              "</table>\n",
              "<p>7480 rows × 5 columns</p>\n",
              "</div>"
            ],
            "text/plain": [
              "      csd_id  ...  year\n",
              "0     IANNOB  ...  1943\n",
              "1     CLAHMB  ...  1962\n",
              "2     MTHMAD  ...  1963\n",
              "3     PERFAN  ...  1963\n",
              "4     ANCTNB  ...  1964\n",
              "...      ...  ...   ...\n",
              "7475  UKITEQ  ...  2021\n",
              "7476  UKITUG  ...  2021\n",
              "7477  UKIVIW  ...  2021\n",
              "7478  ULECEW  ...  2021\n",
              "7479  ULOLIT  ...  2021\n",
              "\n",
              "[7480 rows x 5 columns]"
            ]
          },
          "execution_count": 81,
          "metadata": {
            "tags": []
          },
          "output_type": "execute_result"
        }
      ]
    },
    {
      "cell_type": "code",
      "metadata": {
        "colab": {
          "base_uri": "https://localhost:8080/",
          "height": 197
        },
        "id": "MmqNKPQKzRfW",
        "outputId": "ed7a45d5-c5c9-4ccf-a307-72080fcf2bab"
      },
      "source": [
        "cocrystals = pd.read_csv('/content/drive/MyDrive/cocrystal_design-master/ccdc_ml_cocrystals/data_complete/training_data/new_2020/cocrystals2020_cleaned.csv')\n",
        "cocrystals.head()"
      ],
      "execution_count": null,
      "outputs": [
        {
          "data": {
            "text/html": [
              "<div>\n",
              "<style scoped>\n",
              "    .dataframe tbody tr th:only-of-type {\n",
              "        vertical-align: middle;\n",
              "    }\n",
              "\n",
              "    .dataframe tbody tr th {\n",
              "        vertical-align: top;\n",
              "    }\n",
              "\n",
              "    .dataframe thead th {\n",
              "        text-align: right;\n",
              "    }\n",
              "</style>\n",
              "<table border=\"1\" class=\"dataframe\">\n",
              "  <thead>\n",
              "    <tr style=\"text-align: right;\">\n",
              "      <th></th>\n",
              "      <th>Unnamed: 0</th>\n",
              "      <th>csd_id</th>\n",
              "      <th>name</th>\n",
              "      <th>smiles1</th>\n",
              "      <th>smiles2</th>\n",
              "      <th>year</th>\n",
              "    </tr>\n",
              "  </thead>\n",
              "  <tbody>\n",
              "    <tr>\n",
              "      <th>0</th>\n",
              "      <td>0</td>\n",
              "      <td>IANNOB</td>\n",
              "      <td>p-Iodoaniline-S-trinitrobenzene complex</td>\n",
              "      <td>Nc1ccc(I)cc1</td>\n",
              "      <td>O=N(=O)c1cc(cc(c1)N(=O)=O)N(=O)=O</td>\n",
              "      <td>1943</td>\n",
              "    </tr>\n",
              "    <tr>\n",
              "      <th>1</th>\n",
              "      <td>1</td>\n",
              "      <td>CLAHMB</td>\n",
              "      <td>Chloranil-hexamethylbenzene complex</td>\n",
              "      <td>ClC1=C(Cl)C(=O)C(=C(Cl)C1=O)Cl</td>\n",
              "      <td>Cc1c(C)c(C)c(C)c(C)c1C</td>\n",
              "      <td>1962</td>\n",
              "    </tr>\n",
              "    <tr>\n",
              "      <th>2</th>\n",
              "      <td>2</td>\n",
              "      <td>MTHMAD</td>\n",
              "      <td>9-Methyladenine-1-methylthymine complex</td>\n",
              "      <td>CN1C=Nc2c(N)ncnc12</td>\n",
              "      <td>CN1C=C(C)C(=O)NC1=O</td>\n",
              "      <td>1963</td>\n",
              "    </tr>\n",
              "    <tr>\n",
              "      <th>3</th>\n",
              "      <td>3</td>\n",
              "      <td>PERFAN</td>\n",
              "      <td>Perylene-fluoranil complex</td>\n",
              "      <td>c1cc2cccc3c4cccc5cccc(c(c1)c23)c45</td>\n",
              "      <td>FC1=C(F)C(=O)C(=C(F)C1=O)F</td>\n",
              "      <td>1963</td>\n",
              "    </tr>\n",
              "    <tr>\n",
              "      <th>4</th>\n",
              "      <td>4</td>\n",
              "      <td>ANCTNB</td>\n",
              "      <td>Anthracene trinitrobenzene</td>\n",
              "      <td>c1ccc2cc3ccccc3cc2c1</td>\n",
              "      <td>O=N(=O)c1cc(cc(c1)N(=O)=O)N(=O)=O</td>\n",
              "      <td>1964</td>\n",
              "    </tr>\n",
              "  </tbody>\n",
              "</table>\n",
              "</div>"
            ],
            "text/plain": [
              "   Unnamed: 0  csd_id  ...                            smiles2  year\n",
              "0           0  IANNOB  ...  O=N(=O)c1cc(cc(c1)N(=O)=O)N(=O)=O  1943\n",
              "1           1  CLAHMB  ...             Cc1c(C)c(C)c(C)c(C)c1C  1962\n",
              "2           2  MTHMAD  ...                CN1C=C(C)C(=O)NC1=O  1963\n",
              "3           3  PERFAN  ...         FC1=C(F)C(=O)C(=C(F)C1=O)F  1963\n",
              "4           4  ANCTNB  ...  O=N(=O)c1cc(cc(c1)N(=O)=O)N(=O)=O  1964\n",
              "\n",
              "[5 rows x 6 columns]"
            ]
          },
          "execution_count": 4,
          "metadata": {
            "tags": []
          },
          "output_type": "execute_result"
        }
      ]
    },
    {
      "cell_type": "code",
      "metadata": {
        "colab": {
          "base_uri": "https://localhost:8080/",
          "height": 523
        },
        "id": "7sJByfV7cg4o",
        "outputId": "40933257-b77b-4e7c-92a4-c8052613496d"
      },
      "source": [
        "cocrystals = cocrystals[cocrystals.csd_id != 'GUPXUN']\n",
        "cocrystals"
      ],
      "execution_count": null,
      "outputs": [
        {
          "data": {
            "text/html": [
              "<div>\n",
              "<style scoped>\n",
              "    .dataframe tbody tr th:only-of-type {\n",
              "        vertical-align: middle;\n",
              "    }\n",
              "\n",
              "    .dataframe tbody tr th {\n",
              "        vertical-align: top;\n",
              "    }\n",
              "\n",
              "    .dataframe thead th {\n",
              "        text-align: right;\n",
              "    }\n",
              "</style>\n",
              "<table border=\"1\" class=\"dataframe\">\n",
              "  <thead>\n",
              "    <tr style=\"text-align: right;\">\n",
              "      <th></th>\n",
              "      <th>Unnamed: 0</th>\n",
              "      <th>csd_id</th>\n",
              "      <th>name</th>\n",
              "      <th>smiles1</th>\n",
              "      <th>smiles2</th>\n",
              "      <th>year</th>\n",
              "    </tr>\n",
              "  </thead>\n",
              "  <tbody>\n",
              "    <tr>\n",
              "      <th>0</th>\n",
              "      <td>0</td>\n",
              "      <td>IANNOB</td>\n",
              "      <td>p-Iodoaniline-S-trinitrobenzene complex</td>\n",
              "      <td>Nc1ccc(I)cc1</td>\n",
              "      <td>O=N(=O)c1cc(cc(c1)N(=O)=O)N(=O)=O</td>\n",
              "      <td>1943</td>\n",
              "    </tr>\n",
              "    <tr>\n",
              "      <th>1</th>\n",
              "      <td>1</td>\n",
              "      <td>CLAHMB</td>\n",
              "      <td>Chloranil-hexamethylbenzene complex</td>\n",
              "      <td>ClC1=C(Cl)C(=O)C(=C(Cl)C1=O)Cl</td>\n",
              "      <td>Cc1c(C)c(C)c(C)c(C)c1C</td>\n",
              "      <td>1962</td>\n",
              "    </tr>\n",
              "    <tr>\n",
              "      <th>2</th>\n",
              "      <td>2</td>\n",
              "      <td>MTHMAD</td>\n",
              "      <td>9-Methyladenine-1-methylthymine complex</td>\n",
              "      <td>CN1C=Nc2c(N)ncnc12</td>\n",
              "      <td>CN1C=C(C)C(=O)NC1=O</td>\n",
              "      <td>1963</td>\n",
              "    </tr>\n",
              "    <tr>\n",
              "      <th>3</th>\n",
              "      <td>3</td>\n",
              "      <td>PERFAN</td>\n",
              "      <td>Perylene-fluoranil complex</td>\n",
              "      <td>c1cc2cccc3c4cccc5cccc(c(c1)c23)c45</td>\n",
              "      <td>FC1=C(F)C(=O)C(=C(F)C1=O)F</td>\n",
              "      <td>1963</td>\n",
              "    </tr>\n",
              "    <tr>\n",
              "      <th>4</th>\n",
              "      <td>4</td>\n",
              "      <td>ANCTNB</td>\n",
              "      <td>Anthracene trinitrobenzene</td>\n",
              "      <td>c1ccc2cc3ccccc3cc2c1</td>\n",
              "      <td>O=N(=O)c1cc(cc(c1)N(=O)=O)N(=O)=O</td>\n",
              "      <td>1964</td>\n",
              "    </tr>\n",
              "    <tr>\n",
              "      <th>...</th>\n",
              "      <td>...</td>\n",
              "      <td>...</td>\n",
              "      <td>...</td>\n",
              "      <td>...</td>\n",
              "      <td>...</td>\n",
              "      <td>...</td>\n",
              "    </tr>\n",
              "    <tr>\n",
              "      <th>7475</th>\n",
              "      <td>7567</td>\n",
              "      <td>UKITEQ</td>\n",
              "      <td>3-(3,4,5-trimethoxyphenyl)prop-2-enoic acid se...</td>\n",
              "      <td>Cc1cccc2SC(=Nc12)N</td>\n",
              "      <td>COc1cc(C=CC(O)=O)cc(OC)c1OC</td>\n",
              "      <td>2021</td>\n",
              "    </tr>\n",
              "    <tr>\n",
              "      <th>7476</th>\n",
              "      <td>7568</td>\n",
              "      <td>UKITUG</td>\n",
              "      <td>hemikis(decanedioic acid) 4-methyl-1,3-benzoth...</td>\n",
              "      <td>Cc1cccc2SC(=Nc12)N</td>\n",
              "      <td>OC(=O)CCCCCCCCC(O)=O</td>\n",
              "      <td>2021</td>\n",
              "    </tr>\n",
              "    <tr>\n",
              "      <th>7477</th>\n",
              "      <td>7569</td>\n",
              "      <td>UKIVIW</td>\n",
              "      <td>4-methyl-1,3-benzothiazol-2-amine hemikis(buta...</td>\n",
              "      <td>Cc1cccc2SC(=Nc12)N</td>\n",
              "      <td>OC(=O)CC(C(CC(O)=O)C(O)=O)C(O)=O</td>\n",
              "      <td>2021</td>\n",
              "    </tr>\n",
              "    <tr>\n",
              "      <th>7478</th>\n",
              "      <td>7570</td>\n",
              "      <td>ULECEW</td>\n",
              "      <td>4-phenyl-4H-4Î»5-phospholo[3,2-b:4,5-b']bisthi...</td>\n",
              "      <td>O=P1(c2ccccc2)C2=C(SC=C2)C2=C1C=CS2</td>\n",
              "      <td>Oc1c(O)c(Cl)c(Cl)c(Cl)c1Cl</td>\n",
              "      <td>2021</td>\n",
              "    </tr>\n",
              "    <tr>\n",
              "      <th>7479</th>\n",
              "      <td>7571</td>\n",
              "      <td>ULOLIT</td>\n",
              "      <td>5-[(3,4,5-trimethoxyphenyl)methyl]pyrimidine-2...</td>\n",
              "      <td>COc1cc(Cc2cnc(N)nc2N)cc(OC)c1OC</td>\n",
              "      <td>c1cc(ccn1)N=Nc1ccncc1</td>\n",
              "      <td>2021</td>\n",
              "    </tr>\n",
              "  </tbody>\n",
              "</table>\n",
              "<p>7479 rows × 6 columns</p>\n",
              "</div>"
            ],
            "text/plain": [
              "      Unnamed: 0  csd_id  ...                            smiles2  year\n",
              "0              0  IANNOB  ...  O=N(=O)c1cc(cc(c1)N(=O)=O)N(=O)=O  1943\n",
              "1              1  CLAHMB  ...             Cc1c(C)c(C)c(C)c(C)c1C  1962\n",
              "2              2  MTHMAD  ...                CN1C=C(C)C(=O)NC1=O  1963\n",
              "3              3  PERFAN  ...         FC1=C(F)C(=O)C(=C(F)C1=O)F  1963\n",
              "4              4  ANCTNB  ...  O=N(=O)c1cc(cc(c1)N(=O)=O)N(=O)=O  1964\n",
              "...          ...     ...  ...                                ...   ...\n",
              "7475        7567  UKITEQ  ...        COc1cc(C=CC(O)=O)cc(OC)c1OC  2021\n",
              "7476        7568  UKITUG  ...               OC(=O)CCCCCCCCC(O)=O  2021\n",
              "7477        7569  UKIVIW  ...   OC(=O)CC(C(CC(O)=O)C(O)=O)C(O)=O  2021\n",
              "7478        7570  ULECEW  ...         Oc1c(O)c(Cl)c(Cl)c(Cl)c1Cl  2021\n",
              "7479        7571  ULOLIT  ...              c1cc(ccn1)N=Nc1ccncc1  2021\n",
              "\n",
              "[7479 rows x 6 columns]"
            ]
          },
          "execution_count": 7,
          "metadata": {
            "tags": []
          },
          "output_type": "execute_result"
        }
      ]
    },
    {
      "cell_type": "code",
      "metadata": {
        "id": "UdouLyB-35bR"
      },
      "source": [
        "from rdkit.Chem import Descriptors\n",
        "weak_interactions = []\n",
        "for i in range(len(cocrystals.smiles1[:])):\n",
        "  m1 = Chem.MolFromSmiles(cocrystals.smiles1.loc[i]) \n",
        "  m2 = Chem.MolFromSmiles(cocrystals.smiles2.loc[i]) \n",
        "  if Chem.rdMolDescriptors.CalcNumHeteroatoms(m1) == 0 or Chem.rdMolDescriptors.CalcNumHeteroatoms(m2) == 0:\n",
        "    weak_interactions.append('weak_bond')\n",
        "  else:\n",
        "    weak_interactions.append(0)"
      ],
      "execution_count": null,
      "outputs": []
    },
    {
      "cell_type": "code",
      "metadata": {
        "id": "xjMkHG7aARKA"
      },
      "source": [
        "from rdkit.Chem import Descriptors\n",
        "hbond_oh = []\n",
        "p = Chem.MolFromSmarts('O=CO')\n",
        "n= Chem.MolFromSmarts('C(N)=O')\n",
        "for i in range(len(cocrystals.smiles1[:])):\n",
        "  m1 = Chem.MolFromSmiles(cocrystals.smiles1.loc[i]) \n",
        "  m2 = Chem.MolFromSmiles(cocrystals.smiles2.loc[i]) \n",
        "  if m1.HasSubstructMatch(p) == True or m1.HasSubstructMatch(n) == True and m2.HasSubstructMatch(p) == True or m2.HasSubstructMatch(n) == True:\n",
        "    hbond_oh.append('h_bond_oh')\n",
        "  else:\n",
        "    hbond_oh.append(0)"
      ],
      "execution_count": null,
      "outputs": []
    },
    {
      "cell_type": "code",
      "metadata": {
        "id": "hSobTS02EOlq"
      },
      "source": [
        "from rdkit.Chem import Descriptors\n",
        "hbond_n = []\n",
        "p = Chem.MolFromSmarts('O=CO')\n",
        "n= Chem.MolFromSmarts('c1ccncc1')\n",
        "for i in range(len(cocrystals.smiles1[:])):\n",
        "  m1 = Chem.MolFromSmiles(cocrystals.smiles1.loc[i]) \n",
        "  m2 = Chem.MolFromSmiles(cocrystals.smiles2.loc[i]) \n",
        "  if m1.HasSubstructMatch(p) == True or m1.HasSubstructMatch(n) == True and m2.HasSubstructMatch(p) == True or m2.HasSubstructMatch(n) == True:\n",
        "    hbond_n.append('h_bond_n')\n",
        "  else:\n",
        "    hbond_n.append(0)\n",
        "\n"
      ],
      "execution_count": null,
      "outputs": []
    },
    {
      "cell_type": "code",
      "metadata": {
        "id": "mZHYDCiXc5qh"
      },
      "source": [
        "cocrystals=pd.DataFrame(cocrystals.values, columns=cocrystals.columns.values)"
      ],
      "execution_count": null,
      "outputs": []
    },
    {
      "cell_type": "code",
      "metadata": {
        "colab": {
          "base_uri": "https://localhost:8080/"
        },
        "id": "EDTn1Pn9b_Xo",
        "outputId": "9a9c02ec-65e1-4e46-8435-2566c0afdba4"
      },
      "source": [
        "from rdkit.Chem import Descriptors\n",
        "hbond_oh = []\n",
        "p = Chem.MolFromSmarts('O')\n",
        "\n",
        "for i in range(len(cocrystals.smiles1[:])):\n",
        "  m1 = Chem.MolFromSmiles(cocrystals.smiles1.loc[i]) \n",
        "  m2 = Chem.MolFromSmiles(cocrystals.smiles2.loc[i]) \n",
        "  if m1.HasSubstructMatch(p) == True and m2.HasSubstructMatch(p) == True :\n",
        "    hbond_oh.append('h-bond')\n",
        "  else:\n",
        "    hbond_oh.append(0)\n",
        "len(hbond_oh)"
      ],
      "execution_count": null,
      "outputs": [
        {
          "data": {
            "text/plain": [
              "7479"
            ]
          },
          "execution_count": 15,
          "metadata": {
            "tags": []
          },
          "output_type": "execute_result"
        }
      ]
    },
    {
      "cell_type": "code",
      "metadata": {
        "id": "LTHov36iBSrt"
      },
      "source": [
        "pd.concat([cocrystals, pd.DataFrame(hbond_oh, columns=['h-bond'])],axis=1).to_csv('cocrystals2020_test.csv')\n",
        "\n",
        "          # pd.DataFrame(weak_interactions, columns=['weak_bond']),\n",
        "          # pd.DataFrame(hbond_n, columns=['hbond_n']) ],axis=1).to_csv('cocrystals2020_clean_functionality.csv')\n",
        "\n"
      ],
      "execution_count": null,
      "outputs": []
    },
    {
      "cell_type": "code",
      "metadata": {
        "colab": {
          "base_uri": "https://localhost:8080/"
        },
        "id": "a_8G0aKG40WQ",
        "outputId": "b4c811be-05d9-4b54-fb06-84ef8783a9ae"
      },
      "source": [
        "from collections import Counter\n",
        "from itertools import chain\n",
        "\n",
        "\n",
        "words_count = Counter(chain(hbond_oh))\n",
        "print(words_count)\n",
        "\n"
      ],
      "execution_count": null,
      "outputs": [
        {
          "name": "stdout",
          "output_type": "stream",
          "text": [
            "Counter({0: 4585, 'h-bond': 2894})\n"
          ]
        }
      ]
    },
    {
      "cell_type": "code",
      "metadata": {
        "id": "He263jlv-gdz"
      },
      "source": [
        "p = Chem.MolFromSmarts('O=CO')\n",
        "# define a function where matches are contained in a single fragment\n",
        "def fragsearch(m,p):\n",
        "    matches = [set(x) for x in m.GetSubstructMatches(p)]\n",
        "    frags = [set(y) for y in Chem.GetMolFrags(m)] # had to add this line for code to work\n",
        "    for frag in frags:\n",
        "        for match in matches:\n",
        "            if match.issubset(frag):\n",
        "                return match\n",
        "    return False"
      ],
      "execution_count": null,
      "outputs": []
    },
    {
      "cell_type": "code",
      "metadata": {
        "colab": {
          "base_uri": "https://localhost:8080/"
        },
        "id": "_UeN2VsA-m3g",
        "outputId": "7ddeea37-4c3f-407a-a890-6ecbb33f15bf"
      },
      "source": [
        "m1 = Chem.MolFromSmiles('O=C1OC(=O)c2cc3C(=O)OC(=O)c3cc12')\n",
        "print(m1.HasSubstructMatch(p))\n"
      ],
      "execution_count": null,
      "outputs": [
        {
          "name": "stdout",
          "output_type": "stream",
          "text": [
            "False\n"
          ]
        }
      ]
    },
    {
      "cell_type": "code",
      "metadata": {
        "id": "IRi_oF8Pi-M_"
      },
      "source": [
        "from rdkit.Chem import MolFromSmiles\n",
        "from rdkit.Chem.FilterCatalog import *\n",
        "functionalGroups = GetFunctionalGroupHierarchy()\n",
        "\n",
        "#no_functionals=[]\n",
        "#mol1_funtional=[]\n",
        "#mol2_functional =[]\n",
        "both_functional=[]\n",
        "for i in range(len(cocrystals.smiles1)):\n",
        "  #print(i)\n",
        "  m1 = Chem.MolFromSmiles(cocrystals.smiles1.loc[i]) \n",
        "  m2 = Chem.MolFromSmiles(cocrystals.smiles2.loc[i])\n",
        "  f1=[match.filterMatch.GetName() \n",
        "    for match in functionalGroups.GetFilterMatches(m1)]\n",
        "  f2=[match.filterMatch.GetName() \n",
        "    for match in functionalGroups.GetFilterMatches(m2)]\n",
        "  if f1 and f2:\n",
        "    both_functional.append(cocrystals.csd_id.loc[i])\n"
      ],
      "execution_count": null,
      "outputs": []
    },
    {
      "cell_type": "code",
      "metadata": {
        "id": "aciYIEQJ_Nlm"
      },
      "source": [
        "if cocrystals.csd_id.loc[0] in no_functionals:\n",
        "  print('nai')"
      ],
      "execution_count": null,
      "outputs": []
    },
    {
      "cell_type": "code",
      "metadata": {
        "id": "4KGdz7Yh9d14"
      },
      "source": [
        "labels=[]\n",
        "for i in cocrystals.csd_id:\n",
        "  if i in no_functionals:\n",
        "    labels.append(0)\n",
        "  if i in both_functional:\n",
        "    labels.append(1)\n",
        "  if i in mol1_funtional:\n",
        "    labels.append(2)\n",
        "  if i in mol2_functional:\n",
        "    labels.append(3)"
      ],
      "execution_count": null,
      "outputs": []
    },
    {
      "cell_type": "code",
      "metadata": {
        "colab": {
          "base_uri": "https://localhost:8080/"
        },
        "id": "B5FJueCgBdm2",
        "outputId": "91ce8629-5bc8-4cdb-bc4e-8a01cf859307"
      },
      "source": [
        "len(labels)"
      ],
      "execution_count": null,
      "outputs": [
        {
          "data": {
            "text/plain": [
              "7480"
            ]
          },
          "execution_count": 115,
          "metadata": {
            "tags": []
          },
          "output_type": "execute_result"
        }
      ]
    },
    {
      "cell_type": "code",
      "metadata": {
        "id": "DdQTAFw1-51L"
      },
      "source": [
        "pd.concat([cocrystals, pd.DataFrame(labels, columns=['functionality'])], axis=1).to_csv('cocrystals2020_funtionality.csv')"
      ],
      "execution_count": null,
      "outputs": []
    },
    {
      "cell_type": "code",
      "metadata": {
        "id": "yvfe8gN8BmzT"
      },
      "source": [
        "pub_stats = pd.read_csv('/content/drive/MyDrive/cocrystal_design-master/ccdc_ml_cocrystals/data_complete/training_data/new_2020/cocrystal_publication_statistics.csv')"
      ],
      "execution_count": null,
      "outputs": []
    },
    {
      "cell_type": "code",
      "metadata": {
        "id": "CHgm5oF6MYDS"
      },
      "source": [
        "pub_stats=pub_stats.sort_values(by='year')\n",
        "pub_stats = pub_stats[pub_stats.year> 1990]\n",
        "#.publications_cocrystal_electronic\n"
      ],
      "execution_count": null,
      "outputs": []
    },
    {
      "cell_type": "code",
      "metadata": {
        "colab": {
          "base_uri": "https://localhost:8080/",
          "height": 372
        },
        "id": "N06LifMbMigb",
        "outputId": "e863ce71-7290-4a12-dfaf-be1520e6915e"
      },
      "source": [
        "import matplotlib.pyplot as plt\n",
        "%matplotlib inline\n",
        "import matplotlib as mpl\n",
        "import matplotlib.colors as mcolors\n",
        "from matplotlib import cm\n",
        "mpl.font_manager._rebuild()\n",
        "\n",
        "# Use the newly integrated Roboto font family for all text.\n",
        "plt.rc('font', family='Open Sans')\n",
        "fig, ax = plt.subplots(figsize=(10,5))\n",
        "x = pub_stats.year.values\n",
        "energy = pub_stats.publications_cocrystal_electronic.values\n",
        "x_pos = [i for i, _ in enumerate(x)]\n",
        "\n",
        "\n",
        "ax.bar(x_pos, energy)#, color=colors)#\n",
        "\n",
        "# Axis formatting.\n",
        "ax.spines['top'].set_visible(False)\n",
        "ax.spines['right'].set_visible(False)\n",
        "ax.spines['left'].set_visible(False)\n",
        "ax.spines['bottom'].set_visible(False) #set_color('#DDDDDD')\n",
        "ax.tick_params(bottom=False, left=False)\n",
        "ax.set_axisbelow(True)\n",
        "ax.yaxis.grid(True, color='#cea2fd') #EEEEEE\n",
        "ax.xaxis.grid(False)\n",
        "ax.set_facecolor('white')\n",
        "#ax = fig.add_axes((left, bottom, width, height))\n",
        "fig.patch.set_visible(False)\n",
        "ax.axis('on')\n",
        "#plt.style.use('ggplot')\n",
        "\n",
        "\n",
        "\n",
        "plt.xlabel(\"Year\", fontsize=14)\n",
        "plt.ylabel(\"Number of publications\", fontsize=14)\n",
        "ax.xaxis.set_tick_params(rotation=45)\n",
        "plt.xticks(x_pos, x, fontsize=11)\n",
        "plt.title('Publications related to electronic co-crystals (Web of Science)', fontsize=14)\n",
        "plt.savefig('/content/fig.png', dpi=600,bbox_inches='tight')\n",
        "#plt.xlim(1943, 2020)\n",
        "plt.show()"
      ],
      "execution_count": null,
      "outputs": [
        {
          "data": {
            "image/png": "[encoded data removed]",
            "text/plain": [
              "<Figure size 720x360 with 1 Axes>"
            ]
          },
          "metadata": {
            "tags": []
          },
          "output_type": "display_data"
        }
      ]
    },
    {
      "cell_type": "markdown",
      "metadata": {
        "id": "UXhlf7vB3gh2"
      },
      "source": [
        "# Functional groups mapping"
      ]
    },
    {
      "cell_type": "code",
      "metadata": {
        "colab": {
          "base_uri": "https://localhost:8080/",
          "height": 424
        },
        "id": "oHRHIT3O3lC-",
        "outputId": "3e2a25b1-7dfa-459e-def4-67ca398b860e"
      },
      "source": [
        "cocrystals=pd.read_csv('/content/cocrystals2020_clean_functionality.csv', encoding='latin')\n",
        "cocrystals"
      ],
      "execution_count": null,
      "outputs": [
        {
          "data": {
            "text/html": [
              "<div>\n",
              "<style scoped>\n",
              "    .dataframe tbody tr th:only-of-type {\n",
              "        vertical-align: middle;\n",
              "    }\n",
              "\n",
              "    .dataframe tbody tr th {\n",
              "        vertical-align: top;\n",
              "    }\n",
              "\n",
              "    .dataframe thead th {\n",
              "        text-align: right;\n",
              "    }\n",
              "</style>\n",
              "<table border=\"1\" class=\"dataframe\">\n",
              "  <thead>\n",
              "    <tr style=\"text-align: right;\">\n",
              "      <th></th>\n",
              "      <th>csd_id</th>\n",
              "      <th>name</th>\n",
              "      <th>smiles1</th>\n",
              "      <th>smiles2</th>\n",
              "      <th>year</th>\n",
              "      <th>functionality</th>\n",
              "      <th>group</th>\n",
              "    </tr>\n",
              "  </thead>\n",
              "  <tbody>\n",
              "    <tr>\n",
              "      <th>0</th>\n",
              "      <td>IANNOB</td>\n",
              "      <td>p-Iodoaniline-S-trinitrobenzene complex</td>\n",
              "      <td>Nc1ccc(I)cc1</td>\n",
              "      <td>O=N(=O)c1cc(cc(c1)N(=O)=O)N(=O)=O</td>\n",
              "      <td>1943</td>\n",
              "      <td>weak_bond</td>\n",
              "      <td>1</td>\n",
              "    </tr>\n",
              "    <tr>\n",
              "      <th>1</th>\n",
              "      <td>CLAHMB</td>\n",
              "      <td>Chloranil-hexamethylbenzene complex</td>\n",
              "      <td>ClC1=C(Cl)C(=O)C(=C(Cl)C1=O)Cl</td>\n",
              "      <td>Cc1c(C)c(C)c(C)c(C)c1C</td>\n",
              "      <td>1962</td>\n",
              "      <td>weak_bond</td>\n",
              "      <td>1</td>\n",
              "    </tr>\n",
              "    <tr>\n",
              "      <th>2</th>\n",
              "      <td>MTHMAD</td>\n",
              "      <td>9-Methyladenine-1-methylthymine complex</td>\n",
              "      <td>CN1C=Nc2c(N)ncnc12</td>\n",
              "      <td>CN1C=C(C)C(=O)NC1=O</td>\n",
              "      <td>1963</td>\n",
              "      <td>h-bond</td>\n",
              "      <td>2</td>\n",
              "    </tr>\n",
              "    <tr>\n",
              "      <th>3</th>\n",
              "      <td>PERFAN</td>\n",
              "      <td>Perylene-fluoranil complex</td>\n",
              "      <td>c1cc2cccc3c4cccc5cccc(c(c1)c23)c45</td>\n",
              "      <td>FC1=C(F)C(=O)C(=C(F)C1=O)F</td>\n",
              "      <td>1963</td>\n",
              "      <td>weak_bond</td>\n",
              "      <td>1</td>\n",
              "    </tr>\n",
              "    <tr>\n",
              "      <th>4</th>\n",
              "      <td>ANCTNB</td>\n",
              "      <td>Anthracene trinitrobenzene</td>\n",
              "      <td>c1ccc2cc3ccccc3cc2c1</td>\n",
              "      <td>O=N(=O)c1cc(cc(c1)N(=O)=O)N(=O)=O</td>\n",
              "      <td>1964</td>\n",
              "      <td>weak_bond</td>\n",
              "      <td>1</td>\n",
              "    </tr>\n",
              "    <tr>\n",
              "      <th>...</th>\n",
              "      <td>...</td>\n",
              "      <td>...</td>\n",
              "      <td>...</td>\n",
              "      <td>...</td>\n",
              "      <td>...</td>\n",
              "      <td>...</td>\n",
              "      <td>...</td>\n",
              "    </tr>\n",
              "    <tr>\n",
              "      <th>7474</th>\n",
              "      <td>UKITEQ</td>\n",
              "      <td>3-(3,4,5-trimethoxyphenyl)prop-2-enoic acid se...</td>\n",
              "      <td>Cc1cccc2SC(=Nc12)N</td>\n",
              "      <td>COc1cc(C=CC(O)=O)cc(OC)c1OC</td>\n",
              "      <td>2021</td>\n",
              "      <td>h-bond</td>\n",
              "      <td>2</td>\n",
              "    </tr>\n",
              "    <tr>\n",
              "      <th>7475</th>\n",
              "      <td>UKITUG</td>\n",
              "      <td>hemikis(decanedioic acid) 4-methyl-1,3-benzoth...</td>\n",
              "      <td>Cc1cccc2SC(=Nc12)N</td>\n",
              "      <td>OC(=O)CCCCCCCCC(O)=O</td>\n",
              "      <td>2021</td>\n",
              "      <td>h-bond</td>\n",
              "      <td>2</td>\n",
              "    </tr>\n",
              "    <tr>\n",
              "      <th>7476</th>\n",
              "      <td>UKIVIW</td>\n",
              "      <td>4-methyl-1,3-benzothiazol-2-amine hemikis(buta...</td>\n",
              "      <td>Cc1cccc2SC(=Nc12)N</td>\n",
              "      <td>OC(=O)CC(C(CC(O)=O)C(O)=O)C(O)=O</td>\n",
              "      <td>2021</td>\n",
              "      <td>h-bond</td>\n",
              "      <td>2</td>\n",
              "    </tr>\n",
              "    <tr>\n",
              "      <th>7477</th>\n",
              "      <td>ULECEW</td>\n",
              "      <td>4-phenyl-4H-4Ì?åÈ5-phospholo[3,2-b:4,5-b']bist...</td>\n",
              "      <td>O=P1(c2ccccc2)C2=C(SC=C2)C2=C1C=CS2</td>\n",
              "      <td>Oc1c(O)c(Cl)c(Cl)c(Cl)c1Cl</td>\n",
              "      <td>2021</td>\n",
              "      <td>h-bond</td>\n",
              "      <td>2</td>\n",
              "    </tr>\n",
              "    <tr>\n",
              "      <th>7478</th>\n",
              "      <td>ULOLIT</td>\n",
              "      <td>5-[(3,4,5-trimethoxyphenyl)methyl]pyrimidine-2...</td>\n",
              "      <td>COc1cc(Cc2cnc(N)nc2N)cc(OC)c1OC</td>\n",
              "      <td>c1cc(ccn1)N=Nc1ccncc1</td>\n",
              "      <td>2021</td>\n",
              "      <td>h-bond</td>\n",
              "      <td>2</td>\n",
              "    </tr>\n",
              "  </tbody>\n",
              "</table>\n",
              "<p>7479 rows × 7 columns</p>\n",
              "</div>"
            ],
            "text/plain": [
              "      csd_id  ... group\n",
              "0     IANNOB  ...     1\n",
              "1     CLAHMB  ...     1\n",
              "2     MTHMAD  ...     2\n",
              "3     PERFAN  ...     1\n",
              "4     ANCTNB  ...     1\n",
              "...      ...  ...   ...\n",
              "7474  UKITEQ  ...     2\n",
              "7475  UKITUG  ...     2\n",
              "7476  UKIVIW  ...     2\n",
              "7477  ULECEW  ...     2\n",
              "7478  ULOLIT  ...     2\n",
              "\n",
              "[7479 rows x 7 columns]"
            ]
          },
          "execution_count": 10,
          "metadata": {
            "tags": []
          },
          "output_type": "execute_result"
        }
      ]
    },
    {
      "cell_type": "code",
      "metadata": {
        "id": "O7ezRkk-3rbt"
      },
      "source": [
        "def smile_to_paw(smile):\n",
        "  mol = Chem.MolFromSmiles(smile)\n",
        "  return AllChem.GetMorganFingerprintAsBitVect(mol, 2, nBits=4096, useChirality=True)\n",
        "def kat_paws(smiles):\n",
        "  paws = []\n",
        "  for smile in smiles:\n",
        "    paws.append(np.asarray(smile_to_paw(smile)))\n",
        "  return paws\n",
        "\n",
        "def kat_paws_from_df(smiles, prefix):\n",
        "  df = pd.DataFrame(kat_paws(smiles))\n",
        "  columns = [f'{prefix}_{i}' for i in df.columns]\n",
        "  df.columns = columns\n",
        "  return df"
      ],
      "execution_count": null,
      "outputs": []
    },
    {
      "cell_type": "code",
      "metadata": {
        "id": "zxv3Xk_G5H6r"
      },
      "source": [
        "df1 = cocrystals.smiles1.values[:] #dataset1.Smiles1.values[:]\n",
        "df2 = cocrystals.smiles2.values[:] #dataset2.Smiles2.values[:]"
      ],
      "execution_count": null,
      "outputs": []
    },
    {
      "cell_type": "code",
      "metadata": {
        "colab": {
          "background_save": true
        },
        "id": "8WET1zu-5Oka",
        "outputId": "fd13cb8f-d4ff-427f-9e29-e5f7f974e8aa"
      },
      "source": [
        "df_paws = pd.concat([kat_paws_from_df(df1[:], 'paws_1'), kat_paws_from_df(df2[:], 'paws_2')], axis=1)\n",
        "df_paws"
      ],
      "execution_count": null,
      "outputs": [
        {
          "data": {
            "text/html": [
              "<div>\n",
              "<style scoped>\n",
              "    .dataframe tbody tr th:only-of-type {\n",
              "        vertical-align: middle;\n",
              "    }\n",
              "\n",
              "    .dataframe tbody tr th {\n",
              "        vertical-align: top;\n",
              "    }\n",
              "\n",
              "    .dataframe thead th {\n",
              "        text-align: right;\n",
              "    }\n",
              "</style>\n",
              "<table border=\"1\" class=\"dataframe\">\n",
              "  <thead>\n",
              "    <tr style=\"text-align: right;\">\n",
              "      <th></th>\n",
              "      <th>paws_1_0</th>\n",
              "      <th>paws_1_1</th>\n",
              "      <th>paws_1_2</th>\n",
              "      <th>paws_1_3</th>\n",
              "      <th>paws_1_4</th>\n",
              "      <th>paws_1_5</th>\n",
              "      <th>paws_1_6</th>\n",
              "      <th>paws_1_7</th>\n",
              "      <th>paws_1_8</th>\n",
              "      <th>paws_1_9</th>\n",
              "      <th>paws_1_10</th>\n",
              "      <th>paws_1_11</th>\n",
              "      <th>paws_1_12</th>\n",
              "      <th>paws_1_13</th>\n",
              "      <th>paws_1_14</th>\n",
              "      <th>paws_1_15</th>\n",
              "      <th>paws_1_16</th>\n",
              "      <th>paws_1_17</th>\n",
              "      <th>paws_1_18</th>\n",
              "      <th>paws_1_19</th>\n",
              "      <th>paws_1_20</th>\n",
              "      <th>paws_1_21</th>\n",
              "      <th>paws_1_22</th>\n",
              "      <th>paws_1_23</th>\n",
              "      <th>paws_1_24</th>\n",
              "      <th>paws_1_25</th>\n",
              "      <th>paws_1_26</th>\n",
              "      <th>paws_1_27</th>\n",
              "      <th>paws_1_28</th>\n",
              "      <th>paws_1_29</th>\n",
              "      <th>paws_1_30</th>\n",
              "      <th>paws_1_31</th>\n",
              "      <th>paws_1_32</th>\n",
              "      <th>paws_1_33</th>\n",
              "      <th>paws_1_34</th>\n",
              "      <th>paws_1_35</th>\n",
              "      <th>paws_1_36</th>\n",
              "      <th>paws_1_37</th>\n",
              "      <th>paws_1_38</th>\n",
              "      <th>paws_1_39</th>\n",
              "      <th>...</th>\n",
              "      <th>paws_2_4056</th>\n",
              "      <th>paws_2_4057</th>\n",
              "      <th>paws_2_4058</th>\n",
              "      <th>paws_2_4059</th>\n",
              "      <th>paws_2_4060</th>\n",
              "      <th>paws_2_4061</th>\n",
              "      <th>paws_2_4062</th>\n",
              "      <th>paws_2_4063</th>\n",
              "      <th>paws_2_4064</th>\n",
              "      <th>paws_2_4065</th>\n",
              "      <th>paws_2_4066</th>\n",
              "      <th>paws_2_4067</th>\n",
              "      <th>paws_2_4068</th>\n",
              "      <th>paws_2_4069</th>\n",
              "      <th>paws_2_4070</th>\n",
              "      <th>paws_2_4071</th>\n",
              "      <th>paws_2_4072</th>\n",
              "      <th>paws_2_4073</th>\n",
              "      <th>paws_2_4074</th>\n",
              "      <th>paws_2_4075</th>\n",
              "      <th>paws_2_4076</th>\n",
              "      <th>paws_2_4077</th>\n",
              "      <th>paws_2_4078</th>\n",
              "      <th>paws_2_4079</th>\n",
              "      <th>paws_2_4080</th>\n",
              "      <th>paws_2_4081</th>\n",
              "      <th>paws_2_4082</th>\n",
              "      <th>paws_2_4083</th>\n",
              "      <th>paws_2_4084</th>\n",
              "      <th>paws_2_4085</th>\n",
              "      <th>paws_2_4086</th>\n",
              "      <th>paws_2_4087</th>\n",
              "      <th>paws_2_4088</th>\n",
              "      <th>paws_2_4089</th>\n",
              "      <th>paws_2_4090</th>\n",
              "      <th>paws_2_4091</th>\n",
              "      <th>paws_2_4092</th>\n",
              "      <th>paws_2_4093</th>\n",
              "      <th>paws_2_4094</th>\n",
              "      <th>paws_2_4095</th>\n",
              "    </tr>\n",
              "  </thead>\n",
              "  <tbody>\n",
              "    <tr>\n",
              "      <th>0</th>\n",
              "      <td>0</td>\n",
              "      <td>0</td>\n",
              "      <td>0</td>\n",
              "      <td>0</td>\n",
              "      <td>0</td>\n",
              "      <td>0</td>\n",
              "      <td>0</td>\n",
              "      <td>0</td>\n",
              "      <td>0</td>\n",
              "      <td>0</td>\n",
              "      <td>0</td>\n",
              "      <td>0</td>\n",
              "      <td>0</td>\n",
              "      <td>0</td>\n",
              "      <td>0</td>\n",
              "      <td>0</td>\n",
              "      <td>0</td>\n",
              "      <td>0</td>\n",
              "      <td>0</td>\n",
              "      <td>0</td>\n",
              "      <td>0</td>\n",
              "      <td>0</td>\n",
              "      <td>0</td>\n",
              "      <td>0</td>\n",
              "      <td>0</td>\n",
              "      <td>0</td>\n",
              "      <td>0</td>\n",
              "      <td>0</td>\n",
              "      <td>0</td>\n",
              "      <td>0</td>\n",
              "      <td>0</td>\n",
              "      <td>0</td>\n",
              "      <td>0</td>\n",
              "      <td>0</td>\n",
              "      <td>0</td>\n",
              "      <td>0</td>\n",
              "      <td>0</td>\n",
              "      <td>0</td>\n",
              "      <td>0</td>\n",
              "      <td>0</td>\n",
              "      <td>...</td>\n",
              "      <td>0</td>\n",
              "      <td>0</td>\n",
              "      <td>0</td>\n",
              "      <td>0</td>\n",
              "      <td>0</td>\n",
              "      <td>0</td>\n",
              "      <td>0</td>\n",
              "      <td>0</td>\n",
              "      <td>0</td>\n",
              "      <td>0</td>\n",
              "      <td>0</td>\n",
              "      <td>0</td>\n",
              "      <td>0</td>\n",
              "      <td>0</td>\n",
              "      <td>0</td>\n",
              "      <td>0</td>\n",
              "      <td>0</td>\n",
              "      <td>0</td>\n",
              "      <td>0</td>\n",
              "      <td>0</td>\n",
              "      <td>0</td>\n",
              "      <td>0</td>\n",
              "      <td>0</td>\n",
              "      <td>0</td>\n",
              "      <td>0</td>\n",
              "      <td>0</td>\n",
              "      <td>0</td>\n",
              "      <td>0</td>\n",
              "      <td>0</td>\n",
              "      <td>0</td>\n",
              "      <td>0</td>\n",
              "      <td>0</td>\n",
              "      <td>0</td>\n",
              "      <td>0</td>\n",
              "      <td>0</td>\n",
              "      <td>0</td>\n",
              "      <td>0</td>\n",
              "      <td>0</td>\n",
              "      <td>0</td>\n",
              "      <td>0</td>\n",
              "    </tr>\n",
              "    <tr>\n",
              "      <th>1</th>\n",
              "      <td>0</td>\n",
              "      <td>0</td>\n",
              "      <td>0</td>\n",
              "      <td>0</td>\n",
              "      <td>0</td>\n",
              "      <td>0</td>\n",
              "      <td>0</td>\n",
              "      <td>0</td>\n",
              "      <td>0</td>\n",
              "      <td>0</td>\n",
              "      <td>0</td>\n",
              "      <td>0</td>\n",
              "      <td>0</td>\n",
              "      <td>0</td>\n",
              "      <td>0</td>\n",
              "      <td>0</td>\n",
              "      <td>0</td>\n",
              "      <td>0</td>\n",
              "      <td>0</td>\n",
              "      <td>0</td>\n",
              "      <td>0</td>\n",
              "      <td>0</td>\n",
              "      <td>0</td>\n",
              "      <td>0</td>\n",
              "      <td>0</td>\n",
              "      <td>0</td>\n",
              "      <td>0</td>\n",
              "      <td>0</td>\n",
              "      <td>0</td>\n",
              "      <td>0</td>\n",
              "      <td>0</td>\n",
              "      <td>0</td>\n",
              "      <td>0</td>\n",
              "      <td>0</td>\n",
              "      <td>0</td>\n",
              "      <td>0</td>\n",
              "      <td>0</td>\n",
              "      <td>0</td>\n",
              "      <td>0</td>\n",
              "      <td>0</td>\n",
              "      <td>...</td>\n",
              "      <td>0</td>\n",
              "      <td>0</td>\n",
              "      <td>0</td>\n",
              "      <td>0</td>\n",
              "      <td>0</td>\n",
              "      <td>0</td>\n",
              "      <td>0</td>\n",
              "      <td>0</td>\n",
              "      <td>0</td>\n",
              "      <td>0</td>\n",
              "      <td>0</td>\n",
              "      <td>0</td>\n",
              "      <td>0</td>\n",
              "      <td>0</td>\n",
              "      <td>0</td>\n",
              "      <td>0</td>\n",
              "      <td>0</td>\n",
              "      <td>0</td>\n",
              "      <td>0</td>\n",
              "      <td>0</td>\n",
              "      <td>0</td>\n",
              "      <td>0</td>\n",
              "      <td>0</td>\n",
              "      <td>0</td>\n",
              "      <td>0</td>\n",
              "      <td>0</td>\n",
              "      <td>0</td>\n",
              "      <td>0</td>\n",
              "      <td>0</td>\n",
              "      <td>0</td>\n",
              "      <td>0</td>\n",
              "      <td>0</td>\n",
              "      <td>0</td>\n",
              "      <td>0</td>\n",
              "      <td>0</td>\n",
              "      <td>0</td>\n",
              "      <td>0</td>\n",
              "      <td>0</td>\n",
              "      <td>0</td>\n",
              "      <td>0</td>\n",
              "    </tr>\n",
              "    <tr>\n",
              "      <th>2</th>\n",
              "      <td>0</td>\n",
              "      <td>0</td>\n",
              "      <td>0</td>\n",
              "      <td>0</td>\n",
              "      <td>0</td>\n",
              "      <td>0</td>\n",
              "      <td>0</td>\n",
              "      <td>0</td>\n",
              "      <td>0</td>\n",
              "      <td>0</td>\n",
              "      <td>0</td>\n",
              "      <td>0</td>\n",
              "      <td>0</td>\n",
              "      <td>0</td>\n",
              "      <td>0</td>\n",
              "      <td>0</td>\n",
              "      <td>0</td>\n",
              "      <td>0</td>\n",
              "      <td>0</td>\n",
              "      <td>0</td>\n",
              "      <td>0</td>\n",
              "      <td>0</td>\n",
              "      <td>0</td>\n",
              "      <td>0</td>\n",
              "      <td>0</td>\n",
              "      <td>0</td>\n",
              "      <td>0</td>\n",
              "      <td>0</td>\n",
              "      <td>0</td>\n",
              "      <td>0</td>\n",
              "      <td>0</td>\n",
              "      <td>0</td>\n",
              "      <td>0</td>\n",
              "      <td>0</td>\n",
              "      <td>0</td>\n",
              "      <td>0</td>\n",
              "      <td>0</td>\n",
              "      <td>0</td>\n",
              "      <td>0</td>\n",
              "      <td>0</td>\n",
              "      <td>...</td>\n",
              "      <td>0</td>\n",
              "      <td>0</td>\n",
              "      <td>0</td>\n",
              "      <td>0</td>\n",
              "      <td>0</td>\n",
              "      <td>0</td>\n",
              "      <td>0</td>\n",
              "      <td>0</td>\n",
              "      <td>0</td>\n",
              "      <td>0</td>\n",
              "      <td>0</td>\n",
              "      <td>0</td>\n",
              "      <td>0</td>\n",
              "      <td>0</td>\n",
              "      <td>0</td>\n",
              "      <td>0</td>\n",
              "      <td>0</td>\n",
              "      <td>0</td>\n",
              "      <td>0</td>\n",
              "      <td>0</td>\n",
              "      <td>0</td>\n",
              "      <td>0</td>\n",
              "      <td>0</td>\n",
              "      <td>0</td>\n",
              "      <td>0</td>\n",
              "      <td>0</td>\n",
              "      <td>0</td>\n",
              "      <td>0</td>\n",
              "      <td>0</td>\n",
              "      <td>0</td>\n",
              "      <td>0</td>\n",
              "      <td>0</td>\n",
              "      <td>0</td>\n",
              "      <td>0</td>\n",
              "      <td>0</td>\n",
              "      <td>0</td>\n",
              "      <td>0</td>\n",
              "      <td>0</td>\n",
              "      <td>0</td>\n",
              "      <td>0</td>\n",
              "    </tr>\n",
              "    <tr>\n",
              "      <th>3</th>\n",
              "      <td>0</td>\n",
              "      <td>0</td>\n",
              "      <td>0</td>\n",
              "      <td>0</td>\n",
              "      <td>0</td>\n",
              "      <td>0</td>\n",
              "      <td>0</td>\n",
              "      <td>0</td>\n",
              "      <td>0</td>\n",
              "      <td>0</td>\n",
              "      <td>0</td>\n",
              "      <td>0</td>\n",
              "      <td>0</td>\n",
              "      <td>0</td>\n",
              "      <td>0</td>\n",
              "      <td>0</td>\n",
              "      <td>0</td>\n",
              "      <td>0</td>\n",
              "      <td>0</td>\n",
              "      <td>0</td>\n",
              "      <td>0</td>\n",
              "      <td>0</td>\n",
              "      <td>0</td>\n",
              "      <td>0</td>\n",
              "      <td>0</td>\n",
              "      <td>0</td>\n",
              "      <td>0</td>\n",
              "      <td>0</td>\n",
              "      <td>0</td>\n",
              "      <td>0</td>\n",
              "      <td>0</td>\n",
              "      <td>0</td>\n",
              "      <td>0</td>\n",
              "      <td>0</td>\n",
              "      <td>0</td>\n",
              "      <td>0</td>\n",
              "      <td>0</td>\n",
              "      <td>0</td>\n",
              "      <td>0</td>\n",
              "      <td>0</td>\n",
              "      <td>...</td>\n",
              "      <td>0</td>\n",
              "      <td>0</td>\n",
              "      <td>0</td>\n",
              "      <td>0</td>\n",
              "      <td>0</td>\n",
              "      <td>0</td>\n",
              "      <td>0</td>\n",
              "      <td>0</td>\n",
              "      <td>0</td>\n",
              "      <td>0</td>\n",
              "      <td>0</td>\n",
              "      <td>0</td>\n",
              "      <td>0</td>\n",
              "      <td>0</td>\n",
              "      <td>0</td>\n",
              "      <td>0</td>\n",
              "      <td>0</td>\n",
              "      <td>0</td>\n",
              "      <td>0</td>\n",
              "      <td>0</td>\n",
              "      <td>0</td>\n",
              "      <td>0</td>\n",
              "      <td>0</td>\n",
              "      <td>0</td>\n",
              "      <td>0</td>\n",
              "      <td>0</td>\n",
              "      <td>0</td>\n",
              "      <td>0</td>\n",
              "      <td>0</td>\n",
              "      <td>0</td>\n",
              "      <td>0</td>\n",
              "      <td>0</td>\n",
              "      <td>0</td>\n",
              "      <td>0</td>\n",
              "      <td>0</td>\n",
              "      <td>0</td>\n",
              "      <td>0</td>\n",
              "      <td>0</td>\n",
              "      <td>0</td>\n",
              "      <td>0</td>\n",
              "    </tr>\n",
              "    <tr>\n",
              "      <th>4</th>\n",
              "      <td>0</td>\n",
              "      <td>0</td>\n",
              "      <td>0</td>\n",
              "      <td>0</td>\n",
              "      <td>0</td>\n",
              "      <td>0</td>\n",
              "      <td>0</td>\n",
              "      <td>0</td>\n",
              "      <td>0</td>\n",
              "      <td>0</td>\n",
              "      <td>0</td>\n",
              "      <td>0</td>\n",
              "      <td>0</td>\n",
              "      <td>0</td>\n",
              "      <td>0</td>\n",
              "      <td>0</td>\n",
              "      <td>0</td>\n",
              "      <td>0</td>\n",
              "      <td>0</td>\n",
              "      <td>0</td>\n",
              "      <td>0</td>\n",
              "      <td>0</td>\n",
              "      <td>0</td>\n",
              "      <td>0</td>\n",
              "      <td>0</td>\n",
              "      <td>0</td>\n",
              "      <td>0</td>\n",
              "      <td>0</td>\n",
              "      <td>0</td>\n",
              "      <td>0</td>\n",
              "      <td>0</td>\n",
              "      <td>0</td>\n",
              "      <td>0</td>\n",
              "      <td>0</td>\n",
              "      <td>0</td>\n",
              "      <td>0</td>\n",
              "      <td>0</td>\n",
              "      <td>0</td>\n",
              "      <td>0</td>\n",
              "      <td>0</td>\n",
              "      <td>...</td>\n",
              "      <td>0</td>\n",
              "      <td>0</td>\n",
              "      <td>0</td>\n",
              "      <td>0</td>\n",
              "      <td>0</td>\n",
              "      <td>0</td>\n",
              "      <td>0</td>\n",
              "      <td>0</td>\n",
              "      <td>0</td>\n",
              "      <td>0</td>\n",
              "      <td>0</td>\n",
              "      <td>0</td>\n",
              "      <td>0</td>\n",
              "      <td>0</td>\n",
              "      <td>0</td>\n",
              "      <td>0</td>\n",
              "      <td>0</td>\n",
              "      <td>0</td>\n",
              "      <td>0</td>\n",
              "      <td>0</td>\n",
              "      <td>0</td>\n",
              "      <td>0</td>\n",
              "      <td>0</td>\n",
              "      <td>0</td>\n",
              "      <td>0</td>\n",
              "      <td>0</td>\n",
              "      <td>0</td>\n",
              "      <td>0</td>\n",
              "      <td>0</td>\n",
              "      <td>0</td>\n",
              "      <td>0</td>\n",
              "      <td>0</td>\n",
              "      <td>0</td>\n",
              "      <td>0</td>\n",
              "      <td>0</td>\n",
              "      <td>0</td>\n",
              "      <td>0</td>\n",
              "      <td>0</td>\n",
              "      <td>0</td>\n",
              "      <td>0</td>\n",
              "    </tr>\n",
              "    <tr>\n",
              "      <th>...</th>\n",
              "      <td>...</td>\n",
              "      <td>...</td>\n",
              "      <td>...</td>\n",
              "      <td>...</td>\n",
              "      <td>...</td>\n",
              "      <td>...</td>\n",
              "      <td>...</td>\n",
              "      <td>...</td>\n",
              "      <td>...</td>\n",
              "      <td>...</td>\n",
              "      <td>...</td>\n",
              "      <td>...</td>\n",
              "      <td>...</td>\n",
              "      <td>...</td>\n",
              "      <td>...</td>\n",
              "      <td>...</td>\n",
              "      <td>...</td>\n",
              "      <td>...</td>\n",
              "      <td>...</td>\n",
              "      <td>...</td>\n",
              "      <td>...</td>\n",
              "      <td>...</td>\n",
              "      <td>...</td>\n",
              "      <td>...</td>\n",
              "      <td>...</td>\n",
              "      <td>...</td>\n",
              "      <td>...</td>\n",
              "      <td>...</td>\n",
              "      <td>...</td>\n",
              "      <td>...</td>\n",
              "      <td>...</td>\n",
              "      <td>...</td>\n",
              "      <td>...</td>\n",
              "      <td>...</td>\n",
              "      <td>...</td>\n",
              "      <td>...</td>\n",
              "      <td>...</td>\n",
              "      <td>...</td>\n",
              "      <td>...</td>\n",
              "      <td>...</td>\n",
              "      <td>...</td>\n",
              "      <td>...</td>\n",
              "      <td>...</td>\n",
              "      <td>...</td>\n",
              "      <td>...</td>\n",
              "      <td>...</td>\n",
              "      <td>...</td>\n",
              "      <td>...</td>\n",
              "      <td>...</td>\n",
              "      <td>...</td>\n",
              "      <td>...</td>\n",
              "      <td>...</td>\n",
              "      <td>...</td>\n",
              "      <td>...</td>\n",
              "      <td>...</td>\n",
              "      <td>...</td>\n",
              "      <td>...</td>\n",
              "      <td>...</td>\n",
              "      <td>...</td>\n",
              "      <td>...</td>\n",
              "      <td>...</td>\n",
              "      <td>...</td>\n",
              "      <td>...</td>\n",
              "      <td>...</td>\n",
              "      <td>...</td>\n",
              "      <td>...</td>\n",
              "      <td>...</td>\n",
              "      <td>...</td>\n",
              "      <td>...</td>\n",
              "      <td>...</td>\n",
              "      <td>...</td>\n",
              "      <td>...</td>\n",
              "      <td>...</td>\n",
              "      <td>...</td>\n",
              "      <td>...</td>\n",
              "      <td>...</td>\n",
              "      <td>...</td>\n",
              "      <td>...</td>\n",
              "      <td>...</td>\n",
              "      <td>...</td>\n",
              "      <td>...</td>\n",
              "    </tr>\n",
              "    <tr>\n",
              "      <th>7474</th>\n",
              "      <td>0</td>\n",
              "      <td>0</td>\n",
              "      <td>0</td>\n",
              "      <td>0</td>\n",
              "      <td>0</td>\n",
              "      <td>0</td>\n",
              "      <td>0</td>\n",
              "      <td>0</td>\n",
              "      <td>0</td>\n",
              "      <td>0</td>\n",
              "      <td>0</td>\n",
              "      <td>0</td>\n",
              "      <td>0</td>\n",
              "      <td>0</td>\n",
              "      <td>0</td>\n",
              "      <td>0</td>\n",
              "      <td>0</td>\n",
              "      <td>0</td>\n",
              "      <td>0</td>\n",
              "      <td>0</td>\n",
              "      <td>0</td>\n",
              "      <td>0</td>\n",
              "      <td>0</td>\n",
              "      <td>0</td>\n",
              "      <td>0</td>\n",
              "      <td>0</td>\n",
              "      <td>0</td>\n",
              "      <td>0</td>\n",
              "      <td>0</td>\n",
              "      <td>0</td>\n",
              "      <td>0</td>\n",
              "      <td>0</td>\n",
              "      <td>0</td>\n",
              "      <td>0</td>\n",
              "      <td>0</td>\n",
              "      <td>0</td>\n",
              "      <td>0</td>\n",
              "      <td>0</td>\n",
              "      <td>0</td>\n",
              "      <td>0</td>\n",
              "      <td>...</td>\n",
              "      <td>0</td>\n",
              "      <td>0</td>\n",
              "      <td>0</td>\n",
              "      <td>0</td>\n",
              "      <td>0</td>\n",
              "      <td>0</td>\n",
              "      <td>0</td>\n",
              "      <td>0</td>\n",
              "      <td>0</td>\n",
              "      <td>0</td>\n",
              "      <td>0</td>\n",
              "      <td>0</td>\n",
              "      <td>0</td>\n",
              "      <td>0</td>\n",
              "      <td>0</td>\n",
              "      <td>0</td>\n",
              "      <td>0</td>\n",
              "      <td>0</td>\n",
              "      <td>0</td>\n",
              "      <td>0</td>\n",
              "      <td>0</td>\n",
              "      <td>0</td>\n",
              "      <td>0</td>\n",
              "      <td>0</td>\n",
              "      <td>0</td>\n",
              "      <td>0</td>\n",
              "      <td>0</td>\n",
              "      <td>0</td>\n",
              "      <td>0</td>\n",
              "      <td>0</td>\n",
              "      <td>0</td>\n",
              "      <td>0</td>\n",
              "      <td>0</td>\n",
              "      <td>0</td>\n",
              "      <td>0</td>\n",
              "      <td>0</td>\n",
              "      <td>0</td>\n",
              "      <td>0</td>\n",
              "      <td>0</td>\n",
              "      <td>0</td>\n",
              "    </tr>\n",
              "    <tr>\n",
              "      <th>7475</th>\n",
              "      <td>0</td>\n",
              "      <td>0</td>\n",
              "      <td>0</td>\n",
              "      <td>0</td>\n",
              "      <td>0</td>\n",
              "      <td>0</td>\n",
              "      <td>0</td>\n",
              "      <td>0</td>\n",
              "      <td>0</td>\n",
              "      <td>0</td>\n",
              "      <td>0</td>\n",
              "      <td>0</td>\n",
              "      <td>0</td>\n",
              "      <td>0</td>\n",
              "      <td>0</td>\n",
              "      <td>0</td>\n",
              "      <td>0</td>\n",
              "      <td>0</td>\n",
              "      <td>0</td>\n",
              "      <td>0</td>\n",
              "      <td>0</td>\n",
              "      <td>0</td>\n",
              "      <td>0</td>\n",
              "      <td>0</td>\n",
              "      <td>0</td>\n",
              "      <td>0</td>\n",
              "      <td>0</td>\n",
              "      <td>0</td>\n",
              "      <td>0</td>\n",
              "      <td>0</td>\n",
              "      <td>0</td>\n",
              "      <td>0</td>\n",
              "      <td>0</td>\n",
              "      <td>0</td>\n",
              "      <td>0</td>\n",
              "      <td>0</td>\n",
              "      <td>0</td>\n",
              "      <td>0</td>\n",
              "      <td>0</td>\n",
              "      <td>0</td>\n",
              "      <td>...</td>\n",
              "      <td>0</td>\n",
              "      <td>0</td>\n",
              "      <td>0</td>\n",
              "      <td>0</td>\n",
              "      <td>0</td>\n",
              "      <td>0</td>\n",
              "      <td>0</td>\n",
              "      <td>0</td>\n",
              "      <td>0</td>\n",
              "      <td>0</td>\n",
              "      <td>0</td>\n",
              "      <td>0</td>\n",
              "      <td>0</td>\n",
              "      <td>0</td>\n",
              "      <td>0</td>\n",
              "      <td>0</td>\n",
              "      <td>0</td>\n",
              "      <td>0</td>\n",
              "      <td>0</td>\n",
              "      <td>0</td>\n",
              "      <td>0</td>\n",
              "      <td>0</td>\n",
              "      <td>0</td>\n",
              "      <td>0</td>\n",
              "      <td>0</td>\n",
              "      <td>0</td>\n",
              "      <td>0</td>\n",
              "      <td>0</td>\n",
              "      <td>0</td>\n",
              "      <td>0</td>\n",
              "      <td>0</td>\n",
              "      <td>0</td>\n",
              "      <td>0</td>\n",
              "      <td>0</td>\n",
              "      <td>0</td>\n",
              "      <td>0</td>\n",
              "      <td>0</td>\n",
              "      <td>0</td>\n",
              "      <td>0</td>\n",
              "      <td>0</td>\n",
              "    </tr>\n",
              "    <tr>\n",
              "      <th>7476</th>\n",
              "      <td>0</td>\n",
              "      <td>0</td>\n",
              "      <td>0</td>\n",
              "      <td>0</td>\n",
              "      <td>0</td>\n",
              "      <td>0</td>\n",
              "      <td>0</td>\n",
              "      <td>0</td>\n",
              "      <td>0</td>\n",
              "      <td>0</td>\n",
              "      <td>0</td>\n",
              "      <td>0</td>\n",
              "      <td>0</td>\n",
              "      <td>0</td>\n",
              "      <td>0</td>\n",
              "      <td>0</td>\n",
              "      <td>0</td>\n",
              "      <td>0</td>\n",
              "      <td>0</td>\n",
              "      <td>0</td>\n",
              "      <td>0</td>\n",
              "      <td>0</td>\n",
              "      <td>0</td>\n",
              "      <td>0</td>\n",
              "      <td>0</td>\n",
              "      <td>0</td>\n",
              "      <td>0</td>\n",
              "      <td>0</td>\n",
              "      <td>0</td>\n",
              "      <td>0</td>\n",
              "      <td>0</td>\n",
              "      <td>0</td>\n",
              "      <td>0</td>\n",
              "      <td>0</td>\n",
              "      <td>0</td>\n",
              "      <td>0</td>\n",
              "      <td>0</td>\n",
              "      <td>0</td>\n",
              "      <td>0</td>\n",
              "      <td>0</td>\n",
              "      <td>...</td>\n",
              "      <td>0</td>\n",
              "      <td>0</td>\n",
              "      <td>0</td>\n",
              "      <td>0</td>\n",
              "      <td>0</td>\n",
              "      <td>0</td>\n",
              "      <td>0</td>\n",
              "      <td>0</td>\n",
              "      <td>0</td>\n",
              "      <td>0</td>\n",
              "      <td>0</td>\n",
              "      <td>0</td>\n",
              "      <td>0</td>\n",
              "      <td>0</td>\n",
              "      <td>0</td>\n",
              "      <td>0</td>\n",
              "      <td>0</td>\n",
              "      <td>0</td>\n",
              "      <td>0</td>\n",
              "      <td>0</td>\n",
              "      <td>0</td>\n",
              "      <td>0</td>\n",
              "      <td>0</td>\n",
              "      <td>0</td>\n",
              "      <td>0</td>\n",
              "      <td>0</td>\n",
              "      <td>0</td>\n",
              "      <td>0</td>\n",
              "      <td>0</td>\n",
              "      <td>0</td>\n",
              "      <td>0</td>\n",
              "      <td>0</td>\n",
              "      <td>0</td>\n",
              "      <td>0</td>\n",
              "      <td>0</td>\n",
              "      <td>0</td>\n",
              "      <td>0</td>\n",
              "      <td>0</td>\n",
              "      <td>0</td>\n",
              "      <td>0</td>\n",
              "    </tr>\n",
              "    <tr>\n",
              "      <th>7477</th>\n",
              "      <td>0</td>\n",
              "      <td>0</td>\n",
              "      <td>0</td>\n",
              "      <td>0</td>\n",
              "      <td>0</td>\n",
              "      <td>0</td>\n",
              "      <td>0</td>\n",
              "      <td>0</td>\n",
              "      <td>0</td>\n",
              "      <td>0</td>\n",
              "      <td>0</td>\n",
              "      <td>0</td>\n",
              "      <td>0</td>\n",
              "      <td>0</td>\n",
              "      <td>0</td>\n",
              "      <td>0</td>\n",
              "      <td>0</td>\n",
              "      <td>0</td>\n",
              "      <td>0</td>\n",
              "      <td>0</td>\n",
              "      <td>0</td>\n",
              "      <td>0</td>\n",
              "      <td>0</td>\n",
              "      <td>0</td>\n",
              "      <td>0</td>\n",
              "      <td>0</td>\n",
              "      <td>0</td>\n",
              "      <td>0</td>\n",
              "      <td>0</td>\n",
              "      <td>0</td>\n",
              "      <td>0</td>\n",
              "      <td>0</td>\n",
              "      <td>0</td>\n",
              "      <td>0</td>\n",
              "      <td>0</td>\n",
              "      <td>0</td>\n",
              "      <td>0</td>\n",
              "      <td>0</td>\n",
              "      <td>0</td>\n",
              "      <td>0</td>\n",
              "      <td>...</td>\n",
              "      <td>0</td>\n",
              "      <td>0</td>\n",
              "      <td>0</td>\n",
              "      <td>0</td>\n",
              "      <td>0</td>\n",
              "      <td>0</td>\n",
              "      <td>0</td>\n",
              "      <td>0</td>\n",
              "      <td>0</td>\n",
              "      <td>0</td>\n",
              "      <td>0</td>\n",
              "      <td>0</td>\n",
              "      <td>0</td>\n",
              "      <td>0</td>\n",
              "      <td>0</td>\n",
              "      <td>0</td>\n",
              "      <td>0</td>\n",
              "      <td>0</td>\n",
              "      <td>0</td>\n",
              "      <td>0</td>\n",
              "      <td>0</td>\n",
              "      <td>0</td>\n",
              "      <td>0</td>\n",
              "      <td>0</td>\n",
              "      <td>0</td>\n",
              "      <td>0</td>\n",
              "      <td>0</td>\n",
              "      <td>0</td>\n",
              "      <td>0</td>\n",
              "      <td>0</td>\n",
              "      <td>0</td>\n",
              "      <td>0</td>\n",
              "      <td>0</td>\n",
              "      <td>0</td>\n",
              "      <td>0</td>\n",
              "      <td>0</td>\n",
              "      <td>0</td>\n",
              "      <td>0</td>\n",
              "      <td>0</td>\n",
              "      <td>0</td>\n",
              "    </tr>\n",
              "    <tr>\n",
              "      <th>7478</th>\n",
              "      <td>0</td>\n",
              "      <td>0</td>\n",
              "      <td>0</td>\n",
              "      <td>0</td>\n",
              "      <td>0</td>\n",
              "      <td>0</td>\n",
              "      <td>0</td>\n",
              "      <td>0</td>\n",
              "      <td>0</td>\n",
              "      <td>0</td>\n",
              "      <td>0</td>\n",
              "      <td>0</td>\n",
              "      <td>0</td>\n",
              "      <td>0</td>\n",
              "      <td>0</td>\n",
              "      <td>0</td>\n",
              "      <td>0</td>\n",
              "      <td>0</td>\n",
              "      <td>0</td>\n",
              "      <td>0</td>\n",
              "      <td>0</td>\n",
              "      <td>0</td>\n",
              "      <td>0</td>\n",
              "      <td>0</td>\n",
              "      <td>0</td>\n",
              "      <td>0</td>\n",
              "      <td>0</td>\n",
              "      <td>0</td>\n",
              "      <td>0</td>\n",
              "      <td>0</td>\n",
              "      <td>0</td>\n",
              "      <td>0</td>\n",
              "      <td>0</td>\n",
              "      <td>0</td>\n",
              "      <td>0</td>\n",
              "      <td>0</td>\n",
              "      <td>0</td>\n",
              "      <td>0</td>\n",
              "      <td>0</td>\n",
              "      <td>0</td>\n",
              "      <td>...</td>\n",
              "      <td>0</td>\n",
              "      <td>0</td>\n",
              "      <td>0</td>\n",
              "      <td>0</td>\n",
              "      <td>0</td>\n",
              "      <td>0</td>\n",
              "      <td>0</td>\n",
              "      <td>0</td>\n",
              "      <td>0</td>\n",
              "      <td>0</td>\n",
              "      <td>0</td>\n",
              "      <td>0</td>\n",
              "      <td>0</td>\n",
              "      <td>0</td>\n",
              "      <td>0</td>\n",
              "      <td>0</td>\n",
              "      <td>0</td>\n",
              "      <td>0</td>\n",
              "      <td>0</td>\n",
              "      <td>0</td>\n",
              "      <td>0</td>\n",
              "      <td>0</td>\n",
              "      <td>0</td>\n",
              "      <td>0</td>\n",
              "      <td>0</td>\n",
              "      <td>0</td>\n",
              "      <td>0</td>\n",
              "      <td>0</td>\n",
              "      <td>0</td>\n",
              "      <td>0</td>\n",
              "      <td>0</td>\n",
              "      <td>0</td>\n",
              "      <td>0</td>\n",
              "      <td>0</td>\n",
              "      <td>0</td>\n",
              "      <td>0</td>\n",
              "      <td>0</td>\n",
              "      <td>0</td>\n",
              "      <td>0</td>\n",
              "      <td>0</td>\n",
              "    </tr>\n",
              "  </tbody>\n",
              "</table>\n",
              "<p>7479 rows × 8192 columns</p>\n",
              "</div>"
            ],
            "text/plain": [
              "      paws_1_0  paws_1_1  paws_1_2  ...  paws_2_4093  paws_2_4094  paws_2_4095\n",
              "0            0         0         0  ...            0            0            0\n",
              "1            0         0         0  ...            0            0            0\n",
              "2            0         0         0  ...            0            0            0\n",
              "3            0         0         0  ...            0            0            0\n",
              "4            0         0         0  ...            0            0            0\n",
              "...        ...       ...       ...  ...          ...          ...          ...\n",
              "7474         0         0         0  ...            0            0            0\n",
              "7475         0         0         0  ...            0            0            0\n",
              "7476         0         0         0  ...            0            0            0\n",
              "7477         0         0         0  ...            0            0            0\n",
              "7478         0         0         0  ...            0            0            0\n",
              "\n",
              "[7479 rows x 8192 columns]"
            ]
          },
          "execution_count": null,
          "metadata": {},
          "output_type": "execute_result"
        }
      ]
    },
    {
      "cell_type": "code",
      "metadata": {
        "colab": {
          "base_uri": "https://localhost:8080/"
        },
        "id": "gXdDxh__5TNL",
        "outputId": "b206f6b0-a529-4a88-aee7-6c439edcb353"
      },
      "source": [
        "!pip install umap-learn"
      ],
      "execution_count": null,
      "outputs": [
        {
          "name": "stdout",
          "output_type": "stream",
          "text": [
            "Collecting umap-learn\n",
            "\u001b[?25l  Downloading https://files.pythonhosted.org/packages/75/69/85e7f950bb75792ad5d666d86c5f3e62eedbb942848e7e3126513af9999c/umap-learn-0.5.1.tar.gz (80kB)\n",
            "\u001b[K     |████████████████████████████████| 81kB 3.7MB/s \n",
            "\u001b[?25hRequirement already satisfied: numpy>=1.17 in /usr/local/lib/python3.7/dist-packages (from umap-learn) (1.19.5)\n",
            "Requirement already satisfied: scikit-learn>=0.22 in /usr/local/lib/python3.7/dist-packages (from umap-learn) (0.22.2.post1)\n",
            "Requirement already satisfied: scipy>=1.0 in /usr/local/lib/python3.7/dist-packages (from umap-learn) (1.4.1)\n",
            "Requirement already satisfied: numba>=0.49 in /usr/local/lib/python3.7/dist-packages (from umap-learn) (0.51.2)\n",
            "Collecting pynndescent>=0.5\n",
            "\u001b[?25l  Downloading https://files.pythonhosted.org/packages/b1/8d/44bf1c9e69dd9bf0697a3b9375b0729942525c0eee7b7859f563439d676a/pynndescent-0.5.4.tar.gz (1.1MB)\n",
            "\u001b[K     |████████████████████████████████| 1.1MB 8.5MB/s \n",
            "\u001b[?25hRequirement already satisfied: joblib>=0.11 in /usr/local/lib/python3.7/dist-packages (from scikit-learn>=0.22->umap-learn) (1.0.1)\n",
            "Requirement already satisfied: llvmlite<0.35,>=0.34.0.dev0 in /usr/local/lib/python3.7/dist-packages (from numba>=0.49->umap-learn) (0.34.0)\n",
            "Requirement already satisfied: setuptools in /usr/local/lib/python3.7/dist-packages (from numba>=0.49->umap-learn) (57.0.0)\n",
            "Building wheels for collected packages: umap-learn, pynndescent\n",
            "  Building wheel for umap-learn (setup.py) ... \u001b[?25l\u001b[?25hdone\n",
            "  Created wheel for umap-learn: filename=umap_learn-0.5.1-cp37-none-any.whl size=76569 sha256=697ec7079a935574613feb14d56a3934e109395cdc6e69640771f11bf8166616\n",
            "  Stored in directory: /root/.cache/pip/wheels/ad/df/d5/a3691296ff779f25cd1cf415a3af954b987fb53111e3392cf4\n",
            "  Building wheel for pynndescent (setup.py) ... \u001b[?25l\u001b[?25hdone\n",
            "  Created wheel for pynndescent: filename=pynndescent-0.5.4-cp37-none-any.whl size=52374 sha256=59efbb200c09d5ae55704acf8d6bbb457751e044c6f3a6c53074f13760e5fef9\n",
            "  Stored in directory: /root/.cache/pip/wheels/42/4b/8c/f6f119c67cf6583bb192431fa8f7278cf95e5b943055077d94\n",
            "Successfully built umap-learn pynndescent\n",
            "Installing collected packages: pynndescent, umap-learn\n",
            "Successfully installed pynndescent-0.5.4 umap-learn-0.5.1\n"
          ]
        }
      ]
    },
    {
      "cell_type": "code",
      "metadata": {
        "id": "pTbDI04t5i62"
      },
      "source": [
        "import umap"
      ],
      "execution_count": null,
      "outputs": []
    },
    {
      "cell_type": "code",
      "metadata": {
        "id": "HMZZPlvYside"
      },
      "source": [
        "def tanimoto_dist(a,b):\n",
        "    dotprod = np.dot(a,b)\n",
        "    tc = dotprod / (np.sum(a) + np.sum(b) - dotprod)\n",
        "    return 1.0-tc"
      ],
      "execution_count": null,
      "outputs": []
    },
    {
      "cell_type": "code",
      "metadata": {
        "colab": {
          "base_uri": "https://localhost:8080/"
        },
        "id": "2I81EQEe5YR9",
        "outputId": "64022ffa-836a-4e69-8a30-b9bd0940d8cc"
      },
      "source": [
        "umap_model_global = umap.UMAP(metric = tanimoto_dist ,# \"jaccard\",\n",
        "                      n_neighbors = 15, min_dist=0.8)\n",
        "X_umap_global = umap_model_global.fit_transform(df_paws.values)"
      ],
      "execution_count": null,
      "outputs": [
        {
          "name": "stderr",
          "output_type": "stream",
          "text": [
            "/usr/local/lib/python3.7/dist-packages/umap/umap_.py:1762: UserWarning: gradient function is not yet implemented for jaccard distance metric; inverse_transform will be unavailable\n",
            "  \"inverse_transform will be unavailable\".format(self.metric)\n"
          ]
        }
      ]
    },
    {
      "cell_type": "code",
      "metadata": {
        "id": "Vb7Ai_Bb8qzM"
      },
      "source": [
        "#from sklearn.manifold import TSNE\n",
        "\n",
        "#X_umap_global = TSNE(n_components=2).fit_transform(df_paws.values)"
      ],
      "execution_count": null,
      "outputs": []
    },
    {
      "cell_type": "code",
      "metadata": {
        "colab": {
          "base_uri": "https://localhost:8080/"
        },
        "id": "LORiHNuh_CrL",
        "outputId": "8a8bd74c-ec9e-4498-97e5-a6845cc19031"
      },
      "source": [
        "color = cocrystals.funct.values\n",
        "len(color)"
      ],
      "execution_count": null,
      "outputs": [
        {
          "data": {
            "text/plain": [
              "7479"
            ]
          },
          "execution_count": 19,
          "metadata": {
            "tags": []
          },
          "output_type": "execute_result"
        }
      ]
    },
    {
      "cell_type": "code",
      "metadata": {
        "colab": {
          "base_uri": "https://localhost:8080/",
          "height": 498
        },
        "id": "sikLqSzG9KFJ",
        "outputId": "8ef31051-ae36-4936-fd2e-3f7028d76e54"
      },
      "source": [
        "fig, ax = plt.subplots(figsize=(10,8))\n",
        "cdict = {0: 'yellow' ,1: 'red', 2: 'blue', 3: 'yellow', 4: 'yellow'}\n",
        "\n",
        "ax.scatter(X_umap_global[:, 0], X_umap_global[:, 1],\n",
        "            c=[cdict[i] for i in color], s=8, cmap='Spectral')"
      ],
      "execution_count": null,
      "outputs": [
        {
          "data": {
            "text/plain": [
              "<matplotlib.collections.PathCollection at 0x7f65d86c8290>"
            ]
          },
          "execution_count": 20,
          "metadata": {
            "tags": []
          },
          "output_type": "execute_result"
        },
        {
          "data": {
            "image/png": "[encoded data removed]",
            "text/plain": [
              "<Figure size 720x576 with 1 Axes>"
            ]
          },
          "metadata": {
            "tags": []
          },
          "output_type": "display_data"
        }
      ]
    },
    {
      "cell_type": "code",
      "metadata": {
        "colab": {
          "base_uri": "https://localhost:8080/",
          "height": 701
        },
        "id": "QW2yFAWLwgB5",
        "outputId": "e052f93f-1bd2-4b20-d0ee-0e99719dc4ea"
      },
      "source": [
        "results = pd.read_csv('/content/all_results_2.csv')\n",
        "results"
      ],
      "execution_count": null,
      "outputs": [
        {
          "data": {
            "text/html": [
              "<div>\n",
              "<style scoped>\n",
              "    .dataframe tbody tr th:only-of-type {\n",
              "        vertical-align: middle;\n",
              "    }\n",
              "\n",
              "    .dataframe tbody tr th {\n",
              "        vertical-align: top;\n",
              "    }\n",
              "\n",
              "    .dataframe thead th {\n",
              "        text-align: right;\n",
              "    }\n",
              "</style>\n",
              "<table border=\"1\" class=\"dataframe\">\n",
              "  <thead>\n",
              "    <tr style=\"text-align: right;\">\n",
              "      <th></th>\n",
              "      <th>name</th>\n",
              "      <th>smiles</th>\n",
              "      <th>GNN_auc</th>\n",
              "      <th>Grecu</th>\n",
              "      <th>Wang</th>\n",
              "      <th>Morgan fingerprint</th>\n",
              "      <th>Mordred</th>\n",
              "      <th>NLP fingerprint</th>\n",
              "      <th>Unnamed: 8</th>\n",
              "      <th>Unnamed: 9</th>\n",
              "    </tr>\n",
              "  </thead>\n",
              "  <tbody>\n",
              "    <tr>\n",
              "      <th>0</th>\n",
              "      <td>diclofenac</td>\n",
              "      <td>OC(=O)Cc1ccccc1Nc1c(Cl)cccc1Cl</td>\n",
              "      <td>0.8952</td>\n",
              "      <td>0.7500</td>\n",
              "      <td>0.857</td>\n",
              "      <td>0.86</td>\n",
              "      <td>0.8285</td>\n",
              "      <td>0.70</td>\n",
              "      <td>NaN</td>\n",
              "      <td>NaN</td>\n",
              "    </tr>\n",
              "    <tr>\n",
              "      <th>1</th>\n",
              "      <td>piracetam</td>\n",
              "      <td>NC(=O)CN1CCCC1=O</td>\n",
              "      <td>0.8052</td>\n",
              "      <td>0.9300</td>\n",
              "      <td>0.895</td>\n",
              "      <td>0.92</td>\n",
              "      <td>0.8210</td>\n",
              "      <td>0.60</td>\n",
              "      <td>NaN</td>\n",
              "      <td>NaN</td>\n",
              "    </tr>\n",
              "    <tr>\n",
              "      <th>2</th>\n",
              "      <td>pyrazinecarboxamide</td>\n",
              "      <td>NC(=O)c1cnccn1</td>\n",
              "      <td>0.8000</td>\n",
              "      <td>0.8410</td>\n",
              "      <td>0.876</td>\n",
              "      <td>0.81</td>\n",
              "      <td>0.9400</td>\n",
              "      <td>0.50</td>\n",
              "      <td>NaN</td>\n",
              "      <td>NaN</td>\n",
              "    </tr>\n",
              "    <tr>\n",
              "      <th>3</th>\n",
              "      <td>acetazolamide</td>\n",
              "      <td>NS(=O)(=O)c1nnc(s1)NC(=O)C</td>\n",
              "      <td>0.6888</td>\n",
              "      <td>0.7940</td>\n",
              "      <td>0.311</td>\n",
              "      <td>0.94</td>\n",
              "      <td>0.8800</td>\n",
              "      <td>0.40</td>\n",
              "      <td>NaN</td>\n",
              "      <td>NaN</td>\n",
              "    </tr>\n",
              "    <tr>\n",
              "      <th>4</th>\n",
              "      <td>indomethacin</td>\n",
              "      <td>Cc1c(c2cc(ccc2n1C(=O)c3ccc(cc3)Cl)OC)CC(=O)O</td>\n",
              "      <td>0.5670</td>\n",
              "      <td>0.6800</td>\n",
              "      <td>0.658</td>\n",
              "      <td>0.77</td>\n",
              "      <td>0.6100</td>\n",
              "      <td>0.76</td>\n",
              "      <td>NaN</td>\n",
              "      <td>NaN</td>\n",
              "    </tr>\n",
              "    <tr>\n",
              "      <th>5</th>\n",
              "      <td>drugcandidate</td>\n",
              "      <td>CCC(F)(F)c1cc(nc2SC(=C(N)c12)C(N)=O)N1CCC(CC1)...</td>\n",
              "      <td>0.8970</td>\n",
              "      <td>0.7920</td>\n",
              "      <td>0.986</td>\n",
              "      <td>0.87</td>\n",
              "      <td>0.9100</td>\n",
              "      <td>0.85</td>\n",
              "      <td>NaN</td>\n",
              "      <td>NaN</td>\n",
              "    </tr>\n",
              "    <tr>\n",
              "      <th>6</th>\n",
              "      <td>furosemide</td>\n",
              "      <td>o1cccc1CNc(cc2Cl)c(C(=O)O)cc2S(=O)(=O)N</td>\n",
              "      <td>0.8430</td>\n",
              "      <td>0.6500</td>\n",
              "      <td>0.894</td>\n",
              "      <td>0.89</td>\n",
              "      <td>0.8300</td>\n",
              "      <td>0.70</td>\n",
              "      <td>NaN</td>\n",
              "      <td>NaN</td>\n",
              "    </tr>\n",
              "    <tr>\n",
              "      <th>7</th>\n",
              "      <td>nalidixicacid</td>\n",
              "      <td>O=C\\2c1c(nc(cc1)C)N(/C=C/2C(=O)O)CC</td>\n",
              "      <td>0.7390</td>\n",
              "      <td>1.0000</td>\n",
              "      <td>0.948</td>\n",
              "      <td>0.98</td>\n",
              "      <td>0.8800</td>\n",
              "      <td>0.60</td>\n",
              "      <td>NaN</td>\n",
              "      <td>NaN</td>\n",
              "    </tr>\n",
              "    <tr>\n",
              "      <th>8</th>\n",
              "      <td>paracetamol</td>\n",
              "      <td>CC(=O)Nc1ccc(O)cc1</td>\n",
              "      <td>0.5997</td>\n",
              "      <td>0.7676</td>\n",
              "      <td>0.543</td>\n",
              "      <td>0.70</td>\n",
              "      <td>0.6000</td>\n",
              "      <td>0.50</td>\n",
              "      <td>NaN</td>\n",
              "      <td>NaN</td>\n",
              "    </tr>\n",
              "    <tr>\n",
              "      <th>9</th>\n",
              "      <td>3-cyanophenol</td>\n",
              "      <td>C1=CC(=CC(=C1)O)C#N</td>\n",
              "      <td>0.9330</td>\n",
              "      <td>0.7600</td>\n",
              "      <td>0.911</td>\n",
              "      <td>0.91</td>\n",
              "      <td>0.9330</td>\n",
              "      <td>0.40</td>\n",
              "      <td>NaN</td>\n",
              "      <td>NaN</td>\n",
              "    </tr>\n",
              "    <tr>\n",
              "      <th>10</th>\n",
              "      <td>4-cyanophenol</td>\n",
              "      <td>C1=CC(=CC=C1C#N)O</td>\n",
              "      <td>1.0000</td>\n",
              "      <td>0.8900</td>\n",
              "      <td>0.964</td>\n",
              "      <td>0.95</td>\n",
              "      <td>1.0000</td>\n",
              "      <td>0.76</td>\n",
              "      <td>NaN</td>\n",
              "      <td>NaN</td>\n",
              "    </tr>\n",
              "    <tr>\n",
              "      <th>11</th>\n",
              "      <td>3-cyanopyridine</td>\n",
              "      <td>C1=CC(=CN=C1)C#N</td>\n",
              "      <td>0.8800</td>\n",
              "      <td>0.9400</td>\n",
              "      <td>1.000</td>\n",
              "      <td>0.71</td>\n",
              "      <td>0.8800</td>\n",
              "      <td>0.85</td>\n",
              "      <td>NaN</td>\n",
              "      <td>NaN</td>\n",
              "    </tr>\n",
              "    <tr>\n",
              "      <th>12</th>\n",
              "      <td>4-cyanopyridine</td>\n",
              "      <td>C1=CN=CC=C1C#N</td>\n",
              "      <td>1.0000</td>\n",
              "      <td>0.9500</td>\n",
              "      <td>0.911</td>\n",
              "      <td>0.90</td>\n",
              "      <td>1.0000</td>\n",
              "      <td>0.70</td>\n",
              "      <td>NaN</td>\n",
              "      <td>NaN</td>\n",
              "    </tr>\n",
              "    <tr>\n",
              "      <th>13</th>\n",
              "      <td>benzamide</td>\n",
              "      <td>C1=CC=C(C=C1)C(=O)N</td>\n",
              "      <td>0.7330</td>\n",
              "      <td>0.4000</td>\n",
              "      <td>0.738</td>\n",
              "      <td>1.00</td>\n",
              "      <td>0.7330</td>\n",
              "      <td>0.60</td>\n",
              "      <td>NaN</td>\n",
              "      <td>NaN</td>\n",
              "    </tr>\n",
              "    <tr>\n",
              "      <th>14</th>\n",
              "      <td>itraconazole</td>\n",
              "      <td>CCC(C)N1C(=O)N(C=N1)C2=CC=C(C=C2)N3CCN(CC3)C4=...</td>\n",
              "      <td>0.4680</td>\n",
              "      <td>0.8125</td>\n",
              "      <td>0.844</td>\n",
              "      <td>0.41</td>\n",
              "      <td>0.8400</td>\n",
              "      <td>0.50</td>\n",
              "      <td>NaN</td>\n",
              "      <td>NaN</td>\n",
              "    </tr>\n",
              "    <tr>\n",
              "      <th>15</th>\n",
              "      <td>bicalutamide</td>\n",
              "      <td>CC(CS(=O)(=O)C1=CC=C(C=C1)F)(C(=O)NC2=CC(=C(C=...</td>\n",
              "      <td>1.0000</td>\n",
              "      <td>0.6800</td>\n",
              "      <td>0.688</td>\n",
              "      <td>1.00</td>\n",
              "      <td>1.0000</td>\n",
              "      <td>0.40</td>\n",
              "      <td>NaN</td>\n",
              "      <td>NaN</td>\n",
              "    </tr>\n",
              "    <tr>\n",
              "      <th>16</th>\n",
              "      <td>meloxicam</td>\n",
              "      <td>CC1=CN=C(S1)NC(=O)C2=C(C3=CC=CC=C3S(=O)(=O)N2C)O</td>\n",
              "      <td>0.9280</td>\n",
              "      <td>0.6330</td>\n",
              "      <td>0.733</td>\n",
              "      <td>0.89</td>\n",
              "      <td>0.8200</td>\n",
              "      <td>0.76</td>\n",
              "      <td>NaN</td>\n",
              "      <td>NaN</td>\n",
              "    </tr>\n",
              "    <tr>\n",
              "      <th>17</th>\n",
              "      <td>nicotinamide</td>\n",
              "      <td>c1cc(cnc1)C(=O)N</td>\n",
              "      <td>1.0000</td>\n",
              "      <td>1.0000</td>\n",
              "      <td>1.000</td>\n",
              "      <td>0.92</td>\n",
              "      <td>0.7500</td>\n",
              "      <td>0.85</td>\n",
              "      <td>NaN</td>\n",
              "      <td>NaN</td>\n",
              "    </tr>\n",
              "    <tr>\n",
              "      <th>18</th>\n",
              "      <td>NaN</td>\n",
              "      <td>NaN</td>\n",
              "      <td>NaN</td>\n",
              "      <td>NaN</td>\n",
              "      <td>NaN</td>\n",
              "      <td>NaN</td>\n",
              "      <td>NaN</td>\n",
              "      <td>NaN</td>\n",
              "      <td>NaN</td>\n",
              "      <td>NaN</td>\n",
              "    </tr>\n",
              "    <tr>\n",
              "      <th>19</th>\n",
              "      <td>NaN</td>\n",
              "      <td>NaN</td>\n",
              "      <td>NaN</td>\n",
              "      <td>NaN</td>\n",
              "      <td>NaN</td>\n",
              "      <td>NaN</td>\n",
              "      <td>NaN</td>\n",
              "      <td>NaN</td>\n",
              "      <td>NaN</td>\n",
              "      <td>NaN</td>\n",
              "    </tr>\n",
              "  </tbody>\n",
              "</table>\n",
              "</div>"
            ],
            "text/plain": [
              "                   name  ... Unnamed: 9\n",
              "0            diclofenac  ...        NaN\n",
              "1             piracetam  ...        NaN\n",
              "2   pyrazinecarboxamide  ...        NaN\n",
              "3         acetazolamide  ...        NaN\n",
              "4          indomethacin  ...        NaN\n",
              "5         drugcandidate  ...        NaN\n",
              "6            furosemide  ...        NaN\n",
              "7         nalidixicacid  ...        NaN\n",
              "8           paracetamol  ...        NaN\n",
              "9         3-cyanophenol  ...        NaN\n",
              "10        4-cyanophenol  ...        NaN\n",
              "11      3-cyanopyridine  ...        NaN\n",
              "12      4-cyanopyridine  ...        NaN\n",
              "13            benzamide  ...        NaN\n",
              "14         itraconazole  ...        NaN\n",
              "15         bicalutamide  ...        NaN\n",
              "16            meloxicam  ...        NaN\n",
              "17         nicotinamide  ...        NaN\n",
              "18                  NaN  ...        NaN\n",
              "19                  NaN  ...        NaN\n",
              "\n",
              "[20 rows x 10 columns]"
            ]
          },
          "execution_count": 5,
          "metadata": {
            "tags": []
          },
          "output_type": "execute_result"
        }
      ]
    },
    {
      "cell_type": "code",
      "metadata": {
        "colab": {
          "base_uri": "https://localhost:8080/",
          "height": 334
        },
        "id": "5VdKqHLTwlMO",
        "outputId": "b0869b08-d9b5-45f5-8ff0-9539d8bd1157"
      },
      "source": [
        "import numpy as np\n",
        "import matplotlib.pyplot as plt\n",
        "\n",
        "fig = plt.figure(figsize=(15,8))\n",
        "ax = fig.add_subplot(211)\n",
        "\n",
        "## the data\n",
        "N = 18\n",
        "grecu = results.Grecu[:-2].values\n",
        "fingerprint = results['Morgan fingerprint'][:-2].values\n",
        "GNN = results.GNN_auc[:-2].values\n",
        "wang = results.Wang[:-2].values\n",
        "\n",
        "## necessary variables\n",
        "ind = np.arange(N)                # the x locations for the groups\n",
        "width = 0.18                      # the width of the bars\n",
        "\n",
        "## the bars\n",
        "rects1 = ax.bar(ind, grecu, width,\n",
        "                color='#c79fef',edgecolor='black')\n",
        "                #error_kw=dict(elinewidth=2,ecolor='red'))\n",
        "\n",
        "rects2 = ax.bar(ind+width, fingerprint, width,\n",
        "                    color='#53fca1',edgecolor='black')\n",
        "\n",
        "rects3 = ax.bar(ind+2*width, GNN, width,\n",
        "                    color='yellow',edgecolor='black')\n",
        "\n",
        "rects4 = ax.bar(ind+3*width, wang, width,  color='#cf6275',edgecolor='black')\n",
        "\n",
        "\n",
        "# axes and labels\n",
        "ax.set_xlim(-width, len(ind)+width,len(ind)+2*width)\n",
        "ax.set_ylim(0,1.05)\n",
        "ax.set_ylabel('Accuracy', fontsize=12)\n",
        "#ax.set_title('Scores by group and gender')\n",
        "xTickMarks = results.name.values[:-2]\n",
        "ax.set_xticks(ind+width)\n",
        "\n",
        "xtickNames = ax.set_xticklabels(xTickMarks, fontsize=20)\n",
        "plt.setp(xtickNames, rotation=60, fontsize=10)\n",
        "\n",
        "## add a legend\n",
        "legend = ax.legend( (rects1[0], rects2[0],rects3[0],rects4[0]), ('Grecu', 'Morgan fingerpringt', 'GNN', 'Wang'),bbox_to_anchor=(0.98, 0.85))\n",
        "\n",
        "legend.get_frame().set_edgecolor('black')#.set_facecolor('white')\n",
        "plt.savefig('/content/fig.png', dpi=600,bbox_inches='tight')\n",
        "plt.show()"
      ],
      "execution_count": null,
      "outputs": [
        {
          "data": {
            "image/png": "[encoded data removed]",
            "text/plain": [
              "<Figure size 1080x576 with 1 Axes>"
            ]
          },
          "metadata": {
            "tags": []
          },
          "output_type": "display_data"
        }
      ]
    },
    {
      "cell_type": "code",
      "metadata": {
        "colab": {
          "base_uri": "https://localhost:8080/",
          "height": 287
        },
        "id": "h2qK4eH0zvK2",
        "outputId": "808ae759-3a75-4a69-99de-a4007d59070d"
      },
      "source": [
        "results = pd.read_csv('/content/all_results.csv')\n",
        "results"
      ],
      "execution_count": null,
      "outputs": [
        {
          "data": {
            "text/html": [
              "<div>\n",
              "<style scoped>\n",
              "    .dataframe tbody tr th:only-of-type {\n",
              "        vertical-align: middle;\n",
              "    }\n",
              "\n",
              "    .dataframe tbody tr th {\n",
              "        vertical-align: top;\n",
              "    }\n",
              "\n",
              "    .dataframe thead th {\n",
              "        text-align: right;\n",
              "    }\n",
              "</style>\n",
              "<table border=\"1\" class=\"dataframe\">\n",
              "  <thead>\n",
              "    <tr style=\"text-align: right;\">\n",
              "      <th></th>\n",
              "      <th>Dataset</th>\n",
              "      <th>Mordred</th>\n",
              "      <th>ECFP4_fingerprint</th>\n",
              "      <th>GNN</th>\n",
              "      <th>Smiles</th>\n",
              "      <th>Unnamed: 5</th>\n",
              "      <th>ECFP6_mordred</th>\n",
              "    </tr>\n",
              "  </thead>\n",
              "  <tbody>\n",
              "    <tr>\n",
              "      <th>0</th>\n",
              "      <td>Grecu</td>\n",
              "      <td>0.75</td>\n",
              "      <td>0.77</td>\n",
              "      <td>0.720</td>\n",
              "      <td>0.60</td>\n",
              "      <td>NaN</td>\n",
              "      <td>0.72</td>\n",
              "    </tr>\n",
              "    <tr>\n",
              "      <th>1</th>\n",
              "      <td>RC</td>\n",
              "      <td>0.78</td>\n",
              "      <td>0.80</td>\n",
              "      <td>0.730</td>\n",
              "      <td>0.50</td>\n",
              "      <td>NaN</td>\n",
              "      <td>0.72</td>\n",
              "    </tr>\n",
              "    <tr>\n",
              "      <th>2</th>\n",
              "      <td>Artemicin</td>\n",
              "      <td>1.00</td>\n",
              "      <td>1.00</td>\n",
              "      <td>1.000</td>\n",
              "      <td>0.60</td>\n",
              "      <td>NaN</td>\n",
              "      <td>0.90</td>\n",
              "    </tr>\n",
              "    <tr>\n",
              "      <th>3</th>\n",
              "      <td>Phenolic acids</td>\n",
              "      <td>0.60</td>\n",
              "      <td>0.74</td>\n",
              "      <td>0.640</td>\n",
              "      <td>0.74</td>\n",
              "      <td>NaN</td>\n",
              "      <td>0.64</td>\n",
              "    </tr>\n",
              "    <tr>\n",
              "      <th>4</th>\n",
              "      <td>Dicarboxylic acids</td>\n",
              "      <td>0.70</td>\n",
              "      <td>0.71</td>\n",
              "      <td>0.770</td>\n",
              "      <td>0.63</td>\n",
              "      <td>NaN</td>\n",
              "      <td>0.60</td>\n",
              "    </tr>\n",
              "    <tr>\n",
              "      <th>5</th>\n",
              "      <td>Mapp_MartaD_Pahs</td>\n",
              "      <td>0.81</td>\n",
              "      <td>0.91</td>\n",
              "      <td>0.720</td>\n",
              "      <td>0.63</td>\n",
              "      <td>NaN</td>\n",
              "      <td>0.65</td>\n",
              "    </tr>\n",
              "    <tr>\n",
              "      <th>6</th>\n",
              "      <td>Akeroy</td>\n",
              "      <td>0.70</td>\n",
              "      <td>0.71</td>\n",
              "      <td>0.740</td>\n",
              "      <td>0.55</td>\n",
              "      <td>NaN</td>\n",
              "      <td>0.70</td>\n",
              "    </tr>\n",
              "    <tr>\n",
              "      <th>7</th>\n",
              "      <td>Total</td>\n",
              "      <td>0.72</td>\n",
              "      <td>0.75</td>\n",
              "      <td>0.754</td>\n",
              "      <td>0.68</td>\n",
              "      <td>NaN</td>\n",
              "      <td>NaN</td>\n",
              "    </tr>\n",
              "  </tbody>\n",
              "</table>\n",
              "</div>"
            ],
            "text/plain": [
              "              Dataset  Mordred  ...  Unnamed: 5  ECFP6_mordred\n",
              "0               Grecu     0.75  ...         NaN           0.72\n",
              "1                  RC     0.78  ...         NaN           0.72\n",
              "2           Artemicin     1.00  ...         NaN           0.90\n",
              "3      Phenolic acids     0.60  ...         NaN           0.64\n",
              "4  Dicarboxylic acids     0.70  ...         NaN           0.60\n",
              "5    Mapp_MartaD_Pahs     0.81  ...         NaN           0.65\n",
              "6              Akeroy     0.70  ...         NaN           0.70\n",
              "7               Total     0.72  ...         NaN            NaN\n",
              "\n",
              "[8 rows x 7 columns]"
            ]
          },
          "execution_count": 201,
          "metadata": {
            "tags": []
          },
          "output_type": "execute_result"
        }
      ]
    },
    {
      "cell_type": "code",
      "metadata": {
        "colab": {
          "base_uri": "https://localhost:8080/",
          "height": 312
        },
        "id": "HIOoD1L5D82T",
        "outputId": "32002318-330a-4d48-db60-88ecf82983e5"
      },
      "source": [
        "import numpy as np\n",
        "import matplotlib.pyplot as plt\n",
        "\n",
        "fig = plt.figure(figsize=(13,8))\n",
        "ax = fig.add_subplot(211)\n",
        "\n",
        "## the data\n",
        "N = 7\n",
        "mordred = [0.75, 0.78, 1.00, 0.60, 0.70, 0.81, 0.7]\n",
        "fingerprint = [0.77, 0.8, 1.00, 0.74, 0.71, 0.91, 0.71]\n",
        "GNN = [0.72, 0.73, 1.00, 0.64, 0.77, 0.72, 0.74]\n",
        "Smiles = [0.6, 0.5, 0.60, 0.74, 0.63,0.63, 0.55]\n",
        "\n",
        "## necessary variables\n",
        "ind = np.arange(N)                # the x locations for the groups\n",
        "width = 0.18                      # the width of the bars\n",
        "\n",
        "## the bars\n",
        "rects1 = ax.bar(ind, mordred, width,\n",
        "                color='#c79fef',edgecolor='black')\n",
        "                #error_kw=dict(elinewidth=2,ecolor='red'))\n",
        "\n",
        "rects2 = ax.bar(ind+width, fingerprint, width,\n",
        "                    color='#53fca1',edgecolor='black')\n",
        "\n",
        "rects3 = ax.bar(ind+2*width, GNN, width,\n",
        "                    color='yellow',edgecolor='black')\n",
        "\n",
        "rects4 = ax.bar(ind+3*width, Smiles, width,  color='#cf6275',edgecolor='black')\n",
        "\n",
        "\n",
        "# axes and labels\n",
        "ax.set_xlim(-width, len(ind)+width,len(ind)+2*width)\n",
        "ax.set_ylim(0,1.05)\n",
        "ax.set_ylabel('Accuracy', fontsize=12)\n",
        "#ax.set_title('Scores by group and gender')\n",
        "xTickMarks = results.Dataset.values\n",
        "ax.set_xticks(ind+width)\n",
        "\n",
        "xtickNames = ax.set_xticklabels(xTickMarks, fontsize=20)\n",
        "plt.setp(xtickNames, rotation=45, fontsize=10)\n",
        "\n",
        "## add a legend\n",
        "legend = ax.legend( (rects1[0], rects2[0],rects3[0],rects4[0]), ('Mordred', 'Morgan fingerpringt', 'GNN', 'Smiles'),bbox_to_anchor=(1.12, 0.95))\n",
        "plt.savefig('/content/fig.png', dpi=600,bbox_inches='tight')\n",
        "legend.get_frame().set_edgecolor('black')#.set_facecolor('white')\n",
        "plt.show()"
      ],
      "execution_count": null,
      "outputs": [
        {
          "data": {
            "image/png": "[encoded data removed]",
            "text/plain": [
              "<Figure size 936x576 with 1 Axes>"
            ]
          },
          "metadata": {
            "tags": []
          },
          "output_type": "display_data"
        }
      ]
    },
    {
      "cell_type": "code",
      "metadata": {
        "colab": {
          "base_uri": "https://localhost:8080/",
          "height": 889
        },
        "id": "ho2AQP91-N5m",
        "outputId": "ce25399c-f47a-4161-f6af-812a9ac58bc2"
      },
      "source": [
        "import numpy as np\n",
        "import matplotlib.pyplot as plt\n",
        "\n",
        "#fig = plt.figure(figsize=(24,15))\n",
        "fig, axs = plt.subplots(3, 4,constrained_layout=True,figsize=(11,12))\n",
        "#ax = fig.add_subplot(211)\n",
        "#subplots_adjust(left=None, bottom=None, right=None, top=None, wspace=None, hspace=None)\n",
        "\n",
        "\n",
        "## the data\n",
        "N = 1\n",
        "grecu = [0.68, 0.76, 0.76, 0.89, 0.95,0,0, 0.4, 0.81, 0.68, 0.633, 1]\n",
        "fingerprint = [0.77, 0.7, 0.91, 1, 0.96, 0.77, 0.7, 1, 0.41, 1, 0.89, 0.92]\n",
        "GNN = [0.57, 0.6, 0.933, 1,1, 0.81, 0.7, 0.733, 0.468, 1, 0.928, 1]\n",
        "cosmo = [0.54, 0.6, 0.98, 1, 0.96, 0.74, 0.6, 0.71, 1, 0.94, 0.67, 0.92]\n",
        "\n",
        "## necessary variables\n",
        "ind = np.arange(N)                # the x locations for the groups\n",
        "width = 0.1                      # the width of the bars\n",
        "\n",
        "## Accuracy\n",
        "rects1 = axs[0, 0].bar(ind, grecu[0], width, \n",
        "                color='#c79fef',edgecolor='black')\n",
        "rects2 = axs[0, 0].bar(ind+2*width, fingerprint[0], width,\n",
        "                    color='#53fca1',edgecolor='black')\n",
        "rects3 = axs[0, 0].bar(ind+4*width, GNN[0], width,\n",
        "                    color='yellow',edgecolor='black')\n",
        "rects4 = axs[0, 0].bar(ind+6*width, cosmo[0], width,  color='#cf6275',edgecolor='black')\n",
        "rects5 = axs[0, 0].bar(ind+8*width, 0.65, width, color='#06c2ac',edgecolor='black')\n",
        "axs[0, 0].set_xlabel('Indomethacin', fontsize=16)     \n",
        "\n",
        "## Paracetamol\n",
        "rects1 = axs[1, 0].bar(ind, grecu[1], width, \n",
        "                color='#c79fef',edgecolor='black')\n",
        "                #error_kw=dict(elinewidth=2,ecolor='red'))\n",
        "rects2 = axs[1, 0].bar(ind+2*width, fingerprint[1], width,\n",
        "                    color='#53fca1',edgecolor='black')\n",
        "rects3 = axs[1, 0].bar(ind+4*width, GNN[1], width,\n",
        "                    color='yellow',edgecolor='black')\n",
        "rects4 = axs[1, 0].bar(ind+6*width, cosmo[1], width,  color='#cf6275',edgecolor='black')\n",
        "\n",
        "rects5 = axs[1, 0].bar(ind+8*width, 0.543, width, color='#06c2ac',edgecolor='black')\n",
        "\n",
        "axs[1, 0].set_xlabel('Paracetamol', fontsize=16)  \n",
        "\n",
        "\n",
        "## F1 score\n",
        "rects1 = axs[0, 1].bar(ind, grecu[2], width, \n",
        "                color='#c79fef',edgecolor='black')\n",
        "                #error_kw=dict(elinewidth=2,ecolor='red'))\n",
        "rects2 = axs[0, 1].bar(ind+2*width, fingerprint[2], width,\n",
        "                    color='#53fca1',edgecolor='black')\n",
        "rects3 = axs[0, 1].bar(ind+4*width, GNN[2], width,\n",
        "                    color='yellow',edgecolor='black')\n",
        "rects4 = axs[0, 1].bar(ind+6*width, cosmo[2], width,  color='#cf6275',edgecolor='black')\n",
        "rects5 = axs[0, 1].bar(ind+8*width, 0.9, width, color='#06c2ac',edgecolor='black')\n",
        "axs[0, 1].set_xlabel('3-cyanophenol', fontsize=16)  \n",
        "\n",
        "## Spearman\n",
        "rects1 = axs[1, 1].bar(ind, grecu[3], width,\n",
        "                color='#c79fef',edgecolor='black')\n",
        "                #error_kw=dict(elinewidth=2,ecolor='red'))\n",
        "rects2 = axs[1, 1].bar(ind+2*width, fingerprint[3], width,\n",
        "                    color='#53fca1',edgecolor='black')\n",
        "rects3 = axs[1, 1].bar(ind+4*width, GNN[3], width,\n",
        "                    color='yellow',edgecolor='black')\n",
        "rects4 = axs[1, 1].bar(ind+6*width, cosmo[3], width,  color='#cf6275',edgecolor='black')\n",
        "rects5 = axs[1, 1].bar(ind+8*width, 0.96, width, color='#06c2ac',edgecolor='black')\n",
        "axs[1, 1].set_xlabel('4-cyanophenol', fontsize=16) \n",
        "\n",
        "\n",
        "## Spearman\n",
        "rects1 = axs[0, 2].bar(ind, grecu[4], width, \n",
        "                color='#c79fef',edgecolor='black')\n",
        "                #error_kw=dict(elinewidth=2,ecolor='red'))\n",
        "rects2 = axs[0, 2].bar(ind+2*width, fingerprint[4], width,\n",
        "                    color='#53fca1',edgecolor='black')\n",
        "rects3 = axs[0, 2].bar(ind+4*width, GNN[4], width,\n",
        "                    color='yellow',edgecolor='black')\n",
        "rects4 = axs[0, 2].bar(ind+6*width, cosmo[4], width,  color='#cf6275',edgecolor='black')\n",
        "rects5 = axs[0, 2].bar(ind+8*width, 0.91, width, color='#06c2ac',edgecolor='black')\n",
        "axs[0, 2].set_xlabel('4-cyanopyridine', fontsize=16) \n",
        "\n",
        "\n",
        "## Spearman\n",
        "rects1 = axs[0,3].bar(ind, grecu[7], width, \n",
        "                color='#c79fef',edgecolor='black')\n",
        "                #error_kw=dict(elinewidth=2,ecolor='red'))\n",
        "rects2 = axs[0, 3].bar(ind+2*width, fingerprint[7], width,\n",
        "                    color='#53fca1',edgecolor='black')\n",
        "rects3 = axs[0, 3].bar(ind+4*width, GNN[7], width,\n",
        "                    color='yellow',edgecolor='black')\n",
        "rects4 = axs[0, 3].bar(ind+6*width, cosmo[7], width,  color='#cf6275',edgecolor='black')\n",
        "rects5 = axs[0, 3].bar(ind+8*width, 0.7, width, color='#06c2ac',edgecolor='black')\n",
        "axs[0, 3].set_xlabel('benzamide', fontsize=16) \n",
        "\n",
        "## Spearman\n",
        "rects1 = axs[1, 2].bar(ind, grecu[8], width, \n",
        "                color='#c79fef',edgecolor='black')\n",
        "                #error_kw=dict(elinewidth=2,ecolor='red'))\n",
        "rects2 = axs[1, 2].bar(ind+2*width, fingerprint[8], width,\n",
        "                    color='#53fca1',edgecolor='black')\n",
        "rects3 = axs[1, 2].bar(ind+4*width, GNN[8], width,\n",
        "                    color='yellow',edgecolor='black')\n",
        "rects4 = axs[1, 2].bar(ind+6*width, cosmo[8], width,  color='#cf6275',edgecolor='black')\n",
        "rects5 = axs[1, 2].bar(ind+8*width, 0.84, width, color='#06c2ac',edgecolor='black')\n",
        "axs[1, 2].set_xlabel('itraconazole', fontsize=16) \n",
        "\n",
        "## Spearman\n",
        "rects1 = axs[1, 3].bar(ind, grecu[9], width, \n",
        "                color='#c79fef',edgecolor='black')\n",
        "                #error_kw=dict(elinewidth=2,ecolor='red'))\n",
        "rects2 = axs[1, 3].bar(ind+2*width, fingerprint[9], width,\n",
        "                    color='#53fca1',edgecolor='black')\n",
        "rects3 = axs[1, 3].bar(ind+4*width, GNN[9], width,\n",
        "                    color='yellow',edgecolor='black')\n",
        "rects4 = axs[1, 3].bar(ind+6*width, cosmo[9], width,  color='#cf6275',edgecolor='black')\n",
        "rects5 = axs[1, 3].bar(ind+8*width, 0.68, width, color='#06c2ac',edgecolor='black')\n",
        "axs[1, 3].set_xlabel('bicalutamide', fontsize=16) \n",
        "\n",
        "## Spearman\n",
        "rects1 = axs[2, 1].bar(ind, grecu[10], width, \n",
        "                color='#c79fef',edgecolor='black')\n",
        "                #error_kw=dict(elinewidth=2,ecolor='red'))\n",
        "rects2 = axs[2, 1].bar(ind+2*width, fingerprint[10], width,\n",
        "                    color='#53fca1',edgecolor='black')\n",
        "rects3 = axs[2, 1].bar(ind+4*width, GNN[10], width,\n",
        "                    color='yellow',edgecolor='black')\n",
        "rects4 = axs[2, 1].bar(ind+6*width, cosmo[10], width,  color='#cf6275',edgecolor='black')\n",
        "rects5 = axs[2, 1].bar(ind+8*width, 0.73, width, color='#06c2ac',edgecolor='black')\n",
        "axs[2, 1].set_xlabel('meloxicam', fontsize=16) \n",
        "\n",
        "## Spearman\n",
        "rects1 = axs[2, 0].bar(ind, grecu[11], width, \n",
        "                color='#c79fef',edgecolor='black')\n",
        "                #error_kw=dict(elinewidth=2,ecolor='red'))\n",
        "rects2 = axs[2, 0].bar(ind+2*width, fingerprint[11], width,\n",
        "                    color='#53fca1',edgecolor='black')\n",
        "rects3 = axs[2, 0].bar(ind+4*width, GNN[11], width,\n",
        "                    color='yellow',edgecolor='black')\n",
        "rects4 = axs[2, 0].bar(ind+6*width, cosmo[11], width,  color='#cf6275',edgecolor='black')\n",
        "rects5 = axs[2, 0].bar(ind+8*width, 1, width, color='#06c2ac',edgecolor='black')\n",
        "axs[2, 0].set_xlabel('nicotinamide', fontsize=16) \n",
        "\n",
        "\n",
        "\n",
        "## MOP\n",
        "rects1 = axs[2, 2].bar(ind, 0.35, width,\n",
        "                color='#929591',edgecolor='black')\n",
        "                #error_kw=dict(elinewidth=2,ecolor='red'))\n",
        "rects2 = axs[2, 2].bar(ind+2*width, fingerprint[5], width,\n",
        "                    color='#53fca1',edgecolor='black')\n",
        "rects3 = axs[2, 2].bar(ind+4*width, GNN[5], width,\n",
        "                    color='yellow',edgecolor='black')\n",
        "rects4 = axs[2, 2].bar(ind+6*width, cosmo[5], width,  color='#cf6275',edgecolor='black')\n",
        "axs[2, 2].set_xlabel('mop', fontsize=16) \n",
        "\n",
        "\n",
        "## Ibuprophen\n",
        "rects1 = axs[2, 3].bar(ind, 0.45, width,\n",
        "                color='#929591',edgecolor='black')\n",
        "                #error_kw=dict(elinewidth=2,ecolor='red'))\n",
        "rects2 = axs[2, 3].bar(ind+2*width, fingerprint[6], width,\n",
        "                    color='#53fca1',edgecolor='black')\n",
        "rects3 = axs[2, 3].bar(ind+4*width, GNN[6], width,\n",
        "                    color='yellow',edgecolor='black')\n",
        "rects4 = axs[2, 3].bar(ind+6*width, cosmo[6], width,  color='#cf6275',edgecolor='black')\n",
        "axs[2, 3].set_xlabel('ibuprofen', fontsize=16) \n",
        "\n",
        "\n",
        "#xtickNames = ax.set_xticklabels(xTickMarks, fontsize=20)\n",
        "#plt.setp(xtickNames, rotation=45, fontsize=10)\n",
        "\n",
        "## add a legend\n",
        "\n",
        "legend = axs[0,3].legend( (rects11[0] ,rects1[0], rects2[0],rects3[0],rects4[0],rects5[0]), ('MEPS', 'CCG_net', 'Morgan fingerpringt', 'GNN', 'COSMO-RS', 'Wang'),\n",
        "                         bbox_to_anchor=(0.9, 0.68), fontsize=14)\n",
        "plt.savefig('/content/fig.svg', dpi=600,bbox_inches='tight')\n",
        "#legend.get_frame().set_edgecolor('black')#.set_facecolor('white')\n",
        "plt.show()"
      ],
      "execution_count": null,
      "outputs": [
        {
          "output_type": "display_data",
          "data": {
            "image/png": "[encoded data removed]",
            "text/plain": [
              "<Figure size 792x864 with 12 Axes>"
            ]
          },
          "metadata": {
            "needs_background": "light"
          }
        }
      ]
    },
    {
      "cell_type": "code",
      "metadata": {
        "id": "k5d7EyxbBi-d"
      },
      "source": [
        ""
      ],
      "execution_count": null,
      "outputs": []
    },
    {
      "cell_type": "code",
      "metadata": {
        "colab": {
          "base_uri": "https://localhost:8080/",
          "height": 457
        },
        "id": "-7l0iWe3A0lY",
        "outputId": "ea074920-2850-4a22-a4d3-99233736dadf"
      },
      "source": [
        "import numpy as np\n",
        "import matplotlib.pyplot as plt\n",
        "\n",
        "#fig = plt.figure(figsize=(24,15))\n",
        "fig, axs = plt.subplots(1, 3,constrained_layout=True,figsize=(10,6))\n",
        "#ax = fig.add_subplot(211)\n",
        "#subplots_adjust(left=None, bottom=None, right=None, top=None, wspace=None, hspace=None)\n",
        "\n",
        "def set_axis_style(ax, labels):\n",
        "    ax.xaxis.set_tick_params(direction='out')\n",
        "    ax.xaxis.set_ticks_position('bottom')\n",
        "    ax.set_xticks([0.2, 0.4, 0.6, 0.8])\n",
        "    ax.set_xticklabels(labels, fontsize=12, rotation = 45)\n",
        "    ax.tick_params(axis='y', labelsize=12 )\n",
        "    ax.tick_params(axis = 'both', which='both', width=3)\n",
        "    ax.tick_params(axis='x', colors='black')\n",
        "    ax.tick_params(axis = 'both', which='major', length=8)\n",
        "    ax.set_ylim(0.5, 0.8)\n",
        "\n",
        "\n",
        "## the data\n",
        "N = 1\n",
        "mordred = [0.74, 0.70, 0.40]\n",
        "fingerprint = [0.75, 0.72, 0.72]\n",
        "GNN = [0.76, 0.73, 0.7]\n",
        "Smiles = [0.68, 0.65, 0.60]\n",
        "labels=['Mordred', 'ECFP4', 'GNN', 'ChemBERTa']\n",
        "## necessary variables\n",
        "ind = np.arange(N)                # the x locations for the groups\n",
        "width = 0.1                      # the width of the bars\n",
        "\n",
        "## Accuracy\n",
        "rects1 = axs[0].errorbar(0.2, mordred[0],  yerr= 0.03, fmt='o', markersize=15,\n",
        "                color='#06470c')\n",
        "rects2 = axs[0].errorbar(0.4, fingerprint[0],yerr= 0.015, fmt='o', markersize=15,\n",
        "                    color='#9a0eea')\n",
        "rects3 = axs[0].errorbar(0.6, GNN[0], yerr= 0.01, fmt='o', markersize=15,\n",
        "                    color='#06c2ac')\n",
        "rects4 = axs[0].errorbar(0.8, Smiles[0], yerr= 0.012, fmt='o', markersize=15, color='#fcb001')\n",
        "#axs[0].set_xlim(-0.01, 0.8)\n",
        "#axs[0].set_xticklabels(labels, fontsize=12, rotation = 45)\n",
        "axs[0].set_xlabel('AUC', fontsize=16)     \n",
        "\n",
        "\n",
        "## F1 score\n",
        "rects1 = axs[1].errorbar(0.2, 0.7, yerr= 0.02,fmt='o', markersize=15,\n",
        "                color='#06470c')\n",
        "rects2 = axs[1].errorbar(0.4, fingerprint[2], yerr= 0.01, fmt='o', markersize=15,\n",
        "                    color='#9a0eea')\n",
        "rects3 = axs[1].errorbar(0.6, GNN[2],yerr= 0.01, fmt='o', markersize=15,\n",
        "                    color='#06c2ac')\n",
        "rects4 = axs[1].errorbar(0.8, Smiles[2], yerr= 0.015, fmt='o', markersize=15, color='#fcb001')\n",
        "axs[1].set_xlabel('F1-score', fontsize=16)  \n",
        "\n",
        "\n",
        "## MCC\n",
        "rects1 = axs[2].errorbar(0.2, mordred[1], yerr= 0.02,fmt='o', markersize=15,\n",
        "                color='#06470c')\n",
        "rects2 = axs[2].errorbar(0.4, fingerprint[1],yerr= 0.01, fmt='o', markersize=15,\n",
        "                    color='#9a0eea')\n",
        "rects3 = axs[2].errorbar(0.6, GNN[1], yerr= 0.01, fmt='o', markersize=15,\n",
        "                    color='#06c2ac')\n",
        "rects4 = axs[2].errorbar(0.8, Smiles[1], yerr= 0.01, fmt='o', markersize=15, color='#fcb001')\n",
        "axs[2].set_xlabel('MCC', fontsize=16) \n",
        "\n",
        "for ax in [axs[0], axs[1], axs[2]]:\n",
        "    set_axis_style(ax, labels)\n",
        "\n",
        "# axes and labels\n",
        "#ax.set_xlim(-width, len(ind)+width,len(ind)+2*width)\n",
        "#ax.set_ylim(0,1.05)\n",
        "#ax.set_ylabel('Accuracy', fontsize=12)\n",
        "#ax.set_title('Scores by group and gender')\n",
        "#xTickMarks = results.Dataset.values\n",
        "#ax.set_xticks(ind+width)\n",
        "\n",
        "#xtickNames = ax.set_xticklabels(xTickMarks, fontsize=20)\n",
        "#plt.setp(xtickNames, rotation=45, fontsize=10)\n",
        "\n",
        "## add a legend\n",
        "#legend = axs[2].legend( (rects1[0], rects2[0],rects3[0],rects4[0]), ('Mordred', 'Morgan fingerpringt', 'GNN', 'ChemBERTa'),bbox_to_anchor=(0.82, 0.97))\n",
        "plt.savefig('/content/fig.png', dpi=600,bbox_inches='tight')\n",
        "#legend.get_frame().set_edgecolor('black')#.set_facecolor('white')\n",
        "plt.show()"
      ],
      "execution_count": null,
      "outputs": [
        {
          "output_type": "display_data",
          "data": {
            "image/png": "[encoded data removed]",
            "text/plain": [
              "<Figure size 720x432 with 3 Axes>"
            ]
          },
          "metadata": {
            "needs_background": "light"
          }
        }
      ]
    },
    {
      "cell_type": "code",
      "metadata": {
        "colab": {
          "base_uri": "https://localhost:8080/"
        },
        "id": "xeDvKDPzB-WS",
        "outputId": "6b2362a5-8000-45b0-f020-bcd6eff9a7f0"
      },
      "source": [
        "axs"
      ],
      "execution_count": null,
      "outputs": [
        {
          "output_type": "execute_result",
          "data": {
            "text/plain": [
              "array([<matplotlib.axes._subplots.AxesSubplot object at 0x7f43e7bb5750>,\n",
              "       <matplotlib.axes._subplots.AxesSubplot object at 0x7f43e71d6650>,\n",
              "       <matplotlib.axes._subplots.AxesSubplot object at 0x7f43e771bc90>],\n",
              "      dtype=object)"
            ]
          },
          "metadata": {},
          "execution_count": 28
        }
      ]
    },
    {
      "cell_type": "code",
      "metadata": {
        "colab": {
          "base_uri": "https://localhost:8080/"
        },
        "id": "2Xfdt_ngCO6Q",
        "outputId": "8e66b085-7db3-47b8-c99f-8559aeebc1b6"
      },
      "source": [
        "np.ones(2)"
      ],
      "execution_count": null,
      "outputs": [
        {
          "output_type": "execute_result",
          "data": {
            "text/plain": [
              "array([1., 1.])"
            ]
          },
          "metadata": {},
          "execution_count": 30
        }
      ]
    },
    {
      "cell_type": "code",
      "metadata": {
        "colab": {
          "base_uri": "https://localhost:8080/"
        },
        "id": "sjIlZkJjR7_w",
        "outputId": "53840d1d-e8a7-4e73-fd34-acd8064bb68e"
      },
      "source": [
        "!curl -Lo conda_installer.py https://raw.githubusercontent.com/deepchem/deepchem/master/scripts/colab_install.py\n",
        "import conda_installer\n",
        "conda_installer.install()\n",
        "!/root/miniconda/bin/conda info -e"
      ],
      "execution_count": null,
      "outputs": [
        {
          "name": "stdout",
          "output_type": "stream",
          "text": [
            "  % Total    % Received % Xferd  Average Speed   Time    Time     Time  Current\n",
            "                                 Dload  Upload   Total   Spent    Left  Speed\n",
            "100  3501  100  3501    0     0  19558      0 --:--:-- --:--:-- --:--:-- 19558\n"
          ]
        },
        {
          "name": "stderr",
          "output_type": "stream",
          "text": [
            "add /root/miniconda/lib/python3.7/site-packages to PYTHONPATH\n",
            "python version: 3.7.10\n",
            "fetching installer from https://repo.continuum.io/miniconda/Miniconda3-latest-Linux-x86_64.sh\n",
            "done\n",
            "installing miniconda to /root/miniconda\n",
            "done\n",
            "installing rdkit, openmm, pdbfixer\n",
            "added conda-forge to channels\n",
            "added omnia to channels\n",
            "done\n",
            "conda packages installation finished!\n"
          ]
        },
        {
          "name": "stdout",
          "output_type": "stream",
          "text": [
            "# conda environments:\n",
            "#\n",
            "base                  *  /root/miniconda\n",
            "\n"
          ]
        }
      ]
    },
    {
      "cell_type": "code",
      "metadata": {
        "colab": {
          "base_uri": "https://localhost:8080/",
          "height": 286
        },
        "id": "046wQ0_Sb9Bl",
        "outputId": "a2a08930-1ea6-4dad-97f1-36dc03ad71d7"
      },
      "source": [
        "!pip install --pre deepchem\n",
        "import deepchem\n",
        "deepchem.__version__"
      ],
      "execution_count": null,
      "outputs": [
        {
          "name": "stdout",
          "output_type": "stream",
          "text": [
            "Collecting deepchem\n",
            "\u001b[?25l  Downloading https://files.pythonhosted.org/packages/5d/6e/1b8a3295f9eac3da3813b44300a68b108ef2f2c8060a9ce12863b30c13a2/deepchem-2.6.0.dev20210520034915-py3-none-any.whl (564kB)\n",
            "\u001b[K     |████████████████████████████████| 573kB 4.0MB/s \n",
            "\u001b[?25hRequirement already satisfied: numpy in /usr/local/lib/python3.7/dist-packages (from deepchem) (1.19.5)\n",
            "Requirement already satisfied: joblib in /usr/local/lib/python3.7/dist-packages (from deepchem) (1.0.1)\n",
            "Requirement already satisfied: scikit-learn in /usr/local/lib/python3.7/dist-packages (from deepchem) (0.22.2.post1)\n",
            "Requirement already satisfied: scipy in /usr/local/lib/python3.7/dist-packages (from deepchem) (1.4.1)\n",
            "Requirement already satisfied: pandas in /usr/local/lib/python3.7/dist-packages (from deepchem) (1.1.5)\n",
            "Requirement already satisfied: pytz>=2017.2 in /usr/local/lib/python3.7/dist-packages (from pandas->deepchem) (2018.9)\n",
            "Requirement already satisfied: python-dateutil>=2.7.3 in /usr/local/lib/python3.7/dist-packages (from pandas->deepchem) (2.8.1)\n",
            "Requirement already satisfied: six>=1.5 in /usr/local/lib/python3.7/dist-packages (from python-dateutil>=2.7.3->pandas->deepchem) (1.15.0)\n",
            "Installing collected packages: deepchem\n",
            "Successfully installed deepchem-2.6.0.dev20210520034915\n"
          ]
        },
        {
          "data": {
            "application/vnd.google.colaboratory.intrinsic+json": {
              "type": "string"
            },
            "text/plain": [
              "'2.6.0.dev'"
            ]
          },
          "execution_count": 43,
          "metadata": {
            "tags": []
          },
          "output_type": "execute_result"
        }
      ]
    },
    {
      "cell_type": "code",
      "metadata": {
        "colab": {
          "base_uri": "https://localhost:8080/"
        },
        "id": "QK0lRGmScOhb",
        "outputId": "a395bc69-cb17-4427-dc2a-1212ca3f96a0"
      },
      "source": [
        "!pip install condacolab"
      ],
      "execution_count": null,
      "outputs": [
        {
          "name": "stdout",
          "output_type": "stream",
          "text": [
            "Collecting condacolab\n",
            "  Downloading https://files.pythonhosted.org/packages/ee/47/6f9fe13087c31aba889c4b09f9beaa558bf216bf9108c9ccef44e6c9dcfe/condacolab-0.1.2-py3-none-any.whl\n",
            "Installing collected packages: condacolab\n",
            "Successfully installed condacolab-0.1.2\n"
          ]
        }
      ]
    },
    {
      "cell_type": "code",
      "metadata": {
        "colab": {
          "base_uri": "https://localhost:8080/"
        },
        "id": "3ZvVw5lgcWNk",
        "outputId": "962d12bd-fb9d-4d05-c6ae-26544b5dc010"
      },
      "source": [
        "import condacolab\n",
        "condacolab.install() "
      ],
      "execution_count": null,
      "outputs": [
        {
          "name": "stdout",
          "output_type": "stream",
          "text": [
            "⏬ Downloading https://github.com/jaimergp/miniforge/releases/latest/download/Mambaforge-colab-Linux-x86_64.sh...\n",
            "📦 Installing...\n",
            "📌 Adjusting configuration...\n",
            "🩹 Patching environment...\n",
            "⏲ Done in 0:00:42\n",
            "🔁 Restarting kernel...\n"
          ]
        }
      ]
    },
    {
      "cell_type": "code",
      "metadata": {
        "colab": {
          "base_uri": "https://localhost:8080/"
        },
        "id": "JYvTRoD6EX-q",
        "outputId": "f2ac38c9-8daa-4e52-9e0d-a34f4651a99e"
      },
      "source": [
        "!conda install -c tmap tmap"
      ],
      "execution_count": null,
      "outputs": [
        {
          "name": "stdout",
          "output_type": "stream",
          "text": [
            "Collecting package metadata (current_repodata.json): - \b\b\\ \b\b| \b\b/ \b\b- \b\b\\ \b\b| \b\b/ \b\b- \b\b\\ \b\b| \b\b/ \b\b- \b\b\\ \b\b| \b\b/ \b\b- \b\b\\ \b\b| \b\b/ \b\b- \b\b\\ \b\b| \b\b/ \b\b- \b\b\\ \b\b| \b\b/ \b\b- \b\b\\ \b\b| \b\b/ \b\b- \b\b\\ \b\b| \b\b/ \b\b- \b\b\\ \b\b| \b\b/ \b\b- \b\b\\ \b\b| \b\b/ \b\b- \b\b\\ \b\b| \b\b/ \b\b- \b\b\\ \b\b| \b\b/ \b\b- \b\b\\ \b\b| \b\b/ \b\b- \b\b\\ \b\b| \b\b/ \b\b- \b\b\\ \b\b| \b\b/ \b\b- \b\b\\ \b\b| \b\b/ \b\b- \b\b\\ \b\b| \b\b/ \b\b- \b\b\\ \b\b| \b\b/ \b\b- \b\b\\ \b\b| \b\bdone\n",
            "Solving environment: - \b\b\\ \b\b| \b\b/ \b\b- \b\b\\ \b\b| \b\b/ \b\b- \b\bdone\n",
            "\n",
            "\n",
            "==> WARNING: A newer version of conda exists. <==\n",
            "  current version: 4.9.2\n",
            "  latest version: 4.10.1\n",
            "\n",
            "Please update conda by running\n",
            "\n",
            "    $ conda update -n base conda\n",
            "\n",
            "\n",
            "\n",
            "## Package Plan ##\n",
            "\n",
            "  environment location: /usr/local\n",
            "\n",
            "  added / updated specs:\n",
            "    - tmap\n",
            "\n",
            "\n",
            "The following packages will be downloaded:\n",
            "\n",
            "    package                    |            build\n",
            "    ---------------------------|-----------------\n",
            "    ca-certificates-2021.4.13  |       h06a4308_1         114 KB\n",
            "    certifi-2020.12.5          |   py37h06a4308_0         141 KB\n",
            "    conda-4.10.1               |   py37h06a4308_1         2.9 MB\n",
            "    ogdf-1.0.1                 |       h6bb024c_0         7.9 MB  tmap\n",
            "    openssl-1.1.1k             |       h27cfd23_0         2.5 MB\n",
            "    tmap-1.0.4                 |   py37h6bb024c_0         1.1 MB  tmap\n",
            "    ------------------------------------------------------------\n",
            "                                           Total:        14.6 MB\n",
            "\n",
            "The following NEW packages will be INSTALLED:\n",
            "\n",
            "  ogdf               tmap/linux-64::ogdf-1.0.1-h6bb024c_0\n",
            "  tmap               tmap/linux-64::tmap-1.0.4-py37h6bb024c_0\n",
            "\n",
            "The following packages will be UPDATED:\n",
            "\n",
            "  ca-certificates    conda-forge::ca-certificates-2020.12.~ --> pkgs/main::ca-certificates-2021.4.13-h06a4308_1\n",
            "  conda              conda-forge::conda-4.9.2-py37h89c1867~ --> pkgs/main::conda-4.10.1-py37h06a4308_1\n",
            "  openssl            conda-forge::openssl-1.1.1j-h7f98852_0 --> pkgs/main::openssl-1.1.1k-h27cfd23_0\n",
            "\n",
            "The following packages will be SUPERSEDED by a higher-priority channel:\n",
            "\n",
            "  certifi            conda-forge::certifi-2020.12.5-py37h8~ --> pkgs/main::certifi-2020.12.5-py37h06a4308_0\n",
            "\n",
            "\n",
            "\n",
            "Downloading and Extracting Packages\n",
            "ogdf-1.0.1           | 7.9 MB    | : 100% 1.0/1 [00:02<00:00,  2.57s/it]\n",
            "ca-certificates-2021 | 114 KB    | : 100% 1.0/1 [00:00<00:00,  4.89it/s]               \n",
            "tmap-1.0.4           | 1.1 MB    | : 100% 1.0/1 [00:00<00:00,  1.85it/s]\n",
            "conda-4.10.1         | 2.9 MB    | : 100% 1.0/1 [00:00<00:00,  2.64it/s]\n",
            "openssl-1.1.1k       | 2.5 MB    | : 100% 1.0/1 [00:00<00:00,  4.74it/s]\n",
            "certifi-2020.12.5    | 141 KB    | : 100% 1.0/1 [00:00<00:00, 12.08it/s]\n",
            "Preparing transaction: | \b\bdone\n",
            "Verifying transaction: - \b\b\\ \b\b| \b\bdone\n",
            "Executing transaction: - \b\b\\ \b\bdone\n"
          ]
        }
      ]
    },
    {
      "cell_type": "code",
      "metadata": {
        "colab": {
          "base_uri": "https://localhost:8080/"
        },
        "id": "o_Yhi1yTRz9m",
        "outputId": "9bfc508d-d20e-4f5e-da62-1bb31906049a"
      },
      "source": [
        "!pip install faerun"
      ],
      "execution_count": null,
      "outputs": [
        {
          "name": "stdout",
          "output_type": "stream",
          "text": [
            "Collecting faerun\n",
            "\u001b[?25l  Downloading https://files.pythonhosted.org/packages/23/96/b2fde2efd883ffca236e2563472fcdfa674ea9568a3ab7e9f283902d3d68/faerun-0.3.20-py3-none-any.whl (88kB)\n",
            "\r\u001b[K     |███▊                            | 10kB 9.4MB/s eta 0:00:01\r\u001b[K     |███████▍                        | 20kB 12.4MB/s eta 0:00:01\r\u001b[K     |███████████                     | 30kB 6.7MB/s eta 0:00:01\r\u001b[K     |██████████████▊                 | 40kB 4.8MB/s eta 0:00:01\r\u001b[K     |██████████████████▍             | 51kB 3.1MB/s eta 0:00:01\r\u001b[K     |██████████████████████          | 61kB 3.5MB/s eta 0:00:01\r\u001b[K     |█████████████████████████▉      | 71kB 3.7MB/s eta 0:00:01\r\u001b[K     |█████████████████████████████▌  | 81kB 3.8MB/s eta 0:00:01\r\u001b[K     |████████████████████████████████| 92kB 3.0MB/s \n",
            "\u001b[?25hRequirement already satisfied: pandas>=0.24.2 in /usr/local/lib/python3.7/dist-packages (from faerun) (1.1.5)\n",
            "Collecting colour>=0.1.5\n",
            "  Downloading https://files.pythonhosted.org/packages/74/46/e81907704ab203206769dee1385dc77e1407576ff8f50a0681d0a6b541be/colour-0.1.5-py2.py3-none-any.whl\n",
            "Collecting ujson>=1.35\n",
            "\u001b[?25l  Downloading https://files.pythonhosted.org/packages/17/4e/50e8e4cf5f00b537095711c2c86ac4d7191aed2b4fffd5a19f06898f6929/ujson-4.0.2-cp37-cp37m-manylinux1_x86_64.whl (179kB)\n",
            "\u001b[K     |████████████████████████████████| 184kB 4.8MB/s \n",
            "\u001b[?25hRequirement already satisfied: matplotlib>=3.0.2 in /usr/local/lib/python3.7/dist-packages (from faerun) (3.2.2)\n",
            "Requirement already satisfied: Jinja2>=2.10 in /usr/local/lib/python3.7/dist-packages (from faerun) (2.11.3)\n",
            "Collecting CherryPy>=18.1.0\n",
            "\u001b[?25l  Downloading https://files.pythonhosted.org/packages/a8/f9/e11f893dcabe6bc222a1442bf5e14f0322a2d363c92910ed41947078a35a/CherryPy-18.6.0-py2.py3-none-any.whl (419kB)\n",
            "\u001b[K     |████████████████████████████████| 419kB 5.0MB/s \n",
            "\u001b[?25hRequirement already satisfied: numpy>=1.15.4 in /usr/local/lib/python3.7/dist-packages (from faerun) (1.19.5)\n",
            "Requirement already satisfied: python-dateutil>=2.7.3 in /usr/local/lib/python3.7/dist-packages (from pandas>=0.24.2->faerun) (2.8.1)\n",
            "Requirement already satisfied: pytz>=2017.2 in /usr/local/lib/python3.7/dist-packages (from pandas>=0.24.2->faerun) (2018.9)\n",
            "Requirement already satisfied: pyparsing!=2.0.4,!=2.1.2,!=2.1.6,>=2.0.1 in /usr/local/lib/python3.7/dist-packages (from matplotlib>=3.0.2->faerun) (2.4.7)\n",
            "Requirement already satisfied: cycler>=0.10 in /usr/local/lib/python3.7/dist-packages (from matplotlib>=3.0.2->faerun) (0.10.0)\n",
            "Requirement already satisfied: kiwisolver>=1.0.1 in /usr/local/lib/python3.7/dist-packages (from matplotlib>=3.0.2->faerun) (1.3.1)\n",
            "Requirement already satisfied: MarkupSafe>=0.23 in /usr/local/lib/python3.7/dist-packages (from Jinja2>=2.10->faerun) (2.0.0)\n",
            "Collecting jaraco.collections\n",
            "  Downloading https://files.pythonhosted.org/packages/d5/1a/a0d6861d2aca6df92643c755966c8a60e40353e4c5e7a5c2f4e5ed733817/jaraco.collections-3.3.0-py3-none-any.whl\n",
            "Collecting portend>=2.1.1\n",
            "  Downloading https://files.pythonhosted.org/packages/b8/a1/fd29409cced540facdd29abb986d988cb1f22c8170d10022ea73af77fa55/portend-2.7.1-py3-none-any.whl\n",
            "Requirement already satisfied: more-itertools in /usr/local/lib/python3.7/dist-packages (from CherryPy>=18.1.0->faerun) (8.7.0)\n",
            "Collecting zc.lockfile\n",
            "  Downloading https://files.pythonhosted.org/packages/6c/2a/268389776288f0f26c7272c70c36c96dcc0bdb88ab6216ea18e19df1fadd/zc.lockfile-2.0-py2.py3-none-any.whl\n",
            "Collecting cheroot>=8.2.1\n",
            "\u001b[?25l  Downloading https://files.pythonhosted.org/packages/46/95/86fe6480af78fea7b0e7e1bf02e6acd4cb9e561ea200bd6d6e1398fe5426/cheroot-8.5.2-py2.py3-none-any.whl (97kB)\n",
            "\u001b[K     |████████████████████████████████| 102kB 5.4MB/s \n",
            "\u001b[?25hRequirement already satisfied: six>=1.5 in /usr/local/lib/python3.7/dist-packages (from python-dateutil>=2.7.3->pandas>=0.24.2->faerun) (1.15.0)\n",
            "Collecting jaraco.text\n",
            "  Downloading https://files.pythonhosted.org/packages/c1/74/2a3c4835c079df16db8a9c50263eebb0125849fee5b16de353a059b7545d/jaraco.text-3.5.0-py3-none-any.whl\n",
            "Collecting jaraco.classes\n",
            "  Downloading https://files.pythonhosted.org/packages/b8/74/bee5fc11594974746535117546404678fc7b899476e769c3c55bc0cfaa02/jaraco.classes-3.2.1-py3-none-any.whl\n",
            "Collecting tempora>=1.8\n",
            "  Downloading https://files.pythonhosted.org/packages/44/83/4d5c3de53bbc463f30ab6764e27bc2e8ed9b59736e8b40d95403ff802008/tempora-4.0.2-py3-none-any.whl\n",
            "Requirement already satisfied: setuptools in /usr/local/lib/python3.7/dist-packages (from zc.lockfile->CherryPy>=18.1.0->faerun) (56.1.0)\n",
            "Collecting jaraco.functools\n",
            "  Downloading https://files.pythonhosted.org/packages/b5/da/e51e7b58c8fe132990edd1e3ef25bcd9801eb7f91d0f642ac7f8d97e4a36/jaraco.functools-3.3.0-py3-none-any.whl\n",
            "Installing collected packages: colour, ujson, jaraco.functools, jaraco.text, jaraco.classes, jaraco.collections, tempora, portend, zc.lockfile, cheroot, CherryPy, faerun\n",
            "Successfully installed CherryPy-18.6.0 cheroot-8.5.2 colour-0.1.5 faerun-0.3.20 jaraco.classes-3.2.1 jaraco.collections-3.3.0 jaraco.functools-3.3.0 jaraco.text-3.5.0 portend-2.7.1 tempora-4.0.2 ujson-4.0.2 zc.lockfile-2.0\n"
          ]
        }
      ]
    },
    {
      "cell_type": "code",
      "metadata": {
        "colab": {
          "base_uri": "https://localhost:8080/",
          "height": 296
        },
        "id": "1rU4ST48R_nJ",
        "outputId": "99ca5a7c-7bef-4d4f-a824-0447d518f054"
      },
      "source": [
        "import tmap as tm\n",
        "import numpy as np\n",
        "from matplotlib import pyplot as plt\n",
        "\n",
        "\n",
        "def main():\n",
        "    \"\"\" Main function \"\"\"\n",
        "\n",
        "    n = 25\n",
        "    edge_list = []\n",
        "\n",
        "    # Create a random graph\n",
        "    for i in range(n):\n",
        "        for j in np.random.randint(0, high=n, size=2):\n",
        "            edge_list.append([i, j, np.random.rand(1)])\n",
        "\n",
        "    # Compute the layout\n",
        "    x, y, s, t, _ = tm.layout_from_edge_list(\n",
        "        n, edge_list, create_mst=False\n",
        "    )\n",
        "\n",
        "    # Plot the edges\n",
        "    for i in range(len(s)):\n",
        "        plt.plot(\n",
        "            [x[s[i]], x[t[i]]],\n",
        "            [y[s[i]], y[t[i]]],\n",
        "            \"k-\",\n",
        "            linewidth=0.5,\n",
        "            alpha=0.5,\n",
        "            zorder=1,\n",
        "        )\n",
        "\n",
        "    # Plot the vertices\n",
        "    plt.scatter(x, y, zorder=2)\n",
        "    plt.tight_layout()\n",
        "    #plt.savefig(\"simple_graph.png\")\n",
        "\n",
        "\n",
        "if __name__ == \"__main__\":\n",
        "    main()"
      ],
      "execution_count": null,
      "outputs": [
        {
          "data": {
            "image/png": "[encoded data removed]",
            "text/plain": [
              "<Figure size 432x288 with 1 Axes>"
            ]
          },
          "metadata": {
            "tags": []
          },
          "output_type": "display_data"
        }
      ]
    },
    {
      "cell_type": "code",
      "metadata": {
        "colab": {
          "base_uri": "https://localhost:8080/"
        },
        "id": "tCXe3NHbdFqE",
        "outputId": "369d08c2-1c2d-4126-b8f2-e99812fae773"
      },
      "source": [
        "cocrystals.smiles1.str.cat(cocrystals.smiles2)"
      ],
      "execution_count": null,
      "outputs": [
        {
          "data": {
            "text/plain": [
              "0           Nc1ccc(I)cc1O=N(=O)c1cc(cc(c1)N(=O)=O)N(=O)=O\n",
              "1       ClC1=C(Cl)C(=O)C(=C(Cl)C1=O)ClCc1c(C)c(C)c(C)c...\n",
              "2                   CN1C=Nc2c(N)ncnc12CN1C=C(C)C(=O)NC1=O\n",
              "3       c1cc2cccc3c4cccc5cccc(c(c1)c23)c45FC1=C(F)C(=O...\n",
              "4       c1ccc2cc3ccccc3cc2c1O=N(=O)c1cc(cc(c1)N(=O)=O)...\n",
              "                              ...                        \n",
              "7475               Cc1cccc2SC(=Nc12)NOC(=O)CCCCCCCCC(O)=O\n",
              "7476    Cc1cccc2SC(=Nc12)NOC(=O)CC(C(CC(O)=O)C(O)=O)C(...\n",
              "7477    O=P1(c2ccccc2)C2=C(SC=C2)C2=C1C=CS2Oc1c(O)c(Cl...\n",
              "7478    COc1cc(Cc2cnc(N)nc2N)cc(OC)c1OCc1cc(ccn1)N=Nc1...\n",
              "7479                                                  NaN\n",
              "Name: smiles1, Length: 7480, dtype: object"
            ]
          },
          "execution_count": 10,
          "metadata": {
            "tags": []
          },
          "output_type": "execute_result"
        }
      ]
    },
    {
      "cell_type": "code",
      "metadata": {
        "id": "9ypHtra-duMP"
      },
      "source": [
        "cols=['smiles1', 'smiles2']\n",
        "df = cocrystals[cols].apply(lambda row: '.'.join(row.values.astype(str)), axis=1)"
      ],
      "execution_count": null,
      "outputs": []
    },
    {
      "cell_type": "code",
      "metadata": {
        "colab": {
          "base_uri": "https://localhost:8080/",
          "height": 327
        },
        "id": "_YsTsjrhc8fU",
        "outputId": "d2ded0f5-2222-4f60-d180-33c781f50434"
      },
      "source": [
        "import pickle\n",
        "from timeit import default_timer as timer\n",
        "\n",
        "import numpy as np\n",
        "import pandas as pd\n",
        "import tmap as tm\n",
        "\n",
        "from faerun import Faerun\n",
        "\n",
        "\n",
        "def main():\n",
        "    \"\"\" Main function \"\"\"\n",
        "\n",
        "    dims = 512\n",
        "    lf = tm.LSHForest(dims, 128, store=True)\n",
        "\n",
        "    # Due to the large data size (> 1GB) the following files are not provided directly\n",
        "    smiles = df.iloc[:-1].values\n",
        "    target_class = color\n",
        "    # = pickle.load(open(\"chembl.pickle\", \"rb\"))\n",
        "\n",
        "\n",
        "    target_class_map = dict(\n",
        "        [(y, x + 1) for x, y in enumerate(sorted(set(target_class)))]\n",
        "    )\n",
        "\n",
        "\n",
        "    cfg = tm.LayoutConfiguration()\n",
        "    cfg.node_size = 1 / 70\n",
        "    cfg.mmm_repeats = 2\n",
        "    cfg.sl_repeats = 2\n",
        "\n",
        "    start = timer()\n",
        "    x, y, s, t, _ = tm.layout_from_lsh_forest(lf, cfg)\n",
        "    end = timer()\n",
        "    print(end - start)\n",
        "\n",
        "    activity = np.array(activity)\n",
        "    activity = np.maximum(0.0, activity)\n",
        "    activity = np.minimum(100.0, activity)\n",
        "    activity = 10.0 - activity\n",
        "\n",
        "\n",
        "    vals = [int(target_class_map[x]) for x in target_class]\n",
        "\n",
        "    faerun = Faerun(view=\"front\", coords=False)\n",
        "    faerun.add_scatter(\n",
        "        \"chembl\",\n",
        "        {\"x\": x, \"y\": y, \"c\": vals, \"labels\": labels},\n",
        "        colormap=\"tab10\",\n",
        "        point_scale=1.0,\n",
        "        max_point_size=10,\n",
        "        has_legend=True,\n",
        "        categorical=True,\n",
        "        shader=\"sphere\",\n",
        "        legend_labels=legend_labels,\n",
        "        title_index=1,\n",
        "    )\n",
        "    faerun.add_tree(\n",
        "        \"chembl_tree\", {\"from\": s, \"to\": t}, point_helper=\"chembl\", color=\"#222222\"\n",
        "    )\n",
        "\n",
        "    faerun.plot(\"chembl\", template=\"smiles\")\n",
        "\n",
        "\n",
        "if __name__ == \"__main__\":\n",
        "    main()"
      ],
      "execution_count": null,
      "outputs": [
        {
          "ename": "NameError",
          "evalue": "ignored",
          "output_type": "error",
          "traceback": [
            "\u001b[0;31m---------------------------------------------------------------------------\u001b[0m",
            "\u001b[0;31mNameError\u001b[0m                                 Traceback (most recent call last)",
            "\u001b[0;32m<ipython-input-1-87a649208a87>\u001b[0m in \u001b[0;36m<module>\u001b[0;34m()\u001b[0m\n\u001b[1;32m     65\u001b[0m \u001b[0;34m\u001b[0m\u001b[0m\n\u001b[1;32m     66\u001b[0m \u001b[0;32mif\u001b[0m \u001b[0m__name__\u001b[0m \u001b[0;34m==\u001b[0m \u001b[0;34m\"__main__\"\u001b[0m\u001b[0;34m:\u001b[0m\u001b[0;34m\u001b[0m\u001b[0;34m\u001b[0m\u001b[0m\n\u001b[0;32m---> 67\u001b[0;31m     \u001b[0mmain\u001b[0m\u001b[0;34m(\u001b[0m\u001b[0;34m)\u001b[0m\u001b[0;34m\u001b[0m\u001b[0;34m\u001b[0m\u001b[0m\n\u001b[0m",
            "\u001b[0;32m<ipython-input-1-87a649208a87>\u001b[0m in \u001b[0;36mmain\u001b[0;34m()\u001b[0m\n\u001b[1;32m     16\u001b[0m \u001b[0;34m\u001b[0m\u001b[0m\n\u001b[1;32m     17\u001b[0m     \u001b[0;31m# Due to the large data size (> 1GB) the following files are not provided directly\u001b[0m\u001b[0;34m\u001b[0m\u001b[0;34m\u001b[0m\u001b[0;34m\u001b[0m\u001b[0m\n\u001b[0;32m---> 18\u001b[0;31m     \u001b[0msmiles\u001b[0m \u001b[0;34m=\u001b[0m \u001b[0mdf\u001b[0m\u001b[0;34m.\u001b[0m\u001b[0miloc\u001b[0m\u001b[0;34m[\u001b[0m\u001b[0;34m:\u001b[0m\u001b[0;34m-\u001b[0m\u001b[0;36m1\u001b[0m\u001b[0;34m]\u001b[0m\u001b[0;34m.\u001b[0m\u001b[0mvalues\u001b[0m\u001b[0;34m\u001b[0m\u001b[0;34m\u001b[0m\u001b[0m\n\u001b[0m\u001b[1;32m     19\u001b[0m     \u001b[0mtarget_class\u001b[0m \u001b[0;34m=\u001b[0m \u001b[0mcolor\u001b[0m\u001b[0;34m\u001b[0m\u001b[0;34m\u001b[0m\u001b[0m\n\u001b[1;32m     20\u001b[0m     \u001b[0;31m# = pickle.load(open(\"chembl.pickle\", \"rb\"))\u001b[0m\u001b[0;34m\u001b[0m\u001b[0;34m\u001b[0m\u001b[0;34m\u001b[0m\u001b[0m\n",
            "\u001b[0;31mNameError\u001b[0m: name 'df' is not defined"
          ]
        }
      ]
    }
  ]
}